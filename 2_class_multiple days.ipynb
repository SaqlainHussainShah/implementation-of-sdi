{
  "nbformat": 4,
  "nbformat_minor": 0,
  "metadata": {
    "kernelspec": {
      "name": "python3",
      "display_name": "Python 3"
    },
    "language_info": {
      "codemirror_mode": {
        "name": "ipython",
        "version": 3
      },
      "file_extension": ".py",
      "mimetype": "text/x-python",
      "name": "python",
      "nbconvert_exporter": "python",
      "pygments_lexer": "ipython3",
      "version": "3.7.4"
    },
    "colab": {
      "name": "Copy of IDS Tuesday Multi days.ipynb",
      "provenance": [],
      "collapsed_sections": [
        "mnIez8TMya_Z",
        "_i-7iOgvybE-",
        "Mc0ewQf8ybFO",
        "xBUu_hAUybFW",
        "Xigg79GWybFi",
        "MRA2Ws3TybG7",
        "hRO8QuIGybIY"
      ],
      "include_colab_link": true
    },
    "accelerator": "GPU"
  },
  "cells": [
    {
      "cell_type": "markdown",
      "metadata": {
        "id": "view-in-github",
        "colab_type": "text"
      },
      "source": [
        "<a href=\"https://colab.research.google.com/github/SaqlainHussainShah/implementation-of-sdi/blob/master/2_class_multiple%20days.ipynb\" target=\"_parent\"><img src=\"https://colab.research.google.com/assets/colab-badge.svg\" alt=\"Open In Colab\"/></a>"
      ]
    },
    {
      "cell_type": "markdown",
      "metadata": {
        "id": "A_uBy9pAya1N",
        "colab_type": "text"
      },
      "source": [
        "# This notebook is intended to apply ML algorithms on IDS dataset for multiclass classification"
      ]
    },
    {
      "cell_type": "markdown",
      "metadata": {
        "id": "t3rXuCA0ya1c",
        "colab_type": "text"
      },
      "source": [
        "##### Steps Followed\n",
        "   1. Data Cleansing\n",
        "   2. Feature selection\n",
        "   3. Creation of Train/Test data\n",
        "   4. Implementation of ML Algorithms\n",
        "   5. Evalutaion"
      ]
    },
    {
      "cell_type": "code",
      "metadata": {
        "id": "Tq4oAUHzya1s",
        "colab_type": "code",
        "colab": {}
      },
      "source": [
        "\n",
        "import pandas as pd\n",
        "import matplotlib.pyplot as plt\n",
        "import numpy as np\n",
        "import time\n",
        "from sklearn.metrics import accuracy_score\n",
        "\n",
        "# import pickle\n",
        "# from sklearn.naive_bayes import BernoulliNB\n",
        "# from sklearn.naive_bayes import GaussianNB\n",
        "# from sklearn.neighbors import KNeighborsClassifier\n",
        "# from sklearn.model_selection import train_test_split     # import module for train test split"
      ],
      "execution_count": 0,
      "outputs": []
    },
    {
      "cell_type": "code",
      "metadata": {
        "id": "ghRyUBQEs-9k",
        "colab_type": "code",
        "outputId": "10a1a760-6dba-4103-ded9-0b54c0b495ec",
        "colab": {
          "base_uri": "https://localhost:8080/",
          "height": 367
        }
      },
      "source": [
        "!pip install modin[dask]"
      ],
      "execution_count": 0,
      "outputs": [
        {
          "output_type": "stream",
          "text": [
            "Requirement already satisfied: modin[dask] in /usr/local/lib/python3.6/dist-packages (0.6.3)\n",
            "Requirement already satisfied: pandas==0.25.3 in /usr/local/lib/python3.6/dist-packages (from modin[dask]) (0.25.3)\n",
            "Requirement already satisfied: dask>=2.1.0; extra == \"dask\" in /usr/local/lib/python3.6/dist-packages (from modin[dask]) (2.8.0)\n",
            "Requirement already satisfied: distributed>=2.3.2; extra == \"dask\" in /usr/local/lib/python3.6/dist-packages (from modin[dask]) (2.8.0)\n",
            "Requirement already satisfied: numpy>=1.13.3 in /usr/local/lib/python3.6/dist-packages (from pandas==0.25.3->modin[dask]) (1.17.4)\n",
            "Requirement already satisfied: python-dateutil>=2.6.1 in /usr/local/lib/python3.6/dist-packages (from pandas==0.25.3->modin[dask]) (2.6.1)\n",
            "Requirement already satisfied: pytz>=2017.2 in /usr/local/lib/python3.6/dist-packages (from pandas==0.25.3->modin[dask]) (2018.9)\n",
            "Requirement already satisfied: sortedcontainers!=2.0.0,!=2.0.1 in /usr/local/lib/python3.6/dist-packages (from distributed>=2.3.2; extra == \"dask\"->modin[dask]) (2.1.0)\n",
            "Requirement already satisfied: toolz>=0.7.4 in /usr/local/lib/python3.6/dist-packages (from distributed>=2.3.2; extra == \"dask\"->modin[dask]) (0.10.0)\n",
            "Requirement already satisfied: pyyaml in /usr/local/lib/python3.6/dist-packages (from distributed>=2.3.2; extra == \"dask\"->modin[dask]) (3.13)\n",
            "Requirement already satisfied: tblib in /usr/local/lib/python3.6/dist-packages (from distributed>=2.3.2; extra == \"dask\"->modin[dask]) (1.5.0)\n",
            "Requirement already satisfied: cloudpickle>=0.2.2 in /usr/local/lib/python3.6/dist-packages (from distributed>=2.3.2; extra == \"dask\"->modin[dask]) (1.2.2)\n",
            "Requirement already satisfied: msgpack in /usr/local/lib/python3.6/dist-packages (from distributed>=2.3.2; extra == \"dask\"->modin[dask]) (0.5.6)\n",
            "Requirement already satisfied: click>=6.6 in /usr/local/lib/python3.6/dist-packages (from distributed>=2.3.2; extra == \"dask\"->modin[dask]) (7.0)\n",
            "Requirement already satisfied: tornado>=5 in /usr/local/lib/python3.6/dist-packages (from distributed>=2.3.2; extra == \"dask\"->modin[dask]) (6.0.3)\n",
            "Requirement already satisfied: psutil>=5.0 in /usr/local/lib/python3.6/dist-packages (from distributed>=2.3.2; extra == \"dask\"->modin[dask]) (5.4.8)\n",
            "Requirement already satisfied: zict>=0.1.3 in /usr/local/lib/python3.6/dist-packages (from distributed>=2.3.2; extra == \"dask\"->modin[dask]) (1.0.0)\n",
            "Requirement already satisfied: six>=1.5 in /usr/local/lib/python3.6/dist-packages (from python-dateutil>=2.6.1->pandas==0.25.3->modin[dask]) (1.12.0)\n",
            "Requirement already satisfied: heapdict in /usr/local/lib/python3.6/dist-packages (from zict>=0.1.3->distributed>=2.3.2; extra == \"dask\"->modin[dask]) (1.0.1)\n"
          ],
          "name": "stdout"
        }
      ]
    },
    {
      "cell_type": "code",
      "metadata": {
        "id": "0KEnbVBQtRa7",
        "colab_type": "code",
        "outputId": "8fbbd5fe-971e-4816-c37b-dbf875dbe17d",
        "colab": {
          "base_uri": "https://localhost:8080/",
          "height": 312
        }
      },
      "source": [
        "!pip install ray"
      ],
      "execution_count": 0,
      "outputs": [
        {
          "output_type": "stream",
          "text": [
            "Requirement already satisfied: ray in /usr/local/lib/python3.6/dist-packages (0.7.3)\n",
            "Requirement already satisfied: colorama in /usr/local/lib/python3.6/dist-packages (from ray) (0.4.1)\n",
            "Requirement already satisfied: protobuf>=3.8.0 in /usr/local/lib/python3.6/dist-packages (from ray) (3.10.0)\n",
            "Requirement already satisfied: six>=1.0.0 in /usr/local/lib/python3.6/dist-packages (from ray) (1.12.0)\n",
            "Requirement already satisfied: click in /usr/local/lib/python3.6/dist-packages (from ray) (7.0)\n",
            "Requirement already satisfied: numpy>=1.14 in /usr/local/lib/python3.6/dist-packages (from ray) (1.17.4)\n",
            "Requirement already satisfied: pyyaml in /usr/local/lib/python3.6/dist-packages (from ray) (3.13)\n",
            "Requirement already satisfied: redis in /usr/local/lib/python3.6/dist-packages (from ray) (3.3.11)\n",
            "Requirement already satisfied: pytest in /usr/local/lib/python3.6/dist-packages (from ray) (3.6.4)\n",
            "Requirement already satisfied: funcsigs in /usr/local/lib/python3.6/dist-packages (from ray) (1.0.2)\n",
            "Requirement already satisfied: filelock in /usr/local/lib/python3.6/dist-packages (from ray) (3.0.12)\n",
            "Requirement already satisfied: setuptools in /usr/local/lib/python3.6/dist-packages (from protobuf>=3.8.0->ray) (41.6.0)\n",
            "Requirement already satisfied: atomicwrites>=1.0 in /usr/local/lib/python3.6/dist-packages (from pytest->ray) (1.3.0)\n",
            "Requirement already satisfied: py>=1.5.0 in /usr/local/lib/python3.6/dist-packages (from pytest->ray) (1.8.0)\n",
            "Requirement already satisfied: more-itertools>=4.0.0 in /usr/local/lib/python3.6/dist-packages (from pytest->ray) (7.2.0)\n",
            "Requirement already satisfied: pluggy<0.8,>=0.5 in /usr/local/lib/python3.6/dist-packages (from pytest->ray) (0.7.1)\n",
            "Requirement already satisfied: attrs>=17.4.0 in /usr/local/lib/python3.6/dist-packages (from pytest->ray) (19.3.0)\n"
          ],
          "name": "stdout"
        }
      ]
    },
    {
      "cell_type": "code",
      "metadata": {
        "id": "tcUHaUNwy965",
        "colab_type": "code",
        "outputId": "33173f5e-8bd1-4cd7-d763-ab576f7f2f85",
        "colab": {
          "base_uri": "https://localhost:8080/",
          "height": 228
        }
      },
      "source": [
        "!wget https://drive.google.com/file/d/1CJFetg9IimXxn1l_9svZfGy6gWzZ81uc/view?usp=sharing"
      ],
      "execution_count": 0,
      "outputs": [
        {
          "output_type": "stream",
          "text": [
            "--2019-11-18 09:15:50--  https://drive.google.com/file/d/1CJFetg9IimXxn1l_9svZfGy6gWzZ81uc/view?usp=sharing\n",
            "Resolving drive.google.com (drive.google.com)... 64.233.189.102, 64.233.189.101, 64.233.189.100, ...\n",
            "Connecting to drive.google.com (drive.google.com)|64.233.189.102|:443... connected.\n",
            "HTTP request sent, awaiting response... 200 OK\n",
            "Length: unspecified [text/html]\n",
            "Saving to: ‘view?usp=sharing’\n",
            "\n",
            "\rview?usp=sharing        [<=>                 ]       0  --.-KB/s               \rview?usp=sharing        [ <=>                ]  66.46K  --.-KB/s    in 0.1s    \n",
            "\n",
            "2019-11-18 09:15:51 (553 KB/s) - ‘view?usp=sharing’ saved [68058]\n",
            "\n"
          ],
          "name": "stdout"
        }
      ]
    },
    {
      "cell_type": "markdown",
      "metadata": {
        "id": "j2t3D-vUya2T",
        "colab_type": "text"
      },
      "source": [
        "## 1. Data Cleansing"
      ]
    },
    {
      "cell_type": "code",
      "metadata": {
        "id": "c9GDILkZywPT",
        "colab_type": "code",
        "outputId": "b0442542-63fc-48c8-f850-6718c783aa5c",
        "colab": {
          "base_uri": "https://localhost:8080/",
          "height": 124
        }
      },
      "source": [
        "from google.colab import drive\n",
        "drive.mount('/content/drive')"
      ],
      "execution_count": 2,
      "outputs": [
        {
          "output_type": "stream",
          "text": [
            "Go to this URL in a browser: https://accounts.google.com/o/oauth2/auth?client_id=947318989803-6bn6qk8qdgf4n4g3pfee6491hc0brc4i.apps.googleusercontent.com&redirect_uri=urn%3aietf%3awg%3aoauth%3a2.0%3aoob&response_type=code&scope=email%20https%3a%2f%2fwww.googleapis.com%2fauth%2fdocs.test%20https%3a%2f%2fwww.googleapis.com%2fauth%2fdrive%20https%3a%2f%2fwww.googleapis.com%2fauth%2fdrive.photos.readonly%20https%3a%2f%2fwww.googleapis.com%2fauth%2fpeopleapi.readonly\n",
            "\n",
            "Enter your authorization code:\n",
            "··········\n",
            "Mounted at /content/drive\n"
          ],
          "name": "stdout"
        }
      ]
    },
    {
      "cell_type": "code",
      "metadata": {
        "id": "9hWiiZFi0xda",
        "colab_type": "code",
        "outputId": "d3ce37ff-ad0e-495a-9c91-39daf0b1ab93",
        "colab": {
          "base_uri": "https://localhost:8080/",
          "height": 72
        }
      },
      "source": [
        "df=pd.read_csv(\"/content/drive/My Drive/multiclass-multidays.csv\")"
      ],
      "execution_count": 28,
      "outputs": [
        {
          "output_type": "stream",
          "text": [
            "/usr/local/lib/python3.6/dist-packages/IPython/core/interactiveshell.py:2718: DtypeWarning: Columns (5,9) have mixed types. Specify dtype option on import or set low_memory=False.\n",
            "  interactivity=interactivity, compiler=compiler, result=result)\n"
          ],
          "name": "stderr"
        }
      ]
    },
    {
      "cell_type": "code",
      "metadata": {
        "id": "i5RZBODaBRs3",
        "colab_type": "code",
        "outputId": "77447c7b-17a9-472f-8bde-508a25ce0f10",
        "colab": {
          "base_uri": "https://localhost:8080/",
          "height": 295
        }
      },
      "source": [
        "df[' Label'].value_counts()"
      ],
      "execution_count": 4,
      "outputs": [
        {
          "output_type": "execute_result",
          "data": {
            "text/plain": [
              "BENIGN                      2272688\n",
              "DoS Hulk                     230124\n",
              "PortScan                     158930\n",
              "DDoS                         128027\n",
              "DoS GoldenEye                 10293\n",
              "FTP-Patator                    7938\n",
              "SSH-Patator                    5897\n",
              "DoS slowloris                  5796\n",
              "DoS Slowhttptest               5499\n",
              "Bot                            1966\n",
              "Web Attack-Brute Force         1507\n",
              "Web Attack-XSS                  652\n",
              "Infiltration                     36\n",
              "Web Attack-Sql Injection         21\n",
              "Heartbleed                       11\n",
              "Name:  Label, dtype: int64"
            ]
          },
          "metadata": {
            "tags": []
          },
          "execution_count": 4
        }
      ]
    },
    {
      "cell_type": "code",
      "metadata": {
        "id": "EVVLChEXWsIh",
        "colab_type": "code",
        "colab": {
          "base_uri": "https://localhost:8080/",
          "height": 278
        },
        "outputId": "5daebbc0-2396-4d68-96bf-9df9fbaebde1"
      },
      "source": [
        "df.head()"
      ],
      "execution_count": 29,
      "outputs": [
        {
          "output_type": "execute_result",
          "data": {
            "text/html": [
              "<div>\n",
              "<style scoped>\n",
              "    .dataframe tbody tr th:only-of-type {\n",
              "        vertical-align: middle;\n",
              "    }\n",
              "\n",
              "    .dataframe tbody tr th {\n",
              "        vertical-align: top;\n",
              "    }\n",
              "\n",
              "    .dataframe thead th {\n",
              "        text-align: right;\n",
              "    }\n",
              "</style>\n",
              "<table border=\"1\" class=\"dataframe\">\n",
              "  <thead>\n",
              "    <tr style=\"text-align: right;\">\n",
              "      <th></th>\n",
              "      <th>Unnamed: 0</th>\n",
              "      <th>Fwd Packet Length Max</th>\n",
              "      <th>Flow IAT Std</th>\n",
              "      <th>Fwd Packet Length Std</th>\n",
              "      <th>Fwd IAT Total</th>\n",
              "      <th>Flow Packets/s</th>\n",
              "      <th>Flow Duration</th>\n",
              "      <th>Fwd Packet Length Mean</th>\n",
              "      <th>Total Length of Bwd Packets</th>\n",
              "      <th>Flow Bytes/s</th>\n",
              "      <th>Total Length of Fwd Packets</th>\n",
              "      <th>Flow IAT Mean</th>\n",
              "      <th>Bwd Packet Length Mean</th>\n",
              "      <th>Flow IAT Max</th>\n",
              "      <th>Bwd Packet Length Std</th>\n",
              "      <th>Total Fwd Packets</th>\n",
              "      <th>Total Backward Packets</th>\n",
              "      <th>Label</th>\n",
              "    </tr>\n",
              "  </thead>\n",
              "  <tbody>\n",
              "    <tr>\n",
              "      <th>0</th>\n",
              "      <td>0</td>\n",
              "      <td>403.0</td>\n",
              "      <td>5.798698e+06</td>\n",
              "      <td>204.724205</td>\n",
              "      <td>113000000.0</td>\n",
              "      <td>0.425755776</td>\n",
              "      <td>112740690</td>\n",
              "      <td>201.5</td>\n",
              "      <td>1152.0</td>\n",
              "      <td>67.41133126</td>\n",
              "      <td>6448.0</td>\n",
              "      <td>2.398738e+06</td>\n",
              "      <td>72.0</td>\n",
              "      <td>16400000.0</td>\n",
              "      <td>0.0</td>\n",
              "      <td>32</td>\n",
              "      <td>16</td>\n",
              "      <td>BENIGN</td>\n",
              "    </tr>\n",
              "    <tr>\n",
              "      <th>1</th>\n",
              "      <td>1</td>\n",
              "      <td>403.0</td>\n",
              "      <td>5.798710e+06</td>\n",
              "      <td>204.724205</td>\n",
              "      <td>113000000.0</td>\n",
              "      <td>0.425756267</td>\n",
              "      <td>112740560</td>\n",
              "      <td>201.5</td>\n",
              "      <td>5056.0</td>\n",
              "      <td>102.0395854</td>\n",
              "      <td>6448.0</td>\n",
              "      <td>2.398735e+06</td>\n",
              "      <td>316.0</td>\n",
              "      <td>16400000.0</td>\n",
              "      <td>0.0</td>\n",
              "      <td>32</td>\n",
              "      <td>16</td>\n",
              "      <td>BENIGN</td>\n",
              "    </tr>\n",
              "    <tr>\n",
              "      <th>2</th>\n",
              "      <td>2</td>\n",
              "      <td>0.0</td>\n",
              "      <td>1.395543e+06</td>\n",
              "      <td>0.000000</td>\n",
              "      <td>114000000.0</td>\n",
              "      <td>4.790898088</td>\n",
              "      <td>113757377</td>\n",
              "      <td>0.0</td>\n",
              "      <td>0.0</td>\n",
              "      <td>0</td>\n",
              "      <td>0.0</td>\n",
              "      <td>2.091128e+05</td>\n",
              "      <td>0.0</td>\n",
              "      <td>20800000.0</td>\n",
              "      <td>0.0</td>\n",
              "      <td>545</td>\n",
              "      <td>0</td>\n",
              "      <td>BENIGN</td>\n",
              "    </tr>\n",
              "    <tr>\n",
              "      <th>3</th>\n",
              "      <td>3</td>\n",
              "      <td>28.0</td>\n",
              "      <td>2.183302e+04</td>\n",
              "      <td>0.000000</td>\n",
              "      <td>100126.0</td>\n",
              "      <td>219.7231488</td>\n",
              "      <td>100126</td>\n",
              "      <td>28.0</td>\n",
              "      <td>0.0</td>\n",
              "      <td>6152.248167</td>\n",
              "      <td>616.0</td>\n",
              "      <td>4.767905e+03</td>\n",
              "      <td>0.0</td>\n",
              "      <td>100055.0</td>\n",
              "      <td>0.0</td>\n",
              "      <td>22</td>\n",
              "      <td>0</td>\n",
              "      <td>BENIGN</td>\n",
              "    </tr>\n",
              "    <tr>\n",
              "      <th>4</th>\n",
              "      <td>4</td>\n",
              "      <td>0.0</td>\n",
              "      <td>3.046984e+04</td>\n",
              "      <td>0.000000</td>\n",
              "      <td>54760.0</td>\n",
              "      <td>73.04601899</td>\n",
              "      <td>54760</td>\n",
              "      <td>0.0</td>\n",
              "      <td>0.0</td>\n",
              "      <td>0</td>\n",
              "      <td>0.0</td>\n",
              "      <td>1.825333e+04</td>\n",
              "      <td>0.0</td>\n",
              "      <td>53431.0</td>\n",
              "      <td>0.0</td>\n",
              "      <td>4</td>\n",
              "      <td>0</td>\n",
              "      <td>BENIGN</td>\n",
              "    </tr>\n",
              "  </tbody>\n",
              "</table>\n",
              "</div>"
            ],
            "text/plain": [
              "   Unnamed: 0   Fwd Packet Length Max  ...   Total Backward Packets   Label\n",
              "0           0                   403.0  ...                       16  BENIGN\n",
              "1           1                   403.0  ...                       16  BENIGN\n",
              "2           2                     0.0  ...                        0  BENIGN\n",
              "3           3                    28.0  ...                        0  BENIGN\n",
              "4           4                     0.0  ...                        0  BENIGN\n",
              "\n",
              "[5 rows x 18 columns]"
            ]
          },
          "metadata": {
            "tags": []
          },
          "execution_count": 29
        }
      ]
    },
    {
      "cell_type": "code",
      "metadata": {
        "id": "o81L1y9iBZX3",
        "colab_type": "code",
        "outputId": "518cecb3-85af-42fc-d35c-5bcfce08194b",
        "colab": {
          "base_uri": "https://localhost:8080/",
          "height": 416
        }
      },
      "source": [
        "df.info()"
      ],
      "execution_count": 0,
      "outputs": [
        {
          "output_type": "stream",
          "text": [
            "<class 'pandas.core.frame.DataFrame'>\n",
            "RangeIndex: 2829385 entries, 0 to 2829384\n",
            "Data columns (total 18 columns):\n",
            "Unnamed: 0                      int64\n",
            " Fwd Packet Length Max          float64\n",
            " Flow IAT Std                   float64\n",
            " Fwd Packet Length Std          float64\n",
            "Fwd IAT Total                   float64\n",
            " Flow Packets/s                 object\n",
            " Flow Duration                  int64\n",
            " Fwd Packet Length Mean         float64\n",
            " Total Length of Bwd Packets    float64\n",
            "Flow Bytes/s                    object\n",
            "Total Length of Fwd Packets     float64\n",
            " Flow IAT Mean                  float64\n",
            " Bwd Packet Length Mean         float64\n",
            " Flow IAT Max                   float64\n",
            " Bwd Packet Length Std          float64\n",
            " Total Fwd Packets              int64\n",
            " Total Backward Packets         int64\n",
            " Label                          object\n",
            "dtypes: float64(11), int64(4), object(3)\n",
            "memory usage: 388.6+ MB\n"
          ],
          "name": "stdout"
        }
      ]
    },
    {
      "cell_type": "markdown",
      "metadata": {
        "id": "tK8KWatzya2d",
        "colab_type": "text"
      },
      "source": [
        "#### read all csv files"
      ]
    },
    {
      "cell_type": "code",
      "metadata": {
        "id": "QvWDceGPya2p",
        "colab_type": "code",
        "outputId": "fe09d276-1599-463f-b877-042f242749d4",
        "colab": {}
      },
      "source": [
        "import glob\n",
        "t1=time.time()\n",
        "\n",
        "path = \"../dataset/TrafficLabelling\" # use your path\n",
        "all_files = glob.glob(path + \"/*.csv\")\n",
        "\n",
        "li = []\n",
        "\n",
        "for filename in all_files:\n",
        "    df = pd.read_csv(filename, index_col=None, header=0)\n",
        "    li.append(df)\n",
        "\n",
        "df = pd.concat(li, axis=0, ignore_index=True)\n",
        "t2=time.time()\n",
        "print(\"time taken to read All csv :: \", t2-t1, \" seconds \")"
      ],
      "execution_count": 0,
      "outputs": [
        {
          "output_type": "stream",
          "text": [
            "/home/ebryx/anaconda3/lib/python3.7/site-packages/IPython/core/interactiveshell.py:3058: DtypeWarning: Columns (20,21) have mixed types. Specify dtype option on import or set low_memory=False.\n",
            "  interactivity=interactivity, compiler=compiler, result=result)\n",
            "/home/ebryx/anaconda3/lib/python3.7/site-packages/IPython/core/interactiveshell.py:3058: DtypeWarning: Columns (20) have mixed types. Specify dtype option on import or set low_memory=False.\n",
            "  interactivity=interactivity, compiler=compiler, result=result)\n"
          ],
          "name": "stderr"
        },
        {
          "output_type": "stream",
          "text": [
            "time taken to read All csv ::  59.14720845222473  seconds \n"
          ],
          "name": "stdout"
        }
      ]
    },
    {
      "cell_type": "code",
      "metadata": {
        "id": "Ka6jrDZRya3K",
        "colab_type": "code",
        "outputId": "f462e34a-af96-4f7c-f2e5-e683de08ce2d",
        "colab": {
          "base_uri": "https://localhost:8080/",
          "height": 727
        }
      },
      "source": [
        "df.groupby(' Label').first()"
      ],
      "execution_count": 6,
      "outputs": [
        {
          "output_type": "execute_result",
          "data": {
            "text/html": [
              "<div>\n",
              "<style scoped>\n",
              "    .dataframe tbody tr th:only-of-type {\n",
              "        vertical-align: middle;\n",
              "    }\n",
              "\n",
              "    .dataframe tbody tr th {\n",
              "        vertical-align: top;\n",
              "    }\n",
              "\n",
              "    .dataframe thead th {\n",
              "        text-align: right;\n",
              "    }\n",
              "</style>\n",
              "<table border=\"1\" class=\"dataframe\">\n",
              "  <thead>\n",
              "    <tr style=\"text-align: right;\">\n",
              "      <th></th>\n",
              "      <th>Unnamed: 0</th>\n",
              "      <th>Fwd Packet Length Max</th>\n",
              "      <th>Flow IAT Std</th>\n",
              "      <th>Fwd Packet Length Std</th>\n",
              "      <th>Fwd IAT Total</th>\n",
              "      <th>Flow Packets/s</th>\n",
              "      <th>Flow Duration</th>\n",
              "      <th>Fwd Packet Length Mean</th>\n",
              "      <th>Total Length of Bwd Packets</th>\n",
              "      <th>Flow Bytes/s</th>\n",
              "      <th>Total Length of Fwd Packets</th>\n",
              "      <th>Flow IAT Mean</th>\n",
              "      <th>Bwd Packet Length Mean</th>\n",
              "      <th>Flow IAT Max</th>\n",
              "      <th>Bwd Packet Length Std</th>\n",
              "      <th>Total Fwd Packets</th>\n",
              "      <th>Total Backward Packets</th>\n",
              "    </tr>\n",
              "    <tr>\n",
              "      <th>Label</th>\n",
              "      <th></th>\n",
              "      <th></th>\n",
              "      <th></th>\n",
              "      <th></th>\n",
              "      <th></th>\n",
              "      <th></th>\n",
              "      <th></th>\n",
              "      <th></th>\n",
              "      <th></th>\n",
              "      <th></th>\n",
              "      <th></th>\n",
              "      <th></th>\n",
              "      <th></th>\n",
              "      <th></th>\n",
              "      <th></th>\n",
              "      <th></th>\n",
              "      <th></th>\n",
              "    </tr>\n",
              "  </thead>\n",
              "  <tbody>\n",
              "    <tr>\n",
              "      <th>BENIGN</th>\n",
              "      <td>0</td>\n",
              "      <td>403.0</td>\n",
              "      <td>5.798698e+06</td>\n",
              "      <td>204.724205</td>\n",
              "      <td>113000000.0</td>\n",
              "      <td>0.425755776</td>\n",
              "      <td>112740690</td>\n",
              "      <td>201.500000</td>\n",
              "      <td>1152.0</td>\n",
              "      <td>67.41133126</td>\n",
              "      <td>6448.0</td>\n",
              "      <td>2.398738e+06</td>\n",
              "      <td>72.000000</td>\n",
              "      <td>16400000.0</td>\n",
              "      <td>0.000000</td>\n",
              "      <td>32</td>\n",
              "      <td>16</td>\n",
              "    </tr>\n",
              "    <tr>\n",
              "      <th>Bot</th>\n",
              "      <td>24072</td>\n",
              "      <td>322.0</td>\n",
              "      <td>4.901981e+06</td>\n",
              "      <td>107.333333</td>\n",
              "      <td>51200000.0</td>\n",
              "      <td>0.29899021</td>\n",
              "      <td>60202640</td>\n",
              "      <td>35.777778</td>\n",
              "      <td>256.0</td>\n",
              "      <td>9.600907867</td>\n",
              "      <td>322.0</td>\n",
              "      <td>3.541332e+06</td>\n",
              "      <td>28.444444</td>\n",
              "      <td>10200000.0</td>\n",
              "      <td>85.333333</td>\n",
              "      <td>9</td>\n",
              "      <td>9</td>\n",
              "    </tr>\n",
              "    <tr>\n",
              "      <th>DDoS</th>\n",
              "      <td>209916</td>\n",
              "      <td>20.0</td>\n",
              "      <td>4.308658e+05</td>\n",
              "      <td>10.263203</td>\n",
              "      <td>747.0</td>\n",
              "      <td>7.72921768</td>\n",
              "      <td>1293792</td>\n",
              "      <td>8.666667</td>\n",
              "      <td>11607.0</td>\n",
              "      <td>8991.398927</td>\n",
              "      <td>26.0</td>\n",
              "      <td>1.437547e+05</td>\n",
              "      <td>1658.142857</td>\n",
              "      <td>1292730.0</td>\n",
              "      <td>2137.297080</td>\n",
              "      <td>3</td>\n",
              "      <td>7</td>\n",
              "    </tr>\n",
              "    <tr>\n",
              "      <th>DoS GoldenEye</th>\n",
              "      <td>2180471</td>\n",
              "      <td>341.0</td>\n",
              "      <td>1.768253e+06</td>\n",
              "      <td>170.500000</td>\n",
              "      <td>6531.0</td>\n",
              "      <td>1.796824293</td>\n",
              "      <td>5008837</td>\n",
              "      <td>85.250000</td>\n",
              "      <td>3525.0</td>\n",
              "      <td>771.8358572999999</td>\n",
              "      <td>341.0</td>\n",
              "      <td>6.261046e+05</td>\n",
              "      <td>705.000000</td>\n",
              "      <td>5002306.0</td>\n",
              "      <td>990.644740</td>\n",
              "      <td>4</td>\n",
              "      <td>5</td>\n",
              "    </tr>\n",
              "    <tr>\n",
              "      <th>DoS Hulk</th>\n",
              "      <td>1924298</td>\n",
              "      <td>382.0</td>\n",
              "      <td>2.291299e+02</td>\n",
              "      <td>220.547803</td>\n",
              "      <td>975.0</td>\n",
              "      <td>4792.332268</td>\n",
              "      <td>1878</td>\n",
              "      <td>127.333333</td>\n",
              "      <td>11595.0</td>\n",
              "      <td>6377529.286</td>\n",
              "      <td>382.0</td>\n",
              "      <td>2.347500e+02</td>\n",
              "      <td>1932.500000</td>\n",
              "      <td>577.0</td>\n",
              "      <td>2182.468304</td>\n",
              "      <td>3</td>\n",
              "      <td>6</td>\n",
              "    </tr>\n",
              "    <tr>\n",
              "      <th>DoS Slowhttptest</th>\n",
              "      <td>1918713</td>\n",
              "      <td>356.0</td>\n",
              "      <td>2.236413e+03</td>\n",
              "      <td>159.208040</td>\n",
              "      <td>16045.0</td>\n",
              "      <td>498.597694</td>\n",
              "      <td>16045</td>\n",
              "      <td>71.200000</td>\n",
              "      <td>1964.0</td>\n",
              "      <td>144593.3313</td>\n",
              "      <td>356.0</td>\n",
              "      <td>2.292143e+03</td>\n",
              "      <td>654.666667</td>\n",
              "      <td>5415.0</td>\n",
              "      <td>1133.915929</td>\n",
              "      <td>5</td>\n",
              "      <td>3</td>\n",
              "    </tr>\n",
              "    <tr>\n",
              "      <th>DoS slowloris</th>\n",
              "      <td>1855996</td>\n",
              "      <td>410.0</td>\n",
              "      <td>1.368409e+06</td>\n",
              "      <td>185.758628</td>\n",
              "      <td>218783.0</td>\n",
              "      <td>2.707953414</td>\n",
              "      <td>5169956</td>\n",
              "      <td>137.625000</td>\n",
              "      <td>4222.0</td>\n",
              "      <td>1029.602573</td>\n",
              "      <td>1101.0</td>\n",
              "      <td>3.976889e+05</td>\n",
              "      <td>703.666667</td>\n",
              "      <td>4951173.0</td>\n",
              "      <td>1395.868284</td>\n",
              "      <td>8</td>\n",
              "      <td>6</td>\n",
              "    </tr>\n",
              "    <tr>\n",
              "      <th>FTP-Patator</th>\n",
              "      <td>1414876</td>\n",
              "      <td>0.0</td>\n",
              "      <td>3.010454e+06</td>\n",
              "      <td>0.000000</td>\n",
              "      <td>5216127.0</td>\n",
              "      <td>0.766852494</td>\n",
              "      <td>5216127</td>\n",
              "      <td>0.000000</td>\n",
              "      <td>0.0</td>\n",
              "      <td>0</td>\n",
              "      <td>0.0</td>\n",
              "      <td>1.738709e+06</td>\n",
              "      <td>0.000000</td>\n",
              "      <td>5214882.0</td>\n",
              "      <td>0.000000</td>\n",
              "      <td>3</td>\n",
              "      <td>1</td>\n",
              "    </tr>\n",
              "    <tr>\n",
              "      <th>Heartbleed</th>\n",
              "      <td>2446568</td>\n",
              "      <td>517.0</td>\n",
              "      <td>1.746258e+05</td>\n",
              "      <td>16.858421</td>\n",
              "      <td>119000000.0</td>\n",
              "      <td>36.99831575</td>\n",
              "      <td>119302728</td>\n",
              "      <td>3.090875</td>\n",
              "      <td>7556917.0</td>\n",
              "      <td>63411.92802</td>\n",
              "      <td>8299.0</td>\n",
              "      <td>2.703438e+04</td>\n",
              "      <td>4370.686524</td>\n",
              "      <td>5024984.0</td>\n",
              "      <td>2566.935004</td>\n",
              "      <td>2685</td>\n",
              "      <td>1729</td>\n",
              "    </tr>\n",
              "    <tr>\n",
              "      <th>Infiltration</th>\n",
              "      <td>2608524</td>\n",
              "      <td>93.0</td>\n",
              "      <td>1.340000e+07</td>\n",
              "      <td>38.861292</td>\n",
              "      <td>255908.0</td>\n",
              "      <td>0.257828191</td>\n",
              "      <td>42664070</td>\n",
              "      <td>28.200000</td>\n",
              "      <td>291.0</td>\n",
              "      <td>10.12561624</td>\n",
              "      <td>141.0</td>\n",
              "      <td>4.266407e+06</td>\n",
              "      <td>48.500000</td>\n",
              "      <td>42400000.0</td>\n",
              "      <td>107.069603</td>\n",
              "      <td>5</td>\n",
              "      <td>6</td>\n",
              "    </tr>\n",
              "    <tr>\n",
              "      <th>PortScan</th>\n",
              "      <td>418241</td>\n",
              "      <td>356.0</td>\n",
              "      <td>1.568379e+06</td>\n",
              "      <td>181.536131</td>\n",
              "      <td>55401.0</td>\n",
              "      <td>2.190772903</td>\n",
              "      <td>5021059</td>\n",
              "      <td>117.166667</td>\n",
              "      <td>1414.0</td>\n",
              "      <td>421.6242032</td>\n",
              "      <td>703.0</td>\n",
              "      <td>5.021059e+05</td>\n",
              "      <td>282.800000</td>\n",
              "      <td>4965658.0</td>\n",
              "      <td>456.923626</td>\n",
              "      <td>6</td>\n",
              "      <td>5</td>\n",
              "    </tr>\n",
              "    <tr>\n",
              "      <th>SSH-Patator</th>\n",
              "      <td>1565518</td>\n",
              "      <td>0.0</td>\n",
              "      <td>0.000000e+00</td>\n",
              "      <td>0.000000</td>\n",
              "      <td>404.0</td>\n",
              "      <td>4950.49505</td>\n",
              "      <td>404</td>\n",
              "      <td>0.000000</td>\n",
              "      <td>0.0</td>\n",
              "      <td>0</td>\n",
              "      <td>0.0</td>\n",
              "      <td>4.040000e+02</td>\n",
              "      <td>0.000000</td>\n",
              "      <td>404.0</td>\n",
              "      <td>0.000000</td>\n",
              "      <td>2</td>\n",
              "      <td>0</td>\n",
              "    </tr>\n",
              "    <tr>\n",
              "      <th>Web Attack-Brute Force</th>\n",
              "      <td>1245800</td>\n",
              "      <td>372.0</td>\n",
              "      <td>1.372181e+06</td>\n",
              "      <td>184.078788</td>\n",
              "      <td>221162.0</td>\n",
              "      <td>2.700034985</td>\n",
              "      <td>5185118</td>\n",
              "      <td>146.000000</td>\n",
              "      <td>2321.0</td>\n",
              "      <td>644.7297824</td>\n",
              "      <td>1022.0</td>\n",
              "      <td>3.988552e+05</td>\n",
              "      <td>331.571429</td>\n",
              "      <td>4963956.0</td>\n",
              "      <td>439.659284</td>\n",
              "      <td>7</td>\n",
              "      <td>7</td>\n",
              "    </tr>\n",
              "    <tr>\n",
              "      <th>Web Attack-Sql Injection</th>\n",
              "      <td>1323456</td>\n",
              "      <td>447.0</td>\n",
              "      <td>1.889620e+06</td>\n",
              "      <td>223.500000</td>\n",
              "      <td>5712.0</td>\n",
              "      <td>1.59804176</td>\n",
              "      <td>5006127</td>\n",
              "      <td>111.750000</td>\n",
              "      <td>530.0</td>\n",
              "      <td>195.1608499</td>\n",
              "      <td>447.0</td>\n",
              "      <td>7.151610e+05</td>\n",
              "      <td>132.500000</td>\n",
              "      <td>5000415.0</td>\n",
              "      <td>265.000000</td>\n",
              "      <td>4</td>\n",
              "      <td>4</td>\n",
              "    </tr>\n",
              "    <tr>\n",
              "      <th>Web Attack-XSS</th>\n",
              "      <td>1305297</td>\n",
              "      <td>0.0</td>\n",
              "      <td>3.254753e+06</td>\n",
              "      <td>0.000000</td>\n",
              "      <td>5638432.0</td>\n",
              "      <td>0.709417086</td>\n",
              "      <td>5638432</td>\n",
              "      <td>0.000000</td>\n",
              "      <td>0.0</td>\n",
              "      <td>0</td>\n",
              "      <td>0.0</td>\n",
              "      <td>1.879477e+06</td>\n",
              "      <td>0.000000</td>\n",
              "      <td>5637742.0</td>\n",
              "      <td>0.000000</td>\n",
              "      <td>3</td>\n",
              "      <td>1</td>\n",
              "    </tr>\n",
              "  </tbody>\n",
              "</table>\n",
              "</div>"
            ],
            "text/plain": [
              "                          Unnamed: 0  ...   Total Backward Packets\n",
              " Label                                ...                         \n",
              "BENIGN                             0  ...                       16\n",
              "Bot                            24072  ...                        9\n",
              "DDoS                          209916  ...                        7\n",
              "DoS GoldenEye                2180471  ...                        5\n",
              "DoS Hulk                     1924298  ...                        6\n",
              "DoS Slowhttptest             1918713  ...                        3\n",
              "DoS slowloris                1855996  ...                        6\n",
              "FTP-Patator                  1414876  ...                        1\n",
              "Heartbleed                   2446568  ...                     1729\n",
              "Infiltration                 2608524  ...                        6\n",
              "PortScan                      418241  ...                        5\n",
              "SSH-Patator                  1565518  ...                        0\n",
              "Web Attack-Brute Force       1245800  ...                        7\n",
              "Web Attack-Sql Injection     1323456  ...                        4\n",
              "Web Attack-XSS               1305297  ...                        1\n",
              "\n",
              "[15 rows x 17 columns]"
            ]
          },
          "metadata": {
            "tags": []
          },
          "execution_count": 6
        }
      ]
    },
    {
      "cell_type": "code",
      "metadata": {
        "id": "BBzVeslMya3p",
        "colab_type": "code",
        "outputId": "3c164315-4264-4975-c23b-5443663e1509",
        "colab": {}
      },
      "source": [
        "import statistics \n",
        "\n",
        "a=df_tuesday[df_tuesday[' Label']=='BENIGN'][' Bwd Packet Length Std']\n",
        "\n",
        "# statistics.variance()\n",
        "type(a)"
      ],
      "execution_count": 0,
      "outputs": [
        {
          "output_type": "execute_result",
          "data": {
            "text/plain": [
              "pandas.core.series.Series"
            ]
          },
          "metadata": {
            "tags": []
          },
          "execution_count": 4
        }
      ]
    },
    {
      "cell_type": "code",
      "metadata": {
        "id": "C0TgYfZsya4H",
        "colab_type": "code",
        "colab": {}
      },
      "source": [
        "a=a.tolist()"
      ],
      "execution_count": 0,
      "outputs": []
    },
    {
      "cell_type": "code",
      "metadata": {
        "id": "6mu9QWN2ya4c",
        "colab_type": "code",
        "outputId": "90e78670-5e35-4985-8854-bac24819fbd8",
        "colab": {}
      },
      "source": [
        "statistics.variance(a)\n"
      ],
      "execution_count": 0,
      "outputs": [
        {
          "output_type": "execute_result",
          "data": {
            "text/plain": [
              "82934.67732075289"
            ]
          },
          "metadata": {
            "tags": []
          },
          "execution_count": 6
        }
      ]
    },
    {
      "cell_type": "code",
      "metadata": {
        "id": "ZpX9jgQqya46",
        "colab_type": "code",
        "outputId": "0234883a-a758-4500-dd99-08451a724fde",
        "colab": {}
      },
      "source": [
        "import statistics \n",
        "a=df_tuesday[df_tuesday[' Label']=='SSH-Patator'][' Bwd Packet Length Std']\n",
        "a=a.tolist()\n",
        "statistics.variance(a)"
      ],
      "execution_count": 0,
      "outputs": [
        {
          "output_type": "execute_result",
          "data": {
            "text/plain": [
              "12329.75354203784"
            ]
          },
          "metadata": {
            "tags": []
          },
          "execution_count": 9
        }
      ]
    },
    {
      "cell_type": "code",
      "metadata": {
        "id": "-g0o6WdAya5a",
        "colab_type": "code",
        "outputId": "59481a9d-babc-44f6-af34-901bf38c0fc9",
        "colab": {}
      },
      "source": [
        "df_tuesday.columns"
      ],
      "execution_count": 0,
      "outputs": [
        {
          "output_type": "execute_result",
          "data": {
            "text/plain": [
              "Index(['Flow ID', ' Source IP', ' Source Port', ' Destination IP',\n",
              "       ' Destination Port', ' Protocol', ' Timestamp', ' Flow Duration',\n",
              "       ' Total Fwd Packets', ' Total Backward Packets',\n",
              "       'Total Length of Fwd Packets', ' Total Length of Bwd Packets',\n",
              "       ' Fwd Packet Length Max', ' Fwd Packet Length Min',\n",
              "       ' Fwd Packet Length Mean', ' Fwd Packet Length Std',\n",
              "       'Bwd Packet Length Max', ' Bwd Packet Length Min',\n",
              "       ' Bwd Packet Length Mean', ' Bwd Packet Length Std', 'Flow Bytes/s',\n",
              "       ' Flow Packets/s', ' Flow IAT Mean', ' Flow IAT Std', ' Flow IAT Max',\n",
              "       ' Flow IAT Min', 'Fwd IAT Total', ' Fwd IAT Mean', ' Fwd IAT Std',\n",
              "       ' Fwd IAT Max', ' Fwd IAT Min', 'Bwd IAT Total', ' Bwd IAT Mean',\n",
              "       ' Bwd IAT Std', ' Bwd IAT Max', ' Bwd IAT Min', 'Fwd PSH Flags',\n",
              "       ' Bwd PSH Flags', ' Fwd URG Flags', ' Bwd URG Flags',\n",
              "       ' Fwd Header Length', ' Bwd Header Length', 'Fwd Packets/s',\n",
              "       ' Bwd Packets/s', ' Min Packet Length', ' Max Packet Length',\n",
              "       ' Packet Length Mean', ' Packet Length Std', ' Packet Length Variance',\n",
              "       'FIN Flag Count', ' SYN Flag Count', ' RST Flag Count',\n",
              "       ' PSH Flag Count', ' ACK Flag Count', ' URG Flag Count',\n",
              "       ' CWE Flag Count', ' ECE Flag Count', ' Down/Up Ratio',\n",
              "       ' Average Packet Size', ' Avg Fwd Segment Size',\n",
              "       ' Avg Bwd Segment Size', ' Fwd Header Length.1', 'Fwd Avg Bytes/Bulk',\n",
              "       ' Fwd Avg Packets/Bulk', ' Fwd Avg Bulk Rate', ' Bwd Avg Bytes/Bulk',\n",
              "       ' Bwd Avg Packets/Bulk', 'Bwd Avg Bulk Rate', 'Subflow Fwd Packets',\n",
              "       ' Subflow Fwd Bytes', ' Subflow Bwd Packets', ' Subflow Bwd Bytes',\n",
              "       'Init_Win_bytes_forward', ' Init_Win_bytes_backward',\n",
              "       ' act_data_pkt_fwd', ' min_seg_size_forward', 'Active Mean',\n",
              "       ' Active Std', ' Active Max', ' Active Min', 'Idle Mean', ' Idle Std',\n",
              "       ' Idle Max', ' Idle Min', ' Label'],\n",
              "      dtype='object')"
            ]
          },
          "metadata": {
            "tags": []
          },
          "execution_count": 10
        }
      ]
    },
    {
      "cell_type": "markdown",
      "metadata": {
        "id": "wrspQRmiya5y",
        "colab_type": "text"
      },
      "source": [
        "##### ==>> Finding and dropping undefined / incorrect values in data frame"
      ]
    },
    {
      "cell_type": "code",
      "metadata": {
        "id": "0rVtoTfJya56",
        "colab_type": "code",
        "colab": {}
      },
      "source": [
        "df=df.dropna( axis=0, how='any')"
      ],
      "execution_count": 0,
      "outputs": []
    },
    {
      "cell_type": "code",
      "metadata": {
        "id": "63b_TNLKya6W",
        "colab_type": "code",
        "colab": {}
      },
      "source": [
        "df=df.replace(',,', np.nan, inplace=False)"
      ],
      "execution_count": 0,
      "outputs": []
    },
    {
      "cell_type": "markdown",
      "metadata": {
        "id": "hmzcKVa0ya6o",
        "colab_type": "text"
      },
      "source": [
        "<br>\n",
        "We see that Fwd Header Length comes twice but with different anmes so first change name of Fwd Header Length.1 to Fwd Header Length and then remove it"
      ]
    },
    {
      "cell_type": "code",
      "metadata": {
        "id": "YLIWp-uKya6w",
        "colab_type": "code",
        "outputId": "660736b6-3f97-4504-cf14-5391ab4beb9d",
        "colab": {}
      },
      "source": [
        "df_tuesday_dup_rem = df_tuesday_dropped.loc[:,~df_tuesday_dropped.columns.duplicated()]\n",
        "len(df_tuesday_dup_rem.columns)"
      ],
      "execution_count": 0,
      "outputs": [
        {
          "output_type": "execute_result",
          "data": {
            "text/plain": [
              "85"
            ]
          },
          "metadata": {
            "tags": []
          },
          "execution_count": 13
        }
      ]
    },
    {
      "cell_type": "code",
      "metadata": {
        "id": "rkDMAjiGya7C",
        "colab_type": "code",
        "colab": {}
      },
      "source": [
        "df.drop(columns=[' Fwd Header Length.1'], axis=1, inplace=True)"
      ],
      "execution_count": 0,
      "outputs": []
    },
    {
      "cell_type": "code",
      "metadata": {
        "id": "bwZ4HRZoya7Q",
        "colab_type": "code",
        "outputId": "a61c9fbe-0fab-453f-9727-24efc6feb860",
        "colab": {}
      },
      "source": [
        "len(df.columns)\n"
      ],
      "execution_count": 0,
      "outputs": [
        {
          "output_type": "execute_result",
          "data": {
            "text/plain": [
              "84"
            ]
          },
          "metadata": {
            "tags": []
          },
          "execution_count": 7
        }
      ]
    },
    {
      "cell_type": "markdown",
      "metadata": {
        "id": "-PYZPzI6ya7q",
        "colab_type": "text"
      },
      "source": [
        "\n",
        "##### ==>>convert categorical and string data to numerical data\n",
        "Flow ID, Source IP, Destination IP, Timestamp, External IP <br>\n",
        "using LabelEncoder of sklearn"
      ]
    },
    {
      "cell_type": "code",
      "metadata": {
        "id": "x5bCEKNLya7u",
        "colab_type": "code",
        "outputId": "163ff964-63fe-47e1-a1df-221082de848b",
        "colab": {}
      },
      "source": [
        "from sklearn import preprocessing      # import required package for labelencoding\n",
        "le=preprocessing.LabelEncoder()        # create a label encoder (category) object\n",
        "le.fit(df['Flow ID'])"
      ],
      "execution_count": 0,
      "outputs": [
        {
          "output_type": "execute_result",
          "data": {
            "text/plain": [
              "LabelEncoder()"
            ]
          },
          "metadata": {
            "tags": []
          },
          "execution_count": 9
        }
      ]
    },
    {
      "cell_type": "code",
      "metadata": {
        "id": "N8K-RguRya8G",
        "colab_type": "code",
        "outputId": "1d292efd-3efc-4c51-dd02-ae94dd9cad6c",
        "colab": {}
      },
      "source": [
        "# labels\n",
        "le.classes_\n",
        "# Apply fitted encoder to the pandas column\n",
        "le.transform(df[\"Flow ID\"])"
      ],
      "execution_count": 0,
      "outputs": [
        {
          "output_type": "execute_result",
          "data": {
            "text/plain": [
              "array([ 819574,  819732, 1085070, ...,  428373,  602218,  961807])"
            ]
          },
          "metadata": {
            "tags": []
          },
          "execution_count": 10
        }
      ]
    },
    {
      "cell_type": "code",
      "metadata": {
        "id": "zlG33LTYya8g",
        "colab_type": "code",
        "outputId": "99050d4e-7a8d-4d8c-f12e-0eb57d799bbc",
        "colab": {}
      },
      "source": [
        "le_s_ip=preprocessing.LabelEncoder()\n",
        "le_s_ip.fit(df[' Source IP'])\n",
        "le_s_ip.transform(df[' Source IP'])"
      ],
      "execution_count": 0,
      "outputs": [
        {
          "output_type": "execute_result",
          "data": {
            "text/plain": [
              "array([ 4721,  4721, 16487, ...,  4713,  4721,  4722])"
            ]
          },
          "metadata": {
            "tags": []
          },
          "execution_count": 11
        }
      ]
    },
    {
      "cell_type": "code",
      "metadata": {
        "id": "HefpLpNEya85",
        "colab_type": "code",
        "outputId": "64c59d48-0751-4564-ce0e-85221c74d468",
        "colab": {}
      },
      "source": [
        "le_d_ip=preprocessing.LabelEncoder()\n",
        "le_d_ip.fit(df[' Destination IP'])\n",
        "le_d_ip.transform(df[' Destination IP'])"
      ],
      "execution_count": 0,
      "outputs": [
        {
          "output_type": "execute_result",
          "data": {
            "text/plain": [
              "array([ 5453,  5453, 18363, ..., 10351,  5452, 18797])"
            ]
          },
          "metadata": {
            "tags": []
          },
          "execution_count": 12
        }
      ]
    },
    {
      "cell_type": "code",
      "metadata": {
        "id": "PIvafNQdya9Q",
        "colab_type": "code",
        "outputId": "13cd2295-b506-4584-af44-c6f006b8bad4",
        "colab": {}
      },
      "source": [
        "le_time_stamp=preprocessing.LabelEncoder()\n",
        "le_time_stamp.fit(df[' Timestamp'])\n",
        "le_time_stamp.transform(df[' Timestamp'])"
      ],
      "execution_count": 0,
      "outputs": [
        {
          "output_type": "execute_result",
          "data": {
            "text/plain": [
              "array([27904, 27904, 27905, ..., 27419, 27419, 27419])"
            ]
          },
          "metadata": {
            "tags": []
          },
          "execution_count": 13
        }
      ]
    },
    {
      "cell_type": "code",
      "metadata": {
        "id": "MIoYYXfEya9j",
        "colab_type": "code",
        "outputId": "dbbd7804-f79b-423f-b642-b33f5bc637fe",
        "colab": {}
      },
      "source": [
        "group=df.groupby(' Label')\n",
        "group.first()"
      ],
      "execution_count": 0,
      "outputs": [
        {
          "output_type": "execute_result",
          "data": {
            "text/html": [
              "<div>\n",
              "<style scoped>\n",
              "    .dataframe tbody tr th:only-of-type {\n",
              "        vertical-align: middle;\n",
              "    }\n",
              "\n",
              "    .dataframe tbody tr th {\n",
              "        vertical-align: top;\n",
              "    }\n",
              "\n",
              "    .dataframe thead th {\n",
              "        text-align: right;\n",
              "    }\n",
              "</style>\n",
              "<table border=\"1\" class=\"dataframe\">\n",
              "  <thead>\n",
              "    <tr style=\"text-align: right;\">\n",
              "      <th></th>\n",
              "      <th>Flow ID</th>\n",
              "      <th>Source IP</th>\n",
              "      <th>Source Port</th>\n",
              "      <th>Destination IP</th>\n",
              "      <th>Destination Port</th>\n",
              "      <th>Protocol</th>\n",
              "      <th>Timestamp</th>\n",
              "      <th>Flow Duration</th>\n",
              "      <th>Total Fwd Packets</th>\n",
              "      <th>Total Backward Packets</th>\n",
              "      <th>...</th>\n",
              "      <th>act_data_pkt_fwd</th>\n",
              "      <th>min_seg_size_forward</th>\n",
              "      <th>Active Mean</th>\n",
              "      <th>Active Std</th>\n",
              "      <th>Active Max</th>\n",
              "      <th>Active Min</th>\n",
              "      <th>Idle Mean</th>\n",
              "      <th>Idle Std</th>\n",
              "      <th>Idle Max</th>\n",
              "      <th>Idle Min</th>\n",
              "    </tr>\n",
              "    <tr>\n",
              "      <th>Label</th>\n",
              "      <th></th>\n",
              "      <th></th>\n",
              "      <th></th>\n",
              "      <th></th>\n",
              "      <th></th>\n",
              "      <th></th>\n",
              "      <th></th>\n",
              "      <th></th>\n",
              "      <th></th>\n",
              "      <th></th>\n",
              "      <th></th>\n",
              "      <th></th>\n",
              "      <th></th>\n",
              "      <th></th>\n",
              "      <th></th>\n",
              "      <th></th>\n",
              "      <th></th>\n",
              "      <th></th>\n",
              "      <th></th>\n",
              "      <th></th>\n",
              "      <th></th>\n",
              "    </tr>\n",
              "  </thead>\n",
              "  <tbody>\n",
              "    <tr>\n",
              "      <td>BENIGN</td>\n",
              "      <td>192.168.10.3-192.168.10.50-3268-56108-6</td>\n",
              "      <td>192.168.10.50</td>\n",
              "      <td>56108</td>\n",
              "      <td>192.168.10.3</td>\n",
              "      <td>3268</td>\n",
              "      <td>6</td>\n",
              "      <td>7/7/2017 8:59</td>\n",
              "      <td>112740690</td>\n",
              "      <td>32</td>\n",
              "      <td>16</td>\n",
              "      <td>...</td>\n",
              "      <td>15</td>\n",
              "      <td>32</td>\n",
              "      <td>359.428571</td>\n",
              "      <td>11.998016</td>\n",
              "      <td>380.0</td>\n",
              "      <td>343.0</td>\n",
              "      <td>16100000.0</td>\n",
              "      <td>498804.82030</td>\n",
              "      <td>16400000.0</td>\n",
              "      <td>15400000.0</td>\n",
              "    </tr>\n",
              "    <tr>\n",
              "      <td>Bot</td>\n",
              "      <td>192.168.10.12-52.6.13.28-42544-8080-6</td>\n",
              "      <td>192.168.10.12</td>\n",
              "      <td>42544</td>\n",
              "      <td>52.6.13.28</td>\n",
              "      <td>8080</td>\n",
              "      <td>6</td>\n",
              "      <td>7/7/2017 9:34</td>\n",
              "      <td>60202640</td>\n",
              "      <td>9</td>\n",
              "      <td>9</td>\n",
              "      <td>...</td>\n",
              "      <td>1</td>\n",
              "      <td>32</td>\n",
              "      <td>63678.200000</td>\n",
              "      <td>22252.535960</td>\n",
              "      <td>103175.0</td>\n",
              "      <td>50911.0</td>\n",
              "      <td>10200000.0</td>\n",
              "      <td>34941.27201</td>\n",
              "      <td>10200000.0</td>\n",
              "      <td>10100000.0</td>\n",
              "    </tr>\n",
              "    <tr>\n",
              "      <td>DDoS</td>\n",
              "      <td>172.16.0.1-192.168.10.50-49650-80-6</td>\n",
              "      <td>172.16.0.1</td>\n",
              "      <td>49650</td>\n",
              "      <td>192.168.10.50</td>\n",
              "      <td>80</td>\n",
              "      <td>6</td>\n",
              "      <td>7/7/2017 3:56</td>\n",
              "      <td>1293792</td>\n",
              "      <td>3</td>\n",
              "      <td>7</td>\n",
              "      <td>...</td>\n",
              "      <td>2</td>\n",
              "      <td>20</td>\n",
              "      <td>0.000000</td>\n",
              "      <td>0.000000</td>\n",
              "      <td>0.0</td>\n",
              "      <td>0.0</td>\n",
              "      <td>0.0</td>\n",
              "      <td>0.00000</td>\n",
              "      <td>0.0</td>\n",
              "      <td>0.0</td>\n",
              "    </tr>\n",
              "    <tr>\n",
              "      <td>DoS GoldenEye</td>\n",
              "      <td>172.16.0.1-192.168.10.50-58958-80-6</td>\n",
              "      <td>172.16.0.1</td>\n",
              "      <td>58958</td>\n",
              "      <td>192.168.10.50</td>\n",
              "      <td>80</td>\n",
              "      <td>6</td>\n",
              "      <td>5/7/2017 11:10</td>\n",
              "      <td>5008837</td>\n",
              "      <td>4</td>\n",
              "      <td>5</td>\n",
              "      <td>...</td>\n",
              "      <td>1</td>\n",
              "      <td>32</td>\n",
              "      <td>0.000000</td>\n",
              "      <td>0.000000</td>\n",
              "      <td>0.0</td>\n",
              "      <td>0.0</td>\n",
              "      <td>0.0</td>\n",
              "      <td>0.00000</td>\n",
              "      <td>0.0</td>\n",
              "      <td>0.0</td>\n",
              "    </tr>\n",
              "    <tr>\n",
              "      <td>DoS Hulk</td>\n",
              "      <td>172.16.0.1-192.168.10.50-50748-80-6</td>\n",
              "      <td>172.16.0.1</td>\n",
              "      <td>50748</td>\n",
              "      <td>192.168.10.50</td>\n",
              "      <td>80</td>\n",
              "      <td>6</td>\n",
              "      <td>5/7/2017 10:43</td>\n",
              "      <td>1878</td>\n",
              "      <td>3</td>\n",
              "      <td>6</td>\n",
              "      <td>...</td>\n",
              "      <td>1</td>\n",
              "      <td>32</td>\n",
              "      <td>0.000000</td>\n",
              "      <td>0.000000</td>\n",
              "      <td>0.0</td>\n",
              "      <td>0.0</td>\n",
              "      <td>0.0</td>\n",
              "      <td>0.00000</td>\n",
              "      <td>0.0</td>\n",
              "      <td>0.0</td>\n",
              "    </tr>\n",
              "    <tr>\n",
              "      <td>DoS Slowhttptest</td>\n",
              "      <td>172.16.0.1-192.168.10.50-33372-80-6</td>\n",
              "      <td>172.16.0.1</td>\n",
              "      <td>33372</td>\n",
              "      <td>192.168.10.50</td>\n",
              "      <td>80</td>\n",
              "      <td>6</td>\n",
              "      <td>5/7/2017 10:15</td>\n",
              "      <td>16045</td>\n",
              "      <td>5</td>\n",
              "      <td>3</td>\n",
              "      <td>...</td>\n",
              "      <td>1</td>\n",
              "      <td>32</td>\n",
              "      <td>0.000000</td>\n",
              "      <td>0.000000</td>\n",
              "      <td>0.0</td>\n",
              "      <td>0.0</td>\n",
              "      <td>0.0</td>\n",
              "      <td>0.00000</td>\n",
              "      <td>0.0</td>\n",
              "      <td>0.0</td>\n",
              "    </tr>\n",
              "    <tr>\n",
              "      <td>DoS slowloris</td>\n",
              "      <td>172.16.0.1-192.168.10.50-49631-80-6</td>\n",
              "      <td>172.16.0.1</td>\n",
              "      <td>49631</td>\n",
              "      <td>192.168.10.50</td>\n",
              "      <td>80</td>\n",
              "      <td>6</td>\n",
              "      <td>5/7/2017 2:24</td>\n",
              "      <td>5169956</td>\n",
              "      <td>8</td>\n",
              "      <td>6</td>\n",
              "      <td>...</td>\n",
              "      <td>7</td>\n",
              "      <td>20</td>\n",
              "      <td>0.000000</td>\n",
              "      <td>0.000000</td>\n",
              "      <td>0.0</td>\n",
              "      <td>0.0</td>\n",
              "      <td>0.0</td>\n",
              "      <td>0.00000</td>\n",
              "      <td>0.0</td>\n",
              "      <td>0.0</td>\n",
              "    </tr>\n",
              "    <tr>\n",
              "      <td>FTP-Patator</td>\n",
              "      <td>172.16.0.1-192.168.10.50-45422-80-6</td>\n",
              "      <td>172.16.0.1</td>\n",
              "      <td>45422</td>\n",
              "      <td>192.168.10.50</td>\n",
              "      <td>80</td>\n",
              "      <td>6</td>\n",
              "      <td>4/7/2017 10:30</td>\n",
              "      <td>5216127</td>\n",
              "      <td>3</td>\n",
              "      <td>1</td>\n",
              "      <td>...</td>\n",
              "      <td>0</td>\n",
              "      <td>32</td>\n",
              "      <td>0.000000</td>\n",
              "      <td>0.000000</td>\n",
              "      <td>0.0</td>\n",
              "      <td>0.0</td>\n",
              "      <td>0.0</td>\n",
              "      <td>0.00000</td>\n",
              "      <td>0.0</td>\n",
              "      <td>0.0</td>\n",
              "    </tr>\n",
              "    <tr>\n",
              "      <td>Heartbleed</td>\n",
              "      <td>172.16.0.1-192.168.10.51-45022-444-6</td>\n",
              "      <td>172.16.0.1</td>\n",
              "      <td>45022</td>\n",
              "      <td>192.168.10.51</td>\n",
              "      <td>444</td>\n",
              "      <td>6</td>\n",
              "      <td>5/7/2017 3:12</td>\n",
              "      <td>119302728</td>\n",
              "      <td>2685</td>\n",
              "      <td>1729</td>\n",
              "      <td>...</td>\n",
              "      <td>118</td>\n",
              "      <td>32</td>\n",
              "      <td>2217.000000</td>\n",
              "      <td>0.000000</td>\n",
              "      <td>2217.0</td>\n",
              "      <td>2217.0</td>\n",
              "      <td>5024984.0</td>\n",
              "      <td>0.00000</td>\n",
              "      <td>5024984.0</td>\n",
              "      <td>5024984.0</td>\n",
              "    </tr>\n",
              "    <tr>\n",
              "      <td>Infiltration</td>\n",
              "      <td>192.168.10.8-205.174.165.73-53966-444-6</td>\n",
              "      <td>192.168.10.8</td>\n",
              "      <td>53966</td>\n",
              "      <td>205.174.165.73</td>\n",
              "      <td>444</td>\n",
              "      <td>6</td>\n",
              "      <td>6/7/2017 2:19</td>\n",
              "      <td>42664070</td>\n",
              "      <td>5</td>\n",
              "      <td>6</td>\n",
              "      <td>...</td>\n",
              "      <td>4</td>\n",
              "      <td>20</td>\n",
              "      <td>0.000000</td>\n",
              "      <td>0.000000</td>\n",
              "      <td>0.0</td>\n",
              "      <td>0.0</td>\n",
              "      <td>0.0</td>\n",
              "      <td>0.00000</td>\n",
              "      <td>0.0</td>\n",
              "      <td>0.0</td>\n",
              "    </tr>\n",
              "    <tr>\n",
              "      <td>PortScan</td>\n",
              "      <td>172.16.0.1-192.168.10.50-40620-80-6</td>\n",
              "      <td>172.16.0.1</td>\n",
              "      <td>40620</td>\n",
              "      <td>192.168.10.50</td>\n",
              "      <td>80</td>\n",
              "      <td>6</td>\n",
              "      <td>7/7/2017 1:05</td>\n",
              "      <td>5021059</td>\n",
              "      <td>6</td>\n",
              "      <td>5</td>\n",
              "      <td>...</td>\n",
              "      <td>2</td>\n",
              "      <td>32</td>\n",
              "      <td>0.000000</td>\n",
              "      <td>0.000000</td>\n",
              "      <td>0.0</td>\n",
              "      <td>0.0</td>\n",
              "      <td>0.0</td>\n",
              "      <td>0.00000</td>\n",
              "      <td>0.0</td>\n",
              "      <td>0.0</td>\n",
              "    </tr>\n",
              "    <tr>\n",
              "      <td>SSH-Patator</td>\n",
              "      <td>172.16.0.1-192.168.10.50-52358-22-6</td>\n",
              "      <td>172.16.0.1</td>\n",
              "      <td>52358</td>\n",
              "      <td>192.168.10.50</td>\n",
              "      <td>22</td>\n",
              "      <td>6</td>\n",
              "      <td>4/7/2017 3:11</td>\n",
              "      <td>404</td>\n",
              "      <td>2</td>\n",
              "      <td>0</td>\n",
              "      <td>...</td>\n",
              "      <td>0</td>\n",
              "      <td>32</td>\n",
              "      <td>0.000000</td>\n",
              "      <td>0.000000</td>\n",
              "      <td>0.0</td>\n",
              "      <td>0.0</td>\n",
              "      <td>0.0</td>\n",
              "      <td>0.00000</td>\n",
              "      <td>0.0</td>\n",
              "      <td>0.0</td>\n",
              "    </tr>\n",
              "    <tr>\n",
              "      <td>Web Attack-Brute Force</td>\n",
              "      <td>172.16.0.1-192.168.10.50-44380-80-6</td>\n",
              "      <td>172.16.0.1</td>\n",
              "      <td>44380</td>\n",
              "      <td>192.168.10.50</td>\n",
              "      <td>80</td>\n",
              "      <td>6</td>\n",
              "      <td>6/7/2017 9:15</td>\n",
              "      <td>5185118</td>\n",
              "      <td>7</td>\n",
              "      <td>7</td>\n",
              "      <td>...</td>\n",
              "      <td>3</td>\n",
              "      <td>32</td>\n",
              "      <td>0.000000</td>\n",
              "      <td>0.000000</td>\n",
              "      <td>0.0</td>\n",
              "      <td>0.0</td>\n",
              "      <td>0.0</td>\n",
              "      <td>0.00000</td>\n",
              "      <td>0.0</td>\n",
              "      <td>0.0</td>\n",
              "    </tr>\n",
              "    <tr>\n",
              "      <td>Web Attack-Sql Injection</td>\n",
              "      <td>172.16.0.1-192.168.10.50-36196-80-6</td>\n",
              "      <td>172.16.0.1</td>\n",
              "      <td>36196</td>\n",
              "      <td>192.168.10.50</td>\n",
              "      <td>80</td>\n",
              "      <td>6</td>\n",
              "      <td>6/7/2017 10:40</td>\n",
              "      <td>5006127</td>\n",
              "      <td>4</td>\n",
              "      <td>4</td>\n",
              "      <td>...</td>\n",
              "      <td>1</td>\n",
              "      <td>32</td>\n",
              "      <td>0.000000</td>\n",
              "      <td>0.000000</td>\n",
              "      <td>0.0</td>\n",
              "      <td>0.0</td>\n",
              "      <td>0.0</td>\n",
              "      <td>0.00000</td>\n",
              "      <td>0.0</td>\n",
              "      <td>0.0</td>\n",
              "    </tr>\n",
              "    <tr>\n",
              "      <td>Web Attack-XSS</td>\n",
              "      <td>172.16.0.1-192.168.10.50-52120-80-6</td>\n",
              "      <td>172.16.0.1</td>\n",
              "      <td>52120</td>\n",
              "      <td>192.168.10.50</td>\n",
              "      <td>80</td>\n",
              "      <td>6</td>\n",
              "      <td>6/7/2017 10:15</td>\n",
              "      <td>5638432</td>\n",
              "      <td>3</td>\n",
              "      <td>1</td>\n",
              "      <td>...</td>\n",
              "      <td>0</td>\n",
              "      <td>32</td>\n",
              "      <td>0.000000</td>\n",
              "      <td>0.000000</td>\n",
              "      <td>0.0</td>\n",
              "      <td>0.0</td>\n",
              "      <td>0.0</td>\n",
              "      <td>0.00000</td>\n",
              "      <td>0.0</td>\n",
              "      <td>0.0</td>\n",
              "    </tr>\n",
              "  </tbody>\n",
              "</table>\n",
              "<p>15 rows × 83 columns</p>\n",
              "</div>"
            ],
            "text/plain": [
              "                                                          Flow ID  \\\n",
              " Label                                                              \n",
              "BENIGN                    192.168.10.3-192.168.10.50-3268-56108-6   \n",
              "Bot                         192.168.10.12-52.6.13.28-42544-8080-6   \n",
              "DDoS                          172.16.0.1-192.168.10.50-49650-80-6   \n",
              "DoS GoldenEye                 172.16.0.1-192.168.10.50-58958-80-6   \n",
              "DoS Hulk                      172.16.0.1-192.168.10.50-50748-80-6   \n",
              "DoS Slowhttptest              172.16.0.1-192.168.10.50-33372-80-6   \n",
              "DoS slowloris                 172.16.0.1-192.168.10.50-49631-80-6   \n",
              "FTP-Patator                   172.16.0.1-192.168.10.50-45422-80-6   \n",
              "Heartbleed                   172.16.0.1-192.168.10.51-45022-444-6   \n",
              "Infiltration              192.168.10.8-205.174.165.73-53966-444-6   \n",
              "PortScan                      172.16.0.1-192.168.10.50-40620-80-6   \n",
              "SSH-Patator                   172.16.0.1-192.168.10.50-52358-22-6   \n",
              "Web Attack-Brute Force        172.16.0.1-192.168.10.50-44380-80-6   \n",
              "Web Attack-Sql Injection      172.16.0.1-192.168.10.50-36196-80-6   \n",
              "Web Attack-XSS                172.16.0.1-192.168.10.50-52120-80-6   \n",
              "\n",
              "                              Source IP   Source Port  Destination IP  \\\n",
              " Label                                                                  \n",
              "BENIGN                    192.168.10.50         56108    192.168.10.3   \n",
              "Bot                       192.168.10.12         42544      52.6.13.28   \n",
              "DDoS                         172.16.0.1         49650   192.168.10.50   \n",
              "DoS GoldenEye                172.16.0.1         58958   192.168.10.50   \n",
              "DoS Hulk                     172.16.0.1         50748   192.168.10.50   \n",
              "DoS Slowhttptest             172.16.0.1         33372   192.168.10.50   \n",
              "DoS slowloris                172.16.0.1         49631   192.168.10.50   \n",
              "FTP-Patator                  172.16.0.1         45422   192.168.10.50   \n",
              "Heartbleed                   172.16.0.1         45022   192.168.10.51   \n",
              "Infiltration               192.168.10.8         53966  205.174.165.73   \n",
              "PortScan                     172.16.0.1         40620   192.168.10.50   \n",
              "SSH-Patator                  172.16.0.1         52358   192.168.10.50   \n",
              "Web Attack-Brute Force       172.16.0.1         44380   192.168.10.50   \n",
              "Web Attack-Sql Injection     172.16.0.1         36196   192.168.10.50   \n",
              "Web Attack-XSS               172.16.0.1         52120   192.168.10.50   \n",
              "\n",
              "                           Destination Port   Protocol       Timestamp  \\\n",
              " Label                                                                   \n",
              "BENIGN                                 3268          6   7/7/2017 8:59   \n",
              "Bot                                    8080          6   7/7/2017 9:34   \n",
              "DDoS                                     80          6   7/7/2017 3:56   \n",
              "DoS GoldenEye                            80          6  5/7/2017 11:10   \n",
              "DoS Hulk                                 80          6  5/7/2017 10:43   \n",
              "DoS Slowhttptest                         80          6  5/7/2017 10:15   \n",
              "DoS slowloris                            80          6   5/7/2017 2:24   \n",
              "FTP-Patator                              80          6  4/7/2017 10:30   \n",
              "Heartbleed                              444          6   5/7/2017 3:12   \n",
              "Infiltration                            444          6   6/7/2017 2:19   \n",
              "PortScan                                 80          6   7/7/2017 1:05   \n",
              "SSH-Patator                              22          6   4/7/2017 3:11   \n",
              "Web Attack-Brute Force                   80          6   6/7/2017 9:15   \n",
              "Web Attack-Sql Injection                 80          6  6/7/2017 10:40   \n",
              "Web Attack-XSS                           80          6  6/7/2017 10:15   \n",
              "\n",
              "                           Flow Duration   Total Fwd Packets  \\\n",
              " Label                                                         \n",
              "BENIGN                         112740690                  32   \n",
              "Bot                             60202640                   9   \n",
              "DDoS                             1293792                   3   \n",
              "DoS GoldenEye                    5008837                   4   \n",
              "DoS Hulk                            1878                   3   \n",
              "DoS Slowhttptest                   16045                   5   \n",
              "DoS slowloris                    5169956                   8   \n",
              "FTP-Patator                      5216127                   3   \n",
              "Heartbleed                     119302728                2685   \n",
              "Infiltration                    42664070                   5   \n",
              "PortScan                         5021059                   6   \n",
              "SSH-Patator                          404                   2   \n",
              "Web Attack-Brute Force           5185118                   7   \n",
              "Web Attack-Sql Injection         5006127                   4   \n",
              "Web Attack-XSS                   5638432                   3   \n",
              "\n",
              "                           Total Backward Packets  ...   act_data_pkt_fwd  \\\n",
              " Label                                             ...                      \n",
              "BENIGN                                         16  ...                 15   \n",
              "Bot                                             9  ...                  1   \n",
              "DDoS                                            7  ...                  2   \n",
              "DoS GoldenEye                                   5  ...                  1   \n",
              "DoS Hulk                                        6  ...                  1   \n",
              "DoS Slowhttptest                                3  ...                  1   \n",
              "DoS slowloris                                   6  ...                  7   \n",
              "FTP-Patator                                     1  ...                  0   \n",
              "Heartbleed                                   1729  ...                118   \n",
              "Infiltration                                    6  ...                  4   \n",
              "PortScan                                        5  ...                  2   \n",
              "SSH-Patator                                     0  ...                  0   \n",
              "Web Attack-Brute Force                          7  ...                  3   \n",
              "Web Attack-Sql Injection                        4  ...                  1   \n",
              "Web Attack-XSS                                  1  ...                  0   \n",
              "\n",
              "                           min_seg_size_forward   Active Mean    Active Std  \\\n",
              " Label                                                                        \n",
              "BENIGN                                       32    359.428571     11.998016   \n",
              "Bot                                          32  63678.200000  22252.535960   \n",
              "DDoS                                         20      0.000000      0.000000   \n",
              "DoS GoldenEye                                32      0.000000      0.000000   \n",
              "DoS Hulk                                     32      0.000000      0.000000   \n",
              "DoS Slowhttptest                             32      0.000000      0.000000   \n",
              "DoS slowloris                                20      0.000000      0.000000   \n",
              "FTP-Patator                                  32      0.000000      0.000000   \n",
              "Heartbleed                                   32   2217.000000      0.000000   \n",
              "Infiltration                                 20      0.000000      0.000000   \n",
              "PortScan                                     32      0.000000      0.000000   \n",
              "SSH-Patator                                  32      0.000000      0.000000   \n",
              "Web Attack-Brute Force                       32      0.000000      0.000000   \n",
              "Web Attack-Sql Injection                     32      0.000000      0.000000   \n",
              "Web Attack-XSS                               32      0.000000      0.000000   \n",
              "\n",
              "                           Active Max   Active Min   Idle Mean      Idle Std  \\\n",
              " Label                                                                         \n",
              "BENIGN                          380.0        343.0  16100000.0  498804.82030   \n",
              "Bot                          103175.0      50911.0  10200000.0   34941.27201   \n",
              "DDoS                              0.0          0.0         0.0       0.00000   \n",
              "DoS GoldenEye                     0.0          0.0         0.0       0.00000   \n",
              "DoS Hulk                          0.0          0.0         0.0       0.00000   \n",
              "DoS Slowhttptest                  0.0          0.0         0.0       0.00000   \n",
              "DoS slowloris                     0.0          0.0         0.0       0.00000   \n",
              "FTP-Patator                       0.0          0.0         0.0       0.00000   \n",
              "Heartbleed                     2217.0       2217.0   5024984.0       0.00000   \n",
              "Infiltration                      0.0          0.0         0.0       0.00000   \n",
              "PortScan                          0.0          0.0         0.0       0.00000   \n",
              "SSH-Patator                       0.0          0.0         0.0       0.00000   \n",
              "Web Attack-Brute Force            0.0          0.0         0.0       0.00000   \n",
              "Web Attack-Sql Injection          0.0          0.0         0.0       0.00000   \n",
              "Web Attack-XSS                    0.0          0.0         0.0       0.00000   \n",
              "\n",
              "                            Idle Max    Idle Min  \n",
              " Label                                            \n",
              "BENIGN                    16400000.0  15400000.0  \n",
              "Bot                       10200000.0  10100000.0  \n",
              "DDoS                             0.0         0.0  \n",
              "DoS GoldenEye                    0.0         0.0  \n",
              "DoS Hulk                         0.0         0.0  \n",
              "DoS Slowhttptest                 0.0         0.0  \n",
              "DoS slowloris                    0.0         0.0  \n",
              "FTP-Patator                      0.0         0.0  \n",
              "Heartbleed                 5024984.0   5024984.0  \n",
              "Infiltration                     0.0         0.0  \n",
              "PortScan                         0.0         0.0  \n",
              "SSH-Patator                      0.0         0.0  \n",
              "Web Attack-Brute Force           0.0         0.0  \n",
              "Web Attack-Sql Injection         0.0         0.0  \n",
              "Web Attack-XSS                   0.0         0.0  \n",
              "\n",
              "[15 rows x 83 columns]"
            ]
          },
          "metadata": {
            "tags": []
          },
          "execution_count": 15
        }
      ]
    },
    {
      "cell_type": "code",
      "metadata": {
        "id": "WkCF40WXKN9b",
        "colab_type": "code",
        "colab": {}
      },
      "source": [
        "df.replace('SSH-Patator', 'ATTACK', inplace=True)\n",
        "df.replace('Web Attack-XSS', 'ATTACK', inplace=True)\n",
        "df.replace('Web Attack-Sql Injection', 'ATTACK', inplace=True)\n",
        "df.replace('Web Attack-Brute Force', 'ATTACK', inplace=True)\n",
        "df.replace('PortScan', 'ATTACK', inplace=True)\n",
        "df.replace('Infiltration', 'ATTACK', inplace=True)\n",
        "df.replace('Bot', 'ATTACK', inplace=True)\n",
        "df.replace('DDoS', 'ATTACK', inplace=True)\n",
        "df.replace('DoS GoldenEye', 'ATTACK', inplace=True)\n",
        "df.replace('DoS Hulk', 'ATTACK', inplace=True)\n",
        "df.replace('DoS Slowhttptest', 'ATTACK', inplace=True)\n",
        "df.replace('DoS slowloris', 'ATTACK', inplace=True)\n",
        "df.replace('FTP-Patator', 'ATTACK', inplace=True)\n",
        "df.replace('Heartbleed', 'ATTACK', inplace=True)"
      ],
      "execution_count": 0,
      "outputs": []
    },
    {
      "cell_type": "code",
      "metadata": {
        "id": "HlaZSCbfya96",
        "colab_type": "code",
        "outputId": "90e9db2b-99ac-4e81-cc77-2cea76184fd7",
        "colab": {
          "base_uri": "https://localhost:8080/",
          "height": 124
        }
      },
      "source": [
        "df[[' Flow Packets/s', 'Flow Bytes/s']].replace('Infinity', -1, inplace=True)\n",
        "df[[' Flow Packets/s', 'Flow Bytes/s']].replace('NaN', 0, inplace=True)"
      ],
      "execution_count": 69,
      "outputs": [
        {
          "output_type": "stream",
          "text": [
            "/usr/local/lib/python3.6/dist-packages/pandas/core/frame.py:4278: SettingWithCopyWarning: \n",
            "A value is trying to be set on a copy of a slice from a DataFrame\n",
            "\n",
            "See the caveats in the documentation: http://pandas.pydata.org/pandas-docs/stable/user_guide/indexing.html#returning-a-view-versus-a-copy\n",
            "  method=method,\n"
          ],
          "name": "stderr"
        }
      ]
    },
    {
      "cell_type": "code",
      "metadata": {
        "id": "JVB7BjX3ya-H",
        "colab_type": "code",
        "colab": {}
      },
      "source": [
        "df=df_tuesday_dropped"
      ],
      "execution_count": 0,
      "outputs": []
    },
    {
      "cell_type": "markdown",
      "metadata": {
        "id": "ksy0Bwpuya-g",
        "colab_type": "text"
      },
      "source": [
        "# 2. Feature Selection"
      ]
    },
    {
      "cell_type": "markdown",
      "metadata": {
        "id": "WmFCoW31ya-l",
        "colab_type": "text"
      },
      "source": [
        "Adding features with most importance for ssh patator and ftp patator \n",
        "1. FW Packet length max \n",
        "\n",
        "2. flow duration\n",
        "3. flow packets/s\n",
        "4. fwd IAt total\n",
        "5. flow IAT std\n",
        "\n",
        "6. Fwd packet length std\n",
        "7. fwd packet length mean\n",
        "8. total length of backward packets\n",
        "9. flow bytes/s\n",
        "10. total length of fwd packets\n",
        "11. flow iat mean\n",
        "\n",
        "and some other features that give good results for\n",
        "12. Bot(Bwd Packet Length Mean)\n",
        "13. DDos(Bwd Packet Length Std)\n",
        "14. DDos golden eye (Flow IAT Max)\n",
        "15. Total Fwd Packets\n",
        "16. Total Backward Packets'\n"
      ]
    },
    {
      "cell_type": "code",
      "metadata": {
        "id": "czsyjf-Cya-q",
        "colab_type": "code",
        "outputId": "96585c99-bcc1-4e1f-a645-9e22d36db67e",
        "colab": {}
      },
      "source": [
        "features=[\" Fwd Packet Length Max\",\" Flow IAT Std\",\" Fwd Packet Length Std\" ,\"Fwd IAT Total\",' Flow Packets/s',' Flow Duration', \" Fwd Packet Length Mean\", \" Total Length of Bwd Packets\", \"Flow Bytes/s\", \"Total Length of Fwd Packets\", \" Flow IAT Mean\", \" Bwd Packet Length Mean\",  \" Flow IAT Max\", \" Bwd Packet Length Std\", ' Total Fwd Packets', ' Total Backward Packets',\" Label\"]\n",
        "df=df[features].copy()\n",
        "df.head()"
      ],
      "execution_count": 0,
      "outputs": [
        {
          "output_type": "execute_result",
          "data": {
            "text/html": [
              "<div>\n",
              "<style scoped>\n",
              "    .dataframe tbody tr th:only-of-type {\n",
              "        vertical-align: middle;\n",
              "    }\n",
              "\n",
              "    .dataframe tbody tr th {\n",
              "        vertical-align: top;\n",
              "    }\n",
              "\n",
              "    .dataframe thead th {\n",
              "        text-align: right;\n",
              "    }\n",
              "</style>\n",
              "<table border=\"1\" class=\"dataframe\">\n",
              "  <thead>\n",
              "    <tr style=\"text-align: right;\">\n",
              "      <th></th>\n",
              "      <th>Fwd Packet Length Max</th>\n",
              "      <th>Flow IAT Std</th>\n",
              "      <th>Fwd Packet Length Std</th>\n",
              "      <th>Fwd IAT Total</th>\n",
              "      <th>Flow Packets/s</th>\n",
              "      <th>Flow Duration</th>\n",
              "      <th>Fwd Packet Length Mean</th>\n",
              "      <th>Total Length of Bwd Packets</th>\n",
              "      <th>Flow Bytes/s</th>\n",
              "      <th>Total Length of Fwd Packets</th>\n",
              "      <th>Flow IAT Mean</th>\n",
              "      <th>Bwd Packet Length Mean</th>\n",
              "      <th>Flow IAT Max</th>\n",
              "      <th>Bwd Packet Length Std</th>\n",
              "      <th>Total Fwd Packets</th>\n",
              "      <th>Total Backward Packets</th>\n",
              "      <th>Label</th>\n",
              "    </tr>\n",
              "  </thead>\n",
              "  <tbody>\n",
              "    <tr>\n",
              "      <td>0</td>\n",
              "      <td>403.0</td>\n",
              "      <td>5.798698e+06</td>\n",
              "      <td>204.724205</td>\n",
              "      <td>113000000.0</td>\n",
              "      <td>0.425755776</td>\n",
              "      <td>112740690</td>\n",
              "      <td>201.5</td>\n",
              "      <td>1152.0</td>\n",
              "      <td>67.41133126</td>\n",
              "      <td>6448.0</td>\n",
              "      <td>2.398738e+06</td>\n",
              "      <td>72.0</td>\n",
              "      <td>16400000.0</td>\n",
              "      <td>0.0</td>\n",
              "      <td>32</td>\n",
              "      <td>16</td>\n",
              "      <td>BENIGN</td>\n",
              "    </tr>\n",
              "    <tr>\n",
              "      <td>1</td>\n",
              "      <td>403.0</td>\n",
              "      <td>5.798710e+06</td>\n",
              "      <td>204.724205</td>\n",
              "      <td>113000000.0</td>\n",
              "      <td>0.425756267</td>\n",
              "      <td>112740560</td>\n",
              "      <td>201.5</td>\n",
              "      <td>5056.0</td>\n",
              "      <td>102.0395854</td>\n",
              "      <td>6448.0</td>\n",
              "      <td>2.398735e+06</td>\n",
              "      <td>316.0</td>\n",
              "      <td>16400000.0</td>\n",
              "      <td>0.0</td>\n",
              "      <td>32</td>\n",
              "      <td>16</td>\n",
              "      <td>BENIGN</td>\n",
              "    </tr>\n",
              "    <tr>\n",
              "      <td>2</td>\n",
              "      <td>0.0</td>\n",
              "      <td>1.395543e+06</td>\n",
              "      <td>0.000000</td>\n",
              "      <td>114000000.0</td>\n",
              "      <td>4.790898088</td>\n",
              "      <td>113757377</td>\n",
              "      <td>0.0</td>\n",
              "      <td>0.0</td>\n",
              "      <td>0</td>\n",
              "      <td>0.0</td>\n",
              "      <td>2.091128e+05</td>\n",
              "      <td>0.0</td>\n",
              "      <td>20800000.0</td>\n",
              "      <td>0.0</td>\n",
              "      <td>545</td>\n",
              "      <td>0</td>\n",
              "      <td>BENIGN</td>\n",
              "    </tr>\n",
              "    <tr>\n",
              "      <td>3</td>\n",
              "      <td>28.0</td>\n",
              "      <td>2.183302e+04</td>\n",
              "      <td>0.000000</td>\n",
              "      <td>100126.0</td>\n",
              "      <td>219.7231488</td>\n",
              "      <td>100126</td>\n",
              "      <td>28.0</td>\n",
              "      <td>0.0</td>\n",
              "      <td>6152.248167</td>\n",
              "      <td>616.0</td>\n",
              "      <td>4.767905e+03</td>\n",
              "      <td>0.0</td>\n",
              "      <td>100055.0</td>\n",
              "      <td>0.0</td>\n",
              "      <td>22</td>\n",
              "      <td>0</td>\n",
              "      <td>BENIGN</td>\n",
              "    </tr>\n",
              "    <tr>\n",
              "      <td>4</td>\n",
              "      <td>0.0</td>\n",
              "      <td>3.046984e+04</td>\n",
              "      <td>0.000000</td>\n",
              "      <td>54760.0</td>\n",
              "      <td>73.04601899</td>\n",
              "      <td>54760</td>\n",
              "      <td>0.0</td>\n",
              "      <td>0.0</td>\n",
              "      <td>0</td>\n",
              "      <td>0.0</td>\n",
              "      <td>1.825333e+04</td>\n",
              "      <td>0.0</td>\n",
              "      <td>53431.0</td>\n",
              "      <td>0.0</td>\n",
              "      <td>4</td>\n",
              "      <td>0</td>\n",
              "      <td>BENIGN</td>\n",
              "    </tr>\n",
              "  </tbody>\n",
              "</table>\n",
              "</div>"
            ],
            "text/plain": [
              "    Fwd Packet Length Max   Flow IAT Std   Fwd Packet Length Std  \\\n",
              "0                   403.0   5.798698e+06              204.724205   \n",
              "1                   403.0   5.798710e+06              204.724205   \n",
              "2                     0.0   1.395543e+06                0.000000   \n",
              "3                    28.0   2.183302e+04                0.000000   \n",
              "4                     0.0   3.046984e+04                0.000000   \n",
              "\n",
              "   Fwd IAT Total  Flow Packets/s   Flow Duration   Fwd Packet Length Mean  \\\n",
              "0    113000000.0     0.425755776       112740690                    201.5   \n",
              "1    113000000.0     0.425756267       112740560                    201.5   \n",
              "2    114000000.0     4.790898088       113757377                      0.0   \n",
              "3       100126.0     219.7231488          100126                     28.0   \n",
              "4        54760.0     73.04601899           54760                      0.0   \n",
              "\n",
              "    Total Length of Bwd Packets Flow Bytes/s  Total Length of Fwd Packets  \\\n",
              "0                        1152.0  67.41133126                       6448.0   \n",
              "1                        5056.0  102.0395854                       6448.0   \n",
              "2                           0.0            0                          0.0   \n",
              "3                           0.0  6152.248167                        616.0   \n",
              "4                           0.0            0                          0.0   \n",
              "\n",
              "    Flow IAT Mean   Bwd Packet Length Mean   Flow IAT Max  \\\n",
              "0    2.398738e+06                     72.0     16400000.0   \n",
              "1    2.398735e+06                    316.0     16400000.0   \n",
              "2    2.091128e+05                      0.0     20800000.0   \n",
              "3    4.767905e+03                      0.0       100055.0   \n",
              "4    1.825333e+04                      0.0        53431.0   \n",
              "\n",
              "    Bwd Packet Length Std   Total Fwd Packets   Total Backward Packets   Label  \n",
              "0                     0.0                  32                       16  BENIGN  \n",
              "1                     0.0                  32                       16  BENIGN  \n",
              "2                     0.0                 545                        0  BENIGN  \n",
              "3                     0.0                  22                        0  BENIGN  \n",
              "4                     0.0                   4                        0  BENIGN  "
            ]
          },
          "metadata": {
            "tags": []
          },
          "execution_count": 17
        }
      ]
    },
    {
      "cell_type": "code",
      "metadata": {
        "id": "WTbGVjiNya-7",
        "colab_type": "code",
        "colab": {}
      },
      "source": [
        "df=data_frame_for_patator"
      ],
      "execution_count": 0,
      "outputs": []
    },
    {
      "cell_type": "code",
      "metadata": {
        "id": "VkCEmOfAya_K",
        "colab_type": "code",
        "outputId": "1040a06f-359a-4c30-e6c5-48babf75318c",
        "colab": {
          "base_uri": "https://localhost:8080/",
          "height": 278
        }
      },
      "source": [
        "df.head()"
      ],
      "execution_count": 23,
      "outputs": [
        {
          "output_type": "execute_result",
          "data": {
            "text/html": [
              "<div>\n",
              "<style scoped>\n",
              "    .dataframe tbody tr th:only-of-type {\n",
              "        vertical-align: middle;\n",
              "    }\n",
              "\n",
              "    .dataframe tbody tr th {\n",
              "        vertical-align: top;\n",
              "    }\n",
              "\n",
              "    .dataframe thead th {\n",
              "        text-align: right;\n",
              "    }\n",
              "</style>\n",
              "<table border=\"1\" class=\"dataframe\">\n",
              "  <thead>\n",
              "    <tr style=\"text-align: right;\">\n",
              "      <th></th>\n",
              "      <th>Fwd Packet Length Max</th>\n",
              "      <th>Flow IAT Std</th>\n",
              "      <th>Fwd Packet Length Std</th>\n",
              "      <th>Fwd IAT Total</th>\n",
              "      <th>Flow Packets/s</th>\n",
              "      <th>Flow Duration</th>\n",
              "      <th>Fwd Packet Length Mean</th>\n",
              "      <th>Total Length of Bwd Packets</th>\n",
              "      <th>Flow Bytes/s</th>\n",
              "      <th>Total Length of Fwd Packets</th>\n",
              "      <th>Flow IAT Mean</th>\n",
              "      <th>Bwd Packet Length Mean</th>\n",
              "      <th>Flow IAT Max</th>\n",
              "      <th>Bwd Packet Length Std</th>\n",
              "      <th>Total Fwd Packets</th>\n",
              "      <th>Total Backward Packets</th>\n",
              "      <th>Label</th>\n",
              "    </tr>\n",
              "  </thead>\n",
              "  <tbody>\n",
              "    <tr>\n",
              "      <th>0</th>\n",
              "      <td>403.0</td>\n",
              "      <td>5.798698e+06</td>\n",
              "      <td>204.724205</td>\n",
              "      <td>113000000.0</td>\n",
              "      <td>0.425756</td>\n",
              "      <td>112740690</td>\n",
              "      <td>201.5</td>\n",
              "      <td>1152.0</td>\n",
              "      <td>67.411331</td>\n",
              "      <td>6448.0</td>\n",
              "      <td>2.398738e+06</td>\n",
              "      <td>72.0</td>\n",
              "      <td>16400000.0</td>\n",
              "      <td>0.0</td>\n",
              "      <td>32</td>\n",
              "      <td>16</td>\n",
              "      <td>BENIGN</td>\n",
              "    </tr>\n",
              "    <tr>\n",
              "      <th>1</th>\n",
              "      <td>403.0</td>\n",
              "      <td>5.798710e+06</td>\n",
              "      <td>204.724205</td>\n",
              "      <td>113000000.0</td>\n",
              "      <td>0.425756</td>\n",
              "      <td>112740560</td>\n",
              "      <td>201.5</td>\n",
              "      <td>5056.0</td>\n",
              "      <td>102.039585</td>\n",
              "      <td>6448.0</td>\n",
              "      <td>2.398735e+06</td>\n",
              "      <td>316.0</td>\n",
              "      <td>16400000.0</td>\n",
              "      <td>0.0</td>\n",
              "      <td>32</td>\n",
              "      <td>16</td>\n",
              "      <td>BENIGN</td>\n",
              "    </tr>\n",
              "    <tr>\n",
              "      <th>2</th>\n",
              "      <td>0.0</td>\n",
              "      <td>1.395543e+06</td>\n",
              "      <td>0.000000</td>\n",
              "      <td>114000000.0</td>\n",
              "      <td>4.790898</td>\n",
              "      <td>113757377</td>\n",
              "      <td>0.0</td>\n",
              "      <td>0.0</td>\n",
              "      <td>0.000000</td>\n",
              "      <td>0.0</td>\n",
              "      <td>2.091128e+05</td>\n",
              "      <td>0.0</td>\n",
              "      <td>20800000.0</td>\n",
              "      <td>0.0</td>\n",
              "      <td>545</td>\n",
              "      <td>0</td>\n",
              "      <td>BENIGN</td>\n",
              "    </tr>\n",
              "    <tr>\n",
              "      <th>3</th>\n",
              "      <td>28.0</td>\n",
              "      <td>2.183302e+04</td>\n",
              "      <td>0.000000</td>\n",
              "      <td>100126.0</td>\n",
              "      <td>219.723149</td>\n",
              "      <td>100126</td>\n",
              "      <td>28.0</td>\n",
              "      <td>0.0</td>\n",
              "      <td>6152.248167</td>\n",
              "      <td>616.0</td>\n",
              "      <td>4.767905e+03</td>\n",
              "      <td>0.0</td>\n",
              "      <td>100055.0</td>\n",
              "      <td>0.0</td>\n",
              "      <td>22</td>\n",
              "      <td>0</td>\n",
              "      <td>BENIGN</td>\n",
              "    </tr>\n",
              "    <tr>\n",
              "      <th>4</th>\n",
              "      <td>0.0</td>\n",
              "      <td>3.046984e+04</td>\n",
              "      <td>0.000000</td>\n",
              "      <td>54760.0</td>\n",
              "      <td>73.046019</td>\n",
              "      <td>54760</td>\n",
              "      <td>0.0</td>\n",
              "      <td>0.0</td>\n",
              "      <td>0.000000</td>\n",
              "      <td>0.0</td>\n",
              "      <td>1.825333e+04</td>\n",
              "      <td>0.0</td>\n",
              "      <td>53431.0</td>\n",
              "      <td>0.0</td>\n",
              "      <td>4</td>\n",
              "      <td>0</td>\n",
              "      <td>BENIGN</td>\n",
              "    </tr>\n",
              "  </tbody>\n",
              "</table>\n",
              "</div>"
            ],
            "text/plain": [
              "    Fwd Packet Length Max   Flow IAT Std  ...   Total Backward Packets   Label\n",
              "0                   403.0   5.798698e+06  ...                       16  BENIGN\n",
              "1                   403.0   5.798710e+06  ...                       16  BENIGN\n",
              "2                     0.0   1.395543e+06  ...                        0  BENIGN\n",
              "3                    28.0   2.183302e+04  ...                        0  BENIGN\n",
              "4                     0.0   3.046984e+04  ...                        0  BENIGN\n",
              "\n",
              "[5 rows x 17 columns]"
            ]
          },
          "metadata": {
            "tags": []
          },
          "execution_count": 23
        }
      ]
    },
    {
      "cell_type": "markdown",
      "metadata": {
        "id": "mnIez8TMya_Z",
        "colab_type": "text"
      },
      "source": [
        "### Saved preprocessed cleaned data to cleaned folder"
      ]
    },
    {
      "cell_type": "code",
      "metadata": {
        "id": "NBqiINxVya_e",
        "colab_type": "code",
        "colab": {}
      },
      "source": [
        "df.to_csv(\"../dataset/Cleaned/multiclass-multidays.csv\")"
      ],
      "execution_count": 0,
      "outputs": []
    },
    {
      "cell_type": "code",
      "metadata": {
        "id": "sN_h9Fueya_s",
        "colab_type": "code",
        "outputId": "4784d7b4-2c4e-445b-a69a-b103b76443d4",
        "colab": {}
      },
      "source": [
        "df=pd.read_csv(\"../dataset/Cleaned/multiclass-multidays.csv\")"
      ],
      "execution_count": 0,
      "outputs": [
        {
          "output_type": "stream",
          "text": [
            "/home/ebryx/anaconda3/lib/python3.7/site-packages/IPython/core/interactiveshell.py:3058: DtypeWarning: Columns (5,9) have mixed types. Specify dtype option on import or set low_memory=False.\n",
            "  interactivity=interactivity, compiler=compiler, result=result)\n"
          ],
          "name": "stderr"
        }
      ]
    },
    {
      "cell_type": "markdown",
      "metadata": {
        "id": "qpC4a8Toya_-",
        "colab_type": "text"
      },
      "source": [
        "# Correlation\n",
        "<br> \n",
        "\n",
        "### if going for training and testing models <i>skip</i> this step of correlation"
      ]
    },
    {
      "cell_type": "markdown",
      "metadata": {
        "id": "rJBxS-jFybAC",
        "colab_type": "text"
      },
      "source": [
        "#### Preprocessing"
      ]
    },
    {
      "cell_type": "code",
      "metadata": {
        "id": "dQoPjdsBybAF",
        "colab_type": "code",
        "colab": {}
      },
      "source": [
        "df.replace(\"Infinity\", 0, inplace=True)\n",
        "df['Flow Bytes/s'].replace(\"Infinity\", 0,inplace=True)\n",
        "df[\" Flow Packets/s\"].replace(\"NaN\", 0, inplace=True)"
      ],
      "execution_count": 0,
      "outputs": []
    },
    {
      "cell_type": "code",
      "metadata": {
        "id": "YcyZn0-RybAM",
        "colab_type": "code",
        "outputId": "c889b500-a23d-49d6-b454-6c15cd51179e",
        "colab": {
          "base_uri": "https://localhost:8080/",
          "height": 330
        }
      },
      "source": [
        "df[\"Flow Bytes/s\"]=df[\"Flow Bytes/s\"].astype(\"float\")\n",
        "df[' Flow Packets/s']=df[\" Flow Packets/s\"].astype(\"float\")\n",
        "df.dtypes"
      ],
      "execution_count": 71,
      "outputs": [
        {
          "output_type": "execute_result",
          "data": {
            "text/plain": [
              " Fwd Packet Length Max          float64\n",
              " Flow IAT Std                   float64\n",
              " Fwd Packet Length Std          float64\n",
              "Fwd IAT Total                   float64\n",
              " Flow Packets/s                 float64\n",
              " Flow Duration                    int64\n",
              " Fwd Packet Length Mean         float64\n",
              " Total Length of Bwd Packets    float64\n",
              "Flow Bytes/s                    float64\n",
              "Total Length of Fwd Packets     float64\n",
              " Flow IAT Mean                  float64\n",
              " Bwd Packet Length Mean         float64\n",
              " Flow IAT Max                   float64\n",
              " Bwd Packet Length Std          float64\n",
              " Total Fwd Packets                int64\n",
              " Total Backward Packets           int64\n",
              " Label                           object\n",
              "dtype: object"
            ]
          },
          "metadata": {
            "tags": []
          },
          "execution_count": 71
        }
      ]
    },
    {
      "cell_type": "markdown",
      "metadata": {
        "id": "tNkC3GgtybAZ",
        "colab_type": "text"
      },
      "source": [
        "#### Removing unnecessary column"
      ]
    },
    {
      "cell_type": "code",
      "metadata": {
        "id": "jBjRNeunybAc",
        "colab_type": "code",
        "outputId": "ad77eef3-a6b3-4bf6-bf3a-fc2f71bdb947",
        "colab": {
          "base_uri": "https://localhost:8080/",
          "height": 141
        }
      },
      "source": [
        "\n",
        "df2=df[df.columns[1:-1]]\n",
        "df2[' Label']=df[df.columns[-1]]\n",
        "df=df2"
      ],
      "execution_count": 34,
      "outputs": [
        {
          "output_type": "stream",
          "text": [
            "/usr/local/lib/python3.6/dist-packages/ipykernel_launcher.py:3: SettingWithCopyWarning: \n",
            "A value is trying to be set on a copy of a slice from a DataFrame.\n",
            "Try using .loc[row_indexer,col_indexer] = value instead\n",
            "\n",
            "See the caveats in the documentation: http://pandas.pydata.org/pandas-docs/stable/user_guide/indexing.html#returning-a-view-versus-a-copy\n",
            "  This is separate from the ipykernel package so we can avoid doing imports until\n"
          ],
          "name": "stderr"
        }
      ]
    },
    {
      "cell_type": "code",
      "metadata": {
        "id": "v1-GRxn6YoVH",
        "colab_type": "code",
        "colab": {
          "base_uri": "https://localhost:8080/",
          "height": 139
        },
        "outputId": "0f8a263e-3d66-4428-9958-b8f3d980afeb"
      },
      "source": [
        "df.columns"
      ],
      "execution_count": 35,
      "outputs": [
        {
          "output_type": "execute_result",
          "data": {
            "text/plain": [
              "Index([' Fwd Packet Length Max', ' Flow IAT Std', ' Fwd Packet Length Std',\n",
              "       'Fwd IAT Total', ' Flow Packets/s', ' Flow Duration',\n",
              "       ' Fwd Packet Length Mean', ' Total Length of Bwd Packets',\n",
              "       'Flow Bytes/s', 'Total Length of Fwd Packets', ' Flow IAT Mean',\n",
              "       ' Bwd Packet Length Mean', ' Flow IAT Max', ' Bwd Packet Length Std',\n",
              "       ' Total Fwd Packets', ' Total Backward Packets', ' Label'],\n",
              "      dtype='object')"
            ]
          },
          "metadata": {
            "tags": []
          },
          "execution_count": 35
        }
      ]
    },
    {
      "cell_type": "code",
      "metadata": {
        "id": "ls_kXtY_ybAp",
        "colab_type": "code",
        "outputId": "b9e27ad2-7b33-4d38-ee63-03d73dcfe5f3",
        "colab": {
          "base_uri": "https://localhost:8080/",
          "height": 139
        }
      },
      "source": [
        "df.columns"
      ],
      "execution_count": 27,
      "outputs": [
        {
          "output_type": "execute_result",
          "data": {
            "text/plain": [
              "Index([' Flow IAT Std', ' Fwd Packet Length Std', 'Fwd IAT Total',\n",
              "       ' Flow Packets/s', ' Flow Duration', ' Fwd Packet Length Mean',\n",
              "       ' Total Length of Bwd Packets', 'Flow Bytes/s',\n",
              "       'Total Length of Fwd Packets', ' Flow IAT Mean',\n",
              "       ' Bwd Packet Length Mean', ' Flow IAT Max', ' Bwd Packet Length Std',\n",
              "       ' Total Fwd Packets', ' Total Backward Packets', ' Label'],\n",
              "      dtype='object')"
            ]
          },
          "metadata": {
            "tags": []
          },
          "execution_count": 27
        }
      ]
    },
    {
      "cell_type": "code",
      "metadata": {
        "id": "e7MoY-sGybA5",
        "colab_type": "code",
        "outputId": "98120d10-3fee-4d4d-9f45-33cc73c09a16",
        "colab": {}
      },
      "source": [
        "plt.scatter(df[\" Fwd Packet Length Max\"], df[\" Label\"])\n",
        "plt.xlabel(\" Fwd Packet Length Max\")\n",
        "plt.ylabel(\"Attack\")\n"
      ],
      "execution_count": 0,
      "outputs": [
        {
          "output_type": "execute_result",
          "data": {
            "text/plain": [
              "Text(0, 0.5, 'Attack')"
            ]
          },
          "metadata": {
            "tags": []
          },
          "execution_count": 34
        },
        {
          "output_type": "display_data",
          "data": {
            "image/png": "[encoded data removed]",
            "text/plain": [
              "<Figure size 432x288 with 1 Axes>"
            ]
          },
          "metadata": {
            "tags": [],
            "needs_background": "light"
          }
        }
      ]
    },
    {
      "cell_type": "code",
      "metadata": {
        "id": "jujKU5sWybBG",
        "colab_type": "code",
        "colab": {}
      },
      "source": [
        "plt.plot(df[[' Fwd Packet Length Max', ' Flow IAT Std', ' Fwd Packet Length Std',\n",
        "       'Fwd IAT Total', ' Flow Packets/s', ' Flow Duration',\n",
        "       ' Fwd Packet Length Mean', ' Total Length of Bwd Packets',\n",
        "       'Flow Bytes/s', 'Total Length of Fwd Packets', ' Flow IAT Mean',\n",
        "       ' Bwd Packet Length Mean', ' Flow IAT Max', ' Bwd Packet Length Std',\n",
        "       ' Total Fwd Packets', ' Total Backward Packets', ' Label']], df[\" Label\"])\n",
        "plt.xlabel(\" Fwd Packet Length Max\")\n",
        "plt.ylabel(\"Attack\")\n",
        "\n"
      ],
      "execution_count": 0,
      "outputs": []
    },
    {
      "cell_type": "code",
      "metadata": {
        "id": "ga4iJt3qybBQ",
        "colab_type": "code",
        "outputId": "d638bd63-39e3-4d4b-a3cf-53fc16c8d157",
        "colab": {}
      },
      "source": [
        "plt.scatter(df[\" Flow IAT Std\"], df[\" Label\"])\n",
        "plt.xlabel(\" Flow IAT Std\")\n",
        "plt.ylabel(\"Attack\")\n"
      ],
      "execution_count": 0,
      "outputs": [
        {
          "output_type": "execute_result",
          "data": {
            "text/plain": [
              "Text(0, 0.5, 'Attack')"
            ]
          },
          "metadata": {
            "tags": []
          },
          "execution_count": 33
        },
        {
          "output_type": "display_data",
          "data": {
            "image/png": "[encoded data removed]",
            "text/plain": [
              "<Figure size 432x288 with 1 Axes>"
            ]
          },
          "metadata": {
            "tags": [],
            "needs_background": "light"
          }
        }
      ]
    },
    {
      "cell_type": "code",
      "metadata": {
        "id": "h9fPUt5AybBc",
        "colab_type": "code",
        "colab": {}
      },
      "source": [
        "\n",
        "plt.scatter(df[\" Fwd Packet Length Std\"], df[\" Label\"])\n",
        "plt.xlabel(\" Fwd Packet Length Stdl\")\n",
        "plt.ylabel(\"Attack\")\n"
      ],
      "execution_count": 0,
      "outputs": []
    },
    {
      "cell_type": "code",
      "metadata": {
        "id": "epToFN90ybBj",
        "colab_type": "code",
        "colab": {}
      },
      "source": [
        "plt.scatter(df[\"Fwd IAT Total\"], df[\" Label\"])\n",
        "plt.xlabel(\"Fwd IAT Total\")\n",
        "plt.ylabel(\"Attack\")\n"
      ],
      "execution_count": 0,
      "outputs": []
    },
    {
      "cell_type": "code",
      "metadata": {
        "id": "hUHEDDbCybBu",
        "colab_type": "code",
        "colab": {}
      },
      "source": [
        "plt.scatter(df[\" Fwd Packet Length Std\"], df[\" Label\"])\n",
        "plt.xlabel(\" Fwd Packet Length Std\")\n",
        "plt.ylabel(\"Benign\")\n"
      ],
      "execution_count": 0,
      "outputs": []
    },
    {
      "cell_type": "code",
      "metadata": {
        "id": "-h6hVmI0ybB2",
        "colab_type": "code",
        "colab": {}
      },
      "source": [
        "plt.scatter(df[' Flow Duration'], df[\" Label\"])\n",
        "plt.xlabel(' Flow Duration')\n",
        "plt.ylabel(\"Attack\")\n"
      ],
      "execution_count": 0,
      "outputs": []
    },
    {
      "cell_type": "code",
      "metadata": {
        "id": "7TE2Dex3ybCE",
        "colab_type": "code",
        "colab": {}
      },
      "source": [
        "plt.scatter(df[\" Fwd Packet Length Mean\"], df[\" Label\"])\n",
        "plt.xlabel(\" Fwd Packet Length Mean\")\n",
        "plt.ylabel(\"Attack\")\n"
      ],
      "execution_count": 0,
      "outputs": []
    },
    {
      "cell_type": "code",
      "metadata": {
        "id": "6J5hWf-lybCR",
        "colab_type": "code",
        "colab": {}
      },
      "source": [
        "plt.scatter(df[\" Total Length of Bwd Packets\"], df[\" Label\"])\n",
        "plt.xlabel(\" Total Length of Bwd Packets\")\n",
        "plt.ylabel(\"Benign\")\n"
      ],
      "execution_count": 0,
      "outputs": []
    },
    {
      "cell_type": "code",
      "metadata": {
        "id": "kXPFOpgZybC5",
        "colab_type": "code",
        "colab": {}
      },
      "source": [
        "plt.scatter(df[\"Flow Bytes/s\"], df[\" Label\"])\n",
        "plt.xlabel(\"Flow Bytes/s\")\n",
        "plt.ylabel(\"Attack\")\n"
      ],
      "execution_count": 0,
      "outputs": []
    },
    {
      "cell_type": "code",
      "metadata": {
        "id": "xd5ylerRybDL",
        "colab_type": "code",
        "colab": {}
      },
      "source": [
        "plt.scatter(df[\" Flow Packets/s\"], df[\" Label\"])\n",
        "plt.xlabel(\" Flow Packets/s\")\n",
        "plt.ylabel(\"Attack\")\n"
      ],
      "execution_count": 0,
      "outputs": []
    },
    {
      "cell_type": "code",
      "metadata": {
        "id": "d5huwJ4mybDX",
        "colab_type": "code",
        "colab": {}
      },
      "source": [
        "plt.scatter(df[\"Total Length of Fwd Packets\"], df[\" Label\"])\n",
        "plt.xlabel(\"Total Length of Fwd Packets\")\n",
        "plt.ylabel(\"Attack\")\n"
      ],
      "execution_count": 0,
      "outputs": []
    },
    {
      "cell_type": "code",
      "metadata": {
        "id": "5TK33-qtybDg",
        "colab_type": "code",
        "colab": {}
      },
      "source": [
        "plt.scatter(df[\" Flow IAT Mean\"], df[\" Label\"])\n",
        "plt.xlabel(\" Flow IAT Mean\")\n",
        "plt.ylabel(\"Attack\")\n"
      ],
      "execution_count": 0,
      "outputs": []
    },
    {
      "cell_type": "code",
      "metadata": {
        "id": "w5CmQBe3ybDn",
        "colab_type": "code",
        "colab": {}
      },
      "source": [
        "plt.scatter(df[\" Bwd Packet Length Mean\"], df[\" Label\"])\n",
        "plt.xlabel(\" Bwd Packet Length Mean\")\n",
        "plt.ylabel(\"Attack\")\n"
      ],
      "execution_count": 0,
      "outputs": []
    },
    {
      "cell_type": "code",
      "metadata": {
        "id": "BQolRjrpybDy",
        "colab_type": "code",
        "colab": {}
      },
      "source": [
        "plt.scatter(df[\" Flow IAT Max\"], df[\" Label\"])\n",
        "plt.xlabel(\" Flow IAT Max\")\n",
        "plt.ylabel(\"Attack\")\n"
      ],
      "execution_count": 0,
      "outputs": []
    },
    {
      "cell_type": "code",
      "metadata": {
        "id": "QsxgKcbvybD6",
        "colab_type": "code",
        "colab": {}
      },
      "source": [
        "plt.scatter(df[\" Bwd Packet Length Std\"], df[\" Label\"])\n",
        "plt.xlabel(\" Bwd Packet Length Std\")\n",
        "plt.ylabel(\"Attack\")\n"
      ],
      "execution_count": 0,
      "outputs": []
    },
    {
      "cell_type": "code",
      "metadata": {
        "id": "2dsLNOPIybEH",
        "colab_type": "code",
        "colab": {}
      },
      "source": [
        "plt.scatter(df[\" Total Fwd Packets\"], df[\" Label\"])\n",
        "plt.xlabel(\" Total Fwd Packets\")\n",
        "plt.ylabel(\"Attack\")\n"
      ],
      "execution_count": 0,
      "outputs": []
    },
    {
      "cell_type": "code",
      "metadata": {
        "id": "_gkalplbybEP",
        "colab_type": "code",
        "colab": {}
      },
      "source": [
        "plt.scatter(df[\" Total Backward Packets\"], df[\" Label\"])\n",
        "plt.xlabel(\" Total backward Packets\")\n",
        "plt.ylabel(\"Attack\")\n"
      ],
      "execution_count": 0,
      "outputs": []
    },
    {
      "cell_type": "markdown",
      "metadata": {
        "id": "OumUgFwNybEW",
        "colab_type": "text"
      },
      "source": [
        "### Separating data for Benign, ssh and ftp attacks"
      ]
    },
    {
      "cell_type": "code",
      "metadata": {
        "id": "rtVPRXooybEZ",
        "colab_type": "code",
        "colab": {}
      },
      "source": [
        "df_ftp=df[df[' Label']=='FTP-Patator']\n",
        "df_ssh=df[df[' Label']=='SSH-Patator']\n",
        "df_benign=df[df[' Label']=='BENIGN']"
      ],
      "execution_count": 0,
      "outputs": []
    },
    {
      "cell_type": "code",
      "metadata": {
        "id": "fAazvRXRybEj",
        "colab_type": "code",
        "outputId": "749d98ff-420d-4626-ca35-3a0497c128ba",
        "colab": {}
      },
      "source": [
        "df_ftp.head(10)"
      ],
      "execution_count": 0,
      "outputs": [
        {
          "output_type": "execute_result",
          "data": {
            "text/html": [
              "<div>\n",
              "<style scoped>\n",
              "    .dataframe tbody tr th:only-of-type {\n",
              "        vertical-align: middle;\n",
              "    }\n",
              "\n",
              "    .dataframe tbody tr th {\n",
              "        vertical-align: top;\n",
              "    }\n",
              "\n",
              "    .dataframe thead th {\n",
              "        text-align: right;\n",
              "    }\n",
              "</style>\n",
              "<table border=\"1\" class=\"dataframe\">\n",
              "  <thead>\n",
              "    <tr style=\"text-align: right;\">\n",
              "      <th></th>\n",
              "      <th>Fwd Packet Length Max</th>\n",
              "      <th>Flow IAT Std</th>\n",
              "      <th>Fwd Packet Length Std</th>\n",
              "      <th>Fwd IAT Total</th>\n",
              "      <th>Flow Packets/s</th>\n",
              "      <th>Flow Duration</th>\n",
              "      <th>Fwd Packet Length Mean</th>\n",
              "      <th>Total Length of Bwd Packets</th>\n",
              "      <th>Flow Bytes/s</th>\n",
              "      <th>Total Length of Fwd Packets</th>\n",
              "      <th>Flow IAT Mean</th>\n",
              "      <th>Bwd Packet Length Mean</th>\n",
              "      <th>Flow IAT Max</th>\n",
              "      <th>Bwd Packet Length Std</th>\n",
              "      <th>Total Fwd Packets</th>\n",
              "      <th>Total Backward Packets</th>\n",
              "      <th>Label</th>\n",
              "    </tr>\n",
              "  </thead>\n",
              "  <tbody>\n",
              "    <tr>\n",
              "      <td>11337</td>\n",
              "      <td>0</td>\n",
              "      <td>3.010454e+06</td>\n",
              "      <td>0.000000</td>\n",
              "      <td>5216127.0</td>\n",
              "      <td>0.766852</td>\n",
              "      <td>5216127</td>\n",
              "      <td>0.0</td>\n",
              "      <td>0.0</td>\n",
              "      <td>0.000000e+00</td>\n",
              "      <td>0</td>\n",
              "      <td>1.738709e+06</td>\n",
              "      <td>0.000000</td>\n",
              "      <td>5214882.0</td>\n",
              "      <td>0.000000</td>\n",
              "      <td>3</td>\n",
              "      <td>1</td>\n",
              "      <td>FTP-Patator</td>\n",
              "    </tr>\n",
              "    <tr>\n",
              "      <td>11338</td>\n",
              "      <td>0</td>\n",
              "      <td>0.000000e+00</td>\n",
              "      <td>0.000000</td>\n",
              "      <td>0.0</td>\n",
              "      <td>100000.000000</td>\n",
              "      <td>20</td>\n",
              "      <td>0.0</td>\n",
              "      <td>0.0</td>\n",
              "      <td>0.000000e+00</td>\n",
              "      <td>0</td>\n",
              "      <td>2.000000e+01</td>\n",
              "      <td>0.000000</td>\n",
              "      <td>20.0</td>\n",
              "      <td>0.000000</td>\n",
              "      <td>1</td>\n",
              "      <td>1</td>\n",
              "      <td>FTP-Patator</td>\n",
              "    </tr>\n",
              "    <tr>\n",
              "      <td>11339</td>\n",
              "      <td>0</td>\n",
              "      <td>0.000000e+00</td>\n",
              "      <td>0.000000</td>\n",
              "      <td>0.0</td>\n",
              "      <td>52631.578950</td>\n",
              "      <td>38</td>\n",
              "      <td>0.0</td>\n",
              "      <td>0.0</td>\n",
              "      <td>0.000000e+00</td>\n",
              "      <td>0</td>\n",
              "      <td>3.800000e+01</td>\n",
              "      <td>0.000000</td>\n",
              "      <td>38.0</td>\n",
              "      <td>0.000000</td>\n",
              "      <td>1</td>\n",
              "      <td>1</td>\n",
              "      <td>FTP-Patator</td>\n",
              "    </tr>\n",
              "    <tr>\n",
              "      <td>11340</td>\n",
              "      <td>0</td>\n",
              "      <td>0.000000e+00</td>\n",
              "      <td>0.000000</td>\n",
              "      <td>0.0</td>\n",
              "      <td>25000.000000</td>\n",
              "      <td>80</td>\n",
              "      <td>0.0</td>\n",
              "      <td>0.0</td>\n",
              "      <td>0.000000e+00</td>\n",
              "      <td>0</td>\n",
              "      <td>8.000000e+01</td>\n",
              "      <td>0.000000</td>\n",
              "      <td>80.0</td>\n",
              "      <td>0.000000</td>\n",
              "      <td>1</td>\n",
              "      <td>1</td>\n",
              "      <td>FTP-Patator</td>\n",
              "    </tr>\n",
              "    <tr>\n",
              "      <td>11341</td>\n",
              "      <td>0</td>\n",
              "      <td>0.000000e+00</td>\n",
              "      <td>0.000000</td>\n",
              "      <td>0.0</td>\n",
              "      <td>29411.764710</td>\n",
              "      <td>68</td>\n",
              "      <td>0.0</td>\n",
              "      <td>0.0</td>\n",
              "      <td>0.000000e+00</td>\n",
              "      <td>0</td>\n",
              "      <td>6.800000e+01</td>\n",
              "      <td>0.000000</td>\n",
              "      <td>68.0</td>\n",
              "      <td>0.000000</td>\n",
              "      <td>1</td>\n",
              "      <td>1</td>\n",
              "      <td>FTP-Patator</td>\n",
              "    </tr>\n",
              "    <tr>\n",
              "      <td>11342</td>\n",
              "      <td>0</td>\n",
              "      <td>0.000000e+00</td>\n",
              "      <td>0.000000</td>\n",
              "      <td>0.0</td>\n",
              "      <td>42553.191490</td>\n",
              "      <td>47</td>\n",
              "      <td>0.0</td>\n",
              "      <td>0.0</td>\n",
              "      <td>0.000000e+00</td>\n",
              "      <td>0</td>\n",
              "      <td>4.700000e+01</td>\n",
              "      <td>0.000000</td>\n",
              "      <td>47.0</td>\n",
              "      <td>0.000000</td>\n",
              "      <td>1</td>\n",
              "      <td>1</td>\n",
              "      <td>FTP-Patator</td>\n",
              "    </tr>\n",
              "    <tr>\n",
              "      <td>11344</td>\n",
              "      <td>0</td>\n",
              "      <td>0.000000e+00</td>\n",
              "      <td>0.000000</td>\n",
              "      <td>0.0</td>\n",
              "      <td>24096.385540</td>\n",
              "      <td>83</td>\n",
              "      <td>0.0</td>\n",
              "      <td>0.0</td>\n",
              "      <td>0.000000e+00</td>\n",
              "      <td>0</td>\n",
              "      <td>8.300000e+01</td>\n",
              "      <td>0.000000</td>\n",
              "      <td>83.0</td>\n",
              "      <td>0.000000</td>\n",
              "      <td>1</td>\n",
              "      <td>1</td>\n",
              "      <td>FTP-Patator</td>\n",
              "    </tr>\n",
              "    <tr>\n",
              "      <td>11345</td>\n",
              "      <td>14</td>\n",
              "      <td>7.141778e+01</td>\n",
              "      <td>9.899495</td>\n",
              "      <td>265.0</td>\n",
              "      <td>11320.754720</td>\n",
              "      <td>265</td>\n",
              "      <td>7.0</td>\n",
              "      <td>0.0</td>\n",
              "      <td>5.283019e+04</td>\n",
              "      <td>14</td>\n",
              "      <td>1.325000e+02</td>\n",
              "      <td>0.000000</td>\n",
              "      <td>183.0</td>\n",
              "      <td>0.000000</td>\n",
              "      <td>2</td>\n",
              "      <td>1</td>\n",
              "      <td>FTP-Patator</td>\n",
              "    </tr>\n",
              "    <tr>\n",
              "      <td>11346</td>\n",
              "      <td>22</td>\n",
              "      <td>9.779900e+05</td>\n",
              "      <td>9.633276</td>\n",
              "      <td>3302859.0</td>\n",
              "      <td>3.633216</td>\n",
              "      <td>3302859</td>\n",
              "      <td>6.0</td>\n",
              "      <td>76.0</td>\n",
              "      <td>3.391002e+01</td>\n",
              "      <td>36</td>\n",
              "      <td>3.002599e+05</td>\n",
              "      <td>12.666667</td>\n",
              "      <td>3248752.0</td>\n",
              "      <td>14.678783</td>\n",
              "      <td>6</td>\n",
              "      <td>6</td>\n",
              "      <td>FTP-Patator</td>\n",
              "    </tr>\n",
              "    <tr>\n",
              "      <td>11347</td>\n",
              "      <td>14</td>\n",
              "      <td>0.000000e+00</td>\n",
              "      <td>9.899495</td>\n",
              "      <td>3.0</td>\n",
              "      <td>666666.666700</td>\n",
              "      <td>3</td>\n",
              "      <td>7.0</td>\n",
              "      <td>0.0</td>\n",
              "      <td>4.666667e+06</td>\n",
              "      <td>14</td>\n",
              "      <td>3.000000e+00</td>\n",
              "      <td>0.000000</td>\n",
              "      <td>3.0</td>\n",
              "      <td>0.000000</td>\n",
              "      <td>2</td>\n",
              "      <td>0</td>\n",
              "      <td>FTP-Patator</td>\n",
              "    </tr>\n",
              "  </tbody>\n",
              "</table>\n",
              "</div>"
            ],
            "text/plain": [
              "        Fwd Packet Length Max   Flow IAT Std   Fwd Packet Length Std  \\\n",
              "11337                       0   3.010454e+06                0.000000   \n",
              "11338                       0   0.000000e+00                0.000000   \n",
              "11339                       0   0.000000e+00                0.000000   \n",
              "11340                       0   0.000000e+00                0.000000   \n",
              "11341                       0   0.000000e+00                0.000000   \n",
              "11342                       0   0.000000e+00                0.000000   \n",
              "11344                       0   0.000000e+00                0.000000   \n",
              "11345                      14   7.141778e+01                9.899495   \n",
              "11346                      22   9.779900e+05                9.633276   \n",
              "11347                      14   0.000000e+00                9.899495   \n",
              "\n",
              "       Fwd IAT Total   Flow Packets/s   Flow Duration  \\\n",
              "11337      5216127.0         0.766852         5216127   \n",
              "11338            0.0    100000.000000              20   \n",
              "11339            0.0     52631.578950              38   \n",
              "11340            0.0     25000.000000              80   \n",
              "11341            0.0     29411.764710              68   \n",
              "11342            0.0     42553.191490              47   \n",
              "11344            0.0     24096.385540              83   \n",
              "11345          265.0     11320.754720             265   \n",
              "11346      3302859.0         3.633216         3302859   \n",
              "11347            3.0    666666.666700               3   \n",
              "\n",
              "        Fwd Packet Length Mean   Total Length of Bwd Packets  Flow Bytes/s  \\\n",
              "11337                      0.0                           0.0  0.000000e+00   \n",
              "11338                      0.0                           0.0  0.000000e+00   \n",
              "11339                      0.0                           0.0  0.000000e+00   \n",
              "11340                      0.0                           0.0  0.000000e+00   \n",
              "11341                      0.0                           0.0  0.000000e+00   \n",
              "11342                      0.0                           0.0  0.000000e+00   \n",
              "11344                      0.0                           0.0  0.000000e+00   \n",
              "11345                      7.0                           0.0  5.283019e+04   \n",
              "11346                      6.0                          76.0  3.391002e+01   \n",
              "11347                      7.0                           0.0  4.666667e+06   \n",
              "\n",
              "       Total Length of Fwd Packets   Flow IAT Mean   Bwd Packet Length Mean  \\\n",
              "11337                            0    1.738709e+06                 0.000000   \n",
              "11338                            0    2.000000e+01                 0.000000   \n",
              "11339                            0    3.800000e+01                 0.000000   \n",
              "11340                            0    8.000000e+01                 0.000000   \n",
              "11341                            0    6.800000e+01                 0.000000   \n",
              "11342                            0    4.700000e+01                 0.000000   \n",
              "11344                            0    8.300000e+01                 0.000000   \n",
              "11345                           14    1.325000e+02                 0.000000   \n",
              "11346                           36    3.002599e+05                12.666667   \n",
              "11347                           14    3.000000e+00                 0.000000   \n",
              "\n",
              "        Flow IAT Max   Bwd Packet Length Std   Total Fwd Packets  \\\n",
              "11337      5214882.0                0.000000                   3   \n",
              "11338           20.0                0.000000                   1   \n",
              "11339           38.0                0.000000                   1   \n",
              "11340           80.0                0.000000                   1   \n",
              "11341           68.0                0.000000                   1   \n",
              "11342           47.0                0.000000                   1   \n",
              "11344           83.0                0.000000                   1   \n",
              "11345          183.0                0.000000                   2   \n",
              "11346      3248752.0               14.678783                   6   \n",
              "11347            3.0                0.000000                   2   \n",
              "\n",
              "        Total Backward Packets        Label  \n",
              "11337                        1  FTP-Patator  \n",
              "11338                        1  FTP-Patator  \n",
              "11339                        1  FTP-Patator  \n",
              "11340                        1  FTP-Patator  \n",
              "11341                        1  FTP-Patator  \n",
              "11342                        1  FTP-Patator  \n",
              "11344                        1  FTP-Patator  \n",
              "11345                        1  FTP-Patator  \n",
              "11346                        6  FTP-Patator  \n",
              "11347                        0  FTP-Patator  "
            ]
          },
          "metadata": {
            "tags": []
          },
          "execution_count": 36
        }
      ]
    },
    {
      "cell_type": "code",
      "metadata": {
        "id": "4M4h9-OeybEv",
        "colab_type": "code",
        "outputId": "9d883963-c48a-49f2-e684-5c8796ec3ba4",
        "colab": {}
      },
      "source": [
        "df_ssh.head(20)"
      ],
      "execution_count": 0,
      "outputs": [
        {
          "output_type": "execute_result",
          "data": {
            "text/html": [
              "<div>\n",
              "<style scoped>\n",
              "    .dataframe tbody tr th:only-of-type {\n",
              "        vertical-align: middle;\n",
              "    }\n",
              "\n",
              "    .dataframe tbody tr th {\n",
              "        vertical-align: top;\n",
              "    }\n",
              "\n",
              "    .dataframe thead th {\n",
              "        text-align: right;\n",
              "    }\n",
              "</style>\n",
              "<table border=\"1\" class=\"dataframe\">\n",
              "  <thead>\n",
              "    <tr style=\"text-align: right;\">\n",
              "      <th></th>\n",
              "      <th>Fwd Packet Length Max</th>\n",
              "      <th>Flow IAT Std</th>\n",
              "      <th>Fwd Packet Length Std</th>\n",
              "      <th>Fwd IAT Total</th>\n",
              "      <th>Flow Packets/s</th>\n",
              "      <th>Flow Duration</th>\n",
              "      <th>Fwd Packet Length Mean</th>\n",
              "      <th>Total Length of Bwd Packets</th>\n",
              "      <th>Flow Bytes/s</th>\n",
              "      <th>Total Length of Fwd Packets</th>\n",
              "      <th>Flow IAT Mean</th>\n",
              "      <th>Bwd Packet Length Mean</th>\n",
              "      <th>Flow IAT Max</th>\n",
              "      <th>Bwd Packet Length Std</th>\n",
              "      <th>Total Fwd Packets</th>\n",
              "      <th>Total Backward Packets</th>\n",
              "      <th>Label</th>\n",
              "    </tr>\n",
              "  </thead>\n",
              "  <tbody>\n",
              "    <tr>\n",
              "      <td>161915</td>\n",
              "      <td>0</td>\n",
              "      <td>0.0000</td>\n",
              "      <td>0.000000</td>\n",
              "      <td>404.0</td>\n",
              "      <td>4950.495050</td>\n",
              "      <td>404</td>\n",
              "      <td>0.000000</td>\n",
              "      <td>0.0</td>\n",
              "      <td>0.000000</td>\n",
              "      <td>0</td>\n",
              "      <td>404.0000</td>\n",
              "      <td>0.000000</td>\n",
              "      <td>404.0</td>\n",
              "      <td>0.000000</td>\n",
              "      <td>2</td>\n",
              "      <td>0</td>\n",
              "      <td>SSH-Patator</td>\n",
              "    </tr>\n",
              "    <tr>\n",
              "      <td>161916</td>\n",
              "      <td>640</td>\n",
              "      <td>534015.4383</td>\n",
              "      <td>166.685104</td>\n",
              "      <td>5808851.0</td>\n",
              "      <td>5.680986</td>\n",
              "      <td>5808851</td>\n",
              "      <td>99.733333</td>\n",
              "      <td>2297.0</td>\n",
              "      <td>652.969064</td>\n",
              "      <td>1496</td>\n",
              "      <td>181526.5937</td>\n",
              "      <td>127.611111</td>\n",
              "      <td>1978974.0</td>\n",
              "      <td>288.171342</td>\n",
              "      <td>15</td>\n",
              "      <td>18</td>\n",
              "      <td>SSH-Patator</td>\n",
              "    </tr>\n",
              "    <tr>\n",
              "      <td>161977</td>\n",
              "      <td>640</td>\n",
              "      <td>504075.2867</td>\n",
              "      <td>155.799100</td>\n",
              "      <td>5840763.0</td>\n",
              "      <td>6.334789</td>\n",
              "      <td>5840763</td>\n",
              "      <td>82.222222</td>\n",
              "      <td>2297.0</td>\n",
              "      <td>646.662088</td>\n",
              "      <td>1480</td>\n",
              "      <td>162243.4167</td>\n",
              "      <td>120.894737</td>\n",
              "      <td>1976459.0</td>\n",
              "      <td>281.578269</td>\n",
              "      <td>18</td>\n",
              "      <td>19</td>\n",
              "      <td>SSH-Patator</td>\n",
              "    </tr>\n",
              "    <tr>\n",
              "      <td>161978</td>\n",
              "      <td>640</td>\n",
              "      <td>511031.6261</td>\n",
              "      <td>159.195034</td>\n",
              "      <td>5797001.0</td>\n",
              "      <td>6.210108</td>\n",
              "      <td>5797001</td>\n",
              "      <td>87.058824</td>\n",
              "      <td>2297.0</td>\n",
              "      <td>651.543790</td>\n",
              "      <td>1480</td>\n",
              "      <td>165628.6000</td>\n",
              "      <td>120.894737</td>\n",
              "      <td>1964335.0</td>\n",
              "      <td>281.578269</td>\n",
              "      <td>17</td>\n",
              "      <td>19</td>\n",
              "      <td>SSH-Patator</td>\n",
              "    </tr>\n",
              "    <tr>\n",
              "      <td>161979</td>\n",
              "      <td>640</td>\n",
              "      <td>523350.2299</td>\n",
              "      <td>166.542430</td>\n",
              "      <td>5776990.0</td>\n",
              "      <td>5.885418</td>\n",
              "      <td>5776990</td>\n",
              "      <td>98.666667</td>\n",
              "      <td>2297.0</td>\n",
              "      <td>653.800682</td>\n",
              "      <td>1480</td>\n",
              "      <td>175060.3030</td>\n",
              "      <td>120.894737</td>\n",
              "      <td>1971363.0</td>\n",
              "      <td>281.578269</td>\n",
              "      <td>15</td>\n",
              "      <td>19</td>\n",
              "      <td>SSH-Patator</td>\n",
              "    </tr>\n",
              "    <tr>\n",
              "      <td>161980</td>\n",
              "      <td>0</td>\n",
              "      <td>0.0000</td>\n",
              "      <td>0.000000</td>\n",
              "      <td>0.0</td>\n",
              "      <td>100000.000000</td>\n",
              "      <td>20</td>\n",
              "      <td>0.000000</td>\n",
              "      <td>0.0</td>\n",
              "      <td>0.000000</td>\n",
              "      <td>0</td>\n",
              "      <td>20.0000</td>\n",
              "      <td>0.000000</td>\n",
              "      <td>20.0</td>\n",
              "      <td>0.000000</td>\n",
              "      <td>1</td>\n",
              "      <td>1</td>\n",
              "      <td>SSH-Patator</td>\n",
              "    </tr>\n",
              "    <tr>\n",
              "      <td>161981</td>\n",
              "      <td>0</td>\n",
              "      <td>0.0000</td>\n",
              "      <td>0.000000</td>\n",
              "      <td>0.0</td>\n",
              "      <td>28985.507250</td>\n",
              "      <td>69</td>\n",
              "      <td>0.000000</td>\n",
              "      <td>0.0</td>\n",
              "      <td>0.000000</td>\n",
              "      <td>0</td>\n",
              "      <td>69.0000</td>\n",
              "      <td>0.000000</td>\n",
              "      <td>69.0</td>\n",
              "      <td>0.000000</td>\n",
              "      <td>1</td>\n",
              "      <td>1</td>\n",
              "      <td>SSH-Patator</td>\n",
              "    </tr>\n",
              "    <tr>\n",
              "      <td>161982</td>\n",
              "      <td>640</td>\n",
              "      <td>541158.1943</td>\n",
              "      <td>159.195034</td>\n",
              "      <td>6114814.0</td>\n",
              "      <td>5.887342</td>\n",
              "      <td>6114814</td>\n",
              "      <td>87.058824</td>\n",
              "      <td>2297.0</td>\n",
              "      <td>617.680276</td>\n",
              "      <td>1480</td>\n",
              "      <td>174708.9714</td>\n",
              "      <td>120.894737</td>\n",
              "      <td>2056251.0</td>\n",
              "      <td>281.578269</td>\n",
              "      <td>17</td>\n",
              "      <td>19</td>\n",
              "      <td>SSH-Patator</td>\n",
              "    </tr>\n",
              "    <tr>\n",
              "      <td>161983</td>\n",
              "      <td>0</td>\n",
              "      <td>0.0000</td>\n",
              "      <td>0.000000</td>\n",
              "      <td>0.0</td>\n",
              "      <td>23809.523810</td>\n",
              "      <td>84</td>\n",
              "      <td>0.000000</td>\n",
              "      <td>0.0</td>\n",
              "      <td>0.000000</td>\n",
              "      <td>0</td>\n",
              "      <td>84.0000</td>\n",
              "      <td>0.000000</td>\n",
              "      <td>84.0</td>\n",
              "      <td>0.000000</td>\n",
              "      <td>1</td>\n",
              "      <td>1</td>\n",
              "      <td>SSH-Patator</td>\n",
              "    </tr>\n",
              "    <tr>\n",
              "      <td>161984</td>\n",
              "      <td>0</td>\n",
              "      <td>0.0000</td>\n",
              "      <td>0.000000</td>\n",
              "      <td>0.0</td>\n",
              "      <td>34482.758620</td>\n",
              "      <td>58</td>\n",
              "      <td>0.000000</td>\n",
              "      <td>0.0</td>\n",
              "      <td>0.000000</td>\n",
              "      <td>0</td>\n",
              "      <td>58.0000</td>\n",
              "      <td>0.000000</td>\n",
              "      <td>58.0</td>\n",
              "      <td>0.000000</td>\n",
              "      <td>1</td>\n",
              "      <td>1</td>\n",
              "      <td>SSH-Patator</td>\n",
              "    </tr>\n",
              "    <tr>\n",
              "      <td>161987</td>\n",
              "      <td>640</td>\n",
              "      <td>592238.1453</td>\n",
              "      <td>150.303864</td>\n",
              "      <td>8283147.0</td>\n",
              "      <td>5.070537</td>\n",
              "      <td>8283147</td>\n",
              "      <td>87.157895</td>\n",
              "      <td>2441.0</td>\n",
              "      <td>494.618772</td>\n",
              "      <td>1656</td>\n",
              "      <td>202027.9756</td>\n",
              "      <td>106.130435</td>\n",
              "      <td>2428299.0</td>\n",
              "      <td>257.283060</td>\n",
              "      <td>19</td>\n",
              "      <td>23</td>\n",
              "      <td>SSH-Patator</td>\n",
              "    </tr>\n",
              "    <tr>\n",
              "      <td>161988</td>\n",
              "      <td>640</td>\n",
              "      <td>619891.0069</td>\n",
              "      <td>150.303864</td>\n",
              "      <td>8589122.0</td>\n",
              "      <td>4.773480</td>\n",
              "      <td>8589122</td>\n",
              "      <td>87.157895</td>\n",
              "      <td>2441.0</td>\n",
              "      <td>476.998697</td>\n",
              "      <td>1656</td>\n",
              "      <td>214728.0500</td>\n",
              "      <td>110.954545</td>\n",
              "      <td>2428554.0</td>\n",
              "      <td>262.270758</td>\n",
              "      <td>19</td>\n",
              "      <td>22</td>\n",
              "      <td>SSH-Patator</td>\n",
              "    </tr>\n",
              "    <tr>\n",
              "      <td>162065</td>\n",
              "      <td>640</td>\n",
              "      <td>606268.5598</td>\n",
              "      <td>147.587476</td>\n",
              "      <td>8582434.0</td>\n",
              "      <td>5.010234</td>\n",
              "      <td>8582434</td>\n",
              "      <td>82.800000</td>\n",
              "      <td>2441.0</td>\n",
              "      <td>477.370406</td>\n",
              "      <td>1656</td>\n",
              "      <td>204343.6667</td>\n",
              "      <td>106.130435</td>\n",
              "      <td>2430767.0</td>\n",
              "      <td>257.283060</td>\n",
              "      <td>20</td>\n",
              "      <td>23</td>\n",
              "      <td>SSH-Patator</td>\n",
              "    </tr>\n",
              "    <tr>\n",
              "      <td>162068</td>\n",
              "      <td>640</td>\n",
              "      <td>632948.3739</td>\n",
              "      <td>156.057305</td>\n",
              "      <td>8528425.0</td>\n",
              "      <td>4.572943</td>\n",
              "      <td>8528425</td>\n",
              "      <td>97.411765</td>\n",
              "      <td>2441.0</td>\n",
              "      <td>480.393508</td>\n",
              "      <td>1656</td>\n",
              "      <td>224432.2368</td>\n",
              "      <td>110.954545</td>\n",
              "      <td>2420418.0</td>\n",
              "      <td>262.270758</td>\n",
              "      <td>17</td>\n",
              "      <td>22</td>\n",
              "      <td>SSH-Patator</td>\n",
              "    </tr>\n",
              "    <tr>\n",
              "      <td>162069</td>\n",
              "      <td>0</td>\n",
              "      <td>0.0000</td>\n",
              "      <td>0.000000</td>\n",
              "      <td>0.0</td>\n",
              "      <td>19047.619050</td>\n",
              "      <td>105</td>\n",
              "      <td>0.000000</td>\n",
              "      <td>0.0</td>\n",
              "      <td>0.000000</td>\n",
              "      <td>0</td>\n",
              "      <td>105.0000</td>\n",
              "      <td>0.000000</td>\n",
              "      <td>105.0</td>\n",
              "      <td>0.000000</td>\n",
              "      <td>1</td>\n",
              "      <td>1</td>\n",
              "      <td>SSH-Patator</td>\n",
              "    </tr>\n",
              "    <tr>\n",
              "      <td>162072</td>\n",
              "      <td>0</td>\n",
              "      <td>0.0000</td>\n",
              "      <td>0.000000</td>\n",
              "      <td>0.0</td>\n",
              "      <td>26666.666670</td>\n",
              "      <td>75</td>\n",
              "      <td>0.000000</td>\n",
              "      <td>0.0</td>\n",
              "      <td>0.000000</td>\n",
              "      <td>0</td>\n",
              "      <td>75.0000</td>\n",
              "      <td>0.000000</td>\n",
              "      <td>75.0</td>\n",
              "      <td>0.000000</td>\n",
              "      <td>1</td>\n",
              "      <td>1</td>\n",
              "      <td>SSH-Patator</td>\n",
              "    </tr>\n",
              "    <tr>\n",
              "      <td>162073</td>\n",
              "      <td>0</td>\n",
              "      <td>0.0000</td>\n",
              "      <td>0.000000</td>\n",
              "      <td>0.0</td>\n",
              "      <td>27027.027030</td>\n",
              "      <td>74</td>\n",
              "      <td>0.000000</td>\n",
              "      <td>0.0</td>\n",
              "      <td>0.000000</td>\n",
              "      <td>0</td>\n",
              "      <td>74.0000</td>\n",
              "      <td>0.000000</td>\n",
              "      <td>74.0</td>\n",
              "      <td>0.000000</td>\n",
              "      <td>1</td>\n",
              "      <td>1</td>\n",
              "      <td>SSH-Patator</td>\n",
              "    </tr>\n",
              "    <tr>\n",
              "      <td>162075</td>\n",
              "      <td>640</td>\n",
              "      <td>622987.5004</td>\n",
              "      <td>142.792824</td>\n",
              "      <td>10500000.0</td>\n",
              "      <td>4.566716</td>\n",
              "      <td>10510835</td>\n",
              "      <td>87.238095</td>\n",
              "      <td>2585.0</td>\n",
              "      <td>420.233026</td>\n",
              "      <td>1832</td>\n",
              "      <td>223634.7872</td>\n",
              "      <td>95.740741</td>\n",
              "      <td>2421668.0</td>\n",
              "      <td>238.452639</td>\n",
              "      <td>21</td>\n",
              "      <td>27</td>\n",
              "      <td>SSH-Patator</td>\n",
              "    </tr>\n",
              "    <tr>\n",
              "      <td>162076</td>\n",
              "      <td>0</td>\n",
              "      <td>0.0000</td>\n",
              "      <td>0.000000</td>\n",
              "      <td>0.0</td>\n",
              "      <td>21739.130430</td>\n",
              "      <td>92</td>\n",
              "      <td>0.000000</td>\n",
              "      <td>0.0</td>\n",
              "      <td>0.000000</td>\n",
              "      <td>0</td>\n",
              "      <td>92.0000</td>\n",
              "      <td>0.000000</td>\n",
              "      <td>92.0</td>\n",
              "      <td>0.000000</td>\n",
              "      <td>1</td>\n",
              "      <td>1</td>\n",
              "      <td>SSH-Patator</td>\n",
              "    </tr>\n",
              "    <tr>\n",
              "      <td>162077</td>\n",
              "      <td>640</td>\n",
              "      <td>619141.5513</td>\n",
              "      <td>141.914133</td>\n",
              "      <td>9468779.0</td>\n",
              "      <td>4.442001</td>\n",
              "      <td>11931559</td>\n",
              "      <td>100.400000</td>\n",
              "      <td>2745.0</td>\n",
              "      <td>398.355320</td>\n",
              "      <td>2008</td>\n",
              "      <td>229453.0577</td>\n",
              "      <td>83.181818</td>\n",
              "      <td>2419904.0</td>\n",
              "      <td>217.285736</td>\n",
              "      <td>20</td>\n",
              "      <td>33</td>\n",
              "      <td>SSH-Patator</td>\n",
              "    </tr>\n",
              "  </tbody>\n",
              "</table>\n",
              "</div>"
            ],
            "text/plain": [
              "         Fwd Packet Length Max   Flow IAT Std   Fwd Packet Length Std  \\\n",
              "161915                       0         0.0000                0.000000   \n",
              "161916                     640    534015.4383              166.685104   \n",
              "161977                     640    504075.2867              155.799100   \n",
              "161978                     640    511031.6261              159.195034   \n",
              "161979                     640    523350.2299              166.542430   \n",
              "161980                       0         0.0000                0.000000   \n",
              "161981                       0         0.0000                0.000000   \n",
              "161982                     640    541158.1943              159.195034   \n",
              "161983                       0         0.0000                0.000000   \n",
              "161984                       0         0.0000                0.000000   \n",
              "161987                     640    592238.1453              150.303864   \n",
              "161988                     640    619891.0069              150.303864   \n",
              "162065                     640    606268.5598              147.587476   \n",
              "162068                     640    632948.3739              156.057305   \n",
              "162069                       0         0.0000                0.000000   \n",
              "162072                       0         0.0000                0.000000   \n",
              "162073                       0         0.0000                0.000000   \n",
              "162075                     640    622987.5004              142.792824   \n",
              "162076                       0         0.0000                0.000000   \n",
              "162077                     640    619141.5513              141.914133   \n",
              "\n",
              "        Fwd IAT Total   Flow Packets/s   Flow Duration  \\\n",
              "161915          404.0      4950.495050             404   \n",
              "161916      5808851.0         5.680986         5808851   \n",
              "161977      5840763.0         6.334789         5840763   \n",
              "161978      5797001.0         6.210108         5797001   \n",
              "161979      5776990.0         5.885418         5776990   \n",
              "161980            0.0    100000.000000              20   \n",
              "161981            0.0     28985.507250              69   \n",
              "161982      6114814.0         5.887342         6114814   \n",
              "161983            0.0     23809.523810              84   \n",
              "161984            0.0     34482.758620              58   \n",
              "161987      8283147.0         5.070537         8283147   \n",
              "161988      8589122.0         4.773480         8589122   \n",
              "162065      8582434.0         5.010234         8582434   \n",
              "162068      8528425.0         4.572943         8528425   \n",
              "162069            0.0     19047.619050             105   \n",
              "162072            0.0     26666.666670              75   \n",
              "162073            0.0     27027.027030              74   \n",
              "162075     10500000.0         4.566716        10510835   \n",
              "162076            0.0     21739.130430              92   \n",
              "162077      9468779.0         4.442001        11931559   \n",
              "\n",
              "         Fwd Packet Length Mean   Total Length of Bwd Packets  Flow Bytes/s  \\\n",
              "161915                 0.000000                           0.0      0.000000   \n",
              "161916                99.733333                        2297.0    652.969064   \n",
              "161977                82.222222                        2297.0    646.662088   \n",
              "161978                87.058824                        2297.0    651.543790   \n",
              "161979                98.666667                        2297.0    653.800682   \n",
              "161980                 0.000000                           0.0      0.000000   \n",
              "161981                 0.000000                           0.0      0.000000   \n",
              "161982                87.058824                        2297.0    617.680276   \n",
              "161983                 0.000000                           0.0      0.000000   \n",
              "161984                 0.000000                           0.0      0.000000   \n",
              "161987                87.157895                        2441.0    494.618772   \n",
              "161988                87.157895                        2441.0    476.998697   \n",
              "162065                82.800000                        2441.0    477.370406   \n",
              "162068                97.411765                        2441.0    480.393508   \n",
              "162069                 0.000000                           0.0      0.000000   \n",
              "162072                 0.000000                           0.0      0.000000   \n",
              "162073                 0.000000                           0.0      0.000000   \n",
              "162075                87.238095                        2585.0    420.233026   \n",
              "162076                 0.000000                           0.0      0.000000   \n",
              "162077               100.400000                        2745.0    398.355320   \n",
              "\n",
              "        Total Length of Fwd Packets   Flow IAT Mean   Bwd Packet Length Mean  \\\n",
              "161915                            0        404.0000                 0.000000   \n",
              "161916                         1496     181526.5937               127.611111   \n",
              "161977                         1480     162243.4167               120.894737   \n",
              "161978                         1480     165628.6000               120.894737   \n",
              "161979                         1480     175060.3030               120.894737   \n",
              "161980                            0         20.0000                 0.000000   \n",
              "161981                            0         69.0000                 0.000000   \n",
              "161982                         1480     174708.9714               120.894737   \n",
              "161983                            0         84.0000                 0.000000   \n",
              "161984                            0         58.0000                 0.000000   \n",
              "161987                         1656     202027.9756               106.130435   \n",
              "161988                         1656     214728.0500               110.954545   \n",
              "162065                         1656     204343.6667               106.130435   \n",
              "162068                         1656     224432.2368               110.954545   \n",
              "162069                            0        105.0000                 0.000000   \n",
              "162072                            0         75.0000                 0.000000   \n",
              "162073                            0         74.0000                 0.000000   \n",
              "162075                         1832     223634.7872                95.740741   \n",
              "162076                            0         92.0000                 0.000000   \n",
              "162077                         2008     229453.0577                83.181818   \n",
              "\n",
              "         Flow IAT Max   Bwd Packet Length Std   Total Fwd Packets  \\\n",
              "161915          404.0                0.000000                   2   \n",
              "161916      1978974.0              288.171342                  15   \n",
              "161977      1976459.0              281.578269                  18   \n",
              "161978      1964335.0              281.578269                  17   \n",
              "161979      1971363.0              281.578269                  15   \n",
              "161980           20.0                0.000000                   1   \n",
              "161981           69.0                0.000000                   1   \n",
              "161982      2056251.0              281.578269                  17   \n",
              "161983           84.0                0.000000                   1   \n",
              "161984           58.0                0.000000                   1   \n",
              "161987      2428299.0              257.283060                  19   \n",
              "161988      2428554.0              262.270758                  19   \n",
              "162065      2430767.0              257.283060                  20   \n",
              "162068      2420418.0              262.270758                  17   \n",
              "162069          105.0                0.000000                   1   \n",
              "162072           75.0                0.000000                   1   \n",
              "162073           74.0                0.000000                   1   \n",
              "162075      2421668.0              238.452639                  21   \n",
              "162076           92.0                0.000000                   1   \n",
              "162077      2419904.0              217.285736                  20   \n",
              "\n",
              "         Total Backward Packets        Label  \n",
              "161915                        0  SSH-Patator  \n",
              "161916                       18  SSH-Patator  \n",
              "161977                       19  SSH-Patator  \n",
              "161978                       19  SSH-Patator  \n",
              "161979                       19  SSH-Patator  \n",
              "161980                        1  SSH-Patator  \n",
              "161981                        1  SSH-Patator  \n",
              "161982                       19  SSH-Patator  \n",
              "161983                        1  SSH-Patator  \n",
              "161984                        1  SSH-Patator  \n",
              "161987                       23  SSH-Patator  \n",
              "161988                       22  SSH-Patator  \n",
              "162065                       23  SSH-Patator  \n",
              "162068                       22  SSH-Patator  \n",
              "162069                        1  SSH-Patator  \n",
              "162072                        1  SSH-Patator  \n",
              "162073                        1  SSH-Patator  \n",
              "162075                       27  SSH-Patator  \n",
              "162076                        1  SSH-Patator  \n",
              "162077                       33  SSH-Patator  "
            ]
          },
          "metadata": {
            "tags": []
          },
          "execution_count": 37
        }
      ]
    },
    {
      "cell_type": "code",
      "metadata": {
        "id": "IkjX1d1VybE4",
        "colab_type": "code",
        "outputId": "169c3af2-f780-4597-efba-03f73afe24ac",
        "colab": {}
      },
      "source": [
        "df_benign.head(20)"
      ],
      "execution_count": 0,
      "outputs": [
        {
          "output_type": "execute_result",
          "data": {
            "text/html": [
              "<div>\n",
              "<style scoped>\n",
              "    .dataframe tbody tr th:only-of-type {\n",
              "        vertical-align: middle;\n",
              "    }\n",
              "\n",
              "    .dataframe tbody tr th {\n",
              "        vertical-align: top;\n",
              "    }\n",
              "\n",
              "    .dataframe thead th {\n",
              "        text-align: right;\n",
              "    }\n",
              "</style>\n",
              "<table border=\"1\" class=\"dataframe\">\n",
              "  <thead>\n",
              "    <tr style=\"text-align: right;\">\n",
              "      <th></th>\n",
              "      <th>Fwd Packet Length Max</th>\n",
              "      <th>Flow IAT Std</th>\n",
              "      <th>Fwd Packet Length Std</th>\n",
              "      <th>Fwd IAT Total</th>\n",
              "      <th>Flow Packets/s</th>\n",
              "      <th>Flow Duration</th>\n",
              "      <th>Fwd Packet Length Mean</th>\n",
              "      <th>Total Length of Bwd Packets</th>\n",
              "      <th>Flow Bytes/s</th>\n",
              "      <th>Total Length of Fwd Packets</th>\n",
              "      <th>Flow IAT Mean</th>\n",
              "      <th>Bwd Packet Length Mean</th>\n",
              "      <th>Flow IAT Max</th>\n",
              "      <th>Bwd Packet Length Std</th>\n",
              "      <th>Total Fwd Packets</th>\n",
              "      <th>Total Backward Packets</th>\n",
              "      <th>Label</th>\n",
              "    </tr>\n",
              "  </thead>\n",
              "  <tbody>\n",
              "    <tr>\n",
              "      <td>0</td>\n",
              "      <td>220</td>\n",
              "      <td>1.355573e+02</td>\n",
              "      <td>107.349008</td>\n",
              "      <td>640.0</td>\n",
              "      <td>1.718750e+04</td>\n",
              "      <td>640</td>\n",
              "      <td>62.857143</td>\n",
              "      <td>358.0</td>\n",
              "      <td>1.246875e+06</td>\n",
              "      <td>440</td>\n",
              "      <td>6.400000e+01</td>\n",
              "      <td>89.500000</td>\n",
              "      <td>445.0</td>\n",
              "      <td>103.345698</td>\n",
              "      <td>7</td>\n",
              "      <td>4</td>\n",
              "      <td>BENIGN</td>\n",
              "    </tr>\n",
              "    <tr>\n",
              "      <td>1</td>\n",
              "      <td>300</td>\n",
              "      <td>1.927952e+02</td>\n",
              "      <td>132.287566</td>\n",
              "      <td>900.0</td>\n",
              "      <td>1.444444e+04</td>\n",
              "      <td>900</td>\n",
              "      <td>66.666667</td>\n",
              "      <td>2944.0</td>\n",
              "      <td>3.937778e+06</td>\n",
              "      <td>600</td>\n",
              "      <td>7.500000e+01</td>\n",
              "      <td>736.000000</td>\n",
              "      <td>684.0</td>\n",
              "      <td>849.859596</td>\n",
              "      <td>9</td>\n",
              "      <td>4</td>\n",
              "      <td>BENIGN</td>\n",
              "    </tr>\n",
              "    <tr>\n",
              "      <td>2</td>\n",
              "      <td>1388</td>\n",
              "      <td>2.364333e+02</td>\n",
              "      <td>677.274651</td>\n",
              "      <td>1205.0</td>\n",
              "      <td>9.128631e+03</td>\n",
              "      <td>1205</td>\n",
              "      <td>396.571429</td>\n",
              "      <td>2830.0</td>\n",
              "      <td>4.652282e+06</td>\n",
              "      <td>2776</td>\n",
              "      <td>1.205000e+02</td>\n",
              "      <td>707.500000</td>\n",
              "      <td>777.0</td>\n",
              "      <td>816.950631</td>\n",
              "      <td>7</td>\n",
              "      <td>4</td>\n",
              "      <td>BENIGN</td>\n",
              "    </tr>\n",
              "    <tr>\n",
              "      <td>3</td>\n",
              "      <td>226</td>\n",
              "      <td>9.076765e+01</td>\n",
              "      <td>110.276708</td>\n",
              "      <td>511.0</td>\n",
              "      <td>2.152642e+04</td>\n",
              "      <td>511</td>\n",
              "      <td>64.571429</td>\n",
              "      <td>370.0</td>\n",
              "      <td>1.608611e+06</td>\n",
              "      <td>452</td>\n",
              "      <td>5.110000e+01</td>\n",
              "      <td>92.500000</td>\n",
              "      <td>299.0</td>\n",
              "      <td>106.809800</td>\n",
              "      <td>7</td>\n",
              "      <td>4</td>\n",
              "      <td>BENIGN</td>\n",
              "    </tr>\n",
              "    <tr>\n",
              "      <td>4</td>\n",
              "      <td>306</td>\n",
              "      <td>1.486983e+02</td>\n",
              "      <td>134.933317</td>\n",
              "      <td>773.0</td>\n",
              "      <td>1.681759e+04</td>\n",
              "      <td>773</td>\n",
              "      <td>68.000000</td>\n",
              "      <td>2944.0</td>\n",
              "      <td>4.600259e+06</td>\n",
              "      <td>612</td>\n",
              "      <td>6.441667e+01</td>\n",
              "      <td>736.000000</td>\n",
              "      <td>531.0</td>\n",
              "      <td>849.859596</td>\n",
              "      <td>9</td>\n",
              "      <td>4</td>\n",
              "      <td>BENIGN</td>\n",
              "    </tr>\n",
              "    <tr>\n",
              "      <td>5</td>\n",
              "      <td>1550</td>\n",
              "      <td>1.821085e+02</td>\n",
              "      <td>683.485755</td>\n",
              "      <td>986.0</td>\n",
              "      <td>1.521298e+04</td>\n",
              "      <td>986</td>\n",
              "      <td>344.444444</td>\n",
              "      <td>3030.0</td>\n",
              "      <td>6.217039e+06</td>\n",
              "      <td>3100</td>\n",
              "      <td>7.042857e+01</td>\n",
              "      <td>505.000000</td>\n",
              "      <td>696.0</td>\n",
              "      <td>782.342636</td>\n",
              "      <td>9</td>\n",
              "      <td>6</td>\n",
              "      <td>BENIGN</td>\n",
              "    </tr>\n",
              "    <tr>\n",
              "      <td>6</td>\n",
              "      <td>1537</td>\n",
              "      <td>1.873619e+02</td>\n",
              "      <td>677.753294</td>\n",
              "      <td>935.0</td>\n",
              "      <td>1.604278e+04</td>\n",
              "      <td>935</td>\n",
              "      <td>341.555556</td>\n",
              "      <td>3010.0</td>\n",
              "      <td>6.506952e+06</td>\n",
              "      <td>3074</td>\n",
              "      <td>6.678571e+01</td>\n",
              "      <td>501.666667</td>\n",
              "      <td>714.0</td>\n",
              "      <td>777.178658</td>\n",
              "      <td>9</td>\n",
              "      <td>6</td>\n",
              "      <td>BENIGN</td>\n",
              "    </tr>\n",
              "    <tr>\n",
              "      <td>7</td>\n",
              "      <td>1646</td>\n",
              "      <td>1.016422e+05</td>\n",
              "      <td>562.935859</td>\n",
              "      <td>572849.0</td>\n",
              "      <td>4.713284e+01</td>\n",
              "      <td>572849</td>\n",
              "      <td>271.733333</td>\n",
              "      <td>1020.0</td>\n",
              "      <td>8.895887e+03</td>\n",
              "      <td>4076</td>\n",
              "      <td>2.203265e+04</td>\n",
              "      <td>85.000000</td>\n",
              "      <td>517763.0</td>\n",
              "      <td>91.222007</td>\n",
              "      <td>15</td>\n",
              "      <td>12</td>\n",
              "      <td>BENIGN</td>\n",
              "    </tr>\n",
              "    <tr>\n",
              "      <td>8</td>\n",
              "      <td>0</td>\n",
              "      <td>7.071068e-01</td>\n",
              "      <td>0.000000</td>\n",
              "      <td>1.0</td>\n",
              "      <td>3.000000e+06</td>\n",
              "      <td>1</td>\n",
              "      <td>0.000000</td>\n",
              "      <td>0.0</td>\n",
              "      <td>0.000000e+00</td>\n",
              "      <td>0</td>\n",
              "      <td>5.000000e-01</td>\n",
              "      <td>0.000000</td>\n",
              "      <td>1.0</td>\n",
              "      <td>0.000000</td>\n",
              "      <td>2</td>\n",
              "      <td>1</td>\n",
              "      <td>BENIGN</td>\n",
              "    </tr>\n",
              "    <tr>\n",
              "      <td>9</td>\n",
              "      <td>1550</td>\n",
              "      <td>1.678878e+02</td>\n",
              "      <td>683.485755</td>\n",
              "      <td>1075.0</td>\n",
              "      <td>1.674419e+04</td>\n",
              "      <td>1075</td>\n",
              "      <td>344.444444</td>\n",
              "      <td>3030.0</td>\n",
              "      <td>5.702326e+06</td>\n",
              "      <td>3100</td>\n",
              "      <td>6.323529e+01</td>\n",
              "      <td>336.666667</td>\n",
              "      <td>709.0</td>\n",
              "      <td>668.052206</td>\n",
              "      <td>9</td>\n",
              "      <td>9</td>\n",
              "      <td>BENIGN</td>\n",
              "    </tr>\n",
              "    <tr>\n",
              "      <td>10</td>\n",
              "      <td>1537</td>\n",
              "      <td>4.239486e+02</td>\n",
              "      <td>677.753294</td>\n",
              "      <td>2687.0</td>\n",
              "      <td>5.582434e+03</td>\n",
              "      <td>2687</td>\n",
              "      <td>341.555556</td>\n",
              "      <td>3010.0</td>\n",
              "      <td>2.264235e+06</td>\n",
              "      <td>3074</td>\n",
              "      <td>1.919286e+02</td>\n",
              "      <td>501.666667</td>\n",
              "      <td>1505.0</td>\n",
              "      <td>777.178658</td>\n",
              "      <td>9</td>\n",
              "      <td>6</td>\n",
              "      <td>BENIGN</td>\n",
              "    </tr>\n",
              "    <tr>\n",
              "      <td>11</td>\n",
              "      <td>168</td>\n",
              "      <td>1.978382e+06</td>\n",
              "      <td>85.187971</td>\n",
              "      <td>14300000.0</td>\n",
              "      <td>2.313563e+00</td>\n",
              "      <td>14263712</td>\n",
              "      <td>79.238095</td>\n",
              "      <td>1784.0</td>\n",
              "      <td>2.417323e+02</td>\n",
              "      <td>1664</td>\n",
              "      <td>4.457410e+05</td>\n",
              "      <td>148.666667</td>\n",
              "      <td>11100000.0</td>\n",
              "      <td>84.884235</td>\n",
              "      <td>21</td>\n",
              "      <td>12</td>\n",
              "      <td>BENIGN</td>\n",
              "    </tr>\n",
              "    <tr>\n",
              "      <td>12</td>\n",
              "      <td>968</td>\n",
              "      <td>3.549721e+06</td>\n",
              "      <td>381.791781</td>\n",
              "      <td>14300000.0</td>\n",
              "      <td>1.192314e+00</td>\n",
              "      <td>14257993</td>\n",
              "      <td>216.181818</td>\n",
              "      <td>2160.0</td>\n",
              "      <td>3.182776e+02</td>\n",
              "      <td>2378</td>\n",
              "      <td>8.911246e+05</td>\n",
              "      <td>360.000000</td>\n",
              "      <td>14200000.0</td>\n",
              "      <td>462.120331</td>\n",
              "      <td>11</td>\n",
              "      <td>6</td>\n",
              "      <td>BENIGN</td>\n",
              "    </tr>\n",
              "    <tr>\n",
              "      <td>13</td>\n",
              "      <td>0</td>\n",
              "      <td>3.496188e+01</td>\n",
              "      <td>0.000000</td>\n",
              "      <td>0.0</td>\n",
              "      <td>5.882353e+04</td>\n",
              "      <td>68</td>\n",
              "      <td>0.000000</td>\n",
              "      <td>0.0</td>\n",
              "      <td>0.000000e+00</td>\n",
              "      <td>0</td>\n",
              "      <td>2.266667e+01</td>\n",
              "      <td>0.000000</td>\n",
              "      <td>63.0</td>\n",
              "      <td>0.000000</td>\n",
              "      <td>1</td>\n",
              "      <td>3</td>\n",
              "      <td>BENIGN</td>\n",
              "    </tr>\n",
              "    <tr>\n",
              "      <td>14</td>\n",
              "      <td>0</td>\n",
              "      <td>3.008876e+01</td>\n",
              "      <td>0.000000</td>\n",
              "      <td>0.0</td>\n",
              "      <td>6.896552e+04</td>\n",
              "      <td>58</td>\n",
              "      <td>0.000000</td>\n",
              "      <td>0.0</td>\n",
              "      <td>0.000000e+00</td>\n",
              "      <td>0</td>\n",
              "      <td>1.933333e+01</td>\n",
              "      <td>0.000000</td>\n",
              "      <td>54.0</td>\n",
              "      <td>0.000000</td>\n",
              "      <td>1</td>\n",
              "      <td>3</td>\n",
              "      <td>BENIGN</td>\n",
              "    </tr>\n",
              "    <tr>\n",
              "      <td>15</td>\n",
              "      <td>227</td>\n",
              "      <td>1.000000e+07</td>\n",
              "      <td>113.500000</td>\n",
              "      <td>75494.0</td>\n",
              "      <td>3.002804e-01</td>\n",
              "      <td>26641766</td>\n",
              "      <td>56.750000</td>\n",
              "      <td>301.0</td>\n",
              "      <td>1.981851e+01</td>\n",
              "      <td>227</td>\n",
              "      <td>3.805967e+06</td>\n",
              "      <td>75.250000</td>\n",
              "      <td>26600000.0</td>\n",
              "      <td>150.500000</td>\n",
              "      <td>4</td>\n",
              "      <td>4</td>\n",
              "      <td>BENIGN</td>\n",
              "    </tr>\n",
              "    <tr>\n",
              "      <td>16</td>\n",
              "      <td>1755</td>\n",
              "      <td>3.665524e+06</td>\n",
              "      <td>490.971796</td>\n",
              "      <td>34300000.0</td>\n",
              "      <td>2.131012e+00</td>\n",
              "      <td>34256029</td>\n",
              "      <td>310.102564</td>\n",
              "      <td>6500.0</td>\n",
              "      <td>5.427950e+02</td>\n",
              "      <td>12094</td>\n",
              "      <td>4.757782e+05</td>\n",
              "      <td>191.176471</td>\n",
              "      <td>31100000.0</td>\n",
              "      <td>128.012895</td>\n",
              "      <td>39</td>\n",
              "      <td>34</td>\n",
              "      <td>BENIGN</td>\n",
              "    </tr>\n",
              "    <tr>\n",
              "      <td>17</td>\n",
              "      <td>0</td>\n",
              "      <td>3.406367e+01</td>\n",
              "      <td>0.000000</td>\n",
              "      <td>0.0</td>\n",
              "      <td>6.451613e+04</td>\n",
              "      <td>62</td>\n",
              "      <td>0.000000</td>\n",
              "      <td>0.0</td>\n",
              "      <td>0.000000e+00</td>\n",
              "      <td>0</td>\n",
              "      <td>2.066667e+01</td>\n",
              "      <td>0.000000</td>\n",
              "      <td>60.0</td>\n",
              "      <td>0.000000</td>\n",
              "      <td>1</td>\n",
              "      <td>3</td>\n",
              "      <td>BENIGN</td>\n",
              "    </tr>\n",
              "    <tr>\n",
              "      <td>18</td>\n",
              "      <td>376</td>\n",
              "      <td>2.036932e+04</td>\n",
              "      <td>106.549698</td>\n",
              "      <td>310531.0</td>\n",
              "      <td>9.016813e+01</td>\n",
              "      <td>310531</td>\n",
              "      <td>62.533333</td>\n",
              "      <td>4633.0</td>\n",
              "      <td>1.794024e+04</td>\n",
              "      <td>938</td>\n",
              "      <td>1.150115e+04</td>\n",
              "      <td>356.384615</td>\n",
              "      <td>68414.0</td>\n",
              "      <td>515.048790</td>\n",
              "      <td>15</td>\n",
              "      <td>13</td>\n",
              "      <td>BENIGN</td>\n",
              "    </tr>\n",
              "    <tr>\n",
              "      <td>19</td>\n",
              "      <td>0</td>\n",
              "      <td>0.000000e+00</td>\n",
              "      <td>0.000000</td>\n",
              "      <td>4.0</td>\n",
              "      <td>5.000000e+05</td>\n",
              "      <td>4</td>\n",
              "      <td>0.000000</td>\n",
              "      <td>0.0</td>\n",
              "      <td>0.000000e+00</td>\n",
              "      <td>0</td>\n",
              "      <td>4.000000e+00</td>\n",
              "      <td>0.000000</td>\n",
              "      <td>4.0</td>\n",
              "      <td>0.000000</td>\n",
              "      <td>2</td>\n",
              "      <td>0</td>\n",
              "      <td>BENIGN</td>\n",
              "    </tr>\n",
              "  </tbody>\n",
              "</table>\n",
              "</div>"
            ],
            "text/plain": [
              "     Fwd Packet Length Max   Flow IAT Std   Fwd Packet Length Std  \\\n",
              "0                      220   1.355573e+02              107.349008   \n",
              "1                      300   1.927952e+02              132.287566   \n",
              "2                     1388   2.364333e+02              677.274651   \n",
              "3                      226   9.076765e+01              110.276708   \n",
              "4                      306   1.486983e+02              134.933317   \n",
              "5                     1550   1.821085e+02              683.485755   \n",
              "6                     1537   1.873619e+02              677.753294   \n",
              "7                     1646   1.016422e+05              562.935859   \n",
              "8                        0   7.071068e-01                0.000000   \n",
              "9                     1550   1.678878e+02              683.485755   \n",
              "10                    1537   4.239486e+02              677.753294   \n",
              "11                     168   1.978382e+06               85.187971   \n",
              "12                     968   3.549721e+06              381.791781   \n",
              "13                       0   3.496188e+01                0.000000   \n",
              "14                       0   3.008876e+01                0.000000   \n",
              "15                     227   1.000000e+07              113.500000   \n",
              "16                    1755   3.665524e+06              490.971796   \n",
              "17                       0   3.406367e+01                0.000000   \n",
              "18                     376   2.036932e+04              106.549698   \n",
              "19                       0   0.000000e+00                0.000000   \n",
              "\n",
              "    Fwd IAT Total   Flow Packets/s   Flow Duration   Fwd Packet Length Mean  \\\n",
              "0           640.0     1.718750e+04             640                62.857143   \n",
              "1           900.0     1.444444e+04             900                66.666667   \n",
              "2          1205.0     9.128631e+03            1205               396.571429   \n",
              "3           511.0     2.152642e+04             511                64.571429   \n",
              "4           773.0     1.681759e+04             773                68.000000   \n",
              "5           986.0     1.521298e+04             986               344.444444   \n",
              "6           935.0     1.604278e+04             935               341.555556   \n",
              "7        572849.0     4.713284e+01          572849               271.733333   \n",
              "8             1.0     3.000000e+06               1                 0.000000   \n",
              "9          1075.0     1.674419e+04            1075               344.444444   \n",
              "10         2687.0     5.582434e+03            2687               341.555556   \n",
              "11     14300000.0     2.313563e+00        14263712                79.238095   \n",
              "12     14300000.0     1.192314e+00        14257993               216.181818   \n",
              "13            0.0     5.882353e+04              68                 0.000000   \n",
              "14            0.0     6.896552e+04              58                 0.000000   \n",
              "15        75494.0     3.002804e-01        26641766                56.750000   \n",
              "16     34300000.0     2.131012e+00        34256029               310.102564   \n",
              "17            0.0     6.451613e+04              62                 0.000000   \n",
              "18       310531.0     9.016813e+01          310531                62.533333   \n",
              "19            4.0     5.000000e+05               4                 0.000000   \n",
              "\n",
              "     Total Length of Bwd Packets  Flow Bytes/s  Total Length of Fwd Packets  \\\n",
              "0                          358.0  1.246875e+06                          440   \n",
              "1                         2944.0  3.937778e+06                          600   \n",
              "2                         2830.0  4.652282e+06                         2776   \n",
              "3                          370.0  1.608611e+06                          452   \n",
              "4                         2944.0  4.600259e+06                          612   \n",
              "5                         3030.0  6.217039e+06                         3100   \n",
              "6                         3010.0  6.506952e+06                         3074   \n",
              "7                         1020.0  8.895887e+03                         4076   \n",
              "8                            0.0  0.000000e+00                            0   \n",
              "9                         3030.0  5.702326e+06                         3100   \n",
              "10                        3010.0  2.264235e+06                         3074   \n",
              "11                        1784.0  2.417323e+02                         1664   \n",
              "12                        2160.0  3.182776e+02                         2378   \n",
              "13                           0.0  0.000000e+00                            0   \n",
              "14                           0.0  0.000000e+00                            0   \n",
              "15                         301.0  1.981851e+01                          227   \n",
              "16                        6500.0  5.427950e+02                        12094   \n",
              "17                           0.0  0.000000e+00                            0   \n",
              "18                        4633.0  1.794024e+04                          938   \n",
              "19                           0.0  0.000000e+00                            0   \n",
              "\n",
              "     Flow IAT Mean   Bwd Packet Length Mean   Flow IAT Max  \\\n",
              "0     6.400000e+01                89.500000          445.0   \n",
              "1     7.500000e+01               736.000000          684.0   \n",
              "2     1.205000e+02               707.500000          777.0   \n",
              "3     5.110000e+01                92.500000          299.0   \n",
              "4     6.441667e+01               736.000000          531.0   \n",
              "5     7.042857e+01               505.000000          696.0   \n",
              "6     6.678571e+01               501.666667          714.0   \n",
              "7     2.203265e+04                85.000000       517763.0   \n",
              "8     5.000000e-01                 0.000000            1.0   \n",
              "9     6.323529e+01               336.666667          709.0   \n",
              "10    1.919286e+02               501.666667         1505.0   \n",
              "11    4.457410e+05               148.666667     11100000.0   \n",
              "12    8.911246e+05               360.000000     14200000.0   \n",
              "13    2.266667e+01                 0.000000           63.0   \n",
              "14    1.933333e+01                 0.000000           54.0   \n",
              "15    3.805967e+06                75.250000     26600000.0   \n",
              "16    4.757782e+05               191.176471     31100000.0   \n",
              "17    2.066667e+01                 0.000000           60.0   \n",
              "18    1.150115e+04               356.384615        68414.0   \n",
              "19    4.000000e+00                 0.000000            4.0   \n",
              "\n",
              "     Bwd Packet Length Std   Total Fwd Packets   Total Backward Packets  \\\n",
              "0               103.345698                   7                        4   \n",
              "1               849.859596                   9                        4   \n",
              "2               816.950631                   7                        4   \n",
              "3               106.809800                   7                        4   \n",
              "4               849.859596                   9                        4   \n",
              "5               782.342636                   9                        6   \n",
              "6               777.178658                   9                        6   \n",
              "7                91.222007                  15                       12   \n",
              "8                 0.000000                   2                        1   \n",
              "9               668.052206                   9                        9   \n",
              "10              777.178658                   9                        6   \n",
              "11               84.884235                  21                       12   \n",
              "12              462.120331                  11                        6   \n",
              "13                0.000000                   1                        3   \n",
              "14                0.000000                   1                        3   \n",
              "15              150.500000                   4                        4   \n",
              "16              128.012895                  39                       34   \n",
              "17                0.000000                   1                        3   \n",
              "18              515.048790                  15                       13   \n",
              "19                0.000000                   2                        0   \n",
              "\n",
              "     Label  \n",
              "0   BENIGN  \n",
              "1   BENIGN  \n",
              "2   BENIGN  \n",
              "3   BENIGN  \n",
              "4   BENIGN  \n",
              "5   BENIGN  \n",
              "6   BENIGN  \n",
              "7   BENIGN  \n",
              "8   BENIGN  \n",
              "9   BENIGN  \n",
              "10  BENIGN  \n",
              "11  BENIGN  \n",
              "12  BENIGN  \n",
              "13  BENIGN  \n",
              "14  BENIGN  \n",
              "15  BENIGN  \n",
              "16  BENIGN  \n",
              "17  BENIGN  \n",
              "18  BENIGN  \n",
              "19  BENIGN  "
            ]
          },
          "metadata": {
            "tags": []
          },
          "execution_count": 38
        }
      ]
    },
    {
      "cell_type": "markdown",
      "metadata": {
        "id": "_i-7iOgvybE-",
        "colab_type": "text"
      },
      "source": [
        "### Standard deviation of features for benign data"
      ]
    },
    {
      "cell_type": "code",
      "metadata": {
        "id": "TuiIDhz3ybFA",
        "colab_type": "code",
        "outputId": "26613bd3-36cd-4912-8248-477b118b92bb",
        "colab": {}
      },
      "source": [
        "ben_std={}\n",
        "\n",
        "cols = list(df.columns[0:-1])\n",
        "for col in cols:\n",
        "    ben_std[col+str('_std')] = df_benign[col].values.std()\n",
        "\n",
        "# converting to series for further processing\n",
        "ben_std = pd.Series(ben_std) \n",
        "print(ben_std)"
      ],
      "execution_count": 0,
      "outputs": [
        {
          "output_type": "stream",
          "text": [
            " Fwd Packet Length Max_std          4.778144e+02\n",
            " Flow IAT Std_std                   5.860450e+06\n",
            " Fwd Packet Length Std_std          1.487513e+02\n",
            "Fwd IAT Total_std                   2.986306e+07\n",
            " Flow Packets/s_std                 2.303280e+05\n",
            " Flow Duration_std                  2.999846e+07\n",
            " Fwd Packet Length Mean_std         1.147536e+02\n",
            " Total Length of Bwd Packets_std    2.668090e+06\n",
            "Flow Bytes/s_std                    2.359402e+07\n",
            "Total Length of Fwd Packets_std     5.766572e+03\n",
            " Flow IAT Mean_std                  4.317292e+06\n",
            " Bwd Packet Length Mean_std         3.151428e+02\n",
            " Flow IAT Max_std                   1.362517e+07\n",
            " Bwd Packet Length Std_std          2.880370e+02\n",
            " Total Fwd Packets_std              8.810475e+02\n",
            " Total Backward Packets_std         1.191054e+03\n",
            "dtype: float64\n"
          ],
          "name": "stdout"
        }
      ]
    },
    {
      "cell_type": "markdown",
      "metadata": {
        "id": "Mc0ewQf8ybFO",
        "colab_type": "text"
      },
      "source": [
        "### Standard deviation of features for FTP Attack data"
      ]
    },
    {
      "cell_type": "code",
      "metadata": {
        "id": "w0rGkYjXybFQ",
        "colab_type": "code",
        "outputId": "74882092-d902-4dbf-eec8-248afc7e62db",
        "colab": {}
      },
      "source": [
        "ftp_std={}\n",
        "\n",
        "cols = list(df.columns[0:-1])\n",
        "for col in cols:\n",
        "    ftp_std[col+str('_std')] = df_ftp[col].values.std()\n",
        "    \n",
        "# converting to series for further processing\n",
        "ftp_std = pd.Series(ftp_std) \n",
        "print(ftp_std)"
      ],
      "execution_count": 0,
      "outputs": [
        {
          "output_type": "stream",
          "text": [
            " Fwd Packet Length Max_std          5.572105e+00\n",
            " Flow IAT Std_std                   5.125854e+05\n",
            " Fwd Packet Length Std_std          8.459415e-01\n",
            "Fwd IAT Total_std                   3.028068e+06\n",
            " Flow Packets/s_std                 3.058386e+05\n",
            " Flow Duration_std                  4.526970e+06\n",
            " Fwd Packet Length Mean_std         2.493508e+00\n",
            " Total Length of Bwd Packets_std    9.391640e+01\n",
            "Flow Bytes/s_std                    2.128678e+06\n",
            "Total Length of Fwd Packets_std     4.633285e+01\n",
            " Flow IAT Mean_std                  1.976268e+05\n",
            " Bwd Packet Length Mean_std         6.267051e+00\n",
            " Flow IAT Max_std                   1.636901e+06\n",
            " Bwd Packet Length Std_std          7.274986e+00\n",
            " Total Fwd Packets_std              3.499639e+00\n",
            " Total Backward Packets_std         7.186003e+00\n",
            "dtype: float64\n"
          ],
          "name": "stdout"
        }
      ]
    },
    {
      "cell_type": "markdown",
      "metadata": {
        "id": "xBUu_hAUybFW",
        "colab_type": "text"
      },
      "source": [
        "### Standard deviation of features for SSH Attack data"
      ]
    },
    {
      "cell_type": "code",
      "metadata": {
        "id": "1Jmm1CBFybFa",
        "colab_type": "code",
        "outputId": "69c34cfc-47aa-4e9d-bc11-b89a114d9fde",
        "colab": {}
      },
      "source": [
        "ssh_std={}\n",
        "\n",
        "cols = list(df.columns[0:-1])\n",
        "for col in cols:\n",
        "    ssh_std[col+str('_std')] = df_ssh[col].values.std()\n",
        "    \n",
        "# converting to series for further processing\n",
        "ssh_std = pd.Series(ssh_std) \n",
        "print(ssh_std)"
      ],
      "execution_count": 0,
      "outputs": [
        {
          "output_type": "stream",
          "text": [
            " Fwd Packet Length Max_std          3.205947e+02\n",
            " Flow IAT Std_std                   4.977605e+05\n",
            " Fwd Packet Length Std_std          7.029028e+01\n",
            "Fwd IAT Total_std                   5.177558e+06\n",
            " Flow Packets/s_std                 3.303134e+04\n",
            " Flow Duration_std                  6.515325e+06\n",
            " Fwd Packet Length Mean_std         4.778573e+01\n",
            " Total Length of Bwd Packets_std    1.383771e+03\n",
            "Flow Bytes/s_std                    8.710135e+03\n",
            "Total Length of Fwd Packets_std     1.006857e+03\n",
            " Flow IAT Mean_std                  1.378822e+05\n",
            " Bwd Packet Length Mean_std         4.367718e+01\n",
            " Flow IAT Max_std                   2.416856e+06\n",
            " Bwd Packet Length Std_std          1.110300e+02\n",
            " Total Fwd Packets_std              1.012242e+01\n",
            " Total Backward Packets_std         1.552835e+01\n",
            "dtype: float64\n"
          ],
          "name": "stdout"
        }
      ]
    },
    {
      "cell_type": "markdown",
      "metadata": {
        "id": "Xigg79GWybFi",
        "colab_type": "text"
      },
      "source": [
        "### Dataframe containing standard deviations "
      ]
    },
    {
      "cell_type": "code",
      "metadata": {
        "id": "4F_9NPrXybFk",
        "colab_type": "code",
        "outputId": "0adbdbab-58f3-4be4-f913-9860d97fe368",
        "colab": {}
      },
      "source": [
        "# Converting dataframes containing standard deviations of benign,ftp and ssh attack into single dataframe\n",
        "frame = { 'benign': ben_std, 'ftp': ftp_std, 'ssh':ssh_std } \n",
        "  \n",
        "df_std_all = pd.DataFrame(frame) \n",
        "print(df_std_all)"
      ],
      "execution_count": 0,
      "outputs": [
        {
          "output_type": "stream",
          "text": [
            "                                        benign           ftp           ssh\n",
            " Fwd Packet Length Max_std        4.778144e+02  5.572105e+00  3.205947e+02\n",
            " Flow IAT Std_std                 5.860450e+06  5.125854e+05  4.977605e+05\n",
            " Fwd Packet Length Std_std        1.487513e+02  8.459415e-01  7.029028e+01\n",
            "Fwd IAT Total_std                 2.986306e+07  3.028068e+06  5.177558e+06\n",
            " Flow Packets/s_std               2.303280e+05  3.058386e+05  3.303134e+04\n",
            " Flow Duration_std                2.999846e+07  4.526970e+06  6.515325e+06\n",
            " Fwd Packet Length Mean_std       1.147536e+02  2.493508e+00  4.778573e+01\n",
            " Total Length of Bwd Packets_std  2.668090e+06  9.391640e+01  1.383771e+03\n",
            "Flow Bytes/s_std                  2.359402e+07  2.128678e+06  8.710135e+03\n",
            "Total Length of Fwd Packets_std   5.766572e+03  4.633285e+01  1.006857e+03\n",
            " Flow IAT Mean_std                4.317292e+06  1.976268e+05  1.378822e+05\n",
            " Bwd Packet Length Mean_std       3.151428e+02  6.267051e+00  4.367718e+01\n",
            " Flow IAT Max_std                 1.362517e+07  1.636901e+06  2.416856e+06\n",
            " Bwd Packet Length Std_std        2.880370e+02  7.274986e+00  1.110300e+02\n",
            " Total Fwd Packets_std            8.810475e+02  3.499639e+00  1.012242e+01\n",
            " Total Backward Packets_std       1.191054e+03  7.186003e+00  1.552835e+01\n"
          ],
          "name": "stdout"
        }
      ]
    },
    {
      "cell_type": "code",
      "metadata": {
        "id": "0Ub0VknDybFr",
        "colab_type": "code",
        "outputId": "015d652e-a0d2-4d12-abaa-30f1e57e5d28",
        "colab": {}
      },
      "source": [
        "df_std_all['benign'][' Fwd Packet Length Max_std']"
      ],
      "execution_count": 0,
      "outputs": [
        {
          "output_type": "execute_result",
          "data": {
            "text/plain": [
              "477.81442694319674"
            ]
          },
          "metadata": {
            "tags": []
          },
          "execution_count": 43
        }
      ]
    },
    {
      "cell_type": "code",
      "metadata": {
        "id": "FfJ6Jt0mybFy",
        "colab_type": "code",
        "outputId": "fb0766ca-539f-465f-e9ec-7d15e89a0f12",
        "colab": {}
      },
      "source": [
        "dummy_variable_1 = pd.get_dummies(df[\" Label\"])\n",
        "print(dummy_variable_1.head())"
      ],
      "execution_count": 0,
      "outputs": [
        {
          "output_type": "stream",
          "text": [
            "   BENIGN  FTP-Patator  SSH-Patator\n",
            "0       1            0            0\n",
            "1       1            0            0\n",
            "2       1            0            0\n",
            "3       1            0            0\n",
            "4       1            0            0\n"
          ],
          "name": "stdout"
        }
      ]
    },
    {
      "cell_type": "code",
      "metadata": {
        "id": "vn2vUTXQybF6",
        "colab_type": "code",
        "colab": {}
      },
      "source": [
        "df=pd.concat([df,dummy_variable_1], axis=1)\n",
        "# drop original column \"fuel-type\" from \"df\"\n",
        "df2=df\n",
        "df2.drop(\" Label\", axis=1,inplace=True)"
      ],
      "execution_count": 0,
      "outputs": []
    },
    {
      "cell_type": "code",
      "metadata": {
        "id": "Pxz1LvE2ybF_",
        "colab_type": "code",
        "outputId": "4d28600a-5dcc-445c-f48e-21eb0f78fe4d",
        "colab": {}
      },
      "source": [
        "df2.head()"
      ],
      "execution_count": 0,
      "outputs": [
        {
          "output_type": "execute_result",
          "data": {
            "text/html": [
              "<div>\n",
              "<style scoped>\n",
              "    .dataframe tbody tr th:only-of-type {\n",
              "        vertical-align: middle;\n",
              "    }\n",
              "\n",
              "    .dataframe tbody tr th {\n",
              "        vertical-align: top;\n",
              "    }\n",
              "\n",
              "    .dataframe thead th {\n",
              "        text-align: right;\n",
              "    }\n",
              "</style>\n",
              "<table border=\"1\" class=\"dataframe\">\n",
              "  <thead>\n",
              "    <tr style=\"text-align: right;\">\n",
              "      <th></th>\n",
              "      <th>Fwd Packet Length Max</th>\n",
              "      <th>Flow IAT Std</th>\n",
              "      <th>Fwd Packet Length Std</th>\n",
              "      <th>Fwd IAT Total</th>\n",
              "      <th>Flow Packets/s</th>\n",
              "      <th>Flow Duration</th>\n",
              "      <th>Fwd Packet Length Mean</th>\n",
              "      <th>Total Length of Bwd Packets</th>\n",
              "      <th>Flow Bytes/s</th>\n",
              "      <th>Total Length of Fwd Packets</th>\n",
              "      <th>Flow IAT Mean</th>\n",
              "      <th>Bwd Packet Length Mean</th>\n",
              "      <th>Flow IAT Max</th>\n",
              "      <th>Bwd Packet Length Std</th>\n",
              "      <th>Total Fwd Packets</th>\n",
              "      <th>Total Backward Packets</th>\n",
              "      <th>BENIGN</th>\n",
              "      <th>FTP-Patator</th>\n",
              "      <th>SSH-Patator</th>\n",
              "    </tr>\n",
              "  </thead>\n",
              "  <tbody>\n",
              "    <tr>\n",
              "      <td>0</td>\n",
              "      <td>220</td>\n",
              "      <td>135.557286</td>\n",
              "      <td>107.349008</td>\n",
              "      <td>640.0</td>\n",
              "      <td>17187.500000</td>\n",
              "      <td>640</td>\n",
              "      <td>62.857143</td>\n",
              "      <td>358.0</td>\n",
              "      <td>1246875.000</td>\n",
              "      <td>440</td>\n",
              "      <td>64.000000</td>\n",
              "      <td>89.5</td>\n",
              "      <td>445.0</td>\n",
              "      <td>103.345698</td>\n",
              "      <td>7</td>\n",
              "      <td>4</td>\n",
              "      <td>1</td>\n",
              "      <td>0</td>\n",
              "      <td>0</td>\n",
              "    </tr>\n",
              "    <tr>\n",
              "      <td>1</td>\n",
              "      <td>300</td>\n",
              "      <td>192.795228</td>\n",
              "      <td>132.287566</td>\n",
              "      <td>900.0</td>\n",
              "      <td>14444.444440</td>\n",
              "      <td>900</td>\n",
              "      <td>66.666667</td>\n",
              "      <td>2944.0</td>\n",
              "      <td>3937777.778</td>\n",
              "      <td>600</td>\n",
              "      <td>75.000000</td>\n",
              "      <td>736.0</td>\n",
              "      <td>684.0</td>\n",
              "      <td>849.859596</td>\n",
              "      <td>9</td>\n",
              "      <td>4</td>\n",
              "      <td>1</td>\n",
              "      <td>0</td>\n",
              "      <td>0</td>\n",
              "    </tr>\n",
              "    <tr>\n",
              "      <td>2</td>\n",
              "      <td>1388</td>\n",
              "      <td>236.433336</td>\n",
              "      <td>677.274651</td>\n",
              "      <td>1205.0</td>\n",
              "      <td>9128.630705</td>\n",
              "      <td>1205</td>\n",
              "      <td>396.571429</td>\n",
              "      <td>2830.0</td>\n",
              "      <td>4652282.158</td>\n",
              "      <td>2776</td>\n",
              "      <td>120.500000</td>\n",
              "      <td>707.5</td>\n",
              "      <td>777.0</td>\n",
              "      <td>816.950631</td>\n",
              "      <td>7</td>\n",
              "      <td>4</td>\n",
              "      <td>1</td>\n",
              "      <td>0</td>\n",
              "      <td>0</td>\n",
              "    </tr>\n",
              "    <tr>\n",
              "      <td>3</td>\n",
              "      <td>226</td>\n",
              "      <td>90.767652</td>\n",
              "      <td>110.276708</td>\n",
              "      <td>511.0</td>\n",
              "      <td>21526.418790</td>\n",
              "      <td>511</td>\n",
              "      <td>64.571429</td>\n",
              "      <td>370.0</td>\n",
              "      <td>1608610.568</td>\n",
              "      <td>452</td>\n",
              "      <td>51.100000</td>\n",
              "      <td>92.5</td>\n",
              "      <td>299.0</td>\n",
              "      <td>106.809800</td>\n",
              "      <td>7</td>\n",
              "      <td>4</td>\n",
              "      <td>1</td>\n",
              "      <td>0</td>\n",
              "      <td>0</td>\n",
              "    </tr>\n",
              "    <tr>\n",
              "      <td>4</td>\n",
              "      <td>306</td>\n",
              "      <td>148.698266</td>\n",
              "      <td>134.933317</td>\n",
              "      <td>773.0</td>\n",
              "      <td>16817.593790</td>\n",
              "      <td>773</td>\n",
              "      <td>68.000000</td>\n",
              "      <td>2944.0</td>\n",
              "      <td>4600258.732</td>\n",
              "      <td>612</td>\n",
              "      <td>64.416667</td>\n",
              "      <td>736.0</td>\n",
              "      <td>531.0</td>\n",
              "      <td>849.859596</td>\n",
              "      <td>9</td>\n",
              "      <td>4</td>\n",
              "      <td>1</td>\n",
              "      <td>0</td>\n",
              "      <td>0</td>\n",
              "    </tr>\n",
              "  </tbody>\n",
              "</table>\n",
              "</div>"
            ],
            "text/plain": [
              "    Fwd Packet Length Max   Flow IAT Std   Fwd Packet Length Std  \\\n",
              "0                     220     135.557286              107.349008   \n",
              "1                     300     192.795228              132.287566   \n",
              "2                    1388     236.433336              677.274651   \n",
              "3                     226      90.767652              110.276708   \n",
              "4                     306     148.698266              134.933317   \n",
              "\n",
              "   Fwd IAT Total   Flow Packets/s   Flow Duration   Fwd Packet Length Mean  \\\n",
              "0          640.0     17187.500000             640                62.857143   \n",
              "1          900.0     14444.444440             900                66.666667   \n",
              "2         1205.0      9128.630705            1205               396.571429   \n",
              "3          511.0     21526.418790             511                64.571429   \n",
              "4          773.0     16817.593790             773                68.000000   \n",
              "\n",
              "    Total Length of Bwd Packets  Flow Bytes/s  Total Length of Fwd Packets  \\\n",
              "0                         358.0   1246875.000                          440   \n",
              "1                        2944.0   3937777.778                          600   \n",
              "2                        2830.0   4652282.158                         2776   \n",
              "3                         370.0   1608610.568                          452   \n",
              "4                        2944.0   4600258.732                          612   \n",
              "\n",
              "    Flow IAT Mean   Bwd Packet Length Mean   Flow IAT Max  \\\n",
              "0       64.000000                     89.5          445.0   \n",
              "1       75.000000                    736.0          684.0   \n",
              "2      120.500000                    707.5          777.0   \n",
              "3       51.100000                     92.5          299.0   \n",
              "4       64.416667                    736.0          531.0   \n",
              "\n",
              "    Bwd Packet Length Std   Total Fwd Packets   Total Backward Packets  \\\n",
              "0              103.345698                   7                        4   \n",
              "1              849.859596                   9                        4   \n",
              "2              816.950631                   7                        4   \n",
              "3              106.809800                   7                        4   \n",
              "4              849.859596                   9                        4   \n",
              "\n",
              "   BENIGN  FTP-Patator  SSH-Patator  \n",
              "0       1            0            0  \n",
              "1       1            0            0  \n",
              "2       1            0            0  \n",
              "3       1            0            0  \n",
              "4       1            0            0  "
            ]
          },
          "metadata": {
            "tags": []
          },
          "execution_count": 46
        }
      ]
    },
    {
      "cell_type": "code",
      "metadata": {
        "id": "TwQVEbftybGG",
        "colab_type": "code",
        "outputId": "f11c3788-20b3-4481-b450-baab12b1dba1",
        "colab": {}
      },
      "source": [
        "df2.corr()"
      ],
      "execution_count": 0,
      "outputs": [
        {
          "output_type": "execute_result",
          "data": {
            "text/html": [
              "<div>\n",
              "<style scoped>\n",
              "    .dataframe tbody tr th:only-of-type {\n",
              "        vertical-align: middle;\n",
              "    }\n",
              "\n",
              "    .dataframe tbody tr th {\n",
              "        vertical-align: top;\n",
              "    }\n",
              "\n",
              "    .dataframe thead th {\n",
              "        text-align: right;\n",
              "    }\n",
              "</style>\n",
              "<table border=\"1\" class=\"dataframe\">\n",
              "  <thead>\n",
              "    <tr style=\"text-align: right;\">\n",
              "      <th></th>\n",
              "      <th>Fwd Packet Length Max</th>\n",
              "      <th>Flow IAT Std</th>\n",
              "      <th>Fwd Packet Length Std</th>\n",
              "      <th>Fwd IAT Total</th>\n",
              "      <th>Flow Packets/s</th>\n",
              "      <th>Flow Duration</th>\n",
              "      <th>Fwd Packet Length Mean</th>\n",
              "      <th>Total Length of Bwd Packets</th>\n",
              "      <th>Flow Bytes/s</th>\n",
              "      <th>Total Length of Fwd Packets</th>\n",
              "      <th>Flow IAT Mean</th>\n",
              "      <th>Bwd Packet Length Mean</th>\n",
              "      <th>Flow IAT Max</th>\n",
              "      <th>Bwd Packet Length Std</th>\n",
              "      <th>Total Fwd Packets</th>\n",
              "      <th>Total Backward Packets</th>\n",
              "      <th>BENIGN</th>\n",
              "      <th>FTP-Patator</th>\n",
              "      <th>SSH-Patator</th>\n",
              "    </tr>\n",
              "  </thead>\n",
              "  <tbody>\n",
              "    <tr>\n",
              "      <td>Fwd Packet Length Max</td>\n",
              "      <td>1.000000</td>\n",
              "      <td>0.074171</td>\n",
              "      <td>0.937929</td>\n",
              "      <td>0.327251</td>\n",
              "      <td>-0.073050</td>\n",
              "      <td>0.335562</td>\n",
              "      <td>0.755894</td>\n",
              "      <td>0.011508</td>\n",
              "      <td>0.052141</td>\n",
              "      <td>0.475382</td>\n",
              "      <td>0.023319</td>\n",
              "      <td>0.306854</td>\n",
              "      <td>0.152487</td>\n",
              "      <td>0.435585</td>\n",
              "      <td>0.016060</td>\n",
              "      <td>0.015279</td>\n",
              "      <td>0.009631</td>\n",
              "      <td>-0.044007</td>\n",
              "      <td>0.036321</td>\n",
              "    </tr>\n",
              "    <tr>\n",
              "      <td>Flow IAT Std</td>\n",
              "      <td>0.074171</td>\n",
              "      <td>1.000000</td>\n",
              "      <td>0.068273</td>\n",
              "      <td>0.549577</td>\n",
              "      <td>-0.064885</td>\n",
              "      <td>0.550325</td>\n",
              "      <td>0.038495</td>\n",
              "      <td>-0.001414</td>\n",
              "      <td>-0.015027</td>\n",
              "      <td>0.014755</td>\n",
              "      <td>0.723880</td>\n",
              "      <td>0.047638</td>\n",
              "      <td>0.885692</td>\n",
              "      <td>0.102695</td>\n",
              "      <td>-0.000414</td>\n",
              "      <td>-0.000772</td>\n",
              "      <td>0.031815</td>\n",
              "      <td>-0.022093</td>\n",
              "      <td>-0.022717</td>\n",
              "    </tr>\n",
              "    <tr>\n",
              "      <td>Fwd Packet Length Std</td>\n",
              "      <td>0.937929</td>\n",
              "      <td>0.068273</td>\n",
              "      <td>1.000000</td>\n",
              "      <td>0.285157</td>\n",
              "      <td>-0.047402</td>\n",
              "      <td>0.295267</td>\n",
              "      <td>0.785647</td>\n",
              "      <td>-0.000385</td>\n",
              "      <td>0.134821</td>\n",
              "      <td>0.378279</td>\n",
              "      <td>0.017334</td>\n",
              "      <td>0.269075</td>\n",
              "      <td>0.136058</td>\n",
              "      <td>0.445085</td>\n",
              "      <td>0.003140</td>\n",
              "      <td>0.002220</td>\n",
              "      <td>0.017477</td>\n",
              "      <td>-0.036904</td>\n",
              "      <td>0.016190</td>\n",
              "    </tr>\n",
              "    <tr>\n",
              "      <td>Fwd IAT Total</td>\n",
              "      <td>0.327251</td>\n",
              "      <td>0.549577</td>\n",
              "      <td>0.285157</td>\n",
              "      <td>1.000000</td>\n",
              "      <td>-0.091669</td>\n",
              "      <td>0.998441</td>\n",
              "      <td>0.099928</td>\n",
              "      <td>0.022537</td>\n",
              "      <td>-0.021202</td>\n",
              "      <td>0.107352</td>\n",
              "      <td>0.429530</td>\n",
              "      <td>0.258439</td>\n",
              "      <td>0.650915</td>\n",
              "      <td>0.406910</td>\n",
              "      <td>0.028190</td>\n",
              "      <td>0.026821</td>\n",
              "      <td>0.040024</td>\n",
              "      <td>-0.034262</td>\n",
              "      <td>-0.021090</td>\n",
              "    </tr>\n",
              "    <tr>\n",
              "      <td>Flow Packets/s</td>\n",
              "      <td>-0.073050</td>\n",
              "      <td>-0.064885</td>\n",
              "      <td>-0.047402</td>\n",
              "      <td>-0.091669</td>\n",
              "      <td>1.000000</td>\n",
              "      <td>-0.093705</td>\n",
              "      <td>-0.060372</td>\n",
              "      <td>-0.002048</td>\n",
              "      <td>0.259364</td>\n",
              "      <td>-0.020527</td>\n",
              "      <td>-0.054210</td>\n",
              "      <td>-0.136261</td>\n",
              "      <td>-0.076255</td>\n",
              "      <td>-0.114376</td>\n",
              "      <td>-0.002737</td>\n",
              "      <td>-0.002899</td>\n",
              "      <td>-0.010725</td>\n",
              "      <td>0.033063</td>\n",
              "      <td>-0.021993</td>\n",
              "    </tr>\n",
              "    <tr>\n",
              "      <td>Flow Duration</td>\n",
              "      <td>0.335562</td>\n",
              "      <td>0.550325</td>\n",
              "      <td>0.295267</td>\n",
              "      <td>0.998441</td>\n",
              "      <td>-0.093705</td>\n",
              "      <td>1.000000</td>\n",
              "      <td>0.105585</td>\n",
              "      <td>0.022749</td>\n",
              "      <td>-0.021673</td>\n",
              "      <td>0.109022</td>\n",
              "      <td>0.429139</td>\n",
              "      <td>0.265112</td>\n",
              "      <td>0.653232</td>\n",
              "      <td>0.416398</td>\n",
              "      <td>0.028443</td>\n",
              "      <td>0.027100</td>\n",
              "      <td>0.033695</td>\n",
              "      <td>-0.028565</td>\n",
              "      <td>-0.018078</td>\n",
              "    </tr>\n",
              "    <tr>\n",
              "      <td>Fwd Packet Length Mean</td>\n",
              "      <td>0.755894</td>\n",
              "      <td>0.038495</td>\n",
              "      <td>0.785647</td>\n",
              "      <td>0.099928</td>\n",
              "      <td>-0.060372</td>\n",
              "      <td>0.105585</td>\n",
              "      <td>1.000000</td>\n",
              "      <td>-0.002587</td>\n",
              "      <td>0.135348</td>\n",
              "      <td>0.419554</td>\n",
              "      <td>0.011364</td>\n",
              "      <td>0.111474</td>\n",
              "      <td>0.068929</td>\n",
              "      <td>0.182102</td>\n",
              "      <td>-0.000435</td>\n",
              "      <td>-0.001315</td>\n",
              "      <td>0.035975</td>\n",
              "      <td>-0.046577</td>\n",
              "      <td>-0.000690</td>\n",
              "    </tr>\n",
              "    <tr>\n",
              "      <td>Total Length of Bwd Packets</td>\n",
              "      <td>0.011508</td>\n",
              "      <td>-0.001414</td>\n",
              "      <td>-0.000385</td>\n",
              "      <td>0.022537</td>\n",
              "      <td>-0.002048</td>\n",
              "      <td>0.022749</td>\n",
              "      <td>-0.002587</td>\n",
              "      <td>1.000000</td>\n",
              "      <td>0.000680</td>\n",
              "      <td>0.034740</td>\n",
              "      <td>-0.001553</td>\n",
              "      <td>0.049668</td>\n",
              "      <td>0.003314</td>\n",
              "      <td>0.023136</td>\n",
              "      <td>0.998168</td>\n",
              "      <td>0.997066</td>\n",
              "      <td>0.001447</td>\n",
              "      <td>-0.001117</td>\n",
              "      <td>-0.000903</td>\n",
              "    </tr>\n",
              "    <tr>\n",
              "      <td>Flow Bytes/s</td>\n",
              "      <td>0.052141</td>\n",
              "      <td>-0.015027</td>\n",
              "      <td>0.134821</td>\n",
              "      <td>-0.021202</td>\n",
              "      <td>0.259364</td>\n",
              "      <td>-0.021673</td>\n",
              "      <td>0.135348</td>\n",
              "      <td>0.000680</td>\n",
              "      <td>1.000000</td>\n",
              "      <td>0.005555</td>\n",
              "      <td>-0.012555</td>\n",
              "      <td>-0.026724</td>\n",
              "      <td>-0.017652</td>\n",
              "      <td>-0.024832</td>\n",
              "      <td>0.000582</td>\n",
              "      <td>0.000462</td>\n",
              "      <td>0.007115</td>\n",
              "      <td>-0.003379</td>\n",
              "      <td>-0.006887</td>\n",
              "    </tr>\n",
              "    <tr>\n",
              "      <td>Total Length of Fwd Packets</td>\n",
              "      <td>0.475382</td>\n",
              "      <td>0.014755</td>\n",
              "      <td>0.378279</td>\n",
              "      <td>0.107352</td>\n",
              "      <td>-0.020527</td>\n",
              "      <td>0.109022</td>\n",
              "      <td>0.419554</td>\n",
              "      <td>0.034740</td>\n",
              "      <td>0.005555</td>\n",
              "      <td>1.000000</td>\n",
              "      <td>0.000083</td>\n",
              "      <td>0.085192</td>\n",
              "      <td>0.049795</td>\n",
              "      <td>0.099971</td>\n",
              "      <td>0.041776</td>\n",
              "      <td>0.040531</td>\n",
              "      <td>0.002084</td>\n",
              "      <td>-0.011156</td>\n",
              "      <td>0.009751</td>\n",
              "    </tr>\n",
              "    <tr>\n",
              "      <td>Flow IAT Mean</td>\n",
              "      <td>0.023319</td>\n",
              "      <td>0.723880</td>\n",
              "      <td>0.017334</td>\n",
              "      <td>0.429530</td>\n",
              "      <td>-0.054210</td>\n",
              "      <td>0.429139</td>\n",
              "      <td>0.011364</td>\n",
              "      <td>-0.001553</td>\n",
              "      <td>-0.012555</td>\n",
              "      <td>0.000083</td>\n",
              "      <td>1.000000</td>\n",
              "      <td>-0.016263</td>\n",
              "      <td>0.726438</td>\n",
              "      <td>0.021968</td>\n",
              "      <td>-0.001182</td>\n",
              "      <td>-0.001412</td>\n",
              "      <td>0.030885</td>\n",
              "      <td>-0.022185</td>\n",
              "      <td>-0.021197</td>\n",
              "    </tr>\n",
              "    <tr>\n",
              "      <td>Bwd Packet Length Mean</td>\n",
              "      <td>0.306854</td>\n",
              "      <td>0.047638</td>\n",
              "      <td>0.269075</td>\n",
              "      <td>0.258439</td>\n",
              "      <td>-0.136261</td>\n",
              "      <td>0.265112</td>\n",
              "      <td>0.111474</td>\n",
              "      <td>0.049668</td>\n",
              "      <td>-0.026724</td>\n",
              "      <td>0.085192</td>\n",
              "      <td>-0.016263</td>\n",
              "      <td>1.000000</td>\n",
              "      <td>0.152465</td>\n",
              "      <td>0.819423</td>\n",
              "      <td>0.053025</td>\n",
              "      <td>0.053410</td>\n",
              "      <td>0.085249</td>\n",
              "      <td>-0.070993</td>\n",
              "      <td>-0.047217</td>\n",
              "    </tr>\n",
              "    <tr>\n",
              "      <td>Flow IAT Max</td>\n",
              "      <td>0.152487</td>\n",
              "      <td>0.885692</td>\n",
              "      <td>0.136058</td>\n",
              "      <td>0.650915</td>\n",
              "      <td>-0.076255</td>\n",
              "      <td>0.653232</td>\n",
              "      <td>0.068929</td>\n",
              "      <td>0.003314</td>\n",
              "      <td>-0.017652</td>\n",
              "      <td>0.049795</td>\n",
              "      <td>0.726438</td>\n",
              "      <td>0.152465</td>\n",
              "      <td>1.000000</td>\n",
              "      <td>0.215714</td>\n",
              "      <td>0.005694</td>\n",
              "      <td>0.005264</td>\n",
              "      <td>0.033626</td>\n",
              "      <td>-0.023609</td>\n",
              "      <td>-0.023710</td>\n",
              "    </tr>\n",
              "    <tr>\n",
              "      <td>Bwd Packet Length Std</td>\n",
              "      <td>0.435585</td>\n",
              "      <td>0.102695</td>\n",
              "      <td>0.445085</td>\n",
              "      <td>0.406910</td>\n",
              "      <td>-0.114376</td>\n",
              "      <td>0.416398</td>\n",
              "      <td>0.182102</td>\n",
              "      <td>0.023136</td>\n",
              "      <td>-0.024832</td>\n",
              "      <td>0.099971</td>\n",
              "      <td>0.021968</td>\n",
              "      <td>0.819423</td>\n",
              "      <td>0.215714</td>\n",
              "      <td>1.000000</td>\n",
              "      <td>0.027051</td>\n",
              "      <td>0.026168</td>\n",
              "      <td>0.047506</td>\n",
              "      <td>-0.056708</td>\n",
              "      <td>-0.006464</td>\n",
              "    </tr>\n",
              "    <tr>\n",
              "      <td>Total Fwd Packets</td>\n",
              "      <td>0.016060</td>\n",
              "      <td>-0.000414</td>\n",
              "      <td>0.003140</td>\n",
              "      <td>0.028190</td>\n",
              "      <td>-0.002737</td>\n",
              "      <td>0.028443</td>\n",
              "      <td>-0.000435</td>\n",
              "      <td>0.998168</td>\n",
              "      <td>0.000582</td>\n",
              "      <td>0.041776</td>\n",
              "      <td>-0.001182</td>\n",
              "      <td>0.053025</td>\n",
              "      <td>0.005694</td>\n",
              "      <td>0.027051</td>\n",
              "      <td>1.000000</td>\n",
              "      <td>0.999477</td>\n",
              "      <td>0.000807</td>\n",
              "      <td>-0.000979</td>\n",
              "      <td>-0.000091</td>\n",
              "    </tr>\n",
              "    <tr>\n",
              "      <td>Total Backward Packets</td>\n",
              "      <td>0.015279</td>\n",
              "      <td>-0.000772</td>\n",
              "      <td>0.002220</td>\n",
              "      <td>0.026821</td>\n",
              "      <td>-0.002899</td>\n",
              "      <td>0.027100</td>\n",
              "      <td>-0.001315</td>\n",
              "      <td>0.997066</td>\n",
              "      <td>0.000462</td>\n",
              "      <td>0.040531</td>\n",
              "      <td>-0.001412</td>\n",
              "      <td>0.053410</td>\n",
              "      <td>0.005264</td>\n",
              "      <td>0.026168</td>\n",
              "      <td>0.999477</td>\n",
              "      <td>1.000000</td>\n",
              "      <td>0.000364</td>\n",
              "      <td>-0.000701</td>\n",
              "      <td>0.000259</td>\n",
              "    </tr>\n",
              "    <tr>\n",
              "      <td>BENIGN</td>\n",
              "      <td>0.009631</td>\n",
              "      <td>0.031815</td>\n",
              "      <td>0.017477</td>\n",
              "      <td>0.040024</td>\n",
              "      <td>-0.010725</td>\n",
              "      <td>0.033695</td>\n",
              "      <td>0.035975</td>\n",
              "      <td>0.001447</td>\n",
              "      <td>0.007115</td>\n",
              "      <td>0.002084</td>\n",
              "      <td>0.030885</td>\n",
              "      <td>0.085249</td>\n",
              "      <td>0.033626</td>\n",
              "      <td>0.047506</td>\n",
              "      <td>0.000807</td>\n",
              "      <td>0.000364</td>\n",
              "      <td>1.000000</td>\n",
              "      <td>-0.752352</td>\n",
              "      <td>-0.646950</td>\n",
              "    </tr>\n",
              "    <tr>\n",
              "      <td>FTP-Patator</td>\n",
              "      <td>-0.044007</td>\n",
              "      <td>-0.022093</td>\n",
              "      <td>-0.036904</td>\n",
              "      <td>-0.034262</td>\n",
              "      <td>0.033063</td>\n",
              "      <td>-0.028565</td>\n",
              "      <td>-0.046577</td>\n",
              "      <td>-0.001117</td>\n",
              "      <td>-0.003379</td>\n",
              "      <td>-0.011156</td>\n",
              "      <td>-0.022185</td>\n",
              "      <td>-0.070993</td>\n",
              "      <td>-0.023609</td>\n",
              "      <td>-0.056708</td>\n",
              "      <td>-0.000979</td>\n",
              "      <td>-0.000701</td>\n",
              "      <td>-0.752352</td>\n",
              "      <td>1.000000</td>\n",
              "      <td>-0.015592</td>\n",
              "    </tr>\n",
              "    <tr>\n",
              "      <td>SSH-Patator</td>\n",
              "      <td>0.036321</td>\n",
              "      <td>-0.022717</td>\n",
              "      <td>0.016190</td>\n",
              "      <td>-0.021090</td>\n",
              "      <td>-0.021993</td>\n",
              "      <td>-0.018078</td>\n",
              "      <td>-0.000690</td>\n",
              "      <td>-0.000903</td>\n",
              "      <td>-0.006887</td>\n",
              "      <td>0.009751</td>\n",
              "      <td>-0.021197</td>\n",
              "      <td>-0.047217</td>\n",
              "      <td>-0.023710</td>\n",
              "      <td>-0.006464</td>\n",
              "      <td>-0.000091</td>\n",
              "      <td>0.000259</td>\n",
              "      <td>-0.646950</td>\n",
              "      <td>-0.015592</td>\n",
              "      <td>1.000000</td>\n",
              "    </tr>\n",
              "  </tbody>\n",
              "</table>\n",
              "</div>"
            ],
            "text/plain": [
              "                               Fwd Packet Length Max   Flow IAT Std  \\\n",
              " Fwd Packet Length Max                      1.000000       0.074171   \n",
              " Flow IAT Std                               0.074171       1.000000   \n",
              " Fwd Packet Length Std                      0.937929       0.068273   \n",
              "Fwd IAT Total                               0.327251       0.549577   \n",
              " Flow Packets/s                            -0.073050      -0.064885   \n",
              " Flow Duration                              0.335562       0.550325   \n",
              " Fwd Packet Length Mean                     0.755894       0.038495   \n",
              " Total Length of Bwd Packets                0.011508      -0.001414   \n",
              "Flow Bytes/s                                0.052141      -0.015027   \n",
              "Total Length of Fwd Packets                 0.475382       0.014755   \n",
              " Flow IAT Mean                              0.023319       0.723880   \n",
              " Bwd Packet Length Mean                     0.306854       0.047638   \n",
              " Flow IAT Max                               0.152487       0.885692   \n",
              " Bwd Packet Length Std                      0.435585       0.102695   \n",
              " Total Fwd Packets                          0.016060      -0.000414   \n",
              " Total Backward Packets                     0.015279      -0.000772   \n",
              "BENIGN                                      0.009631       0.031815   \n",
              "FTP-Patator                                -0.044007      -0.022093   \n",
              "SSH-Patator                                 0.036321      -0.022717   \n",
              "\n",
              "                               Fwd Packet Length Std  Fwd IAT Total  \\\n",
              " Fwd Packet Length Max                      0.937929       0.327251   \n",
              " Flow IAT Std                               0.068273       0.549577   \n",
              " Fwd Packet Length Std                      1.000000       0.285157   \n",
              "Fwd IAT Total                               0.285157       1.000000   \n",
              " Flow Packets/s                            -0.047402      -0.091669   \n",
              " Flow Duration                              0.295267       0.998441   \n",
              " Fwd Packet Length Mean                     0.785647       0.099928   \n",
              " Total Length of Bwd Packets               -0.000385       0.022537   \n",
              "Flow Bytes/s                                0.134821      -0.021202   \n",
              "Total Length of Fwd Packets                 0.378279       0.107352   \n",
              " Flow IAT Mean                              0.017334       0.429530   \n",
              " Bwd Packet Length Mean                     0.269075       0.258439   \n",
              " Flow IAT Max                               0.136058       0.650915   \n",
              " Bwd Packet Length Std                      0.445085       0.406910   \n",
              " Total Fwd Packets                          0.003140       0.028190   \n",
              " Total Backward Packets                     0.002220       0.026821   \n",
              "BENIGN                                      0.017477       0.040024   \n",
              "FTP-Patator                                -0.036904      -0.034262   \n",
              "SSH-Patator                                 0.016190      -0.021090   \n",
              "\n",
              "                               Flow Packets/s   Flow Duration  \\\n",
              " Fwd Packet Length Max              -0.073050        0.335562   \n",
              " Flow IAT Std                       -0.064885        0.550325   \n",
              " Fwd Packet Length Std              -0.047402        0.295267   \n",
              "Fwd IAT Total                       -0.091669        0.998441   \n",
              " Flow Packets/s                      1.000000       -0.093705   \n",
              " Flow Duration                      -0.093705        1.000000   \n",
              " Fwd Packet Length Mean             -0.060372        0.105585   \n",
              " Total Length of Bwd Packets        -0.002048        0.022749   \n",
              "Flow Bytes/s                         0.259364       -0.021673   \n",
              "Total Length of Fwd Packets         -0.020527        0.109022   \n",
              " Flow IAT Mean                      -0.054210        0.429139   \n",
              " Bwd Packet Length Mean             -0.136261        0.265112   \n",
              " Flow IAT Max                       -0.076255        0.653232   \n",
              " Bwd Packet Length Std              -0.114376        0.416398   \n",
              " Total Fwd Packets                  -0.002737        0.028443   \n",
              " Total Backward Packets             -0.002899        0.027100   \n",
              "BENIGN                              -0.010725        0.033695   \n",
              "FTP-Patator                          0.033063       -0.028565   \n",
              "SSH-Patator                         -0.021993       -0.018078   \n",
              "\n",
              "                               Fwd Packet Length Mean  \\\n",
              " Fwd Packet Length Max                       0.755894   \n",
              " Flow IAT Std                                0.038495   \n",
              " Fwd Packet Length Std                       0.785647   \n",
              "Fwd IAT Total                                0.099928   \n",
              " Flow Packets/s                             -0.060372   \n",
              " Flow Duration                               0.105585   \n",
              " Fwd Packet Length Mean                      1.000000   \n",
              " Total Length of Bwd Packets                -0.002587   \n",
              "Flow Bytes/s                                 0.135348   \n",
              "Total Length of Fwd Packets                  0.419554   \n",
              " Flow IAT Mean                               0.011364   \n",
              " Bwd Packet Length Mean                      0.111474   \n",
              " Flow IAT Max                                0.068929   \n",
              " Bwd Packet Length Std                       0.182102   \n",
              " Total Fwd Packets                          -0.000435   \n",
              " Total Backward Packets                     -0.001315   \n",
              "BENIGN                                       0.035975   \n",
              "FTP-Patator                                 -0.046577   \n",
              "SSH-Patator                                 -0.000690   \n",
              "\n",
              "                               Total Length of Bwd Packets  Flow Bytes/s  \\\n",
              " Fwd Packet Length Max                            0.011508      0.052141   \n",
              " Flow IAT Std                                    -0.001414     -0.015027   \n",
              " Fwd Packet Length Std                           -0.000385      0.134821   \n",
              "Fwd IAT Total                                     0.022537     -0.021202   \n",
              " Flow Packets/s                                  -0.002048      0.259364   \n",
              " Flow Duration                                    0.022749     -0.021673   \n",
              " Fwd Packet Length Mean                          -0.002587      0.135348   \n",
              " Total Length of Bwd Packets                      1.000000      0.000680   \n",
              "Flow Bytes/s                                      0.000680      1.000000   \n",
              "Total Length of Fwd Packets                       0.034740      0.005555   \n",
              " Flow IAT Mean                                   -0.001553     -0.012555   \n",
              " Bwd Packet Length Mean                           0.049668     -0.026724   \n",
              " Flow IAT Max                                     0.003314     -0.017652   \n",
              " Bwd Packet Length Std                            0.023136     -0.024832   \n",
              " Total Fwd Packets                                0.998168      0.000582   \n",
              " Total Backward Packets                           0.997066      0.000462   \n",
              "BENIGN                                            0.001447      0.007115   \n",
              "FTP-Patator                                      -0.001117     -0.003379   \n",
              "SSH-Patator                                      -0.000903     -0.006887   \n",
              "\n",
              "                              Total Length of Fwd Packets   Flow IAT Mean  \\\n",
              " Fwd Packet Length Max                           0.475382        0.023319   \n",
              " Flow IAT Std                                    0.014755        0.723880   \n",
              " Fwd Packet Length Std                           0.378279        0.017334   \n",
              "Fwd IAT Total                                    0.107352        0.429530   \n",
              " Flow Packets/s                                 -0.020527       -0.054210   \n",
              " Flow Duration                                   0.109022        0.429139   \n",
              " Fwd Packet Length Mean                          0.419554        0.011364   \n",
              " Total Length of Bwd Packets                     0.034740       -0.001553   \n",
              "Flow Bytes/s                                     0.005555       -0.012555   \n",
              "Total Length of Fwd Packets                      1.000000        0.000083   \n",
              " Flow IAT Mean                                   0.000083        1.000000   \n",
              " Bwd Packet Length Mean                          0.085192       -0.016263   \n",
              " Flow IAT Max                                    0.049795        0.726438   \n",
              " Bwd Packet Length Std                           0.099971        0.021968   \n",
              " Total Fwd Packets                               0.041776       -0.001182   \n",
              " Total Backward Packets                          0.040531       -0.001412   \n",
              "BENIGN                                           0.002084        0.030885   \n",
              "FTP-Patator                                     -0.011156       -0.022185   \n",
              "SSH-Patator                                      0.009751       -0.021197   \n",
              "\n",
              "                               Bwd Packet Length Mean   Flow IAT Max  \\\n",
              " Fwd Packet Length Max                       0.306854       0.152487   \n",
              " Flow IAT Std                                0.047638       0.885692   \n",
              " Fwd Packet Length Std                       0.269075       0.136058   \n",
              "Fwd IAT Total                                0.258439       0.650915   \n",
              " Flow Packets/s                             -0.136261      -0.076255   \n",
              " Flow Duration                               0.265112       0.653232   \n",
              " Fwd Packet Length Mean                      0.111474       0.068929   \n",
              " Total Length of Bwd Packets                 0.049668       0.003314   \n",
              "Flow Bytes/s                                -0.026724      -0.017652   \n",
              "Total Length of Fwd Packets                  0.085192       0.049795   \n",
              " Flow IAT Mean                              -0.016263       0.726438   \n",
              " Bwd Packet Length Mean                      1.000000       0.152465   \n",
              " Flow IAT Max                                0.152465       1.000000   \n",
              " Bwd Packet Length Std                       0.819423       0.215714   \n",
              " Total Fwd Packets                           0.053025       0.005694   \n",
              " Total Backward Packets                      0.053410       0.005264   \n",
              "BENIGN                                       0.085249       0.033626   \n",
              "FTP-Patator                                 -0.070993      -0.023609   \n",
              "SSH-Patator                                 -0.047217      -0.023710   \n",
              "\n",
              "                               Bwd Packet Length Std   Total Fwd Packets  \\\n",
              " Fwd Packet Length Max                      0.435585            0.016060   \n",
              " Flow IAT Std                               0.102695           -0.000414   \n",
              " Fwd Packet Length Std                      0.445085            0.003140   \n",
              "Fwd IAT Total                               0.406910            0.028190   \n",
              " Flow Packets/s                            -0.114376           -0.002737   \n",
              " Flow Duration                              0.416398            0.028443   \n",
              " Fwd Packet Length Mean                     0.182102           -0.000435   \n",
              " Total Length of Bwd Packets                0.023136            0.998168   \n",
              "Flow Bytes/s                               -0.024832            0.000582   \n",
              "Total Length of Fwd Packets                 0.099971            0.041776   \n",
              " Flow IAT Mean                              0.021968           -0.001182   \n",
              " Bwd Packet Length Mean                     0.819423            0.053025   \n",
              " Flow IAT Max                               0.215714            0.005694   \n",
              " Bwd Packet Length Std                      1.000000            0.027051   \n",
              " Total Fwd Packets                          0.027051            1.000000   \n",
              " Total Backward Packets                     0.026168            0.999477   \n",
              "BENIGN                                      0.047506            0.000807   \n",
              "FTP-Patator                                -0.056708           -0.000979   \n",
              "SSH-Patator                                -0.006464           -0.000091   \n",
              "\n",
              "                               Total Backward Packets    BENIGN  FTP-Patator  \\\n",
              " Fwd Packet Length Max                       0.015279  0.009631    -0.044007   \n",
              " Flow IAT Std                               -0.000772  0.031815    -0.022093   \n",
              " Fwd Packet Length Std                       0.002220  0.017477    -0.036904   \n",
              "Fwd IAT Total                                0.026821  0.040024    -0.034262   \n",
              " Flow Packets/s                             -0.002899 -0.010725     0.033063   \n",
              " Flow Duration                               0.027100  0.033695    -0.028565   \n",
              " Fwd Packet Length Mean                     -0.001315  0.035975    -0.046577   \n",
              " Total Length of Bwd Packets                 0.997066  0.001447    -0.001117   \n",
              "Flow Bytes/s                                 0.000462  0.007115    -0.003379   \n",
              "Total Length of Fwd Packets                  0.040531  0.002084    -0.011156   \n",
              " Flow IAT Mean                              -0.001412  0.030885    -0.022185   \n",
              " Bwd Packet Length Mean                      0.053410  0.085249    -0.070993   \n",
              " Flow IAT Max                                0.005264  0.033626    -0.023609   \n",
              " Bwd Packet Length Std                       0.026168  0.047506    -0.056708   \n",
              " Total Fwd Packets                           0.999477  0.000807    -0.000979   \n",
              " Total Backward Packets                      1.000000  0.000364    -0.000701   \n",
              "BENIGN                                       0.000364  1.000000    -0.752352   \n",
              "FTP-Patator                                 -0.000701 -0.752352     1.000000   \n",
              "SSH-Patator                                  0.000259 -0.646950    -0.015592   \n",
              "\n",
              "                              SSH-Patator  \n",
              " Fwd Packet Length Max           0.036321  \n",
              " Flow IAT Std                   -0.022717  \n",
              " Fwd Packet Length Std           0.016190  \n",
              "Fwd IAT Total                   -0.021090  \n",
              " Flow Packets/s                 -0.021993  \n",
              " Flow Duration                  -0.018078  \n",
              " Fwd Packet Length Mean         -0.000690  \n",
              " Total Length of Bwd Packets    -0.000903  \n",
              "Flow Bytes/s                    -0.006887  \n",
              "Total Length of Fwd Packets      0.009751  \n",
              " Flow IAT Mean                  -0.021197  \n",
              " Bwd Packet Length Mean         -0.047217  \n",
              " Flow IAT Max                   -0.023710  \n",
              " Bwd Packet Length Std          -0.006464  \n",
              " Total Fwd Packets              -0.000091  \n",
              " Total Backward Packets          0.000259  \n",
              "BENIGN                          -0.646950  \n",
              "FTP-Patator                     -0.015592  \n",
              "SSH-Patator                      1.000000  "
            ]
          },
          "metadata": {
            "tags": []
          },
          "execution_count": 47
        }
      ]
    },
    {
      "cell_type": "code",
      "metadata": {
        "id": "LL8h_y-oybGO",
        "colab_type": "code",
        "outputId": "e98174aa-037b-42fa-9123-cbaea38e2bc7",
        "colab": {}
      },
      "source": [
        "plt.boxplot(df[' Total Backward Packets'])"
      ],
      "execution_count": 0,
      "outputs": [
        {
          "output_type": "execute_result",
          "data": {
            "text/plain": [
              "{'whiskers': [<matplotlib.lines.Line2D at 0x7f30b70e8bd0>,\n",
              "  <matplotlib.lines.Line2D at 0x7f30b70e8450>],\n",
              " 'caps': [<matplotlib.lines.Line2D at 0x7f30b70e38d0>,\n",
              "  <matplotlib.lines.Line2D at 0x7f30b70dfa90>],\n",
              " 'boxes': [<matplotlib.lines.Line2D at 0x7f30b70e3910>],\n",
              " 'medians': [<matplotlib.lines.Line2D at 0x7f30b70df510>],\n",
              " 'fliers': [<matplotlib.lines.Line2D at 0x7f30b70e83d0>],\n",
              " 'means': []}"
            ]
          },
          "metadata": {
            "tags": []
          },
          "execution_count": 48
        },
        {
          "output_type": "display_data",
          "data": {
            "image/png": "[encoded data removed]",
            "text/plain": [
              "<Figure size 432x288 with 1 Axes>"
            ]
          },
          "metadata": {
            "tags": [],
            "needs_background": "light"
          }
        }
      ]
    },
    {
      "cell_type": "code",
      "metadata": {
        "id": "Ua6mv-AbybGW",
        "colab_type": "code",
        "colab": {}
      },
      "source": [
        "\n",
        "\n",
        "import seaborn as sns\n",
        "sns.set(style=\"whitegrid\")\n",
        "ax = sns.boxplot(x=df[[ ' Flow Packets/s']])"
      ],
      "execution_count": 0,
      "outputs": []
    },
    {
      "cell_type": "markdown",
      "metadata": {
        "id": "FeZMxJvpybGc",
        "colab_type": "text"
      },
      "source": [
        "### End of correlation. Start of Normal flow of work"
      ]
    },
    {
      "cell_type": "markdown",
      "metadata": {
        "id": "Mk-6qiNfybGd",
        "colab_type": "text"
      },
      "source": [
        " Separate input features and labels from dataframe\n"
      ]
    },
    {
      "cell_type": "code",
      "metadata": {
        "id": "k-oZZ-W6ybGe",
        "colab_type": "code",
        "outputId": "9b10cb89-23d9-438d-f081-4be99dd44126",
        "colab": {
          "base_uri": "https://localhost:8080/",
          "height": 312
        }
      },
      "source": [
        "X=df[df.columns[0:-1]]\n",
        "y=df[df.columns[-1]]\n",
        "X.dtypes"
      ],
      "execution_count": 72,
      "outputs": [
        {
          "output_type": "execute_result",
          "data": {
            "text/plain": [
              " Fwd Packet Length Max          float64\n",
              " Flow IAT Std                   float64\n",
              " Fwd Packet Length Std          float64\n",
              "Fwd IAT Total                   float64\n",
              " Flow Packets/s                 float64\n",
              " Flow Duration                    int64\n",
              " Fwd Packet Length Mean         float64\n",
              " Total Length of Bwd Packets    float64\n",
              "Flow Bytes/s                    float64\n",
              "Total Length of Fwd Packets     float64\n",
              " Flow IAT Mean                  float64\n",
              " Bwd Packet Length Mean         float64\n",
              " Flow IAT Max                   float64\n",
              " Bwd Packet Length Std          float64\n",
              " Total Fwd Packets                int64\n",
              " Total Backward Packets           int64\n",
              "dtype: object"
            ]
          },
          "metadata": {
            "tags": []
          },
          "execution_count": 72
        }
      ]
    },
    {
      "cell_type": "code",
      "metadata": {
        "id": "055AUwEgybGm",
        "colab_type": "code",
        "outputId": "7995e4a6-6602-4919-b8bd-7dacdd8a0c4f",
        "colab": {
          "base_uri": "https://localhost:8080/",
          "height": 211
        }
      },
      "source": [
        "X.replace(\"Infinity\", 0, inplace=True)\n",
        "X['Flow Bytes/s'].replace(\"Infinity\", 0,inplace=True)\n",
        "X[\" Flow Packets/s\"].replace(\"Infinity\", 0, inplace=True)"
      ],
      "execution_count": 46,
      "outputs": [
        {
          "output_type": "stream",
          "text": [
            "/usr/local/lib/python3.6/dist-packages/pandas/core/frame.py:4278: SettingWithCopyWarning: \n",
            "A value is trying to be set on a copy of a slice from a DataFrame\n",
            "\n",
            "See the caveats in the documentation: http://pandas.pydata.org/pandas-docs/stable/user_guide/indexing.html#returning-a-view-versus-a-copy\n",
            "  method=method,\n",
            "/usr/local/lib/python3.6/dist-packages/pandas/core/generic.py:6786: SettingWithCopyWarning: \n",
            "A value is trying to be set on a copy of a slice from a DataFrame\n",
            "\n",
            "See the caveats in the documentation: http://pandas.pydata.org/pandas-docs/stable/user_guide/indexing.html#returning-a-view-versus-a-copy\n",
            "  self._update_inplace(new_data)\n"
          ],
          "name": "stderr"
        }
      ]
    },
    {
      "cell_type": "code",
      "metadata": {
        "id": "Bprtqd35ybGu",
        "colab_type": "code",
        "outputId": "65d9d1a5-8687-4eeb-d1f4-6a8a258b44dd",
        "colab": {
          "base_uri": "https://localhost:8080/",
          "height": 541
        }
      },
      "source": [
        "X[\"Flow Bytes/s\"]=X[\"Flow Bytes/s\"].astype(\"float\")\n",
        "X[' Flow Packets/s']=X[\" Flow Packets/s\"].astype(\"float\")\n",
        "X.dtypes"
      ],
      "execution_count": 47,
      "outputs": [
        {
          "output_type": "stream",
          "text": [
            "/usr/local/lib/python3.6/dist-packages/ipykernel_launcher.py:1: SettingWithCopyWarning: \n",
            "A value is trying to be set on a copy of a slice from a DataFrame.\n",
            "Try using .loc[row_indexer,col_indexer] = value instead\n",
            "\n",
            "See the caveats in the documentation: http://pandas.pydata.org/pandas-docs/stable/user_guide/indexing.html#returning-a-view-versus-a-copy\n",
            "  \"\"\"Entry point for launching an IPython kernel.\n",
            "/usr/local/lib/python3.6/dist-packages/ipykernel_launcher.py:2: SettingWithCopyWarning: \n",
            "A value is trying to be set on a copy of a slice from a DataFrame.\n",
            "Try using .loc[row_indexer,col_indexer] = value instead\n",
            "\n",
            "See the caveats in the documentation: http://pandas.pydata.org/pandas-docs/stable/user_guide/indexing.html#returning-a-view-versus-a-copy\n",
            "  \n"
          ],
          "name": "stderr"
        },
        {
          "output_type": "execute_result",
          "data": {
            "text/plain": [
              " Fwd Packet Length Max          float64\n",
              " Flow IAT Std                   float64\n",
              " Fwd Packet Length Std          float64\n",
              "Fwd IAT Total                   float64\n",
              " Flow Packets/s                 float64\n",
              " Flow Duration                    int64\n",
              " Fwd Packet Length Mean         float64\n",
              " Total Length of Bwd Packets    float64\n",
              "Flow Bytes/s                    float64\n",
              "Total Length of Fwd Packets     float64\n",
              " Flow IAT Mean                  float64\n",
              " Bwd Packet Length Mean         float64\n",
              " Flow IAT Max                   float64\n",
              " Bwd Packet Length Std          float64\n",
              " Total Fwd Packets                int64\n",
              " Total Backward Packets           int64\n",
              "dtype: object"
            ]
          },
          "metadata": {
            "tags": []
          },
          "execution_count": 47
        }
      ]
    },
    {
      "cell_type": "markdown",
      "metadata": {
        "id": "MRA2Ws3TybG7",
        "colab_type": "text"
      },
      "source": [
        "#### Display all rows in column as will be mentioned"
      ]
    },
    {
      "cell_type": "code",
      "metadata": {
        "id": "JMTqhG3wybG-",
        "colab_type": "code",
        "colab": {}
      },
      "source": [
        "pd.set_option('display.max_rows', df_wednesday.shape[0])\n",
        "pd.set_option('display.max_columns', df_wednesday.shape[1])\n",
        "\n",
        "# X_train.head(3)"
      ],
      "execution_count": 0,
      "outputs": []
    },
    {
      "cell_type": "markdown",
      "metadata": {
        "id": "S5nfFVa3ybHG",
        "colab_type": "text"
      },
      "source": [
        "### Normalize Data\n",
        "normalize data using z score so it is easy for our model to learn and outlier could be handled here"
      ]
    },
    {
      "cell_type": "code",
      "metadata": {
        "id": "88zi4TxxybHI",
        "colab_type": "code",
        "colab": {}
      },
      "source": [
        "from scipy import stats"
      ],
      "execution_count": 0,
      "outputs": []
    },
    {
      "cell_type": "code",
      "metadata": {
        "id": "tr1ZWK2RybHP",
        "colab_type": "code",
        "outputId": "ee522a4a-8f5f-47e6-bf39-6c9de66a8b8c",
        "colab": {
          "base_uri": "https://localhost:8080/",
          "height": 159
        }
      },
      "source": [
        "t1=time.time()\n",
        "\n",
        "cols = list(X.columns)\n",
        "for col in cols:\n",
        "    X[col] = stats.zscore(X[col])\n",
        "    \n",
        "t2=time.time()\n",
        "print(\"time ::: \", t2-t1 , \" seconds to find z score of \" , len(cols), \"features\")"
      ],
      "execution_count": 74,
      "outputs": [
        {
          "output_type": "stream",
          "text": [
            "/usr/local/lib/python3.6/dist-packages/ipykernel_launcher.py:5: SettingWithCopyWarning: \n",
            "A value is trying to be set on a copy of a slice from a DataFrame.\n",
            "Try using .loc[row_indexer,col_indexer] = value instead\n",
            "\n",
            "See the caveats in the documentation: http://pandas.pydata.org/pandas-docs/stable/user_guide/indexing.html#returning-a-view-versus-a-copy\n",
            "  \"\"\"\n"
          ],
          "name": "stderr"
        },
        {
          "output_type": "stream",
          "text": [
            "time :::  0.6191678047180176  seconds to find z score of  16 features\n"
          ],
          "name": "stdout"
        }
      ]
    },
    {
      "cell_type": "code",
      "metadata": {
        "id": "Q3FpCumcL0Go",
        "colab_type": "code",
        "colab": {
          "base_uri": "https://localhost:8080/",
          "height": 215
        },
        "outputId": "8b988c51-5d57-433c-d54a-cb21cab12fb3"
      },
      "source": [
        "df.groupby(' Label').first()"
      ],
      "execution_count": 76,
      "outputs": [
        {
          "output_type": "execute_result",
          "data": {
            "text/html": [
              "<div>\n",
              "<style scoped>\n",
              "    .dataframe tbody tr th:only-of-type {\n",
              "        vertical-align: middle;\n",
              "    }\n",
              "\n",
              "    .dataframe tbody tr th {\n",
              "        vertical-align: top;\n",
              "    }\n",
              "\n",
              "    .dataframe thead th {\n",
              "        text-align: right;\n",
              "    }\n",
              "</style>\n",
              "<table border=\"1\" class=\"dataframe\">\n",
              "  <thead>\n",
              "    <tr style=\"text-align: right;\">\n",
              "      <th></th>\n",
              "      <th>Fwd Packet Length Max</th>\n",
              "      <th>Flow IAT Std</th>\n",
              "      <th>Fwd Packet Length Std</th>\n",
              "      <th>Fwd IAT Total</th>\n",
              "      <th>Flow Packets/s</th>\n",
              "      <th>Flow Duration</th>\n",
              "      <th>Fwd Packet Length Mean</th>\n",
              "      <th>Total Length of Bwd Packets</th>\n",
              "      <th>Flow Bytes/s</th>\n",
              "      <th>Total Length of Fwd Packets</th>\n",
              "      <th>Flow IAT Mean</th>\n",
              "      <th>Bwd Packet Length Mean</th>\n",
              "      <th>Flow IAT Max</th>\n",
              "      <th>Bwd Packet Length Std</th>\n",
              "      <th>Total Fwd Packets</th>\n",
              "      <th>Total Backward Packets</th>\n",
              "    </tr>\n",
              "    <tr>\n",
              "      <th>Label</th>\n",
              "      <th></th>\n",
              "      <th></th>\n",
              "      <th></th>\n",
              "      <th></th>\n",
              "      <th></th>\n",
              "      <th></th>\n",
              "      <th></th>\n",
              "      <th></th>\n",
              "      <th></th>\n",
              "      <th></th>\n",
              "      <th></th>\n",
              "      <th></th>\n",
              "      <th></th>\n",
              "      <th></th>\n",
              "      <th></th>\n",
              "      <th></th>\n",
              "    </tr>\n",
              "  </thead>\n",
              "  <tbody>\n",
              "    <tr>\n",
              "      <th>ATTACK</th>\n",
              "      <td>322.0</td>\n",
              "      <td>4901981.331</td>\n",
              "      <td>107.333333</td>\n",
              "      <td>51200000.0</td>\n",
              "      <td>0.298990</td>\n",
              "      <td>60202640</td>\n",
              "      <td>35.777778</td>\n",
              "      <td>256.0</td>\n",
              "      <td>9.600908</td>\n",
              "      <td>322.0</td>\n",
              "      <td>3541331.765</td>\n",
              "      <td>28.444444</td>\n",
              "      <td>10200000.0</td>\n",
              "      <td>85.333333</td>\n",
              "      <td>9</td>\n",
              "      <td>9</td>\n",
              "    </tr>\n",
              "    <tr>\n",
              "      <th>BENIGN</th>\n",
              "      <td>403.0</td>\n",
              "      <td>5798697.940</td>\n",
              "      <td>204.724205</td>\n",
              "      <td>113000000.0</td>\n",
              "      <td>0.425756</td>\n",
              "      <td>112740690</td>\n",
              "      <td>201.500000</td>\n",
              "      <td>1152.0</td>\n",
              "      <td>67.411331</td>\n",
              "      <td>6448.0</td>\n",
              "      <td>2398738.085</td>\n",
              "      <td>72.000000</td>\n",
              "      <td>16400000.0</td>\n",
              "      <td>0.000000</td>\n",
              "      <td>32</td>\n",
              "      <td>16</td>\n",
              "    </tr>\n",
              "  </tbody>\n",
              "</table>\n",
              "</div>"
            ],
            "text/plain": [
              "         Fwd Packet Length Max  ...   Total Backward Packets\n",
              " Label                          ...                         \n",
              "ATTACK                   322.0  ...                        9\n",
              "BENIGN                   403.0  ...                       16\n",
              "\n",
              "[2 rows x 16 columns]"
            ]
          },
          "metadata": {
            "tags": []
          },
          "execution_count": 76
        }
      ]
    },
    {
      "cell_type": "code",
      "metadata": {
        "id": "P_T6pSsWL-HV",
        "colab_type": "code",
        "colab": {
          "base_uri": "https://localhost:8080/",
          "height": 278
        },
        "outputId": "fa8bbffd-ee28-4d1c-85d1-8b8e6ae01172"
      },
      "source": [
        "X.head()"
      ],
      "execution_count": 77,
      "outputs": [
        {
          "output_type": "execute_result",
          "data": {
            "text/html": [
              "<div>\n",
              "<style scoped>\n",
              "    .dataframe tbody tr th:only-of-type {\n",
              "        vertical-align: middle;\n",
              "    }\n",
              "\n",
              "    .dataframe tbody tr th {\n",
              "        vertical-align: top;\n",
              "    }\n",
              "\n",
              "    .dataframe thead th {\n",
              "        text-align: right;\n",
              "    }\n",
              "</style>\n",
              "<table border=\"1\" class=\"dataframe\">\n",
              "  <thead>\n",
              "    <tr style=\"text-align: right;\">\n",
              "      <th></th>\n",
              "      <th>Fwd Packet Length Max</th>\n",
              "      <th>Flow IAT Std</th>\n",
              "      <th>Fwd Packet Length Std</th>\n",
              "      <th>Fwd IAT Total</th>\n",
              "      <th>Flow Packets/s</th>\n",
              "      <th>Flow Duration</th>\n",
              "      <th>Fwd Packet Length Mean</th>\n",
              "      <th>Total Length of Bwd Packets</th>\n",
              "      <th>Flow Bytes/s</th>\n",
              "      <th>Total Length of Fwd Packets</th>\n",
              "      <th>Flow IAT Mean</th>\n",
              "      <th>Bwd Packet Length Mean</th>\n",
              "      <th>Flow IAT Max</th>\n",
              "      <th>Bwd Packet Length Std</th>\n",
              "      <th>Total Fwd Packets</th>\n",
              "      <th>Total Backward Packets</th>\n",
              "    </tr>\n",
              "  </thead>\n",
              "  <tbody>\n",
              "    <tr>\n",
              "      <th>0</th>\n",
              "      <td>0.272256</td>\n",
              "      <td>0.357628</td>\n",
              "      <td>0.482776</td>\n",
              "      <td>2.933388</td>\n",
              "      <td>-0.278417</td>\n",
              "      <td>2.909899</td>\n",
              "      <td>0.769726</td>\n",
              "      <td>-0.006635</td>\n",
              "      <td>-0.057488</td>\n",
              "      <td>0.590081</td>\n",
              "      <td>0.243886</td>\n",
              "      <td>-0.386703</td>\n",
              "      <td>0.294839</td>\n",
              "      <td>-0.399454</td>\n",
              "      <td>0.030186</td>\n",
              "      <td>0.005615</td>\n",
              "    </tr>\n",
              "    <tr>\n",
              "      <th>1</th>\n",
              "      <td>0.272256</td>\n",
              "      <td>0.357629</td>\n",
              "      <td>0.482776</td>\n",
              "      <td>2.933388</td>\n",
              "      <td>-0.278417</td>\n",
              "      <td>2.909895</td>\n",
              "      <td>0.769726</td>\n",
              "      <td>-0.004910</td>\n",
              "      <td>-0.057487</td>\n",
              "      <td>0.590081</td>\n",
              "      <td>0.243885</td>\n",
              "      <td>0.016360</td>\n",
              "      <td>0.294839</td>\n",
              "      <td>-0.399454</td>\n",
              "      <td>0.030186</td>\n",
              "      <td>0.005615</td>\n",
              "    </tr>\n",
              "    <tr>\n",
              "      <th>2</th>\n",
              "      <td>-0.289540</td>\n",
              "      <td>-0.189515</td>\n",
              "      <td>-0.245131</td>\n",
              "      <td>2.963165</td>\n",
              "      <td>-0.278399</td>\n",
              "      <td>2.940103</td>\n",
              "      <td>-0.312843</td>\n",
              "      <td>-0.007144</td>\n",
              "      <td>-0.057491</td>\n",
              "      <td>-0.054979</td>\n",
              "      <td>-0.241733</td>\n",
              "      <td>-0.505639</td>\n",
              "      <td>0.474691</td>\n",
              "      <td>-0.399454</td>\n",
              "      <td>0.714321</td>\n",
              "      <td>-0.010423</td>\n",
              "    </tr>\n",
              "    <tr>\n",
              "      <th>3</th>\n",
              "      <td>-0.250507</td>\n",
              "      <td>-0.360214</td>\n",
              "      <td>-0.245131</td>\n",
              "      <td>-0.428492</td>\n",
              "      <td>-0.277554</td>\n",
              "      <td>-0.436498</td>\n",
              "      <td>-0.162411</td>\n",
              "      <td>-0.007144</td>\n",
              "      <td>-0.057254</td>\n",
              "      <td>0.006646</td>\n",
              "      <td>-0.287053</td>\n",
              "      <td>-0.505639</td>\n",
              "      <td>-0.371428</td>\n",
              "      <td>-0.399454</td>\n",
              "      <td>0.016850</td>\n",
              "      <td>-0.010423</td>\n",
              "    </tr>\n",
              "    <tr>\n",
              "      <th>4</th>\n",
              "      <td>-0.289540</td>\n",
              "      <td>-0.359141</td>\n",
              "      <td>-0.245131</td>\n",
              "      <td>-0.429843</td>\n",
              "      <td>-0.278131</td>\n",
              "      <td>-0.437846</td>\n",
              "      <td>-0.312843</td>\n",
              "      <td>-0.007144</td>\n",
              "      <td>-0.057491</td>\n",
              "      <td>-0.054979</td>\n",
              "      <td>-0.284062</td>\n",
              "      <td>-0.505639</td>\n",
              "      <td>-0.373334</td>\n",
              "      <td>-0.399454</td>\n",
              "      <td>-0.007154</td>\n",
              "      <td>-0.010423</td>\n",
              "    </tr>\n",
              "  </tbody>\n",
              "</table>\n",
              "</div>"
            ],
            "text/plain": [
              "    Fwd Packet Length Max  ...   Total Backward Packets\n",
              "0                0.272256  ...                 0.005615\n",
              "1                0.272256  ...                 0.005615\n",
              "2               -0.289540  ...                -0.010423\n",
              "3               -0.250507  ...                -0.010423\n",
              "4               -0.289540  ...                -0.010423\n",
              "\n",
              "[5 rows x 16 columns]"
            ]
          },
          "metadata": {
            "tags": []
          },
          "execution_count": 77
        }
      ]
    },
    {
      "cell_type": "code",
      "metadata": {
        "id": "qVgXqfrYY-Jt",
        "colab_type": "code",
        "colab": {}
      },
      "source": [
        "from sklearn.preprocessing import StandardScaler\n",
        "X = StandardScaler().fit_transform(X)"
      ],
      "execution_count": 0,
      "outputs": []
    },
    {
      "cell_type": "markdown",
      "metadata": {
        "id": "lAx2aLg_ybHU",
        "colab_type": "text"
      },
      "source": [
        "\n",
        "##  3. Creation of Training and testing data\n"
      ]
    },
    {
      "cell_type": "code",
      "metadata": {
        "id": "17LzaJ6XybHX",
        "colab_type": "code",
        "colab": {}
      },
      "source": [
        "from sklearn.model_selection import train_test_split     # import module for train test split"
      ],
      "execution_count": 0,
      "outputs": []
    },
    {
      "cell_type": "code",
      "metadata": {
        "id": "ZMAd99NaybHk",
        "colab_type": "code",
        "colab": {}
      },
      "source": [
        "X_train, X_test, y_train, y_test=train_test_split(X,y,test_size=0.2, random_state=10)"
      ],
      "execution_count": 0,
      "outputs": []
    },
    {
      "cell_type": "markdown",
      "metadata": {
        "id": "oRBEQgtMybH3",
        "colab_type": "text"
      },
      "source": [
        "## 4. Applying ML algorithms"
      ]
    },
    {
      "cell_type": "markdown",
      "metadata": {
        "id": "xPLFgKalybH6",
        "colab_type": "text"
      },
      "source": [
        "### 1) K-NN"
      ]
    },
    {
      "cell_type": "code",
      "metadata": {
        "id": "rR3vQAfeybH8",
        "colab_type": "code",
        "colab": {}
      },
      "source": [
        "from sklearn.neighbors import KNeighborsClassifier"
      ],
      "execution_count": 0,
      "outputs": []
    },
    {
      "cell_type": "code",
      "metadata": {
        "id": "tSa8_q_rybIE",
        "colab_type": "code",
        "outputId": "dc12f7e3-6eda-46a3-c4d4-455e1a31bfda",
        "colab": {
          "base_uri": "https://localhost:8080/",
          "height": 312
        }
      },
      "source": [
        "t1=time.time()\n",
        "\n",
        "for i in range(len(cols)):\n",
        "    knn=KNeighborsClassifier(n_neighbors=(i+1))\n",
        "    model_knn=knn.fit(X_train,y_train)\n",
        "    yhat=model_knn.predict(X_test)\n",
        "    print(\"for \" , i+1,  \" as K, accuracy is : \", accuracy_score(y_test, yhat))\n",
        "t2=time.time()\n",
        "print(\" time for \", i+1 ,\" k's :: \", (t2-t1)/60 , \" minutes\")"
      ],
      "execution_count": 81,
      "outputs": [
        {
          "output_type": "stream",
          "text": [
            "for  1  as K, accuracy is :  0.9811142704156557\n",
            "for  2  as K, accuracy is :  0.9806989858220072\n",
            "for  3  as K, accuracy is :  0.9828779045622988\n",
            "for  4  as K, accuracy is :  0.9834098222758656\n",
            "for  5  as K, accuracy is :  0.9845408101053763\n",
            "for  6  as K, accuracy is :  0.9841962122510722\n",
            "for  7  as K, accuracy is :  0.9849666977099264\n",
            "for  8  as K, accuracy is :  0.984673347741647\n",
            "for  9  as K, accuracy is :  0.983784461994391\n",
            "for  10  as K, accuracy is :  0.9848005838724669\n",
            "for  11  as K, accuracy is :  0.983879889092506\n",
            "for  12  as K, accuracy is :  0.9847564046603767\n",
            "for  13  as K, accuracy is :  0.9837720918150057\n",
            "for  14  as K, accuracy is :  0.983648390021153\n",
            "for  15  as K, accuracy is :  0.9836925692332432\n",
            "for  16  as K, accuracy is :  0.9846397715404585\n",
            " time for  16  k's ::  99.67426186800003  minutes\n"
          ],
          "name": "stdout"
        }
      ]
    },
    {
      "cell_type": "code",
      "metadata": {
        "id": "zEAFqU2vpBAp",
        "colab_type": "code",
        "colab": {}
      },
      "source": [
        ""
      ],
      "execution_count": 0,
      "outputs": []
    },
    {
      "cell_type": "code",
      "metadata": {
        "id": "vwLpR5K5ZiXB",
        "colab_type": "code",
        "colab": {
          "base_uri": "https://localhost:8080/",
          "height": 72
        },
        "outputId": "3bb92a6f-acd8-4e52-a0a0-dccbd27ebeca"
      },
      "source": [
        "# yhat=y_hat\n",
        "y_test_arr=y_test.as_matrix()"
      ],
      "execution_count": 82,
      "outputs": [
        {
          "output_type": "stream",
          "text": [
            "/usr/local/lib/python3.6/dist-packages/ipykernel_launcher.py:1: FutureWarning: Method .as_matrix will be removed in a future version. Use .values instead.\n",
            "  \"\"\"Entry point for launching an IPython kernel.\n"
          ],
          "name": "stderr"
        }
      ]
    },
    {
      "cell_type": "code",
      "metadata": {
        "id": "5tW_sfyao49_",
        "colab_type": "code",
        "colab": {}
      },
      "source": [
        "knn=KNeighborsClassifier(n_neighbors=7)\n",
        "model_knn=knn.fit(X_train,y_train)\n",
        "yhat=model_knn.predict(X_test)\n"
      ],
      "execution_count": 0,
      "outputs": []
    },
    {
      "cell_type": "code",
      "metadata": {
        "id": "cSgXyREFuZ4V",
        "colab_type": "code",
        "colab": {}
      },
      "source": [
        "from sklearn import metrics"
      ],
      "execution_count": 0,
      "outputs": []
    },
    {
      "cell_type": "code",
      "metadata": {
        "id": "ZR_7DkXruRBL",
        "colab_type": "code",
        "colab": {
          "base_uri": "https://localhost:8080/",
          "height": 321
        },
        "outputId": "d96d4e41-c83a-4343-ed79-55dd3dfd7035"
      },
      "source": [
        "\n",
        "cm=metrics.confusion_matrix(y_test,yhat)\n",
        "print(cm)\n",
        "plt.imshow(cm, cmap='binary')"
      ],
      "execution_count": 94,
      "outputs": [
        {
          "output_type": "stream",
          "text": [
            "[[109253   2130]\n",
            " [  6377 448117]]\n"
          ],
          "name": "stdout"
        },
        {
          "output_type": "execute_result",
          "data": {
            "text/plain": [
              "<matplotlib.image.AxesImage at 0x7f4acfda9588>"
            ]
          },
          "metadata": {
            "tags": []
          },
          "execution_count": 94
        },
        {
          "output_type": "display_data",
          "data": {
            "image/png": "[encoded data removed]",
            "text/plain": [
              "<Figure size 432x288 with 1 Axes>"
            ]
          },
          "metadata": {
            "tags": []
          }
        }
      ]
    },
    {
      "cell_type": "code",
      "metadata": {
        "id": "q4K1zJUjZeD1",
        "colab_type": "code",
        "colab": {}
      },
      "source": [
        "true={}\n",
        "false={}\n",
        "not_detected={}\n",
        "\n",
        "for x in range(len(y_test_arr)):\n",
        "    if y_test_arr[x]==yhat[x]:\n",
        "      if y_test_arr[x] in true:\n",
        "        true[y_test_arr[x]]=true[y_test_arr[x]]+1\n",
        "      else:\n",
        "        true[y_test_arr[x]]=1\n",
        "    elif y_test_arr[x]!=yhat[x]:\n",
        "      if yhat[x] in false:\n",
        "        false[yhat[x]]=false[yhat[x]]+1\n",
        "\n",
        "        if y_test_arr[x] in not_detected:\n",
        "          not_detected[y_test_arr[x]]=not_detected[y_test_arr[x]]+1\n",
        "        else:\n",
        "          not_detected[y_test_arr[x]]=1\n",
        "\n",
        "      else:\n",
        "        false[yhat[x]]=1\n",
        "\n",
        "        if y_test_arr[x] in not_detected:\n",
        "          not_detected[y_test_arr[x]]=not_detected[y_test_arr[x]]+1\n",
        "        else:\n",
        "          not_detected[y_test_arr[x]]=1"
      ],
      "execution_count": 0,
      "outputs": []
    },
    {
      "cell_type": "code",
      "metadata": {
        "id": "-UF43OonZkNe",
        "colab_type": "code",
        "colab": {
          "base_uri": "https://localhost:8080/",
          "height": 34
        },
        "outputId": "fb82d796-f642-48d4-e742-5a3f1889b15e"
      },
      "source": [
        "true"
      ],
      "execution_count": 84,
      "outputs": [
        {
          "output_type": "execute_result",
          "data": {
            "text/plain": [
              "{'ATTACK': 109241, 'BENIGN': 447944}"
            ]
          },
          "metadata": {
            "tags": []
          },
          "execution_count": 84
        }
      ]
    },
    {
      "cell_type": "code",
      "metadata": {
        "id": "OqI1IZCKZkki",
        "colab_type": "code",
        "colab": {
          "base_uri": "https://localhost:8080/",
          "height": 34
        },
        "outputId": "2182e9af-2193-40b9-cffe-331d7af7a9db"
      },
      "source": [
        "false"
      ],
      "execution_count": 85,
      "outputs": [
        {
          "output_type": "execute_result",
          "data": {
            "text/plain": [
              "{'ATTACK': 6550, 'BENIGN': 2142}"
            ]
          },
          "metadata": {
            "tags": []
          },
          "execution_count": 85
        }
      ]
    },
    {
      "cell_type": "code",
      "metadata": {
        "id": "5LjfFMYuZkrh",
        "colab_type": "code",
        "colab": {
          "base_uri": "https://localhost:8080/",
          "height": 34
        },
        "outputId": "ff5fde83-756e-42bf-b2cf-ead34c4a6fbb"
      },
      "source": [
        "not_detected"
      ],
      "execution_count": 86,
      "outputs": [
        {
          "output_type": "execute_result",
          "data": {
            "text/plain": [
              "{'ATTACK': 2142, 'BENIGN': 6550}"
            ]
          },
          "metadata": {
            "tags": []
          },
          "execution_count": 86
        }
      ]
    },
    {
      "cell_type": "markdown",
      "metadata": {
        "id": "hRO8QuIGybIY",
        "colab_type": "text"
      },
      "source": [
        "### save knn_model for future use"
      ]
    },
    {
      "cell_type": "code",
      "metadata": {
        "id": "Hq4K3I-OybId",
        "colab_type": "code",
        "colab": {}
      },
      "source": [
        "import pickle\n",
        "filename = 'finalized_model.sav'"
      ],
      "execution_count": 0,
      "outputs": []
    },
    {
      "cell_type": "code",
      "metadata": {
        "id": "QTZKucneybIj",
        "colab_type": "code",
        "colab": {}
      },
      "source": [
        "\n",
        "pickle.dump(model_knn, open(filename, 'wb'))"
      ],
      "execution_count": 0,
      "outputs": []
    },
    {
      "cell_type": "code",
      "metadata": {
        "id": "_PFfk0oBybIw",
        "colab_type": "code",
        "colab": {}
      },
      "source": [
        "\n",
        "# load the model from disk\n",
        "model_knn = pickle.load(open(filename, 'rb'))\n",
        "y_hat=model_knn.predict(X_test)\n"
      ],
      "execution_count": 0,
      "outputs": []
    },
    {
      "cell_type": "markdown",
      "metadata": {
        "id": "a-KQXis4ybI2",
        "colab_type": "text"
      },
      "source": [
        "### 2) Naive bayes"
      ]
    },
    {
      "cell_type": "markdown",
      "metadata": {
        "id": "F93cdUMMybI4",
        "colab_type": "text"
      },
      "source": [
        "#####     2.1) Gaussian naive bayes"
      ]
    },
    {
      "cell_type": "code",
      "metadata": {
        "id": "5N3TphfHybI6",
        "colab_type": "code",
        "colab": {}
      },
      "source": [
        "from sklearn.naive_bayes import GaussianNB"
      ],
      "execution_count": 0,
      "outputs": []
    },
    {
      "cell_type": "code",
      "metadata": {
        "id": "ZU0_A66jybI_",
        "colab_type": "code",
        "colab": {
          "base_uri": "https://localhost:8080/",
          "height": 52
        },
        "outputId": "97bb5daa-9742-4a92-f101-cab2abbdc59c"
      },
      "source": [
        "t1=time.time()\n",
        "\n",
        "gnb = GaussianNB()\n",
        "model_gnb = gnb.fit(X_train, y_train)\n",
        "yhat=model_gnb.predict(X_test)\n",
        "\n",
        "print(\"Accuracy :: \", accuracy_score(y_test,yhat))\n",
        "\n",
        "t2=time.time()\n",
        "print(\" time for Naive Baye's :: \", (t2-t1) , \" seconds\")"
      ],
      "execution_count": 88,
      "outputs": [
        {
          "output_type": "stream",
          "text": [
            "Accuracy ::  0.24458672114258045\n",
            " time for Naive Baye's ::  5.770077228546143  seconds\n"
          ],
          "name": "stdout"
        }
      ]
    },
    {
      "cell_type": "markdown",
      "metadata": {
        "id": "wEnB9rh0ybJJ",
        "colab_type": "text"
      },
      "source": [
        "results for gausian naive bayes are not very good, so we use bernoulli Naive Bayes"
      ]
    },
    {
      "cell_type": "markdown",
      "metadata": {
        "id": "qRUj7ZUOybJO",
        "colab_type": "text"
      },
      "source": [
        "##### 2.2) Bernoulli Naive Bayes"
      ]
    },
    {
      "cell_type": "code",
      "metadata": {
        "id": "b6fQPymUybJP",
        "colab_type": "code",
        "colab": {}
      },
      "source": [
        "from sklearn.naive_bayes import BernoulliNB"
      ],
      "execution_count": 0,
      "outputs": []
    },
    {
      "cell_type": "code",
      "metadata": {
        "id": "d8gG_YQtybJV",
        "colab_type": "code",
        "colab": {
          "base_uri": "https://localhost:8080/",
          "height": 34
        },
        "outputId": "41f0a2e5-a8d0-4ce6-c130-aef547785309"
      },
      "source": [
        "clf = BernoulliNB()\n",
        "clf.fit(X_train, y_train)\n",
        "yhat=clf.predict(X_test)\n",
        "print(\"Accuracy ::: \", accuracy_score(y_test,yhat))"
      ],
      "execution_count": 90,
      "outputs": [
        {
          "output_type": "stream",
          "text": [
            "Accuracy :::  0.7976980863332491\n"
          ],
          "name": "stdout"
        }
      ]
    },
    {
      "cell_type": "markdown",
      "metadata": {
        "id": "OqjTcjs3ybJZ",
        "colab_type": "text"
      },
      "source": [
        "#### Scatter plot"
      ]
    },
    {
      "cell_type": "code",
      "metadata": {
        "id": "zGyL_qxfybJc",
        "colab_type": "code",
        "colab": {}
      },
      "source": [
        "plt.scatter(y_test,yhat)"
      ],
      "execution_count": 0,
      "outputs": []
    },
    {
      "cell_type": "code",
      "metadata": {
        "id": "Ow-uQf3GybJi",
        "colab_type": "code",
        "colab": {}
      },
      "source": [
        "type(y_test)"
      ],
      "execution_count": 0,
      "outputs": []
    },
    {
      "cell_type": "code",
      "metadata": {
        "id": "9ZTFf8F4ybJ7",
        "colab_type": "code",
        "colab": {}
      },
      "source": [
        "type(yhat)"
      ],
      "execution_count": 0,
      "outputs": []
    },
    {
      "cell_type": "code",
      "metadata": {
        "id": "MFQT4KExybKG",
        "colab_type": "code",
        "outputId": "b426e7ad-8e5f-4134-811d-e855dabd409a",
        "colab": {
          "base_uri": "https://localhost:8080/",
          "height": 139
        }
      },
      "source": [
        "\n",
        "true_benign=0\n",
        "true_ftp=0\n",
        "true_ssh=0\n",
        "false_benign=0\n",
        "false_ftp=0\n",
        "false_ssh=0\n",
        "print(len(y_test_arr))\n",
        "for x in range(len(y_test_arr)):\n",
        "    if y_test_arr[x]==yhat[x] and y_test_arr[x]==\"BENIGN\":\n",
        "        true_benign=true_benign+1\n",
        "    elif y_test_arr[x]==yhat[x] and y_test_arr[x]==\"FTP-Patator\":\n",
        "        true_ftp=true_ftp+1\n",
        "    elif y_test_arr[x]==yhat[x] and y_test_arr[x]==\"SSH-Patator\":\n",
        "        true_ssh=true_ssh+1\n",
        "    elif y_test_arr[x]!=yhat[x]:\n",
        "        if yhat[x]==\"BENIGN\":\n",
        "            false_benign=false_benign+1\n",
        "        elif yhat[x]==\"FTP-Patator\":\n",
        "            false_ftp=false_ftp+1\n",
        "        elif yhat[x]==\"SSH-Patator\":\n",
        "            false_ssh=false_ssh+1\n",
        "print(\"true benign  ::: \", true_benign )\n",
        "print(\"true ftp  ::: \", true_ftp )\n",
        "print(\"true ssh  ::: \", true_ssh )\n",
        "print(\"false benign  ::: \", false_benign )\n",
        "print(\"false ftp ::: \", false_ftp )\n",
        "print(\"fasle ssh  ::: \", false_ssh )"
      ],
      "execution_count": 0,
      "outputs": [
        {
          "output_type": "stream",
          "text": [
            "565877\n",
            "true benign  :::  450872\n",
            "true ftp  :::  1536\n",
            "true ssh  :::  611\n",
            "false benign  :::  5575\n",
            "false ftp :::  12\n",
            "fasle ssh  :::  1\n"
          ],
          "name": "stdout"
        }
      ]
    },
    {
      "cell_type": "code",
      "metadata": {
        "id": "XkV1NpYRybKA",
        "colab_type": "code",
        "outputId": "d0856b77-6310-4da4-f7d4-6e6feace4c37",
        "colab": {
          "base_uri": "https://localhost:8080/",
          "height": 72
        }
      },
      "source": [
        "y_test_arr=y_test.as_matrix()"
      ],
      "execution_count": 0,
      "outputs": [
        {
          "output_type": "stream",
          "text": [
            "/usr/local/lib/python3.6/dist-packages/ipykernel_launcher.py:1: FutureWarning: Method .as_matrix will be removed in a future version. Use .values instead.\n",
            "  \"\"\"Entry point for launching an IPython kernel.\n"
          ],
          "name": "stderr"
        }
      ]
    },
    {
      "cell_type": "code",
      "metadata": {
        "id": "nYnKIbEyh2aP",
        "colab_type": "code",
        "colab": {}
      },
      "source": [
        "true={}\n",
        "false={}\n",
        "not_detected={}\n",
        "for x in range(len(y_test_arr)):\n",
        "    if y_test_arr[x]==yhat[x]:\n",
        "      if y_test_arr[x] in true:\n",
        "        true[y_test_arr[x]]=true[y_test_arr[x]]+1\n",
        "      else:\n",
        "        true[y_test_arr[x]]=1\n",
        "    elif y_test_arr[x]!=yhat[x]:\n",
        "      if yhat[x] in false:\n",
        "        false[yhat[x]]=false[yhat[x]]+1\n",
        "\n",
        "        if y_test_arr[x] in not_detected:\n",
        "          not_detected[y_test_arr[x]]=not_detected[y_test_arr[x]]+1\n",
        "        else:\n",
        "          not_detected[y_test_arr[x]]=1\n",
        "\n",
        "      else:\n",
        "        false[yhat[x]]=1\n",
        "\n",
        "        if y_test_arr[x] in not_detected:\n",
        "          not_detected[y_test_arr[x]]=not_detected[y_test_arr[x]]+1\n",
        "        else:\n",
        "          not_detected[y_test_arr[x]]=1"
      ],
      "execution_count": 0,
      "outputs": []
    },
    {
      "cell_type": "code",
      "metadata": {
        "id": "LTLAXFtdj0-R",
        "colab_type": "code",
        "outputId": "e5f453cc-75c4-4165-9c5d-196f5a282b3a",
        "colab": {
          "base_uri": "https://localhost:8080/",
          "height": 225
        }
      },
      "source": [
        "true"
      ],
      "execution_count": 0,
      "outputs": [
        {
          "output_type": "execute_result",
          "data": {
            "text/plain": [
              "{'BENIGN': 450872,\n",
              " 'Bot': 156,\n",
              " 'DDoS': 25475,\n",
              " 'DoS GoldenEye': 1959,\n",
              " 'DoS Hulk': 41791,\n",
              " 'DoS Slowhttptest': 1032,\n",
              " 'DoS slowloris': 1127,\n",
              " 'FTP-Patator': 1536,\n",
              " 'PortScan': 31695,\n",
              " 'SSH-Patator': 611,\n",
              " 'Web Attack-Brute Force': 243,\n",
              " 'Web Attack-XSS': 19}"
            ]
          },
          "metadata": {
            "tags": []
          },
          "execution_count": 25
        }
      ]
    },
    {
      "cell_type": "code",
      "metadata": {
        "id": "5M_94TkflXT7",
        "colab_type": "code",
        "outputId": "5afac64f-ee3d-45ac-fc03-5ab981beeae3",
        "colab": {
          "base_uri": "https://localhost:8080/",
          "height": 225
        }
      },
      "source": [
        "false"
      ],
      "execution_count": 0,
      "outputs": [
        {
          "output_type": "execute_result",
          "data": {
            "text/plain": [
              "{'BENIGN': 5575,\n",
              " 'Bot': 24,\n",
              " 'DDoS': 120,\n",
              " 'DoS GoldenEye': 122,\n",
              " 'DoS Hulk': 2939,\n",
              " 'DoS Slowhttptest': 86,\n",
              " 'DoS slowloris': 42,\n",
              " 'FTP-Patator': 12,\n",
              " 'PortScan': 325,\n",
              " 'SSH-Patator': 1,\n",
              " 'Web Attack-Brute Force': 88,\n",
              " 'Web Attack-XSS': 27}"
            ]
          },
          "metadata": {
            "tags": []
          },
          "execution_count": 26
        }
      ]
    },
    {
      "cell_type": "code",
      "metadata": {
        "id": "uq55eLpJwg-y",
        "colab_type": "code",
        "outputId": "131de261-733e-4c78-ee51-d615fb9ac939",
        "colab": {
          "base_uri": "https://localhost:8080/",
          "height": 278
        }
      },
      "source": [
        "not_detected"
      ],
      "execution_count": 0,
      "outputs": [
        {
          "output_type": "execute_result",
          "data": {
            "text/plain": [
              "{'BENIGN': 3622,\n",
              " 'Bot': 212,\n",
              " 'DDoS': 59,\n",
              " 'DoS GoldenEye': 81,\n",
              " 'DoS Hulk': 4500,\n",
              " 'DoS Slowhttptest': 16,\n",
              " 'DoS slowloris': 35,\n",
              " 'FTP-Patator': 31,\n",
              " 'Heartbleed': 2,\n",
              " 'Infiltration': 8,\n",
              " 'PortScan': 47,\n",
              " 'SSH-Patator': 596,\n",
              " 'Web Attack-Brute Force': 58,\n",
              " 'Web Attack-Sql Injection': 5,\n",
              " 'Web Attack-XSS': 89}"
            ]
          },
          "metadata": {
            "tags": []
          },
          "execution_count": 27
        }
      ]
    },
    {
      "cell_type": "code",
      "metadata": {
        "id": "EArFIR4QybKL",
        "colab_type": "code",
        "colab": {}
      },
      "source": [
        "# y_hat= saved model output\n",
        "true_benign=0\n",
        "true_ftp=0\n",
        "true_ssh=0\n",
        "false_benign=0\n",
        "false_ftp=0\n",
        "false_ssh=0\n",
        "\n",
        "for x in range(len(y_test_arr)):\n",
        "    \n",
        "    if y_hat[x]==\"BENIGN\":\n",
        "        if y_hat[x]==y_test_arr[x]:\n",
        "            true_benign=true_benign+1\n",
        "        else:\n",
        "            false_benign=false_benign+1\n",
        "            \n",
        "    elif y_hat[x]==\"FTP-Patator\":\n",
        "        \n",
        "        if y_hat[x]==y_test_arr[x]:\n",
        "            true_ftp=true_ftp+1\n",
        "        else:\n",
        "            false_ftp=false_ftp+1\n",
        "            \n",
        "    elif y_hat[x]==\"SSH-Patator\":\n",
        "        if y_hat[x]==y_test_arr[x]:\n",
        "            true_ssh=true_ssh+1\n",
        "        else:\n",
        "            false_ssh=false_ssh+1\n",
        "            \n",
        "print(\"true benign  ::: \", true_benign )\n",
        "print(\"true ftp  ::: \", true_ftp )\n",
        "print(\"true ssh  ::: \", true_ssh )\n",
        "print(\"false benign  ::: \", false_benign )\n",
        "print(\"false ftp ::: \", false_ftp )\n",
        "print(\"fasle ssh  ::: \", false_ssh )"
      ],
      "execution_count": 0,
      "outputs": []
    },
    {
      "cell_type": "markdown",
      "metadata": {
        "id": "wkgkg15aybKQ",
        "colab_type": "text"
      },
      "source": [
        "## Visualization of results"
      ]
    },
    {
      "cell_type": "markdown",
      "metadata": {
        "id": "HOjurJ7IybKR",
        "colab_type": "text"
      },
      "source": [
        "### 1. Pie Chart"
      ]
    },
    {
      "cell_type": "code",
      "metadata": {
        "id": "iXvX-A60ybKT",
        "colab_type": "code",
        "colab": {}
      },
      "source": [
        "ser={}\n",
        "ser['true_benign']=true_benign\n",
        "ser['true ftp']=true_ftp\n",
        "ser['true ssh']=true_ssh\n",
        "ser['false benign']=false_benign\n",
        "ser['false ftp']=false_ftp\n",
        "ser['false ssh']=false_ssh"
      ],
      "execution_count": 0,
      "outputs": []
    },
    {
      "cell_type": "code",
      "metadata": {
        "id": "ZuJIgEIlybKY",
        "colab_type": "code",
        "colab": {}
      },
      "source": [
        "series = pd.Series(ser) \n"
      ],
      "execution_count": 0,
      "outputs": []
    },
    {
      "cell_type": "code",
      "metadata": {
        "id": "FtO329vLybKd",
        "colab_type": "code",
        "colab": {}
      },
      "source": [
        "colors_list = ['skyblue', 'yellowgreen', 'red', 'pink', 'black', 'blue']\n",
        "explode_list = [0, 0.1, 0, 0.4, 0.6, 0.8] # ratio for each continent with which to offset each wedge.\n",
        "\n",
        "series.plot(kind='pie',\n",
        "                            figsize=(8, 10),\n",
        "                            autopct='%1.1f%%',\n",
        "                            startangle=25,# add in percentages\n",
        "#                           shadow=False,\n",
        "                            labels=None,\n",
        "                            pctdistance=1.12, \n",
        "                            explode=explode_list,\n",
        "                            colors=colors_list,  # add custom colors\n",
        "\n",
        "           )\n",
        "\n",
        "plt.title('KNN results ', y=1.12) \n",
        "\n",
        "plt.axis('equal') \n",
        "\n",
        "# add legend\n",
        "plt.legend(labels=series.index, loc='upper right') \n",
        "\n",
        "plt.show()"
      ],
      "execution_count": 0,
      "outputs": []
    },
    {
      "cell_type": "markdown",
      "metadata": {
        "id": "80vM6RdNybKi",
        "colab_type": "text"
      },
      "source": [
        "#### Pie chart with TP,FP,TN,FN"
      ]
    },
    {
      "cell_type": "code",
      "metadata": {
        "id": "-yzU2rNbybKk",
        "colab_type": "code",
        "colab": {}
      },
      "source": [
        "ser3={}\n",
        "ser3['true positive']=true_ftp+true_ssh\n",
        "ser3['true negative']=true_benign\n",
        "ser3['false positive']=false_ftp+false_ssh\n",
        "ser3['false negative']=false_benign"
      ],
      "execution_count": 0,
      "outputs": []
    },
    {
      "cell_type": "code",
      "metadata": {
        "id": "T2trLk0YybKq",
        "colab_type": "code",
        "colab": {}
      },
      "source": [
        "series3 = pd.Series(ser3) \n"
      ],
      "execution_count": 0,
      "outputs": []
    },
    {
      "cell_type": "code",
      "metadata": {
        "id": "5oDxaEsEybKw",
        "colab_type": "code",
        "colab": {}
      },
      "source": [
        "colors_list = ['red', 'gray','black', 'skyblue' ]\n",
        "explode_list = [0, 0.2, 0.8, 0.4] # ratio for each continent with which to offset each wedge.\n",
        "\n",
        "series3.plot(kind='pie',\n",
        "                            figsize=(8, 10),\n",
        "                            autopct='%1.1f%%',\n",
        "                            startangle=25,# add in percentages\n",
        "#                           shadow=False,\n",
        "                            labels=None,\n",
        "                            pctdistance=1.12, \n",
        "                            explode=explode_list,\n",
        "                            colors=colors_list,  # add custom colors\n",
        "\n",
        "           )\n",
        "\n",
        "plt.title('KNN results ', y=1.12) \n",
        "\n",
        "plt.axis('equal') \n",
        "\n",
        "# add legend\n",
        "plt.legend(labels=series3.index, loc='upper right') \n",
        "\n",
        "plt.show()"
      ],
      "execution_count": 0,
      "outputs": []
    },
    {
      "cell_type": "code",
      "metadata": {
        "id": "JoMGcLf9Ng25",
        "colab_type": "code",
        "colab": {}
      },
      "source": [
        ""
      ],
      "execution_count": 0,
      "outputs": []
    }
  ]
}