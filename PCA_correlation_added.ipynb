{
  "nbformat": 4,
  "nbformat_minor": 0,
  "metadata": {
    "colab": {
      "name": "PCA added.ipynb",
      "provenance": [],
      "collapsed_sections": [],
      "include_colab_link": true
    },
    "kernelspec": {
      "name": "python3",
      "display_name": "Python 3"
    },
    "accelerator": "GPU"
  },
  "cells": [
    {
      "cell_type": "markdown",
      "metadata": {
        "id": "view-in-github",
        "colab_type": "text"
      },
      "source": [
        "<a href=\"https://colab.research.google.com/github/SaqlainHussainShah/implementation-of-sdi/blob/master/PCA_correlation_added.ipynb\" target=\"_parent\"><img src=\"https://colab.research.google.com/assets/colab-badge.svg\" alt=\"Open In Colab\"/></a>"
      ]
    },
    {
      "cell_type": "code",
      "metadata": {
        "id": "DPjrq9AOht31",
        "colab_type": "code",
        "colab": {}
      },
      "source": [
        "import pandas as pd\n",
        "import matplotlib.pyplot as plt\n",
        "import numpy as np\n",
        "import time\n",
        "from sklearn.metrics import accuracy_score"
      ],
      "execution_count": 0,
      "outputs": []
    },
    {
      "cell_type": "code",
      "metadata": {
        "id": "9oFnCm2TiDXp",
        "colab_type": "code",
        "outputId": "3a599357-a791-4ae0-ca27-72078cdb7a9d",
        "colab": {
          "base_uri": "https://localhost:8080/",
          "height": 34
        }
      },
      "source": [
        "from google.colab import drive\n",
        "drive.mount('/content/drive')"
      ],
      "execution_count": 3,
      "outputs": [
        {
          "output_type": "stream",
          "text": [
            "Drive already mounted at /content/drive; to attempt to forcibly remount, call drive.mount(\"/content/drive\", force_remount=True).\n"
          ],
          "name": "stdout"
        }
      ]
    },
    {
      "cell_type": "code",
      "metadata": {
        "id": "LHtcWLQUiEBA",
        "colab_type": "code",
        "outputId": "92e58da1-e0b4-4cb5-fea1-0829e9df06f0",
        "colab": {
          "base_uri": "https://localhost:8080/",
          "height": 34
        }
      },
      "source": [
        "len(df.columns)"
      ],
      "execution_count": 0,
      "outputs": [
        {
          "output_type": "execute_result",
          "data": {
            "text/plain": [
              "86"
            ]
          },
          "metadata": {
            "tags": []
          },
          "execution_count": 10
        }
      ]
    },
    {
      "cell_type": "code",
      "metadata": {
        "id": "C_QbUwVQjdou",
        "colab_type": "code",
        "outputId": "bda463c9-cdd5-45e6-902e-cf18a9e5bb59",
        "colab": {
          "base_uri": "https://localhost:8080/",
          "height": 124
        }
      },
      "source": [
        "t1=time.time()\n",
        "df1=pd.read_csv(\"/content/drive/My Drive/Friday-WorkingHours-Afternoon-DDos.pcap_ISCX.csv\")\n",
        "df2=pd.read_csv(\"/content/drive/My Drive/Friday-WorkingHours-Afternoon-PortScan.pcap_ISCX.csv\")\n",
        "df3=pd.read_csv(\"/content/drive/My Drive/Friday-WorkingHours-Morning.pcap_ISCX.csv\")\n",
        "df4=pd.read_csv(\"/content/drive/My Drive/Monday-WorkingHours.pcap_ISCX.csv\")\n",
        "df5=pd.read_csv(\"/content/drive/My Drive/Thursday-WorkingHours-Afternoon-Infilteration.pcap_ISCX.csv\")\n",
        "df6=pd.read_csv(\"/content/drive/My Drive/Thursday-WorkingHours-Morning-WebAttacks.pcap_ISCX.csv\")\n",
        "df7=pd.read_csv(\"/content/drive/My Drive/Tuesday-WorkingHours.pcap_ISCX.csv\")\n",
        "df8=pd.read_csv(\"/content/drive/My Drive/Wednesday-workingHours.pcap_ISCX.csv\")\n",
        "t2=time.time()\n",
        "print(\" time = \" , (t2-t1)/60 , \" minutes \")"
      ],
      "execution_count": 4,
      "outputs": [
        {
          "output_type": "stream",
          "text": [
            "/usr/local/lib/python3.6/dist-packages/IPython/core/interactiveshell.py:2718: DtypeWarning: Columns (20,21) have mixed types. Specify dtype option on import or set low_memory=False.\n",
            "  interactivity=interactivity, compiler=compiler, result=result)\n",
            "/usr/local/lib/python3.6/dist-packages/IPython/core/interactiveshell.py:2718: DtypeWarning: Columns (20) have mixed types. Specify dtype option on import or set low_memory=False.\n",
            "  interactivity=interactivity, compiler=compiler, result=result)\n"
          ],
          "name": "stderr"
        },
        {
          "output_type": "stream",
          "text": [
            " time =  0.48729376395543417  minutes \n"
          ],
          "name": "stdout"
        }
      ]
    },
    {
      "cell_type": "code",
      "metadata": {
        "id": "UtVMTB7Jj9Cm",
        "colab_type": "code",
        "colab": {}
      },
      "source": [
        "pdList=[df1,df2,df3,df4,df5,df6,df7,df8]\n",
        "df = pd.concat(pdList)"
      ],
      "execution_count": 0,
      "outputs": []
    },
    {
      "cell_type": "code",
      "metadata": {
        "id": "oIWJAEjXoaQZ",
        "colab_type": "code",
        "colab": {}
      },
      "source": [
        "del pdList\n",
        "del df1\n",
        "del df2\n",
        "del df3\n",
        "del df4\n",
        "del df5\n",
        "del df6\n",
        "del df7\n",
        "del df8"
      ],
      "execution_count": 0,
      "outputs": []
    },
    {
      "cell_type": "code",
      "metadata": {
        "id": "zdmwlauAkBMM",
        "colab_type": "code",
        "outputId": "bd2d73b9-fc72-4505-8fce-c8de40bece72",
        "colab": {
          "base_uri": "https://localhost:8080/",
          "height": 141
        }
      },
      "source": [
        "df2=df[df.columns[7:-1]]\n",
        "df2[' Label']=df[' Label']\n",
        "df=df2\n",
        "df2=[]"
      ],
      "execution_count": 7,
      "outputs": [
        {
          "output_type": "stream",
          "text": [
            "/usr/local/lib/python3.6/dist-packages/ipykernel_launcher.py:2: SettingWithCopyWarning: \n",
            "A value is trying to be set on a copy of a slice from a DataFrame.\n",
            "Try using .loc[row_indexer,col_indexer] = value instead\n",
            "\n",
            "See the caveats in the documentation: http://pandas.pydata.org/pandas-docs/stable/user_guide/indexing.html#returning-a-view-versus-a-copy\n",
            "  \n"
          ],
          "name": "stderr"
        }
      ]
    },
    {
      "cell_type": "code",
      "metadata": {
        "id": "vv3oDJh60kJf",
        "colab_type": "code",
        "colab": {}
      },
      "source": [
        "del df2"
      ],
      "execution_count": 0,
      "outputs": []
    },
    {
      "cell_type": "markdown",
      "metadata": {
        "id": "TV30TEg2nzKz",
        "colab_type": "text"
      },
      "source": [
        "### Some required preprocessing"
      ]
    },
    {
      "cell_type": "code",
      "metadata": {
        "id": "qMvGD5fbnlD9",
        "colab_type": "code",
        "colab": {}
      },
      "source": [
        "df=df.dropna( axis=0, how='any')\n",
        "df=df.replace(',,', np.nan, inplace=False)\n",
        "df=df.drop(columns=[' Fwd Header Length.1'], axis=1, inplace=False)"
      ],
      "execution_count": 0,
      "outputs": []
    },
    {
      "cell_type": "code",
      "metadata": {
        "id": "NAOouvx9nnis",
        "colab_type": "code",
        "outputId": "f45283d2-67c4-43cf-8293-44b042c17a59",
        "colab": {
          "base_uri": "https://localhost:8080/",
          "height": 486
        }
      },
      "source": [
        "df.columns\n"
      ],
      "execution_count": 0,
      "outputs": [
        {
          "output_type": "execute_result",
          "data": {
            "text/plain": [
              "Index([' Flow Duration', ' Total Fwd Packets', ' Total Backward Packets',\n",
              "       'Total Length of Fwd Packets', ' Total Length of Bwd Packets',\n",
              "       ' Fwd Packet Length Max', ' Fwd Packet Length Min',\n",
              "       ' Fwd Packet Length Mean', ' Fwd Packet Length Std',\n",
              "       'Bwd Packet Length Max', ' Bwd Packet Length Min',\n",
              "       ' Bwd Packet Length Mean', ' Bwd Packet Length Std', 'Flow Bytes/s',\n",
              "       ' Flow Packets/s', ' Flow IAT Mean', ' Flow IAT Std', ' Flow IAT Max',\n",
              "       ' Flow IAT Min', 'Fwd IAT Total', ' Fwd IAT Mean', ' Fwd IAT Std',\n",
              "       ' Fwd IAT Max', ' Fwd IAT Min', 'Bwd IAT Total', ' Bwd IAT Mean',\n",
              "       ' Bwd IAT Std', ' Bwd IAT Max', ' Bwd IAT Min', 'Fwd PSH Flags',\n",
              "       ' Bwd PSH Flags', ' Fwd URG Flags', ' Bwd URG Flags',\n",
              "       ' Fwd Header Length', ' Bwd Header Length', 'Fwd Packets/s',\n",
              "       ' Bwd Packets/s', ' Min Packet Length', ' Max Packet Length',\n",
              "       ' Packet Length Mean', ' Packet Length Std', ' Packet Length Variance',\n",
              "       'FIN Flag Count', ' SYN Flag Count', ' RST Flag Count',\n",
              "       ' PSH Flag Count', ' ACK Flag Count', ' URG Flag Count',\n",
              "       ' CWE Flag Count', ' ECE Flag Count', ' Down/Up Ratio',\n",
              "       ' Average Packet Size', ' Avg Fwd Segment Size',\n",
              "       ' Avg Bwd Segment Size', 'Fwd Avg Bytes/Bulk', ' Fwd Avg Packets/Bulk',\n",
              "       ' Fwd Avg Bulk Rate', ' Bwd Avg Bytes/Bulk', ' Bwd Avg Packets/Bulk',\n",
              "       'Bwd Avg Bulk Rate', 'Subflow Fwd Packets', ' Subflow Fwd Bytes',\n",
              "       ' Subflow Bwd Packets', ' Subflow Bwd Bytes', 'Init_Win_bytes_forward',\n",
              "       ' Init_Win_bytes_backward', ' act_data_pkt_fwd',\n",
              "       ' min_seg_size_forward', 'Active Mean', ' Active Std', ' Active Max',\n",
              "       ' Active Min', 'Idle Mean', ' Idle Std', ' Idle Max', ' Idle Min',\n",
              "       ' Label'],\n",
              "      dtype='object')"
            ]
          },
          "metadata": {
            "tags": []
          },
          "execution_count": 24
        }
      ]
    },
    {
      "cell_type": "code",
      "metadata": {
        "id": "QwS2UIVUnpoP",
        "colab_type": "code",
        "colab": {}
      },
      "source": [
        "df.replace(\"Infinity\", 0, inplace=True)\n",
        "df['Flow Bytes/s'].replace(\"Infinity\", 0,inplace=True)\n",
        "df[\" Flow Packets/s\"].replace(\"Infinity\", 0, inplace=True)\n",
        "df[\" Flow Packets/s\"].replace(np.nan, 0, inplace=True)\n",
        "df['Flow Bytes/s'].replace(np.nan, 0,inplace=True)\n",
        "\n",
        "\n",
        "df[\"Bwd Avg Bulk Rate\"].replace(\"Infinity\", 0, inplace=True)\n",
        "df[\"Bwd Avg Bulk Rate\"].replace(\",,\", 0, inplace=True)\n",
        "df[\"Bwd Avg Bulk Rate\"].replace(np.nan, 0, inplace=True)\n",
        "\n",
        "df[\" Bwd Avg Packets/Bulk\"].replace(\"Infinity\", 0, inplace=True)\n",
        "df[\" Bwd Avg Packets/Bulk\"].replace(\",,\", 0, inplace=True)\n",
        "df[\" Bwd Avg Packets/Bulk\"].replace(np.nan, 0, inplace=True)\n",
        "\n",
        "\n",
        "df[\" Bwd Avg Bytes/Bulk\"].replace(\"Infinity\", 0, inplace=True)\n",
        "df[\" Bwd Avg Bytes/Bulk\"].replace(\",,\", 0, inplace=True)\n",
        "df[\" Bwd Avg Bytes/Bulk\"].replace(np.nan, 0, inplace=True)\n",
        "\n",
        "\n",
        "df[\" Fwd Avg Bulk Rate\"].replace(\"Infinity\", 0, inplace=True)\n",
        "df[\" Fwd Avg Bulk Rate\"].replace(\",,\", 0, inplace=True)\n",
        "df[\" Fwd Avg Bulk Rate\"].replace(np.nan, 0, inplace=True)\n",
        "\n",
        "\n",
        "df[\" Fwd Avg Packets/Bulk\"].replace(\"Infinity\", 0, inplace=True)\n",
        "df[\" Fwd Avg Packets/Bulk\"].replace(\",,\", 0, inplace=True)\n",
        "df[\" Fwd Avg Packets/Bulk\"].replace(np.nan, 0, inplace=True)\n",
        "\n",
        "\n",
        "df[\"Fwd Avg Bytes/Bulk\"].replace(\"Infinity\", 0, inplace=True)\n",
        "df[\"Fwd Avg Bytes/Bulk\"].replace(\",,\", 0, inplace=True)\n",
        "df[\"Fwd Avg Bytes/Bulk\"].replace(np.nan, 0, inplace=True)\n",
        "\n",
        "\n",
        "df[\" CWE Flag Count\"].replace(\"Infinity\", 0, inplace=True)\n",
        "df[\" CWE Flag Count\"].replace(\",,\", 0, inplace=True)\n",
        "df[\" CWE Flag Count\"].replace(np.nan, 0, inplace=True)\n",
        "\n",
        "df[\" Bwd URG Flags\"].replace(\"Infinity\", 0, inplace=True)\n",
        "df[\" Bwd URG Flags\"].replace(\",,\", 0, inplace=True)\n",
        "df[\" Bwd URG Flags\"].replace(np.nan, 0, inplace=True)\n",
        "\n",
        "df[\" Bwd PSH Flags\"].replace(\"Infinity\", 0, inplace=True)\n",
        "df[\" Bwd PSH Flags\"].replace(\",,\", 0, inplace=True)\n",
        "df[\" Bwd PSH Flags\"].replace(np.nan, 0, inplace=True)\n",
        "\n",
        "df[\" Fwd URG Flags\"].replace(\"Infinity\", 0, inplace=True)\n",
        "df[\" Fwd URG Flags\"].replace(\",,\", 0, inplace=True)\n",
        "df[\" Fwd URG Flags\"].replace(np.nan, 0, inplace=True)\n",
        "\n",
        "\n",
        "\n",
        "\n"
      ],
      "execution_count": 0,
      "outputs": []
    },
    {
      "cell_type": "code",
      "metadata": {
        "id": "TJty4s1ApYzF",
        "colab_type": "code",
        "colab": {}
      },
      "source": [
        "df[\"Flow Bytes/s\"]=df[\"Flow Bytes/s\"].astype(\"float64\")\n",
        "df[' Flow Packets/s']=df[\" Flow Packets/s\"].astype(\"float64\")\n",
        "\n",
        "\n"
      ],
      "execution_count": 0,
      "outputs": []
    },
    {
      "cell_type": "code",
      "metadata": {
        "id": "ENouncTXK2V5",
        "colab_type": "code",
        "colab": {}
      },
      "source": [
        "df['Bwd Avg Bulk Rate']=df[\"Bwd Avg Bulk Rate\"].astype(\"float64\")\n",
        "df[' Bwd Avg Packets/Bulk']=df[\" Bwd Avg Packets/Bulk\"].astype(\"float64\")\n",
        "df[' Bwd Avg Bytes/Bulk']=df[\" Bwd Avg Bytes/Bulk\"].astype(\"float64\")\n",
        "df[' Fwd Avg Bulk Rate']=df[\" Fwd Avg Bulk Rate\"].astype(\"float64\")\n",
        "df[' Fwd Avg Packets/Bulk']=df[\" Fwd Avg Packets/Bulk\"].astype(\"float64\")\n",
        "df['Fwd Avg Bytes/Bulk']=df[\"Fwd Avg Bytes/Bulk\"].astype(\"float64\")\n",
        "df[' CWE Flag Count']=df[\" CWE Flag Count\"].astype(\"float64\")\n",
        "df[' Bwd URG Flags']=df[\" Bwd URG Flags\"].astype(\"float64\")\n",
        "df[' Bwd PSH Flags']=df[\" Bwd PSH Flags\"].astype(\"float64\")\n",
        "df[' Fwd URG Flags']=df[\" Fwd URG Flags\"].astype(\"float64\")"
      ],
      "execution_count": 0,
      "outputs": []
    },
    {
      "cell_type": "code",
      "metadata": {
        "id": "8bd3-AJK9F-6",
        "colab_type": "code",
        "colab": {}
      },
      "source": [
        "# Bwd Avg Bulk Rate\n",
        "# Bwd Avg Packets/Bulk\n",
        "# Bwd Avg Bytes/Bulk\n",
        "# Fwd Avg Bulk Rate\n",
        "# Fwd Avg Packets/Bulk\n",
        "# Fwd Avg Bytes/Bulk\n",
        "# CWE Flag Count\n",
        "# Bwd URG Flags\n",
        "# Bwd PSH Flags \n",
        "# Fwd URG Flags\n"
      ],
      "execution_count": 0,
      "outputs": []
    },
    {
      "cell_type": "code",
      "metadata": {
        "id": "9TRO7pPKISa8",
        "colab_type": "code",
        "colab": {}
      },
      "source": [
        "pd.set_option('display.max_rows', df.shape[0])"
      ],
      "execution_count": 0,
      "outputs": []
    },
    {
      "cell_type": "code",
      "metadata": {
        "id": "RwNl_ePqpj8i",
        "colab_type": "code",
        "colab": {}
      },
      "source": [
        "X=df[df.columns[0:-1]]\n",
        "y=df[df.columns[-1]]\n"
      ],
      "execution_count": 0,
      "outputs": []
    },
    {
      "cell_type": "code",
      "metadata": {
        "id": "k-xx0r9J21-K",
        "colab_type": "code",
        "colab": {}
      },
      "source": [
        "del df"
      ],
      "execution_count": 0,
      "outputs": []
    },
    {
      "cell_type": "markdown",
      "metadata": {
        "id": "9p5fnK0u11vl",
        "colab_type": "text"
      },
      "source": [
        "Z score"
      ]
    },
    {
      "cell_type": "code",
      "metadata": {
        "id": "Y1KXtSyeKSGo",
        "colab_type": "code",
        "colab": {}
      },
      "source": [
        "from scipy import stats"
      ],
      "execution_count": 0,
      "outputs": []
    },
    {
      "cell_type": "code",
      "metadata": {
        "id": "ksyCwg-aKSM6",
        "colab_type": "code",
        "outputId": "c0e497e7-38d7-49fe-b11e-97a379a16589",
        "colab": {
          "base_uri": "https://localhost:8080/",
          "height": 176
        }
      },
      "source": [
        "cols = list(X.columns)\n",
        "for col in cols:\n",
        "    X[col] = stats.zscore(X[col])\n",
        "    "
      ],
      "execution_count": 16,
      "outputs": [
        {
          "output_type": "stream",
          "text": [
            "/usr/local/lib/python3.6/dist-packages/ipykernel_launcher.py:3: SettingWithCopyWarning: \n",
            "A value is trying to be set on a copy of a slice from a DataFrame.\n",
            "Try using .loc[row_indexer,col_indexer] = value instead\n",
            "\n",
            "See the caveats in the documentation: http://pandas.pydata.org/pandas-docs/stable/user_guide/indexing.html#returning-a-view-versus-a-copy\n",
            "  This is separate from the ipykernel package so we can avoid doing imports until\n",
            "/usr/local/lib/python3.6/dist-packages/scipy/stats/stats.py:2315: RuntimeWarning: invalid value encountered in true_divide\n",
            "  return (a - mns) / sstd\n"
          ],
          "name": "stderr"
        }
      ]
    },
    {
      "cell_type": "code",
      "metadata": {
        "id": "iYJKPPceLsOJ",
        "colab_type": "code",
        "outputId": "b5492692-9c32-4eaa-e2c7-3d5b905cdccf",
        "colab": {
          "base_uri": "https://localhost:8080/",
          "height": 124
        }
      },
      "source": [
        "X.replace(np.nan, 0, inplace=True)"
      ],
      "execution_count": 0,
      "outputs": [
        {
          "output_type": "stream",
          "text": [
            "/usr/local/lib/python3.6/dist-packages/pandas/core/frame.py:4278: SettingWithCopyWarning: \n",
            "A value is trying to be set on a copy of a slice from a DataFrame\n",
            "\n",
            "See the caveats in the documentation: http://pandas.pydata.org/pandas-docs/stable/user_guide/indexing.html#returning-a-view-versus-a-copy\n",
            "  method=method,\n"
          ],
          "name": "stderr"
        }
      ]
    },
    {
      "cell_type": "markdown",
      "metadata": {
        "id": "eF-gamejtGMk",
        "colab_type": "text"
      },
      "source": [
        "### remove columns with 0 variation"
      ]
    },
    {
      "cell_type": "code",
      "metadata": {
        "id": "Epf1WRPMK8er",
        "colab_type": "code",
        "colab": {}
      },
      "source": [
        "X=X[[' Flow Duration', ' Total Fwd Packets', ' Total Backward Packets',\n",
        "       'Total Length of Fwd Packets', ' Total Length of Bwd Packets',\n",
        "       ' Fwd Packet Length Max', ' Fwd Packet Length Min',\n",
        "       ' Fwd Packet Length Mean', ' Fwd Packet Length Std',\n",
        "       'Bwd Packet Length Max', ' Bwd Packet Length Min',\n",
        "       ' Bwd Packet Length Mean', ' Bwd Packet Length Std', 'Flow Bytes/s',\n",
        "       ' Flow Packets/s', ' Flow IAT Mean', ' Flow IAT Std', ' Flow IAT Max',\n",
        "       ' Flow IAT Min', 'Fwd IAT Total', ' Fwd IAT Mean', ' Fwd IAT Std',\n",
        "       ' Fwd IAT Max', ' Fwd IAT Min', 'Bwd IAT Total', ' Bwd IAT Mean',\n",
        "       ' Bwd IAT Std', ' Bwd IAT Max', ' Bwd IAT Min', 'Fwd PSH Flags',\n",
        "       ' Fwd Header Length', ' Bwd Header Length', 'Fwd Packets/s',\n",
        "       ' Bwd Packets/s', ' Min Packet Length', ' Max Packet Length',\n",
        "       ' Packet Length Mean', ' Packet Length Std', ' Packet Length Variance',\n",
        "       'FIN Flag Count', ' SYN Flag Count', ' RST Flag Count',\n",
        "       ' PSH Flag Count', ' ACK Flag Count', ' URG Flag Count', ' ECE Flag Count', ' Down/Up Ratio',\n",
        "       ' Average Packet Size', ' Avg Fwd Segment Size',\n",
        "       ' Avg Bwd Segment Size',  'Subflow Fwd Packets', ' Subflow Fwd Bytes',\n",
        "       ' Subflow Bwd Packets', ' Subflow Bwd Bytes', 'Init_Win_bytes_forward',\n",
        "       ' Init_Win_bytes_backward', ' act_data_pkt_fwd',\n",
        "       ' min_seg_size_forward', 'Active Mean', ' Active Std', ' Active Max',\n",
        "       ' Active Min', 'Idle Mean', ' Idle Std', ' Idle Max', ' Idle Min']]"
      ],
      "execution_count": 0,
      "outputs": []
    },
    {
      "cell_type": "code",
      "metadata": {
        "id": "spr151a2K_y3",
        "colab_type": "code",
        "outputId": "477084ea-11e6-4941-ea98-00af5217973f",
        "colab": {
          "base_uri": "https://localhost:8080/",
          "height": 1000
        }
      },
      "source": [
        "X.info()"
      ],
      "execution_count": 23,
      "outputs": [
        {
          "output_type": "stream",
          "text": [
            "<class 'pandas.core.frame.DataFrame'>\n",
            "Int64Index: 2829385 entries, 0 to 692702\n",
            "Data columns (total 66 columns):\n",
            " Flow Duration                  int64\n",
            " Total Fwd Packets              int64\n",
            " Total Backward Packets         int64\n",
            "Total Length of Fwd Packets     float64\n",
            " Total Length of Bwd Packets    float64\n",
            " Fwd Packet Length Max          float64\n",
            " Fwd Packet Length Min          float64\n",
            " Fwd Packet Length Mean         float64\n",
            " Fwd Packet Length Std          float64\n",
            "Bwd Packet Length Max           float64\n",
            " Bwd Packet Length Min          float64\n",
            " Bwd Packet Length Mean         float64\n",
            " Bwd Packet Length Std          float64\n",
            "Flow Bytes/s                    float64\n",
            " Flow Packets/s                 float64\n",
            " Flow IAT Mean                  float64\n",
            " Flow IAT Std                   float64\n",
            " Flow IAT Max                   float64\n",
            " Flow IAT Min                   float64\n",
            "Fwd IAT Total                   float64\n",
            " Fwd IAT Mean                   float64\n",
            " Fwd IAT Std                    float64\n",
            " Fwd IAT Max                    float64\n",
            " Fwd IAT Min                    float64\n",
            "Bwd IAT Total                   float64\n",
            " Bwd IAT Mean                   float64\n",
            " Bwd IAT Std                    float64\n",
            " Bwd IAT Max                    float64\n",
            " Bwd IAT Min                    float64\n",
            "Fwd PSH Flags                   int64\n",
            " Fwd Header Length              int64\n",
            " Bwd Header Length              int64\n",
            "Fwd Packets/s                   float64\n",
            " Bwd Packets/s                  float64\n",
            " Min Packet Length              float64\n",
            " Max Packet Length              float64\n",
            " Packet Length Mean             float64\n",
            " Packet Length Std              float64\n",
            " Packet Length Variance         float64\n",
            "FIN Flag Count                  int64\n",
            " SYN Flag Count                 int64\n",
            " RST Flag Count                 int64\n",
            " PSH Flag Count                 int64\n",
            " ACK Flag Count                 int64\n",
            " URG Flag Count                 int64\n",
            " ECE Flag Count                 int64\n",
            " Down/Up Ratio                  float64\n",
            " Average Packet Size            float64\n",
            " Avg Fwd Segment Size           float64\n",
            " Avg Bwd Segment Size           float64\n",
            "Subflow Fwd Packets             int64\n",
            " Subflow Fwd Bytes              int64\n",
            " Subflow Bwd Packets            int64\n",
            " Subflow Bwd Bytes              int64\n",
            "Init_Win_bytes_forward          int64\n",
            " Init_Win_bytes_backward        int64\n",
            " act_data_pkt_fwd               int64\n",
            " min_seg_size_forward           int64\n",
            "Active Mean                     float64\n",
            " Active Std                     float64\n",
            " Active Max                     float64\n",
            " Active Min                     float64\n",
            "Idle Mean                       float64\n",
            " Idle Std                       float64\n",
            " Idle Max                       float64\n",
            " Idle Min                       float64\n",
            "dtypes: float64(45), int64(21)\n",
            "memory usage: 1.4 GB\n"
          ],
          "name": "stdout"
        }
      ]
    },
    {
      "cell_type": "code",
      "metadata": {
        "id": "IW9k571RpdK7",
        "colab_type": "code",
        "colab": {}
      },
      "source": [
        "del df1,df2,df3,df4,df5,df6,df7,df8,df"
      ],
      "execution_count": 0,
      "outputs": []
    },
    {
      "cell_type": "markdown",
      "metadata": {
        "id": "NzI17l7P490g",
        "colab_type": "text"
      },
      "source": [
        "standard scalar"
      ]
    },
    {
      "cell_type": "code",
      "metadata": {
        "id": "lbQkySZMp1Nz",
        "colab_type": "code",
        "colab": {}
      },
      "source": [
        "from sklearn.preprocessing import StandardScaler\n",
        "X = StandardScaler().fit_transform(X)"
      ],
      "execution_count": 0,
      "outputs": []
    },
    {
      "cell_type": "code",
      "metadata": {
        "id": "yFuMjjju8-68",
        "colab_type": "code",
        "colab": {}
      },
      "source": [
        "from sklearn.decomposition import PCA\n",
        "pca = PCA(n_components=32)\n",
        "principalComponents = pca.fit_transform(X)\n",
        "principalDf = pd.DataFrame(data = principalComponents, columns = ['Feature 1', 'Feature 2','Feature 3', 'Feature 4',\n",
        "                                                                  'Feature 5', 'Feature 6', 'Feature 7', 'Feature 8',\n",
        "                                                                  'Feature 9', 'Feature 10','Feature 11', 'Feature 12',\n",
        "                                                                  'Feature 13', 'Feature 14','Feature 15', 'Feature 16',\n",
        "                                                                  'Feature 17', 'Feature 18','Feature 19', 'Feature 20',\n",
        "                                                                 'Feature 21', 'Feature 22','Feature 23', 'Feature 24',\n",
        "                                                                 'Feature 25', 'Feature 26','Feature 27', 'Feature 28',\n",
        "                                                                 'Feature 29', 'Feature 30','Feature 31', 'Feature 32'])\n",
        "#                           ,\n",
        "#                                                                   "
      ],
      "execution_count": 0,
      "outputs": []
    },
    {
      "cell_type": "code",
      "metadata": {
        "id": "808FrafsBLpM",
        "colab_type": "code",
        "colab": {}
      },
      "source": [
        "b=y.values"
      ],
      "execution_count": 0,
      "outputs": []
    },
    {
      "cell_type": "code",
      "metadata": {
        "id": "wrF3ZbRQHxZH",
        "colab_type": "code",
        "colab": {}
      },
      "source": [
        "principalDf[' Label']=b"
      ],
      "execution_count": 0,
      "outputs": []
    },
    {
      "cell_type": "code",
      "metadata": {
        "id": "u-NQovHgqF7R",
        "colab_type": "code",
        "colab": {}
      },
      "source": [
        "principalDf.head()"
      ],
      "execution_count": 0,
      "outputs": []
    },
    {
      "cell_type": "markdown",
      "metadata": {
        "id": "sVqZzzPMRJCA",
        "colab_type": "text"
      },
      "source": [
        "## Lets try correlation with target"
      ]
    },
    {
      "cell_type": "code",
      "metadata": {
        "id": "RfkqKg2gRIed",
        "colab_type": "code",
        "colab": {}
      },
      "source": [
        "newDf=principalDf"
      ],
      "execution_count": 0,
      "outputs": []
    },
    {
      "cell_type": "code",
      "metadata": {
        "id": "_vnOECjHRXEn",
        "colab_type": "code",
        "colab": {
          "base_uri": "https://localhost:8080/",
          "height": 243
        },
        "outputId": "f6dc29bf-fe28-4947-e63a-c236710ac63b"
      },
      "source": [
        "newDf.head()"
      ],
      "execution_count": 41,
      "outputs": [
        {
          "output_type": "execute_result",
          "data": {
            "text/html": [
              "<div>\n",
              "<style scoped>\n",
              "    .dataframe tbody tr th:only-of-type {\n",
              "        vertical-align: middle;\n",
              "    }\n",
              "\n",
              "    .dataframe tbody tr th {\n",
              "        vertical-align: top;\n",
              "    }\n",
              "\n",
              "    .dataframe thead th {\n",
              "        text-align: right;\n",
              "    }\n",
              "</style>\n",
              "<table border=\"1\" class=\"dataframe\">\n",
              "  <thead>\n",
              "    <tr style=\"text-align: right;\">\n",
              "      <th></th>\n",
              "      <th>Feature 1</th>\n",
              "      <th>Feature 2</th>\n",
              "      <th>Feature 3</th>\n",
              "      <th>Feature 4</th>\n",
              "      <th>Feature 5</th>\n",
              "      <th>Feature 6</th>\n",
              "      <th>Feature 7</th>\n",
              "      <th>Feature 8</th>\n",
              "      <th>Feature 9</th>\n",
              "      <th>Feature 10</th>\n",
              "      <th>Feature 11</th>\n",
              "      <th>Feature 12</th>\n",
              "      <th>Feature 13</th>\n",
              "      <th>Feature 14</th>\n",
              "      <th>Feature 15</th>\n",
              "      <th>Feature 16</th>\n",
              "      <th>Feature 17</th>\n",
              "      <th>Feature 18</th>\n",
              "      <th>Feature 19</th>\n",
              "      <th>Feature 20</th>\n",
              "      <th>Feature 21</th>\n",
              "      <th>Feature 22</th>\n",
              "      <th>Feature 23</th>\n",
              "      <th>Feature 24</th>\n",
              "      <th>Feature 25</th>\n",
              "      <th>Feature 26</th>\n",
              "      <th>Feature 27</th>\n",
              "      <th>Feature 28</th>\n",
              "      <th>Feature 29</th>\n",
              "      <th>Feature 30</th>\n",
              "      <th>Feature 31</th>\n",
              "      <th>Feature 32</th>\n",
              "      <th>Label</th>\n",
              "    </tr>\n",
              "  </thead>\n",
              "  <tbody>\n",
              "    <tr>\n",
              "      <th>0</th>\n",
              "      <td>-2.050958</td>\n",
              "      <td>-0.051516</td>\n",
              "      <td>0.403415</td>\n",
              "      <td>-0.403001</td>\n",
              "      <td>-2.731913</td>\n",
              "      <td>-0.698909</td>\n",
              "      <td>0.035543</td>\n",
              "      <td>0.173198</td>\n",
              "      <td>0.011009</td>\n",
              "      <td>-0.879385</td>\n",
              "      <td>0.041833</td>\n",
              "      <td>1.881527</td>\n",
              "      <td>0.082265</td>\n",
              "      <td>-0.976305</td>\n",
              "      <td>-0.226459</td>\n",
              "      <td>-0.513427</td>\n",
              "      <td>-0.568620</td>\n",
              "      <td>0.376107</td>\n",
              "      <td>-0.018178</td>\n",
              "      <td>-0.257254</td>\n",
              "      <td>0.095602</td>\n",
              "      <td>0.984387</td>\n",
              "      <td>-0.134472</td>\n",
              "      <td>-0.203150</td>\n",
              "      <td>-0.124592</td>\n",
              "      <td>-0.479286</td>\n",
              "      <td>0.524161</td>\n",
              "      <td>-0.164448</td>\n",
              "      <td>0.081799</td>\n",
              "      <td>-0.010245</td>\n",
              "      <td>-0.001254</td>\n",
              "      <td>-0.001219</td>\n",
              "      <td>BENIGN</td>\n",
              "    </tr>\n",
              "    <tr>\n",
              "      <th>1</th>\n",
              "      <td>-1.994499</td>\n",
              "      <td>-0.045927</td>\n",
              "      <td>0.376907</td>\n",
              "      <td>-0.236205</td>\n",
              "      <td>-0.862004</td>\n",
              "      <td>-0.416786</td>\n",
              "      <td>0.415229</td>\n",
              "      <td>-0.446323</td>\n",
              "      <td>-0.082490</td>\n",
              "      <td>2.508961</td>\n",
              "      <td>-0.067419</td>\n",
              "      <td>0.598699</td>\n",
              "      <td>-0.359573</td>\n",
              "      <td>1.376759</td>\n",
              "      <td>0.030459</td>\n",
              "      <td>-0.315277</td>\n",
              "      <td>-0.477800</td>\n",
              "      <td>0.300995</td>\n",
              "      <td>0.001015</td>\n",
              "      <td>-0.461530</td>\n",
              "      <td>1.101806</td>\n",
              "      <td>0.266455</td>\n",
              "      <td>-0.307461</td>\n",
              "      <td>-0.102879</td>\n",
              "      <td>-0.629366</td>\n",
              "      <td>0.129283</td>\n",
              "      <td>-0.903710</td>\n",
              "      <td>-0.125136</td>\n",
              "      <td>0.066978</td>\n",
              "      <td>0.006708</td>\n",
              "      <td>-0.000908</td>\n",
              "      <td>-0.015107</td>\n",
              "      <td>BENIGN</td>\n",
              "    </tr>\n",
              "    <tr>\n",
              "      <th>2</th>\n",
              "      <td>-2.005727</td>\n",
              "      <td>-0.046236</td>\n",
              "      <td>0.381170</td>\n",
              "      <td>-0.239405</td>\n",
              "      <td>-0.924778</td>\n",
              "      <td>-0.436641</td>\n",
              "      <td>0.411548</td>\n",
              "      <td>-0.443802</td>\n",
              "      <td>-0.084655</td>\n",
              "      <td>2.478441</td>\n",
              "      <td>-0.065652</td>\n",
              "      <td>0.716334</td>\n",
              "      <td>-0.387172</td>\n",
              "      <td>1.419418</td>\n",
              "      <td>0.082505</td>\n",
              "      <td>-0.357316</td>\n",
              "      <td>-0.374471</td>\n",
              "      <td>0.172560</td>\n",
              "      <td>0.017537</td>\n",
              "      <td>-0.505578</td>\n",
              "      <td>1.010410</td>\n",
              "      <td>0.162660</td>\n",
              "      <td>-0.319622</td>\n",
              "      <td>-0.137649</td>\n",
              "      <td>-0.660346</td>\n",
              "      <td>0.122561</td>\n",
              "      <td>-0.900283</td>\n",
              "      <td>-0.130277</td>\n",
              "      <td>0.072955</td>\n",
              "      <td>0.006348</td>\n",
              "      <td>-0.000893</td>\n",
              "      <td>-0.014262</td>\n",
              "      <td>BENIGN</td>\n",
              "    </tr>\n",
              "    <tr>\n",
              "      <th>3</th>\n",
              "      <td>-2.017203</td>\n",
              "      <td>-0.046524</td>\n",
              "      <td>0.385446</td>\n",
              "      <td>-0.242357</td>\n",
              "      <td>-0.988852</td>\n",
              "      <td>-0.456191</td>\n",
              "      <td>0.407241</td>\n",
              "      <td>-0.442382</td>\n",
              "      <td>-0.087005</td>\n",
              "      <td>2.449303</td>\n",
              "      <td>-0.063884</td>\n",
              "      <td>0.835840</td>\n",
              "      <td>-0.415438</td>\n",
              "      <td>1.463870</td>\n",
              "      <td>0.134826</td>\n",
              "      <td>-0.399751</td>\n",
              "      <td>-0.267997</td>\n",
              "      <td>0.045399</td>\n",
              "      <td>0.033613</td>\n",
              "      <td>-0.544950</td>\n",
              "      <td>0.912947</td>\n",
              "      <td>0.058084</td>\n",
              "      <td>-0.332859</td>\n",
              "      <td>-0.172198</td>\n",
              "      <td>-0.690732</td>\n",
              "      <td>0.115715</td>\n",
              "      <td>-0.895956</td>\n",
              "      <td>-0.135311</td>\n",
              "      <td>0.079160</td>\n",
              "      <td>0.005969</td>\n",
              "      <td>-0.000875</td>\n",
              "      <td>-0.013276</td>\n",
              "      <td>BENIGN</td>\n",
              "    </tr>\n",
              "    <tr>\n",
              "      <th>4</th>\n",
              "      <td>-2.050959</td>\n",
              "      <td>-0.051517</td>\n",
              "      <td>0.403421</td>\n",
              "      <td>-0.403007</td>\n",
              "      <td>-2.731910</td>\n",
              "      <td>-0.698923</td>\n",
              "      <td>0.035563</td>\n",
              "      <td>0.173211</td>\n",
              "      <td>0.011011</td>\n",
              "      <td>-0.879381</td>\n",
              "      <td>0.041833</td>\n",
              "      <td>1.881536</td>\n",
              "      <td>0.082266</td>\n",
              "      <td>-0.976300</td>\n",
              "      <td>-0.226465</td>\n",
              "      <td>-0.513434</td>\n",
              "      <td>-0.568637</td>\n",
              "      <td>0.376113</td>\n",
              "      <td>-0.018178</td>\n",
              "      <td>-0.257259</td>\n",
              "      <td>0.095599</td>\n",
              "      <td>0.984377</td>\n",
              "      <td>-0.134493</td>\n",
              "      <td>-0.203172</td>\n",
              "      <td>-0.124550</td>\n",
              "      <td>-0.479300</td>\n",
              "      <td>0.524147</td>\n",
              "      <td>-0.164460</td>\n",
              "      <td>0.081803</td>\n",
              "      <td>-0.010245</td>\n",
              "      <td>-0.001254</td>\n",
              "      <td>-0.001217</td>\n",
              "      <td>BENIGN</td>\n",
              "    </tr>\n",
              "  </tbody>\n",
              "</table>\n",
              "</div>"
            ],
            "text/plain": [
              "   Feature 1  Feature 2  Feature 3  ...  Feature 31  Feature 32   Label\n",
              "0  -2.050958  -0.051516   0.403415  ...   -0.001254   -0.001219  BENIGN\n",
              "1  -1.994499  -0.045927   0.376907  ...   -0.000908   -0.015107  BENIGN\n",
              "2  -2.005727  -0.046236   0.381170  ...   -0.000893   -0.014262  BENIGN\n",
              "3  -2.017203  -0.046524   0.385446  ...   -0.000875   -0.013276  BENIGN\n",
              "4  -2.050959  -0.051517   0.403421  ...   -0.001254   -0.001217  BENIGN\n",
              "\n",
              "[5 rows x 33 columns]"
            ]
          },
          "metadata": {
            "tags": []
          },
          "execution_count": 41
        }
      ]
    },
    {
      "cell_type": "code",
      "metadata": {
        "id": "aeY57uoBRzC3",
        "colab_type": "code",
        "colab": {}
      },
      "source": [
        "newDf.groupby(' Label').first()"
      ],
      "execution_count": 0,
      "outputs": []
    },
    {
      "cell_type": "code",
      "metadata": {
        "id": "VJ6UeZJ3Rd8P",
        "colab_type": "code",
        "colab": {}
      },
      "source": [
        "newDf[' Label'].replace('BENIGN', 0, inplace=True)\n",
        "newDf[' Label'].replace('Bot', 1, inplace=True)\n",
        "newDf[' Label'].replace('DDoS', 2, inplace=True)\n",
        "newDf[' Label'].replace('DoS GoldenEye', 3, inplace=True)\n",
        "newDf[' Label'].replace('DoS Hulk', 4, inplace=True)\n",
        "newDf[' Label'].replace('DoS Slowhttptest', 5, inplace=True)\n",
        "newDf[' Label'].replace('DoS slowloris', 6, inplace=True)\n",
        "newDf[' Label'].replace('FTP-Patator', 7, inplace=True)\n",
        "newDf[' Label'].replace('Heartbleed', 8, inplace=True)\n",
        "newDf[' Label'].replace('Infiltration', 9, inplace=True)\n",
        "newDf[' Label'].replace('PortScan', 10, inplace=True)\n",
        "newDf[' Label'].replace('SSH-Patator', 11, inplace=True)\n",
        "newDf[' Label'].replace('Web Attack-Brute Force', 12, inplace=True)\n",
        "newDf[' Label'].replace('Web Attack-Sql Injection', 13, inplace=True)\n",
        "newDf[' Label'].replace('Web Attack-XSS', 14, inplace=True)"
      ],
      "execution_count": 0,
      "outputs": []
    },
    {
      "cell_type": "code",
      "metadata": {
        "id": "5dFcEct-Sx5P",
        "colab_type": "code",
        "colab": {}
      },
      "source": [
        "newDf[' Label']=newDf[\" Label\"].astype(\"int\")"
      ],
      "execution_count": 0,
      "outputs": []
    },
    {
      "cell_type": "code",
      "metadata": {
        "id": "6DO4IhxSTDeb",
        "colab_type": "code",
        "colab": {
          "base_uri": "https://localhost:8080/",
          "height": 677
        },
        "outputId": "325aa663-9313-4135-a836-d4107d4d1e90"
      },
      "source": [
        "newDf.info()"
      ],
      "execution_count": 92,
      "outputs": [
        {
          "output_type": "stream",
          "text": [
            "<class 'pandas.core.frame.DataFrame'>\n",
            "RangeIndex: 2829385 entries, 0 to 2829384\n",
            "Data columns (total 33 columns):\n",
            "Feature 1     float64\n",
            "Feature 2     float64\n",
            "Feature 3     float64\n",
            "Feature 4     float64\n",
            "Feature 5     float64\n",
            "Feature 6     float64\n",
            "Feature 7     float64\n",
            "Feature 8     float64\n",
            "Feature 9     float64\n",
            "Feature 10    float64\n",
            "Feature 11    float64\n",
            "Feature 12    float64\n",
            "Feature 13    float64\n",
            "Feature 14    float64\n",
            "Feature 15    float64\n",
            "Feature 16    float64\n",
            "Feature 17    float64\n",
            "Feature 18    float64\n",
            "Feature 19    float64\n",
            "Feature 20    float64\n",
            "Feature 21    float64\n",
            "Feature 22    float64\n",
            "Feature 23    float64\n",
            "Feature 24    float64\n",
            "Feature 25    float64\n",
            "Feature 26    float64\n",
            "Feature 27    float64\n",
            "Feature 28    float64\n",
            "Feature 29    float64\n",
            "Feature 30    float64\n",
            "Feature 31    float64\n",
            "Feature 32    float64\n",
            " Label        int64\n",
            "dtypes: float64(32), int64(1)\n",
            "memory usage: 712.4 MB\n"
          ],
          "name": "stdout"
        }
      ]
    },
    {
      "cell_type": "code",
      "metadata": {
        "id": "Ah6KcM1ETGOx",
        "colab_type": "code",
        "colab": {}
      },
      "source": [
        "correl=newDf.corr()"
      ],
      "execution_count": 0,
      "outputs": []
    },
    {
      "cell_type": "code",
      "metadata": {
        "id": "8ZxsIJb0VS2N",
        "colab_type": "code",
        "colab": {}
      },
      "source": [
        "correl=correl.sort_values(' Label', axis=0, ascending=True, inplace=False, kind='quicksort', na_position='last')"
      ],
      "execution_count": 0,
      "outputs": []
    },
    {
      "cell_type": "code",
      "metadata": {
        "id": "82vyosMqWkcG",
        "colab_type": "code",
        "colab": {}
      },
      "source": [
        "correl=correl[' Label']"
      ],
      "execution_count": 0,
      "outputs": []
    },
    {
      "cell_type": "code",
      "metadata": {
        "id": "tuhhp9_ai7q2",
        "colab_type": "code",
        "colab": {}
      },
      "source": [
        "usefulFeatures=['Feature 22','Feature 29','Feature 13','Feature 6','Feature 25','Feature 17',\n",
        "               'Feature 18','Feature 1','Feature 24','Feature 26','Feature 19','Feature 8',\n",
        "               'Feature 3','Feature 21','Feature 5','Feature 27','Feature 30','Feature 4',\n",
        "               'Feature 23','Feature 7']\n",
        "usefulFeatures_16=['Feature 22','Feature 29','Feature 13','Feature 6',\n",
        "               'Feature 18','Feature 1','Feature 24','Feature 26','Feature 19','Feature 8',\n",
        "               'Feature 3','Feature 21','Feature 5','Feature 27',\n",
        "               'Feature 23','Feature 7']\n"
      ],
      "execution_count": 0,
      "outputs": []
    },
    {
      "cell_type": "code",
      "metadata": {
        "id": "21BqWQ7Fi60C",
        "colab_type": "code",
        "colab": {}
      },
      "source": [
        "df=principalDf[usefulFeatures_16]"
      ],
      "execution_count": 0,
      "outputs": []
    },
    {
      "cell_type": "code",
      "metadata": {
        "id": "dtK_Z_5Dj4HA",
        "colab_type": "code",
        "colab": {
          "base_uri": "https://localhost:8080/",
          "height": 243
        },
        "outputId": "7e7bc65d-a5dc-4e78-f285-2fb3b5c4f099"
      },
      "source": [
        "df.head()"
      ],
      "execution_count": 29,
      "outputs": [
        {
          "output_type": "execute_result",
          "data": {
            "text/html": [
              "<div>\n",
              "<style scoped>\n",
              "    .dataframe tbody tr th:only-of-type {\n",
              "        vertical-align: middle;\n",
              "    }\n",
              "\n",
              "    .dataframe tbody tr th {\n",
              "        vertical-align: top;\n",
              "    }\n",
              "\n",
              "    .dataframe thead th {\n",
              "        text-align: right;\n",
              "    }\n",
              "</style>\n",
              "<table border=\"1\" class=\"dataframe\">\n",
              "  <thead>\n",
              "    <tr style=\"text-align: right;\">\n",
              "      <th></th>\n",
              "      <th>Feature 22</th>\n",
              "      <th>Feature 29</th>\n",
              "      <th>Feature 13</th>\n",
              "      <th>Feature 6</th>\n",
              "      <th>Feature 18</th>\n",
              "      <th>Feature 1</th>\n",
              "      <th>Feature 24</th>\n",
              "      <th>Feature 26</th>\n",
              "      <th>Feature 19</th>\n",
              "      <th>Feature 8</th>\n",
              "      <th>Feature 3</th>\n",
              "      <th>Feature 21</th>\n",
              "      <th>Feature 5</th>\n",
              "      <th>Feature 27</th>\n",
              "      <th>Feature 23</th>\n",
              "      <th>Feature 7</th>\n",
              "    </tr>\n",
              "  </thead>\n",
              "  <tbody>\n",
              "    <tr>\n",
              "      <th>0</th>\n",
              "      <td>0.984387</td>\n",
              "      <td>0.081799</td>\n",
              "      <td>0.082265</td>\n",
              "      <td>-0.698909</td>\n",
              "      <td>0.376107</td>\n",
              "      <td>-2.050958</td>\n",
              "      <td>-0.203150</td>\n",
              "      <td>-0.479286</td>\n",
              "      <td>-0.018178</td>\n",
              "      <td>0.173198</td>\n",
              "      <td>0.403415</td>\n",
              "      <td>0.095602</td>\n",
              "      <td>-2.731913</td>\n",
              "      <td>0.524161</td>\n",
              "      <td>-0.134472</td>\n",
              "      <td>0.035543</td>\n",
              "    </tr>\n",
              "    <tr>\n",
              "      <th>1</th>\n",
              "      <td>0.266455</td>\n",
              "      <td>0.066978</td>\n",
              "      <td>-0.359573</td>\n",
              "      <td>-0.416786</td>\n",
              "      <td>0.300995</td>\n",
              "      <td>-1.994499</td>\n",
              "      <td>-0.102879</td>\n",
              "      <td>0.129283</td>\n",
              "      <td>0.001015</td>\n",
              "      <td>-0.446323</td>\n",
              "      <td>0.376907</td>\n",
              "      <td>1.101806</td>\n",
              "      <td>-0.862004</td>\n",
              "      <td>-0.903710</td>\n",
              "      <td>-0.307461</td>\n",
              "      <td>0.415229</td>\n",
              "    </tr>\n",
              "    <tr>\n",
              "      <th>2</th>\n",
              "      <td>0.162660</td>\n",
              "      <td>0.072955</td>\n",
              "      <td>-0.387172</td>\n",
              "      <td>-0.436641</td>\n",
              "      <td>0.172560</td>\n",
              "      <td>-2.005727</td>\n",
              "      <td>-0.137649</td>\n",
              "      <td>0.122561</td>\n",
              "      <td>0.017537</td>\n",
              "      <td>-0.443802</td>\n",
              "      <td>0.381170</td>\n",
              "      <td>1.010410</td>\n",
              "      <td>-0.924778</td>\n",
              "      <td>-0.900283</td>\n",
              "      <td>-0.319622</td>\n",
              "      <td>0.411548</td>\n",
              "    </tr>\n",
              "    <tr>\n",
              "      <th>3</th>\n",
              "      <td>0.058084</td>\n",
              "      <td>0.079160</td>\n",
              "      <td>-0.415438</td>\n",
              "      <td>-0.456191</td>\n",
              "      <td>0.045399</td>\n",
              "      <td>-2.017203</td>\n",
              "      <td>-0.172198</td>\n",
              "      <td>0.115715</td>\n",
              "      <td>0.033613</td>\n",
              "      <td>-0.442382</td>\n",
              "      <td>0.385446</td>\n",
              "      <td>0.912947</td>\n",
              "      <td>-0.988852</td>\n",
              "      <td>-0.895956</td>\n",
              "      <td>-0.332859</td>\n",
              "      <td>0.407241</td>\n",
              "    </tr>\n",
              "    <tr>\n",
              "      <th>4</th>\n",
              "      <td>0.984377</td>\n",
              "      <td>0.081803</td>\n",
              "      <td>0.082266</td>\n",
              "      <td>-0.698923</td>\n",
              "      <td>0.376113</td>\n",
              "      <td>-2.050959</td>\n",
              "      <td>-0.203172</td>\n",
              "      <td>-0.479300</td>\n",
              "      <td>-0.018178</td>\n",
              "      <td>0.173211</td>\n",
              "      <td>0.403421</td>\n",
              "      <td>0.095599</td>\n",
              "      <td>-2.731910</td>\n",
              "      <td>0.524147</td>\n",
              "      <td>-0.134493</td>\n",
              "      <td>0.035563</td>\n",
              "    </tr>\n",
              "  </tbody>\n",
              "</table>\n",
              "</div>"
            ],
            "text/plain": [
              "   Feature 22  Feature 29  Feature 13  ...  Feature 27  Feature 23  Feature 7\n",
              "0    0.984387    0.081799    0.082265  ...    0.524161   -0.134472   0.035543\n",
              "1    0.266455    0.066978   -0.359573  ...   -0.903710   -0.307461   0.415229\n",
              "2    0.162660    0.072955   -0.387172  ...   -0.900283   -0.319622   0.411548\n",
              "3    0.058084    0.079160   -0.415438  ...   -0.895956   -0.332859   0.407241\n",
              "4    0.984377    0.081803    0.082266  ...    0.524147   -0.134493   0.035563\n",
              "\n",
              "[5 rows x 16 columns]"
            ]
          },
          "metadata": {
            "tags": []
          },
          "execution_count": 29
        }
      ]
    },
    {
      "cell_type": "markdown",
      "metadata": {
        "id": "DEzx4MskqjeM",
        "colab_type": "text"
      },
      "source": [
        "## Normal Flow"
      ]
    },
    {
      "cell_type": "markdown",
      "metadata": {
        "id": "Y0VM0O0MIkgs",
        "colab_type": "text"
      },
      "source": [
        "### Save PCA calculated data to save calculations\n"
      ]
    },
    {
      "cell_type": "code",
      "metadata": {
        "id": "erIEaW8oedRI",
        "colab_type": "code",
        "colab": {}
      },
      "source": [
        "path='/content/drive/My Drive/PCA-Calculated.csv'"
      ],
      "execution_count": 0,
      "outputs": []
    },
    {
      "cell_type": "code",
      "metadata": {
        "id": "FyG3JZyVGH9z",
        "colab_type": "code",
        "colab": {}
      },
      "source": [
        "principalDf.to_csv(path)"
      ],
      "execution_count": 0,
      "outputs": []
    },
    {
      "cell_type": "code",
      "metadata": {
        "id": "zE3udsUTf8cz",
        "colab_type": "code",
        "colab": {}
      },
      "source": [
        "df=principalDf   # run if not loaded from csv but working from start"
      ],
      "execution_count": 0,
      "outputs": []
    },
    {
      "cell_type": "code",
      "metadata": {
        "id": "-hESv8anJcpz",
        "colab_type": "code",
        "colab": {}
      },
      "source": [
        "# empty memory\n",
        "del X\n",
        "del y\n",
        "del b\n",
        "del principalDf"
      ],
      "execution_count": 0,
      "outputs": []
    },
    {
      "cell_type": "markdown",
      "metadata": {
        "id": "4QLWtEeDHGOD",
        "colab_type": "text"
      },
      "source": [
        "### Upload PCA components csv"
      ]
    },
    {
      "cell_type": "code",
      "metadata": {
        "id": "5wi5vL2bJHLd",
        "colab_type": "code",
        "colab": {}
      },
      "source": [
        "df=pd.read_csv(path)"
      ],
      "execution_count": 0,
      "outputs": []
    },
    {
      "cell_type": "markdown",
      "metadata": {
        "id": "xtHSaUmUIeVb",
        "colab_type": "text"
      },
      "source": [
        ""
      ]
    },
    {
      "cell_type": "code",
      "metadata": {
        "id": "7LksdRaLKX3N",
        "colab_type": "code",
        "outputId": "7d1fa845-e328-4125-c34c-e04dbcb530a4",
        "colab": {
          "base_uri": "https://localhost:8080/",
          "height": 141
        }
      },
      "source": [
        "df2=df[df.columns[1:-1]]            # run only if loaded from csv\n",
        "df2[' Label']=df[df.columns[-1]]\n",
        "df=df2"
      ],
      "execution_count": 26,
      "outputs": [
        {
          "output_type": "stream",
          "text": [
            "/usr/local/lib/python3.6/dist-packages/ipykernel_launcher.py:2: SettingWithCopyWarning: \n",
            "A value is trying to be set on a copy of a slice from a DataFrame.\n",
            "Try using .loc[row_indexer,col_indexer] = value instead\n",
            "\n",
            "See the caveats in the documentation: http://pandas.pydata.org/pandas-docs/stable/user_guide/indexing.html#returning-a-view-versus-a-copy\n",
            "  \n"
          ],
          "name": "stderr"
        }
      ]
    },
    {
      "cell_type": "code",
      "metadata": {
        "id": "nVILcFVnKfpe",
        "colab_type": "code",
        "colab": {}
      },
      "source": [
        "del df2"
      ],
      "execution_count": 0,
      "outputs": []
    },
    {
      "cell_type": "code",
      "metadata": {
        "id": "gZLEIbmKKgw8",
        "colab_type": "code",
        "outputId": "34e959db-7cf7-4cfb-aadf-6a320f98778d",
        "colab": {
          "base_uri": "https://localhost:8080/",
          "height": 104
        }
      },
      "source": [
        "df.columns"
      ],
      "execution_count": 28,
      "outputs": [
        {
          "output_type": "execute_result",
          "data": {
            "text/plain": [
              "Index(['Feature 1', 'Feature 2', 'Feature 3', 'Feature 4', 'Feature 5',\n",
              "       'Feature 6', 'Feature 7', 'Feature 8', 'Feature 9', 'Feature 10',\n",
              "       'Feature 11', 'Feature 12', 'Feature 13', 'Feature 14', 'Feature 15',\n",
              "       'Feature 16', ' Label'],\n",
              "      dtype='object')"
            ]
          },
          "metadata": {
            "tags": []
          },
          "execution_count": 28
        }
      ]
    },
    {
      "cell_type": "code",
      "metadata": {
        "id": "esAgPdZmKhn-",
        "colab_type": "code",
        "colab": {}
      },
      "source": [
        "X=df[df.columns[0:-1]] # if loaded from csv\n",
        "y=df[df.columns[-1]]"
      ],
      "execution_count": 0,
      "outputs": []
    },
    {
      "cell_type": "code",
      "metadata": {
        "id": "XEVTz3bQrFHw",
        "colab_type": "code",
        "colab": {}
      },
      "source": [
        "# if done correlation with labels\n",
        "X=df\n",
        "y=newDf[' Label']"
      ],
      "execution_count": 0,
      "outputs": []
    },
    {
      "cell_type": "code",
      "metadata": {
        "id": "BXSrBIU4KsM9",
        "colab_type": "code",
        "outputId": "a5e896e5-4e9c-4a1c-e5d7-ab6185ff1e34",
        "colab": {
          "base_uri": "https://localhost:8080/",
          "height": 208
        }
      },
      "source": [
        "print(y.head())\n",
        "X.columns"
      ],
      "execution_count": 31,
      "outputs": [
        {
          "output_type": "stream",
          "text": [
            "0    0\n",
            "1    0\n",
            "2    0\n",
            "3    0\n",
            "4    0\n",
            "Name:  Label, dtype: int64\n"
          ],
          "name": "stdout"
        },
        {
          "output_type": "execute_result",
          "data": {
            "text/plain": [
              "Index(['Feature 22', 'Feature 29', 'Feature 13', 'Feature 6', 'Feature 18',\n",
              "       'Feature 1', 'Feature 24', 'Feature 26', 'Feature 19', 'Feature 8',\n",
              "       'Feature 3', 'Feature 21', 'Feature 5', 'Feature 27', 'Feature 23',\n",
              "       'Feature 7'],\n",
              "      dtype='object')"
            ]
          },
          "metadata": {
            "tags": []
          },
          "execution_count": 31
        }
      ]
    },
    {
      "cell_type": "markdown",
      "metadata": {
        "id": "UXv6Qg1UHwIk",
        "colab_type": "text"
      },
      "source": [
        "### Split train/test set"
      ]
    },
    {
      "cell_type": "code",
      "metadata": {
        "id": "uOqEn_VLKteM",
        "colab_type": "code",
        "colab": {}
      },
      "source": [
        "from sklearn.model_selection import train_test_split     # import module for train test split\n",
        "X_train, X_test, y_train, y_test=train_test_split(X,y,test_size=0.2, random_state=10)"
      ],
      "execution_count": 0,
      "outputs": []
    },
    {
      "cell_type": "markdown",
      "metadata": {
        "id": "BuE2e9hIK9yX",
        "colab_type": "text"
      },
      "source": [
        "# Applying KNN"
      ]
    },
    {
      "cell_type": "code",
      "metadata": {
        "id": "OAndeGw3Lfuy",
        "colab_type": "code",
        "colab": {}
      },
      "source": [
        "from sklearn.neighbors import KNeighborsClassifier"
      ],
      "execution_count": 0,
      "outputs": []
    },
    {
      "cell_type": "code",
      "metadata": {
        "id": "NRl9ie0yK6K2",
        "colab_type": "code",
        "outputId": "01e59703-bf7c-42c9-e72a-e1cf24661b04",
        "colab": {
          "base_uri": "https://localhost:8080/",
          "height": 208
        }
      },
      "source": [
        "t1=time.time()\n",
        "cols=X.columns\n",
        "for i in range(len(cols)):\n",
        "    knn=KNeighborsClassifier(n_neighbors=(i+1))\n",
        "    model_knn=knn.fit(X_train,y_train)\n",
        "    yhat=model_knn.predict(X_test)\n",
        "    print(\"for \" , i+1,  \" as K, accuracy is : \", accuracy_score(y_test, yhat))\n",
        "t2=time.time()\n",
        "print(\" time for \", i+1 ,\" k's :: \", (t2-t1)/60 , \" minutes\")"
      ],
      "execution_count": 0,
      "outputs": [
        {
          "output_type": "stream",
          "text": [
            "for  1  as K, accuracy is :  0.9980154697929056\n",
            "for  2  as K, accuracy is :  0.997446441541183\n",
            "for  3  as K, accuracy is :  0.9979165083578233\n",
            "for  4  as K, accuracy is :  0.99795892040143\n",
            "for  5  as K, accuracy is :  0.9978157797542575\n",
            "for  6  as K, accuracy is :  0.9977945737324542\n",
            "for  7  as K, accuracy is :  0.9975595403241341\n",
            "for  8  as K, accuracy is :  0.9975895821883555\n",
            "for  9  as K, accuracy is :  0.9973686861279041\n",
            "for  10  as K, accuracy is :  0.9973757548018386\n",
            "for  11  as K, accuracy is :  0.9971813662686414\n"
          ],
          "name": "stdout"
        }
      ]
    },
    {
      "cell_type": "code",
      "metadata": {
        "id": "PAfogwn8SX6j",
        "colab_type": "code",
        "colab": {}
      },
      "source": [
        "import pickle\n",
        "filename = '/content/drive/My Drive/PCA-Calculated.sav'"
      ],
      "execution_count": 0,
      "outputs": []
    },
    {
      "cell_type": "code",
      "metadata": {
        "id": "MUzhjUJQShhQ",
        "colab_type": "code",
        "colab": {}
      },
      "source": [
        "pickle.dump(model_knn, open(filename, 'wb'))"
      ],
      "execution_count": 0,
      "outputs": []
    },
    {
      "cell_type": "code",
      "metadata": {
        "id": "PN7vkSVXSmNW",
        "colab_type": "code",
        "colab": {}
      },
      "source": [
        "# load the model from disk\n",
        "model_knn = pickle.load(open(filename, 'rb'))\n",
        "y_hat=model_knn.predict(X_test)\n"
      ],
      "execution_count": 0,
      "outputs": []
    },
    {
      "cell_type": "code",
      "metadata": {
        "id": "FlAOb3lKTVgj",
        "colab_type": "code",
        "colab": {}
      },
      "source": [
        "yhat=y_hat\n",
        "y_test_arr=y_test.as_matrix()"
      ],
      "execution_count": 0,
      "outputs": []
    },
    {
      "cell_type": "markdown",
      "metadata": {
        "id": "IYPttLvbSovn",
        "colab_type": "text"
      },
      "source": [
        "### Gaussian Naive Bayes"
      ]
    },
    {
      "cell_type": "code",
      "metadata": {
        "id": "M5roSragLdfy",
        "colab_type": "code",
        "colab": {}
      },
      "source": [
        "from sklearn.naive_bayes import GaussianNB\n",
        "t1=time.time()\n",
        "\n",
        "gnb = GaussianNB()\n",
        "model_gnb = gnb.fit(X_train, y_train)\n",
        "yhat=model_gnb.predict(X_test)\n",
        "\n",
        "print(\"Accuracy :: \", accuracy_score(y_test,yhat))\n",
        "\n",
        "t2=time.time()\n",
        "print(\" time for Naive Baye's :: \", (t2-t1) , \" seconds\")"
      ],
      "execution_count": 0,
      "outputs": []
    },
    {
      "cell_type": "markdown",
      "metadata": {
        "id": "lO04R1ofSwqE",
        "colab_type": "text"
      },
      "source": [
        "### Bernoulli Naive Bayes\n"
      ]
    },
    {
      "cell_type": "code",
      "metadata": {
        "id": "-5C2rKGMS0dK",
        "colab_type": "code",
        "colab": {}
      },
      "source": [
        "from sklearn.naive_bayes import BernoulliNB"
      ],
      "execution_count": 0,
      "outputs": []
    },
    {
      "cell_type": "code",
      "metadata": {
        "id": "cbVugfWhS2ho",
        "colab_type": "code",
        "outputId": "c24bc743-e38c-475e-f172-6bb44cf6c6e4",
        "colab": {
          "base_uri": "https://localhost:8080/",
          "height": 34
        }
      },
      "source": [
        "clf = BernoulliNB()\n",
        "clf.fit(X_train, y_train)\n",
        "yhat=clf.predict(X_test)\n",
        "print(\"Accuracy ::: \", accuracy_score(y_test,yhat))"
      ],
      "execution_count": 44,
      "outputs": [
        {
          "output_type": "stream",
          "text": [
            "Accuracy :::  0.7138441746174522\n"
          ],
          "name": "stdout"
        }
      ]
    },
    {
      "cell_type": "markdown",
      "metadata": {
        "id": "QQPWvTGzTAKU",
        "colab_type": "text"
      },
      "source": [
        "### Count true, negative and not detected values\n"
      ]
    },
    {
      "cell_type": "code",
      "metadata": {
        "id": "RntrQkQfS6yJ",
        "colab_type": "code",
        "colab": {}
      },
      "source": [
        "true={}\n",
        "false={}\n",
        "not_detected={}\n",
        "\n",
        "for x in range(len(y_test_arr)):\n",
        "    if y_test_arr[x]==yhat[x]:\n",
        "      if y_test_arr[x] in true:\n",
        "        true[y_test_arr[x]]=true[y_test_arr[x]]+1\n",
        "      else:\n",
        "        true[y_test_arr[x]]=1\n",
        "    elif y_test_arr[x]!=yhat[x]:\n",
        "      if yhat[x] in false:\n",
        "        false[yhat[x]]=false[yhat[x]]+1\n",
        "\n",
        "        if y_test_arr[x] in not_detected:\n",
        "          not_detected[y_test_arr[x]]=not_detected[y_test_arr[x]]+1\n",
        "        else:\n",
        "          not_detected[y_test_arr[x]]=1\n",
        "\n",
        "      else:\n",
        "        false[yhat[x]]=1\n",
        "\n",
        "        if y_test_arr[x] in not_detected:\n",
        "          not_detected[y_test_arr[x]]=not_detected[y_test_arr[x]]+1\n",
        "        else:\n",
        "          not_detected[y_test_arr[x]]=1"
      ],
      "execution_count": 0,
      "outputs": []
    },
    {
      "cell_type": "code",
      "metadata": {
        "id": "A4kiiDt1S63X",
        "colab_type": "code",
        "outputId": "98d98aeb-518f-47b3-eaee-6076f49a53ae",
        "colab": {
          "base_uri": "https://localhost:8080/",
          "height": 173
        }
      },
      "source": [
        "true"
      ],
      "execution_count": 46,
      "outputs": [
        {
          "output_type": "execute_result",
          "data": {
            "text/plain": [
              "{'BENIGN': 342991,\n",
              " 'DDoS': 4667,\n",
              " 'DoS GoldenEye': 1138,\n",
              " 'DoS Hulk': 23041,\n",
              " 'DoS Slowhttptest': 562,\n",
              " 'FTP-Patator': 1,\n",
              " 'PortScan': 31421,\n",
              " 'Web Attack-Brute Force': 1,\n",
              " 'Web Attack-XSS': 126}"
            ]
          },
          "metadata": {
            "tags": []
          },
          "execution_count": 46
        }
      ]
    },
    {
      "cell_type": "code",
      "metadata": {
        "id": "A1gjb-uvUgxw",
        "colab_type": "code",
        "outputId": "2e7935f1-5a96-452c-e842-13e16253f061",
        "colab": {
          "base_uri": "https://localhost:8080/",
          "height": 225
        }
      },
      "source": [
        "false"
      ],
      "execution_count": 47,
      "outputs": [
        {
          "output_type": "execute_result",
          "data": {
            "text/plain": [
              "{'BENIGN': 32963,\n",
              " 'Bot': 879,\n",
              " 'DDoS': 6415,\n",
              " 'DoS GoldenEye': 33325,\n",
              " 'DoS Hulk': 26201,\n",
              " 'DoS Slowhttptest': 3048,\n",
              " 'DoS slowloris': 2073,\n",
              " 'FTP-Patator': 7148,\n",
              " 'PortScan': 38156,\n",
              " 'SSH-Patator': 489,\n",
              " 'Web Attack-Brute Force': 7430,\n",
              " 'Web Attack-XSS': 3802}"
            ]
          },
          "metadata": {
            "tags": []
          },
          "execution_count": 47
        }
      ]
    },
    {
      "cell_type": "code",
      "metadata": {
        "id": "t3gzSm2cVZBm",
        "colab_type": "code",
        "outputId": "cf2770e5-6f6d-4d0b-f41d-81f5aaebd52f",
        "colab": {
          "base_uri": "https://localhost:8080/",
          "height": 278
        }
      },
      "source": [
        "not_detected"
      ],
      "execution_count": 48,
      "outputs": [
        {
          "output_type": "execute_result",
          "data": {
            "text/plain": [
              "{'BENIGN': 111662,\n",
              " 'Bot': 365,\n",
              " 'DDoS': 20865,\n",
              " 'DoS GoldenEye': 872,\n",
              " 'DoS Hulk': 22778,\n",
              " 'DoS Slowhttptest': 536,\n",
              " 'DoS slowloris': 1147,\n",
              " 'FTP-Patator': 1599,\n",
              " 'Heartbleed': 3,\n",
              " 'Infiltration': 7,\n",
              " 'PortScan': 599,\n",
              " 'SSH-Patator': 1175,\n",
              " 'Web Attack-Brute Force': 311,\n",
              " 'Web Attack-Sql Injection': 3,\n",
              " 'Web Attack-XSS': 7}"
            ]
          },
          "metadata": {
            "tags": []
          },
          "execution_count": 48
        }
      ]
    },
    {
      "cell_type": "code",
      "metadata": {
        "id": "wr4aUArMAibH",
        "colab_type": "code",
        "colab": {}
      },
      "source": [
        ""
      ],
      "execution_count": 0,
      "outputs": []
    }
  ]
}