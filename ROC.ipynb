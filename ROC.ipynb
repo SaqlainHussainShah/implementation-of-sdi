{
  "nbformat": 4,
  "nbformat_minor": 0,
  "metadata": {
    "kernelspec": {
      "name": "python3",
      "display_name": "Python 3"
    },
    "language_info": {
      "codemirror_mode": {
        "name": "ipython",
        "version": 3
      },
      "file_extension": ".py",
      "mimetype": "text/x-python",
      "name": "python",
      "nbconvert_exporter": "python",
      "pygments_lexer": "ipython3",
      "version": "3.7.4"
    },
    "colab": {
      "name": "Copy of Copy of Copy of IDS Tuesday Multi days.ipynb",
      "provenance": [],
      "collapsed_sections": [
        "hRO8QuIGybIY"
      ],
      "include_colab_link": true
    },
    "accelerator": "GPU"
  },
  "cells": [
    {
      "cell_type": "markdown",
      "metadata": {
        "id": "view-in-github",
        "colab_type": "text"
      },
      "source": [
        "<a href=\"https://colab.research.google.com/github/SaqlainHussainShah/implementation-of-sdi/blob/master/ROC.ipynb\" target=\"_parent\"><img src=\"https://colab.research.google.com/assets/colab-badge.svg\" alt=\"Open In Colab\"/></a>"
      ]
    },
    {
      "cell_type": "markdown",
      "metadata": {
        "id": "A_uBy9pAya1N",
        "colab_type": "text"
      },
      "source": [
        "# This notebook is intended to apply ML algorithms on IDS dataset for multiclass classification"
      ]
    },
    {
      "cell_type": "markdown",
      "metadata": {
        "id": "t3rXuCA0ya1c",
        "colab_type": "text"
      },
      "source": [
        "##### Steps Followed\n",
        "   1. Data Cleansing\n",
        "   2. Feature selection\n",
        "   3. Creation of Train/Test data\n",
        "   4. Implementation of ML Algorithms\n",
        "   5. Evalutaion"
      ]
    },
    {
      "cell_type": "code",
      "metadata": {
        "id": "Tq4oAUHzya1s",
        "colab_type": "code",
        "colab": {}
      },
      "source": [
        "\n",
        "import pandas as pd\n",
        "import matplotlib.pyplot as plt\n",
        "import numpy as np\n",
        "import time\n",
        "from sklearn.metrics import accuracy_score\n",
        "\n",
        "# import pickle\n",
        "# from sklearn.naive_bayes import BernoulliNB\n",
        "# from sklearn.naive_bayes import GaussianNB\n",
        "# from sklearn.neighbors import KNeighborsClassifier\n",
        "# from sklearn.model_selection import train_test_split     # import module for train test split"
      ],
      "execution_count": 0,
      "outputs": []
    },
    {
      "cell_type": "markdown",
      "metadata": {
        "id": "j2t3D-vUya2T",
        "colab_type": "text"
      },
      "source": [
        "## 1. Data Cleansing"
      ]
    },
    {
      "cell_type": "code",
      "metadata": {
        "id": "c9GDILkZywPT",
        "colab_type": "code",
        "outputId": "d7c46080-76e4-4056-d7e2-0c18b2c495d8",
        "colab": {
          "base_uri": "https://localhost:8080/",
          "height": 124
        }
      },
      "source": [
        "from google.colab import drive\n",
        "drive.mount('/content/drive')"
      ],
      "execution_count": 2,
      "outputs": [
        {
          "output_type": "stream",
          "text": [
            "Go to this URL in a browser: https://accounts.google.com/o/oauth2/auth?client_id=947318989803-6bn6qk8qdgf4n4g3pfee6491hc0brc4i.apps.googleusercontent.com&redirect_uri=urn%3aietf%3awg%3aoauth%3a2.0%3aoob&response_type=code&scope=email%20https%3a%2f%2fwww.googleapis.com%2fauth%2fdocs.test%20https%3a%2f%2fwww.googleapis.com%2fauth%2fdrive%20https%3a%2f%2fwww.googleapis.com%2fauth%2fdrive.photos.readonly%20https%3a%2f%2fwww.googleapis.com%2fauth%2fpeopleapi.readonly\n",
            "\n",
            "Enter your authorization code:\n",
            "··········\n",
            "Mounted at /content/drive\n"
          ],
          "name": "stdout"
        }
      ]
    },
    {
      "cell_type": "code",
      "metadata": {
        "id": "9hWiiZFi0xda",
        "colab_type": "code",
        "outputId": "136c59d3-9bfb-4477-abe0-a5444439832c",
        "colab": {
          "base_uri": "https://localhost:8080/",
          "height": 72
        }
      },
      "source": [
        "df=pd.read_csv(\"/content/drive/My Drive/multiclass-multidays.csv\")"
      ],
      "execution_count": 0,
      "outputs": [
        {
          "output_type": "stream",
          "text": [
            "/usr/local/lib/python3.6/dist-packages/IPython/core/interactiveshell.py:2718: DtypeWarning: Columns (5,9) have mixed types. Specify dtype option on import or set low_memory=False.\n",
            "  interactivity=interactivity, compiler=compiler, result=result)\n"
          ],
          "name": "stderr"
        }
      ]
    },
    {
      "cell_type": "code",
      "metadata": {
        "id": "i5RZBODaBRs3",
        "colab_type": "code",
        "outputId": "86175637-d5d9-4ad5-fcba-da6cd6accbf1",
        "colab": {
          "base_uri": "https://localhost:8080/",
          "height": 295
        }
      },
      "source": [
        "df[' Label'].value_counts()"
      ],
      "execution_count": 0,
      "outputs": [
        {
          "output_type": "execute_result",
          "data": {
            "text/plain": [
              "BENIGN                      2272688\n",
              "DoS Hulk                     230124\n",
              "PortScan                     158930\n",
              "DDoS                         128027\n",
              "DoS GoldenEye                 10293\n",
              "FTP-Patator                    7938\n",
              "SSH-Patator                    5897\n",
              "DoS slowloris                  5796\n",
              "DoS Slowhttptest               5499\n",
              "Bot                            1966\n",
              "Web Attack-Brute Force         1507\n",
              "Web Attack-XSS                  652\n",
              "Infiltration                     36\n",
              "Web Attack-Sql Injection         21\n",
              "Heartbleed                       11\n",
              "Name:  Label, dtype: int64"
            ]
          },
          "metadata": {
            "tags": []
          },
          "execution_count": 4
        }
      ]
    },
    {
      "cell_type": "code",
      "metadata": {
        "id": "EVVLChEXWsIh",
        "colab_type": "code",
        "outputId": "80a2d54b-a0b3-41d1-e74d-b63df95d0c7b",
        "colab": {
          "base_uri": "https://localhost:8080/",
          "height": 278
        }
      },
      "source": [
        "df.head()"
      ],
      "execution_count": 0,
      "outputs": [
        {
          "output_type": "execute_result",
          "data": {
            "text/html": [
              "<div>\n",
              "<style scoped>\n",
              "    .dataframe tbody tr th:only-of-type {\n",
              "        vertical-align: middle;\n",
              "    }\n",
              "\n",
              "    .dataframe tbody tr th {\n",
              "        vertical-align: top;\n",
              "    }\n",
              "\n",
              "    .dataframe thead th {\n",
              "        text-align: right;\n",
              "    }\n",
              "</style>\n",
              "<table border=\"1\" class=\"dataframe\">\n",
              "  <thead>\n",
              "    <tr style=\"text-align: right;\">\n",
              "      <th></th>\n",
              "      <th>Unnamed: 0</th>\n",
              "      <th>Fwd Packet Length Max</th>\n",
              "      <th>Flow IAT Std</th>\n",
              "      <th>Fwd Packet Length Std</th>\n",
              "      <th>Fwd IAT Total</th>\n",
              "      <th>Flow Packets/s</th>\n",
              "      <th>Flow Duration</th>\n",
              "      <th>Fwd Packet Length Mean</th>\n",
              "      <th>Total Length of Bwd Packets</th>\n",
              "      <th>Flow Bytes/s</th>\n",
              "      <th>Total Length of Fwd Packets</th>\n",
              "      <th>Flow IAT Mean</th>\n",
              "      <th>Bwd Packet Length Mean</th>\n",
              "      <th>Flow IAT Max</th>\n",
              "      <th>Bwd Packet Length Std</th>\n",
              "      <th>Total Fwd Packets</th>\n",
              "      <th>Total Backward Packets</th>\n",
              "      <th>Label</th>\n",
              "    </tr>\n",
              "  </thead>\n",
              "  <tbody>\n",
              "    <tr>\n",
              "      <th>0</th>\n",
              "      <td>0</td>\n",
              "      <td>220.0</td>\n",
              "      <td>135.557286</td>\n",
              "      <td>107.349008</td>\n",
              "      <td>640.0</td>\n",
              "      <td>17187.5</td>\n",
              "      <td>640</td>\n",
              "      <td>62.857143</td>\n",
              "      <td>358.0</td>\n",
              "      <td>1246875</td>\n",
              "      <td>440.0</td>\n",
              "      <td>64.000000</td>\n",
              "      <td>89.5</td>\n",
              "      <td>445.0</td>\n",
              "      <td>103.345698</td>\n",
              "      <td>7</td>\n",
              "      <td>4</td>\n",
              "      <td>BENIGN</td>\n",
              "    </tr>\n",
              "    <tr>\n",
              "      <th>1</th>\n",
              "      <td>1</td>\n",
              "      <td>300.0</td>\n",
              "      <td>192.795228</td>\n",
              "      <td>132.287566</td>\n",
              "      <td>900.0</td>\n",
              "      <td>14444.44444</td>\n",
              "      <td>900</td>\n",
              "      <td>66.666667</td>\n",
              "      <td>2944.0</td>\n",
              "      <td>3937777.778</td>\n",
              "      <td>600.0</td>\n",
              "      <td>75.000000</td>\n",
              "      <td>736.0</td>\n",
              "      <td>684.0</td>\n",
              "      <td>849.859596</td>\n",
              "      <td>9</td>\n",
              "      <td>4</td>\n",
              "      <td>BENIGN</td>\n",
              "    </tr>\n",
              "    <tr>\n",
              "      <th>2</th>\n",
              "      <td>2</td>\n",
              "      <td>1388.0</td>\n",
              "      <td>236.433336</td>\n",
              "      <td>677.274651</td>\n",
              "      <td>1205.0</td>\n",
              "      <td>9128.630705</td>\n",
              "      <td>1205</td>\n",
              "      <td>396.571429</td>\n",
              "      <td>2830.0</td>\n",
              "      <td>4652282.158</td>\n",
              "      <td>2776.0</td>\n",
              "      <td>120.500000</td>\n",
              "      <td>707.5</td>\n",
              "      <td>777.0</td>\n",
              "      <td>816.950631</td>\n",
              "      <td>7</td>\n",
              "      <td>4</td>\n",
              "      <td>BENIGN</td>\n",
              "    </tr>\n",
              "    <tr>\n",
              "      <th>3</th>\n",
              "      <td>3</td>\n",
              "      <td>226.0</td>\n",
              "      <td>90.767652</td>\n",
              "      <td>110.276708</td>\n",
              "      <td>511.0</td>\n",
              "      <td>21526.41879</td>\n",
              "      <td>511</td>\n",
              "      <td>64.571429</td>\n",
              "      <td>370.0</td>\n",
              "      <td>1608610.568</td>\n",
              "      <td>452.0</td>\n",
              "      <td>51.100000</td>\n",
              "      <td>92.5</td>\n",
              "      <td>299.0</td>\n",
              "      <td>106.809800</td>\n",
              "      <td>7</td>\n",
              "      <td>4</td>\n",
              "      <td>BENIGN</td>\n",
              "    </tr>\n",
              "    <tr>\n",
              "      <th>4</th>\n",
              "      <td>4</td>\n",
              "      <td>306.0</td>\n",
              "      <td>148.698266</td>\n",
              "      <td>134.933317</td>\n",
              "      <td>773.0</td>\n",
              "      <td>16817.59379</td>\n",
              "      <td>773</td>\n",
              "      <td>68.000000</td>\n",
              "      <td>2944.0</td>\n",
              "      <td>4600258.732</td>\n",
              "      <td>612.0</td>\n",
              "      <td>64.416667</td>\n",
              "      <td>736.0</td>\n",
              "      <td>531.0</td>\n",
              "      <td>849.859596</td>\n",
              "      <td>9</td>\n",
              "      <td>4</td>\n",
              "      <td>BENIGN</td>\n",
              "    </tr>\n",
              "  </tbody>\n",
              "</table>\n",
              "</div>"
            ],
            "text/plain": [
              "   Unnamed: 0   Fwd Packet Length Max  ...   Total Backward Packets   Label\n",
              "0           0                   220.0  ...                        4  BENIGN\n",
              "1           1                   300.0  ...                        4  BENIGN\n",
              "2           2                  1388.0  ...                        4  BENIGN\n",
              "3           3                   226.0  ...                        4  BENIGN\n",
              "4           4                   306.0  ...                        4  BENIGN\n",
              "\n",
              "[5 rows x 18 columns]"
            ]
          },
          "metadata": {
            "tags": []
          },
          "execution_count": 5
        }
      ]
    },
    {
      "cell_type": "code",
      "metadata": {
        "id": "o81L1y9iBZX3",
        "colab_type": "code",
        "outputId": "124e20a9-f260-4bdf-ac77-a2384789d649",
        "colab": {
          "base_uri": "https://localhost:8080/",
          "height": 416
        }
      },
      "source": [
        "df.info()"
      ],
      "execution_count": 0,
      "outputs": [
        {
          "output_type": "stream",
          "text": [
            "<class 'pandas.core.frame.DataFrame'>\n",
            "RangeIndex: 2829385 entries, 0 to 2829384\n",
            "Data columns (total 18 columns):\n",
            "Unnamed: 0                      int64\n",
            " Fwd Packet Length Max          float64\n",
            " Flow IAT Std                   float64\n",
            " Fwd Packet Length Std          float64\n",
            "Fwd IAT Total                   float64\n",
            " Flow Packets/s                 object\n",
            " Flow Duration                  int64\n",
            " Fwd Packet Length Mean         float64\n",
            " Total Length of Bwd Packets    float64\n",
            "Flow Bytes/s                    object\n",
            "Total Length of Fwd Packets     float64\n",
            " Flow IAT Mean                  float64\n",
            " Bwd Packet Length Mean         float64\n",
            " Flow IAT Max                   float64\n",
            " Bwd Packet Length Std          float64\n",
            " Total Fwd Packets              int64\n",
            " Total Backward Packets         int64\n",
            " Label                          object\n",
            "dtypes: float64(11), int64(4), object(3)\n",
            "memory usage: 388.6+ MB\n"
          ],
          "name": "stdout"
        }
      ]
    },
    {
      "cell_type": "markdown",
      "metadata": {
        "id": "tK8KWatzya2d",
        "colab_type": "text"
      },
      "source": [
        "#### read all csv files"
      ]
    },
    {
      "cell_type": "code",
      "metadata": {
        "id": "QvWDceGPya2p",
        "colab_type": "code",
        "outputId": "fe09d276-1599-463f-b877-042f242749d4",
        "colab": {}
      },
      "source": [
        "import glob\n",
        "t1=time.time()\n",
        "\n",
        "path = \"../dataset/TrafficLabelling\" # use your path\n",
        "all_files = glob.glob(path + \"/*.csv\")\n",
        "\n",
        "li = []\n",
        "\n",
        "for filename in all_files:\n",
        "    df = pd.read_csv(filename, index_col=None, header=0)\n",
        "    li.append(df)\n",
        "\n",
        "df = pd.concat(li, axis=0, ignore_index=True)\n",
        "t2=time.time()\n",
        "print(\"time taken to read All csv :: \", t2-t1, \" seconds \")"
      ],
      "execution_count": 0,
      "outputs": [
        {
          "output_type": "stream",
          "text": [
            "/home/ebryx/anaconda3/lib/python3.7/site-packages/IPython/core/interactiveshell.py:3058: DtypeWarning: Columns (20,21) have mixed types. Specify dtype option on import or set low_memory=False.\n",
            "  interactivity=interactivity, compiler=compiler, result=result)\n",
            "/home/ebryx/anaconda3/lib/python3.7/site-packages/IPython/core/interactiveshell.py:3058: DtypeWarning: Columns (20) have mixed types. Specify dtype option on import or set low_memory=False.\n",
            "  interactivity=interactivity, compiler=compiler, result=result)\n"
          ],
          "name": "stderr"
        },
        {
          "output_type": "stream",
          "text": [
            "time taken to read All csv ::  59.14720845222473  seconds \n"
          ],
          "name": "stdout"
        }
      ]
    },
    {
      "cell_type": "code",
      "metadata": {
        "id": "Ka6jrDZRya3K",
        "colab_type": "code",
        "outputId": "f462e34a-af96-4f7c-f2e5-e683de08ce2d",
        "colab": {
          "base_uri": "https://localhost:8080/",
          "height": 727
        }
      },
      "source": [
        "df.groupby(' Label').first()"
      ],
      "execution_count": 0,
      "outputs": [
        {
          "output_type": "execute_result",
          "data": {
            "text/html": [
              "<div>\n",
              "<style scoped>\n",
              "    .dataframe tbody tr th:only-of-type {\n",
              "        vertical-align: middle;\n",
              "    }\n",
              "\n",
              "    .dataframe tbody tr th {\n",
              "        vertical-align: top;\n",
              "    }\n",
              "\n",
              "    .dataframe thead th {\n",
              "        text-align: right;\n",
              "    }\n",
              "</style>\n",
              "<table border=\"1\" class=\"dataframe\">\n",
              "  <thead>\n",
              "    <tr style=\"text-align: right;\">\n",
              "      <th></th>\n",
              "      <th>Unnamed: 0</th>\n",
              "      <th>Fwd Packet Length Max</th>\n",
              "      <th>Flow IAT Std</th>\n",
              "      <th>Fwd Packet Length Std</th>\n",
              "      <th>Fwd IAT Total</th>\n",
              "      <th>Flow Packets/s</th>\n",
              "      <th>Flow Duration</th>\n",
              "      <th>Fwd Packet Length Mean</th>\n",
              "      <th>Total Length of Bwd Packets</th>\n",
              "      <th>Flow Bytes/s</th>\n",
              "      <th>Total Length of Fwd Packets</th>\n",
              "      <th>Flow IAT Mean</th>\n",
              "      <th>Bwd Packet Length Mean</th>\n",
              "      <th>Flow IAT Max</th>\n",
              "      <th>Bwd Packet Length Std</th>\n",
              "      <th>Total Fwd Packets</th>\n",
              "      <th>Total Backward Packets</th>\n",
              "    </tr>\n",
              "    <tr>\n",
              "      <th>Label</th>\n",
              "      <th></th>\n",
              "      <th></th>\n",
              "      <th></th>\n",
              "      <th></th>\n",
              "      <th></th>\n",
              "      <th></th>\n",
              "      <th></th>\n",
              "      <th></th>\n",
              "      <th></th>\n",
              "      <th></th>\n",
              "      <th></th>\n",
              "      <th></th>\n",
              "      <th></th>\n",
              "      <th></th>\n",
              "      <th></th>\n",
              "      <th></th>\n",
              "      <th></th>\n",
              "    </tr>\n",
              "  </thead>\n",
              "  <tbody>\n",
              "    <tr>\n",
              "      <th>BENIGN</th>\n",
              "      <td>0</td>\n",
              "      <td>403.0</td>\n",
              "      <td>5.798698e+06</td>\n",
              "      <td>204.724205</td>\n",
              "      <td>113000000.0</td>\n",
              "      <td>0.425755776</td>\n",
              "      <td>112740690</td>\n",
              "      <td>201.500000</td>\n",
              "      <td>1152.0</td>\n",
              "      <td>67.41133126</td>\n",
              "      <td>6448.0</td>\n",
              "      <td>2.398738e+06</td>\n",
              "      <td>72.000000</td>\n",
              "      <td>16400000.0</td>\n",
              "      <td>0.000000</td>\n",
              "      <td>32</td>\n",
              "      <td>16</td>\n",
              "    </tr>\n",
              "    <tr>\n",
              "      <th>Bot</th>\n",
              "      <td>24072</td>\n",
              "      <td>322.0</td>\n",
              "      <td>4.901981e+06</td>\n",
              "      <td>107.333333</td>\n",
              "      <td>51200000.0</td>\n",
              "      <td>0.29899021</td>\n",
              "      <td>60202640</td>\n",
              "      <td>35.777778</td>\n",
              "      <td>256.0</td>\n",
              "      <td>9.600907867</td>\n",
              "      <td>322.0</td>\n",
              "      <td>3.541332e+06</td>\n",
              "      <td>28.444444</td>\n",
              "      <td>10200000.0</td>\n",
              "      <td>85.333333</td>\n",
              "      <td>9</td>\n",
              "      <td>9</td>\n",
              "    </tr>\n",
              "    <tr>\n",
              "      <th>DDoS</th>\n",
              "      <td>209916</td>\n",
              "      <td>20.0</td>\n",
              "      <td>4.308658e+05</td>\n",
              "      <td>10.263203</td>\n",
              "      <td>747.0</td>\n",
              "      <td>7.72921768</td>\n",
              "      <td>1293792</td>\n",
              "      <td>8.666667</td>\n",
              "      <td>11607.0</td>\n",
              "      <td>8991.398927</td>\n",
              "      <td>26.0</td>\n",
              "      <td>1.437547e+05</td>\n",
              "      <td>1658.142857</td>\n",
              "      <td>1292730.0</td>\n",
              "      <td>2137.297080</td>\n",
              "      <td>3</td>\n",
              "      <td>7</td>\n",
              "    </tr>\n",
              "    <tr>\n",
              "      <th>DoS GoldenEye</th>\n",
              "      <td>2180471</td>\n",
              "      <td>341.0</td>\n",
              "      <td>1.768253e+06</td>\n",
              "      <td>170.500000</td>\n",
              "      <td>6531.0</td>\n",
              "      <td>1.796824293</td>\n",
              "      <td>5008837</td>\n",
              "      <td>85.250000</td>\n",
              "      <td>3525.0</td>\n",
              "      <td>771.8358572999999</td>\n",
              "      <td>341.0</td>\n",
              "      <td>6.261046e+05</td>\n",
              "      <td>705.000000</td>\n",
              "      <td>5002306.0</td>\n",
              "      <td>990.644740</td>\n",
              "      <td>4</td>\n",
              "      <td>5</td>\n",
              "    </tr>\n",
              "    <tr>\n",
              "      <th>DoS Hulk</th>\n",
              "      <td>1924298</td>\n",
              "      <td>382.0</td>\n",
              "      <td>2.291299e+02</td>\n",
              "      <td>220.547803</td>\n",
              "      <td>975.0</td>\n",
              "      <td>4792.332268</td>\n",
              "      <td>1878</td>\n",
              "      <td>127.333333</td>\n",
              "      <td>11595.0</td>\n",
              "      <td>6377529.286</td>\n",
              "      <td>382.0</td>\n",
              "      <td>2.347500e+02</td>\n",
              "      <td>1932.500000</td>\n",
              "      <td>577.0</td>\n",
              "      <td>2182.468304</td>\n",
              "      <td>3</td>\n",
              "      <td>6</td>\n",
              "    </tr>\n",
              "    <tr>\n",
              "      <th>DoS Slowhttptest</th>\n",
              "      <td>1918713</td>\n",
              "      <td>356.0</td>\n",
              "      <td>2.236413e+03</td>\n",
              "      <td>159.208040</td>\n",
              "      <td>16045.0</td>\n",
              "      <td>498.597694</td>\n",
              "      <td>16045</td>\n",
              "      <td>71.200000</td>\n",
              "      <td>1964.0</td>\n",
              "      <td>144593.3313</td>\n",
              "      <td>356.0</td>\n",
              "      <td>2.292143e+03</td>\n",
              "      <td>654.666667</td>\n",
              "      <td>5415.0</td>\n",
              "      <td>1133.915929</td>\n",
              "      <td>5</td>\n",
              "      <td>3</td>\n",
              "    </tr>\n",
              "    <tr>\n",
              "      <th>DoS slowloris</th>\n",
              "      <td>1855996</td>\n",
              "      <td>410.0</td>\n",
              "      <td>1.368409e+06</td>\n",
              "      <td>185.758628</td>\n",
              "      <td>218783.0</td>\n",
              "      <td>2.707953414</td>\n",
              "      <td>5169956</td>\n",
              "      <td>137.625000</td>\n",
              "      <td>4222.0</td>\n",
              "      <td>1029.602573</td>\n",
              "      <td>1101.0</td>\n",
              "      <td>3.976889e+05</td>\n",
              "      <td>703.666667</td>\n",
              "      <td>4951173.0</td>\n",
              "      <td>1395.868284</td>\n",
              "      <td>8</td>\n",
              "      <td>6</td>\n",
              "    </tr>\n",
              "    <tr>\n",
              "      <th>FTP-Patator</th>\n",
              "      <td>1414876</td>\n",
              "      <td>0.0</td>\n",
              "      <td>3.010454e+06</td>\n",
              "      <td>0.000000</td>\n",
              "      <td>5216127.0</td>\n",
              "      <td>0.766852494</td>\n",
              "      <td>5216127</td>\n",
              "      <td>0.000000</td>\n",
              "      <td>0.0</td>\n",
              "      <td>0</td>\n",
              "      <td>0.0</td>\n",
              "      <td>1.738709e+06</td>\n",
              "      <td>0.000000</td>\n",
              "      <td>5214882.0</td>\n",
              "      <td>0.000000</td>\n",
              "      <td>3</td>\n",
              "      <td>1</td>\n",
              "    </tr>\n",
              "    <tr>\n",
              "      <th>Heartbleed</th>\n",
              "      <td>2446568</td>\n",
              "      <td>517.0</td>\n",
              "      <td>1.746258e+05</td>\n",
              "      <td>16.858421</td>\n",
              "      <td>119000000.0</td>\n",
              "      <td>36.99831575</td>\n",
              "      <td>119302728</td>\n",
              "      <td>3.090875</td>\n",
              "      <td>7556917.0</td>\n",
              "      <td>63411.92802</td>\n",
              "      <td>8299.0</td>\n",
              "      <td>2.703438e+04</td>\n",
              "      <td>4370.686524</td>\n",
              "      <td>5024984.0</td>\n",
              "      <td>2566.935004</td>\n",
              "      <td>2685</td>\n",
              "      <td>1729</td>\n",
              "    </tr>\n",
              "    <tr>\n",
              "      <th>Infiltration</th>\n",
              "      <td>2608524</td>\n",
              "      <td>93.0</td>\n",
              "      <td>1.340000e+07</td>\n",
              "      <td>38.861292</td>\n",
              "      <td>255908.0</td>\n",
              "      <td>0.257828191</td>\n",
              "      <td>42664070</td>\n",
              "      <td>28.200000</td>\n",
              "      <td>291.0</td>\n",
              "      <td>10.12561624</td>\n",
              "      <td>141.0</td>\n",
              "      <td>4.266407e+06</td>\n",
              "      <td>48.500000</td>\n",
              "      <td>42400000.0</td>\n",
              "      <td>107.069603</td>\n",
              "      <td>5</td>\n",
              "      <td>6</td>\n",
              "    </tr>\n",
              "    <tr>\n",
              "      <th>PortScan</th>\n",
              "      <td>418241</td>\n",
              "      <td>356.0</td>\n",
              "      <td>1.568379e+06</td>\n",
              "      <td>181.536131</td>\n",
              "      <td>55401.0</td>\n",
              "      <td>2.190772903</td>\n",
              "      <td>5021059</td>\n",
              "      <td>117.166667</td>\n",
              "      <td>1414.0</td>\n",
              "      <td>421.6242032</td>\n",
              "      <td>703.0</td>\n",
              "      <td>5.021059e+05</td>\n",
              "      <td>282.800000</td>\n",
              "      <td>4965658.0</td>\n",
              "      <td>456.923626</td>\n",
              "      <td>6</td>\n",
              "      <td>5</td>\n",
              "    </tr>\n",
              "    <tr>\n",
              "      <th>SSH-Patator</th>\n",
              "      <td>1565518</td>\n",
              "      <td>0.0</td>\n",
              "      <td>0.000000e+00</td>\n",
              "      <td>0.000000</td>\n",
              "      <td>404.0</td>\n",
              "      <td>4950.49505</td>\n",
              "      <td>404</td>\n",
              "      <td>0.000000</td>\n",
              "      <td>0.0</td>\n",
              "      <td>0</td>\n",
              "      <td>0.0</td>\n",
              "      <td>4.040000e+02</td>\n",
              "      <td>0.000000</td>\n",
              "      <td>404.0</td>\n",
              "      <td>0.000000</td>\n",
              "      <td>2</td>\n",
              "      <td>0</td>\n",
              "    </tr>\n",
              "    <tr>\n",
              "      <th>Web Attack-Brute Force</th>\n",
              "      <td>1245800</td>\n",
              "      <td>372.0</td>\n",
              "      <td>1.372181e+06</td>\n",
              "      <td>184.078788</td>\n",
              "      <td>221162.0</td>\n",
              "      <td>2.700034985</td>\n",
              "      <td>5185118</td>\n",
              "      <td>146.000000</td>\n",
              "      <td>2321.0</td>\n",
              "      <td>644.7297824</td>\n",
              "      <td>1022.0</td>\n",
              "      <td>3.988552e+05</td>\n",
              "      <td>331.571429</td>\n",
              "      <td>4963956.0</td>\n",
              "      <td>439.659284</td>\n",
              "      <td>7</td>\n",
              "      <td>7</td>\n",
              "    </tr>\n",
              "    <tr>\n",
              "      <th>Web Attack-Sql Injection</th>\n",
              "      <td>1323456</td>\n",
              "      <td>447.0</td>\n",
              "      <td>1.889620e+06</td>\n",
              "      <td>223.500000</td>\n",
              "      <td>5712.0</td>\n",
              "      <td>1.59804176</td>\n",
              "      <td>5006127</td>\n",
              "      <td>111.750000</td>\n",
              "      <td>530.0</td>\n",
              "      <td>195.1608499</td>\n",
              "      <td>447.0</td>\n",
              "      <td>7.151610e+05</td>\n",
              "      <td>132.500000</td>\n",
              "      <td>5000415.0</td>\n",
              "      <td>265.000000</td>\n",
              "      <td>4</td>\n",
              "      <td>4</td>\n",
              "    </tr>\n",
              "    <tr>\n",
              "      <th>Web Attack-XSS</th>\n",
              "      <td>1305297</td>\n",
              "      <td>0.0</td>\n",
              "      <td>3.254753e+06</td>\n",
              "      <td>0.000000</td>\n",
              "      <td>5638432.0</td>\n",
              "      <td>0.709417086</td>\n",
              "      <td>5638432</td>\n",
              "      <td>0.000000</td>\n",
              "      <td>0.0</td>\n",
              "      <td>0</td>\n",
              "      <td>0.0</td>\n",
              "      <td>1.879477e+06</td>\n",
              "      <td>0.000000</td>\n",
              "      <td>5637742.0</td>\n",
              "      <td>0.000000</td>\n",
              "      <td>3</td>\n",
              "      <td>1</td>\n",
              "    </tr>\n",
              "  </tbody>\n",
              "</table>\n",
              "</div>"
            ],
            "text/plain": [
              "                          Unnamed: 0  ...   Total Backward Packets\n",
              " Label                                ...                         \n",
              "BENIGN                             0  ...                       16\n",
              "Bot                            24072  ...                        9\n",
              "DDoS                          209916  ...                        7\n",
              "DoS GoldenEye                2180471  ...                        5\n",
              "DoS Hulk                     1924298  ...                        6\n",
              "DoS Slowhttptest             1918713  ...                        3\n",
              "DoS slowloris                1855996  ...                        6\n",
              "FTP-Patator                  1414876  ...                        1\n",
              "Heartbleed                   2446568  ...                     1729\n",
              "Infiltration                 2608524  ...                        6\n",
              "PortScan                      418241  ...                        5\n",
              "SSH-Patator                  1565518  ...                        0\n",
              "Web Attack-Brute Force       1245800  ...                        7\n",
              "Web Attack-Sql Injection     1323456  ...                        4\n",
              "Web Attack-XSS               1305297  ...                        1\n",
              "\n",
              "[15 rows x 17 columns]"
            ]
          },
          "metadata": {
            "tags": []
          },
          "execution_count": 6
        }
      ]
    },
    {
      "cell_type": "markdown",
      "metadata": {
        "id": "wrspQRmiya5y",
        "colab_type": "text"
      },
      "source": [
        "##### ==>> Finding and dropping undefined / incorrect values in data frame"
      ]
    },
    {
      "cell_type": "code",
      "metadata": {
        "id": "0rVtoTfJya56",
        "colab_type": "code",
        "colab": {}
      },
      "source": [
        "df=df.dropna( axis=0, how='any')"
      ],
      "execution_count": 0,
      "outputs": []
    },
    {
      "cell_type": "code",
      "metadata": {
        "id": "63b_TNLKya6W",
        "colab_type": "code",
        "colab": {}
      },
      "source": [
        "df=df.replace(',,', np.nan, inplace=False)"
      ],
      "execution_count": 0,
      "outputs": []
    },
    {
      "cell_type": "markdown",
      "metadata": {
        "id": "hmzcKVa0ya6o",
        "colab_type": "text"
      },
      "source": [
        "<br>\n",
        "We see that Fwd Header Length comes twice but with different anmes so first change name of Fwd Header Length.1 to Fwd Header Length and then remove it"
      ]
    },
    {
      "cell_type": "code",
      "metadata": {
        "id": "rkDMAjiGya7C",
        "colab_type": "code",
        "colab": {}
      },
      "source": [
        "df.drop(columns=[' Fwd Header Length.1'], axis=1, inplace=True)"
      ],
      "execution_count": 0,
      "outputs": []
    },
    {
      "cell_type": "code",
      "metadata": {
        "id": "bwZ4HRZoya7Q",
        "colab_type": "code",
        "outputId": "7a0fa9fa-9037-4938-ae4f-25cd6023dc06",
        "colab": {
          "base_uri": "https://localhost:8080/",
          "height": 34
        }
      },
      "source": [
        "len(df.columns)\n"
      ],
      "execution_count": 0,
      "outputs": [
        {
          "output_type": "execute_result",
          "data": {
            "text/plain": [
              "18"
            ]
          },
          "metadata": {
            "tags": []
          },
          "execution_count": 10
        }
      ]
    },
    {
      "cell_type": "markdown",
      "metadata": {
        "id": "-PYZPzI6ya7q",
        "colab_type": "text"
      },
      "source": [
        "\n",
        "##### ==>>convert categorical and string data to numerical data\n",
        "Flow ID, Source IP, Destination IP, Timestamp, External IP <br>\n",
        "using LabelEncoder of sklearn"
      ]
    },
    {
      "cell_type": "code",
      "metadata": {
        "id": "x5bCEKNLya7u",
        "colab_type": "code",
        "colab": {}
      },
      "source": [
        "from sklearn import preprocessing      # import required package for labelencoding\n",
        "le=preprocessing.LabelEncoder()        # create a label encoder (category) object\n",
        "le.fit(df['Flow ID'])"
      ],
      "execution_count": 0,
      "outputs": []
    },
    {
      "cell_type": "code",
      "metadata": {
        "id": "N8K-RguRya8G",
        "colab_type": "code",
        "outputId": "1d292efd-3efc-4c51-dd02-ae94dd9cad6c",
        "colab": {}
      },
      "source": [
        "# labels\n",
        "le.classes_\n",
        "# Apply fitted encoder to the pandas column\n",
        "le.transform(df[\"Flow ID\"])"
      ],
      "execution_count": 0,
      "outputs": [
        {
          "output_type": "execute_result",
          "data": {
            "text/plain": [
              "array([ 819574,  819732, 1085070, ...,  428373,  602218,  961807])"
            ]
          },
          "metadata": {
            "tags": []
          },
          "execution_count": 10
        }
      ]
    },
    {
      "cell_type": "code",
      "metadata": {
        "id": "zlG33LTYya8g",
        "colab_type": "code",
        "outputId": "99050d4e-7a8d-4d8c-f12e-0eb57d799bbc",
        "colab": {}
      },
      "source": [
        "le_s_ip=preprocessing.LabelEncoder()\n",
        "le_s_ip.fit(df[' Source IP'])\n",
        "le_s_ip.transform(df[' Source IP'])"
      ],
      "execution_count": 0,
      "outputs": [
        {
          "output_type": "execute_result",
          "data": {
            "text/plain": [
              "array([ 4721,  4721, 16487, ...,  4713,  4721,  4722])"
            ]
          },
          "metadata": {
            "tags": []
          },
          "execution_count": 11
        }
      ]
    },
    {
      "cell_type": "code",
      "metadata": {
        "id": "HefpLpNEya85",
        "colab_type": "code",
        "outputId": "64c59d48-0751-4564-ce0e-85221c74d468",
        "colab": {}
      },
      "source": [
        "le_d_ip=preprocessing.LabelEncoder()\n",
        "le_d_ip.fit(df[' Destination IP'])\n",
        "le_d_ip.transform(df[' Destination IP'])"
      ],
      "execution_count": 0,
      "outputs": [
        {
          "output_type": "execute_result",
          "data": {
            "text/plain": [
              "array([ 5453,  5453, 18363, ..., 10351,  5452, 18797])"
            ]
          },
          "metadata": {
            "tags": []
          },
          "execution_count": 12
        }
      ]
    },
    {
      "cell_type": "code",
      "metadata": {
        "id": "PIvafNQdya9Q",
        "colab_type": "code",
        "outputId": "13cd2295-b506-4584-af44-c6f006b8bad4",
        "colab": {}
      },
      "source": [
        "le_time_stamp=preprocessing.LabelEncoder()\n",
        "le_time_stamp.fit(df[' Timestamp'])\n",
        "le_time_stamp.transform(df[' Timestamp'])"
      ],
      "execution_count": 0,
      "outputs": [
        {
          "output_type": "execute_result",
          "data": {
            "text/plain": [
              "array([27904, 27904, 27905, ..., 27419, 27419, 27419])"
            ]
          },
          "metadata": {
            "tags": []
          },
          "execution_count": 13
        }
      ]
    },
    {
      "cell_type": "code",
      "metadata": {
        "id": "MIoYYXfEya9j",
        "colab_type": "code",
        "outputId": "dbbd7804-f79b-423f-b642-b33f5bc637fe",
        "colab": {}
      },
      "source": [
        "group=df.groupby(' Label')\n",
        "group.first()"
      ],
      "execution_count": 0,
      "outputs": [
        {
          "output_type": "execute_result",
          "data": {
            "text/html": [
              "<div>\n",
              "<style scoped>\n",
              "    .dataframe tbody tr th:only-of-type {\n",
              "        vertical-align: middle;\n",
              "    }\n",
              "\n",
              "    .dataframe tbody tr th {\n",
              "        vertical-align: top;\n",
              "    }\n",
              "\n",
              "    .dataframe thead th {\n",
              "        text-align: right;\n",
              "    }\n",
              "</style>\n",
              "<table border=\"1\" class=\"dataframe\">\n",
              "  <thead>\n",
              "    <tr style=\"text-align: right;\">\n",
              "      <th></th>\n",
              "      <th>Flow ID</th>\n",
              "      <th>Source IP</th>\n",
              "      <th>Source Port</th>\n",
              "      <th>Destination IP</th>\n",
              "      <th>Destination Port</th>\n",
              "      <th>Protocol</th>\n",
              "      <th>Timestamp</th>\n",
              "      <th>Flow Duration</th>\n",
              "      <th>Total Fwd Packets</th>\n",
              "      <th>Total Backward Packets</th>\n",
              "      <th>...</th>\n",
              "      <th>act_data_pkt_fwd</th>\n",
              "      <th>min_seg_size_forward</th>\n",
              "      <th>Active Mean</th>\n",
              "      <th>Active Std</th>\n",
              "      <th>Active Max</th>\n",
              "      <th>Active Min</th>\n",
              "      <th>Idle Mean</th>\n",
              "      <th>Idle Std</th>\n",
              "      <th>Idle Max</th>\n",
              "      <th>Idle Min</th>\n",
              "    </tr>\n",
              "    <tr>\n",
              "      <th>Label</th>\n",
              "      <th></th>\n",
              "      <th></th>\n",
              "      <th></th>\n",
              "      <th></th>\n",
              "      <th></th>\n",
              "      <th></th>\n",
              "      <th></th>\n",
              "      <th></th>\n",
              "      <th></th>\n",
              "      <th></th>\n",
              "      <th></th>\n",
              "      <th></th>\n",
              "      <th></th>\n",
              "      <th></th>\n",
              "      <th></th>\n",
              "      <th></th>\n",
              "      <th></th>\n",
              "      <th></th>\n",
              "      <th></th>\n",
              "      <th></th>\n",
              "      <th></th>\n",
              "    </tr>\n",
              "  </thead>\n",
              "  <tbody>\n",
              "    <tr>\n",
              "      <td>BENIGN</td>\n",
              "      <td>192.168.10.3-192.168.10.50-3268-56108-6</td>\n",
              "      <td>192.168.10.50</td>\n",
              "      <td>56108</td>\n",
              "      <td>192.168.10.3</td>\n",
              "      <td>3268</td>\n",
              "      <td>6</td>\n",
              "      <td>7/7/2017 8:59</td>\n",
              "      <td>112740690</td>\n",
              "      <td>32</td>\n",
              "      <td>16</td>\n",
              "      <td>...</td>\n",
              "      <td>15</td>\n",
              "      <td>32</td>\n",
              "      <td>359.428571</td>\n",
              "      <td>11.998016</td>\n",
              "      <td>380.0</td>\n",
              "      <td>343.0</td>\n",
              "      <td>16100000.0</td>\n",
              "      <td>498804.82030</td>\n",
              "      <td>16400000.0</td>\n",
              "      <td>15400000.0</td>\n",
              "    </tr>\n",
              "    <tr>\n",
              "      <td>Bot</td>\n",
              "      <td>192.168.10.12-52.6.13.28-42544-8080-6</td>\n",
              "      <td>192.168.10.12</td>\n",
              "      <td>42544</td>\n",
              "      <td>52.6.13.28</td>\n",
              "      <td>8080</td>\n",
              "      <td>6</td>\n",
              "      <td>7/7/2017 9:34</td>\n",
              "      <td>60202640</td>\n",
              "      <td>9</td>\n",
              "      <td>9</td>\n",
              "      <td>...</td>\n",
              "      <td>1</td>\n",
              "      <td>32</td>\n",
              "      <td>63678.200000</td>\n",
              "      <td>22252.535960</td>\n",
              "      <td>103175.0</td>\n",
              "      <td>50911.0</td>\n",
              "      <td>10200000.0</td>\n",
              "      <td>34941.27201</td>\n",
              "      <td>10200000.0</td>\n",
              "      <td>10100000.0</td>\n",
              "    </tr>\n",
              "    <tr>\n",
              "      <td>DDoS</td>\n",
              "      <td>172.16.0.1-192.168.10.50-49650-80-6</td>\n",
              "      <td>172.16.0.1</td>\n",
              "      <td>49650</td>\n",
              "      <td>192.168.10.50</td>\n",
              "      <td>80</td>\n",
              "      <td>6</td>\n",
              "      <td>7/7/2017 3:56</td>\n",
              "      <td>1293792</td>\n",
              "      <td>3</td>\n",
              "      <td>7</td>\n",
              "      <td>...</td>\n",
              "      <td>2</td>\n",
              "      <td>20</td>\n",
              "      <td>0.000000</td>\n",
              "      <td>0.000000</td>\n",
              "      <td>0.0</td>\n",
              "      <td>0.0</td>\n",
              "      <td>0.0</td>\n",
              "      <td>0.00000</td>\n",
              "      <td>0.0</td>\n",
              "      <td>0.0</td>\n",
              "    </tr>\n",
              "    <tr>\n",
              "      <td>DoS GoldenEye</td>\n",
              "      <td>172.16.0.1-192.168.10.50-58958-80-6</td>\n",
              "      <td>172.16.0.1</td>\n",
              "      <td>58958</td>\n",
              "      <td>192.168.10.50</td>\n",
              "      <td>80</td>\n",
              "      <td>6</td>\n",
              "      <td>5/7/2017 11:10</td>\n",
              "      <td>5008837</td>\n",
              "      <td>4</td>\n",
              "      <td>5</td>\n",
              "      <td>...</td>\n",
              "      <td>1</td>\n",
              "      <td>32</td>\n",
              "      <td>0.000000</td>\n",
              "      <td>0.000000</td>\n",
              "      <td>0.0</td>\n",
              "      <td>0.0</td>\n",
              "      <td>0.0</td>\n",
              "      <td>0.00000</td>\n",
              "      <td>0.0</td>\n",
              "      <td>0.0</td>\n",
              "    </tr>\n",
              "    <tr>\n",
              "      <td>DoS Hulk</td>\n",
              "      <td>172.16.0.1-192.168.10.50-50748-80-6</td>\n",
              "      <td>172.16.0.1</td>\n",
              "      <td>50748</td>\n",
              "      <td>192.168.10.50</td>\n",
              "      <td>80</td>\n",
              "      <td>6</td>\n",
              "      <td>5/7/2017 10:43</td>\n",
              "      <td>1878</td>\n",
              "      <td>3</td>\n",
              "      <td>6</td>\n",
              "      <td>...</td>\n",
              "      <td>1</td>\n",
              "      <td>32</td>\n",
              "      <td>0.000000</td>\n",
              "      <td>0.000000</td>\n",
              "      <td>0.0</td>\n",
              "      <td>0.0</td>\n",
              "      <td>0.0</td>\n",
              "      <td>0.00000</td>\n",
              "      <td>0.0</td>\n",
              "      <td>0.0</td>\n",
              "    </tr>\n",
              "    <tr>\n",
              "      <td>DoS Slowhttptest</td>\n",
              "      <td>172.16.0.1-192.168.10.50-33372-80-6</td>\n",
              "      <td>172.16.0.1</td>\n",
              "      <td>33372</td>\n",
              "      <td>192.168.10.50</td>\n",
              "      <td>80</td>\n",
              "      <td>6</td>\n",
              "      <td>5/7/2017 10:15</td>\n",
              "      <td>16045</td>\n",
              "      <td>5</td>\n",
              "      <td>3</td>\n",
              "      <td>...</td>\n",
              "      <td>1</td>\n",
              "      <td>32</td>\n",
              "      <td>0.000000</td>\n",
              "      <td>0.000000</td>\n",
              "      <td>0.0</td>\n",
              "      <td>0.0</td>\n",
              "      <td>0.0</td>\n",
              "      <td>0.00000</td>\n",
              "      <td>0.0</td>\n",
              "      <td>0.0</td>\n",
              "    </tr>\n",
              "    <tr>\n",
              "      <td>DoS slowloris</td>\n",
              "      <td>172.16.0.1-192.168.10.50-49631-80-6</td>\n",
              "      <td>172.16.0.1</td>\n",
              "      <td>49631</td>\n",
              "      <td>192.168.10.50</td>\n",
              "      <td>80</td>\n",
              "      <td>6</td>\n",
              "      <td>5/7/2017 2:24</td>\n",
              "      <td>5169956</td>\n",
              "      <td>8</td>\n",
              "      <td>6</td>\n",
              "      <td>...</td>\n",
              "      <td>7</td>\n",
              "      <td>20</td>\n",
              "      <td>0.000000</td>\n",
              "      <td>0.000000</td>\n",
              "      <td>0.0</td>\n",
              "      <td>0.0</td>\n",
              "      <td>0.0</td>\n",
              "      <td>0.00000</td>\n",
              "      <td>0.0</td>\n",
              "      <td>0.0</td>\n",
              "    </tr>\n",
              "    <tr>\n",
              "      <td>FTP-Patator</td>\n",
              "      <td>172.16.0.1-192.168.10.50-45422-80-6</td>\n",
              "      <td>172.16.0.1</td>\n",
              "      <td>45422</td>\n",
              "      <td>192.168.10.50</td>\n",
              "      <td>80</td>\n",
              "      <td>6</td>\n",
              "      <td>4/7/2017 10:30</td>\n",
              "      <td>5216127</td>\n",
              "      <td>3</td>\n",
              "      <td>1</td>\n",
              "      <td>...</td>\n",
              "      <td>0</td>\n",
              "      <td>32</td>\n",
              "      <td>0.000000</td>\n",
              "      <td>0.000000</td>\n",
              "      <td>0.0</td>\n",
              "      <td>0.0</td>\n",
              "      <td>0.0</td>\n",
              "      <td>0.00000</td>\n",
              "      <td>0.0</td>\n",
              "      <td>0.0</td>\n",
              "    </tr>\n",
              "    <tr>\n",
              "      <td>Heartbleed</td>\n",
              "      <td>172.16.0.1-192.168.10.51-45022-444-6</td>\n",
              "      <td>172.16.0.1</td>\n",
              "      <td>45022</td>\n",
              "      <td>192.168.10.51</td>\n",
              "      <td>444</td>\n",
              "      <td>6</td>\n",
              "      <td>5/7/2017 3:12</td>\n",
              "      <td>119302728</td>\n",
              "      <td>2685</td>\n",
              "      <td>1729</td>\n",
              "      <td>...</td>\n",
              "      <td>118</td>\n",
              "      <td>32</td>\n",
              "      <td>2217.000000</td>\n",
              "      <td>0.000000</td>\n",
              "      <td>2217.0</td>\n",
              "      <td>2217.0</td>\n",
              "      <td>5024984.0</td>\n",
              "      <td>0.00000</td>\n",
              "      <td>5024984.0</td>\n",
              "      <td>5024984.0</td>\n",
              "    </tr>\n",
              "    <tr>\n",
              "      <td>Infiltration</td>\n",
              "      <td>192.168.10.8-205.174.165.73-53966-444-6</td>\n",
              "      <td>192.168.10.8</td>\n",
              "      <td>53966</td>\n",
              "      <td>205.174.165.73</td>\n",
              "      <td>444</td>\n",
              "      <td>6</td>\n",
              "      <td>6/7/2017 2:19</td>\n",
              "      <td>42664070</td>\n",
              "      <td>5</td>\n",
              "      <td>6</td>\n",
              "      <td>...</td>\n",
              "      <td>4</td>\n",
              "      <td>20</td>\n",
              "      <td>0.000000</td>\n",
              "      <td>0.000000</td>\n",
              "      <td>0.0</td>\n",
              "      <td>0.0</td>\n",
              "      <td>0.0</td>\n",
              "      <td>0.00000</td>\n",
              "      <td>0.0</td>\n",
              "      <td>0.0</td>\n",
              "    </tr>\n",
              "    <tr>\n",
              "      <td>PortScan</td>\n",
              "      <td>172.16.0.1-192.168.10.50-40620-80-6</td>\n",
              "      <td>172.16.0.1</td>\n",
              "      <td>40620</td>\n",
              "      <td>192.168.10.50</td>\n",
              "      <td>80</td>\n",
              "      <td>6</td>\n",
              "      <td>7/7/2017 1:05</td>\n",
              "      <td>5021059</td>\n",
              "      <td>6</td>\n",
              "      <td>5</td>\n",
              "      <td>...</td>\n",
              "      <td>2</td>\n",
              "      <td>32</td>\n",
              "      <td>0.000000</td>\n",
              "      <td>0.000000</td>\n",
              "      <td>0.0</td>\n",
              "      <td>0.0</td>\n",
              "      <td>0.0</td>\n",
              "      <td>0.00000</td>\n",
              "      <td>0.0</td>\n",
              "      <td>0.0</td>\n",
              "    </tr>\n",
              "    <tr>\n",
              "      <td>SSH-Patator</td>\n",
              "      <td>172.16.0.1-192.168.10.50-52358-22-6</td>\n",
              "      <td>172.16.0.1</td>\n",
              "      <td>52358</td>\n",
              "      <td>192.168.10.50</td>\n",
              "      <td>22</td>\n",
              "      <td>6</td>\n",
              "      <td>4/7/2017 3:11</td>\n",
              "      <td>404</td>\n",
              "      <td>2</td>\n",
              "      <td>0</td>\n",
              "      <td>...</td>\n",
              "      <td>0</td>\n",
              "      <td>32</td>\n",
              "      <td>0.000000</td>\n",
              "      <td>0.000000</td>\n",
              "      <td>0.0</td>\n",
              "      <td>0.0</td>\n",
              "      <td>0.0</td>\n",
              "      <td>0.00000</td>\n",
              "      <td>0.0</td>\n",
              "      <td>0.0</td>\n",
              "    </tr>\n",
              "    <tr>\n",
              "      <td>Web Attack-Brute Force</td>\n",
              "      <td>172.16.0.1-192.168.10.50-44380-80-6</td>\n",
              "      <td>172.16.0.1</td>\n",
              "      <td>44380</td>\n",
              "      <td>192.168.10.50</td>\n",
              "      <td>80</td>\n",
              "      <td>6</td>\n",
              "      <td>6/7/2017 9:15</td>\n",
              "      <td>5185118</td>\n",
              "      <td>7</td>\n",
              "      <td>7</td>\n",
              "      <td>...</td>\n",
              "      <td>3</td>\n",
              "      <td>32</td>\n",
              "      <td>0.000000</td>\n",
              "      <td>0.000000</td>\n",
              "      <td>0.0</td>\n",
              "      <td>0.0</td>\n",
              "      <td>0.0</td>\n",
              "      <td>0.00000</td>\n",
              "      <td>0.0</td>\n",
              "      <td>0.0</td>\n",
              "    </tr>\n",
              "    <tr>\n",
              "      <td>Web Attack-Sql Injection</td>\n",
              "      <td>172.16.0.1-192.168.10.50-36196-80-6</td>\n",
              "      <td>172.16.0.1</td>\n",
              "      <td>36196</td>\n",
              "      <td>192.168.10.50</td>\n",
              "      <td>80</td>\n",
              "      <td>6</td>\n",
              "      <td>6/7/2017 10:40</td>\n",
              "      <td>5006127</td>\n",
              "      <td>4</td>\n",
              "      <td>4</td>\n",
              "      <td>...</td>\n",
              "      <td>1</td>\n",
              "      <td>32</td>\n",
              "      <td>0.000000</td>\n",
              "      <td>0.000000</td>\n",
              "      <td>0.0</td>\n",
              "      <td>0.0</td>\n",
              "      <td>0.0</td>\n",
              "      <td>0.00000</td>\n",
              "      <td>0.0</td>\n",
              "      <td>0.0</td>\n",
              "    </tr>\n",
              "    <tr>\n",
              "      <td>Web Attack-XSS</td>\n",
              "      <td>172.16.0.1-192.168.10.50-52120-80-6</td>\n",
              "      <td>172.16.0.1</td>\n",
              "      <td>52120</td>\n",
              "      <td>192.168.10.50</td>\n",
              "      <td>80</td>\n",
              "      <td>6</td>\n",
              "      <td>6/7/2017 10:15</td>\n",
              "      <td>5638432</td>\n",
              "      <td>3</td>\n",
              "      <td>1</td>\n",
              "      <td>...</td>\n",
              "      <td>0</td>\n",
              "      <td>32</td>\n",
              "      <td>0.000000</td>\n",
              "      <td>0.000000</td>\n",
              "      <td>0.0</td>\n",
              "      <td>0.0</td>\n",
              "      <td>0.0</td>\n",
              "      <td>0.00000</td>\n",
              "      <td>0.0</td>\n",
              "      <td>0.0</td>\n",
              "    </tr>\n",
              "  </tbody>\n",
              "</table>\n",
              "<p>15 rows × 83 columns</p>\n",
              "</div>"
            ],
            "text/plain": [
              "                                                          Flow ID  \\\n",
              " Label                                                              \n",
              "BENIGN                    192.168.10.3-192.168.10.50-3268-56108-6   \n",
              "Bot                         192.168.10.12-52.6.13.28-42544-8080-6   \n",
              "DDoS                          172.16.0.1-192.168.10.50-49650-80-6   \n",
              "DoS GoldenEye                 172.16.0.1-192.168.10.50-58958-80-6   \n",
              "DoS Hulk                      172.16.0.1-192.168.10.50-50748-80-6   \n",
              "DoS Slowhttptest              172.16.0.1-192.168.10.50-33372-80-6   \n",
              "DoS slowloris                 172.16.0.1-192.168.10.50-49631-80-6   \n",
              "FTP-Patator                   172.16.0.1-192.168.10.50-45422-80-6   \n",
              "Heartbleed                   172.16.0.1-192.168.10.51-45022-444-6   \n",
              "Infiltration              192.168.10.8-205.174.165.73-53966-444-6   \n",
              "PortScan                      172.16.0.1-192.168.10.50-40620-80-6   \n",
              "SSH-Patator                   172.16.0.1-192.168.10.50-52358-22-6   \n",
              "Web Attack-Brute Force        172.16.0.1-192.168.10.50-44380-80-6   \n",
              "Web Attack-Sql Injection      172.16.0.1-192.168.10.50-36196-80-6   \n",
              "Web Attack-XSS                172.16.0.1-192.168.10.50-52120-80-6   \n",
              "\n",
              "                              Source IP   Source Port  Destination IP  \\\n",
              " Label                                                                  \n",
              "BENIGN                    192.168.10.50         56108    192.168.10.3   \n",
              "Bot                       192.168.10.12         42544      52.6.13.28   \n",
              "DDoS                         172.16.0.1         49650   192.168.10.50   \n",
              "DoS GoldenEye                172.16.0.1         58958   192.168.10.50   \n",
              "DoS Hulk                     172.16.0.1         50748   192.168.10.50   \n",
              "DoS Slowhttptest             172.16.0.1         33372   192.168.10.50   \n",
              "DoS slowloris                172.16.0.1         49631   192.168.10.50   \n",
              "FTP-Patator                  172.16.0.1         45422   192.168.10.50   \n",
              "Heartbleed                   172.16.0.1         45022   192.168.10.51   \n",
              "Infiltration               192.168.10.8         53966  205.174.165.73   \n",
              "PortScan                     172.16.0.1         40620   192.168.10.50   \n",
              "SSH-Patator                  172.16.0.1         52358   192.168.10.50   \n",
              "Web Attack-Brute Force       172.16.0.1         44380   192.168.10.50   \n",
              "Web Attack-Sql Injection     172.16.0.1         36196   192.168.10.50   \n",
              "Web Attack-XSS               172.16.0.1         52120   192.168.10.50   \n",
              "\n",
              "                           Destination Port   Protocol       Timestamp  \\\n",
              " Label                                                                   \n",
              "BENIGN                                 3268          6   7/7/2017 8:59   \n",
              "Bot                                    8080          6   7/7/2017 9:34   \n",
              "DDoS                                     80          6   7/7/2017 3:56   \n",
              "DoS GoldenEye                            80          6  5/7/2017 11:10   \n",
              "DoS Hulk                                 80          6  5/7/2017 10:43   \n",
              "DoS Slowhttptest                         80          6  5/7/2017 10:15   \n",
              "DoS slowloris                            80          6   5/7/2017 2:24   \n",
              "FTP-Patator                              80          6  4/7/2017 10:30   \n",
              "Heartbleed                              444          6   5/7/2017 3:12   \n",
              "Infiltration                            444          6   6/7/2017 2:19   \n",
              "PortScan                                 80          6   7/7/2017 1:05   \n",
              "SSH-Patator                              22          6   4/7/2017 3:11   \n",
              "Web Attack-Brute Force                   80          6   6/7/2017 9:15   \n",
              "Web Attack-Sql Injection                 80          6  6/7/2017 10:40   \n",
              "Web Attack-XSS                           80          6  6/7/2017 10:15   \n",
              "\n",
              "                           Flow Duration   Total Fwd Packets  \\\n",
              " Label                                                         \n",
              "BENIGN                         112740690                  32   \n",
              "Bot                             60202640                   9   \n",
              "DDoS                             1293792                   3   \n",
              "DoS GoldenEye                    5008837                   4   \n",
              "DoS Hulk                            1878                   3   \n",
              "DoS Slowhttptest                   16045                   5   \n",
              "DoS slowloris                    5169956                   8   \n",
              "FTP-Patator                      5216127                   3   \n",
              "Heartbleed                     119302728                2685   \n",
              "Infiltration                    42664070                   5   \n",
              "PortScan                         5021059                   6   \n",
              "SSH-Patator                          404                   2   \n",
              "Web Attack-Brute Force           5185118                   7   \n",
              "Web Attack-Sql Injection         5006127                   4   \n",
              "Web Attack-XSS                   5638432                   3   \n",
              "\n",
              "                           Total Backward Packets  ...   act_data_pkt_fwd  \\\n",
              " Label                                             ...                      \n",
              "BENIGN                                         16  ...                 15   \n",
              "Bot                                             9  ...                  1   \n",
              "DDoS                                            7  ...                  2   \n",
              "DoS GoldenEye                                   5  ...                  1   \n",
              "DoS Hulk                                        6  ...                  1   \n",
              "DoS Slowhttptest                                3  ...                  1   \n",
              "DoS slowloris                                   6  ...                  7   \n",
              "FTP-Patator                                     1  ...                  0   \n",
              "Heartbleed                                   1729  ...                118   \n",
              "Infiltration                                    6  ...                  4   \n",
              "PortScan                                        5  ...                  2   \n",
              "SSH-Patator                                     0  ...                  0   \n",
              "Web Attack-Brute Force                          7  ...                  3   \n",
              "Web Attack-Sql Injection                        4  ...                  1   \n",
              "Web Attack-XSS                                  1  ...                  0   \n",
              "\n",
              "                           min_seg_size_forward   Active Mean    Active Std  \\\n",
              " Label                                                                        \n",
              "BENIGN                                       32    359.428571     11.998016   \n",
              "Bot                                          32  63678.200000  22252.535960   \n",
              "DDoS                                         20      0.000000      0.000000   \n",
              "DoS GoldenEye                                32      0.000000      0.000000   \n",
              "DoS Hulk                                     32      0.000000      0.000000   \n",
              "DoS Slowhttptest                             32      0.000000      0.000000   \n",
              "DoS slowloris                                20      0.000000      0.000000   \n",
              "FTP-Patator                                  32      0.000000      0.000000   \n",
              "Heartbleed                                   32   2217.000000      0.000000   \n",
              "Infiltration                                 20      0.000000      0.000000   \n",
              "PortScan                                     32      0.000000      0.000000   \n",
              "SSH-Patator                                  32      0.000000      0.000000   \n",
              "Web Attack-Brute Force                       32      0.000000      0.000000   \n",
              "Web Attack-Sql Injection                     32      0.000000      0.000000   \n",
              "Web Attack-XSS                               32      0.000000      0.000000   \n",
              "\n",
              "                           Active Max   Active Min   Idle Mean      Idle Std  \\\n",
              " Label                                                                         \n",
              "BENIGN                          380.0        343.0  16100000.0  498804.82030   \n",
              "Bot                          103175.0      50911.0  10200000.0   34941.27201   \n",
              "DDoS                              0.0          0.0         0.0       0.00000   \n",
              "DoS GoldenEye                     0.0          0.0         0.0       0.00000   \n",
              "DoS Hulk                          0.0          0.0         0.0       0.00000   \n",
              "DoS Slowhttptest                  0.0          0.0         0.0       0.00000   \n",
              "DoS slowloris                     0.0          0.0         0.0       0.00000   \n",
              "FTP-Patator                       0.0          0.0         0.0       0.00000   \n",
              "Heartbleed                     2217.0       2217.0   5024984.0       0.00000   \n",
              "Infiltration                      0.0          0.0         0.0       0.00000   \n",
              "PortScan                          0.0          0.0         0.0       0.00000   \n",
              "SSH-Patator                       0.0          0.0         0.0       0.00000   \n",
              "Web Attack-Brute Force            0.0          0.0         0.0       0.00000   \n",
              "Web Attack-Sql Injection          0.0          0.0         0.0       0.00000   \n",
              "Web Attack-XSS                    0.0          0.0         0.0       0.00000   \n",
              "\n",
              "                            Idle Max    Idle Min  \n",
              " Label                                            \n",
              "BENIGN                    16400000.0  15400000.0  \n",
              "Bot                       10200000.0  10100000.0  \n",
              "DDoS                             0.0         0.0  \n",
              "DoS GoldenEye                    0.0         0.0  \n",
              "DoS Hulk                         0.0         0.0  \n",
              "DoS Slowhttptest                 0.0         0.0  \n",
              "DoS slowloris                    0.0         0.0  \n",
              "FTP-Patator                      0.0         0.0  \n",
              "Heartbleed                 5024984.0   5024984.0  \n",
              "Infiltration                     0.0         0.0  \n",
              "PortScan                         0.0         0.0  \n",
              "SSH-Patator                      0.0         0.0  \n",
              "Web Attack-Brute Force           0.0         0.0  \n",
              "Web Attack-Sql Injection         0.0         0.0  \n",
              "Web Attack-XSS                   0.0         0.0  \n",
              "\n",
              "[15 rows x 83 columns]"
            ]
          },
          "metadata": {
            "tags": []
          },
          "execution_count": 15
        }
      ]
    },
    {
      "cell_type": "code",
      "metadata": {
        "id": "WkCF40WXKN9b",
        "colab_type": "code",
        "colab": {}
      },
      "source": [
        "df.replace('SSH-Patator', 'ATTACK', inplace=True)\n",
        "df.replace('Web Attack-XSS', 'ATTACK', inplace=True)\n",
        "df.replace('Web Attack-Sql Injection', 'ATTACK', inplace=True)\n",
        "df.replace('Web Attack-Brute Force', 'ATTACK', inplace=True)\n",
        "df.replace('PortScan', 'ATTACK', inplace=True)\n",
        "df.replace('Infiltration', 'ATTACK', inplace=True)\n",
        "df.replace('Bot', 'ATTACK', inplace=True)\n",
        "df.replace('DDoS', 'ATTACK', inplace=True)\n",
        "df.replace('DoS GoldenEye', 'ATTACK', inplace=True)\n",
        "df.replace('DoS Hulk', 'ATTACK', inplace=True)\n",
        "df.replace('DoS Slowhttptest', 'ATTACK', inplace=True)\n",
        "df.replace('DoS slowloris', 'ATTACK', inplace=True)\n",
        "df.replace('FTP-Patator', 'ATTACK', inplace=True)\n",
        "df.replace('Heartbleed', 'ATTACK', inplace=True)"
      ],
      "execution_count": 0,
      "outputs": []
    },
    {
      "cell_type": "code",
      "metadata": {
        "id": "HlaZSCbfya96",
        "colab_type": "code",
        "outputId": "0d7f9976-2126-4ca1-d873-3daaf8854842",
        "colab": {
          "base_uri": "https://localhost:8080/",
          "height": 124
        }
      },
      "source": [
        "df[[' Flow Packets/s', 'Flow Bytes/s']].replace('Infinity', -1, inplace=True)\n",
        "df[[' Flow Packets/s', 'Flow Bytes/s']].replace('NaN', 0, inplace=True)"
      ],
      "execution_count": 0,
      "outputs": [
        {
          "output_type": "stream",
          "text": [
            "/usr/local/lib/python3.6/dist-packages/pandas/core/frame.py:4278: SettingWithCopyWarning: \n",
            "A value is trying to be set on a copy of a slice from a DataFrame\n",
            "\n",
            "See the caveats in the documentation: http://pandas.pydata.org/pandas-docs/stable/user_guide/indexing.html#returning-a-view-versus-a-copy\n",
            "  method=method,\n"
          ],
          "name": "stderr"
        }
      ]
    },
    {
      "cell_type": "markdown",
      "metadata": {
        "id": "ksy0Bwpuya-g",
        "colab_type": "text"
      },
      "source": [
        "# 2. Feature Selection"
      ]
    },
    {
      "cell_type": "markdown",
      "metadata": {
        "id": "WmFCoW31ya-l",
        "colab_type": "text"
      },
      "source": [
        "Adding features with most importance for ssh patator and ftp patator \n",
        "1. FW Packet length max \n",
        "\n",
        "2. flow duration\n",
        "3. flow packets/s\n",
        "4. fwd IAt total\n",
        "5. flow IAT std\n",
        "\n",
        "6. Fwd packet length std\n",
        "7. fwd packet length mean\n",
        "8. total length of backward packets\n",
        "9. flow bytes/s\n",
        "10. total length of fwd packets\n",
        "11. flow iat mean\n",
        "\n",
        "and some other features that give good results for\n",
        "12. Bot(Bwd Packet Length Mean)\n",
        "13. DDos(Bwd Packet Length Std)\n",
        "14. DDos golden eye (Flow IAT Max)\n",
        "15. Total Fwd Packets\n",
        "16. Total Backward Packets'\n"
      ]
    },
    {
      "cell_type": "code",
      "metadata": {
        "id": "czsyjf-Cya-q",
        "colab_type": "code",
        "outputId": "7a42817f-9c41-4132-ab71-570751c84bb0",
        "colab": {
          "base_uri": "https://localhost:8080/",
          "height": 278
        }
      },
      "source": [
        "features=[\" Fwd Packet Length Max\",\" Flow IAT Std\",\" Fwd Packet Length Std\" ,\"Fwd IAT Total\",' Flow Packets/s',' Flow Duration', \" Fwd Packet Length Mean\", \" Total Length of Bwd Packets\", \"Flow Bytes/s\", \"Total Length of Fwd Packets\", \" Flow IAT Mean\", \" Bwd Packet Length Mean\",  \" Flow IAT Max\", \" Bwd Packet Length Std\", ' Total Fwd Packets', ' Total Backward Packets',\" Label\"]\n",
        "df=df[features].copy()\n",
        "df.head()"
      ],
      "execution_count": 0,
      "outputs": [
        {
          "output_type": "execute_result",
          "data": {
            "text/html": [
              "<div>\n",
              "<style scoped>\n",
              "    .dataframe tbody tr th:only-of-type {\n",
              "        vertical-align: middle;\n",
              "    }\n",
              "\n",
              "    .dataframe tbody tr th {\n",
              "        vertical-align: top;\n",
              "    }\n",
              "\n",
              "    .dataframe thead th {\n",
              "        text-align: right;\n",
              "    }\n",
              "</style>\n",
              "<table border=\"1\" class=\"dataframe\">\n",
              "  <thead>\n",
              "    <tr style=\"text-align: right;\">\n",
              "      <th></th>\n",
              "      <th>Fwd Packet Length Max</th>\n",
              "      <th>Flow IAT Std</th>\n",
              "      <th>Fwd Packet Length Std</th>\n",
              "      <th>Fwd IAT Total</th>\n",
              "      <th>Flow Packets/s</th>\n",
              "      <th>Flow Duration</th>\n",
              "      <th>Fwd Packet Length Mean</th>\n",
              "      <th>Total Length of Bwd Packets</th>\n",
              "      <th>Flow Bytes/s</th>\n",
              "      <th>Total Length of Fwd Packets</th>\n",
              "      <th>Flow IAT Mean</th>\n",
              "      <th>Bwd Packet Length Mean</th>\n",
              "      <th>Flow IAT Max</th>\n",
              "      <th>Bwd Packet Length Std</th>\n",
              "      <th>Total Fwd Packets</th>\n",
              "      <th>Total Backward Packets</th>\n",
              "      <th>Label</th>\n",
              "    </tr>\n",
              "  </thead>\n",
              "  <tbody>\n",
              "    <tr>\n",
              "      <th>0</th>\n",
              "      <td>220.0</td>\n",
              "      <td>135.557286</td>\n",
              "      <td>107.349008</td>\n",
              "      <td>640.0</td>\n",
              "      <td>17187.5</td>\n",
              "      <td>640</td>\n",
              "      <td>62.857143</td>\n",
              "      <td>358.0</td>\n",
              "      <td>1246875</td>\n",
              "      <td>440.0</td>\n",
              "      <td>64.000000</td>\n",
              "      <td>89.5</td>\n",
              "      <td>445.0</td>\n",
              "      <td>103.345698</td>\n",
              "      <td>7</td>\n",
              "      <td>4</td>\n",
              "      <td>BENIGN</td>\n",
              "    </tr>\n",
              "    <tr>\n",
              "      <th>1</th>\n",
              "      <td>300.0</td>\n",
              "      <td>192.795228</td>\n",
              "      <td>132.287566</td>\n",
              "      <td>900.0</td>\n",
              "      <td>14444.44444</td>\n",
              "      <td>900</td>\n",
              "      <td>66.666667</td>\n",
              "      <td>2944.0</td>\n",
              "      <td>3937777.778</td>\n",
              "      <td>600.0</td>\n",
              "      <td>75.000000</td>\n",
              "      <td>736.0</td>\n",
              "      <td>684.0</td>\n",
              "      <td>849.859596</td>\n",
              "      <td>9</td>\n",
              "      <td>4</td>\n",
              "      <td>BENIGN</td>\n",
              "    </tr>\n",
              "    <tr>\n",
              "      <th>2</th>\n",
              "      <td>1388.0</td>\n",
              "      <td>236.433336</td>\n",
              "      <td>677.274651</td>\n",
              "      <td>1205.0</td>\n",
              "      <td>9128.630705</td>\n",
              "      <td>1205</td>\n",
              "      <td>396.571429</td>\n",
              "      <td>2830.0</td>\n",
              "      <td>4652282.158</td>\n",
              "      <td>2776.0</td>\n",
              "      <td>120.500000</td>\n",
              "      <td>707.5</td>\n",
              "      <td>777.0</td>\n",
              "      <td>816.950631</td>\n",
              "      <td>7</td>\n",
              "      <td>4</td>\n",
              "      <td>BENIGN</td>\n",
              "    </tr>\n",
              "    <tr>\n",
              "      <th>3</th>\n",
              "      <td>226.0</td>\n",
              "      <td>90.767652</td>\n",
              "      <td>110.276708</td>\n",
              "      <td>511.0</td>\n",
              "      <td>21526.41879</td>\n",
              "      <td>511</td>\n",
              "      <td>64.571429</td>\n",
              "      <td>370.0</td>\n",
              "      <td>1608610.568</td>\n",
              "      <td>452.0</td>\n",
              "      <td>51.100000</td>\n",
              "      <td>92.5</td>\n",
              "      <td>299.0</td>\n",
              "      <td>106.809800</td>\n",
              "      <td>7</td>\n",
              "      <td>4</td>\n",
              "      <td>BENIGN</td>\n",
              "    </tr>\n",
              "    <tr>\n",
              "      <th>4</th>\n",
              "      <td>306.0</td>\n",
              "      <td>148.698266</td>\n",
              "      <td>134.933317</td>\n",
              "      <td>773.0</td>\n",
              "      <td>16817.59379</td>\n",
              "      <td>773</td>\n",
              "      <td>68.000000</td>\n",
              "      <td>2944.0</td>\n",
              "      <td>4600258.732</td>\n",
              "      <td>612.0</td>\n",
              "      <td>64.416667</td>\n",
              "      <td>736.0</td>\n",
              "      <td>531.0</td>\n",
              "      <td>849.859596</td>\n",
              "      <td>9</td>\n",
              "      <td>4</td>\n",
              "      <td>BENIGN</td>\n",
              "    </tr>\n",
              "  </tbody>\n",
              "</table>\n",
              "</div>"
            ],
            "text/plain": [
              "    Fwd Packet Length Max   Flow IAT Std  ...   Total Backward Packets   Label\n",
              "0                   220.0     135.557286  ...                        4  BENIGN\n",
              "1                   300.0     192.795228  ...                        4  BENIGN\n",
              "2                  1388.0     236.433336  ...                        4  BENIGN\n",
              "3                   226.0      90.767652  ...                        4  BENIGN\n",
              "4                   306.0     148.698266  ...                        4  BENIGN\n",
              "\n",
              "[5 rows x 17 columns]"
            ]
          },
          "metadata": {
            "tags": []
          },
          "execution_count": 14
        }
      ]
    },
    {
      "cell_type": "code",
      "metadata": {
        "id": "VkCEmOfAya_K",
        "colab_type": "code",
        "outputId": "5f3f3c0b-47ed-4c64-89e9-6d6d5db9f883",
        "colab": {
          "base_uri": "https://localhost:8080/",
          "height": 278
        }
      },
      "source": [
        "df.head()"
      ],
      "execution_count": 0,
      "outputs": [
        {
          "output_type": "execute_result",
          "data": {
            "text/html": [
              "<div>\n",
              "<style scoped>\n",
              "    .dataframe tbody tr th:only-of-type {\n",
              "        vertical-align: middle;\n",
              "    }\n",
              "\n",
              "    .dataframe tbody tr th {\n",
              "        vertical-align: top;\n",
              "    }\n",
              "\n",
              "    .dataframe thead th {\n",
              "        text-align: right;\n",
              "    }\n",
              "</style>\n",
              "<table border=\"1\" class=\"dataframe\">\n",
              "  <thead>\n",
              "    <tr style=\"text-align: right;\">\n",
              "      <th></th>\n",
              "      <th>Fwd Packet Length Max</th>\n",
              "      <th>Flow IAT Std</th>\n",
              "      <th>Fwd Packet Length Std</th>\n",
              "      <th>Fwd IAT Total</th>\n",
              "      <th>Flow Packets/s</th>\n",
              "      <th>Flow Duration</th>\n",
              "      <th>Fwd Packet Length Mean</th>\n",
              "      <th>Total Length of Bwd Packets</th>\n",
              "      <th>Flow Bytes/s</th>\n",
              "      <th>Total Length of Fwd Packets</th>\n",
              "      <th>Flow IAT Mean</th>\n",
              "      <th>Bwd Packet Length Mean</th>\n",
              "      <th>Flow IAT Max</th>\n",
              "      <th>Bwd Packet Length Std</th>\n",
              "      <th>Total Fwd Packets</th>\n",
              "      <th>Total Backward Packets</th>\n",
              "      <th>Label</th>\n",
              "    </tr>\n",
              "  </thead>\n",
              "  <tbody>\n",
              "    <tr>\n",
              "      <th>0</th>\n",
              "      <td>220.0</td>\n",
              "      <td>135.557286</td>\n",
              "      <td>107.349008</td>\n",
              "      <td>640.0</td>\n",
              "      <td>17187.5</td>\n",
              "      <td>640</td>\n",
              "      <td>62.857143</td>\n",
              "      <td>358.0</td>\n",
              "      <td>1246875</td>\n",
              "      <td>440.0</td>\n",
              "      <td>64.000000</td>\n",
              "      <td>89.5</td>\n",
              "      <td>445.0</td>\n",
              "      <td>103.345698</td>\n",
              "      <td>7</td>\n",
              "      <td>4</td>\n",
              "      <td>BENIGN</td>\n",
              "    </tr>\n",
              "    <tr>\n",
              "      <th>1</th>\n",
              "      <td>300.0</td>\n",
              "      <td>192.795228</td>\n",
              "      <td>132.287566</td>\n",
              "      <td>900.0</td>\n",
              "      <td>14444.44444</td>\n",
              "      <td>900</td>\n",
              "      <td>66.666667</td>\n",
              "      <td>2944.0</td>\n",
              "      <td>3937777.778</td>\n",
              "      <td>600.0</td>\n",
              "      <td>75.000000</td>\n",
              "      <td>736.0</td>\n",
              "      <td>684.0</td>\n",
              "      <td>849.859596</td>\n",
              "      <td>9</td>\n",
              "      <td>4</td>\n",
              "      <td>BENIGN</td>\n",
              "    </tr>\n",
              "    <tr>\n",
              "      <th>2</th>\n",
              "      <td>1388.0</td>\n",
              "      <td>236.433336</td>\n",
              "      <td>677.274651</td>\n",
              "      <td>1205.0</td>\n",
              "      <td>9128.630705</td>\n",
              "      <td>1205</td>\n",
              "      <td>396.571429</td>\n",
              "      <td>2830.0</td>\n",
              "      <td>4652282.158</td>\n",
              "      <td>2776.0</td>\n",
              "      <td>120.500000</td>\n",
              "      <td>707.5</td>\n",
              "      <td>777.0</td>\n",
              "      <td>816.950631</td>\n",
              "      <td>7</td>\n",
              "      <td>4</td>\n",
              "      <td>BENIGN</td>\n",
              "    </tr>\n",
              "    <tr>\n",
              "      <th>3</th>\n",
              "      <td>226.0</td>\n",
              "      <td>90.767652</td>\n",
              "      <td>110.276708</td>\n",
              "      <td>511.0</td>\n",
              "      <td>21526.41879</td>\n",
              "      <td>511</td>\n",
              "      <td>64.571429</td>\n",
              "      <td>370.0</td>\n",
              "      <td>1608610.568</td>\n",
              "      <td>452.0</td>\n",
              "      <td>51.100000</td>\n",
              "      <td>92.5</td>\n",
              "      <td>299.0</td>\n",
              "      <td>106.809800</td>\n",
              "      <td>7</td>\n",
              "      <td>4</td>\n",
              "      <td>BENIGN</td>\n",
              "    </tr>\n",
              "    <tr>\n",
              "      <th>4</th>\n",
              "      <td>306.0</td>\n",
              "      <td>148.698266</td>\n",
              "      <td>134.933317</td>\n",
              "      <td>773.0</td>\n",
              "      <td>16817.59379</td>\n",
              "      <td>773</td>\n",
              "      <td>68.000000</td>\n",
              "      <td>2944.0</td>\n",
              "      <td>4600258.732</td>\n",
              "      <td>612.0</td>\n",
              "      <td>64.416667</td>\n",
              "      <td>736.0</td>\n",
              "      <td>531.0</td>\n",
              "      <td>849.859596</td>\n",
              "      <td>9</td>\n",
              "      <td>4</td>\n",
              "      <td>BENIGN</td>\n",
              "    </tr>\n",
              "  </tbody>\n",
              "</table>\n",
              "</div>"
            ],
            "text/plain": [
              "    Fwd Packet Length Max   Flow IAT Std  ...   Total Backward Packets   Label\n",
              "0                   220.0     135.557286  ...                        4  BENIGN\n",
              "1                   300.0     192.795228  ...                        4  BENIGN\n",
              "2                  1388.0     236.433336  ...                        4  BENIGN\n",
              "3                   226.0      90.767652  ...                        4  BENIGN\n",
              "4                   306.0     148.698266  ...                        4  BENIGN\n",
              "\n",
              "[5 rows x 17 columns]"
            ]
          },
          "metadata": {
            "tags": []
          },
          "execution_count": 15
        }
      ]
    },
    {
      "cell_type": "markdown",
      "metadata": {
        "id": "mnIez8TMya_Z",
        "colab_type": "text"
      },
      "source": [
        "### Saved preprocessed cleaned data to cleaned folder"
      ]
    },
    {
      "cell_type": "code",
      "metadata": {
        "id": "NBqiINxVya_e",
        "colab_type": "code",
        "colab": {}
      },
      "source": [
        "df.to_csv(\"/content/drive/My Drive/multiclass-multidays.csv\")"
      ],
      "execution_count": 0,
      "outputs": []
    },
    {
      "cell_type": "code",
      "metadata": {
        "id": "sN_h9Fueya_s",
        "colab_type": "code",
        "outputId": "71ca7a09-dabc-4b69-a492-8ab3b06aac88",
        "colab": {
          "base_uri": "https://localhost:8080/",
          "height": 72
        }
      },
      "source": [
        "df=pd.read_csv(\"/content/drive/My Drive/multiclass-multidays.csv\")"
      ],
      "execution_count": 3,
      "outputs": [
        {
          "output_type": "stream",
          "text": [
            "/usr/local/lib/python3.6/dist-packages/IPython/core/interactiveshell.py:2718: DtypeWarning: Columns (5,9) have mixed types. Specify dtype option on import or set low_memory=False.\n",
            "  interactivity=interactivity, compiler=compiler, result=result)\n"
          ],
          "name": "stderr"
        }
      ]
    },
    {
      "cell_type": "code",
      "metadata": {
        "id": "dQoPjdsBybAF",
        "colab_type": "code",
        "colab": {}
      },
      "source": [
        "df.replace(\"Infinity\", 0, inplace=True)\n",
        "df['Flow Bytes/s'].replace(\"Infinity\", 0,inplace=True)\n",
        "df[\" Flow Packets/s\"].replace(\"NaN\", 0, inplace=True)"
      ],
      "execution_count": 0,
      "outputs": []
    },
    {
      "cell_type": "code",
      "metadata": {
        "id": "YcyZn0-RybAM",
        "colab_type": "code",
        "outputId": "320712d5-d4c5-48fc-e716-aac74334f682",
        "colab": {
          "base_uri": "https://localhost:8080/",
          "height": 347
        }
      },
      "source": [
        "df[\"Flow Bytes/s\"]=df[\"Flow Bytes/s\"].astype(\"float\")\n",
        "df[' Flow Packets/s']=df[\" Flow Packets/s\"].astype(\"float\")\n",
        "df.dtypes"
      ],
      "execution_count": 5,
      "outputs": [
        {
          "output_type": "execute_result",
          "data": {
            "text/plain": [
              "Unnamed: 0                        int64\n",
              " Fwd Packet Length Max          float64\n",
              " Flow IAT Std                   float64\n",
              " Fwd Packet Length Std          float64\n",
              "Fwd IAT Total                   float64\n",
              " Flow Packets/s                 float64\n",
              " Flow Duration                    int64\n",
              " Fwd Packet Length Mean         float64\n",
              " Total Length of Bwd Packets    float64\n",
              "Flow Bytes/s                    float64\n",
              "Total Length of Fwd Packets     float64\n",
              " Flow IAT Mean                  float64\n",
              " Bwd Packet Length Mean         float64\n",
              " Flow IAT Max                   float64\n",
              " Bwd Packet Length Std          float64\n",
              " Total Fwd Packets                int64\n",
              " Total Backward Packets           int64\n",
              " Label                           object\n",
              "dtype: object"
            ]
          },
          "metadata": {
            "tags": []
          },
          "execution_count": 5
        }
      ]
    },
    {
      "cell_type": "markdown",
      "metadata": {
        "id": "tNkC3GgtybAZ",
        "colab_type": "text"
      },
      "source": [
        "#### Removing unnecessary column"
      ]
    },
    {
      "cell_type": "code",
      "metadata": {
        "id": "jBjRNeunybAc",
        "colab_type": "code",
        "outputId": "d499fad2-2374-4808-9630-046af0928ddb",
        "colab": {
          "base_uri": "https://localhost:8080/",
          "height": 141
        }
      },
      "source": [
        "\n",
        "df2=df[df.columns[1:-1]]\n",
        "df2[' Label']=df[df.columns[-1]]\n",
        "df=df2"
      ],
      "execution_count": 6,
      "outputs": [
        {
          "output_type": "stream",
          "text": [
            "/usr/local/lib/python3.6/dist-packages/ipykernel_launcher.py:3: SettingWithCopyWarning: \n",
            "A value is trying to be set on a copy of a slice from a DataFrame.\n",
            "Try using .loc[row_indexer,col_indexer] = value instead\n",
            "\n",
            "See the caveats in the documentation: http://pandas.pydata.org/pandas-docs/stable/user_guide/indexing.html#returning-a-view-versus-a-copy\n",
            "  This is separate from the ipykernel package so we can avoid doing imports until\n"
          ],
          "name": "stderr"
        }
      ]
    },
    {
      "cell_type": "code",
      "metadata": {
        "id": "v1-GRxn6YoVH",
        "colab_type": "code",
        "outputId": "8aac8ebb-9b59-4083-97ee-bb050f4a1eea",
        "colab": {
          "base_uri": "https://localhost:8080/",
          "height": 139
        }
      },
      "source": [
        "df.columns"
      ],
      "execution_count": 7,
      "outputs": [
        {
          "output_type": "execute_result",
          "data": {
            "text/plain": [
              "Index([' Fwd Packet Length Max', ' Flow IAT Std', ' Fwd Packet Length Std',\n",
              "       'Fwd IAT Total', ' Flow Packets/s', ' Flow Duration',\n",
              "       ' Fwd Packet Length Mean', ' Total Length of Bwd Packets',\n",
              "       'Flow Bytes/s', 'Total Length of Fwd Packets', ' Flow IAT Mean',\n",
              "       ' Bwd Packet Length Mean', ' Flow IAT Max', ' Bwd Packet Length Std',\n",
              "       ' Total Fwd Packets', ' Total Backward Packets', ' Label'],\n",
              "      dtype='object')"
            ]
          },
          "metadata": {
            "tags": []
          },
          "execution_count": 7
        }
      ]
    },
    {
      "cell_type": "code",
      "metadata": {
        "id": "7JORpYkI3J02",
        "colab_type": "code",
        "colab": {}
      },
      "source": [
        "df.replace('BENIGN', '0', inplace=True)\n",
        "df.replace('ATTACK', '1', inplace=True)\n",
        "df[' Label']=df[\" Label\"].astype(\"int\")\n"
      ],
      "execution_count": 0,
      "outputs": []
    },
    {
      "cell_type": "markdown",
      "metadata": {
        "id": "Mk-6qiNfybGd",
        "colab_type": "text"
      },
      "source": [
        " Separate input features and labels from dataframe\n"
      ]
    },
    {
      "cell_type": "code",
      "metadata": {
        "id": "k-oZZ-W6ybGe",
        "colab_type": "code",
        "outputId": "abf6d350-d617-4fe9-d2a5-431d98da65ee",
        "colab": {
          "base_uri": "https://localhost:8080/",
          "height": 312
        }
      },
      "source": [
        "X=df[df.columns[0:-1]]\n",
        "y=df[df.columns[-1]]\n",
        "X.dtypes"
      ],
      "execution_count": 9,
      "outputs": [
        {
          "output_type": "execute_result",
          "data": {
            "text/plain": [
              " Fwd Packet Length Max          float64\n",
              " Flow IAT Std                   float64\n",
              " Fwd Packet Length Std          float64\n",
              "Fwd IAT Total                   float64\n",
              " Flow Packets/s                 float64\n",
              " Flow Duration                    int64\n",
              " Fwd Packet Length Mean         float64\n",
              " Total Length of Bwd Packets    float64\n",
              "Flow Bytes/s                    float64\n",
              "Total Length of Fwd Packets     float64\n",
              " Flow IAT Mean                  float64\n",
              " Bwd Packet Length Mean         float64\n",
              " Flow IAT Max                   float64\n",
              " Bwd Packet Length Std          float64\n",
              " Total Fwd Packets                int64\n",
              " Total Backward Packets           int64\n",
              "dtype: object"
            ]
          },
          "metadata": {
            "tags": []
          },
          "execution_count": 9
        }
      ]
    },
    {
      "cell_type": "code",
      "metadata": {
        "id": "055AUwEgybGm",
        "colab_type": "code",
        "outputId": "3dc9df85-7ed9-4b81-be58-1c2eaf3284c2",
        "colab": {
          "base_uri": "https://localhost:8080/",
          "height": 211
        }
      },
      "source": [
        "X.replace(\"Infinity\", 0, inplace=True)\n",
        "X['Flow Bytes/s'].replace(\"Infinity\", 0,inplace=True)\n",
        "X[\" Flow Packets/s\"].replace(\"Infinity\", 0, inplace=True)"
      ],
      "execution_count": 10,
      "outputs": [
        {
          "output_type": "stream",
          "text": [
            "/usr/local/lib/python3.6/dist-packages/pandas/core/frame.py:4278: SettingWithCopyWarning: \n",
            "A value is trying to be set on a copy of a slice from a DataFrame\n",
            "\n",
            "See the caveats in the documentation: http://pandas.pydata.org/pandas-docs/stable/user_guide/indexing.html#returning-a-view-versus-a-copy\n",
            "  method=method,\n",
            "/usr/local/lib/python3.6/dist-packages/pandas/core/generic.py:6786: SettingWithCopyWarning: \n",
            "A value is trying to be set on a copy of a slice from a DataFrame\n",
            "\n",
            "See the caveats in the documentation: http://pandas.pydata.org/pandas-docs/stable/user_guide/indexing.html#returning-a-view-versus-a-copy\n",
            "  self._update_inplace(new_data)\n"
          ],
          "name": "stderr"
        }
      ]
    },
    {
      "cell_type": "code",
      "metadata": {
        "id": "Bprtqd35ybGu",
        "colab_type": "code",
        "outputId": "a3d076aa-c931-4799-9247-0ab912e9d5dc",
        "colab": {
          "base_uri": "https://localhost:8080/",
          "height": 541
        }
      },
      "source": [
        "X[\"Flow Bytes/s\"]=X[\"Flow Bytes/s\"].astype(\"float\")\n",
        "X[' Flow Packets/s']=X[\" Flow Packets/s\"].astype(\"float\")\n",
        "X.dtypes"
      ],
      "execution_count": 11,
      "outputs": [
        {
          "output_type": "stream",
          "text": [
            "/usr/local/lib/python3.6/dist-packages/ipykernel_launcher.py:1: SettingWithCopyWarning: \n",
            "A value is trying to be set on a copy of a slice from a DataFrame.\n",
            "Try using .loc[row_indexer,col_indexer] = value instead\n",
            "\n",
            "See the caveats in the documentation: http://pandas.pydata.org/pandas-docs/stable/user_guide/indexing.html#returning-a-view-versus-a-copy\n",
            "  \"\"\"Entry point for launching an IPython kernel.\n",
            "/usr/local/lib/python3.6/dist-packages/ipykernel_launcher.py:2: SettingWithCopyWarning: \n",
            "A value is trying to be set on a copy of a slice from a DataFrame.\n",
            "Try using .loc[row_indexer,col_indexer] = value instead\n",
            "\n",
            "See the caveats in the documentation: http://pandas.pydata.org/pandas-docs/stable/user_guide/indexing.html#returning-a-view-versus-a-copy\n",
            "  \n"
          ],
          "name": "stderr"
        },
        {
          "output_type": "execute_result",
          "data": {
            "text/plain": [
              " Fwd Packet Length Max          float64\n",
              " Flow IAT Std                   float64\n",
              " Fwd Packet Length Std          float64\n",
              "Fwd IAT Total                   float64\n",
              " Flow Packets/s                 float64\n",
              " Flow Duration                    int64\n",
              " Fwd Packet Length Mean         float64\n",
              " Total Length of Bwd Packets    float64\n",
              "Flow Bytes/s                    float64\n",
              "Total Length of Fwd Packets     float64\n",
              " Flow IAT Mean                  float64\n",
              " Bwd Packet Length Mean         float64\n",
              " Flow IAT Max                   float64\n",
              " Bwd Packet Length Std          float64\n",
              " Total Fwd Packets                int64\n",
              " Total Backward Packets           int64\n",
              "dtype: object"
            ]
          },
          "metadata": {
            "tags": []
          },
          "execution_count": 11
        }
      ]
    },
    {
      "cell_type": "markdown",
      "metadata": {
        "id": "MRA2Ws3TybG7",
        "colab_type": "text"
      },
      "source": [
        "#### Display all rows in column as will be mentioned"
      ]
    },
    {
      "cell_type": "code",
      "metadata": {
        "id": "JMTqhG3wybG-",
        "colab_type": "code",
        "colab": {}
      },
      "source": [
        "pd.set_option('display.max_rows', df_wednesday.shape[0])\n",
        "pd.set_option('display.max_columns', df_wednesday.shape[1])\n",
        "\n",
        "# X_train.head(3)"
      ],
      "execution_count": 0,
      "outputs": []
    },
    {
      "cell_type": "markdown",
      "metadata": {
        "id": "S5nfFVa3ybHG",
        "colab_type": "text"
      },
      "source": [
        "### Normalize Data\n",
        "normalize data using z score so it is easy for our model to learn and outlier could be handled here"
      ]
    },
    {
      "cell_type": "code",
      "metadata": {
        "id": "88zi4TxxybHI",
        "colab_type": "code",
        "colab": {}
      },
      "source": [
        "from scipy import stats"
      ],
      "execution_count": 0,
      "outputs": []
    },
    {
      "cell_type": "code",
      "metadata": {
        "id": "tr1ZWK2RybHP",
        "colab_type": "code",
        "colab": {
          "base_uri": "https://localhost:8080/",
          "height": 159
        },
        "outputId": "e3ffc249-4f64-4fc9-8d4b-20197e7597a4"
      },
      "source": [
        "t1=time.time()\n",
        "\n",
        "cols = list(X.columns)\n",
        "for col in cols:\n",
        "    X[col] = stats.zscore(X[col])\n",
        "    \n",
        "t2=time.time()\n",
        "print(\"time ::: \", t2-t1 , \" seconds to find z score of \" , len(cols), \"features\")"
      ],
      "execution_count": 15,
      "outputs": [
        {
          "output_type": "stream",
          "text": [
            "/usr/local/lib/python3.6/dist-packages/ipykernel_launcher.py:5: SettingWithCopyWarning: \n",
            "A value is trying to be set on a copy of a slice from a DataFrame.\n",
            "Try using .loc[row_indexer,col_indexer] = value instead\n",
            "\n",
            "See the caveats in the documentation: http://pandas.pydata.org/pandas-docs/stable/user_guide/indexing.html#returning-a-view-versus-a-copy\n",
            "  \"\"\"\n"
          ],
          "name": "stderr"
        },
        {
          "output_type": "stream",
          "text": [
            "time :::  0.6005420684814453  seconds to find z score of  16 features\n"
          ],
          "name": "stdout"
        }
      ]
    },
    {
      "cell_type": "code",
      "metadata": {
        "id": "Q3FpCumcL0Go",
        "colab_type": "code",
        "colab": {
          "base_uri": "https://localhost:8080/",
          "height": 215
        },
        "outputId": "3d0da0ca-f404-4e48-f42d-18c7ae04a1b2"
      },
      "source": [
        "df.groupby(' Label').first()"
      ],
      "execution_count": 16,
      "outputs": [
        {
          "output_type": "execute_result",
          "data": {
            "text/html": [
              "<div>\n",
              "<style scoped>\n",
              "    .dataframe tbody tr th:only-of-type {\n",
              "        vertical-align: middle;\n",
              "    }\n",
              "\n",
              "    .dataframe tbody tr th {\n",
              "        vertical-align: top;\n",
              "    }\n",
              "\n",
              "    .dataframe thead th {\n",
              "        text-align: right;\n",
              "    }\n",
              "</style>\n",
              "<table border=\"1\" class=\"dataframe\">\n",
              "  <thead>\n",
              "    <tr style=\"text-align: right;\">\n",
              "      <th></th>\n",
              "      <th>Fwd Packet Length Max</th>\n",
              "      <th>Flow IAT Std</th>\n",
              "      <th>Fwd Packet Length Std</th>\n",
              "      <th>Fwd IAT Total</th>\n",
              "      <th>Flow Packets/s</th>\n",
              "      <th>Flow Duration</th>\n",
              "      <th>Fwd Packet Length Mean</th>\n",
              "      <th>Total Length of Bwd Packets</th>\n",
              "      <th>Flow Bytes/s</th>\n",
              "      <th>Total Length of Fwd Packets</th>\n",
              "      <th>Flow IAT Mean</th>\n",
              "      <th>Bwd Packet Length Mean</th>\n",
              "      <th>Flow IAT Max</th>\n",
              "      <th>Bwd Packet Length Std</th>\n",
              "      <th>Total Fwd Packets</th>\n",
              "      <th>Total Backward Packets</th>\n",
              "    </tr>\n",
              "    <tr>\n",
              "      <th>Label</th>\n",
              "      <th></th>\n",
              "      <th></th>\n",
              "      <th></th>\n",
              "      <th></th>\n",
              "      <th></th>\n",
              "      <th></th>\n",
              "      <th></th>\n",
              "      <th></th>\n",
              "      <th></th>\n",
              "      <th></th>\n",
              "      <th></th>\n",
              "      <th></th>\n",
              "      <th></th>\n",
              "      <th></th>\n",
              "      <th></th>\n",
              "      <th></th>\n",
              "    </tr>\n",
              "  </thead>\n",
              "  <tbody>\n",
              "    <tr>\n",
              "      <th>0</th>\n",
              "      <td>220.0</td>\n",
              "      <td>1.355573e+02</td>\n",
              "      <td>107.349008</td>\n",
              "      <td>640.0</td>\n",
              "      <td>17187.500000</td>\n",
              "      <td>640</td>\n",
              "      <td>62.857143</td>\n",
              "      <td>358.0</td>\n",
              "      <td>1246875.0</td>\n",
              "      <td>440.0</td>\n",
              "      <td>64.0</td>\n",
              "      <td>89.5</td>\n",
              "      <td>445.0</td>\n",
              "      <td>103.345698</td>\n",
              "      <td>7</td>\n",
              "      <td>4</td>\n",
              "    </tr>\n",
              "    <tr>\n",
              "      <th>1</th>\n",
              "      <td>0.0</td>\n",
              "      <td>3.010454e+06</td>\n",
              "      <td>0.000000</td>\n",
              "      <td>5216127.0</td>\n",
              "      <td>0.766852</td>\n",
              "      <td>5216127</td>\n",
              "      <td>0.000000</td>\n",
              "      <td>0.0</td>\n",
              "      <td>0.0</td>\n",
              "      <td>0.0</td>\n",
              "      <td>1738709.0</td>\n",
              "      <td>0.0</td>\n",
              "      <td>5214882.0</td>\n",
              "      <td>0.000000</td>\n",
              "      <td>3</td>\n",
              "      <td>1</td>\n",
              "    </tr>\n",
              "  </tbody>\n",
              "</table>\n",
              "</div>"
            ],
            "text/plain": [
              "         Fwd Packet Length Max  ...   Total Backward Packets\n",
              " Label                          ...                         \n",
              "0                        220.0  ...                        4\n",
              "1                          0.0  ...                        1\n",
              "\n",
              "[2 rows x 16 columns]"
            ]
          },
          "metadata": {
            "tags": []
          },
          "execution_count": 16
        }
      ]
    },
    {
      "cell_type": "code",
      "metadata": {
        "id": "P_T6pSsWL-HV",
        "colab_type": "code",
        "colab": {
          "base_uri": "https://localhost:8080/",
          "height": 278
        },
        "outputId": "dc6f3a52-ef7a-43ef-9712-4954059668ed"
      },
      "source": [
        "X.head()"
      ],
      "execution_count": 17,
      "outputs": [
        {
          "output_type": "execute_result",
          "data": {
            "text/html": [
              "<div>\n",
              "<style scoped>\n",
              "    .dataframe tbody tr th:only-of-type {\n",
              "        vertical-align: middle;\n",
              "    }\n",
              "\n",
              "    .dataframe tbody tr th {\n",
              "        vertical-align: top;\n",
              "    }\n",
              "\n",
              "    .dataframe thead th {\n",
              "        text-align: right;\n",
              "    }\n",
              "</style>\n",
              "<table border=\"1\" class=\"dataframe\">\n",
              "  <thead>\n",
              "    <tr style=\"text-align: right;\">\n",
              "      <th></th>\n",
              "      <th>Fwd Packet Length Max</th>\n",
              "      <th>Flow IAT Std</th>\n",
              "      <th>Fwd Packet Length Std</th>\n",
              "      <th>Fwd IAT Total</th>\n",
              "      <th>Flow Packets/s</th>\n",
              "      <th>Flow Duration</th>\n",
              "      <th>Fwd Packet Length Mean</th>\n",
              "      <th>Total Length of Bwd Packets</th>\n",
              "      <th>Flow Bytes/s</th>\n",
              "      <th>Total Length of Fwd Packets</th>\n",
              "      <th>Flow IAT Mean</th>\n",
              "      <th>Bwd Packet Length Mean</th>\n",
              "      <th>Flow IAT Max</th>\n",
              "      <th>Bwd Packet Length Std</th>\n",
              "      <th>Total Fwd Packets</th>\n",
              "      <th>Total Backward Packets</th>\n",
              "    </tr>\n",
              "  </thead>\n",
              "  <tbody>\n",
              "    <tr>\n",
              "      <th>0</th>\n",
              "      <td>0.017147</td>\n",
              "      <td>-0.362910</td>\n",
              "      <td>0.136554</td>\n",
              "      <td>-0.431455</td>\n",
              "      <td>-0.210845</td>\n",
              "      <td>-0.439454</td>\n",
              "      <td>0.024860</td>\n",
              "      <td>-0.006985</td>\n",
              "      <td>-0.009411</td>\n",
              "      <td>-0.010961</td>\n",
              "      <td>-0.288096</td>\n",
              "      <td>-0.357794</td>\n",
              "      <td>-0.375500</td>\n",
              "      <td>-0.276404</td>\n",
              "      <td>-0.003154</td>\n",
              "      <td>-0.006414</td>\n",
              "    </tr>\n",
              "    <tr>\n",
              "      <th>1</th>\n",
              "      <td>0.128670</td>\n",
              "      <td>-0.362903</td>\n",
              "      <td>0.225224</td>\n",
              "      <td>-0.431447</td>\n",
              "      <td>-0.221629</td>\n",
              "      <td>-0.439446</td>\n",
              "      <td>0.045327</td>\n",
              "      <td>-0.005843</td>\n",
              "      <td>0.094352</td>\n",
              "      <td>0.005045</td>\n",
              "      <td>-0.288094</td>\n",
              "      <td>0.710157</td>\n",
              "      <td>-0.375490</td>\n",
              "      <td>0.612449</td>\n",
              "      <td>-0.000486</td>\n",
              "      <td>-0.006414</td>\n",
              "    </tr>\n",
              "    <tr>\n",
              "      <th>2</th>\n",
              "      <td>1.645379</td>\n",
              "      <td>-0.362898</td>\n",
              "      <td>2.162953</td>\n",
              "      <td>-0.431438</td>\n",
              "      <td>-0.242529</td>\n",
              "      <td>-0.439437</td>\n",
              "      <td>1.817756</td>\n",
              "      <td>-0.005893</td>\n",
              "      <td>0.121904</td>\n",
              "      <td>0.222733</td>\n",
              "      <td>-0.288084</td>\n",
              "      <td>0.663078</td>\n",
              "      <td>-0.375486</td>\n",
              "      <td>0.573265</td>\n",
              "      <td>-0.003154</td>\n",
              "      <td>-0.006414</td>\n",
              "    </tr>\n",
              "    <tr>\n",
              "      <th>3</th>\n",
              "      <td>0.025511</td>\n",
              "      <td>-0.362916</td>\n",
              "      <td>0.146963</td>\n",
              "      <td>-0.431459</td>\n",
              "      <td>-0.193786</td>\n",
              "      <td>-0.439457</td>\n",
              "      <td>0.034070</td>\n",
              "      <td>-0.006980</td>\n",
              "      <td>0.004538</td>\n",
              "      <td>-0.009761</td>\n",
              "      <td>-0.288099</td>\n",
              "      <td>-0.352839</td>\n",
              "      <td>-0.375506</td>\n",
              "      <td>-0.272279</td>\n",
              "      <td>-0.003154</td>\n",
              "      <td>-0.006414</td>\n",
              "    </tr>\n",
              "    <tr>\n",
              "      <th>4</th>\n",
              "      <td>0.137034</td>\n",
              "      <td>-0.362909</td>\n",
              "      <td>0.234631</td>\n",
              "      <td>-0.431451</td>\n",
              "      <td>-0.212299</td>\n",
              "      <td>-0.439450</td>\n",
              "      <td>0.052490</td>\n",
              "      <td>-0.005843</td>\n",
              "      <td>0.119898</td>\n",
              "      <td>0.006246</td>\n",
              "      <td>-0.288096</td>\n",
              "      <td>0.710157</td>\n",
              "      <td>-0.375496</td>\n",
              "      <td>0.612449</td>\n",
              "      <td>-0.000486</td>\n",
              "      <td>-0.006414</td>\n",
              "    </tr>\n",
              "  </tbody>\n",
              "</table>\n",
              "</div>"
            ],
            "text/plain": [
              "    Fwd Packet Length Max  ...   Total Backward Packets\n",
              "0                0.017147  ...                -0.006414\n",
              "1                0.128670  ...                -0.006414\n",
              "2                1.645379  ...                -0.006414\n",
              "3                0.025511  ...                -0.006414\n",
              "4                0.137034  ...                -0.006414\n",
              "\n",
              "[5 rows x 16 columns]"
            ]
          },
          "metadata": {
            "tags": []
          },
          "execution_count": 17
        }
      ]
    },
    {
      "cell_type": "code",
      "metadata": {
        "id": "u3K65XT18FYG",
        "colab_type": "code",
        "colab": {
          "base_uri": "https://localhost:8080/",
          "height": 330
        },
        "outputId": "a3180d41-e2eb-44a0-d51e-94d9f79349a5"
      },
      "source": [
        "df.dtypes"
      ],
      "execution_count": 18,
      "outputs": [
        {
          "output_type": "execute_result",
          "data": {
            "text/plain": [
              " Fwd Packet Length Max          float64\n",
              " Flow IAT Std                   float64\n",
              " Fwd Packet Length Std          float64\n",
              "Fwd IAT Total                   float64\n",
              " Flow Packets/s                 float64\n",
              " Flow Duration                    int64\n",
              " Fwd Packet Length Mean         float64\n",
              " Total Length of Bwd Packets    float64\n",
              "Flow Bytes/s                    float64\n",
              "Total Length of Fwd Packets     float64\n",
              " Flow IAT Mean                  float64\n",
              " Bwd Packet Length Mean         float64\n",
              " Flow IAT Max                   float64\n",
              " Bwd Packet Length Std          float64\n",
              " Total Fwd Packets                int64\n",
              " Total Backward Packets           int64\n",
              " Label                            int64\n",
              "dtype: object"
            ]
          },
          "metadata": {
            "tags": []
          },
          "execution_count": 18
        }
      ]
    },
    {
      "cell_type": "markdown",
      "metadata": {
        "id": "lAx2aLg_ybHU",
        "colab_type": "text"
      },
      "source": [
        "\n",
        "##  3. Creation of Training and testing data\n"
      ]
    },
    {
      "cell_type": "code",
      "metadata": {
        "id": "17LzaJ6XybHX",
        "colab_type": "code",
        "colab": {}
      },
      "source": [
        "from sklearn.model_selection import train_test_split     # import module for train test split"
      ],
      "execution_count": 0,
      "outputs": []
    },
    {
      "cell_type": "code",
      "metadata": {
        "id": "ZMAd99NaybHk",
        "colab_type": "code",
        "colab": {}
      },
      "source": [
        "X_train, X_test, y_train, y_test=train_test_split(X,y,test_size=0.2, random_state=10)"
      ],
      "execution_count": 0,
      "outputs": []
    },
    {
      "cell_type": "markdown",
      "metadata": {
        "id": "oRBEQgtMybH3",
        "colab_type": "text"
      },
      "source": [
        "## 4. Applying ML algorithms"
      ]
    },
    {
      "cell_type": "markdown",
      "metadata": {
        "id": "xPLFgKalybH6",
        "colab_type": "text"
      },
      "source": [
        "### 1) K-NN"
      ]
    },
    {
      "cell_type": "code",
      "metadata": {
        "id": "rR3vQAfeybH8",
        "colab_type": "code",
        "colab": {}
      },
      "source": [
        "from sklearn.neighbors import KNeighborsClassifier"
      ],
      "execution_count": 0,
      "outputs": []
    },
    {
      "cell_type": "code",
      "metadata": {
        "id": "P5N33ZUc8MkA",
        "colab_type": "code",
        "colab": {}
      },
      "source": [
        "t1=time.time()\n",
        "\n",
        "for i in range(len(cols)):\n",
        "    knn=KNeighborsClassifier(n_neighbors=(i+1))\n",
        "    model_knn=knn.fit(X_train,y_train)\n",
        "    yhat=model_knn.predict(X_test)\n",
        "    print(\"for \" , i+1,  \" as K, accuracy is : \", accuracy_score(y_test, yhat))\n",
        "t2=time.time()\n",
        "print(\" time for \", i+1 ,\" k's :: \", (t2-t1)/60 , \" minutes\")"
      ],
      "execution_count": 0,
      "outputs": []
    },
    {
      "cell_type": "code",
      "metadata": {
        "id": "jcx2Zujb8Pos",
        "colab_type": "code",
        "outputId": "24c21e52-e707-4f94-8ee1-df6e1f21c230",
        "colab": {
          "base_uri": "https://localhost:8080/",
          "height": 52
        }
      },
      "source": [
        "t1=time.time()\n",
        "\n",
        "knn=KNeighborsClassifier(n_neighbors=(4))\n",
        "model_knn=knn.fit(X_train,y_train)\n",
        "yhat=model_knn.predict(X_test)\n",
        "print(\"for 4 as K, accuracy is : \", accuracy_score(y_test, yhat))\n",
        "t2=time.time()\n",
        "print(\" time for 4 k's :: \", (t2-t1)/60 , \" minutes\")"
      ],
      "execution_count": 22,
      "outputs": [
        {
          "output_type": "stream",
          "text": [
            "for 4 as K, accuracy is :  0.9830988006227501\n",
            " time for 4 k's ::  5.798466948668162  minutes\n"
          ],
          "name": "stdout"
        }
      ]
    },
    {
      "cell_type": "code",
      "metadata": {
        "id": "ZycXZNpwo6fV",
        "colab_type": "code",
        "outputId": "14fe8a94-280d-4087-bea0-5a5dd6a3266a",
        "colab": {
          "base_uri": "https://localhost:8080/",
          "height": 34
        }
      },
      "source": [
        "print(yhat)"
      ],
      "execution_count": 23,
      "outputs": [
        {
          "output_type": "stream",
          "text": [
            "[0 0 0 ... 0 0 1]\n"
          ],
          "name": "stdout"
        }
      ]
    },
    {
      "cell_type": "code",
      "metadata": {
        "id": "Azm4K0PwsoK0",
        "colab_type": "code",
        "outputId": "a938016a-6f85-46d4-ee69-ba614db487b3",
        "colab": {
          "base_uri": "https://localhost:8080/",
          "height": 225
        }
      },
      "source": [
        "print(y_test)"
      ],
      "execution_count": 24,
      "outputs": [
        {
          "output_type": "stream",
          "text": [
            "433210     0\n",
            "302252     0\n",
            "471197     0\n",
            "2425434    0\n",
            "21655      0\n",
            "          ..\n",
            "120517     0\n",
            "2283148    0\n",
            "2276562    0\n",
            "1004330    0\n",
            "1876183    1\n",
            "Name:  Label, Length: 565877, dtype: int64\n"
          ],
          "name": "stdout"
        }
      ]
    },
    {
      "cell_type": "code",
      "metadata": {
        "id": "-hJsvswxsenc",
        "colab_type": "code",
        "outputId": "fd08e359-0e73-43bb-c8ab-1c401e6c2d96",
        "colab": {
          "base_uri": "https://localhost:8080/",
          "height": 1000
        }
      },
      "source": [
        "g=0\n",
        "for x in yhat:\n",
        "  print(x)\n",
        "  g=g+1\n",
        "  if g>100:\n",
        "    break"
      ],
      "execution_count": 25,
      "outputs": [
        {
          "output_type": "stream",
          "text": [
            "0\n",
            "0\n",
            "0\n",
            "0\n",
            "0\n",
            "0\n",
            "0\n",
            "0\n",
            "0\n",
            "0\n",
            "0\n",
            "0\n",
            "0\n",
            "0\n",
            "0\n",
            "1\n",
            "1\n",
            "1\n",
            "0\n",
            "1\n",
            "0\n",
            "1\n",
            "0\n",
            "0\n",
            "0\n",
            "0\n",
            "1\n",
            "1\n",
            "0\n",
            "0\n",
            "1\n",
            "0\n",
            "0\n",
            "0\n",
            "1\n",
            "0\n",
            "0\n",
            "0\n",
            "0\n",
            "1\n",
            "0\n",
            "0\n",
            "0\n",
            "0\n",
            "0\n",
            "0\n",
            "0\n",
            "0\n",
            "0\n",
            "1\n",
            "1\n",
            "0\n",
            "0\n",
            "0\n",
            "0\n",
            "0\n",
            "0\n",
            "0\n",
            "0\n",
            "0\n",
            "0\n",
            "0\n",
            "0\n",
            "1\n",
            "0\n",
            "0\n",
            "0\n",
            "0\n",
            "0\n",
            "0\n",
            "1\n",
            "1\n",
            "0\n",
            "1\n",
            "0\n",
            "0\n",
            "0\n",
            "0\n",
            "0\n",
            "0\n",
            "0\n",
            "0\n",
            "0\n",
            "1\n",
            "0\n",
            "0\n",
            "1\n",
            "0\n",
            "0\n",
            "1\n",
            "1\n",
            "0\n",
            "0\n",
            "0\n",
            "0\n",
            "0\n",
            "0\n",
            "0\n",
            "0\n",
            "0\n",
            "0\n"
          ],
          "name": "stdout"
        }
      ]
    },
    {
      "cell_type": "code",
      "metadata": {
        "id": "DDV_g8e9srhu",
        "colab_type": "code",
        "outputId": "e073488e-44d8-4fec-8810-f5aac2d4cd6e",
        "colab": {
          "base_uri": "https://localhost:8080/",
          "height": 1000
        }
      },
      "source": [
        "g=0\n",
        "for x in y_test:\n",
        "  print(x)\n",
        "  g=g+1\n",
        "  if g>100:\n",
        "    break"
      ],
      "execution_count": 26,
      "outputs": [
        {
          "output_type": "stream",
          "text": [
            "0\n",
            "0\n",
            "0\n",
            "0\n",
            "0\n",
            "0\n",
            "0\n",
            "0\n",
            "0\n",
            "0\n",
            "0\n",
            "0\n",
            "0\n",
            "0\n",
            "0\n",
            "1\n",
            "1\n",
            "1\n",
            "0\n",
            "1\n",
            "0\n",
            "1\n",
            "0\n",
            "0\n",
            "0\n",
            "0\n",
            "1\n",
            "1\n",
            "0\n",
            "0\n",
            "1\n",
            "0\n",
            "0\n",
            "0\n",
            "1\n",
            "0\n",
            "0\n",
            "0\n",
            "0\n",
            "1\n",
            "0\n",
            "0\n",
            "0\n",
            "0\n",
            "0\n",
            "0\n",
            "0\n",
            "0\n",
            "0\n",
            "1\n",
            "1\n",
            "0\n",
            "0\n",
            "0\n",
            "0\n",
            "0\n",
            "0\n",
            "0\n",
            "0\n",
            "0\n",
            "0\n",
            "0\n",
            "0\n",
            "1\n",
            "0\n",
            "0\n",
            "0\n",
            "0\n",
            "1\n",
            "0\n",
            "1\n",
            "1\n",
            "0\n",
            "1\n",
            "0\n",
            "0\n",
            "0\n",
            "0\n",
            "0\n",
            "0\n",
            "0\n",
            "0\n",
            "0\n",
            "1\n",
            "0\n",
            "0\n",
            "1\n",
            "0\n",
            "0\n",
            "1\n",
            "1\n",
            "0\n",
            "0\n",
            "0\n",
            "0\n",
            "0\n",
            "0\n",
            "0\n",
            "0\n",
            "0\n",
            "0\n"
          ],
          "name": "stdout"
        }
      ]
    },
    {
      "cell_type": "code",
      "metadata": {
        "id": "zEAFqU2vpBAp",
        "colab_type": "code",
        "colab": {}
      },
      "source": [
        "from sklearn import metrics\n",
        "fpr, tpr, thresholds = metrics.roc_curve(y_test, yhat, pos_label=None)"
      ],
      "execution_count": 0,
      "outputs": []
    },
    {
      "cell_type": "code",
      "metadata": {
        "id": "KMjHnpfbtxtK",
        "colab_type": "code",
        "outputId": "be9979d3-4225-4aa1-c244-69d69fca07f9",
        "colab": {
          "base_uri": "https://localhost:8080/",
          "height": 34
        }
      },
      "source": [
        "print(tpr)"
      ],
      "execution_count": 28,
      "outputs": [
        {
          "output_type": "stream",
          "text": [
            "[0.         0.94301859 1.        ]\n"
          ],
          "name": "stdout"
        }
      ]
    },
    {
      "cell_type": "code",
      "metadata": {
        "id": "PVAkfAkvt0j-",
        "colab_type": "code",
        "outputId": "e8bd5f63-8edb-46c6-9911-db2ab2329801",
        "colab": {
          "base_uri": "https://localhost:8080/",
          "height": 34
        }
      },
      "source": [
        "print(fpr)"
      ],
      "execution_count": 29,
      "outputs": [
        {
          "output_type": "stream",
          "text": [
            "[0.         0.00704742 1.        ]\n"
          ],
          "name": "stdout"
        }
      ]
    },
    {
      "cell_type": "code",
      "metadata": {
        "id": "sHajcLKxF7sO",
        "colab_type": "code",
        "outputId": "d52f81b8-be9e-44ce-c331-aeaeac427edd",
        "colab": {
          "base_uri": "https://localhost:8080/",
          "height": 282
        }
      },
      "source": [
        "plt.plot(fpr, tpr,  linestyle='--', color='darkorange',\n",
        "         label='ROC curve (area = %0.2f)' )"
      ],
      "execution_count": 30,
      "outputs": [
        {
          "output_type": "execute_result",
          "data": {
            "text/plain": [
              "[<matplotlib.lines.Line2D at 0x7f3a4bccbcf8>]"
            ]
          },
          "metadata": {
            "tags": []
          },
          "execution_count": 30
        },
        {
          "output_type": "display_data",
          "data": {
            "image/png": "[encoded data removed]",
            "text/plain": [
              "<Figure size 432x288 with 1 Axes>"
            ]
          },
          "metadata": {
            "tags": []
          }
        }
      ]
    },
    {
      "cell_type": "code",
      "metadata": {
        "id": "vwLpR5K5ZiXB",
        "colab_type": "code",
        "outputId": "26d9c643-06f0-4901-f71a-d7d4dac4df1b",
        "colab": {
          "base_uri": "https://localhost:8080/",
          "height": 72
        }
      },
      "source": [
        "# yhat=y_hat\n",
        "y_test_arr=y_test.as_matrix()"
      ],
      "execution_count": 0,
      "outputs": [
        {
          "output_type": "stream",
          "text": [
            "/usr/local/lib/python3.6/dist-packages/ipykernel_launcher.py:1: FutureWarning: Method .as_matrix will be removed in a future version. Use .values instead.\n",
            "  \"\"\"Entry point for launching an IPython kernel.\n"
          ],
          "name": "stderr"
        }
      ]
    },
    {
      "cell_type": "code",
      "metadata": {
        "id": "cSgXyREFuZ4V",
        "colab_type": "code",
        "colab": {}
      },
      "source": [
        "from sklearn import metrics"
      ],
      "execution_count": 0,
      "outputs": []
    },
    {
      "cell_type": "code",
      "metadata": {
        "id": "ZR_7DkXruRBL",
        "colab_type": "code",
        "outputId": "d96d4e41-c83a-4343-ed79-55dd3dfd7035",
        "colab": {
          "base_uri": "https://localhost:8080/",
          "height": 321
        }
      },
      "source": [
        "\n",
        "cm=metrics.confusion_matrix(y_test,yhat)\n",
        "print(cm)\n",
        "plt.imshow(cm, cmap='binary')"
      ],
      "execution_count": 0,
      "outputs": [
        {
          "output_type": "stream",
          "text": [
            "[[109253   2130]\n",
            " [  6377 448117]]\n"
          ],
          "name": "stdout"
        },
        {
          "output_type": "execute_result",
          "data": {
            "text/plain": [
              "<matplotlib.image.AxesImage at 0x7f4acfda9588>"
            ]
          },
          "metadata": {
            "tags": []
          },
          "execution_count": 94
        },
        {
          "output_type": "display_data",
          "data": {
            "image/png": "[encoded data removed]",
            "text/plain": [
              "<Figure size 432x288 with 1 Axes>"
            ]
          },
          "metadata": {
            "tags": []
          }
        }
      ]
    },
    {
      "cell_type": "code",
      "metadata": {
        "id": "q4K1zJUjZeD1",
        "colab_type": "code",
        "colab": {}
      },
      "source": [
        "true={}\n",
        "false={}\n",
        "not_detected={}\n",
        "\n",
        "for x in range(len(y_test_arr)):\n",
        "    if y_test_arr[x]==yhat[x]:\n",
        "      if y_test_arr[x] in true:\n",
        "        true[y_test_arr[x]]=true[y_test_arr[x]]+1\n",
        "      else:\n",
        "        true[y_test_arr[x]]=1\n",
        "    elif y_test_arr[x]!=yhat[x]:\n",
        "      if yhat[x] in false:\n",
        "        false[yhat[x]]=false[yhat[x]]+1\n",
        "\n",
        "        if y_test_arr[x] in not_detected:\n",
        "          not_detected[y_test_arr[x]]=not_detected[y_test_arr[x]]+1\n",
        "        else:\n",
        "          not_detected[y_test_arr[x]]=1\n",
        "\n",
        "      else:\n",
        "        false[yhat[x]]=1\n",
        "\n",
        "        if y_test_arr[x] in not_detected:\n",
        "          not_detected[y_test_arr[x]]=not_detected[y_test_arr[x]]+1\n",
        "        else:\n",
        "          not_detected[y_test_arr[x]]=1"
      ],
      "execution_count": 0,
      "outputs": []
    },
    {
      "cell_type": "code",
      "metadata": {
        "id": "-UF43OonZkNe",
        "colab_type": "code",
        "outputId": "fb82d796-f642-48d4-e742-5a3f1889b15e",
        "colab": {
          "base_uri": "https://localhost:8080/",
          "height": 34
        }
      },
      "source": [
        "true"
      ],
      "execution_count": 0,
      "outputs": [
        {
          "output_type": "execute_result",
          "data": {
            "text/plain": [
              "{'ATTACK': 109241, 'BENIGN': 447944}"
            ]
          },
          "metadata": {
            "tags": []
          },
          "execution_count": 84
        }
      ]
    },
    {
      "cell_type": "code",
      "metadata": {
        "id": "OqI1IZCKZkki",
        "colab_type": "code",
        "outputId": "2182e9af-2193-40b9-cffe-331d7af7a9db",
        "colab": {
          "base_uri": "https://localhost:8080/",
          "height": 34
        }
      },
      "source": [
        "false"
      ],
      "execution_count": 0,
      "outputs": [
        {
          "output_type": "execute_result",
          "data": {
            "text/plain": [
              "{'ATTACK': 6550, 'BENIGN': 2142}"
            ]
          },
          "metadata": {
            "tags": []
          },
          "execution_count": 85
        }
      ]
    },
    {
      "cell_type": "code",
      "metadata": {
        "id": "5LjfFMYuZkrh",
        "colab_type": "code",
        "outputId": "ff5fde83-756e-42bf-b2cf-ead34c4a6fbb",
        "colab": {
          "base_uri": "https://localhost:8080/",
          "height": 34
        }
      },
      "source": [
        "not_detected"
      ],
      "execution_count": 0,
      "outputs": [
        {
          "output_type": "execute_result",
          "data": {
            "text/plain": [
              "{'ATTACK': 2142, 'BENIGN': 6550}"
            ]
          },
          "metadata": {
            "tags": []
          },
          "execution_count": 86
        }
      ]
    },
    {
      "cell_type": "markdown",
      "metadata": {
        "id": "hRO8QuIGybIY",
        "colab_type": "text"
      },
      "source": [
        "### save knn_model for future use"
      ]
    },
    {
      "cell_type": "code",
      "metadata": {
        "id": "Hq4K3I-OybId",
        "colab_type": "code",
        "colab": {}
      },
      "source": [
        "import pickle\n",
        "filename = 'finalized_model.sav'"
      ],
      "execution_count": 0,
      "outputs": []
    },
    {
      "cell_type": "code",
      "metadata": {
        "id": "QTZKucneybIj",
        "colab_type": "code",
        "colab": {}
      },
      "source": [
        "\n",
        "pickle.dump(model_knn, open(filename, 'wb'))"
      ],
      "execution_count": 0,
      "outputs": []
    },
    {
      "cell_type": "code",
      "metadata": {
        "id": "_PFfk0oBybIw",
        "colab_type": "code",
        "colab": {}
      },
      "source": [
        "\n",
        "# load the model from disk\n",
        "model_knn = pickle.load(open(filename, 'rb'))\n",
        "y_hat=model_knn.predict(X_test)\n"
      ],
      "execution_count": 0,
      "outputs": []
    },
    {
      "cell_type": "markdown",
      "metadata": {
        "id": "a-KQXis4ybI2",
        "colab_type": "text"
      },
      "source": [
        "### 2) Naive bayes"
      ]
    },
    {
      "cell_type": "markdown",
      "metadata": {
        "id": "F93cdUMMybI4",
        "colab_type": "text"
      },
      "source": [
        "#####     2.1) Gaussian naive bayes"
      ]
    },
    {
      "cell_type": "code",
      "metadata": {
        "id": "5N3TphfHybI6",
        "colab_type": "code",
        "colab": {}
      },
      "source": [
        "from sklearn.naive_bayes import GaussianNB"
      ],
      "execution_count": 0,
      "outputs": []
    },
    {
      "cell_type": "code",
      "metadata": {
        "id": "ZU0_A66jybI_",
        "colab_type": "code",
        "outputId": "97bb5daa-9742-4a92-f101-cab2abbdc59c",
        "colab": {
          "base_uri": "https://localhost:8080/",
          "height": 52
        }
      },
      "source": [
        "t1=time.time()\n",
        "\n",
        "gnb = GaussianNB()\n",
        "model_gnb = gnb.fit(X_train, y_train)\n",
        "yhat=model_gnb.predict(X_test)\n",
        "\n",
        "print(\"Accuracy :: \", accuracy_score(y_test,yhat))\n",
        "\n",
        "t2=time.time()\n",
        "print(\" time for Naive Baye's :: \", (t2-t1) , \" seconds\")"
      ],
      "execution_count": 0,
      "outputs": [
        {
          "output_type": "stream",
          "text": [
            "Accuracy ::  0.24458672114258045\n",
            " time for Naive Baye's ::  5.770077228546143  seconds\n"
          ],
          "name": "stdout"
        }
      ]
    },
    {
      "cell_type": "markdown",
      "metadata": {
        "id": "wEnB9rh0ybJJ",
        "colab_type": "text"
      },
      "source": [
        "results for gausian naive bayes are not very good, so we use bernoulli Naive Bayes"
      ]
    },
    {
      "cell_type": "markdown",
      "metadata": {
        "id": "qRUj7ZUOybJO",
        "colab_type": "text"
      },
      "source": [
        "##### 2.2) Bernoulli Naive Bayes"
      ]
    },
    {
      "cell_type": "code",
      "metadata": {
        "id": "b6fQPymUybJP",
        "colab_type": "code",
        "colab": {}
      },
      "source": [
        "from sklearn.naive_bayes import BernoulliNB"
      ],
      "execution_count": 0,
      "outputs": []
    },
    {
      "cell_type": "code",
      "metadata": {
        "id": "d8gG_YQtybJV",
        "colab_type": "code",
        "outputId": "41f0a2e5-a8d0-4ce6-c130-aef547785309",
        "colab": {
          "base_uri": "https://localhost:8080/",
          "height": 34
        }
      },
      "source": [
        "clf = BernoulliNB()\n",
        "clf.fit(X_train, y_train)\n",
        "yhat=clf.predict(X_test)\n",
        "print(\"Accuracy ::: \", accuracy_score(y_test,yhat))"
      ],
      "execution_count": 0,
      "outputs": [
        {
          "output_type": "stream",
          "text": [
            "Accuracy :::  0.7976980863332491\n"
          ],
          "name": "stdout"
        }
      ]
    },
    {
      "cell_type": "markdown",
      "metadata": {
        "id": "OqjTcjs3ybJZ",
        "colab_type": "text"
      },
      "source": [
        "#### Scatter plot"
      ]
    },
    {
      "cell_type": "code",
      "metadata": {
        "id": "zGyL_qxfybJc",
        "colab_type": "code",
        "colab": {}
      },
      "source": [
        "plt.scatter(y_test,yhat)"
      ],
      "execution_count": 0,
      "outputs": []
    },
    {
      "cell_type": "code",
      "metadata": {
        "id": "Ow-uQf3GybJi",
        "colab_type": "code",
        "colab": {}
      },
      "source": [
        "type(y_test)"
      ],
      "execution_count": 0,
      "outputs": []
    },
    {
      "cell_type": "code",
      "metadata": {
        "id": "9ZTFf8F4ybJ7",
        "colab_type": "code",
        "colab": {}
      },
      "source": [
        "type(yhat)"
      ],
      "execution_count": 0,
      "outputs": []
    },
    {
      "cell_type": "code",
      "metadata": {
        "id": "MFQT4KExybKG",
        "colab_type": "code",
        "outputId": "b426e7ad-8e5f-4134-811d-e855dabd409a",
        "colab": {
          "base_uri": "https://localhost:8080/",
          "height": 139
        }
      },
      "source": [
        "\n",
        "true_benign=0\n",
        "true_ftp=0\n",
        "true_ssh=0\n",
        "false_benign=0\n",
        "false_ftp=0\n",
        "false_ssh=0\n",
        "print(len(y_test_arr))\n",
        "for x in range(len(y_test_arr)):\n",
        "    if y_test_arr[x]==yhat[x] and y_test_arr[x]==\"BENIGN\":\n",
        "        true_benign=true_benign+1\n",
        "    elif y_test_arr[x]==yhat[x] and y_test_arr[x]==\"FTP-Patator\":\n",
        "        true_ftp=true_ftp+1\n",
        "    elif y_test_arr[x]==yhat[x] and y_test_arr[x]==\"SSH-Patator\":\n",
        "        true_ssh=true_ssh+1\n",
        "    elif y_test_arr[x]!=yhat[x]:\n",
        "        if yhat[x]==\"BENIGN\":\n",
        "            false_benign=false_benign+1\n",
        "        elif yhat[x]==\"FTP-Patator\":\n",
        "            false_ftp=false_ftp+1\n",
        "        elif yhat[x]==\"SSH-Patator\":\n",
        "            false_ssh=false_ssh+1\n",
        "print(\"true benign  ::: \", true_benign )\n",
        "print(\"true ftp  ::: \", true_ftp )\n",
        "print(\"true ssh  ::: \", true_ssh )\n",
        "print(\"false benign  ::: \", false_benign )\n",
        "print(\"false ftp ::: \", false_ftp )\n",
        "print(\"fasle ssh  ::: \", false_ssh )"
      ],
      "execution_count": 0,
      "outputs": [
        {
          "output_type": "stream",
          "text": [
            "565877\n",
            "true benign  :::  450872\n",
            "true ftp  :::  1536\n",
            "true ssh  :::  611\n",
            "false benign  :::  5575\n",
            "false ftp :::  12\n",
            "fasle ssh  :::  1\n"
          ],
          "name": "stdout"
        }
      ]
    },
    {
      "cell_type": "code",
      "metadata": {
        "id": "XkV1NpYRybKA",
        "colab_type": "code",
        "outputId": "d0856b77-6310-4da4-f7d4-6e6feace4c37",
        "colab": {
          "base_uri": "https://localhost:8080/",
          "height": 72
        }
      },
      "source": [
        "y_test_arr=y_test.as_matrix()"
      ],
      "execution_count": 0,
      "outputs": [
        {
          "output_type": "stream",
          "text": [
            "/usr/local/lib/python3.6/dist-packages/ipykernel_launcher.py:1: FutureWarning: Method .as_matrix will be removed in a future version. Use .values instead.\n",
            "  \"\"\"Entry point for launching an IPython kernel.\n"
          ],
          "name": "stderr"
        }
      ]
    },
    {
      "cell_type": "code",
      "metadata": {
        "id": "nYnKIbEyh2aP",
        "colab_type": "code",
        "colab": {}
      },
      "source": [
        "true={}\n",
        "false={}\n",
        "not_detected={}\n",
        "for x in range(len(y_test_arr)):\n",
        "    if y_test_arr[x]==yhat[x]:\n",
        "      if y_test_arr[x] in true:\n",
        "        true[y_test_arr[x]]=true[y_test_arr[x]]+1\n",
        "      else:\n",
        "        true[y_test_arr[x]]=1\n",
        "    elif y_test_arr[x]!=yhat[x]:\n",
        "      if yhat[x] in false:\n",
        "        false[yhat[x]]=false[yhat[x]]+1\n",
        "\n",
        "        if y_test_arr[x] in not_detected:\n",
        "          not_detected[y_test_arr[x]]=not_detected[y_test_arr[x]]+1\n",
        "        else:\n",
        "          not_detected[y_test_arr[x]]=1\n",
        "\n",
        "      else:\n",
        "        false[yhat[x]]=1\n",
        "\n",
        "        if y_test_arr[x] in not_detected:\n",
        "          not_detected[y_test_arr[x]]=not_detected[y_test_arr[x]]+1\n",
        "        else:\n",
        "          not_detected[y_test_arr[x]]=1"
      ],
      "execution_count": 0,
      "outputs": []
    },
    {
      "cell_type": "code",
      "metadata": {
        "id": "LTLAXFtdj0-R",
        "colab_type": "code",
        "outputId": "e5f453cc-75c4-4165-9c5d-196f5a282b3a",
        "colab": {
          "base_uri": "https://localhost:8080/",
          "height": 225
        }
      },
      "source": [
        "true"
      ],
      "execution_count": 0,
      "outputs": [
        {
          "output_type": "execute_result",
          "data": {
            "text/plain": [
              "{'BENIGN': 450872,\n",
              " 'Bot': 156,\n",
              " 'DDoS': 25475,\n",
              " 'DoS GoldenEye': 1959,\n",
              " 'DoS Hulk': 41791,\n",
              " 'DoS Slowhttptest': 1032,\n",
              " 'DoS slowloris': 1127,\n",
              " 'FTP-Patator': 1536,\n",
              " 'PortScan': 31695,\n",
              " 'SSH-Patator': 611,\n",
              " 'Web Attack-Brute Force': 243,\n",
              " 'Web Attack-XSS': 19}"
            ]
          },
          "metadata": {
            "tags": []
          },
          "execution_count": 25
        }
      ]
    },
    {
      "cell_type": "code",
      "metadata": {
        "id": "5M_94TkflXT7",
        "colab_type": "code",
        "outputId": "5afac64f-ee3d-45ac-fc03-5ab981beeae3",
        "colab": {
          "base_uri": "https://localhost:8080/",
          "height": 225
        }
      },
      "source": [
        "false"
      ],
      "execution_count": 0,
      "outputs": [
        {
          "output_type": "execute_result",
          "data": {
            "text/plain": [
              "{'BENIGN': 5575,\n",
              " 'Bot': 24,\n",
              " 'DDoS': 120,\n",
              " 'DoS GoldenEye': 122,\n",
              " 'DoS Hulk': 2939,\n",
              " 'DoS Slowhttptest': 86,\n",
              " 'DoS slowloris': 42,\n",
              " 'FTP-Patator': 12,\n",
              " 'PortScan': 325,\n",
              " 'SSH-Patator': 1,\n",
              " 'Web Attack-Brute Force': 88,\n",
              " 'Web Attack-XSS': 27}"
            ]
          },
          "metadata": {
            "tags": []
          },
          "execution_count": 26
        }
      ]
    },
    {
      "cell_type": "code",
      "metadata": {
        "id": "uq55eLpJwg-y",
        "colab_type": "code",
        "outputId": "131de261-733e-4c78-ee51-d615fb9ac939",
        "colab": {
          "base_uri": "https://localhost:8080/",
          "height": 278
        }
      },
      "source": [
        "not_detected"
      ],
      "execution_count": 0,
      "outputs": [
        {
          "output_type": "execute_result",
          "data": {
            "text/plain": [
              "{'BENIGN': 3622,\n",
              " 'Bot': 212,\n",
              " 'DDoS': 59,\n",
              " 'DoS GoldenEye': 81,\n",
              " 'DoS Hulk': 4500,\n",
              " 'DoS Slowhttptest': 16,\n",
              " 'DoS slowloris': 35,\n",
              " 'FTP-Patator': 31,\n",
              " 'Heartbleed': 2,\n",
              " 'Infiltration': 8,\n",
              " 'PortScan': 47,\n",
              " 'SSH-Patator': 596,\n",
              " 'Web Attack-Brute Force': 58,\n",
              " 'Web Attack-Sql Injection': 5,\n",
              " 'Web Attack-XSS': 89}"
            ]
          },
          "metadata": {
            "tags": []
          },
          "execution_count": 27
        }
      ]
    },
    {
      "cell_type": "code",
      "metadata": {
        "id": "EArFIR4QybKL",
        "colab_type": "code",
        "colab": {}
      },
      "source": [
        "# y_hat= saved model output\n",
        "true_benign=0\n",
        "true_ftp=0\n",
        "true_ssh=0\n",
        "false_benign=0\n",
        "false_ftp=0\n",
        "false_ssh=0\n",
        "\n",
        "for x in range(len(y_test_arr)):\n",
        "    \n",
        "    if y_hat[x]==\"BENIGN\":\n",
        "        if y_hat[x]==y_test_arr[x]:\n",
        "            true_benign=true_benign+1\n",
        "        else:\n",
        "            false_benign=false_benign+1\n",
        "            \n",
        "    elif y_hat[x]==\"FTP-Patator\":\n",
        "        \n",
        "        if y_hat[x]==y_test_arr[x]:\n",
        "            true_ftp=true_ftp+1\n",
        "        else:\n",
        "            false_ftp=false_ftp+1\n",
        "            \n",
        "    elif y_hat[x]==\"SSH-Patator\":\n",
        "        if y_hat[x]==y_test_arr[x]:\n",
        "            true_ssh=true_ssh+1\n",
        "        else:\n",
        "            false_ssh=false_ssh+1\n",
        "            \n",
        "print(\"true benign  ::: \", true_benign )\n",
        "print(\"true ftp  ::: \", true_ftp )\n",
        "print(\"true ssh  ::: \", true_ssh )\n",
        "print(\"false benign  ::: \", false_benign )\n",
        "print(\"false ftp ::: \", false_ftp )\n",
        "print(\"fasle ssh  ::: \", false_ssh )"
      ],
      "execution_count": 0,
      "outputs": []
    },
    {
      "cell_type": "markdown",
      "metadata": {
        "id": "wkgkg15aybKQ",
        "colab_type": "text"
      },
      "source": [
        "## Visualization of results"
      ]
    },
    {
      "cell_type": "markdown",
      "metadata": {
        "id": "HOjurJ7IybKR",
        "colab_type": "text"
      },
      "source": [
        "### 1. Pie Chart"
      ]
    },
    {
      "cell_type": "code",
      "metadata": {
        "id": "iXvX-A60ybKT",
        "colab_type": "code",
        "colab": {}
      },
      "source": [
        "ser={}\n",
        "ser['true_benign']=true_benign\n",
        "ser['true ftp']=true_ftp\n",
        "ser['true ssh']=true_ssh\n",
        "ser['false benign']=false_benign\n",
        "ser['false ftp']=false_ftp\n",
        "ser['false ssh']=false_ssh"
      ],
      "execution_count": 0,
      "outputs": []
    },
    {
      "cell_type": "code",
      "metadata": {
        "id": "ZuJIgEIlybKY",
        "colab_type": "code",
        "colab": {}
      },
      "source": [
        "series = pd.Series(ser) \n"
      ],
      "execution_count": 0,
      "outputs": []
    },
    {
      "cell_type": "code",
      "metadata": {
        "id": "FtO329vLybKd",
        "colab_type": "code",
        "colab": {}
      },
      "source": [
        "colors_list = ['skyblue', 'yellowgreen', 'red', 'pink', 'black', 'blue']\n",
        "explode_list = [0, 0.1, 0, 0.4, 0.6, 0.8] # ratio for each continent with which to offset each wedge.\n",
        "\n",
        "series.plot(kind='pie',\n",
        "                            figsize=(8, 10),\n",
        "                            autopct='%1.1f%%',\n",
        "                            startangle=25,# add in percentages\n",
        "#                           shadow=False,\n",
        "                            labels=None,\n",
        "                            pctdistance=1.12, \n",
        "                            explode=explode_list,\n",
        "                            colors=colors_list,  # add custom colors\n",
        "\n",
        "           )\n",
        "\n",
        "plt.title('KNN results ', y=1.12) \n",
        "\n",
        "plt.axis('equal') \n",
        "\n",
        "# add legend\n",
        "plt.legend(labels=series.index, loc='upper right') \n",
        "\n",
        "plt.show()"
      ],
      "execution_count": 0,
      "outputs": []
    },
    {
      "cell_type": "markdown",
      "metadata": {
        "id": "80vM6RdNybKi",
        "colab_type": "text"
      },
      "source": [
        "#### Pie chart with TP,FP,TN,FN"
      ]
    },
    {
      "cell_type": "code",
      "metadata": {
        "id": "-yzU2rNbybKk",
        "colab_type": "code",
        "colab": {}
      },
      "source": [
        "ser3={}\n",
        "ser3['true positive']=true_ftp+true_ssh\n",
        "ser3['true negative']=true_benign\n",
        "ser3['false positive']=false_ftp+false_ssh\n",
        "ser3['false negative']=false_benign"
      ],
      "execution_count": 0,
      "outputs": []
    },
    {
      "cell_type": "code",
      "metadata": {
        "id": "T2trLk0YybKq",
        "colab_type": "code",
        "colab": {}
      },
      "source": [
        "series3 = pd.Series(ser3) \n"
      ],
      "execution_count": 0,
      "outputs": []
    },
    {
      "cell_type": "code",
      "metadata": {
        "id": "5oDxaEsEybKw",
        "colab_type": "code",
        "colab": {}
      },
      "source": [
        "colors_list = ['red', 'gray','black', 'skyblue' ]\n",
        "explode_list = [0, 0.2, 0.8, 0.4] # ratio for each continent with which to offset each wedge.\n",
        "\n",
        "series3.plot(kind='pie',\n",
        "                            figsize=(8, 10),\n",
        "                            autopct='%1.1f%%',\n",
        "                            startangle=25,# add in percentages\n",
        "#                           shadow=False,\n",
        "                            labels=None,\n",
        "                            pctdistance=1.12, \n",
        "                            explode=explode_list,\n",
        "                            colors=colors_list,  # add custom colors\n",
        "\n",
        "           )\n",
        "\n",
        "plt.title('KNN results ', y=1.12) \n",
        "\n",
        "plt.axis('equal') \n",
        "\n",
        "# add legend\n",
        "plt.legend(labels=series3.index, loc='upper right') \n",
        "\n",
        "plt.show()"
      ],
      "execution_count": 0,
      "outputs": []
    },
    {
      "cell_type": "code",
      "metadata": {
        "id": "JoMGcLf9Ng25",
        "colab_type": "code",
        "colab": {}
      },
      "source": [
        ""
      ],
      "execution_count": 0,
      "outputs": []
    }
  ]
}