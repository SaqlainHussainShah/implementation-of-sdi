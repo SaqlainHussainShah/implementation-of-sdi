{
 "cells": [
  {
   "cell_type": "code",
   "execution_count": 1,
   "metadata": {},
   "outputs": [],
   "source": [
    "import pandas as pd\n",
    "# import time"
   ]
  },
  {
   "cell_type": "code",
   "execution_count": 5,
   "metadata": {},
   "outputs": [
    {
     "name": "stderr",
     "output_type": "stream",
     "text": [
      "/home/ebryx/anaconda3/lib/python3.7/site-packages/IPython/core/interactiveshell.py:3058: DtypeWarning: Columns (20,21) have mixed types. Specify dtype option on import or set low_memory=False.\n",
      "  interactivity=interactivity, compiler=compiler, result=result)\n"
     ]
    }
   ],
   "source": [
    "path=\"../dataset/TrafficLabelling /Friday-WorkingHours-Afternoon-DDos.pcap_ISCX.csv\"\n",
    "# t1=time.time()\n",
    "df_tuesday=pd.read_csv(path)"
   ]
  },
  {
   "cell_type": "code",
   "execution_count": 6,
   "metadata": {},
   "outputs": [
    {
     "data": {
      "text/plain": [
       "85"
      ]
     },
     "execution_count": 6,
     "metadata": {},
     "output_type": "execute_result"
    }
   ],
   "source": [
    "len(df_tuesday.columns)"
   ]
  },
  {
   "cell_type": "code",
   "execution_count": 4,
   "metadata": {},
   "outputs": [
    {
     "name": "stdout",
     "output_type": "stream",
     "text": [
      "5.747849702835083 seconds\n"
     ]
    },
    {
     "data": {
      "text/html": [
       "<div>\n",
       "<style scoped>\n",
       "    .dataframe tbody tr th:only-of-type {\n",
       "        vertical-align: middle;\n",
       "    }\n",
       "\n",
       "    .dataframe tbody tr th {\n",
       "        vertical-align: top;\n",
       "    }\n",
       "\n",
       "    .dataframe thead th {\n",
       "        text-align: right;\n",
       "    }\n",
       "</style>\n",
       "<table border=\"1\" class=\"dataframe\">\n",
       "  <thead>\n",
       "    <tr style=\"text-align: right;\">\n",
       "      <th></th>\n",
       "      <th>Destination Port</th>\n",
       "      <th>Flow Duration</th>\n",
       "      <th>Total Fwd Packets</th>\n",
       "      <th>Total Backward Packets</th>\n",
       "      <th>Total Length of Fwd Packets</th>\n",
       "      <th>Total Length of Bwd Packets</th>\n",
       "      <th>Fwd Packet Length Max</th>\n",
       "      <th>Fwd Packet Length Min</th>\n",
       "      <th>Fwd Packet Length Mean</th>\n",
       "      <th>Fwd Packet Length Std</th>\n",
       "      <th>...</th>\n",
       "      <th>act_data_pkt_fwd</th>\n",
       "      <th>min_seg_size_forward</th>\n",
       "      <th>Active Mean</th>\n",
       "      <th>Active Std</th>\n",
       "      <th>Active Max</th>\n",
       "      <th>Active Min</th>\n",
       "      <th>Idle Mean</th>\n",
       "      <th>Idle Std</th>\n",
       "      <th>Idle Max</th>\n",
       "      <th>Idle Min</th>\n",
       "    </tr>\n",
       "  </thead>\n",
       "  <tbody>\n",
       "    <tr>\n",
       "      <td>count</td>\n",
       "      <td>529918.000000</td>\n",
       "      <td>5.299180e+05</td>\n",
       "      <td>529918.000000</td>\n",
       "      <td>529918.000000</td>\n",
       "      <td>5.299180e+05</td>\n",
       "      <td>5.299180e+05</td>\n",
       "      <td>529918.000000</td>\n",
       "      <td>529918.000000</td>\n",
       "      <td>529918.000000</td>\n",
       "      <td>529918.000000</td>\n",
       "      <td>...</td>\n",
       "      <td>529918.000000</td>\n",
       "      <td>5.299180e+05</td>\n",
       "      <td>5.299180e+05</td>\n",
       "      <td>5.299180e+05</td>\n",
       "      <td>5.299180e+05</td>\n",
       "      <td>5.299180e+05</td>\n",
       "      <td>5.299180e+05</td>\n",
       "      <td>5.299180e+05</td>\n",
       "      <td>5.299180e+05</td>\n",
       "      <td>5.299180e+05</td>\n",
       "    </tr>\n",
       "    <tr>\n",
       "      <td>mean</td>\n",
       "      <td>10644.367112</td>\n",
       "      <td>1.038927e+07</td>\n",
       "      <td>10.390315</td>\n",
       "      <td>11.517105</td>\n",
       "      <td>5.324195e+02</td>\n",
       "      <td>1.789841e+04</td>\n",
       "      <td>190.897188</td>\n",
       "      <td>20.277279</td>\n",
       "      <td>50.744078</td>\n",
       "      <td>57.452269</td>\n",
       "      <td>...</td>\n",
       "      <td>7.412509</td>\n",
       "      <td>-3.614576e+03</td>\n",
       "      <td>6.843482e+04</td>\n",
       "      <td>4.321930e+04</td>\n",
       "      <td>1.453907e+05</td>\n",
       "      <td>4.380369e+04</td>\n",
       "      <td>3.463918e+06</td>\n",
       "      <td>2.024408e+05</td>\n",
       "      <td>3.620657e+06</td>\n",
       "      <td>3.274066e+06</td>\n",
       "    </tr>\n",
       "    <tr>\n",
       "      <td>std</td>\n",
       "      <td>21390.213475</td>\n",
       "      <td>2.875195e+07</td>\n",
       "      <td>892.412791</td>\n",
       "      <td>1173.318788</td>\n",
       "      <td>6.228642e+03</td>\n",
       "      <td>2.675470e+06</td>\n",
       "      <td>448.833754</td>\n",
       "      <td>36.275793</td>\n",
       "      <td>91.964713</td>\n",
       "      <td>146.518081</td>\n",
       "      <td>...</td>\n",
       "      <td>851.762351</td>\n",
       "      <td>5.526328e+05</td>\n",
       "      <td>5.872322e+05</td>\n",
       "      <td>3.971455e+05</td>\n",
       "      <td>1.028606e+06</td>\n",
       "      <td>4.993677e+05</td>\n",
       "      <td>1.297057e+07</td>\n",
       "      <td>2.170149e+06</td>\n",
       "      <td>1.340649e+07</td>\n",
       "      <td>1.273216e+07</td>\n",
       "    </tr>\n",
       "    <tr>\n",
       "      <td>min</td>\n",
       "      <td>0.000000</td>\n",
       "      <td>-1.000000e+00</td>\n",
       "      <td>1.000000</td>\n",
       "      <td>0.000000</td>\n",
       "      <td>0.000000e+00</td>\n",
       "      <td>0.000000e+00</td>\n",
       "      <td>0.000000</td>\n",
       "      <td>0.000000</td>\n",
       "      <td>0.000000</td>\n",
       "      <td>0.000000</td>\n",
       "      <td>...</td>\n",
       "      <td>0.000000</td>\n",
       "      <td>-8.388531e+07</td>\n",
       "      <td>0.000000e+00</td>\n",
       "      <td>0.000000e+00</td>\n",
       "      <td>0.000000e+00</td>\n",
       "      <td>0.000000e+00</td>\n",
       "      <td>0.000000e+00</td>\n",
       "      <td>0.000000e+00</td>\n",
       "      <td>0.000000e+00</td>\n",
       "      <td>0.000000e+00</td>\n",
       "    </tr>\n",
       "    <tr>\n",
       "      <td>25%</td>\n",
       "      <td>53.000000</td>\n",
       "      <td>1.760000e+02</td>\n",
       "      <td>2.000000</td>\n",
       "      <td>1.000000</td>\n",
       "      <td>1.800000e+01</td>\n",
       "      <td>0.000000e+00</td>\n",
       "      <td>6.000000</td>\n",
       "      <td>0.000000</td>\n",
       "      <td>6.000000</td>\n",
       "      <td>0.000000</td>\n",
       "      <td>...</td>\n",
       "      <td>0.000000</td>\n",
       "      <td>2.000000e+01</td>\n",
       "      <td>0.000000e+00</td>\n",
       "      <td>0.000000e+00</td>\n",
       "      <td>0.000000e+00</td>\n",
       "      <td>0.000000e+00</td>\n",
       "      <td>0.000000e+00</td>\n",
       "      <td>0.000000e+00</td>\n",
       "      <td>0.000000e+00</td>\n",
       "      <td>0.000000e+00</td>\n",
       "    </tr>\n",
       "    <tr>\n",
       "      <td>50%</td>\n",
       "      <td>80.000000</td>\n",
       "      <td>3.130300e+04</td>\n",
       "      <td>2.000000</td>\n",
       "      <td>2.000000</td>\n",
       "      <td>6.800000e+01</td>\n",
       "      <td>1.440000e+02</td>\n",
       "      <td>40.000000</td>\n",
       "      <td>6.000000</td>\n",
       "      <td>38.000000</td>\n",
       "      <td>0.000000</td>\n",
       "      <td>...</td>\n",
       "      <td>1.000000</td>\n",
       "      <td>3.200000e+01</td>\n",
       "      <td>0.000000e+00</td>\n",
       "      <td>0.000000e+00</td>\n",
       "      <td>0.000000e+00</td>\n",
       "      <td>0.000000e+00</td>\n",
       "      <td>0.000000e+00</td>\n",
       "      <td>0.000000e+00</td>\n",
       "      <td>0.000000e+00</td>\n",
       "      <td>0.000000e+00</td>\n",
       "    </tr>\n",
       "    <tr>\n",
       "      <td>75%</td>\n",
       "      <td>443.000000</td>\n",
       "      <td>3.557448e+05</td>\n",
       "      <td>4.000000</td>\n",
       "      <td>3.000000</td>\n",
       "      <td>1.870000e+02</td>\n",
       "      <td>3.920000e+02</td>\n",
       "      <td>83.000000</td>\n",
       "      <td>40.000000</td>\n",
       "      <td>53.000000</td>\n",
       "      <td>26.162951</td>\n",
       "      <td>...</td>\n",
       "      <td>3.000000</td>\n",
       "      <td>3.200000e+01</td>\n",
       "      <td>0.000000e+00</td>\n",
       "      <td>0.000000e+00</td>\n",
       "      <td>0.000000e+00</td>\n",
       "      <td>0.000000e+00</td>\n",
       "      <td>0.000000e+00</td>\n",
       "      <td>0.000000e+00</td>\n",
       "      <td>0.000000e+00</td>\n",
       "      <td>0.000000e+00</td>\n",
       "    </tr>\n",
       "    <tr>\n",
       "      <td>max</td>\n",
       "      <td>65535.000000</td>\n",
       "      <td>1.200000e+08</td>\n",
       "      <td>219759.000000</td>\n",
       "      <td>291922.000000</td>\n",
       "      <td>1.323378e+06</td>\n",
       "      <td>6.554530e+08</td>\n",
       "      <td>23360.000000</td>\n",
       "      <td>2293.000000</td>\n",
       "      <td>4638.923469</td>\n",
       "      <td>7125.596846</td>\n",
       "      <td>...</td>\n",
       "      <td>213557.000000</td>\n",
       "      <td>1.260000e+02</td>\n",
       "      <td>1.016597e+08</td>\n",
       "      <td>6.434950e+07</td>\n",
       "      <td>1.016597e+08</td>\n",
       "      <td>1.016597e+08</td>\n",
       "      <td>1.199997e+08</td>\n",
       "      <td>7.514502e+07</td>\n",
       "      <td>1.199997e+08</td>\n",
       "      <td>1.199997e+08</td>\n",
       "    </tr>\n",
       "  </tbody>\n",
       "</table>\n",
       "<p>8 rows × 76 columns</p>\n",
       "</div>"
      ],
      "text/plain": [
       "        Destination Port   Flow Duration   Total Fwd Packets  \\\n",
       "count      529918.000000    5.299180e+05       529918.000000   \n",
       "mean        10644.367112    1.038927e+07           10.390315   \n",
       "std         21390.213475    2.875195e+07          892.412791   \n",
       "min             0.000000   -1.000000e+00            1.000000   \n",
       "25%            53.000000    1.760000e+02            2.000000   \n",
       "50%            80.000000    3.130300e+04            2.000000   \n",
       "75%           443.000000    3.557448e+05            4.000000   \n",
       "max         65535.000000    1.200000e+08       219759.000000   \n",
       "\n",
       "        Total Backward Packets  Total Length of Fwd Packets  \\\n",
       "count            529918.000000                 5.299180e+05   \n",
       "mean                 11.517105                 5.324195e+02   \n",
       "std                1173.318788                 6.228642e+03   \n",
       "min                   0.000000                 0.000000e+00   \n",
       "25%                   1.000000                 1.800000e+01   \n",
       "50%                   2.000000                 6.800000e+01   \n",
       "75%                   3.000000                 1.870000e+02   \n",
       "max              291922.000000                 1.323378e+06   \n",
       "\n",
       "        Total Length of Bwd Packets   Fwd Packet Length Max  \\\n",
       "count                  5.299180e+05           529918.000000   \n",
       "mean                   1.789841e+04              190.897188   \n",
       "std                    2.675470e+06              448.833754   \n",
       "min                    0.000000e+00                0.000000   \n",
       "25%                    0.000000e+00                6.000000   \n",
       "50%                    1.440000e+02               40.000000   \n",
       "75%                    3.920000e+02               83.000000   \n",
       "max                    6.554530e+08            23360.000000   \n",
       "\n",
       "        Fwd Packet Length Min   Fwd Packet Length Mean  \\\n",
       "count           529918.000000            529918.000000   \n",
       "mean                20.277279                50.744078   \n",
       "std                 36.275793                91.964713   \n",
       "min                  0.000000                 0.000000   \n",
       "25%                  0.000000                 6.000000   \n",
       "50%                  6.000000                38.000000   \n",
       "75%                 40.000000                53.000000   \n",
       "max               2293.000000              4638.923469   \n",
       "\n",
       "        Fwd Packet Length Std  ...   act_data_pkt_fwd   min_seg_size_forward  \\\n",
       "count           529918.000000  ...      529918.000000           5.299180e+05   \n",
       "mean                57.452269  ...           7.412509          -3.614576e+03   \n",
       "std                146.518081  ...         851.762351           5.526328e+05   \n",
       "min                  0.000000  ...           0.000000          -8.388531e+07   \n",
       "25%                  0.000000  ...           0.000000           2.000000e+01   \n",
       "50%                  0.000000  ...           1.000000           3.200000e+01   \n",
       "75%                 26.162951  ...           3.000000           3.200000e+01   \n",
       "max               7125.596846  ...      213557.000000           1.260000e+02   \n",
       "\n",
       "        Active Mean    Active Std    Active Max    Active Min     Idle Mean  \\\n",
       "count  5.299180e+05  5.299180e+05  5.299180e+05  5.299180e+05  5.299180e+05   \n",
       "mean   6.843482e+04  4.321930e+04  1.453907e+05  4.380369e+04  3.463918e+06   \n",
       "std    5.872322e+05  3.971455e+05  1.028606e+06  4.993677e+05  1.297057e+07   \n",
       "min    0.000000e+00  0.000000e+00  0.000000e+00  0.000000e+00  0.000000e+00   \n",
       "25%    0.000000e+00  0.000000e+00  0.000000e+00  0.000000e+00  0.000000e+00   \n",
       "50%    0.000000e+00  0.000000e+00  0.000000e+00  0.000000e+00  0.000000e+00   \n",
       "75%    0.000000e+00  0.000000e+00  0.000000e+00  0.000000e+00  0.000000e+00   \n",
       "max    1.016597e+08  6.434950e+07  1.016597e+08  1.016597e+08  1.199997e+08   \n",
       "\n",
       "           Idle Std      Idle Max      Idle Min  \n",
       "count  5.299180e+05  5.299180e+05  5.299180e+05  \n",
       "mean   2.024408e+05  3.620657e+06  3.274066e+06  \n",
       "std    2.170149e+06  1.340649e+07  1.273216e+07  \n",
       "min    0.000000e+00  0.000000e+00  0.000000e+00  \n",
       "25%    0.000000e+00  0.000000e+00  0.000000e+00  \n",
       "50%    0.000000e+00  0.000000e+00  0.000000e+00  \n",
       "75%    0.000000e+00  0.000000e+00  0.000000e+00  \n",
       "max    7.514502e+07  1.199997e+08  1.199997e+08  \n",
       "\n",
       "[8 rows x 76 columns]"
      ]
     },
     "execution_count": 4,
     "metadata": {},
     "output_type": "execute_result"
    }
   ],
   "source": [
    "t1=time.time()\n",
    "df1=pd.read_csv(\"../dataset/MachineLearningCVE/Monday-WorkingHours.pcap_ISCX.csv\")\n",
    "# df2=pd.read_csv(\"../dataset/MachineLearningCVE/Tuesday-WorkingHours.pcap_ISCX.csv\")\n",
    "t2=time.time()\n",
    "time1=t2-t1\n",
    "\n",
    "print(time1, \"seconds\")\n",
    "df1.describe()"
   ]
  },
  {
   "cell_type": "code",
   "execution_count": 6,
   "metadata": {},
   "outputs": [
    {
     "name": "stdout",
     "output_type": "stream",
     "text": [
      "79\n"
     ]
    }
   ],
   "source": [
    "print(len(df1.columns))"
   ]
  },
  {
   "cell_type": "code",
   "execution_count": 5,
   "metadata": {},
   "outputs": [
    {
     "name": "stdout",
     "output_type": "stream",
     "text": [
      "2.8863818645477295 seconds\n"
     ]
    }
   ],
   "source": [
    "t3=time.time()\n",
    "# df3=pd.read_csv(\"../dataset/MachineLearningCVE/Wednesday-workingHours.pcap_ISCX.csv\")\n",
    "df4=pd.read_csv(\"../dataset/MachineLearningCVE/Thursday-WorkingHours-Morning-WebAttacks.pcap_ISCX.csv\")\n",
    "t4=time.time()\n",
    "time3=t4-t3\n",
    "\n",
    "print(time3, \"seconds\")"
   ]
  },
  {
   "cell_type": "code",
   "execution_count": 7,
   "metadata": {},
   "outputs": [
    {
     "name": "stdout",
     "output_type": "stream",
     "text": [
      "79\n"
     ]
    }
   ],
   "source": [
    "print(len(df4.columns))"
   ]
  },
  {
   "cell_type": "code",
   "execution_count": 10,
   "metadata": {},
   "outputs": [
    {
     "name": "stdout",
     "output_type": "stream",
     "text": [
      "4.29309868812561\n"
     ]
    }
   ],
   "source": [
    "t5=time.time()\n",
    "df5=pd.read_csv(\"../dataset/MachineLearningCVE/Thursday-WorkingHours-Afternoon-Infilteration.pcap_ISCX.csv\")\n",
    "df6=pd.read_csv(\"../dataset/MachineLearningCVE/Friday-WorkingHours-Morning.pcap_ISCX.csv\")\n",
    "t6=time.time()\n",
    "time5=t6-t5\n",
    "\n",
    "print(time5, \"seconds\")"
   ]
  },
  {
   "cell_type": "code",
   "execution_count": 9,
   "metadata": {},
   "outputs": [
    {
     "name": "stderr",
     "output_type": "stream",
     "text": [
      "/home/ebryx/anaconda3/lib/python3.7/site-packages/IPython/core/interactiveshell.py:3058: DtypeWarning: Columns (14,15) have mixed types. Specify dtype option on import or set low_memory=False.\n",
      "  interactivity=interactivity, compiler=compiler, result=result)\n"
     ]
    },
    {
     "name": "stdout",
     "output_type": "stream",
     "text": [
      "4.5010035037994385\n"
     ]
    }
   ],
   "source": [
    "t7=time.time()\n",
    "df7=pd.read_csv(\"../dataset/MachineLearningCVE/Friday-WorkingHours-Afternoon-DDos.pcap_ISCX.csv\")\n",
    "df8=pd.read_csv(\"../dataset/MachineLearningCVE/Friday-WorkingHours-Afternoon-PortScan.pcap_ISCX.csv\")\n",
    "t8=time.time()\n",
    "time7=t8-t7\n",
    "print(time7)"
   ]
  },
  {
   "cell_type": "code",
   "execution_count": 7,
   "metadata": {},
   "outputs": [],
   "source": [
    "ts=time.time()\n",
    "df_combined=pd.concat([df1,df2,df3,df4,df5,df6,df7,df8])\n",
    "tf=time.time()\n",
    "time_combined=tf-ts"
   ]
  },
  {
   "cell_type": "code",
   "execution_count": 8,
   "metadata": {},
   "outputs": [
    {
     "name": "stdout",
     "output_type": "stream",
     "text": [
      "1.2746531963348389\n"
     ]
    }
   ],
   "source": [
    "print(time_combined)"
   ]
  },
  {
   "cell_type": "code",
   "execution_count": null,
   "metadata": {},
   "outputs": [],
   "source": []
  }
 ],
 "metadata": {
  "kernelspec": {
   "display_name": "Python 3",
   "language": "python",
   "name": "python3"
  },
  "language_info": {
   "codemirror_mode": {
    "name": "ipython",
    "version": 3
   },
   "file_extension": ".py",
   "mimetype": "text/x-python",
   "name": "python",
   "nbconvert_exporter": "python",
   "pygments_lexer": "ipython3",
   "version": "3.7.4"
  }
 },
 "nbformat": 4,
 "nbformat_minor": 2
}
