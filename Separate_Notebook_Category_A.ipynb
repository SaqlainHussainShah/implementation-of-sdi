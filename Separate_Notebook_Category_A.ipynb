{
  "nbformat": 4,
  "nbformat_minor": 0,
  "metadata": {
    "colab": {
      "name": "Copy of Separate Notebook A.ipynb",
      "provenance": [],
      "collapsed_sections": [],
      "include_colab_link": true
    },
    "kernelspec": {
      "name": "python3",
      "display_name": "Python 3"
    },
    "accelerator": "GPU"
  },
  "cells": [
    {
      "cell_type": "markdown",
      "metadata": {
        "id": "view-in-github",
        "colab_type": "text"
      },
      "source": [
        "<a href=\"https://colab.research.google.com/github/SaqlainHussainShah/implementation-of-sdi/blob/master/Separate_Notebook_Category_A.ipynb\" target=\"_parent\"><img src=\"https://colab.research.google.com/assets/colab-badge.svg\" alt=\"Open In Colab\"/></a>"
      ]
    },
    {
      "cell_type": "markdown",
      "metadata": {
        "id": "3bd2vXMeSx6s",
        "colab_type": "text"
      },
      "source": [
        "# Steps for implementation\n",
        "#### Reading CSV\n",
        "#### Data Description\n",
        "#### Data Cleaning\n",
        "#### Data Normalization\n",
        "#### Features\n",
        "#### Applying KNN and NB\n",
        "#### Confusion Matrix"
      ]
    },
    {
      "cell_type": "code",
      "metadata": {
        "id": "O46P3metTaPc",
        "colab_type": "code",
        "colab": {}
      },
      "source": [
        "#Importing Necessary Modules\n",
        "import pandas as pd\n",
        "import matplotlib.pyplot as plt\n",
        "import numpy as np\n",
        "import time\n",
        "from sklearn.metrics import accuracy_score"
      ],
      "execution_count": 0,
      "outputs": []
    },
    {
      "cell_type": "markdown",
      "metadata": {
        "id": "WD1b7cY4TSU7",
        "colab_type": "text"
      },
      "source": [
        "### Reading CSV"
      ]
    },
    {
      "cell_type": "code",
      "metadata": {
        "id": "4vVz_jcYTQUQ",
        "colab_type": "code",
        "outputId": "46adf0ca-081b-4236-dadc-afb25b6e7013",
        "colab": {
          "base_uri": "https://localhost:8080/",
          "height": 54
        }
      },
      "source": [
        "from google.colab import drive\n",
        "drive.mount('/content/drive')"
      ],
      "execution_count": 2,
      "outputs": [
        {
          "output_type": "stream",
          "text": [
            "Drive already mounted at /content/drive; to attempt to forcibly remount, call drive.mount(\"/content/drive\", force_remount=True).\n"
          ],
          "name": "stdout"
        }
      ]
    },
    {
      "cell_type": "code",
      "metadata": {
        "id": "JIfpjgFOTj7I",
        "colab_type": "code",
        "outputId": "1989e3e9-814f-4adc-a63d-e5593a57b377",
        "colab": {
          "base_uri": "https://localhost:8080/",
          "height": 106
        }
      },
      "source": [
        "df1=pd.read_csv(\"/content/drive/My Drive/Friday-WorkingHours-Afternoon-DDos.pcap_ISCX.csv\")\n",
        "df2=pd.read_csv(\"/content/drive/My Drive/Friday-WorkingHours-Afternoon-PortScan.pcap_ISCX.csv\")\n",
        "df3=pd.read_csv(\"/content/drive/My Drive/Friday-WorkingHours-Morning.pcap_ISCX.csv\")\n",
        "df4=pd.read_csv(\"/content/drive/My Drive/Monday-WorkingHours.pcap_ISCX.csv\")\n",
        "df5=pd.read_csv(\"/content/drive/My Drive/Thursday-WorkingHours-Afternoon-Infilteration.pcap_ISCX.csv\")\n",
        "df6=pd.read_csv(\"/content/drive/My Drive/Thursday-WorkingHours-Morning-WebAttacks.pcap_ISCX.csv\")\n",
        "df7=pd.read_csv(\"/content/drive/My Drive/Tuesday-WorkingHours.pcap_ISCX.csv\")\n",
        "df8=pd.read_csv(\"/content/drive/My Drive/Wednesday-workingHours.pcap_ISCX.csv\")\n"
      ],
      "execution_count": 48,
      "outputs": [
        {
          "output_type": "stream",
          "text": [
            "/usr/local/lib/python3.6/dist-packages/IPython/core/interactiveshell.py:2718: DtypeWarning: Columns (20,21) have mixed types. Specify dtype option on import or set low_memory=False.\n",
            "  interactivity=interactivity, compiler=compiler, result=result)\n",
            "/usr/local/lib/python3.6/dist-packages/IPython/core/interactiveshell.py:2718: DtypeWarning: Columns (20) have mixed types. Specify dtype option on import or set low_memory=False.\n",
            "  interactivity=interactivity, compiler=compiler, result=result)\n"
          ],
          "name": "stderr"
        }
      ]
    },
    {
      "cell_type": "code",
      "metadata": {
        "id": "SRElBp73VFOY",
        "colab_type": "code",
        "colab": {}
      },
      "source": [
        "df=pd.concat([df1,df2,df3,df4,df5,df6,df7,df8])"
      ],
      "execution_count": 0,
      "outputs": []
    },
    {
      "cell_type": "code",
      "metadata": {
        "id": "1uGFWgKaVVgO",
        "colab_type": "code",
        "colab": {}
      },
      "source": [
        "del df1,df2,df3,df4,df5,df6,df7,df8\n"
      ],
      "execution_count": 0,
      "outputs": []
    },
    {
      "cell_type": "code",
      "metadata": {
        "id": "rKO9HBniidpL",
        "colab_type": "code",
        "colab": {}
      },
      "source": [
        "# category A attacks\n",
        "df_bot=df[df[' Label']=='Bot']\n",
        "df_ddos=df[df[' Label']=='DDoS']\n",
        "df_golden_eye=df[df[' Label']=='DoS GoldenEye']\n",
        "df_hulk=df[df[' Label']=='DoS Hulk']\n",
        "df_ssh_patator=df[df[' Label']=='SSH-Patator']\n",
        "df_ftp_patator=df[df[' Label']=='FTP-Patator']\n",
        "#df_infiltration=df[df[' Label']=='Infiltration']"
      ],
      "execution_count": 0,
      "outputs": []
    },
    {
      "cell_type": "code",
      "metadata": {
        "id": "SFkUfzNAjYs1",
        "colab_type": "code",
        "colab": {}
      },
      "source": [
        "# benign data\n",
        "df_benign=df[df[' Label']=='BENIGN']"
      ],
      "execution_count": 0,
      "outputs": []
    },
    {
      "cell_type": "code",
      "metadata": {
        "id": "v6i51BJskggR",
        "colab_type": "code",
        "colab": {
          "base_uri": "https://localhost:8080/",
          "height": 523
        },
        "outputId": "2b360b03-01e3-4567-d664-7f18ba748252"
      },
      "source": [
        "df_cat_A=pd.concat([df_bot,df_ddos,df_golden_eye,df_hulk,df_ssh_patator,df_ftp_patator, df_benign])\n",
        "df_cat_A.groupby(' Label').first()\n"
      ],
      "execution_count": 53,
      "outputs": [
        {
          "output_type": "execute_result",
          "data": {
            "text/html": [
              "<div>\n",
              "<style scoped>\n",
              "    .dataframe tbody tr th:only-of-type {\n",
              "        vertical-align: middle;\n",
              "    }\n",
              "\n",
              "    .dataframe tbody tr th {\n",
              "        vertical-align: top;\n",
              "    }\n",
              "\n",
              "    .dataframe thead th {\n",
              "        text-align: right;\n",
              "    }\n",
              "</style>\n",
              "<table border=\"1\" class=\"dataframe\">\n",
              "  <thead>\n",
              "    <tr style=\"text-align: right;\">\n",
              "      <th></th>\n",
              "      <th>Flow ID</th>\n",
              "      <th>Source IP</th>\n",
              "      <th>Source Port</th>\n",
              "      <th>Destination IP</th>\n",
              "      <th>Destination Port</th>\n",
              "      <th>Protocol</th>\n",
              "      <th>Timestamp</th>\n",
              "      <th>Flow Duration</th>\n",
              "      <th>Total Fwd Packets</th>\n",
              "      <th>Total Backward Packets</th>\n",
              "      <th>Total Length of Fwd Packets</th>\n",
              "      <th>Total Length of Bwd Packets</th>\n",
              "      <th>Fwd Packet Length Max</th>\n",
              "      <th>Fwd Packet Length Min</th>\n",
              "      <th>Fwd Packet Length Mean</th>\n",
              "      <th>Fwd Packet Length Std</th>\n",
              "      <th>Bwd Packet Length Max</th>\n",
              "      <th>Bwd Packet Length Min</th>\n",
              "      <th>Bwd Packet Length Mean</th>\n",
              "      <th>Bwd Packet Length Std</th>\n",
              "      <th>Flow Bytes/s</th>\n",
              "      <th>Flow Packets/s</th>\n",
              "      <th>Flow IAT Mean</th>\n",
              "      <th>Flow IAT Std</th>\n",
              "      <th>Flow IAT Max</th>\n",
              "      <th>Flow IAT Min</th>\n",
              "      <th>Fwd IAT Total</th>\n",
              "      <th>Fwd IAT Mean</th>\n",
              "      <th>Fwd IAT Std</th>\n",
              "      <th>Fwd IAT Max</th>\n",
              "      <th>Fwd IAT Min</th>\n",
              "      <th>Bwd IAT Total</th>\n",
              "      <th>Bwd IAT Mean</th>\n",
              "      <th>Bwd IAT Std</th>\n",
              "      <th>Bwd IAT Max</th>\n",
              "      <th>Bwd IAT Min</th>\n",
              "      <th>Fwd PSH Flags</th>\n",
              "      <th>Bwd PSH Flags</th>\n",
              "      <th>Fwd URG Flags</th>\n",
              "      <th>Bwd URG Flags</th>\n",
              "      <th>...</th>\n",
              "      <th>Min Packet Length</th>\n",
              "      <th>Max Packet Length</th>\n",
              "      <th>Packet Length Mean</th>\n",
              "      <th>Packet Length Std</th>\n",
              "      <th>Packet Length Variance</th>\n",
              "      <th>FIN Flag Count</th>\n",
              "      <th>SYN Flag Count</th>\n",
              "      <th>RST Flag Count</th>\n",
              "      <th>PSH Flag Count</th>\n",
              "      <th>ACK Flag Count</th>\n",
              "      <th>URG Flag Count</th>\n",
              "      <th>CWE Flag Count</th>\n",
              "      <th>ECE Flag Count</th>\n",
              "      <th>Down/Up Ratio</th>\n",
              "      <th>Average Packet Size</th>\n",
              "      <th>Avg Fwd Segment Size</th>\n",
              "      <th>Avg Bwd Segment Size</th>\n",
              "      <th>Fwd Header Length.1</th>\n",
              "      <th>Fwd Avg Bytes/Bulk</th>\n",
              "      <th>Fwd Avg Packets/Bulk</th>\n",
              "      <th>Fwd Avg Bulk Rate</th>\n",
              "      <th>Bwd Avg Bytes/Bulk</th>\n",
              "      <th>Bwd Avg Packets/Bulk</th>\n",
              "      <th>Bwd Avg Bulk Rate</th>\n",
              "      <th>Subflow Fwd Packets</th>\n",
              "      <th>Subflow Fwd Bytes</th>\n",
              "      <th>Subflow Bwd Packets</th>\n",
              "      <th>Subflow Bwd Bytes</th>\n",
              "      <th>Init_Win_bytes_forward</th>\n",
              "      <th>Init_Win_bytes_backward</th>\n",
              "      <th>act_data_pkt_fwd</th>\n",
              "      <th>min_seg_size_forward</th>\n",
              "      <th>Active Mean</th>\n",
              "      <th>Active Std</th>\n",
              "      <th>Active Max</th>\n",
              "      <th>Active Min</th>\n",
              "      <th>Idle Mean</th>\n",
              "      <th>Idle Std</th>\n",
              "      <th>Idle Max</th>\n",
              "      <th>Idle Min</th>\n",
              "    </tr>\n",
              "    <tr>\n",
              "      <th>Label</th>\n",
              "      <th></th>\n",
              "      <th></th>\n",
              "      <th></th>\n",
              "      <th></th>\n",
              "      <th></th>\n",
              "      <th></th>\n",
              "      <th></th>\n",
              "      <th></th>\n",
              "      <th></th>\n",
              "      <th></th>\n",
              "      <th></th>\n",
              "      <th></th>\n",
              "      <th></th>\n",
              "      <th></th>\n",
              "      <th></th>\n",
              "      <th></th>\n",
              "      <th></th>\n",
              "      <th></th>\n",
              "      <th></th>\n",
              "      <th></th>\n",
              "      <th></th>\n",
              "      <th></th>\n",
              "      <th></th>\n",
              "      <th></th>\n",
              "      <th></th>\n",
              "      <th></th>\n",
              "      <th></th>\n",
              "      <th></th>\n",
              "      <th></th>\n",
              "      <th></th>\n",
              "      <th></th>\n",
              "      <th></th>\n",
              "      <th></th>\n",
              "      <th></th>\n",
              "      <th></th>\n",
              "      <th></th>\n",
              "      <th></th>\n",
              "      <th></th>\n",
              "      <th></th>\n",
              "      <th></th>\n",
              "      <th></th>\n",
              "      <th></th>\n",
              "      <th></th>\n",
              "      <th></th>\n",
              "      <th></th>\n",
              "      <th></th>\n",
              "      <th></th>\n",
              "      <th></th>\n",
              "      <th></th>\n",
              "      <th></th>\n",
              "      <th></th>\n",
              "      <th></th>\n",
              "      <th></th>\n",
              "      <th></th>\n",
              "      <th></th>\n",
              "      <th></th>\n",
              "      <th></th>\n",
              "      <th></th>\n",
              "      <th></th>\n",
              "      <th></th>\n",
              "      <th></th>\n",
              "      <th></th>\n",
              "      <th></th>\n",
              "      <th></th>\n",
              "      <th></th>\n",
              "      <th></th>\n",
              "      <th></th>\n",
              "      <th></th>\n",
              "      <th></th>\n",
              "      <th></th>\n",
              "      <th></th>\n",
              "      <th></th>\n",
              "      <th></th>\n",
              "      <th></th>\n",
              "      <th></th>\n",
              "      <th></th>\n",
              "      <th></th>\n",
              "      <th></th>\n",
              "      <th></th>\n",
              "      <th></th>\n",
              "      <th></th>\n",
              "    </tr>\n",
              "  </thead>\n",
              "  <tbody>\n",
              "    <tr>\n",
              "      <th>BENIGN</th>\n",
              "      <td>192.168.10.5-104.16.207.165-54865-443-6</td>\n",
              "      <td>104.16.207.165</td>\n",
              "      <td>443</td>\n",
              "      <td>192.168.10.5</td>\n",
              "      <td>54865</td>\n",
              "      <td>6</td>\n",
              "      <td>7/7/2017 3:30</td>\n",
              "      <td>3</td>\n",
              "      <td>2</td>\n",
              "      <td>0</td>\n",
              "      <td>12.0</td>\n",
              "      <td>0.0</td>\n",
              "      <td>6.0</td>\n",
              "      <td>6.0</td>\n",
              "      <td>6.000000</td>\n",
              "      <td>0.000000</td>\n",
              "      <td>0.0</td>\n",
              "      <td>0.0</td>\n",
              "      <td>0.000000</td>\n",
              "      <td>0.000000</td>\n",
              "      <td>4000000</td>\n",
              "      <td>666666.6667</td>\n",
              "      <td>3.000000e+00</td>\n",
              "      <td>0.000000e+00</td>\n",
              "      <td>3.0</td>\n",
              "      <td>3.0</td>\n",
              "      <td>3.0</td>\n",
              "      <td>3.000</td>\n",
              "      <td>0.000000e+00</td>\n",
              "      <td>3.0</td>\n",
              "      <td>3.0</td>\n",
              "      <td>0.0</td>\n",
              "      <td>0.000000e+00</td>\n",
              "      <td>0.000000e+00</td>\n",
              "      <td>0.0</td>\n",
              "      <td>0.0</td>\n",
              "      <td>0</td>\n",
              "      <td>0</td>\n",
              "      <td>0</td>\n",
              "      <td>0</td>\n",
              "      <td>...</td>\n",
              "      <td>6.0</td>\n",
              "      <td>6.0</td>\n",
              "      <td>6.000000</td>\n",
              "      <td>0.000000</td>\n",
              "      <td>0.000000e+00</td>\n",
              "      <td>0</td>\n",
              "      <td>0</td>\n",
              "      <td>0</td>\n",
              "      <td>0</td>\n",
              "      <td>1</td>\n",
              "      <td>0</td>\n",
              "      <td>0</td>\n",
              "      <td>0</td>\n",
              "      <td>0.0</td>\n",
              "      <td>9.000000</td>\n",
              "      <td>6.000000</td>\n",
              "      <td>0.000000</td>\n",
              "      <td>40</td>\n",
              "      <td>0</td>\n",
              "      <td>0</td>\n",
              "      <td>0</td>\n",
              "      <td>0</td>\n",
              "      <td>0</td>\n",
              "      <td>0</td>\n",
              "      <td>2</td>\n",
              "      <td>12</td>\n",
              "      <td>0</td>\n",
              "      <td>0</td>\n",
              "      <td>33</td>\n",
              "      <td>-1</td>\n",
              "      <td>1</td>\n",
              "      <td>20</td>\n",
              "      <td>0.0</td>\n",
              "      <td>0.00000</td>\n",
              "      <td>0.0</td>\n",
              "      <td>0.0</td>\n",
              "      <td>0.0</td>\n",
              "      <td>0.00000</td>\n",
              "      <td>0.0</td>\n",
              "      <td>0.0</td>\n",
              "    </tr>\n",
              "    <tr>\n",
              "      <th>Bot</th>\n",
              "      <td>192.168.10.12-52.6.13.28-42544-8080-6</td>\n",
              "      <td>192.168.10.12</td>\n",
              "      <td>42544</td>\n",
              "      <td>52.6.13.28</td>\n",
              "      <td>8080</td>\n",
              "      <td>6</td>\n",
              "      <td>7/7/2017 9:34</td>\n",
              "      <td>60202640</td>\n",
              "      <td>9</td>\n",
              "      <td>9</td>\n",
              "      <td>322.0</td>\n",
              "      <td>256.0</td>\n",
              "      <td>322.0</td>\n",
              "      <td>0.0</td>\n",
              "      <td>35.777778</td>\n",
              "      <td>107.333333</td>\n",
              "      <td>256.0</td>\n",
              "      <td>0.0</td>\n",
              "      <td>28.444444</td>\n",
              "      <td>85.333333</td>\n",
              "      <td>9.600907867</td>\n",
              "      <td>0.29899021</td>\n",
              "      <td>3.541332e+06</td>\n",
              "      <td>4.901981e+06</td>\n",
              "      <td>10200000.0</td>\n",
              "      <td>47.0</td>\n",
              "      <td>51200000.0</td>\n",
              "      <td>6396441.875</td>\n",
              "      <td>5.268490e+06</td>\n",
              "      <td>10200000.0</td>\n",
              "      <td>234.0</td>\n",
              "      <td>60200000.0</td>\n",
              "      <td>7.518954e+06</td>\n",
              "      <td>4.645137e+06</td>\n",
              "      <td>10300000.0</td>\n",
              "      <td>637.0</td>\n",
              "      <td>0</td>\n",
              "      <td>0</td>\n",
              "      <td>0</td>\n",
              "      <td>0</td>\n",
              "      <td>...</td>\n",
              "      <td>0.0</td>\n",
              "      <td>322.0</td>\n",
              "      <td>30.421053</td>\n",
              "      <td>91.783753</td>\n",
              "      <td>8.424257e+03</td>\n",
              "      <td>0</td>\n",
              "      <td>0</td>\n",
              "      <td>0</td>\n",
              "      <td>1</td>\n",
              "      <td>0</td>\n",
              "      <td>0</td>\n",
              "      <td>0</td>\n",
              "      <td>0</td>\n",
              "      <td>1.0</td>\n",
              "      <td>32.111111</td>\n",
              "      <td>35.777778</td>\n",
              "      <td>28.444444</td>\n",
              "      <td>296</td>\n",
              "      <td>0</td>\n",
              "      <td>0</td>\n",
              "      <td>0</td>\n",
              "      <td>0</td>\n",
              "      <td>0</td>\n",
              "      <td>0</td>\n",
              "      <td>9</td>\n",
              "      <td>322</td>\n",
              "      <td>9</td>\n",
              "      <td>256</td>\n",
              "      <td>29200</td>\n",
              "      <td>110</td>\n",
              "      <td>1</td>\n",
              "      <td>32</td>\n",
              "      <td>63678.2</td>\n",
              "      <td>22252.53596</td>\n",
              "      <td>103175.0</td>\n",
              "      <td>50911.0</td>\n",
              "      <td>10200000.0</td>\n",
              "      <td>34941.27201</td>\n",
              "      <td>10200000.0</td>\n",
              "      <td>10100000.0</td>\n",
              "    </tr>\n",
              "    <tr>\n",
              "      <th>DDoS</th>\n",
              "      <td>172.16.0.1-192.168.10.50-49650-80-6</td>\n",
              "      <td>172.16.0.1</td>\n",
              "      <td>49650</td>\n",
              "      <td>192.168.10.50</td>\n",
              "      <td>80</td>\n",
              "      <td>6</td>\n",
              "      <td>7/7/2017 3:56</td>\n",
              "      <td>1293792</td>\n",
              "      <td>3</td>\n",
              "      <td>7</td>\n",
              "      <td>26.0</td>\n",
              "      <td>11607.0</td>\n",
              "      <td>20.0</td>\n",
              "      <td>0.0</td>\n",
              "      <td>8.666667</td>\n",
              "      <td>10.263203</td>\n",
              "      <td>5840.0</td>\n",
              "      <td>0.0</td>\n",
              "      <td>1658.142857</td>\n",
              "      <td>2137.297080</td>\n",
              "      <td>8991.398927</td>\n",
              "      <td>7.72921768</td>\n",
              "      <td>1.437547e+05</td>\n",
              "      <td>4.308658e+05</td>\n",
              "      <td>1292730.0</td>\n",
              "      <td>2.0</td>\n",
              "      <td>747.0</td>\n",
              "      <td>373.500</td>\n",
              "      <td>5.239661e+02</td>\n",
              "      <td>744.0</td>\n",
              "      <td>3.0</td>\n",
              "      <td>1293746.0</td>\n",
              "      <td>2.156243e+05</td>\n",
              "      <td>5.276719e+05</td>\n",
              "      <td>1292730.0</td>\n",
              "      <td>2.0</td>\n",
              "      <td>0</td>\n",
              "      <td>0</td>\n",
              "      <td>0</td>\n",
              "      <td>0</td>\n",
              "      <td>...</td>\n",
              "      <td>0.0</td>\n",
              "      <td>5840.0</td>\n",
              "      <td>1057.545455</td>\n",
              "      <td>1853.437529</td>\n",
              "      <td>3.435231e+06</td>\n",
              "      <td>0</td>\n",
              "      <td>0</td>\n",
              "      <td>0</td>\n",
              "      <td>1</td>\n",
              "      <td>0</td>\n",
              "      <td>0</td>\n",
              "      <td>0</td>\n",
              "      <td>0</td>\n",
              "      <td>2.0</td>\n",
              "      <td>1163.300000</td>\n",
              "      <td>8.666667</td>\n",
              "      <td>1658.142857</td>\n",
              "      <td>72</td>\n",
              "      <td>0</td>\n",
              "      <td>0</td>\n",
              "      <td>0</td>\n",
              "      <td>0</td>\n",
              "      <td>0</td>\n",
              "      <td>0</td>\n",
              "      <td>3</td>\n",
              "      <td>26</td>\n",
              "      <td>7</td>\n",
              "      <td>11607</td>\n",
              "      <td>8192</td>\n",
              "      <td>229</td>\n",
              "      <td>2</td>\n",
              "      <td>20</td>\n",
              "      <td>0.0</td>\n",
              "      <td>0.00000</td>\n",
              "      <td>0.0</td>\n",
              "      <td>0.0</td>\n",
              "      <td>0.0</td>\n",
              "      <td>0.00000</td>\n",
              "      <td>0.0</td>\n",
              "      <td>0.0</td>\n",
              "    </tr>\n",
              "    <tr>\n",
              "      <th>DoS GoldenEye</th>\n",
              "      <td>172.16.0.1-192.168.10.50-58958-80-6</td>\n",
              "      <td>172.16.0.1</td>\n",
              "      <td>58958</td>\n",
              "      <td>192.168.10.50</td>\n",
              "      <td>80</td>\n",
              "      <td>6</td>\n",
              "      <td>5/7/2017 11:10</td>\n",
              "      <td>5008837</td>\n",
              "      <td>4</td>\n",
              "      <td>5</td>\n",
              "      <td>341.0</td>\n",
              "      <td>3525.0</td>\n",
              "      <td>341.0</td>\n",
              "      <td>0.0</td>\n",
              "      <td>85.250000</td>\n",
              "      <td>170.500000</td>\n",
              "      <td>2077.0</td>\n",
              "      <td>0.0</td>\n",
              "      <td>705.000000</td>\n",
              "      <td>990.644740</td>\n",
              "      <td>771.836</td>\n",
              "      <td>1.79682</td>\n",
              "      <td>6.261046e+05</td>\n",
              "      <td>1.768253e+06</td>\n",
              "      <td>5002306.0</td>\n",
              "      <td>47.0</td>\n",
              "      <td>6531.0</td>\n",
              "      <td>2177.000</td>\n",
              "      <td>4.969145e+02</td>\n",
              "      <td>2615.0</td>\n",
              "      <td>1637.0</td>\n",
              "      <td>5008656.0</td>\n",
              "      <td>1.252164e+06</td>\n",
              "      <td>2.500883e+06</td>\n",
              "      <td>5003487.0</td>\n",
              "      <td>49.0</td>\n",
              "      <td>0</td>\n",
              "      <td>0</td>\n",
              "      <td>0</td>\n",
              "      <td>0</td>\n",
              "      <td>...</td>\n",
              "      <td>0.0</td>\n",
              "      <td>2077.0</td>\n",
              "      <td>386.600000</td>\n",
              "      <td>747.760984</td>\n",
              "      <td>5.591465e+05</td>\n",
              "      <td>0</td>\n",
              "      <td>0</td>\n",
              "      <td>0</td>\n",
              "      <td>1</td>\n",
              "      <td>0</td>\n",
              "      <td>0</td>\n",
              "      <td>0</td>\n",
              "      <td>0</td>\n",
              "      <td>1.0</td>\n",
              "      <td>429.555556</td>\n",
              "      <td>85.250000</td>\n",
              "      <td>705.000000</td>\n",
              "      <td>136</td>\n",
              "      <td>0</td>\n",
              "      <td>0</td>\n",
              "      <td>0</td>\n",
              "      <td>0</td>\n",
              "      <td>0</td>\n",
              "      <td>0</td>\n",
              "      <td>4</td>\n",
              "      <td>341</td>\n",
              "      <td>5</td>\n",
              "      <td>3525</td>\n",
              "      <td>29200</td>\n",
              "      <td>235</td>\n",
              "      <td>1</td>\n",
              "      <td>32</td>\n",
              "      <td>0.0</td>\n",
              "      <td>0.00000</td>\n",
              "      <td>0.0</td>\n",
              "      <td>0.0</td>\n",
              "      <td>0.0</td>\n",
              "      <td>0.00000</td>\n",
              "      <td>0.0</td>\n",
              "      <td>0.0</td>\n",
              "    </tr>\n",
              "    <tr>\n",
              "      <th>DoS Hulk</th>\n",
              "      <td>172.16.0.1-192.168.10.50-50748-80-6</td>\n",
              "      <td>172.16.0.1</td>\n",
              "      <td>50748</td>\n",
              "      <td>192.168.10.50</td>\n",
              "      <td>80</td>\n",
              "      <td>6</td>\n",
              "      <td>5/7/2017 10:43</td>\n",
              "      <td>1878</td>\n",
              "      <td>3</td>\n",
              "      <td>6</td>\n",
              "      <td>382.0</td>\n",
              "      <td>11595.0</td>\n",
              "      <td>382.0</td>\n",
              "      <td>0.0</td>\n",
              "      <td>127.333333</td>\n",
              "      <td>220.547803</td>\n",
              "      <td>4355.0</td>\n",
              "      <td>0.0</td>\n",
              "      <td>1932.500000</td>\n",
              "      <td>2182.468304</td>\n",
              "      <td>6.37753e+06</td>\n",
              "      <td>4792.332268</td>\n",
              "      <td>2.347500e+02</td>\n",
              "      <td>2.291299e+02</td>\n",
              "      <td>577.0</td>\n",
              "      <td>15.0</td>\n",
              "      <td>975.0</td>\n",
              "      <td>487.500</td>\n",
              "      <td>2.651650e+02</td>\n",
              "      <td>675.0</td>\n",
              "      <td>300.0</td>\n",
              "      <td>1780.0</td>\n",
              "      <td>3.560000e+02</td>\n",
              "      <td>3.997881e+02</td>\n",
              "      <td>950.0</td>\n",
              "      <td>15.0</td>\n",
              "      <td>0</td>\n",
              "      <td>0</td>\n",
              "      <td>0</td>\n",
              "      <td>0</td>\n",
              "      <td>...</td>\n",
              "      <td>0.0</td>\n",
              "      <td>4355.0</td>\n",
              "      <td>1197.700000</td>\n",
              "      <td>1886.332364</td>\n",
              "      <td>3.558250e+06</td>\n",
              "      <td>0</td>\n",
              "      <td>0</td>\n",
              "      <td>0</td>\n",
              "      <td>1</td>\n",
              "      <td>0</td>\n",
              "      <td>0</td>\n",
              "      <td>0</td>\n",
              "      <td>0</td>\n",
              "      <td>2.0</td>\n",
              "      <td>1330.777778</td>\n",
              "      <td>127.333333</td>\n",
              "      <td>1932.500000</td>\n",
              "      <td>104</td>\n",
              "      <td>0</td>\n",
              "      <td>0</td>\n",
              "      <td>0</td>\n",
              "      <td>0</td>\n",
              "      <td>0</td>\n",
              "      <td>0</td>\n",
              "      <td>3</td>\n",
              "      <td>382</td>\n",
              "      <td>6</td>\n",
              "      <td>11595</td>\n",
              "      <td>29200</td>\n",
              "      <td>235</td>\n",
              "      <td>1</td>\n",
              "      <td>32</td>\n",
              "      <td>0.0</td>\n",
              "      <td>0.00000</td>\n",
              "      <td>0.0</td>\n",
              "      <td>0.0</td>\n",
              "      <td>0.0</td>\n",
              "      <td>0.00000</td>\n",
              "      <td>0.0</td>\n",
              "      <td>0.0</td>\n",
              "    </tr>\n",
              "    <tr>\n",
              "      <th>FTP-Patator</th>\n",
              "      <td>172.16.0.1-192.168.10.50-45422-80-6</td>\n",
              "      <td>172.16.0.1</td>\n",
              "      <td>45422</td>\n",
              "      <td>192.168.10.50</td>\n",
              "      <td>80</td>\n",
              "      <td>6</td>\n",
              "      <td>4/7/2017 10:30</td>\n",
              "      <td>5216127</td>\n",
              "      <td>3</td>\n",
              "      <td>1</td>\n",
              "      <td>0.0</td>\n",
              "      <td>0.0</td>\n",
              "      <td>0.0</td>\n",
              "      <td>0.0</td>\n",
              "      <td>0.000000</td>\n",
              "      <td>0.000000</td>\n",
              "      <td>0.0</td>\n",
              "      <td>0.0</td>\n",
              "      <td>0.000000</td>\n",
              "      <td>0.000000</td>\n",
              "      <td>0</td>\n",
              "      <td>0.766852494</td>\n",
              "      <td>1.738709e+06</td>\n",
              "      <td>3.010454e+06</td>\n",
              "      <td>5214882.0</td>\n",
              "      <td>124.0</td>\n",
              "      <td>5216127.0</td>\n",
              "      <td>2608063.500</td>\n",
              "      <td>3.686598e+06</td>\n",
              "      <td>5214882.0</td>\n",
              "      <td>1245.0</td>\n",
              "      <td>0.0</td>\n",
              "      <td>0.000000e+00</td>\n",
              "      <td>0.000000e+00</td>\n",
              "      <td>0.0</td>\n",
              "      <td>0.0</td>\n",
              "      <td>0</td>\n",
              "      <td>0</td>\n",
              "      <td>0</td>\n",
              "      <td>0</td>\n",
              "      <td>...</td>\n",
              "      <td>0.0</td>\n",
              "      <td>0.0</td>\n",
              "      <td>0.000000</td>\n",
              "      <td>0.000000</td>\n",
              "      <td>0.000000e+00</td>\n",
              "      <td>0</td>\n",
              "      <td>0</td>\n",
              "      <td>0</td>\n",
              "      <td>1</td>\n",
              "      <td>0</td>\n",
              "      <td>0</td>\n",
              "      <td>0</td>\n",
              "      <td>0</td>\n",
              "      <td>0.0</td>\n",
              "      <td>0.000000</td>\n",
              "      <td>0.000000</td>\n",
              "      <td>0.000000</td>\n",
              "      <td>104</td>\n",
              "      <td>0</td>\n",
              "      <td>0</td>\n",
              "      <td>0</td>\n",
              "      <td>0</td>\n",
              "      <td>0</td>\n",
              "      <td>0</td>\n",
              "      <td>3</td>\n",
              "      <td>0</td>\n",
              "      <td>1</td>\n",
              "      <td>0</td>\n",
              "      <td>29200</td>\n",
              "      <td>28960</td>\n",
              "      <td>0</td>\n",
              "      <td>32</td>\n",
              "      <td>0.0</td>\n",
              "      <td>0.00000</td>\n",
              "      <td>0.0</td>\n",
              "      <td>0.0</td>\n",
              "      <td>0.0</td>\n",
              "      <td>0.00000</td>\n",
              "      <td>0.0</td>\n",
              "      <td>0.0</td>\n",
              "    </tr>\n",
              "    <tr>\n",
              "      <th>SSH-Patator</th>\n",
              "      <td>172.16.0.1-192.168.10.50-52358-22-6</td>\n",
              "      <td>172.16.0.1</td>\n",
              "      <td>52358</td>\n",
              "      <td>192.168.10.50</td>\n",
              "      <td>22</td>\n",
              "      <td>6</td>\n",
              "      <td>4/7/2017 3:11</td>\n",
              "      <td>404</td>\n",
              "      <td>2</td>\n",
              "      <td>0</td>\n",
              "      <td>0.0</td>\n",
              "      <td>0.0</td>\n",
              "      <td>0.0</td>\n",
              "      <td>0.0</td>\n",
              "      <td>0.000000</td>\n",
              "      <td>0.000000</td>\n",
              "      <td>0.0</td>\n",
              "      <td>0.0</td>\n",
              "      <td>0.000000</td>\n",
              "      <td>0.000000</td>\n",
              "      <td>0</td>\n",
              "      <td>4950.49505</td>\n",
              "      <td>4.040000e+02</td>\n",
              "      <td>0.000000e+00</td>\n",
              "      <td>404.0</td>\n",
              "      <td>404.0</td>\n",
              "      <td>404.0</td>\n",
              "      <td>404.000</td>\n",
              "      <td>0.000000e+00</td>\n",
              "      <td>404.0</td>\n",
              "      <td>404.0</td>\n",
              "      <td>0.0</td>\n",
              "      <td>0.000000e+00</td>\n",
              "      <td>0.000000e+00</td>\n",
              "      <td>0.0</td>\n",
              "      <td>0.0</td>\n",
              "      <td>0</td>\n",
              "      <td>0</td>\n",
              "      <td>0</td>\n",
              "      <td>0</td>\n",
              "      <td>...</td>\n",
              "      <td>0.0</td>\n",
              "      <td>0.0</td>\n",
              "      <td>0.000000</td>\n",
              "      <td>0.000000</td>\n",
              "      <td>0.000000e+00</td>\n",
              "      <td>0</td>\n",
              "      <td>0</td>\n",
              "      <td>0</td>\n",
              "      <td>0</td>\n",
              "      <td>1</td>\n",
              "      <td>0</td>\n",
              "      <td>0</td>\n",
              "      <td>0</td>\n",
              "      <td>0.0</td>\n",
              "      <td>0.000000</td>\n",
              "      <td>0.000000</td>\n",
              "      <td>0.000000</td>\n",
              "      <td>64</td>\n",
              "      <td>0</td>\n",
              "      <td>0</td>\n",
              "      <td>0</td>\n",
              "      <td>0</td>\n",
              "      <td>0</td>\n",
              "      <td>0</td>\n",
              "      <td>2</td>\n",
              "      <td>0</td>\n",
              "      <td>0</td>\n",
              "      <td>0</td>\n",
              "      <td>259</td>\n",
              "      <td>-1</td>\n",
              "      <td>0</td>\n",
              "      <td>32</td>\n",
              "      <td>0.0</td>\n",
              "      <td>0.00000</td>\n",
              "      <td>0.0</td>\n",
              "      <td>0.0</td>\n",
              "      <td>0.0</td>\n",
              "      <td>0.00000</td>\n",
              "      <td>0.0</td>\n",
              "      <td>0.0</td>\n",
              "    </tr>\n",
              "  </tbody>\n",
              "</table>\n",
              "<p>7 rows × 84 columns</p>\n",
              "</div>"
            ],
            "text/plain": [
              "                                               Flow ID  ...    Idle Min\n",
              " Label                                                  ...            \n",
              "BENIGN         192.168.10.5-104.16.207.165-54865-443-6  ...         0.0\n",
              "Bot              192.168.10.12-52.6.13.28-42544-8080-6  ...  10100000.0\n",
              "DDoS               172.16.0.1-192.168.10.50-49650-80-6  ...         0.0\n",
              "DoS GoldenEye      172.16.0.1-192.168.10.50-58958-80-6  ...         0.0\n",
              "DoS Hulk           172.16.0.1-192.168.10.50-50748-80-6  ...         0.0\n",
              "FTP-Patator        172.16.0.1-192.168.10.50-45422-80-6  ...         0.0\n",
              "SSH-Patator        172.16.0.1-192.168.10.50-52358-22-6  ...         0.0\n",
              "\n",
              "[7 rows x 84 columns]"
            ]
          },
          "metadata": {
            "tags": []
          },
          "execution_count": 53
        }
      ]
    },
    {
      "cell_type": "code",
      "metadata": {
        "id": "_cDBnJT0leq7",
        "colab_type": "code",
        "colab": {
          "base_uri": "https://localhost:8080/",
          "height": 167
        },
        "outputId": "e0af0383-d307-432f-bb65-d82e623335e2"
      },
      "source": [
        "del df_bot,df_ddos,df_golden_eye,df_hulk,df_ssh_patator,df_ftp_patator,df_infiltration, df_benign"
      ],
      "execution_count": 54,
      "outputs": [
        {
          "output_type": "error",
          "ename": "NameError",
          "evalue": "ignored",
          "traceback": [
            "\u001b[0;31m---------------------------------------------------------------------------\u001b[0m",
            "\u001b[0;31mNameError\u001b[0m                                 Traceback (most recent call last)",
            "\u001b[0;32m<ipython-input-54-8f346c8ac3da>\u001b[0m in \u001b[0;36m<module>\u001b[0;34m()\u001b[0m\n\u001b[0;32m----> 1\u001b[0;31m \u001b[0;32mdel\u001b[0m \u001b[0mdf_bot\u001b[0m\u001b[0;34m,\u001b[0m\u001b[0mdf_ddos\u001b[0m\u001b[0;34m,\u001b[0m\u001b[0mdf_golden_eye\u001b[0m\u001b[0;34m,\u001b[0m\u001b[0mdf_hulk\u001b[0m\u001b[0;34m,\u001b[0m\u001b[0mdf_ssh_patator\u001b[0m\u001b[0;34m,\u001b[0m\u001b[0mdf_ftp_patator\u001b[0m\u001b[0;34m,\u001b[0m\u001b[0mdf_infiltration\u001b[0m\u001b[0;34m,\u001b[0m \u001b[0mdf_benign\u001b[0m\u001b[0;34m\u001b[0m\u001b[0;34m\u001b[0m\u001b[0m\n\u001b[0m",
            "\u001b[0;31mNameError\u001b[0m: name 'df_infiltration' is not defined"
          ]
        }
      ]
    },
    {
      "cell_type": "code",
      "metadata": {
        "id": "xUOavxarkXfi",
        "colab_type": "code",
        "colab": {}
      },
      "source": [
        "df=df_cat_A.copy()"
      ],
      "execution_count": 0,
      "outputs": []
    },
    {
      "cell_type": "code",
      "metadata": {
        "id": "XA_Fl5sxlxje",
        "colab_type": "code",
        "colab": {}
      },
      "source": [
        "del df_cat_A"
      ],
      "execution_count": 0,
      "outputs": []
    },
    {
      "cell_type": "code",
      "metadata": {
        "id": "OJJgyaOPk-0h",
        "colab_type": "code",
        "colab": {}
      },
      "source": [
        "df.groupby(' Label').first()"
      ],
      "execution_count": 0,
      "outputs": []
    },
    {
      "cell_type": "markdown",
      "metadata": {
        "id": "J7uQ7c4mXdW8",
        "colab_type": "text"
      },
      "source": [
        "### Data Description"
      ]
    },
    {
      "cell_type": "code",
      "metadata": {
        "id": "D9DetS6KlRs8",
        "colab_type": "code",
        "colab": {}
      },
      "source": [
        "df.info()"
      ],
      "execution_count": 0,
      "outputs": []
    },
    {
      "cell_type": "code",
      "metadata": {
        "id": "DlYQgW0wV9G4",
        "colab_type": "code",
        "colab": {}
      },
      "source": [
        "df.describe()"
      ],
      "execution_count": 0,
      "outputs": []
    },
    {
      "cell_type": "code",
      "metadata": {
        "id": "tMO-o52yXiR_",
        "colab_type": "code",
        "colab": {}
      },
      "source": [
        "df.columns"
      ],
      "execution_count": 0,
      "outputs": []
    },
    {
      "cell_type": "markdown",
      "metadata": {
        "id": "cnEzCNjJXv3Y",
        "colab_type": "text"
      },
      "source": [
        "### Data Cleaning"
      ]
    },
    {
      "cell_type": "code",
      "metadata": {
        "id": "1ADVNLN1XpOR",
        "colab_type": "code",
        "colab": {}
      },
      "source": [
        "df2=df[df.columns[7:-1]]\n",
        "df2[' Label']=df[' Label']\n",
        "df=df2\n",
        "df2=[]\n",
        "del df2"
      ],
      "execution_count": 0,
      "outputs": []
    },
    {
      "cell_type": "code",
      "metadata": {
        "id": "nYNrUlqzX4Cn",
        "colab_type": "code",
        "colab": {}
      },
      "source": [
        "len(df.columns)"
      ],
      "execution_count": 0,
      "outputs": []
    },
    {
      "cell_type": "code",
      "metadata": {
        "id": "ebMXLaXTX5lV",
        "colab_type": "code",
        "colab": {}
      },
      "source": [
        "df=df.dropna( axis=0, how='any')\n",
        "df=df.replace(',,', np.nan, inplace=False)\n",
        "df=df.drop(columns=[' Fwd Header Length.1'], axis=1, inplace=False)"
      ],
      "execution_count": 0,
      "outputs": []
    },
    {
      "cell_type": "code",
      "metadata": {
        "id": "BSePkQWdX-Qg",
        "colab_type": "code",
        "colab": {}
      },
      "source": [
        "df.replace(\"Infinity\", 0, inplace=True)\n",
        "df['Flow Bytes/s'].replace(\"Infinity\", 0,inplace=True)\n",
        "df[\" Flow Packets/s\"].replace(\"Infinity\", 0, inplace=True)\n",
        "df[\" Flow Packets/s\"].replace(np.nan, 0, inplace=True)\n",
        "df['Flow Bytes/s'].replace(np.nan, 0,inplace=True)\n",
        "\n",
        "\n",
        "df[\"Bwd Avg Bulk Rate\"].replace(\"Infinity\", 0, inplace=True)\n",
        "df[\"Bwd Avg Bulk Rate\"].replace(\",,\", 0, inplace=True)\n",
        "df[\"Bwd Avg Bulk Rate\"].replace(np.nan, 0, inplace=True)\n",
        "\n",
        "df[\" Bwd Avg Packets/Bulk\"].replace(\"Infinity\", 0, inplace=True)\n",
        "df[\" Bwd Avg Packets/Bulk\"].replace(\",,\", 0, inplace=True)\n",
        "df[\" Bwd Avg Packets/Bulk\"].replace(np.nan, 0, inplace=True)\n",
        "\n",
        "\n",
        "df[\" Bwd Avg Bytes/Bulk\"].replace(\"Infinity\", 0, inplace=True)\n",
        "df[\" Bwd Avg Bytes/Bulk\"].replace(\",,\", 0, inplace=True)\n",
        "df[\" Bwd Avg Bytes/Bulk\"].replace(np.nan, 0, inplace=True)\n",
        "\n",
        "\n",
        "df[\" Fwd Avg Bulk Rate\"].replace(\"Infinity\", 0, inplace=True)\n",
        "df[\" Fwd Avg Bulk Rate\"].replace(\",,\", 0, inplace=True)\n",
        "df[\" Fwd Avg Bulk Rate\"].replace(np.nan, 0, inplace=True)\n",
        "\n",
        "\n",
        "df[\" Fwd Avg Packets/Bulk\"].replace(\"Infinity\", 0, inplace=True)\n",
        "df[\" Fwd Avg Packets/Bulk\"].replace(\",,\", 0, inplace=True)\n",
        "df[\" Fwd Avg Packets/Bulk\"].replace(np.nan, 0, inplace=True)\n",
        "\n",
        "\n",
        "df[\"Fwd Avg Bytes/Bulk\"].replace(\"Infinity\", 0, inplace=True)\n",
        "df[\"Fwd Avg Bytes/Bulk\"].replace(\",,\", 0, inplace=True)\n",
        "df[\"Fwd Avg Bytes/Bulk\"].replace(np.nan, 0, inplace=True)\n",
        "\n",
        "\n",
        "df[\" CWE Flag Count\"].replace(\"Infinity\", 0, inplace=True)\n",
        "df[\" CWE Flag Count\"].replace(\",,\", 0, inplace=True)\n",
        "df[\" CWE Flag Count\"].replace(np.nan, 0, inplace=True)\n",
        "\n",
        "df[\" Bwd URG Flags\"].replace(\"Infinity\", 0, inplace=True)\n",
        "df[\" Bwd URG Flags\"].replace(\",,\", 0, inplace=True)\n",
        "df[\" Bwd URG Flags\"].replace(np.nan, 0, inplace=True)\n",
        "\n",
        "df[\" Bwd PSH Flags\"].replace(\"Infinity\", 0, inplace=True)\n",
        "df[\" Bwd PSH Flags\"].replace(\",,\", 0, inplace=True)\n",
        "df[\" Bwd PSH Flags\"].replace(np.nan, 0, inplace=True)\n",
        "\n",
        "df[\" Fwd URG Flags\"].replace(\"Infinity\", 0, inplace=True)\n",
        "df[\" Fwd URG Flags\"].replace(\",,\", 0, inplace=True)\n",
        "df[\" Fwd URG Flags\"].replace(np.nan, 0, inplace=True)"
      ],
      "execution_count": 0,
      "outputs": []
    },
    {
      "cell_type": "code",
      "metadata": {
        "id": "zOsfVwYKYj4n",
        "colab_type": "code",
        "colab": {}
      },
      "source": [
        "df[\"Flow Bytes/s\"]=df[\"Flow Bytes/s\"].astype(\"float64\")\n",
        "df[' Flow Packets/s']=df[\" Flow Packets/s\"].astype(\"float64\")"
      ],
      "execution_count": 0,
      "outputs": []
    },
    {
      "cell_type": "code",
      "metadata": {
        "id": "hoLyK73vYnhx",
        "colab_type": "code",
        "colab": {}
      },
      "source": [
        "df['Bwd Avg Bulk Rate']=df[\"Bwd Avg Bulk Rate\"].astype(\"float64\")\n",
        "df[' Bwd Avg Packets/Bulk']=df[\" Bwd Avg Packets/Bulk\"].astype(\"float64\")\n",
        "df[' Bwd Avg Bytes/Bulk']=df[\" Bwd Avg Bytes/Bulk\"].astype(\"float64\")\n",
        "df[' Fwd Avg Bulk Rate']=df[\" Fwd Avg Bulk Rate\"].astype(\"float64\")\n",
        "df[' Fwd Avg Packets/Bulk']=df[\" Fwd Avg Packets/Bulk\"].astype(\"float64\")\n",
        "df['Fwd Avg Bytes/Bulk']=df[\"Fwd Avg Bytes/Bulk\"].astype(\"float64\")\n",
        "df[' CWE Flag Count']=df[\" CWE Flag Count\"].astype(\"float64\")\n",
        "df[' Bwd URG Flags']=df[\" Bwd URG Flags\"].astype(\"float64\")\n",
        "df[' Bwd PSH Flags']=df[\" Bwd PSH Flags\"].astype(\"float64\")\n",
        "df[' Fwd URG Flags']=df[\" Fwd URG Flags\"].astype(\"float64\")"
      ],
      "execution_count": 0,
      "outputs": []
    },
    {
      "cell_type": "code",
      "metadata": {
        "id": "yKxVMlRkYEdZ",
        "colab_type": "code",
        "colab": {}
      },
      "source": [
        "pd.set_option('display.max_rows', df.shape[0])"
      ],
      "execution_count": 0,
      "outputs": []
    },
    {
      "cell_type": "code",
      "metadata": {
        "id": "ocVVkbhnYxq2",
        "colab_type": "code",
        "colab": {}
      },
      "source": [
        "df.replace('Infinity',0.0, inplace=True)"
      ],
      "execution_count": 0,
      "outputs": []
    },
    {
      "cell_type": "code",
      "metadata": {
        "id": "jhX30DKVY9eW",
        "colab_type": "code",
        "colab": {}
      },
      "source": [
        "df.replace('NaN',0.0, inplace=True)"
      ],
      "execution_count": 0,
      "outputs": []
    },
    {
      "cell_type": "code",
      "metadata": {
        "id": "twUjIIqAZNxR",
        "colab_type": "code",
        "colab": {}
      },
      "source": [
        "df.columns"
      ],
      "execution_count": 0,
      "outputs": []
    },
    {
      "cell_type": "code",
      "metadata": {
        "id": "gfjC1OHuYz8N",
        "colab_type": "code",
        "colab": {}
      },
      "source": [
        "\n",
        "\n",
        "X=df[df.columns[0:-1]]\n",
        "y=df[df.columns[-1]]\n",
        "\n",
        "del df"
      ],
      "execution_count": 0,
      "outputs": []
    },
    {
      "cell_type": "markdown",
      "metadata": {
        "id": "DMQG6olmZYsJ",
        "colab_type": "text"
      },
      "source": [
        "### Data Normalization"
      ]
    },
    {
      "cell_type": "code",
      "metadata": {
        "id": "T0Q6O1osZVW1",
        "colab_type": "code",
        "colab": {}
      },
      "source": [
        "from scipy import stats"
      ],
      "execution_count": 0,
      "outputs": []
    },
    {
      "cell_type": "code",
      "metadata": {
        "id": "famHIDflZdq0",
        "colab_type": "code",
        "colab": {}
      },
      "source": [
        "\n",
        "\n",
        "cols = list(X.columns)\n",
        "for col in cols:\n",
        "    X[col] = stats.zscore(X[col])\n",
        "\n"
      ],
      "execution_count": 0,
      "outputs": []
    },
    {
      "cell_type": "code",
      "metadata": {
        "id": "-whY9ZjkZfea",
        "colab_type": "code",
        "colab": {}
      },
      "source": [
        "X.head()"
      ],
      "execution_count": 0,
      "outputs": []
    },
    {
      "cell_type": "markdown",
      "metadata": {
        "id": "OQW3Ma3ZZmTe",
        "colab_type": "text"
      },
      "source": [
        "### Feature Selection"
      ]
    },
    {
      "cell_type": "code",
      "metadata": {
        "id": "B9W2MJLBZiuO",
        "colab_type": "code",
        "colab": {}
      },
      "source": [
        "features=[\" Fwd Packet Length Max\",\" Flow IAT Std\",\" Fwd Packet Length Std\" ,\"Fwd IAT Total\",' Flow Packets/s',' Flow Duration', \" Fwd Packet Length Mean\", \" Total Length of Bwd Packets\", \"Flow Bytes/s\", \"Total Length of Fwd Packets\", \" Flow IAT Mean\", \" Bwd Packet Length Mean\",  \" Flow IAT Max\", \" Bwd Packet Length Std\", ' Total Fwd Packets', ' Total Backward Packets']"
      ],
      "execution_count": 0,
      "outputs": []
    },
    {
      "cell_type": "code",
      "metadata": {
        "id": "wLyWUYjxZrhj",
        "colab_type": "code",
        "colab": {}
      },
      "source": [
        "X=X[features].copy()\n",
        "X.head()"
      ],
      "execution_count": 0,
      "outputs": []
    },
    {
      "cell_type": "code",
      "metadata": {
        "id": "TGW3m_ufZ3tK",
        "colab_type": "code",
        "colab": {}
      },
      "source": [
        "len(X.columns)"
      ],
      "execution_count": 0,
      "outputs": []
    },
    {
      "cell_type": "markdown",
      "metadata": {
        "id": "gTCI3zUAaY0p",
        "colab_type": "text"
      },
      "source": [
        "### Applying Algorithms"
      ]
    },
    {
      "cell_type": "code",
      "metadata": {
        "id": "94a75BoMaGlL",
        "colab_type": "code",
        "colab": {}
      },
      "source": [
        "from sklearn.model_selection import train_test_split     # import module for train test split"
      ],
      "execution_count": 0,
      "outputs": []
    },
    {
      "cell_type": "code",
      "metadata": {
        "id": "Tjc_Gi4naeJa",
        "colab_type": "code",
        "colab": {}
      },
      "source": [
        "X_train, X_test, y_train, y_test=train_test_split(X,y,test_size=0.2, random_state=10)"
      ],
      "execution_count": 0,
      "outputs": []
    },
    {
      "cell_type": "markdown",
      "metadata": {
        "id": "c7NeQmV1aimT",
        "colab_type": "text"
      },
      "source": [
        "#### KNN"
      ]
    },
    {
      "cell_type": "code",
      "metadata": {
        "id": "XfsvOhKfafxD",
        "colab_type": "code",
        "colab": {}
      },
      "source": [
        "from sklearn.neighbors import KNeighborsClassifier"
      ],
      "execution_count": 0,
      "outputs": []
    },
    {
      "cell_type": "code",
      "metadata": {
        "id": "pgIc3MxTak37",
        "colab_type": "code",
        "outputId": "97964934-f5b9-4f7c-9760-a1b58630a767",
        "colab": {
          "base_uri": "https://localhost:8080/",
          "height": 312
        }
      },
      "source": [
        "t1=time.time()\n",
        "\n",
        "for i in range(1,len(X_train.columns)+1):\n",
        "    knn=KNeighborsClassifier(n_neighbors=i)\n",
        "    model_knn=knn.fit(X_train,y_train)\n",
        "    yhat=model_knn.predict(X_test)\n",
        "    print(\"for \" , i,  \" as K, accuracy is : \", accuracy_score(y_test, yhat))\n",
        "t2=time.time()\n",
        "print(\" time for \", i ,\" k's :: \", (t2-t1)/60 , \" minutes\")"
      ],
      "execution_count": 55,
      "outputs": [
        {
          "output_type": "stream",
          "text": [
            "for  1  as K, accuracy is :  0.9818195162158398\n",
            "for  2  as K, accuracy is :  0.981853389387159\n",
            "for  3  as K, accuracy is :  0.9850280582769094\n",
            "for  4  as K, accuracy is :  0.9831198696259272\n",
            "for  5  as K, accuracy is :  0.9830652961832463\n",
            "for  6  as K, accuracy is :  0.9818439801729038\n",
            "for  7  as K, accuracy is :  0.9831575064829486\n",
            "for  8  as K, accuracy is :  0.9818515075443079\n",
            "for  9  as K, accuracy is :  0.9830765872403527\n",
            "for  10  as K, accuracy is :  0.9830765872403527\n",
            "for  11  as K, accuracy is :  0.9829523856121823\n",
            "for  12  as K, accuracy is :  0.9829599129835865\n",
            "for  13  as K, accuracy is :  0.9829636766692887\n",
            "for  14  as K, accuracy is :  0.982944858240778\n",
            "for  15  as K, accuracy is :  0.9828545297839268\n",
            "for  16  as K, accuracy is :  0.9828846392695438\n",
            " time for  16  k's ::  146.24801788727441  minutes\n"
          ],
          "name": "stdout"
        }
      ]
    },
    {
      "cell_type": "code",
      "metadata": {
        "id": "_vJ3QICNIJD0",
        "colab_type": "code",
        "colab": {}
      },
      "source": [
        "import pickle\n",
        "filename = 'drive/My Drive/model_cat_A.sav'"
      ],
      "execution_count": 0,
      "outputs": []
    },
    {
      "cell_type": "code",
      "metadata": {
        "id": "Hu26z1z-INyB",
        "colab_type": "code",
        "colab": {}
      },
      "source": [
        "pickle.dump(model_knn, open(filename, 'wb'))"
      ],
      "execution_count": 0,
      "outputs": []
    },
    {
      "cell_type": "code",
      "metadata": {
        "id": "2VWHV82xIPO9",
        "colab_type": "code",
        "colab": {}
      },
      "source": [
        "# to load model\n",
        "model_knn = pickle.load(open(filename, 'rb'))\n",
        "y_hat=model_knn.predict(X_test)"
      ],
      "execution_count": 0,
      "outputs": []
    },
    {
      "cell_type": "markdown",
      "metadata": {
        "id": "HeLb4jmKaq3Y",
        "colab_type": "text"
      },
      "source": [
        "#### Naive Bayes"
      ]
    },
    {
      "cell_type": "markdown",
      "metadata": {
        "id": "RFQYXIYXauSa",
        "colab_type": "text"
      },
      "source": [
        "##### Gaussian Naive Bayes"
      ]
    },
    {
      "cell_type": "code",
      "metadata": {
        "id": "aZuBm8y9anOC",
        "colab_type": "code",
        "colab": {}
      },
      "source": [
        "from sklearn.naive_bayes import GaussianNB"
      ],
      "execution_count": 0,
      "outputs": []
    },
    {
      "cell_type": "code",
      "metadata": {
        "id": "Vun0N73Day0-",
        "colab_type": "code",
        "outputId": "8e689d22-230e-48fa-86ee-488523695d04",
        "colab": {
          "base_uri": "https://localhost:8080/",
          "height": 52
        }
      },
      "source": [
        "t1=time.time()\n",
        "\n",
        "gnb = GaussianNB()\n",
        "model_gnb = gnb.fit(X_train, y_train)\n",
        "yhat_gnb=model_gnb.predict(X_test)\n",
        "\n",
        "print(\"Accuracy :: \", accuracy_score(y_test,yhat))\n",
        "\n",
        "t2=time.time()\n",
        "print(\" time for Naive Baye's :: \", (t2-t1) , \" seconds\")"
      ],
      "execution_count": 59,
      "outputs": [
        {
          "output_type": "stream",
          "text": [
            "Accuracy ::  0.9828846392695438\n",
            " time for Naive Baye's ::  6.311462879180908  seconds\n"
          ],
          "name": "stdout"
        }
      ]
    },
    {
      "cell_type": "markdown",
      "metadata": {
        "id": "Qn_warC4a4uI",
        "colab_type": "text"
      },
      "source": [
        "##### Bernoulli Naive Bayes"
      ]
    },
    {
      "cell_type": "code",
      "metadata": {
        "id": "W36uuL2xa74G",
        "colab_type": "code",
        "colab": {}
      },
      "source": [
        "from sklearn.naive_bayes import BernoulliNB"
      ],
      "execution_count": 0,
      "outputs": []
    },
    {
      "cell_type": "code",
      "metadata": {
        "id": "dhNMbB27biHl",
        "colab_type": "code",
        "outputId": "71fd7895-fd71-440e-cd05-973cbc07a23a",
        "colab": {
          "base_uri": "https://localhost:8080/",
          "height": 34
        }
      },
      "source": [
        "\n",
        "\n",
        "clf = BernoulliNB()\n",
        "clf.fit(X_train, y_train)\n",
        "yhat_bnb=clf.predict(X_test)\n",
        "print(\"Accuracy ::: \", accuracy_score(y_test,yhat_bnb))\n",
        "\n"
      ],
      "execution_count": 61,
      "outputs": [
        {
          "output_type": "stream",
          "text": [
            "Accuracy :::  0.8195726711253797\n"
          ],
          "name": "stdout"
        }
      ]
    },
    {
      "cell_type": "markdown",
      "metadata": {
        "id": "ixSNLMu2bDav",
        "colab_type": "text"
      },
      "source": [
        "### Confusion Matrix"
      ]
    },
    {
      "cell_type": "code",
      "metadata": {
        "id": "A0CVpPTNbcT_",
        "colab_type": "code",
        "outputId": "1718b484-4de6-4cef-8514-64aabba136e5",
        "colab": {
          "base_uri": "https://localhost:8080/",
          "height": 72
        }
      },
      "source": [
        "y_test_arr=y_test.as_matrix()"
      ],
      "execution_count": 62,
      "outputs": [
        {
          "output_type": "stream",
          "text": [
            "/usr/local/lib/python3.6/dist-packages/ipykernel_launcher.py:1: FutureWarning: Method .as_matrix will be removed in a future version. Use .values instead.\n",
            "  \"\"\"Entry point for launching an IPython kernel.\n"
          ],
          "name": "stderr"
        }
      ]
    },
    {
      "cell_type": "code",
      "metadata": {
        "id": "B4dK2OiwbAeo",
        "colab_type": "code",
        "colab": {}
      },
      "source": [
        "true={}\n",
        "false={}\n",
        "not_detected={}\n",
        "\n",
        "for x in range(len(y_test_arr)):\n",
        "    if y_test_arr[x]==yhat[x]:\n",
        "      if y_test_arr[x] in true:\n",
        "        true[y_test_arr[x]]=true[y_test_arr[x]]+1\n",
        "      else:\n",
        "        true[y_test_arr[x]]=1\n",
        "    elif y_test_arr[x]!=yhat[x]:\n",
        "      if yhat[x] in false:\n",
        "        false[yhat[x]]=false[yhat[x]]+1\n",
        "\n",
        "        if y_test_arr[x] in not_detected:\n",
        "          not_detected[y_test_arr[x]]=not_detected[y_test_arr[x]]+1\n",
        "        else:\n",
        "          not_detected[y_test_arr[x]]=1\n",
        "\n",
        "      else:\n",
        "        false[yhat[x]]=1\n",
        "\n",
        "        if y_test_arr[x] in not_detected:\n",
        "          not_detected[y_test_arr[x]]=not_detected[y_test_arr[x]]+1\n",
        "        else:\n",
        "          not_detected[y_test_arr[x]]=1"
      ],
      "execution_count": 0,
      "outputs": []
    },
    {
      "cell_type": "code",
      "metadata": {
        "id": "1Za3YVsIbpgO",
        "colab_type": "code",
        "outputId": "e7de77d8-441b-4859-df30-c7eabd634696",
        "colab": {
          "base_uri": "https://localhost:8080/",
          "height": 139
        }
      },
      "source": [
        "true"
      ],
      "execution_count": 64,
      "outputs": [
        {
          "output_type": "execute_result",
          "data": {
            "text/plain": [
              "{'BENIGN': 449720,\n",
              " 'Bot': 143,\n",
              " 'DDoS': 25334,\n",
              " 'DoS GoldenEye': 1984,\n",
              " 'DoS Hulk': 42897,\n",
              " 'FTP-Patator': 1618,\n",
              " 'SSH-Patator': 603}"
            ]
          },
          "metadata": {
            "tags": []
          },
          "execution_count": 64
        }
      ]
    },
    {
      "cell_type": "code",
      "metadata": {
        "id": "nb9GRY88g5UZ",
        "colab_type": "code",
        "outputId": "0aa33310-ead0-4f64-8c86-1af6d7363bef",
        "colab": {
          "base_uri": "https://localhost:8080/",
          "height": 121
        }
      },
      "source": [
        "false"
      ],
      "execution_count": 65,
      "outputs": [
        {
          "output_type": "execute_result",
          "data": {
            "text/plain": [
              "{'BENIGN': 4142,\n",
              " 'Bot': 28,\n",
              " 'DDoS': 121,\n",
              " 'DoS GoldenEye': 112,\n",
              " 'DoS Hulk': 4685,\n",
              " 'FTP-Patator': 7}"
            ]
          },
          "metadata": {
            "tags": []
          },
          "execution_count": 65
        }
      ]
    },
    {
      "cell_type": "code",
      "metadata": {
        "id": "kWjEjOdxg6CJ",
        "colab_type": "code",
        "outputId": "5db23d61-015d-4f59-8a0f-e6f32e4492c9",
        "colab": {
          "base_uri": "https://localhost:8080/",
          "height": 156
        }
      },
      "source": [
        "not_detected"
      ],
      "execution_count": 66,
      "outputs": [
        {
          "output_type": "execute_result",
          "data": {
            "text/plain": [
              "{'BENIGN': 4943,\n",
              " 'Bot': 219,\n",
              " 'DDoS': 54,\n",
              " 'DoS GoldenEye': 72,\n",
              " 'DoS Hulk': 3187,\n",
              " 'FTP-Patator': 32,\n",
              " 'Infiltration': 3,\n",
              " 'SSH-Patator': 585}"
            ]
          },
          "metadata": {
            "tags": []
          },
          "execution_count": 66
        }
      ]
    },
    {
      "cell_type": "code",
      "metadata": {
        "id": "nKSM0VRqg9HA",
        "colab_type": "code",
        "colab": {}
      },
      "source": [
        ""
      ],
      "execution_count": 0,
      "outputs": []
    }
  ]
}