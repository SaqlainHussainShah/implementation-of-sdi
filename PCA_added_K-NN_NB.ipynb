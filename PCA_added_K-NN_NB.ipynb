{
  "nbformat": 4,
  "nbformat_minor": 0,
  "metadata": {
    "colab": {
      "name": "PCA added.ipynb",
      "provenance": [],
      "collapsed_sections": [],
      "include_colab_link": true
    },
    "kernelspec": {
      "name": "python3",
      "display_name": "Python 3"
    },
    "accelerator": "GPU"
  },
  "cells": [
    {
      "cell_type": "markdown",
      "metadata": {
        "id": "view-in-github",
        "colab_type": "text"
      },
      "source": [
        "<a href=\"https://colab.research.google.com/github/SaqlainHussainShah/implementation-of-sdi/blob/master/PCA_added_K-NN_NB.ipynb\" target=\"_parent\"><img src=\"https://colab.research.google.com/assets/colab-badge.svg\" alt=\"Open In Colab\"/></a>"
      ]
    },
    {
      "cell_type": "code",
      "metadata": {
        "id": "DPjrq9AOht31",
        "colab_type": "code",
        "colab": {}
      },
      "source": [
        "import pandas as pd\n",
        "import matplotlib.pyplot as plt\n",
        "import numpy as np\n",
        "import time\n",
        "from sklearn.metrics import accuracy_score"
      ],
      "execution_count": 0,
      "outputs": []
    },
    {
      "cell_type": "code",
      "metadata": {
        "id": "9oFnCm2TiDXp",
        "colab_type": "code",
        "colab": {
          "base_uri": "https://localhost:8080/",
          "height": 124
        },
        "outputId": "35714391-9911-469d-f72b-5eb0132d3250"
      },
      "source": [
        "from google.colab import drive\n",
        "drive.mount('/content/drive')"
      ],
      "execution_count": 3,
      "outputs": [
        {
          "output_type": "stream",
          "text": [
            "Go to this URL in a browser: https://accounts.google.com/o/oauth2/auth?client_id=947318989803-6bn6qk8qdgf4n4g3pfee6491hc0brc4i.apps.googleusercontent.com&redirect_uri=urn%3aietf%3awg%3aoauth%3a2.0%3aoob&response_type=code&scope=email%20https%3a%2f%2fwww.googleapis.com%2fauth%2fdocs.test%20https%3a%2f%2fwww.googleapis.com%2fauth%2fdrive%20https%3a%2f%2fwww.googleapis.com%2fauth%2fdrive.photos.readonly%20https%3a%2f%2fwww.googleapis.com%2fauth%2fpeopleapi.readonly\n",
            "\n",
            "Enter your authorization code:\n",
            "··········\n",
            "Mounted at /content/drive\n"
          ],
          "name": "stdout"
        }
      ]
    },
    {
      "cell_type": "code",
      "metadata": {
        "id": "LHtcWLQUiEBA",
        "colab_type": "code",
        "outputId": "92e58da1-e0b4-4cb5-fea1-0829e9df06f0",
        "colab": {
          "base_uri": "https://localhost:8080/",
          "height": 34
        }
      },
      "source": [
        "len(df.columns)"
      ],
      "execution_count": 0,
      "outputs": [
        {
          "output_type": "execute_result",
          "data": {
            "text/plain": [
              "86"
            ]
          },
          "metadata": {
            "tags": []
          },
          "execution_count": 10
        }
      ]
    },
    {
      "cell_type": "code",
      "metadata": {
        "id": "C_QbUwVQjdou",
        "colab_type": "code",
        "outputId": "44b45aed-7038-4afb-a015-cff84ed01457",
        "colab": {
          "base_uri": "https://localhost:8080/",
          "height": 124
        }
      },
      "source": [
        "t1=time.time()\n",
        "df1=pd.read_csv(\"/content/drive/My Drive/Friday-WorkingHours-Afternoon-DDos.pcap_ISCX.csv\")\n",
        "df2=pd.read_csv(\"/content/drive/My Drive/Friday-WorkingHours-Afternoon-PortScan.pcap_ISCX.csv\")\n",
        "df3=pd.read_csv(\"/content/drive/My Drive/Friday-WorkingHours-Morning.pcap_ISCX.csv\")\n",
        "df4=pd.read_csv(\"/content/drive/My Drive/Monday-WorkingHours.pcap_ISCX.csv\")\n",
        "df5=pd.read_csv(\"/content/drive/My Drive/Thursday-WorkingHours-Afternoon-Infilteration.pcap_ISCX.csv\")\n",
        "df6=pd.read_csv(\"/content/drive/My Drive/Thursday-WorkingHours-Morning-WebAttacks.pcap_ISCX.csv\")\n",
        "df7=pd.read_csv(\"/content/drive/My Drive/Tuesday-WorkingHours.pcap_ISCX.csv\")\n",
        "df8=pd.read_csv(\"/content/drive/My Drive/Wednesday-workingHours.pcap_ISCX.csv\")\n",
        "t2=time.time()\n",
        "print(\" time = \" , (t2-t1)/60 , \" minutes \")"
      ],
      "execution_count": 4,
      "outputs": [
        {
          "output_type": "stream",
          "text": [
            "/usr/local/lib/python3.6/dist-packages/IPython/core/interactiveshell.py:2718: DtypeWarning: Columns (20,21) have mixed types. Specify dtype option on import or set low_memory=False.\n",
            "  interactivity=interactivity, compiler=compiler, result=result)\n",
            "/usr/local/lib/python3.6/dist-packages/IPython/core/interactiveshell.py:2718: DtypeWarning: Columns (20) have mixed types. Specify dtype option on import or set low_memory=False.\n",
            "  interactivity=interactivity, compiler=compiler, result=result)\n"
          ],
          "name": "stderr"
        },
        {
          "output_type": "stream",
          "text": [
            " time =  0.5819973111152649  minutes \n"
          ],
          "name": "stdout"
        }
      ]
    },
    {
      "cell_type": "code",
      "metadata": {
        "id": "UtVMTB7Jj9Cm",
        "colab_type": "code",
        "colab": {}
      },
      "source": [
        "pdList=[df1,df2,df3,df4,df5,df6,df7,df8]\n",
        "df = pd.concat(pdList)"
      ],
      "execution_count": 0,
      "outputs": []
    },
    {
      "cell_type": "code",
      "metadata": {
        "id": "oIWJAEjXoaQZ",
        "colab_type": "code",
        "colab": {}
      },
      "source": [
        "del pdList\n",
        "del df1\n",
        "del df2\n",
        "del df3\n",
        "del df4\n",
        "del df5\n",
        "del df6\n",
        "del df7\n",
        "del df8"
      ],
      "execution_count": 0,
      "outputs": []
    },
    {
      "cell_type": "code",
      "metadata": {
        "id": "zdmwlauAkBMM",
        "colab_type": "code",
        "outputId": "611942ee-ffaf-428a-fc74-3a3a9bf0a581",
        "colab": {
          "base_uri": "https://localhost:8080/",
          "height": 141
        }
      },
      "source": [
        "df2=df[df.columns[7:-1]]\n",
        "df2[' Label']=df[' Label']\n",
        "df=df2\n",
        "df2=[]"
      ],
      "execution_count": 7,
      "outputs": [
        {
          "output_type": "stream",
          "text": [
            "/usr/local/lib/python3.6/dist-packages/ipykernel_launcher.py:2: SettingWithCopyWarning: \n",
            "A value is trying to be set on a copy of a slice from a DataFrame.\n",
            "Try using .loc[row_indexer,col_indexer] = value instead\n",
            "\n",
            "See the caveats in the documentation: http://pandas.pydata.org/pandas-docs/stable/user_guide/indexing.html#returning-a-view-versus-a-copy\n",
            "  \n"
          ],
          "name": "stderr"
        }
      ]
    },
    {
      "cell_type": "code",
      "metadata": {
        "id": "vv3oDJh60kJf",
        "colab_type": "code",
        "colab": {}
      },
      "source": [
        "del df2"
      ],
      "execution_count": 0,
      "outputs": []
    },
    {
      "cell_type": "markdown",
      "metadata": {
        "id": "TV30TEg2nzKz",
        "colab_type": "text"
      },
      "source": [
        "### Some required preprocessing"
      ]
    },
    {
      "cell_type": "code",
      "metadata": {
        "id": "qMvGD5fbnlD9",
        "colab_type": "code",
        "colab": {}
      },
      "source": [
        "df=df.dropna( axis=0, how='any')\n",
        "df=df.replace(',,', np.nan, inplace=False)\n",
        "df=df.drop(columns=[' Fwd Header Length.1'], axis=1, inplace=False)"
      ],
      "execution_count": 0,
      "outputs": []
    },
    {
      "cell_type": "code",
      "metadata": {
        "id": "NAOouvx9nnis",
        "colab_type": "code",
        "outputId": "f45283d2-67c4-43cf-8293-44b042c17a59",
        "colab": {
          "base_uri": "https://localhost:8080/",
          "height": 486
        }
      },
      "source": [
        "df.columns\n"
      ],
      "execution_count": 0,
      "outputs": [
        {
          "output_type": "execute_result",
          "data": {
            "text/plain": [
              "Index([' Flow Duration', ' Total Fwd Packets', ' Total Backward Packets',\n",
              "       'Total Length of Fwd Packets', ' Total Length of Bwd Packets',\n",
              "       ' Fwd Packet Length Max', ' Fwd Packet Length Min',\n",
              "       ' Fwd Packet Length Mean', ' Fwd Packet Length Std',\n",
              "       'Bwd Packet Length Max', ' Bwd Packet Length Min',\n",
              "       ' Bwd Packet Length Mean', ' Bwd Packet Length Std', 'Flow Bytes/s',\n",
              "       ' Flow Packets/s', ' Flow IAT Mean', ' Flow IAT Std', ' Flow IAT Max',\n",
              "       ' Flow IAT Min', 'Fwd IAT Total', ' Fwd IAT Mean', ' Fwd IAT Std',\n",
              "       ' Fwd IAT Max', ' Fwd IAT Min', 'Bwd IAT Total', ' Bwd IAT Mean',\n",
              "       ' Bwd IAT Std', ' Bwd IAT Max', ' Bwd IAT Min', 'Fwd PSH Flags',\n",
              "       ' Bwd PSH Flags', ' Fwd URG Flags', ' Bwd URG Flags',\n",
              "       ' Fwd Header Length', ' Bwd Header Length', 'Fwd Packets/s',\n",
              "       ' Bwd Packets/s', ' Min Packet Length', ' Max Packet Length',\n",
              "       ' Packet Length Mean', ' Packet Length Std', ' Packet Length Variance',\n",
              "       'FIN Flag Count', ' SYN Flag Count', ' RST Flag Count',\n",
              "       ' PSH Flag Count', ' ACK Flag Count', ' URG Flag Count',\n",
              "       ' CWE Flag Count', ' ECE Flag Count', ' Down/Up Ratio',\n",
              "       ' Average Packet Size', ' Avg Fwd Segment Size',\n",
              "       ' Avg Bwd Segment Size', 'Fwd Avg Bytes/Bulk', ' Fwd Avg Packets/Bulk',\n",
              "       ' Fwd Avg Bulk Rate', ' Bwd Avg Bytes/Bulk', ' Bwd Avg Packets/Bulk',\n",
              "       'Bwd Avg Bulk Rate', 'Subflow Fwd Packets', ' Subflow Fwd Bytes',\n",
              "       ' Subflow Bwd Packets', ' Subflow Bwd Bytes', 'Init_Win_bytes_forward',\n",
              "       ' Init_Win_bytes_backward', ' act_data_pkt_fwd',\n",
              "       ' min_seg_size_forward', 'Active Mean', ' Active Std', ' Active Max',\n",
              "       ' Active Min', 'Idle Mean', ' Idle Std', ' Idle Max', ' Idle Min',\n",
              "       ' Label'],\n",
              "      dtype='object')"
            ]
          },
          "metadata": {
            "tags": []
          },
          "execution_count": 24
        }
      ]
    },
    {
      "cell_type": "code",
      "metadata": {
        "id": "QwS2UIVUnpoP",
        "colab_type": "code",
        "colab": {}
      },
      "source": [
        "df.replace(\"Infinity\", 0, inplace=True)\n",
        "df['Flow Bytes/s'].replace(\"Infinity\", 0,inplace=True)\n",
        "df[\" Flow Packets/s\"].replace(\"Infinity\", 0, inplace=True)\n",
        "df[\" Flow Packets/s\"].replace(np.nan, 0, inplace=True)\n",
        "df['Flow Bytes/s'].replace(np.nan, 0,inplace=True)\n",
        "\n",
        "\n",
        "df[\"Bwd Avg Bulk Rate\"].replace(\"Infinity\", 0, inplace=True)\n",
        "df[\"Bwd Avg Bulk Rate\"].replace(\",,\", 0, inplace=True)\n",
        "df[\"Bwd Avg Bulk Rate\"].replace(np.nan, 0, inplace=True)\n",
        "\n",
        "df[\" Bwd Avg Packets/Bulk\"].replace(\"Infinity\", 0, inplace=True)\n",
        "df[\" Bwd Avg Packets/Bulk\"].replace(\",,\", 0, inplace=True)\n",
        "df[\" Bwd Avg Packets/Bulk\"].replace(np.nan, 0, inplace=True)\n",
        "\n",
        "\n",
        "df[\" Bwd Avg Bytes/Bulk\"].replace(\"Infinity\", 0, inplace=True)\n",
        "df[\" Bwd Avg Bytes/Bulk\"].replace(\",,\", 0, inplace=True)\n",
        "df[\" Bwd Avg Bytes/Bulk\"].replace(np.nan, 0, inplace=True)\n",
        "\n",
        "\n",
        "df[\" Fwd Avg Bulk Rate\"].replace(\"Infinity\", 0, inplace=True)\n",
        "df[\" Fwd Avg Bulk Rate\"].replace(\",,\", 0, inplace=True)\n",
        "df[\" Fwd Avg Bulk Rate\"].replace(np.nan, 0, inplace=True)\n",
        "\n",
        "\n",
        "df[\" Fwd Avg Packets/Bulk\"].replace(\"Infinity\", 0, inplace=True)\n",
        "df[\" Fwd Avg Packets/Bulk\"].replace(\",,\", 0, inplace=True)\n",
        "df[\" Fwd Avg Packets/Bulk\"].replace(np.nan, 0, inplace=True)\n",
        "\n",
        "\n",
        "df[\"Fwd Avg Bytes/Bulk\"].replace(\"Infinity\", 0, inplace=True)\n",
        "df[\"Fwd Avg Bytes/Bulk\"].replace(\",,\", 0, inplace=True)\n",
        "df[\"Fwd Avg Bytes/Bulk\"].replace(np.nan, 0, inplace=True)\n",
        "\n",
        "\n",
        "df[\" CWE Flag Count\"].replace(\"Infinity\", 0, inplace=True)\n",
        "df[\" CWE Flag Count\"].replace(\",,\", 0, inplace=True)\n",
        "df[\" CWE Flag Count\"].replace(np.nan, 0, inplace=True)\n",
        "\n",
        "df[\" Bwd URG Flags\"].replace(\"Infinity\", 0, inplace=True)\n",
        "df[\" Bwd URG Flags\"].replace(\",,\", 0, inplace=True)\n",
        "df[\" Bwd URG Flags\"].replace(np.nan, 0, inplace=True)\n",
        "\n",
        "df[\" Bwd PSH Flags\"].replace(\"Infinity\", 0, inplace=True)\n",
        "df[\" Bwd PSH Flags\"].replace(\",,\", 0, inplace=True)\n",
        "df[\" Bwd PSH Flags\"].replace(np.nan, 0, inplace=True)\n",
        "\n",
        "df[\" Fwd URG Flags\"].replace(\"Infinity\", 0, inplace=True)\n",
        "df[\" Fwd URG Flags\"].replace(\",,\", 0, inplace=True)\n",
        "df[\" Fwd URG Flags\"].replace(np.nan, 0, inplace=True)\n",
        "\n",
        "\n",
        "\n",
        "\n"
      ],
      "execution_count": 0,
      "outputs": []
    },
    {
      "cell_type": "code",
      "metadata": {
        "id": "TJty4s1ApYzF",
        "colab_type": "code",
        "colab": {}
      },
      "source": [
        "df[\"Flow Bytes/s\"]=df[\"Flow Bytes/s\"].astype(\"float64\")\n",
        "df[' Flow Packets/s']=df[\" Flow Packets/s\"].astype(\"float64\")\n",
        "\n",
        "\n"
      ],
      "execution_count": 0,
      "outputs": []
    },
    {
      "cell_type": "code",
      "metadata": {
        "id": "ENouncTXK2V5",
        "colab_type": "code",
        "colab": {}
      },
      "source": [
        "df['Bwd Avg Bulk Rate']=df[\"Bwd Avg Bulk Rate\"].astype(\"float64\")\n",
        "df[' Bwd Avg Packets/Bulk']=df[\" Bwd Avg Packets/Bulk\"].astype(\"float64\")\n",
        "df[' Bwd Avg Bytes/Bulk']=df[\" Bwd Avg Bytes/Bulk\"].astype(\"float64\")\n",
        "df[' Fwd Avg Bulk Rate']=df[\" Fwd Avg Bulk Rate\"].astype(\"float64\")\n",
        "df[' Fwd Avg Packets/Bulk']=df[\" Fwd Avg Packets/Bulk\"].astype(\"float64\")\n",
        "df['Fwd Avg Bytes/Bulk']=df[\"Fwd Avg Bytes/Bulk\"].astype(\"float64\")\n",
        "df[' CWE Flag Count']=df[\" CWE Flag Count\"].astype(\"float64\")\n",
        "df[' Bwd URG Flags']=df[\" Bwd URG Flags\"].astype(\"float64\")\n",
        "df[' Bwd PSH Flags']=df[\" Bwd PSH Flags\"].astype(\"float64\")\n",
        "df[' Fwd URG Flags']=df[\" Fwd URG Flags\"].astype(\"float64\")"
      ],
      "execution_count": 0,
      "outputs": []
    },
    {
      "cell_type": "code",
      "metadata": {
        "id": "8bd3-AJK9F-6",
        "colab_type": "code",
        "colab": {}
      },
      "source": [
        "# Bwd Avg Bulk Rate\n",
        "# Bwd Avg Packets/Bulk\n",
        "# Bwd Avg Bytes/Bulk\n",
        "# Fwd Avg Bulk Rate\n",
        "# Fwd Avg Packets/Bulk\n",
        "# Fwd Avg Bytes/Bulk\n",
        "# CWE Flag Count\n",
        "# Bwd URG Flags\n",
        "# Bwd PSH Flags \n",
        "# Fwd URG Flags\n"
      ],
      "execution_count": 0,
      "outputs": []
    },
    {
      "cell_type": "code",
      "metadata": {
        "id": "9TRO7pPKISa8",
        "colab_type": "code",
        "colab": {}
      },
      "source": [
        "pd.set_option('display.max_rows', df.shape[0])"
      ],
      "execution_count": 0,
      "outputs": []
    },
    {
      "cell_type": "code",
      "metadata": {
        "id": "EEud20cvIU7X",
        "colab_type": "code",
        "colab": {}
      },
      "source": [
        "df[['Bwd Avg Bulk Rate',' Bwd Avg Packets/Bulk',  ' Bwd Avg Bytes/Bulk',' Fwd Avg Bulk Rate',' Fwd Avg Packets/Bulk','Fwd Avg Bytes/Bulk', ' CWE Flag Count', ' Bwd URG Flags', ' Bwd PSH Flags', ' Fwd URG Flags']].head(1000)"
      ],
      "execution_count": 0,
      "outputs": []
    },
    {
      "cell_type": "code",
      "metadata": {
        "id": "xYTwCViOKjDX",
        "colab_type": "code",
        "colab": {}
      },
      "source": [
        "df[['Bwd Avg Bulk Rate',' Bwd Avg Packets/Bulk',  ' Bwd Avg Bytes/Bulk',' Fwd Avg Bulk Rate',' Fwd Avg Packets/Bulk','Fwd Avg Bytes/Bulk', ' CWE Flag Count', ' Bwd URG Flags', ' Bwd PSH Flags', ' Fwd URG Flags']].info()"
      ],
      "execution_count": 0,
      "outputs": []
    },
    {
      "cell_type": "code",
      "metadata": {
        "id": "RwNl_ePqpj8i",
        "colab_type": "code",
        "colab": {}
      },
      "source": [
        "X=df[df.columns[1:-1]]\n",
        "y=df[df.columns[-1]]\n"
      ],
      "execution_count": 0,
      "outputs": []
    },
    {
      "cell_type": "code",
      "metadata": {
        "id": "Bv-9eyimLSti",
        "colab_type": "code",
        "outputId": "899965d3-445c-44e0-bef0-b0bbb4ea683a",
        "colab": {
          "base_uri": "https://localhost:8080/",
          "height": 124
        }
      },
      "source": [
        "X.replace('Infinity',0.0, inplace=True)"
      ],
      "execution_count": 0,
      "outputs": [
        {
          "output_type": "stream",
          "text": [
            "/usr/local/lib/python3.6/dist-packages/pandas/core/frame.py:4278: SettingWithCopyWarning: \n",
            "A value is trying to be set on a copy of a slice from a DataFrame\n",
            "\n",
            "See the caveats in the documentation: http://pandas.pydata.org/pandas-docs/stable/user_guide/indexing.html#returning-a-view-versus-a-copy\n",
            "  method=method,\n"
          ],
          "name": "stderr"
        }
      ]
    },
    {
      "cell_type": "code",
      "metadata": {
        "id": "k-xx0r9J21-K",
        "colab_type": "code",
        "colab": {}
      },
      "source": [
        "del df"
      ],
      "execution_count": 0,
      "outputs": []
    },
    {
      "cell_type": "code",
      "metadata": {
        "id": "fJI7iqEGLhMN",
        "colab_type": "code",
        "outputId": "55de16d3-7621-4c61-acd0-f778c3da6e90",
        "colab": {
          "base_uri": "https://localhost:8080/",
          "height": 124
        }
      },
      "source": [
        "X.replace('NaN',0.0, inplace=True)"
      ],
      "execution_count": 0,
      "outputs": [
        {
          "output_type": "stream",
          "text": [
            "/usr/local/lib/python3.6/dist-packages/pandas/core/frame.py:4278: SettingWithCopyWarning: \n",
            "A value is trying to be set on a copy of a slice from a DataFrame\n",
            "\n",
            "See the caveats in the documentation: http://pandas.pydata.org/pandas-docs/stable/user_guide/indexing.html#returning-a-view-versus-a-copy\n",
            "  method=method,\n"
          ],
          "name": "stderr"
        }
      ]
    },
    {
      "cell_type": "markdown",
      "metadata": {
        "id": "9p5fnK0u11vl",
        "colab_type": "text"
      },
      "source": [
        "Z score"
      ]
    },
    {
      "cell_type": "code",
      "metadata": {
        "id": "Y1KXtSyeKSGo",
        "colab_type": "code",
        "colab": {}
      },
      "source": [
        "from scipy import stats"
      ],
      "execution_count": 0,
      "outputs": []
    },
    {
      "cell_type": "code",
      "metadata": {
        "id": "ksyCwg-aKSM6",
        "colab_type": "code",
        "outputId": "0dd23629-2701-4cbe-a9f6-52477e7938dd",
        "colab": {
          "base_uri": "https://localhost:8080/",
          "height": 176
        }
      },
      "source": [
        "cols = list(X.columns)\n",
        "for col in cols:\n",
        "    X[col] = stats.zscore(X[col])\n",
        "    "
      ],
      "execution_count": 0,
      "outputs": [
        {
          "output_type": "stream",
          "text": [
            "/usr/local/lib/python3.6/dist-packages/ipykernel_launcher.py:3: SettingWithCopyWarning: \n",
            "A value is trying to be set on a copy of a slice from a DataFrame.\n",
            "Try using .loc[row_indexer,col_indexer] = value instead\n",
            "\n",
            "See the caveats in the documentation: http://pandas.pydata.org/pandas-docs/stable/user_guide/indexing.html#returning-a-view-versus-a-copy\n",
            "  This is separate from the ipykernel package so we can avoid doing imports until\n",
            "/usr/local/lib/python3.6/dist-packages/scipy/stats/stats.py:2315: RuntimeWarning: invalid value encountered in true_divide\n",
            "  return (a - mns) / sstd\n"
          ],
          "name": "stderr"
        }
      ]
    },
    {
      "cell_type": "code",
      "metadata": {
        "id": "iYJKPPceLsOJ",
        "colab_type": "code",
        "outputId": "b5492692-9c32-4eaa-e2c7-3d5b905cdccf",
        "colab": {
          "base_uri": "https://localhost:8080/",
          "height": 124
        }
      },
      "source": [
        "X.replace(np.nan, 0, inplace=True)"
      ],
      "execution_count": 0,
      "outputs": [
        {
          "output_type": "stream",
          "text": [
            "/usr/local/lib/python3.6/dist-packages/pandas/core/frame.py:4278: SettingWithCopyWarning: \n",
            "A value is trying to be set on a copy of a slice from a DataFrame\n",
            "\n",
            "See the caveats in the documentation: http://pandas.pydata.org/pandas-docs/stable/user_guide/indexing.html#returning-a-view-versus-a-copy\n",
            "  method=method,\n"
          ],
          "name": "stderr"
        }
      ]
    },
    {
      "cell_type": "code",
      "metadata": {
        "id": "Epf1WRPMK8er",
        "colab_type": "code",
        "outputId": "89f972ca-50ca-430b-dd54-b7e608186f4a",
        "colab": {
          "base_uri": "https://localhost:8080/",
          "height": 278
        }
      },
      "source": [
        "X.head()"
      ],
      "execution_count": 0,
      "outputs": [
        {
          "output_type": "execute_result",
          "data": {
            "text/html": [
              "<div>\n",
              "<style scoped>\n",
              "    .dataframe tbody tr th:only-of-type {\n",
              "        vertical-align: middle;\n",
              "    }\n",
              "\n",
              "    .dataframe tbody tr th {\n",
              "        vertical-align: top;\n",
              "    }\n",
              "\n",
              "    .dataframe thead th {\n",
              "        text-align: right;\n",
              "    }\n",
              "</style>\n",
              "<table border=\"1\" class=\"dataframe\">\n",
              "  <thead>\n",
              "    <tr style=\"text-align: right;\">\n",
              "      <th></th>\n",
              "      <th>Total Fwd Packets</th>\n",
              "      <th>Total Backward Packets</th>\n",
              "      <th>Total Length of Fwd Packets</th>\n",
              "      <th>Total Length of Bwd Packets</th>\n",
              "      <th>Fwd Packet Length Max</th>\n",
              "      <th>Fwd Packet Length Min</th>\n",
              "      <th>Fwd Packet Length Mean</th>\n",
              "      <th>Fwd Packet Length Std</th>\n",
              "      <th>Bwd Packet Length Max</th>\n",
              "      <th>Bwd Packet Length Min</th>\n",
              "      <th>Bwd Packet Length Mean</th>\n",
              "      <th>Bwd Packet Length Std</th>\n",
              "      <th>Flow Bytes/s</th>\n",
              "      <th>Flow Packets/s</th>\n",
              "      <th>Flow IAT Mean</th>\n",
              "      <th>Flow IAT Std</th>\n",
              "      <th>Flow IAT Max</th>\n",
              "      <th>Flow IAT Min</th>\n",
              "      <th>Fwd IAT Total</th>\n",
              "      <th>Fwd IAT Mean</th>\n",
              "      <th>Fwd IAT Std</th>\n",
              "      <th>Fwd IAT Max</th>\n",
              "      <th>Fwd IAT Min</th>\n",
              "      <th>Bwd IAT Total</th>\n",
              "      <th>Bwd IAT Mean</th>\n",
              "      <th>Bwd IAT Std</th>\n",
              "      <th>Bwd IAT Max</th>\n",
              "      <th>Bwd IAT Min</th>\n",
              "      <th>Fwd PSH Flags</th>\n",
              "      <th>Bwd PSH Flags</th>\n",
              "      <th>Fwd URG Flags</th>\n",
              "      <th>Bwd URG Flags</th>\n",
              "      <th>Fwd Header Length</th>\n",
              "      <th>Bwd Header Length</th>\n",
              "      <th>Fwd Packets/s</th>\n",
              "      <th>Bwd Packets/s</th>\n",
              "      <th>Min Packet Length</th>\n",
              "      <th>Max Packet Length</th>\n",
              "      <th>Packet Length Mean</th>\n",
              "      <th>Packet Length Std</th>\n",
              "      <th>Packet Length Variance</th>\n",
              "      <th>FIN Flag Count</th>\n",
              "      <th>SYN Flag Count</th>\n",
              "      <th>RST Flag Count</th>\n",
              "      <th>PSH Flag Count</th>\n",
              "      <th>ACK Flag Count</th>\n",
              "      <th>URG Flag Count</th>\n",
              "      <th>CWE Flag Count</th>\n",
              "      <th>ECE Flag Count</th>\n",
              "      <th>Down/Up Ratio</th>\n",
              "      <th>Average Packet Size</th>\n",
              "      <th>Avg Fwd Segment Size</th>\n",
              "      <th>Avg Bwd Segment Size</th>\n",
              "      <th>Fwd Avg Bytes/Bulk</th>\n",
              "      <th>Fwd Avg Packets/Bulk</th>\n",
              "      <th>Fwd Avg Bulk Rate</th>\n",
              "      <th>Bwd Avg Bytes/Bulk</th>\n",
              "      <th>Bwd Avg Packets/Bulk</th>\n",
              "      <th>Bwd Avg Bulk Rate</th>\n",
              "      <th>Subflow Fwd Packets</th>\n",
              "      <th>Subflow Fwd Bytes</th>\n",
              "      <th>Subflow Bwd Packets</th>\n",
              "      <th>Subflow Bwd Bytes</th>\n",
              "      <th>Init_Win_bytes_forward</th>\n",
              "      <th>Init_Win_bytes_backward</th>\n",
              "      <th>act_data_pkt_fwd</th>\n",
              "      <th>min_seg_size_forward</th>\n",
              "      <th>Active Mean</th>\n",
              "      <th>Active Std</th>\n",
              "      <th>Active Max</th>\n",
              "      <th>Active Min</th>\n",
              "      <th>Idle Mean</th>\n",
              "      <th>Idle Std</th>\n",
              "      <th>Idle Max</th>\n",
              "      <th>Idle Min</th>\n",
              "    </tr>\n",
              "  </thead>\n",
              "  <tbody>\n",
              "    <tr>\n",
              "      <th>0</th>\n",
              "      <td>-0.008670</td>\n",
              "      <td>-0.009480</td>\n",
              "      <td>-0.099198</td>\n",
              "      <td>-0.006317</td>\n",
              "      <td>-0.243674</td>\n",
              "      <td>-0.181414</td>\n",
              "      <td>-0.251578</td>\n",
              "      <td>-0.209287</td>\n",
              "      <td>-0.398974</td>\n",
              "      <td>-0.579174</td>\n",
              "      <td>-0.456238</td>\n",
              "      <td>-0.351899</td>\n",
              "      <td>0.112697</td>\n",
              "      <td>2.978628</td>\n",
              "      <td>-0.240392</td>\n",
              "      <td>-0.303112</td>\n",
              "      <td>-0.324677</td>\n",
              "      <td>-0.055526</td>\n",
              "      <td>-0.358515</td>\n",
              "      <td>-0.215229</td>\n",
              "      <td>-0.287415</td>\n",
              "      <td>-0.310385</td>\n",
              "      <td>-0.118529</td>\n",
              "      <td>-0.306716</td>\n",
              "      <td>-0.17376</td>\n",
              "      <td>-0.227008</td>\n",
              "      <td>-0.249718</td>\n",
              "      <td>-0.112733</td>\n",
              "      <td>-0.220634</td>\n",
              "      <td>0.0</td>\n",
              "      <td>0.0</td>\n",
              "      <td>0.0</td>\n",
              "      <td>0.002376</td>\n",
              "      <td>0.002985</td>\n",
              "      <td>3.194851</td>\n",
              "      <td>-0.207258</td>\n",
              "      <td>-0.418424</td>\n",
              "      <td>-0.425196</td>\n",
              "      <td>-0.496094</td>\n",
              "      <td>-0.421853</td>\n",
              "      <td>-0.272789</td>\n",
              "      <td>-0.120773</td>\n",
              "      <td>-0.220634</td>\n",
              "      <td>-0.011673</td>\n",
              "      <td>-0.749598</td>\n",
              "      <td>1.552025</td>\n",
              "      <td>-0.339038</td>\n",
              "      <td>0.0</td>\n",
              "      <td>-0.011708</td>\n",
              "      <td>-0.974442</td>\n",
              "      <td>-0.500124</td>\n",
              "      <td>-0.251578</td>\n",
              "      <td>-0.456238</td>\n",
              "      <td>0.0</td>\n",
              "      <td>0.0</td>\n",
              "      <td>0.0</td>\n",
              "      <td>0.0</td>\n",
              "      <td>0.0</td>\n",
              "      <td>0.0</td>\n",
              "      <td>-0.008670</td>\n",
              "      <td>-0.099198</td>\n",
              "      <td>-0.009480</td>\n",
              "      <td>-0.006317</td>\n",
              "      <td>-0.532256</td>\n",
              "      <td>-0.238310</td>\n",
              "      <td>-0.006908</td>\n",
              "      <td>0.004303</td>\n",
              "      <td>-0.128172</td>\n",
              "      <td>-0.096105</td>\n",
              "      <td>-0.146664</td>\n",
              "      <td>-0.109277</td>\n",
              "      <td>-0.296674</td>\n",
              "      <td>-0.134087</td>\n",
              "      <td>-0.297116</td>\n",
              "      <td>-0.271677</td>\n",
              "    </tr>\n",
              "    <tr>\n",
              "      <th>1</th>\n",
              "      <td>-0.010045</td>\n",
              "      <td>-0.008443</td>\n",
              "      <td>-0.100308</td>\n",
              "      <td>-0.006314</td>\n",
              "      <td>-0.243674</td>\n",
              "      <td>-0.181414</td>\n",
              "      <td>-0.251578</td>\n",
              "      <td>-0.209287</td>\n",
              "      <td>-0.395905</td>\n",
              "      <td>-0.492648</td>\n",
              "      <td>-0.446370</td>\n",
              "      <td>-0.351899</td>\n",
              "      <td>-0.051702</td>\n",
              "      <td>-0.171903</td>\n",
              "      <td>-0.240366</td>\n",
              "      <td>-0.303112</td>\n",
              "      <td>-0.324671</td>\n",
              "      <td>-0.055487</td>\n",
              "      <td>-0.358515</td>\n",
              "      <td>-0.215229</td>\n",
              "      <td>-0.287415</td>\n",
              "      <td>-0.310386</td>\n",
              "      <td>-0.118529</td>\n",
              "      <td>-0.306716</td>\n",
              "      <td>-0.17376</td>\n",
              "      <td>-0.227008</td>\n",
              "      <td>-0.249718</td>\n",
              "      <td>-0.112733</td>\n",
              "      <td>-0.220634</td>\n",
              "      <td>0.0</td>\n",
              "      <td>0.0</td>\n",
              "      <td>0.0</td>\n",
              "      <td>0.002368</td>\n",
              "      <td>0.003034</td>\n",
              "      <td>-0.185028</td>\n",
              "      <td>0.012556</td>\n",
              "      <td>-0.418424</td>\n",
              "      <td>-0.425196</td>\n",
              "      <td>-0.496094</td>\n",
              "      <td>-0.421853</td>\n",
              "      <td>-0.272789</td>\n",
              "      <td>-0.120773</td>\n",
              "      <td>-0.220634</td>\n",
              "      <td>-0.011673</td>\n",
              "      <td>-0.749598</td>\n",
              "      <td>1.552025</td>\n",
              "      <td>2.949521</td>\n",
              "      <td>0.0</td>\n",
              "      <td>-0.011708</td>\n",
              "      <td>0.301917</td>\n",
              "      <td>-0.500124</td>\n",
              "      <td>-0.251578</td>\n",
              "      <td>-0.446370</td>\n",
              "      <td>0.0</td>\n",
              "      <td>0.0</td>\n",
              "      <td>0.0</td>\n",
              "      <td>0.0</td>\n",
              "      <td>0.0</td>\n",
              "      <td>0.0</td>\n",
              "      <td>-0.010045</td>\n",
              "      <td>-0.100308</td>\n",
              "      <td>-0.008443</td>\n",
              "      <td>-0.006314</td>\n",
              "      <td>-0.532516</td>\n",
              "      <td>-0.208033</td>\n",
              "      <td>-0.008349</td>\n",
              "      <td>0.004303</td>\n",
              "      <td>-0.128172</td>\n",
              "      <td>-0.096105</td>\n",
              "      <td>-0.146664</td>\n",
              "      <td>-0.109277</td>\n",
              "      <td>-0.296674</td>\n",
              "      <td>-0.134087</td>\n",
              "      <td>-0.297116</td>\n",
              "      <td>-0.271677</td>\n",
              "    </tr>\n",
              "    <tr>\n",
              "      <th>2</th>\n",
              "      <td>-0.010045</td>\n",
              "      <td>-0.008443</td>\n",
              "      <td>-0.100308</td>\n",
              "      <td>-0.006314</td>\n",
              "      <td>-0.243674</td>\n",
              "      <td>-0.181414</td>\n",
              "      <td>-0.251578</td>\n",
              "      <td>-0.209287</td>\n",
              "      <td>-0.395905</td>\n",
              "      <td>-0.492648</td>\n",
              "      <td>-0.446370</td>\n",
              "      <td>-0.351899</td>\n",
              "      <td>-0.046601</td>\n",
              "      <td>-0.074164</td>\n",
              "      <td>-0.240380</td>\n",
              "      <td>-0.303112</td>\n",
              "      <td>-0.324674</td>\n",
              "      <td>-0.055508</td>\n",
              "      <td>-0.358515</td>\n",
              "      <td>-0.215229</td>\n",
              "      <td>-0.287415</td>\n",
              "      <td>-0.310386</td>\n",
              "      <td>-0.118529</td>\n",
              "      <td>-0.306716</td>\n",
              "      <td>-0.17376</td>\n",
              "      <td>-0.227008</td>\n",
              "      <td>-0.249718</td>\n",
              "      <td>-0.112733</td>\n",
              "      <td>-0.220634</td>\n",
              "      <td>0.0</td>\n",
              "      <td>0.0</td>\n",
              "      <td>0.0</td>\n",
              "      <td>0.002368</td>\n",
              "      <td>0.003034</td>\n",
              "      <td>-0.133332</td>\n",
              "      <td>0.253506</td>\n",
              "      <td>-0.418424</td>\n",
              "      <td>-0.425196</td>\n",
              "      <td>-0.496094</td>\n",
              "      <td>-0.421853</td>\n",
              "      <td>-0.272789</td>\n",
              "      <td>-0.120773</td>\n",
              "      <td>-0.220634</td>\n",
              "      <td>-0.011673</td>\n",
              "      <td>-0.749598</td>\n",
              "      <td>1.552025</td>\n",
              "      <td>2.949521</td>\n",
              "      <td>0.0</td>\n",
              "      <td>-0.011708</td>\n",
              "      <td>0.301917</td>\n",
              "      <td>-0.500124</td>\n",
              "      <td>-0.251578</td>\n",
              "      <td>-0.446370</td>\n",
              "      <td>0.0</td>\n",
              "      <td>0.0</td>\n",
              "      <td>0.0</td>\n",
              "      <td>0.0</td>\n",
              "      <td>0.0</td>\n",
              "      <td>0.0</td>\n",
              "      <td>-0.010045</td>\n",
              "      <td>-0.100308</td>\n",
              "      <td>-0.008443</td>\n",
              "      <td>-0.006314</td>\n",
              "      <td>-0.532516</td>\n",
              "      <td>-0.208033</td>\n",
              "      <td>-0.008349</td>\n",
              "      <td>0.004303</td>\n",
              "      <td>-0.128172</td>\n",
              "      <td>-0.096105</td>\n",
              "      <td>-0.146664</td>\n",
              "      <td>-0.109277</td>\n",
              "      <td>-0.296674</td>\n",
              "      <td>-0.134087</td>\n",
              "      <td>-0.297116</td>\n",
              "      <td>-0.271677</td>\n",
              "    </tr>\n",
              "    <tr>\n",
              "      <th>3</th>\n",
              "      <td>-0.010045</td>\n",
              "      <td>-0.008443</td>\n",
              "      <td>-0.100308</td>\n",
              "      <td>-0.006314</td>\n",
              "      <td>-0.243674</td>\n",
              "      <td>-0.181414</td>\n",
              "      <td>-0.251578</td>\n",
              "      <td>-0.209287</td>\n",
              "      <td>-0.395905</td>\n",
              "      <td>-0.492648</td>\n",
              "      <td>-0.446370</td>\n",
              "      <td>-0.351899</td>\n",
              "      <td>-0.041438</td>\n",
              "      <td>0.024786</td>\n",
              "      <td>-0.240385</td>\n",
              "      <td>-0.303112</td>\n",
              "      <td>-0.324675</td>\n",
              "      <td>-0.055515</td>\n",
              "      <td>-0.358515</td>\n",
              "      <td>-0.215229</td>\n",
              "      <td>-0.287415</td>\n",
              "      <td>-0.310386</td>\n",
              "      <td>-0.118529</td>\n",
              "      <td>-0.306716</td>\n",
              "      <td>-0.17376</td>\n",
              "      <td>-0.227008</td>\n",
              "      <td>-0.249718</td>\n",
              "      <td>-0.112733</td>\n",
              "      <td>-0.220634</td>\n",
              "      <td>0.0</td>\n",
              "      <td>0.0</td>\n",
              "      <td>0.0</td>\n",
              "      <td>0.002368</td>\n",
              "      <td>0.003034</td>\n",
              "      <td>-0.080996</td>\n",
              "      <td>0.497440</td>\n",
              "      <td>-0.418424</td>\n",
              "      <td>-0.425196</td>\n",
              "      <td>-0.496094</td>\n",
              "      <td>-0.421853</td>\n",
              "      <td>-0.272789</td>\n",
              "      <td>-0.120773</td>\n",
              "      <td>-0.220634</td>\n",
              "      <td>-0.011673</td>\n",
              "      <td>-0.749598</td>\n",
              "      <td>1.552025</td>\n",
              "      <td>2.949521</td>\n",
              "      <td>0.0</td>\n",
              "      <td>-0.011708</td>\n",
              "      <td>0.301917</td>\n",
              "      <td>-0.500124</td>\n",
              "      <td>-0.251578</td>\n",
              "      <td>-0.446370</td>\n",
              "      <td>0.0</td>\n",
              "      <td>0.0</td>\n",
              "      <td>0.0</td>\n",
              "      <td>0.0</td>\n",
              "      <td>0.0</td>\n",
              "      <td>0.0</td>\n",
              "      <td>-0.010045</td>\n",
              "      <td>-0.100308</td>\n",
              "      <td>-0.008443</td>\n",
              "      <td>-0.006314</td>\n",
              "      <td>-0.532386</td>\n",
              "      <td>-0.199432</td>\n",
              "      <td>-0.008349</td>\n",
              "      <td>0.004303</td>\n",
              "      <td>-0.128172</td>\n",
              "      <td>-0.096105</td>\n",
              "      <td>-0.146664</td>\n",
              "      <td>-0.109277</td>\n",
              "      <td>-0.296674</td>\n",
              "      <td>-0.134087</td>\n",
              "      <td>-0.297116</td>\n",
              "      <td>-0.271677</td>\n",
              "    </tr>\n",
              "    <tr>\n",
              "      <th>4</th>\n",
              "      <td>-0.008670</td>\n",
              "      <td>-0.009480</td>\n",
              "      <td>-0.099198</td>\n",
              "      <td>-0.006317</td>\n",
              "      <td>-0.243674</td>\n",
              "      <td>-0.181414</td>\n",
              "      <td>-0.251578</td>\n",
              "      <td>-0.209287</td>\n",
              "      <td>-0.398974</td>\n",
              "      <td>-0.579174</td>\n",
              "      <td>-0.456238</td>\n",
              "      <td>-0.351899</td>\n",
              "      <td>0.112697</td>\n",
              "      <td>2.978628</td>\n",
              "      <td>-0.240392</td>\n",
              "      <td>-0.303112</td>\n",
              "      <td>-0.324677</td>\n",
              "      <td>-0.055526</td>\n",
              "      <td>-0.358515</td>\n",
              "      <td>-0.215229</td>\n",
              "      <td>-0.287415</td>\n",
              "      <td>-0.310385</td>\n",
              "      <td>-0.118529</td>\n",
              "      <td>-0.306716</td>\n",
              "      <td>-0.17376</td>\n",
              "      <td>-0.227008</td>\n",
              "      <td>-0.249718</td>\n",
              "      <td>-0.112733</td>\n",
              "      <td>-0.220634</td>\n",
              "      <td>0.0</td>\n",
              "      <td>0.0</td>\n",
              "      <td>0.0</td>\n",
              "      <td>0.002376</td>\n",
              "      <td>0.002985</td>\n",
              "      <td>3.194851</td>\n",
              "      <td>-0.207258</td>\n",
              "      <td>-0.418424</td>\n",
              "      <td>-0.425196</td>\n",
              "      <td>-0.496094</td>\n",
              "      <td>-0.421853</td>\n",
              "      <td>-0.272789</td>\n",
              "      <td>-0.120773</td>\n",
              "      <td>-0.220634</td>\n",
              "      <td>-0.011673</td>\n",
              "      <td>-0.749598</td>\n",
              "      <td>1.552025</td>\n",
              "      <td>-0.339038</td>\n",
              "      <td>0.0</td>\n",
              "      <td>-0.011708</td>\n",
              "      <td>-0.974442</td>\n",
              "      <td>-0.500124</td>\n",
              "      <td>-0.251578</td>\n",
              "      <td>-0.456238</td>\n",
              "      <td>0.0</td>\n",
              "      <td>0.0</td>\n",
              "      <td>0.0</td>\n",
              "      <td>0.0</td>\n",
              "      <td>0.0</td>\n",
              "      <td>0.0</td>\n",
              "      <td>-0.008670</td>\n",
              "      <td>-0.099198</td>\n",
              "      <td>-0.009480</td>\n",
              "      <td>-0.006317</td>\n",
              "      <td>-0.532321</td>\n",
              "      <td>-0.238310</td>\n",
              "      <td>-0.006908</td>\n",
              "      <td>0.004303</td>\n",
              "      <td>-0.128172</td>\n",
              "      <td>-0.096105</td>\n",
              "      <td>-0.146664</td>\n",
              "      <td>-0.109277</td>\n",
              "      <td>-0.296674</td>\n",
              "      <td>-0.134087</td>\n",
              "      <td>-0.297116</td>\n",
              "      <td>-0.271677</td>\n",
              "    </tr>\n",
              "  </tbody>\n",
              "</table>\n",
              "</div>"
            ],
            "text/plain": [
              "    Total Fwd Packets   Total Backward Packets  ...   Idle Max   Idle Min\n",
              "0           -0.008670                -0.009480  ...  -0.297116  -0.271677\n",
              "1           -0.010045                -0.008443  ...  -0.297116  -0.271677\n",
              "2           -0.010045                -0.008443  ...  -0.297116  -0.271677\n",
              "3           -0.010045                -0.008443  ...  -0.297116  -0.271677\n",
              "4           -0.008670                -0.009480  ...  -0.297116  -0.271677\n",
              "\n",
              "[5 rows x 75 columns]"
            ]
          },
          "metadata": {
            "tags": []
          },
          "execution_count": 97
        }
      ]
    },
    {
      "cell_type": "code",
      "metadata": {
        "id": "spr151a2K_y3",
        "colab_type": "code",
        "outputId": "ebdbbaf1-5b78-4250-d22b-79c6677eb138",
        "colab": {
          "base_uri": "https://localhost:8080/",
          "height": 1000
        }
      },
      "source": [
        "X.info()"
      ],
      "execution_count": 0,
      "outputs": [
        {
          "output_type": "stream",
          "text": [
            "<class 'pandas.core.frame.DataFrame'>\n",
            "Int64Index: 1233052 entries, 0 to 529917\n",
            "Data columns (total 75 columns):\n",
            " Total Fwd Packets              1233052 non-null float64\n",
            " Total Backward Packets         1233052 non-null float64\n",
            "Total Length of Fwd Packets     1233052 non-null float64\n",
            " Total Length of Bwd Packets    1233052 non-null float64\n",
            " Fwd Packet Length Max          1233052 non-null float64\n",
            " Fwd Packet Length Min          1233052 non-null float64\n",
            " Fwd Packet Length Mean         1233052 non-null float64\n",
            " Fwd Packet Length Std          1233052 non-null float64\n",
            "Bwd Packet Length Max           1233052 non-null float64\n",
            " Bwd Packet Length Min          1233052 non-null float64\n",
            " Bwd Packet Length Mean         1233052 non-null float64\n",
            " Bwd Packet Length Std          1233052 non-null float64\n",
            "Flow Bytes/s                    1233052 non-null float64\n",
            " Flow Packets/s                 1233052 non-null float64\n",
            " Flow IAT Mean                  1233052 non-null float64\n",
            " Flow IAT Std                   1233052 non-null float64\n",
            " Flow IAT Max                   1233052 non-null float64\n",
            " Flow IAT Min                   1233052 non-null float64\n",
            "Fwd IAT Total                   1233052 non-null float64\n",
            " Fwd IAT Mean                   1233052 non-null float64\n",
            " Fwd IAT Std                    1233052 non-null float64\n",
            " Fwd IAT Max                    1233052 non-null float64\n",
            " Fwd IAT Min                    1233052 non-null float64\n",
            "Bwd IAT Total                   1233052 non-null float64\n",
            " Bwd IAT Mean                   1233052 non-null float64\n",
            " Bwd IAT Std                    1233052 non-null float64\n",
            " Bwd IAT Max                    1233052 non-null float64\n",
            " Bwd IAT Min                    1233052 non-null float64\n",
            "Fwd PSH Flags                   1233052 non-null float64\n",
            " Bwd PSH Flags                  0 non-null float64\n",
            " Fwd URG Flags                  0 non-null float64\n",
            " Bwd URG Flags                  0 non-null float64\n",
            " Fwd Header Length              1233052 non-null float64\n",
            " Bwd Header Length              1233052 non-null float64\n",
            "Fwd Packets/s                   1233052 non-null float64\n",
            " Bwd Packets/s                  1233052 non-null float64\n",
            " Min Packet Length              1233052 non-null float64\n",
            " Max Packet Length              1233052 non-null float64\n",
            " Packet Length Mean             1233052 non-null float64\n",
            " Packet Length Std              1233052 non-null float64\n",
            " Packet Length Variance         1233052 non-null float64\n",
            "FIN Flag Count                  1233052 non-null float64\n",
            " SYN Flag Count                 1233052 non-null float64\n",
            " RST Flag Count                 1233052 non-null float64\n",
            " PSH Flag Count                 1233052 non-null float64\n",
            " ACK Flag Count                 1233052 non-null float64\n",
            " URG Flag Count                 1233052 non-null float64\n",
            " CWE Flag Count                 0 non-null float64\n",
            " ECE Flag Count                 1233052 non-null float64\n",
            " Down/Up Ratio                  1233052 non-null float64\n",
            " Average Packet Size            1233052 non-null float64\n",
            " Avg Fwd Segment Size           1233052 non-null float64\n",
            " Avg Bwd Segment Size           1233052 non-null float64\n",
            "Fwd Avg Bytes/Bulk              0 non-null float64\n",
            " Fwd Avg Packets/Bulk           0 non-null float64\n",
            " Fwd Avg Bulk Rate              0 non-null float64\n",
            " Bwd Avg Bytes/Bulk             0 non-null float64\n",
            " Bwd Avg Packets/Bulk           0 non-null float64\n",
            "Bwd Avg Bulk Rate               0 non-null float64\n",
            "Subflow Fwd Packets             1233052 non-null float64\n",
            " Subflow Fwd Bytes              1233052 non-null float64\n",
            " Subflow Bwd Packets            1233052 non-null float64\n",
            " Subflow Bwd Bytes              1233052 non-null float64\n",
            "Init_Win_bytes_forward          1233052 non-null float64\n",
            " Init_Win_bytes_backward        1233052 non-null float64\n",
            " act_data_pkt_fwd               1233052 non-null float64\n",
            " min_seg_size_forward           1233052 non-null float64\n",
            "Active Mean                     1233052 non-null float64\n",
            " Active Std                     1233052 non-null float64\n",
            " Active Max                     1233052 non-null float64\n",
            " Active Min                     1233052 non-null float64\n",
            "Idle Mean                       1233052 non-null float64\n",
            " Idle Std                       1233052 non-null float64\n",
            " Idle Max                       1233052 non-null float64\n",
            " Idle Min                       1233052 non-null float64\n",
            "dtypes: float64(75)\n",
            "memory usage: 715.0 MB\n"
          ],
          "name": "stdout"
        }
      ]
    },
    {
      "cell_type": "code",
      "metadata": {
        "id": "toMOM6dL5R35",
        "colab_type": "code",
        "colab": {}
      },
      "source": [
        "column_names=X.columns"
      ],
      "execution_count": 0,
      "outputs": []
    },
    {
      "cell_type": "code",
      "metadata": {
        "id": "IW9k571RpdK7",
        "colab_type": "code",
        "colab": {}
      },
      "source": [
        "del df1,df2,df3,df4,df5,df6,df7,df8,df"
      ],
      "execution_count": 0,
      "outputs": []
    },
    {
      "cell_type": "markdown",
      "metadata": {
        "id": "NzI17l7P490g",
        "colab_type": "text"
      },
      "source": [
        "standard scalar"
      ]
    },
    {
      "cell_type": "code",
      "metadata": {
        "id": "lbQkySZMp1Nz",
        "colab_type": "code",
        "colab": {}
      },
      "source": [
        "from sklearn.preprocessing import StandardScaler\n",
        "X = StandardScaler().fit_transform(X)"
      ],
      "execution_count": 0,
      "outputs": []
    },
    {
      "cell_type": "code",
      "metadata": {
        "id": "ynmpR8-eJ6b5",
        "colab_type": "code",
        "outputId": "07d84162-13a9-4a5e-8248-d6fb6497b888",
        "colab": {
          "base_uri": "https://localhost:8080/",
          "height": 35
        }
      },
      "source": [
        ""
      ],
      "execution_count": 0,
      "outputs": [
        {
          "output_type": "execute_result",
          "data": {
            "text/plain": [
              "'Total Length of Fwd Packets'"
            ]
          },
          "metadata": {
            "tags": []
          },
          "execution_count": 17
        }
      ]
    },
    {
      "cell_type": "code",
      "metadata": {
        "id": "yFuMjjju8-68",
        "colab_type": "code",
        "colab": {}
      },
      "source": [
        "from sklearn.decomposition import PCA\n",
        "pca = PCA(n_components=20)\n",
        "principalComponents = pca.fit_transform(X)\n",
        "principalDf = pd.DataFrame(data = principalComponents, columns = ['Feature 1', 'Feature 2','Feature 3', 'Feature 4',\n",
        "                                                                  'Feature 5', 'Feature 6', 'Feature 7', 'Feature 8',\n",
        "                                                                  'Feature 9', 'Feature 10','Feature 11', 'Feature 12',\n",
        "                                                                  'Feature 13', 'Feature 14','Feature 15', 'Feature 16',\n",
        "                                                                  'Feature 17', 'Feature 18','Feature 19', 'Feature 20'])"
      ],
      "execution_count": 0,
      "outputs": []
    },
    {
      "cell_type": "code",
      "metadata": {
        "id": "808FrafsBLpM",
        "colab_type": "code",
        "colab": {}
      },
      "source": [
        "b=y.values"
      ],
      "execution_count": 0,
      "outputs": []
    },
    {
      "cell_type": "code",
      "metadata": {
        "id": "wrF3ZbRQHxZH",
        "colab_type": "code",
        "colab": {}
      },
      "source": [
        "principalDf[' Label']=b"
      ],
      "execution_count": 0,
      "outputs": []
    },
    {
      "cell_type": "code",
      "metadata": {
        "id": "zIkOz2lWJlga",
        "colab_type": "code",
        "outputId": "e7f6ff35-c85c-44e2-a8a5-bb0f6155054d",
        "colab": {
          "base_uri": "https://localhost:8080/",
          "height": 469
        }
      },
      "source": [
        "principalDf.info()"
      ],
      "execution_count": 20,
      "outputs": [
        {
          "output_type": "stream",
          "text": [
            "<class 'pandas.core.frame.DataFrame'>\n",
            "RangeIndex: 2829385 entries, 0 to 2829384\n",
            "Data columns (total 21 columns):\n",
            "Feature 1     float64\n",
            "Feature 2     float64\n",
            "Feature 3     float64\n",
            "Feature 4     float64\n",
            "Feature 5     float64\n",
            "Feature 6     float64\n",
            "Feature 7     float64\n",
            "Feature 8     float64\n",
            "Feature 9     float64\n",
            "Feature 10    float64\n",
            "Feature 11    float64\n",
            "Feature 12    float64\n",
            "Feature 13    float64\n",
            "Feature 14    float64\n",
            "Feature 15    float64\n",
            "Feature 16    float64\n",
            "Feature 17    float64\n",
            "Feature 18    float64\n",
            "Feature 19    float64\n",
            "Feature 20    float64\n",
            " Label        object\n",
            "dtypes: float64(20), object(1)\n",
            "memory usage: 453.3+ MB\n"
          ],
          "name": "stdout"
        }
      ]
    },
    {
      "cell_type": "markdown",
      "metadata": {
        "id": "Y0VM0O0MIkgs",
        "colab_type": "text"
      },
      "source": [
        "### Save PCA calculated data to save calculations\n"
      ]
    },
    {
      "cell_type": "code",
      "metadata": {
        "id": "FyG3JZyVGH9z",
        "colab_type": "code",
        "colab": {}
      },
      "source": [
        "path='/content/drive/My Drive/PCA-Calculated.csv'\n",
        "principalDf.to_csv(path)"
      ],
      "execution_count": 0,
      "outputs": []
    },
    {
      "cell_type": "code",
      "metadata": {
        "id": "-hESv8anJcpz",
        "colab_type": "code",
        "colab": {}
      },
      "source": [
        "# empty memory\n",
        "del X\n",
        "del y\n",
        "del b\n",
        "del principalDf"
      ],
      "execution_count": 0,
      "outputs": []
    },
    {
      "cell_type": "markdown",
      "metadata": {
        "id": "4QLWtEeDHGOD",
        "colab_type": "text"
      },
      "source": [
        "### Upload PCA components csv"
      ]
    },
    {
      "cell_type": "code",
      "metadata": {
        "id": "5wi5vL2bJHLd",
        "colab_type": "code",
        "colab": {}
      },
      "source": [
        "df=pd.read_csv(path)"
      ],
      "execution_count": 0,
      "outputs": []
    },
    {
      "cell_type": "markdown",
      "metadata": {
        "id": "xtHSaUmUIeVb",
        "colab_type": "text"
      },
      "source": [
        ""
      ]
    },
    {
      "cell_type": "code",
      "metadata": {
        "id": "7LksdRaLKX3N",
        "colab_type": "code",
        "outputId": "4aa95d15-5477-4cad-f32d-6bb034dd012d",
        "colab": {
          "base_uri": "https://localhost:8080/",
          "height": 141
        }
      },
      "source": [
        "df2=df[df.columns[1:-1]]\n",
        "df2[' Label']=df[df.columns[-1]]\n",
        "df=df2"
      ],
      "execution_count": 24,
      "outputs": [
        {
          "output_type": "stream",
          "text": [
            "/usr/local/lib/python3.6/dist-packages/ipykernel_launcher.py:2: SettingWithCopyWarning: \n",
            "A value is trying to be set on a copy of a slice from a DataFrame.\n",
            "Try using .loc[row_indexer,col_indexer] = value instead\n",
            "\n",
            "See the caveats in the documentation: http://pandas.pydata.org/pandas-docs/stable/user_guide/indexing.html#returning-a-view-versus-a-copy\n",
            "  \n"
          ],
          "name": "stderr"
        }
      ]
    },
    {
      "cell_type": "code",
      "metadata": {
        "id": "nVILcFVnKfpe",
        "colab_type": "code",
        "colab": {}
      },
      "source": [
        "del df2"
      ],
      "execution_count": 0,
      "outputs": []
    },
    {
      "cell_type": "code",
      "metadata": {
        "id": "gZLEIbmKKgw8",
        "colab_type": "code",
        "outputId": "baf9af28-8826-4ee6-ce4e-7b4b9e224901",
        "colab": {
          "base_uri": "https://localhost:8080/",
          "height": 121
        }
      },
      "source": [
        "df.columns"
      ],
      "execution_count": 26,
      "outputs": [
        {
          "output_type": "execute_result",
          "data": {
            "text/plain": [
              "Index(['Feature 1', 'Feature 2', 'Feature 3', 'Feature 4', 'Feature 5',\n",
              "       'Feature 6', 'Feature 7', 'Feature 8', 'Feature 9', 'Feature 10',\n",
              "       'Feature 11', 'Feature 12', 'Feature 13', 'Feature 14', 'Feature 15',\n",
              "       'Feature 16', 'Feature 17', 'Feature 18', 'Feature 19', 'Feature 20',\n",
              "       ' Label'],\n",
              "      dtype='object')"
            ]
          },
          "metadata": {
            "tags": []
          },
          "execution_count": 26
        }
      ]
    },
    {
      "cell_type": "code",
      "metadata": {
        "id": "esAgPdZmKhn-",
        "colab_type": "code",
        "colab": {}
      },
      "source": [
        "X=df[df.columns[0:-1]]\n",
        "y=df[df.columns[-1]]"
      ],
      "execution_count": 0,
      "outputs": []
    },
    {
      "cell_type": "code",
      "metadata": {
        "id": "BXSrBIU4KsM9",
        "colab_type": "code",
        "outputId": "763d1d7f-4397-40a2-cec8-58d6abe3fdff",
        "colab": {
          "base_uri": "https://localhost:8080/",
          "height": 208
        }
      },
      "source": [
        "print(y.head())\n",
        "X.columns"
      ],
      "execution_count": 28,
      "outputs": [
        {
          "output_type": "stream",
          "text": [
            "0    BENIGN\n",
            "1    BENIGN\n",
            "2    BENIGN\n",
            "3    BENIGN\n",
            "4    BENIGN\n",
            "Name:  Label, dtype: object\n"
          ],
          "name": "stdout"
        },
        {
          "output_type": "execute_result",
          "data": {
            "text/plain": [
              "Index(['Feature 1', 'Feature 2', 'Feature 3', 'Feature 4', 'Feature 5',\n",
              "       'Feature 6', 'Feature 7', 'Feature 8', 'Feature 9', 'Feature 10',\n",
              "       'Feature 11', 'Feature 12', 'Feature 13', 'Feature 14', 'Feature 15',\n",
              "       'Feature 16', 'Feature 17', 'Feature 18', 'Feature 19', 'Feature 20'],\n",
              "      dtype='object')"
            ]
          },
          "metadata": {
            "tags": []
          },
          "execution_count": 28
        }
      ]
    },
    {
      "cell_type": "markdown",
      "metadata": {
        "id": "UXv6Qg1UHwIk",
        "colab_type": "text"
      },
      "source": [
        "### Split train/test set"
      ]
    },
    {
      "cell_type": "code",
      "metadata": {
        "id": "uOqEn_VLKteM",
        "colab_type": "code",
        "colab": {}
      },
      "source": [
        "from sklearn.model_selection import train_test_split     # import module for train test split\n",
        "X_train, X_test, y_train, y_test=train_test_split(X,y,test_size=0.2, random_state=10)"
      ],
      "execution_count": 0,
      "outputs": []
    },
    {
      "cell_type": "markdown",
      "metadata": {
        "id": "BuE2e9hIK9yX",
        "colab_type": "text"
      },
      "source": [
        "# Applying KNN"
      ]
    },
    {
      "cell_type": "code",
      "metadata": {
        "id": "OAndeGw3Lfuy",
        "colab_type": "code",
        "colab": {}
      },
      "source": [
        "from sklearn.neighbors import KNeighborsClassifier"
      ],
      "execution_count": 0,
      "outputs": []
    },
    {
      "cell_type": "code",
      "metadata": {
        "id": "NRl9ie0yK6K2",
        "colab_type": "code",
        "outputId": "e9d815df-9753-442b-8add-f2418bf6035d",
        "colab": {
          "base_uri": "https://localhost:8080/",
          "height": 382
        }
      },
      "source": [
        "t1=time.time()\n",
        "cols=X.columns\n",
        "for i in range(len(cols)):\n",
        "    knn=KNeighborsClassifier(n_neighbors=(i+1))\n",
        "    model_knn=knn.fit(X_train,y_train)\n",
        "    yhat=model_knn.predict(X_test)\n",
        "    print(\"for \" , i+1,  \" as K, accuracy is : \", accuracy_score(y_test, yhat))\n",
        "t2=time.time()\n",
        "print(\" time for \", i+1 ,\" k's :: \", (t2-t1)/60 , \" minutes\")"
      ],
      "execution_count": 31,
      "outputs": [
        {
          "output_type": "stream",
          "text": [
            "for  1  as K, accuracy is :  0.9972697246928219\n",
            "for  2  as K, accuracy is :  0.9970364584529854\n",
            "for  3  as K, accuracy is :  0.9978740963142166\n",
            "for  4  as K, accuracy is :  0.9979253442002414\n",
            "for  5  as K, accuracy is :  0.9977928065639706\n",
            "for  6  as K, accuracy is :  0.9977397915094623\n",
            "for  7  as K, accuracy is :  0.9975560059871669\n",
            "for  8  as K, accuracy is :  0.9975789791774538\n",
            "for  9  as K, accuracy is :  0.9973757548018386\n",
            "for  10  as K, accuracy is :  0.9973527816115516\n",
            "for  11  as K, accuracy is :  0.9972096409643791\n",
            "for  12  as K, accuracy is :  0.9972025722904447\n",
            "for  13  as K, accuracy is :  0.9970452942954035\n",
            "for  14  as K, accuracy is :  0.9970558973063051\n",
            "for  15  as K, accuracy is :  0.9968809476264276\n",
            "for  16  as K, accuracy is :  0.9968632759415915\n",
            "for  17  as K, accuracy is :  0.9967272039683536\n",
            "for  18  as K, accuracy is :  0.9967112994520011\n",
            "for  19  as K, accuracy is :  0.9965999678375336\n",
            "for  20  as K, accuracy is :  0.9966141051854025\n",
            " time for  20  k's ::  27.96393899122874  minutes\n"
          ],
          "name": "stdout"
        }
      ]
    },
    {
      "cell_type": "code",
      "metadata": {
        "id": "PAfogwn8SX6j",
        "colab_type": "code",
        "colab": {}
      },
      "source": [
        "import pickle\n",
        "filename = '/content/drive/My Drive/PCA-Calculated.sav'"
      ],
      "execution_count": 0,
      "outputs": []
    },
    {
      "cell_type": "code",
      "metadata": {
        "id": "MUzhjUJQShhQ",
        "colab_type": "code",
        "colab": {}
      },
      "source": [
        "pickle.dump(model_knn, open(filename, 'wb'))"
      ],
      "execution_count": 0,
      "outputs": []
    },
    {
      "cell_type": "code",
      "metadata": {
        "id": "PN7vkSVXSmNW",
        "colab_type": "code",
        "colab": {}
      },
      "source": [
        "# load the model from disk\n",
        "model_knn = pickle.load(open(filename, 'rb'))\n",
        "y_hat=model_knn.predict(X_test)\n"
      ],
      "execution_count": 0,
      "outputs": []
    },
    {
      "cell_type": "code",
      "metadata": {
        "id": "FlAOb3lKTVgj",
        "colab_type": "code",
        "outputId": "f3c728ab-f4cc-404d-aa19-188a27e04712",
        "colab": {
          "base_uri": "https://localhost:8080/",
          "height": 72
        }
      },
      "source": [
        "yhat=y_hat\n",
        "y_test_arr=y_test.as_matrix()"
      ],
      "execution_count": 35,
      "outputs": [
        {
          "output_type": "stream",
          "text": [
            "/usr/local/lib/python3.6/dist-packages/ipykernel_launcher.py:2: FutureWarning: Method .as_matrix will be removed in a future version. Use .values instead.\n",
            "  \n"
          ],
          "name": "stderr"
        }
      ]
    },
    {
      "cell_type": "markdown",
      "metadata": {
        "id": "IYPttLvbSovn",
        "colab_type": "text"
      },
      "source": [
        "### Gaussian Naive Bayes"
      ]
    },
    {
      "cell_type": "code",
      "metadata": {
        "id": "M5roSragLdfy",
        "colab_type": "code",
        "outputId": "041fc1aa-b9c0-42d2-9c54-c45b609e42b0",
        "colab": {
          "base_uri": "https://localhost:8080/",
          "height": 52
        }
      },
      "source": [
        "from sklearn.naive_bayes import GaussianNB\n",
        "t1=time.time()\n",
        "\n",
        "gnb = GaussianNB()\n",
        "model_gnb = gnb.fit(X_train, y_train)\n",
        "yhat=model_gnb.predict(X_test)\n",
        "\n",
        "print(\"Accuracy :: \", accuracy_score(y_test,yhat))\n",
        "\n",
        "t2=time.time()\n",
        "print(\" time for Naive Baye's :: \", (t2-t1) , \" seconds\")"
      ],
      "execution_count": 36,
      "outputs": [
        {
          "output_type": "stream",
          "text": [
            "Accuracy ::  0.19608501494140954\n",
            " time for Naive Baye's ::  6.602151393890381  seconds\n"
          ],
          "name": "stdout"
        }
      ]
    },
    {
      "cell_type": "markdown",
      "metadata": {
        "id": "lO04R1ofSwqE",
        "colab_type": "text"
      },
      "source": [
        "### Bernoulli Naive Bayes\n"
      ]
    },
    {
      "cell_type": "code",
      "metadata": {
        "id": "-5C2rKGMS0dK",
        "colab_type": "code",
        "colab": {}
      },
      "source": [
        "from sklearn.naive_bayes import BernoulliNB"
      ],
      "execution_count": 0,
      "outputs": []
    },
    {
      "cell_type": "code",
      "metadata": {
        "id": "cbVugfWhS2ho",
        "colab_type": "code",
        "outputId": "79a5e429-7f40-4bab-e294-702177213c28",
        "colab": {
          "base_uri": "https://localhost:8080/",
          "height": 34
        }
      },
      "source": [
        "clf = BernoulliNB()\n",
        "clf.fit(X_train, y_train)\n",
        "yhat=clf.predict(X_test)\n",
        "print(\"Accuracy ::: \", accuracy_score(y_test,yhat))"
      ],
      "execution_count": 38,
      "outputs": [
        {
          "output_type": "stream",
          "text": [
            "Accuracy :::  0.6840938931958712\n"
          ],
          "name": "stdout"
        }
      ]
    },
    {
      "cell_type": "markdown",
      "metadata": {
        "id": "QQPWvTGzTAKU",
        "colab_type": "text"
      },
      "source": [
        "### Count true, negative and not detected values\n"
      ]
    },
    {
      "cell_type": "code",
      "metadata": {
        "id": "RntrQkQfS6yJ",
        "colab_type": "code",
        "colab": {}
      },
      "source": [
        "true={}\n",
        "false={}\n",
        "not_detected={}\n",
        "\n",
        "for x in range(len(y_test_arr)):\n",
        "    if y_test_arr[x]==yhat[x]:\n",
        "      if y_test_arr[x] in true:\n",
        "        true[y_test_arr[x]]=true[y_test_arr[x]]+1\n",
        "      else:\n",
        "        true[y_test_arr[x]]=1\n",
        "    elif y_test_arr[x]!=yhat[x]:\n",
        "      if yhat[x] in false:\n",
        "        false[yhat[x]]=false[yhat[x]]+1\n",
        "\n",
        "        if y_test_arr[x] in not_detected:\n",
        "          not_detected[y_test_arr[x]]=not_detected[y_test_arr[x]]+1\n",
        "        else:\n",
        "          not_detected[y_test_arr[x]]=1\n",
        "\n",
        "      else:\n",
        "        false[yhat[x]]=1\n",
        "\n",
        "        if y_test_arr[x] in not_detected:\n",
        "          not_detected[y_test_arr[x]]=not_detected[y_test_arr[x]]+1\n",
        "        else:\n",
        "          not_detected[y_test_arr[x]]=1"
      ],
      "execution_count": 0,
      "outputs": []
    },
    {
      "cell_type": "code",
      "metadata": {
        "id": "A4kiiDt1S63X",
        "colab_type": "code",
        "outputId": "6e1803b1-cc9b-44a0-84c2-57701e5eafba",
        "colab": {
          "base_uri": "https://localhost:8080/",
          "height": 191
        }
      },
      "source": [
        "true"
      ],
      "execution_count": 40,
      "outputs": [
        {
          "output_type": "execute_result",
          "data": {
            "text/plain": [
              "{'BENIGN': 318051,\n",
              " 'DDoS': 7893,\n",
              " 'DoS GoldenEye': 1139,\n",
              " 'DoS Hulk': 26942,\n",
              " 'DoS Slowhttptest': 539,\n",
              " 'DoS slowloris': 136,\n",
              " 'FTP-Patator': 769,\n",
              " 'PortScan': 31517,\n",
              " 'Web Attack-Brute Force': 1,\n",
              " 'Web Attack-XSS': 126}"
            ]
          },
          "metadata": {
            "tags": []
          },
          "execution_count": 40
        }
      ]
    },
    {
      "cell_type": "code",
      "metadata": {
        "id": "A1gjb-uvUgxw",
        "colab_type": "code",
        "outputId": "815ae75a-67db-4a27-df8b-87a5cb6e5f8e",
        "colab": {
          "base_uri": "https://localhost:8080/",
          "height": 225
        }
      },
      "source": [
        "false"
      ],
      "execution_count": 41,
      "outputs": [
        {
          "output_type": "execute_result",
          "data": {
            "text/plain": [
              "{'BENIGN': 22966,\n",
              " 'Bot': 2739,\n",
              " 'DDoS': 7878,\n",
              " 'DoS GoldenEye': 23651,\n",
              " 'DoS Hulk': 54002,\n",
              " 'DoS Slowhttptest': 3308,\n",
              " 'DoS slowloris': 488,\n",
              " 'FTP-Patator': 21077,\n",
              " 'PortScan': 33008,\n",
              " 'SSH-Patator': 699,\n",
              " 'Web Attack-Brute Force': 7130,\n",
              " 'Web Attack-XSS': 1818}"
            ]
          },
          "metadata": {
            "tags": []
          },
          "execution_count": 41
        }
      ]
    },
    {
      "cell_type": "code",
      "metadata": {
        "id": "t3gzSm2cVZBm",
        "colab_type": "code",
        "outputId": "95a86128-a0d4-45fa-aed8-a8a11e8a5b1e",
        "colab": {
          "base_uri": "https://localhost:8080/",
          "height": 278
        }
      },
      "source": [
        "not_detected"
      ],
      "execution_count": 42,
      "outputs": [
        {
          "output_type": "execute_result",
          "data": {
            "text/plain": [
              "{'BENIGN': 136602,\n",
              " 'Bot': 365,\n",
              " 'DDoS': 17639,\n",
              " 'DoS GoldenEye': 871,\n",
              " 'DoS Hulk': 18877,\n",
              " 'DoS Slowhttptest': 559,\n",
              " 'DoS slowloris': 1011,\n",
              " 'FTP-Patator': 831,\n",
              " 'Heartbleed': 3,\n",
              " 'Infiltration': 7,\n",
              " 'PortScan': 503,\n",
              " 'SSH-Patator': 1175,\n",
              " 'Web Attack-Brute Force': 311,\n",
              " 'Web Attack-Sql Injection': 3,\n",
              " 'Web Attack-XSS': 7}"
            ]
          },
          "metadata": {
            "tags": []
          },
          "execution_count": 42
        }
      ]
    },
    {
      "cell_type": "code",
      "metadata": {
        "id": "24v1CIJoZ2Cq",
        "colab_type": "code",
        "colab": {}
      },
      "source": [
        ""
      ],
      "execution_count": 0,
      "outputs": []
    }
  ]
}