{
 "cells": [
  {
   "cell_type": "markdown",
   "metadata": {},
   "source": [
    "# This notebook is intended to apply ML algorithms on IDS dataset for multiclass classification"
   ]
  },
  {
   "cell_type": "markdown",
   "metadata": {},
   "source": [
    "##### Steps Followed\n",
    "   1. Data Cleansing\n",
    "   2. Feature selection\n",
    "   3. Creation of Train/Test data\n",
    "   4. Implementation of ML Algorithms\n",
    "   5. Evalutaion"
   ]
  },
  {
   "cell_type": "code",
   "execution_count": 1,
   "metadata": {},
   "outputs": [],
   "source": [
    "import pandas as pd\n",
    "import matplotlib.pyplot as plt\n",
    "import numpy as np\n",
    "import time\n",
    "from sklearn.metrics import accuracy_score\n",
    "\n",
    "# import pickle\n",
    "# from sklearn.naive_bayes import BernoulliNB\n",
    "# from sklearn.naive_bayes import GaussianNB\n",
    "# from sklearn.neighbors import KNeighborsClassifier\n",
    "# from sklearn.model_selection import train_test_split     # import module for train test split"
   ]
  },
  {
   "cell_type": "markdown",
   "metadata": {},
   "source": [
    "## 1. Data Cleansing"
   ]
  },
  {
   "cell_type": "code",
   "execution_count": 2,
   "metadata": {},
   "outputs": [
    {
     "name": "stderr",
     "output_type": "stream",
     "text": [
      "/home/ebryx/anaconda3/lib/python3.7/site-packages/IPython/core/interactiveshell.py:3058: DtypeWarning: Columns (20,21) have mixed types. Specify dtype option on import or set low_memory=False.\n",
      "  interactivity=interactivity, compiler=compiler, result=result)\n"
     ]
    },
    {
     "name": "stdout",
     "output_type": "stream",
     "text": [
      "time taken to read tuesday csv ::  5.00166654586792  seconds \n"
     ]
    }
   ],
   "source": [
    "path=\"../dataset/TrafficLabelling /Tuesday-WorkingHours.pcap_ISCX.csv\"\n",
    "t1=time.time()\n",
    "df_tuesday=pd.read_csv(path)\n",
    "t2=time.time()\n",
    "print(\"time taken to read tuesday csv :: \", t2-t1, \" seconds \")"
   ]
  },
  {
   "cell_type": "markdown",
   "metadata": {},
   "source": [
    "##### ==>> Finding and dropping undefined / incorrect values in data frame"
   ]
  },
  {
   "cell_type": "code",
   "execution_count": 3,
   "metadata": {},
   "outputs": [],
   "source": [
    "df_tuesday_dropped=df_tuesday.dropna( axis=0, how='any')"
   ]
  },
  {
   "cell_type": "code",
   "execution_count": 4,
   "metadata": {},
   "outputs": [
    {
     "name": "stderr",
     "output_type": "stream",
     "text": [
      "/home/ebryx/anaconda3/lib/python3.7/site-packages/pandas/core/frame.py:4263: SettingWithCopyWarning: \n",
      "A value is trying to be set on a copy of a slice from a DataFrame\n",
      "\n",
      "See the caveats in the documentation: http://pandas.pydata.org/pandas-docs/stable/user_guide/indexing.html#returning-a-view-versus-a-copy\n",
      "  method=method,\n"
     ]
    }
   ],
   "source": [
    "df_tuesday_dropped.replace(',,', np.nan, inplace=True)"
   ]
  },
  {
   "cell_type": "markdown",
   "metadata": {},
   "source": [
    "<br>\n",
    "We see that Fwd Header Length comes twice but with different anmes so first change name of Fwd Header Length.1 to Fwd Header Length and then remove it"
   ]
  },
  {
   "cell_type": "code",
   "execution_count": 5,
   "metadata": {},
   "outputs": [
    {
     "data": {
      "text/plain": [
       "85"
      ]
     },
     "execution_count": 5,
     "metadata": {},
     "output_type": "execute_result"
    }
   ],
   "source": [
    "df_tuesday_dup_rem = df_tuesday_dropped.loc[:,~df_tuesday_dropped.columns.duplicated()]\n",
    "len(df_tuesday_dup_rem.columns)"
   ]
  },
  {
   "cell_type": "code",
   "execution_count": 6,
   "metadata": {},
   "outputs": [
    {
     "name": "stderr",
     "output_type": "stream",
     "text": [
      "/home/ebryx/anaconda3/lib/python3.7/site-packages/pandas/core/frame.py:4102: SettingWithCopyWarning: \n",
      "A value is trying to be set on a copy of a slice from a DataFrame\n",
      "\n",
      "See the caveats in the documentation: http://pandas.pydata.org/pandas-docs/stable/user_guide/indexing.html#returning-a-view-versus-a-copy\n",
      "  errors=errors,\n"
     ]
    }
   ],
   "source": [
    "df_tuesday_dropped.drop(columns=[' Fwd Header Length.1'], axis=1, inplace=True)"
   ]
  },
  {
   "cell_type": "code",
   "execution_count": 7,
   "metadata": {},
   "outputs": [
    {
     "data": {
      "text/plain": [
       "84"
      ]
     },
     "execution_count": 7,
     "metadata": {},
     "output_type": "execute_result"
    }
   ],
   "source": [
    "len(df_tuesday_dropped.columns)\n"
   ]
  },
  {
   "cell_type": "markdown",
   "metadata": {},
   "source": [
    "\n",
    "##### ==>>convert categorical and string data to numerical data\n",
    "Flow ID, Source IP, Destination IP, Timestamp, External IP <br>\n",
    "using LabelEncoder of sklearn"
   ]
  },
  {
   "cell_type": "code",
   "execution_count": 8,
   "metadata": {},
   "outputs": [
    {
     "data": {
      "text/plain": [
       "LabelEncoder()"
      ]
     },
     "execution_count": 8,
     "metadata": {},
     "output_type": "execute_result"
    }
   ],
   "source": [
    "from sklearn import preprocessing      # import required package for labelencoding\n",
    "le=preprocessing.LabelEncoder()        # create a label encoder (category) object\n",
    "le.fit(df_tuesday_dropped['Flow ID'])"
   ]
  },
  {
   "cell_type": "code",
   "execution_count": 9,
   "metadata": {},
   "outputs": [
    {
     "data": {
      "text/plain": [
       "array([152266, 152267, 152268, ..., 157091,  79335, 174989])"
      ]
     },
     "execution_count": 9,
     "metadata": {},
     "output_type": "execute_result"
    }
   ],
   "source": [
    "# labels\n",
    "le.classes_\n",
    "# Apply fitted encoder to the pandas column\n",
    "le.transform(df_tuesday_dropped[\"Flow ID\"])"
   ]
  },
  {
   "cell_type": "code",
   "execution_count": 10,
   "metadata": {},
   "outputs": [
    {
     "data": {
      "text/plain": [
       "array([2145, 2145, 2145, ..., 2146, 5380, 2149])"
      ]
     },
     "execution_count": 10,
     "metadata": {},
     "output_type": "execute_result"
    }
   ],
   "source": [
    "le_s_ip=preprocessing.LabelEncoder()\n",
    "le_s_ip.fit(df_tuesday_dropped[' Source IP'])\n",
    "le_s_ip.transform(df_tuesday_dropped[' Source IP'])"
   ]
  },
  {
   "cell_type": "code",
   "execution_count": 11,
   "metadata": {},
   "outputs": [
    {
     "data": {
      "text/plain": [
       "array([2558, 2558, 2558, ..., 2558, 2556, 2558])"
      ]
     },
     "execution_count": 11,
     "metadata": {},
     "output_type": "execute_result"
    }
   ],
   "source": [
    "le_d_ip=preprocessing.LabelEncoder()\n",
    "le_d_ip.fit(df_tuesday_dropped[' Destination IP'])\n",
    "le_d_ip.transform(df_tuesday_dropped[' Destination IP'])"
   ]
  },
  {
   "cell_type": "code",
   "execution_count": 12,
   "metadata": {},
   "outputs": [
    {
     "data": {
      "text/plain": [
       "array([422, 422, 422, ..., 439, 168,  38])"
      ]
     },
     "execution_count": 12,
     "metadata": {},
     "output_type": "execute_result"
    }
   ],
   "source": [
    "le_time_stamp=preprocessing.LabelEncoder()\n",
    "le_time_stamp.fit(df_tuesday_dropped[' Timestamp'])\n",
    "le_time_stamp.transform(df_tuesday_dropped[' Timestamp'])"
   ]
  },
  {
   "cell_type": "code",
   "execution_count": 13,
   "metadata": {},
   "outputs": [
    {
     "data": {
      "text/html": [
       "<div>\n",
       "<style scoped>\n",
       "    .dataframe tbody tr th:only-of-type {\n",
       "        vertical-align: middle;\n",
       "    }\n",
       "\n",
       "    .dataframe tbody tr th {\n",
       "        vertical-align: top;\n",
       "    }\n",
       "\n",
       "    .dataframe thead th {\n",
       "        text-align: right;\n",
       "    }\n",
       "</style>\n",
       "<table border=\"1\" class=\"dataframe\">\n",
       "  <thead>\n",
       "    <tr style=\"text-align: right;\">\n",
       "      <th></th>\n",
       "      <th>Flow ID</th>\n",
       "      <th>Source IP</th>\n",
       "      <th>Source Port</th>\n",
       "      <th>Destination IP</th>\n",
       "      <th>Destination Port</th>\n",
       "      <th>Protocol</th>\n",
       "      <th>Timestamp</th>\n",
       "      <th>Flow Duration</th>\n",
       "      <th>Total Fwd Packets</th>\n",
       "      <th>Total Backward Packets</th>\n",
       "      <th>...</th>\n",
       "      <th>act_data_pkt_fwd</th>\n",
       "      <th>min_seg_size_forward</th>\n",
       "      <th>Active Mean</th>\n",
       "      <th>Active Std</th>\n",
       "      <th>Active Max</th>\n",
       "      <th>Active Min</th>\n",
       "      <th>Idle Mean</th>\n",
       "      <th>Idle Std</th>\n",
       "      <th>Idle Max</th>\n",
       "      <th>Idle Min</th>\n",
       "    </tr>\n",
       "    <tr>\n",
       "      <th>Label</th>\n",
       "      <th></th>\n",
       "      <th></th>\n",
       "      <th></th>\n",
       "      <th></th>\n",
       "      <th></th>\n",
       "      <th></th>\n",
       "      <th></th>\n",
       "      <th></th>\n",
       "      <th></th>\n",
       "      <th></th>\n",
       "      <th></th>\n",
       "      <th></th>\n",
       "      <th></th>\n",
       "      <th></th>\n",
       "      <th></th>\n",
       "      <th></th>\n",
       "      <th></th>\n",
       "      <th></th>\n",
       "      <th></th>\n",
       "      <th></th>\n",
       "      <th></th>\n",
       "    </tr>\n",
       "  </thead>\n",
       "  <tbody>\n",
       "    <tr>\n",
       "      <td>BENIGN</td>\n",
       "      <td>192.168.10.3-192.168.10.5-88-49182-6</td>\n",
       "      <td>192.168.10.5</td>\n",
       "      <td>49182</td>\n",
       "      <td>192.168.10.3</td>\n",
       "      <td>88</td>\n",
       "      <td>6</td>\n",
       "      <td>4/7/2017 8:54</td>\n",
       "      <td>640</td>\n",
       "      <td>7</td>\n",
       "      <td>4</td>\n",
       "      <td>...</td>\n",
       "      <td>2</td>\n",
       "      <td>20</td>\n",
       "      <td>0.0</td>\n",
       "      <td>0.0</td>\n",
       "      <td>0.0</td>\n",
       "      <td>0.0</td>\n",
       "      <td>0.0</td>\n",
       "      <td>0.0</td>\n",
       "      <td>0.0</td>\n",
       "      <td>0.0</td>\n",
       "    </tr>\n",
       "    <tr>\n",
       "      <td>FTP-Patator</td>\n",
       "      <td>172.16.0.1-192.168.10.50-45422-80-6</td>\n",
       "      <td>172.16.0.1</td>\n",
       "      <td>45422</td>\n",
       "      <td>192.168.10.50</td>\n",
       "      <td>80</td>\n",
       "      <td>6</td>\n",
       "      <td>4/7/2017 10:30</td>\n",
       "      <td>5216127</td>\n",
       "      <td>3</td>\n",
       "      <td>1</td>\n",
       "      <td>...</td>\n",
       "      <td>0</td>\n",
       "      <td>32</td>\n",
       "      <td>0.0</td>\n",
       "      <td>0.0</td>\n",
       "      <td>0.0</td>\n",
       "      <td>0.0</td>\n",
       "      <td>0.0</td>\n",
       "      <td>0.0</td>\n",
       "      <td>0.0</td>\n",
       "      <td>0.0</td>\n",
       "    </tr>\n",
       "    <tr>\n",
       "      <td>SSH-Patator</td>\n",
       "      <td>172.16.0.1-192.168.10.50-52358-22-6</td>\n",
       "      <td>172.16.0.1</td>\n",
       "      <td>52358</td>\n",
       "      <td>192.168.10.50</td>\n",
       "      <td>22</td>\n",
       "      <td>6</td>\n",
       "      <td>4/7/2017 3:11</td>\n",
       "      <td>404</td>\n",
       "      <td>2</td>\n",
       "      <td>0</td>\n",
       "      <td>...</td>\n",
       "      <td>0</td>\n",
       "      <td>32</td>\n",
       "      <td>0.0</td>\n",
       "      <td>0.0</td>\n",
       "      <td>0.0</td>\n",
       "      <td>0.0</td>\n",
       "      <td>0.0</td>\n",
       "      <td>0.0</td>\n",
       "      <td>0.0</td>\n",
       "      <td>0.0</td>\n",
       "    </tr>\n",
       "  </tbody>\n",
       "</table>\n",
       "<p>3 rows × 83 columns</p>\n",
       "</div>"
      ],
      "text/plain": [
       "                                          Flow ID     Source IP   Source Port  \\\n",
       " Label                                                                          \n",
       "BENIGN       192.168.10.3-192.168.10.5-88-49182-6  192.168.10.5         49182   \n",
       "FTP-Patator   172.16.0.1-192.168.10.50-45422-80-6    172.16.0.1         45422   \n",
       "SSH-Patator   172.16.0.1-192.168.10.50-52358-22-6    172.16.0.1         52358   \n",
       "\n",
       "             Destination IP   Destination Port   Protocol       Timestamp  \\\n",
       " Label                                                                      \n",
       "BENIGN         192.168.10.3                 88          6   4/7/2017 8:54   \n",
       "FTP-Patator   192.168.10.50                 80          6  4/7/2017 10:30   \n",
       "SSH-Patator   192.168.10.50                 22          6   4/7/2017 3:11   \n",
       "\n",
       "              Flow Duration   Total Fwd Packets   Total Backward Packets  ...  \\\n",
       " Label                                                                    ...   \n",
       "BENIGN                  640                   7                        4  ...   \n",
       "FTP-Patator         5216127                   3                        1  ...   \n",
       "SSH-Patator             404                   2                        0  ...   \n",
       "\n",
       "              act_data_pkt_fwd   min_seg_size_forward  Active Mean  \\\n",
       " Label                                                               \n",
       "BENIGN                       2                     20          0.0   \n",
       "FTP-Patator                  0                     32          0.0   \n",
       "SSH-Patator                  0                     32          0.0   \n",
       "\n",
       "              Active Std   Active Max   Active Min  Idle Mean   Idle Std  \\\n",
       " Label                                                                     \n",
       "BENIGN               0.0          0.0          0.0        0.0        0.0   \n",
       "FTP-Patator          0.0          0.0          0.0        0.0        0.0   \n",
       "SSH-Patator          0.0          0.0          0.0        0.0        0.0   \n",
       "\n",
       "              Idle Max   Idle Min  \n",
       " Label                             \n",
       "BENIGN             0.0        0.0  \n",
       "FTP-Patator        0.0        0.0  \n",
       "SSH-Patator        0.0        0.0  \n",
       "\n",
       "[3 rows x 83 columns]"
      ]
     },
     "execution_count": 13,
     "metadata": {},
     "output_type": "execute_result"
    }
   ],
   "source": [
    "group=df_tuesday_dropped.groupby(' Label')\n",
    "group.first()"
   ]
  },
  {
   "cell_type": "code",
   "execution_count": 14,
   "metadata": {},
   "outputs": [],
   "source": [
    "df_tuesday_dropped[[' Flow Packets/s', 'Flow Bytes/s']].replace('Infinity', -1, inplace=True)\n",
    "df_tuesday_dropped[[' Flow Packets/s', 'Flow Bytes/s']].replace('NaN', 0, inplace=True)"
   ]
  },
  {
   "cell_type": "code",
   "execution_count": 15,
   "metadata": {},
   "outputs": [],
   "source": [
    "df=df_tuesday_dropped"
   ]
  },
  {
   "cell_type": "markdown",
   "metadata": {},
   "source": [
    "# 2. Feature Selection"
   ]
  },
  {
   "cell_type": "markdown",
   "metadata": {},
   "source": [
    "Adding features with most importance for ssh patator and ftp patator \n",
    "1. FW Packet length max \n",
    "\n",
    "2. flow duration\n",
    "3. flow packets/s\n",
    "4. fwd IAt total\n",
    "5. flow IAT std\n",
    "\n",
    "6. Fwd packet length std\n",
    "7. fwd packet length mean\n",
    "8. total length of backward packets\n",
    "9. flow bytes/s\n",
    "10. total length of fwd packets\n",
    "11. flow iat mean\n",
    "\n",
    "and some other features that give good results for\n",
    "12. Bot(Bwd Packet Length Mean)\n",
    "13. DDos(Bwd Packet Length Std)\n",
    "14. DDos golden eye (Flow IAT Max)\n",
    "15. Total Fwd Packets\n",
    "16. Total Backward Packets'\n"
   ]
  },
  {
   "cell_type": "code",
   "execution_count": 16,
   "metadata": {},
   "outputs": [
    {
     "data": {
      "text/html": [
       "<div>\n",
       "<style scoped>\n",
       "    .dataframe tbody tr th:only-of-type {\n",
       "        vertical-align: middle;\n",
       "    }\n",
       "\n",
       "    .dataframe tbody tr th {\n",
       "        vertical-align: top;\n",
       "    }\n",
       "\n",
       "    .dataframe thead th {\n",
       "        text-align: right;\n",
       "    }\n",
       "</style>\n",
       "<table border=\"1\" class=\"dataframe\">\n",
       "  <thead>\n",
       "    <tr style=\"text-align: right;\">\n",
       "      <th></th>\n",
       "      <th>Fwd Packet Length Max</th>\n",
       "      <th>Flow IAT Std</th>\n",
       "      <th>Fwd Packet Length Std</th>\n",
       "      <th>Fwd IAT Total</th>\n",
       "      <th>Flow Packets/s</th>\n",
       "      <th>Flow Duration</th>\n",
       "      <th>Fwd Packet Length Mean</th>\n",
       "      <th>Total Length of Bwd Packets</th>\n",
       "      <th>Flow Bytes/s</th>\n",
       "      <th>Total Length of Fwd Packets</th>\n",
       "      <th>Flow IAT Mean</th>\n",
       "      <th>Bwd Packet Length Mean</th>\n",
       "      <th>Flow IAT Max</th>\n",
       "      <th>Bwd Packet Length Std</th>\n",
       "      <th>Total Fwd Packets</th>\n",
       "      <th>Total Backward Packets</th>\n",
       "      <th>Label</th>\n",
       "    </tr>\n",
       "  </thead>\n",
       "  <tbody>\n",
       "    <tr>\n",
       "      <td>0</td>\n",
       "      <td>220</td>\n",
       "      <td>135.557286</td>\n",
       "      <td>107.349008</td>\n",
       "      <td>640.0</td>\n",
       "      <td>17187.5</td>\n",
       "      <td>640</td>\n",
       "      <td>62.857143</td>\n",
       "      <td>358.0</td>\n",
       "      <td>1246875</td>\n",
       "      <td>440</td>\n",
       "      <td>64.000000</td>\n",
       "      <td>89.5</td>\n",
       "      <td>445.0</td>\n",
       "      <td>103.345698</td>\n",
       "      <td>7</td>\n",
       "      <td>4</td>\n",
       "      <td>BENIGN</td>\n",
       "    </tr>\n",
       "    <tr>\n",
       "      <td>1</td>\n",
       "      <td>300</td>\n",
       "      <td>192.795228</td>\n",
       "      <td>132.287566</td>\n",
       "      <td>900.0</td>\n",
       "      <td>14444.44444</td>\n",
       "      <td>900</td>\n",
       "      <td>66.666667</td>\n",
       "      <td>2944.0</td>\n",
       "      <td>3937777.778</td>\n",
       "      <td>600</td>\n",
       "      <td>75.000000</td>\n",
       "      <td>736.0</td>\n",
       "      <td>684.0</td>\n",
       "      <td>849.859596</td>\n",
       "      <td>9</td>\n",
       "      <td>4</td>\n",
       "      <td>BENIGN</td>\n",
       "    </tr>\n",
       "    <tr>\n",
       "      <td>2</td>\n",
       "      <td>1388</td>\n",
       "      <td>236.433336</td>\n",
       "      <td>677.274651</td>\n",
       "      <td>1205.0</td>\n",
       "      <td>9128.630705</td>\n",
       "      <td>1205</td>\n",
       "      <td>396.571429</td>\n",
       "      <td>2830.0</td>\n",
       "      <td>4652282.158</td>\n",
       "      <td>2776</td>\n",
       "      <td>120.500000</td>\n",
       "      <td>707.5</td>\n",
       "      <td>777.0</td>\n",
       "      <td>816.950631</td>\n",
       "      <td>7</td>\n",
       "      <td>4</td>\n",
       "      <td>BENIGN</td>\n",
       "    </tr>\n",
       "    <tr>\n",
       "      <td>3</td>\n",
       "      <td>226</td>\n",
       "      <td>90.767652</td>\n",
       "      <td>110.276708</td>\n",
       "      <td>511.0</td>\n",
       "      <td>21526.41879</td>\n",
       "      <td>511</td>\n",
       "      <td>64.571429</td>\n",
       "      <td>370.0</td>\n",
       "      <td>1608610.568</td>\n",
       "      <td>452</td>\n",
       "      <td>51.100000</td>\n",
       "      <td>92.5</td>\n",
       "      <td>299.0</td>\n",
       "      <td>106.809800</td>\n",
       "      <td>7</td>\n",
       "      <td>4</td>\n",
       "      <td>BENIGN</td>\n",
       "    </tr>\n",
       "    <tr>\n",
       "      <td>4</td>\n",
       "      <td>306</td>\n",
       "      <td>148.698266</td>\n",
       "      <td>134.933317</td>\n",
       "      <td>773.0</td>\n",
       "      <td>16817.59379</td>\n",
       "      <td>773</td>\n",
       "      <td>68.000000</td>\n",
       "      <td>2944.0</td>\n",
       "      <td>4600258.732</td>\n",
       "      <td>612</td>\n",
       "      <td>64.416667</td>\n",
       "      <td>736.0</td>\n",
       "      <td>531.0</td>\n",
       "      <td>849.859596</td>\n",
       "      <td>9</td>\n",
       "      <td>4</td>\n",
       "      <td>BENIGN</td>\n",
       "    </tr>\n",
       "  </tbody>\n",
       "</table>\n",
       "</div>"
      ],
      "text/plain": [
       "    Fwd Packet Length Max   Flow IAT Std   Fwd Packet Length Std  \\\n",
       "0                     220     135.557286              107.349008   \n",
       "1                     300     192.795228              132.287566   \n",
       "2                    1388     236.433336              677.274651   \n",
       "3                     226      90.767652              110.276708   \n",
       "4                     306     148.698266              134.933317   \n",
       "\n",
       "   Fwd IAT Total  Flow Packets/s   Flow Duration   Fwd Packet Length Mean  \\\n",
       "0          640.0         17187.5             640                62.857143   \n",
       "1          900.0     14444.44444             900                66.666667   \n",
       "2         1205.0     9128.630705            1205               396.571429   \n",
       "3          511.0     21526.41879             511                64.571429   \n",
       "4          773.0     16817.59379             773                68.000000   \n",
       "\n",
       "    Total Length of Bwd Packets Flow Bytes/s  Total Length of Fwd Packets  \\\n",
       "0                         358.0      1246875                          440   \n",
       "1                        2944.0  3937777.778                          600   \n",
       "2                        2830.0  4652282.158                         2776   \n",
       "3                         370.0  1608610.568                          452   \n",
       "4                        2944.0  4600258.732                          612   \n",
       "\n",
       "    Flow IAT Mean   Bwd Packet Length Mean   Flow IAT Max  \\\n",
       "0       64.000000                     89.5          445.0   \n",
       "1       75.000000                    736.0          684.0   \n",
       "2      120.500000                    707.5          777.0   \n",
       "3       51.100000                     92.5          299.0   \n",
       "4       64.416667                    736.0          531.0   \n",
       "\n",
       "    Bwd Packet Length Std   Total Fwd Packets   Total Backward Packets   Label  \n",
       "0              103.345698                   7                        4  BENIGN  \n",
       "1              849.859596                   9                        4  BENIGN  \n",
       "2              816.950631                   7                        4  BENIGN  \n",
       "3              106.809800                   7                        4  BENIGN  \n",
       "4              849.859596                   9                        4  BENIGN  "
      ]
     },
     "execution_count": 16,
     "metadata": {},
     "output_type": "execute_result"
    }
   ],
   "source": [
    "features=[\" Fwd Packet Length Max\",\" Flow IAT Std\",\" Fwd Packet Length Std\" ,\"Fwd IAT Total\",' Flow Packets/s',' Flow Duration', \" Fwd Packet Length Mean\", \" Total Length of Bwd Packets\", \"Flow Bytes/s\", \"Total Length of Fwd Packets\", \" Flow IAT Mean\", \" Bwd Packet Length Mean\",  \" Flow IAT Max\", \" Bwd Packet Length Std\", ' Total Fwd Packets', ' Total Backward Packets',\" Label\"]\n",
    "data_frame_for_patator=df[features].copy()\n",
    "data_frame_for_patator.head()"
   ]
  },
  {
   "cell_type": "code",
   "execution_count": 17,
   "metadata": {},
   "outputs": [],
   "source": [
    "df=data_frame_for_patator"
   ]
  },
  {
   "cell_type": "code",
   "execution_count": 18,
   "metadata": {},
   "outputs": [
    {
     "data": {
      "text/html": [
       "<div>\n",
       "<style scoped>\n",
       "    .dataframe tbody tr th:only-of-type {\n",
       "        vertical-align: middle;\n",
       "    }\n",
       "\n",
       "    .dataframe tbody tr th {\n",
       "        vertical-align: top;\n",
       "    }\n",
       "\n",
       "    .dataframe thead th {\n",
       "        text-align: right;\n",
       "    }\n",
       "</style>\n",
       "<table border=\"1\" class=\"dataframe\">\n",
       "  <thead>\n",
       "    <tr style=\"text-align: right;\">\n",
       "      <th></th>\n",
       "      <th>Fwd Packet Length Max</th>\n",
       "      <th>Flow IAT Std</th>\n",
       "      <th>Fwd Packet Length Std</th>\n",
       "      <th>Fwd IAT Total</th>\n",
       "      <th>Flow Packets/s</th>\n",
       "      <th>Flow Duration</th>\n",
       "      <th>Fwd Packet Length Mean</th>\n",
       "      <th>Total Length of Bwd Packets</th>\n",
       "      <th>Flow Bytes/s</th>\n",
       "      <th>Total Length of Fwd Packets</th>\n",
       "      <th>Flow IAT Mean</th>\n",
       "      <th>Bwd Packet Length Mean</th>\n",
       "      <th>Flow IAT Max</th>\n",
       "      <th>Bwd Packet Length Std</th>\n",
       "      <th>Total Fwd Packets</th>\n",
       "      <th>Total Backward Packets</th>\n",
       "      <th>Label</th>\n",
       "    </tr>\n",
       "  </thead>\n",
       "  <tbody>\n",
       "    <tr>\n",
       "      <td>0</td>\n",
       "      <td>220</td>\n",
       "      <td>135.557286</td>\n",
       "      <td>107.349008</td>\n",
       "      <td>640.0</td>\n",
       "      <td>17187.5</td>\n",
       "      <td>640</td>\n",
       "      <td>62.857143</td>\n",
       "      <td>358.0</td>\n",
       "      <td>1246875</td>\n",
       "      <td>440</td>\n",
       "      <td>64.000000</td>\n",
       "      <td>89.5</td>\n",
       "      <td>445.0</td>\n",
       "      <td>103.345698</td>\n",
       "      <td>7</td>\n",
       "      <td>4</td>\n",
       "      <td>BENIGN</td>\n",
       "    </tr>\n",
       "    <tr>\n",
       "      <td>1</td>\n",
       "      <td>300</td>\n",
       "      <td>192.795228</td>\n",
       "      <td>132.287566</td>\n",
       "      <td>900.0</td>\n",
       "      <td>14444.44444</td>\n",
       "      <td>900</td>\n",
       "      <td>66.666667</td>\n",
       "      <td>2944.0</td>\n",
       "      <td>3937777.778</td>\n",
       "      <td>600</td>\n",
       "      <td>75.000000</td>\n",
       "      <td>736.0</td>\n",
       "      <td>684.0</td>\n",
       "      <td>849.859596</td>\n",
       "      <td>9</td>\n",
       "      <td>4</td>\n",
       "      <td>BENIGN</td>\n",
       "    </tr>\n",
       "    <tr>\n",
       "      <td>2</td>\n",
       "      <td>1388</td>\n",
       "      <td>236.433336</td>\n",
       "      <td>677.274651</td>\n",
       "      <td>1205.0</td>\n",
       "      <td>9128.630705</td>\n",
       "      <td>1205</td>\n",
       "      <td>396.571429</td>\n",
       "      <td>2830.0</td>\n",
       "      <td>4652282.158</td>\n",
       "      <td>2776</td>\n",
       "      <td>120.500000</td>\n",
       "      <td>707.5</td>\n",
       "      <td>777.0</td>\n",
       "      <td>816.950631</td>\n",
       "      <td>7</td>\n",
       "      <td>4</td>\n",
       "      <td>BENIGN</td>\n",
       "    </tr>\n",
       "    <tr>\n",
       "      <td>3</td>\n",
       "      <td>226</td>\n",
       "      <td>90.767652</td>\n",
       "      <td>110.276708</td>\n",
       "      <td>511.0</td>\n",
       "      <td>21526.41879</td>\n",
       "      <td>511</td>\n",
       "      <td>64.571429</td>\n",
       "      <td>370.0</td>\n",
       "      <td>1608610.568</td>\n",
       "      <td>452</td>\n",
       "      <td>51.100000</td>\n",
       "      <td>92.5</td>\n",
       "      <td>299.0</td>\n",
       "      <td>106.809800</td>\n",
       "      <td>7</td>\n",
       "      <td>4</td>\n",
       "      <td>BENIGN</td>\n",
       "    </tr>\n",
       "    <tr>\n",
       "      <td>4</td>\n",
       "      <td>306</td>\n",
       "      <td>148.698266</td>\n",
       "      <td>134.933317</td>\n",
       "      <td>773.0</td>\n",
       "      <td>16817.59379</td>\n",
       "      <td>773</td>\n",
       "      <td>68.000000</td>\n",
       "      <td>2944.0</td>\n",
       "      <td>4600258.732</td>\n",
       "      <td>612</td>\n",
       "      <td>64.416667</td>\n",
       "      <td>736.0</td>\n",
       "      <td>531.0</td>\n",
       "      <td>849.859596</td>\n",
       "      <td>9</td>\n",
       "      <td>4</td>\n",
       "      <td>BENIGN</td>\n",
       "    </tr>\n",
       "  </tbody>\n",
       "</table>\n",
       "</div>"
      ],
      "text/plain": [
       "    Fwd Packet Length Max   Flow IAT Std   Fwd Packet Length Std  \\\n",
       "0                     220     135.557286              107.349008   \n",
       "1                     300     192.795228              132.287566   \n",
       "2                    1388     236.433336              677.274651   \n",
       "3                     226      90.767652              110.276708   \n",
       "4                     306     148.698266              134.933317   \n",
       "\n",
       "   Fwd IAT Total  Flow Packets/s   Flow Duration   Fwd Packet Length Mean  \\\n",
       "0          640.0         17187.5             640                62.857143   \n",
       "1          900.0     14444.44444             900                66.666667   \n",
       "2         1205.0     9128.630705            1205               396.571429   \n",
       "3          511.0     21526.41879             511                64.571429   \n",
       "4          773.0     16817.59379             773                68.000000   \n",
       "\n",
       "    Total Length of Bwd Packets Flow Bytes/s  Total Length of Fwd Packets  \\\n",
       "0                         358.0      1246875                          440   \n",
       "1                        2944.0  3937777.778                          600   \n",
       "2                        2830.0  4652282.158                         2776   \n",
       "3                         370.0  1608610.568                          452   \n",
       "4                        2944.0  4600258.732                          612   \n",
       "\n",
       "    Flow IAT Mean   Bwd Packet Length Mean   Flow IAT Max  \\\n",
       "0       64.000000                     89.5          445.0   \n",
       "1       75.000000                    736.0          684.0   \n",
       "2      120.500000                    707.5          777.0   \n",
       "3       51.100000                     92.5          299.0   \n",
       "4       64.416667                    736.0          531.0   \n",
       "\n",
       "    Bwd Packet Length Std   Total Fwd Packets   Total Backward Packets   Label  \n",
       "0              103.345698                   7                        4  BENIGN  \n",
       "1              849.859596                   9                        4  BENIGN  \n",
       "2              816.950631                   7                        4  BENIGN  \n",
       "3              106.809800                   7                        4  BENIGN  \n",
       "4              849.859596                   9                        4  BENIGN  "
      ]
     },
     "execution_count": 18,
     "metadata": {},
     "output_type": "execute_result"
    }
   ],
   "source": [
    "df.head()"
   ]
  },
  {
   "cell_type": "markdown",
   "metadata": {},
   "source": [
    "### Saved preprocessed cleaned data to cleaned folder"
   ]
  },
  {
   "cell_type": "code",
   "execution_count": 20,
   "metadata": {},
   "outputs": [],
   "source": [
    "df.to_csv(\"../dataset/Cleaned/multiclass-tuesday.csv\")"
   ]
  },
  {
   "cell_type": "code",
   "execution_count": 53,
   "metadata": {},
   "outputs": [],
   "source": [
    "df=pd.read_csv(\"../dataset/Cleaned/multiclass-tuesday.csv\")"
   ]
  },
  {
   "cell_type": "markdown",
   "metadata": {},
   "source": [
    "# Correlation"
   ]
  },
  {
   "cell_type": "markdown",
   "metadata": {},
   "source": [
    "#### Preprocessing"
   ]
  },
  {
   "cell_type": "code",
   "execution_count": 54,
   "metadata": {},
   "outputs": [],
   "source": [
    "df.replace(\"Infinity\", 0, inplace=True)\n",
    "df['Flow Bytes/s'].replace(\"Infinity\", 0,inplace=True)\n",
    "df[\" Flow Packets/s\"].replace(\"Infinity\", 0, inplace=True)"
   ]
  },
  {
   "cell_type": "code",
   "execution_count": 55,
   "metadata": {},
   "outputs": [
    {
     "data": {
      "text/plain": [
       "Unnamed: 0                        int64\n",
       " Fwd Packet Length Max            int64\n",
       " Flow IAT Std                   float64\n",
       " Fwd Packet Length Std          float64\n",
       "Fwd IAT Total                   float64\n",
       " Flow Packets/s                 float64\n",
       " Flow Duration                    int64\n",
       " Fwd Packet Length Mean         float64\n",
       " Total Length of Bwd Packets    float64\n",
       "Flow Bytes/s                    float64\n",
       "Total Length of Fwd Packets       int64\n",
       " Flow IAT Mean                  float64\n",
       " Bwd Packet Length Mean         float64\n",
       " Flow IAT Max                   float64\n",
       " Bwd Packet Length Std          float64\n",
       " Total Fwd Packets                int64\n",
       " Total Backward Packets           int64\n",
       " Label                           object\n",
       "dtype: object"
      ]
     },
     "execution_count": 55,
     "metadata": {},
     "output_type": "execute_result"
    }
   ],
   "source": [
    "df[\"Flow Bytes/s\"]=df[\"Flow Bytes/s\"].astype(\"float\")\n",
    "df[' Flow Packets/s']=df[\" Flow Packets/s\"].astype(\"float\")\n",
    "df.dtypes"
   ]
  },
  {
   "cell_type": "markdown",
   "metadata": {},
   "source": [
    "#### Removing unnecessary column"
   ]
  },
  {
   "cell_type": "code",
   "execution_count": 56,
   "metadata": {},
   "outputs": [
    {
     "name": "stderr",
     "output_type": "stream",
     "text": [
      "/home/ebryx/anaconda3/lib/python3.7/site-packages/ipykernel_launcher.py:2: SettingWithCopyWarning: \n",
      "A value is trying to be set on a copy of a slice from a DataFrame.\n",
      "Try using .loc[row_indexer,col_indexer] = value instead\n",
      "\n",
      "See the caveats in the documentation: http://pandas.pydata.org/pandas-docs/stable/user_guide/indexing.html#returning-a-view-versus-a-copy\n",
      "  \n"
     ]
    }
   ],
   "source": [
    "\n",
    "df2=df[df.columns[1:-1]]\n",
    "df2[' Label']=df[df.columns[-1]]\n",
    "df=df2"
   ]
  },
  {
   "cell_type": "code",
   "execution_count": 57,
   "metadata": {},
   "outputs": [
    {
     "data": {
      "text/plain": [
       "Index([' Fwd Packet Length Max', ' Flow IAT Std', ' Fwd Packet Length Std',\n",
       "       'Fwd IAT Total', ' Flow Packets/s', ' Flow Duration',\n",
       "       ' Fwd Packet Length Mean', ' Total Length of Bwd Packets',\n",
       "       'Flow Bytes/s', 'Total Length of Fwd Packets', ' Flow IAT Mean',\n",
       "       ' Bwd Packet Length Mean', ' Flow IAT Max', ' Bwd Packet Length Std',\n",
       "       ' Total Fwd Packets', ' Total Backward Packets', ' Label'],\n",
       "      dtype='object')"
      ]
     },
     "execution_count": 57,
     "metadata": {},
     "output_type": "execute_result"
    }
   ],
   "source": [
    "df.columns"
   ]
  },
  {
   "cell_type": "code",
   "execution_count": 58,
   "metadata": {},
   "outputs": [
    {
     "data": {
      "text/plain": [
       "Text(0, 0.5, 'Attack')"
      ]
     },
     "execution_count": 58,
     "metadata": {},
     "output_type": "execute_result"
    },
    {
     "data": {
      "image/png": "[encoded data removed]",
      "text/plain": [
       "<Figure size 432x288 with 1 Axes>"
      ]
     },
     "metadata": {
      "needs_background": "light"
     },
     "output_type": "display_data"
    }
   ],
   "source": [
    "plt.scatter(df[\" Fwd Packet Length Max\"], df[\" Label\"])\n",
    "plt.xlabel(\" Fwd Packet Length Max\")\n",
    "plt.ylabel(\"Attack\")\n"
   ]
  },
  {
   "cell_type": "code",
   "execution_count": 59,
   "metadata": {},
   "outputs": [
    {
     "data": {
      "text/plain": [
       "Text(0, 0.5, 'Attack')"
      ]
     },
     "execution_count": 59,
     "metadata": {},
     "output_type": "execute_result"
    },
    {
     "data": {
      "image/png": "[encoded data removed]",
      "text/plain": [
       "<Figure size 432x288 with 1 Axes>"
      ]
     },
     "metadata": {
      "needs_background": "light"
     },
     "output_type": "display_data"
    }
   ],
   "source": [
    "plt.scatter(df[\" Flow IAT Std\"], df[\" Label\"])\n",
    "plt.xlabel(\" Flow IAT Std\")\n",
    "plt.ylabel(\"Attack\")\n"
   ]
  },
  {
   "cell_type": "code",
   "execution_count": 81,
   "metadata": {},
   "outputs": [
    {
     "data": {
      "text/plain": [
       "Text(0, 0.5, 'Attack')"
      ]
     },
     "execution_count": 81,
     "metadata": {},
     "output_type": "execute_result"
    },
    {
     "data": {
      "image/png": "[encoded data removed]",
      "text/plain": [
       "<Figure size 432x288 with 1 Axes>"
      ]
     },
     "metadata": {
      "needs_background": "light"
     },
     "output_type": "display_data"
    }
   ],
   "source": [
    "\n",
    "plt.scatter(df[\" Fwd Packet Length Std\"], df[\" Label\"])\n",
    "plt.xlabel(\" Fwd Packet Length Stdl\")\n",
    "plt.ylabel(\"Attack\")\n"
   ]
  },
  {
   "cell_type": "code",
   "execution_count": 23,
   "metadata": {},
   "outputs": [
    {
     "data": {
      "text/plain": [
       "Text(0, 0.5, 'Attack')"
      ]
     },
     "execution_count": 23,
     "metadata": {},
     "output_type": "execute_result"
    },
    {
     "data": {
      "image/png": "[encoded data removed]",
      "text/plain": [
       "<Figure size 432x288 with 1 Axes>"
      ]
     },
     "metadata": {
      "needs_background": "light"
     },
     "output_type": "display_data"
    }
   ],
   "source": [
    "plt.scatter(df[\"Fwd IAT Total\"], df[\" Label\"])\n",
    "plt.xlabel(\"Fwd IAT Total\")\n",
    "plt.ylabel(\"Attack\")\n"
   ]
  },
  {
   "cell_type": "code",
   "execution_count": 24,
   "metadata": {},
   "outputs": [
    {
     "data": {
      "text/plain": [
       "Text(0, 0.5, 'Benign')"
      ]
     },
     "execution_count": 24,
     "metadata": {},
     "output_type": "execute_result"
    },
    {
     "data": {
      "image/png": "[encoded data removed]",
      "text/plain": [
       "<Figure size 432x288 with 1 Axes>"
      ]
     },
     "metadata": {
      "needs_background": "light"
     },
     "output_type": "display_data"
    }
   ],
   "source": [
    "plt.scatter(df[\" Fwd Packet Length Std\"], df[\" Label\"])\n",
    "plt.xlabel(\" Fwd Packet Length Std\")\n",
    "plt.ylabel(\"Benign\")\n"
   ]
  },
  {
   "cell_type": "code",
   "execution_count": 25,
   "metadata": {},
   "outputs": [
    {
     "data": {
      "text/plain": [
       "Text(0, 0.5, 'Attack')"
      ]
     },
     "execution_count": 25,
     "metadata": {},
     "output_type": "execute_result"
    },
    {
     "data": {
      "image/png": "[encoded data removed]",
      "text/plain": [
       "<Figure size 432x288 with 1 Axes>"
      ]
     },
     "metadata": {
      "needs_background": "light"
     },
     "output_type": "display_data"
    }
   ],
   "source": [
    "plt.scatter(df[' Flow Duration'], df[\" Label\"])\n",
    "plt.xlabel(' Flow Duration')\n",
    "plt.ylabel(\"Attack\")\n"
   ]
  },
  {
   "cell_type": "code",
   "execution_count": 36,
   "metadata": {},
   "outputs": [
    {
     "data": {
      "text/plain": [
       "Text(0, 0.5, 'Attack')"
      ]
     },
     "execution_count": 36,
     "metadata": {},
     "output_type": "execute_result"
    },
    {
     "data": {
      "image/png": "[encoded data removed]",
      "text/plain": [
       "<Figure size 432x288 with 1 Axes>"
      ]
     },
     "metadata": {
      "needs_background": "light"
     },
     "output_type": "display_data"
    }
   ],
   "source": [
    "plt.scatter(df[\" Fwd Packet Length Mean\"], df[\" Label\"])\n",
    "plt.xlabel(\" Fwd Packet Length Mean\")\n",
    "plt.ylabel(\"Attack\")\n"
   ]
  },
  {
   "cell_type": "code",
   "execution_count": 38,
   "metadata": {},
   "outputs": [
    {
     "data": {
      "text/plain": [
       "Text(0, 0.5, 'Benign')"
      ]
     },
     "execution_count": 38,
     "metadata": {},
     "output_type": "execute_result"
    },
    {
     "data": {
      "image/png": "[encoded data removed]",
      "text/plain": [
       "<Figure size 432x288 with 1 Axes>"
      ]
     },
     "metadata": {
      "needs_background": "light"
     },
     "output_type": "display_data"
    }
   ],
   "source": [
    "plt.scatter(df[\" Total Length of Bwd Packets\"], df[\" Label\"])\n",
    "plt.xlabel(\" Total Length of Bwd Packets\")\n",
    "plt.ylabel(\"Benign\")\n"
   ]
  },
  {
   "cell_type": "code",
   "execution_count": 63,
   "metadata": {},
   "outputs": [
    {
     "data": {
      "text/plain": [
       "Text(0, 0.5, 'Attack')"
      ]
     },
     "execution_count": 63,
     "metadata": {},
     "output_type": "execute_result"
    },
    {
     "data": {
      "image/png": "[encoded data removed]",
      "text/plain": [
       "<Figure size 432x288 with 1 Axes>"
      ]
     },
     "metadata": {
      "needs_background": "light"
     },
     "output_type": "display_data"
    }
   ],
   "source": [
    "plt.scatter(df[\"Flow Bytes/s\"], df[\" Label\"])\n",
    "plt.xlabel(\"Flow Bytes/s\")\n",
    "plt.ylabel(\"Attack\")\n"
   ]
  },
  {
   "cell_type": "code",
   "execution_count": 64,
   "metadata": {},
   "outputs": [
    {
     "data": {
      "text/plain": [
       "Text(0, 0.5, 'Attack')"
      ]
     },
     "execution_count": 64,
     "metadata": {},
     "output_type": "execute_result"
    },
    {
     "data": {
      "image/png": "[encoded data removed]",
      "text/plain": [
       "<Figure size 432x288 with 1 Axes>"
      ]
     },
     "metadata": {
      "needs_background": "light"
     },
     "output_type": "display_data"
    }
   ],
   "source": [
    "plt.scatter(df[\" Flow Packets/s\"], df[\" Label\"])\n",
    "plt.xlabel(\" Flow Packets/s\")\n",
    "plt.ylabel(\"Attack\")\n"
   ]
  },
  {
   "cell_type": "code",
   "execution_count": 65,
   "metadata": {},
   "outputs": [
    {
     "data": {
      "text/plain": [
       "Text(0, 0.5, 'Attack')"
      ]
     },
     "execution_count": 65,
     "metadata": {},
     "output_type": "execute_result"
    },
    {
     "data": {
      "image/png": "[encoded data removed]",
      "text/plain": [
       "<Figure size 432x288 with 1 Axes>"
      ]
     },
     "metadata": {
      "needs_background": "light"
     },
     "output_type": "display_data"
    }
   ],
   "source": [
    "plt.scatter(df[\"Total Length of Fwd Packets\"], df[\" Label\"])\n",
    "plt.xlabel(\"Total Length of Fwd Packets\")\n",
    "plt.ylabel(\"Attack\")\n"
   ]
  },
  {
   "cell_type": "code",
   "execution_count": 66,
   "metadata": {},
   "outputs": [
    {
     "data": {
      "text/plain": [
       "Text(0, 0.5, 'Attack')"
      ]
     },
     "execution_count": 66,
     "metadata": {},
     "output_type": "execute_result"
    },
    {
     "data": {
      "image/png": "[encoded data removed]",
      "text/plain": [
       "<Figure size 432x288 with 1 Axes>"
      ]
     },
     "metadata": {
      "needs_background": "light"
     },
     "output_type": "display_data"
    }
   ],
   "source": [
    "plt.scatter(df[\" Flow IAT Mean\"], df[\" Label\"])\n",
    "plt.xlabel(\" Flow IAT Mean\")\n",
    "plt.ylabel(\"Attack\")\n"
   ]
  },
  {
   "cell_type": "code",
   "execution_count": 67,
   "metadata": {},
   "outputs": [
    {
     "data": {
      "text/plain": [
       "Text(0, 0.5, 'Attack')"
      ]
     },
     "execution_count": 67,
     "metadata": {},
     "output_type": "execute_result"
    },
    {
     "data": {
      "image/png": "[encoded data removed]",
      "text/plain": [
       "<Figure size 432x288 with 1 Axes>"
      ]
     },
     "metadata": {
      "needs_background": "light"
     },
     "output_type": "display_data"
    }
   ],
   "source": [
    "plt.scatter(df[\" Bwd Packet Length Mean\"], df[\" Label\"])\n",
    "plt.xlabel(\" Bwd Packet Length Mean\")\n",
    "plt.ylabel(\"Attack\")\n"
   ]
  },
  {
   "cell_type": "code",
   "execution_count": 68,
   "metadata": {},
   "outputs": [
    {
     "data": {
      "text/plain": [
       "Text(0, 0.5, 'Attack')"
      ]
     },
     "execution_count": 68,
     "metadata": {},
     "output_type": "execute_result"
    },
    {
     "data": {
      "image/png": "[encoded data removed]",
      "text/plain": [
       "<Figure size 432x288 with 1 Axes>"
      ]
     },
     "metadata": {
      "needs_background": "light"
     },
     "output_type": "display_data"
    }
   ],
   "source": [
    "plt.scatter(df[\" Flow IAT Max\"], df[\" Label\"])\n",
    "plt.xlabel(\" Flow IAT Max\")\n",
    "plt.ylabel(\"Attack\")\n"
   ]
  },
  {
   "cell_type": "code",
   "execution_count": 69,
   "metadata": {},
   "outputs": [
    {
     "data": {
      "text/plain": [
       "Text(0, 0.5, 'Attack')"
      ]
     },
     "execution_count": 69,
     "metadata": {},
     "output_type": "execute_result"
    },
    {
     "data": {
      "image/png": "[encoded data removed]",
      "text/plain": [
       "<Figure size 432x288 with 1 Axes>"
      ]
     },
     "metadata": {
      "needs_background": "light"
     },
     "output_type": "display_data"
    }
   ],
   "source": [
    "plt.scatter(df[\" Bwd Packet Length Std\"], df[\" Label\"])\n",
    "plt.xlabel(\" Bwd Packet Length Std\")\n",
    "plt.ylabel(\"Attack\")\n"
   ]
  },
  {
   "cell_type": "code",
   "execution_count": 70,
   "metadata": {},
   "outputs": [
    {
     "data": {
      "text/plain": [
       "Text(0, 0.5, 'Attack')"
      ]
     },
     "execution_count": 70,
     "metadata": {},
     "output_type": "execute_result"
    },
    {
     "data": {
      "image/png": "[encoded data removed]",
      "text/plain": [
       "<Figure size 432x288 with 1 Axes>"
      ]
     },
     "metadata": {
      "needs_background": "light"
     },
     "output_type": "display_data"
    }
   ],
   "source": [
    "plt.scatter(df[\" Total Fwd Packets\"], df[\" Label\"])\n",
    "plt.xlabel(\" Total Fwd Packets\")\n",
    "plt.ylabel(\"Attack\")\n"
   ]
  },
  {
   "cell_type": "code",
   "execution_count": 71,
   "metadata": {},
   "outputs": [
    {
     "data": {
      "text/plain": [
       "Text(0, 0.5, 'Attack')"
      ]
     },
     "execution_count": 71,
     "metadata": {},
     "output_type": "execute_result"
    },
    {
     "data": {
      "image/png": "[encoded data removed]",
      "text/plain": [
       "<Figure size 432x288 with 1 Axes>"
      ]
     },
     "metadata": {
      "needs_background": "light"
     },
     "output_type": "display_data"
    }
   ],
   "source": [
    "plt.scatter(df[\" Total Backward Packets\"], df[\" Label\"])\n",
    "plt.xlabel(\" Total backward Packets\")\n",
    "plt.ylabel(\"Attack\")\n"
   ]
  },
  {
   "cell_type": "markdown",
   "metadata": {},
   "source": [
    "### Separating data for Benign, ssh and ftp attacks"
   ]
  },
  {
   "cell_type": "code",
   "execution_count": 60,
   "metadata": {},
   "outputs": [],
   "source": [
    "df_ftp=df[df[' Label']=='FTP-Patator']\n",
    "df_ssh=df[df[' Label']=='SSH-Patator']\n",
    "df_benign=df[df[' Label']=='BENIGN']"
   ]
  },
  {
   "cell_type": "code",
   "execution_count": 61,
   "metadata": {},
   "outputs": [
    {
     "data": {
      "text/html": [
       "<div>\n",
       "<style scoped>\n",
       "    .dataframe tbody tr th:only-of-type {\n",
       "        vertical-align: middle;\n",
       "    }\n",
       "\n",
       "    .dataframe tbody tr th {\n",
       "        vertical-align: top;\n",
       "    }\n",
       "\n",
       "    .dataframe thead th {\n",
       "        text-align: right;\n",
       "    }\n",
       "</style>\n",
       "<table border=\"1\" class=\"dataframe\">\n",
       "  <thead>\n",
       "    <tr style=\"text-align: right;\">\n",
       "      <th></th>\n",
       "      <th>Fwd Packet Length Max</th>\n",
       "      <th>Flow IAT Std</th>\n",
       "      <th>Fwd Packet Length Std</th>\n",
       "      <th>Fwd IAT Total</th>\n",
       "      <th>Flow Packets/s</th>\n",
       "      <th>Flow Duration</th>\n",
       "      <th>Fwd Packet Length Mean</th>\n",
       "      <th>Total Length of Bwd Packets</th>\n",
       "      <th>Flow Bytes/s</th>\n",
       "      <th>Total Length of Fwd Packets</th>\n",
       "      <th>Flow IAT Mean</th>\n",
       "      <th>Bwd Packet Length Mean</th>\n",
       "      <th>Flow IAT Max</th>\n",
       "      <th>Bwd Packet Length Std</th>\n",
       "      <th>Total Fwd Packets</th>\n",
       "      <th>Total Backward Packets</th>\n",
       "      <th>Label</th>\n",
       "    </tr>\n",
       "  </thead>\n",
       "  <tbody>\n",
       "    <tr>\n",
       "      <td>11337</td>\n",
       "      <td>0</td>\n",
       "      <td>3.010454e+06</td>\n",
       "      <td>0.000000</td>\n",
       "      <td>5216127.0</td>\n",
       "      <td>0.766852</td>\n",
       "      <td>5216127</td>\n",
       "      <td>0.0</td>\n",
       "      <td>0.0</td>\n",
       "      <td>0.000000e+00</td>\n",
       "      <td>0</td>\n",
       "      <td>1.738709e+06</td>\n",
       "      <td>0.000000</td>\n",
       "      <td>5214882.0</td>\n",
       "      <td>0.000000</td>\n",
       "      <td>3</td>\n",
       "      <td>1</td>\n",
       "      <td>FTP-Patator</td>\n",
       "    </tr>\n",
       "    <tr>\n",
       "      <td>11338</td>\n",
       "      <td>0</td>\n",
       "      <td>0.000000e+00</td>\n",
       "      <td>0.000000</td>\n",
       "      <td>0.0</td>\n",
       "      <td>100000.000000</td>\n",
       "      <td>20</td>\n",
       "      <td>0.0</td>\n",
       "      <td>0.0</td>\n",
       "      <td>0.000000e+00</td>\n",
       "      <td>0</td>\n",
       "      <td>2.000000e+01</td>\n",
       "      <td>0.000000</td>\n",
       "      <td>20.0</td>\n",
       "      <td>0.000000</td>\n",
       "      <td>1</td>\n",
       "      <td>1</td>\n",
       "      <td>FTP-Patator</td>\n",
       "    </tr>\n",
       "    <tr>\n",
       "      <td>11339</td>\n",
       "      <td>0</td>\n",
       "      <td>0.000000e+00</td>\n",
       "      <td>0.000000</td>\n",
       "      <td>0.0</td>\n",
       "      <td>52631.578950</td>\n",
       "      <td>38</td>\n",
       "      <td>0.0</td>\n",
       "      <td>0.0</td>\n",
       "      <td>0.000000e+00</td>\n",
       "      <td>0</td>\n",
       "      <td>3.800000e+01</td>\n",
       "      <td>0.000000</td>\n",
       "      <td>38.0</td>\n",
       "      <td>0.000000</td>\n",
       "      <td>1</td>\n",
       "      <td>1</td>\n",
       "      <td>FTP-Patator</td>\n",
       "    </tr>\n",
       "    <tr>\n",
       "      <td>11340</td>\n",
       "      <td>0</td>\n",
       "      <td>0.000000e+00</td>\n",
       "      <td>0.000000</td>\n",
       "      <td>0.0</td>\n",
       "      <td>25000.000000</td>\n",
       "      <td>80</td>\n",
       "      <td>0.0</td>\n",
       "      <td>0.0</td>\n",
       "      <td>0.000000e+00</td>\n",
       "      <td>0</td>\n",
       "      <td>8.000000e+01</td>\n",
       "      <td>0.000000</td>\n",
       "      <td>80.0</td>\n",
       "      <td>0.000000</td>\n",
       "      <td>1</td>\n",
       "      <td>1</td>\n",
       "      <td>FTP-Patator</td>\n",
       "    </tr>\n",
       "    <tr>\n",
       "      <td>11341</td>\n",
       "      <td>0</td>\n",
       "      <td>0.000000e+00</td>\n",
       "      <td>0.000000</td>\n",
       "      <td>0.0</td>\n",
       "      <td>29411.764710</td>\n",
       "      <td>68</td>\n",
       "      <td>0.0</td>\n",
       "      <td>0.0</td>\n",
       "      <td>0.000000e+00</td>\n",
       "      <td>0</td>\n",
       "      <td>6.800000e+01</td>\n",
       "      <td>0.000000</td>\n",
       "      <td>68.0</td>\n",
       "      <td>0.000000</td>\n",
       "      <td>1</td>\n",
       "      <td>1</td>\n",
       "      <td>FTP-Patator</td>\n",
       "    </tr>\n",
       "    <tr>\n",
       "      <td>11342</td>\n",
       "      <td>0</td>\n",
       "      <td>0.000000e+00</td>\n",
       "      <td>0.000000</td>\n",
       "      <td>0.0</td>\n",
       "      <td>42553.191490</td>\n",
       "      <td>47</td>\n",
       "      <td>0.0</td>\n",
       "      <td>0.0</td>\n",
       "      <td>0.000000e+00</td>\n",
       "      <td>0</td>\n",
       "      <td>4.700000e+01</td>\n",
       "      <td>0.000000</td>\n",
       "      <td>47.0</td>\n",
       "      <td>0.000000</td>\n",
       "      <td>1</td>\n",
       "      <td>1</td>\n",
       "      <td>FTP-Patator</td>\n",
       "    </tr>\n",
       "    <tr>\n",
       "      <td>11344</td>\n",
       "      <td>0</td>\n",
       "      <td>0.000000e+00</td>\n",
       "      <td>0.000000</td>\n",
       "      <td>0.0</td>\n",
       "      <td>24096.385540</td>\n",
       "      <td>83</td>\n",
       "      <td>0.0</td>\n",
       "      <td>0.0</td>\n",
       "      <td>0.000000e+00</td>\n",
       "      <td>0</td>\n",
       "      <td>8.300000e+01</td>\n",
       "      <td>0.000000</td>\n",
       "      <td>83.0</td>\n",
       "      <td>0.000000</td>\n",
       "      <td>1</td>\n",
       "      <td>1</td>\n",
       "      <td>FTP-Patator</td>\n",
       "    </tr>\n",
       "    <tr>\n",
       "      <td>11345</td>\n",
       "      <td>14</td>\n",
       "      <td>7.141778e+01</td>\n",
       "      <td>9.899495</td>\n",
       "      <td>265.0</td>\n",
       "      <td>11320.754720</td>\n",
       "      <td>265</td>\n",
       "      <td>7.0</td>\n",
       "      <td>0.0</td>\n",
       "      <td>5.283019e+04</td>\n",
       "      <td>14</td>\n",
       "      <td>1.325000e+02</td>\n",
       "      <td>0.000000</td>\n",
       "      <td>183.0</td>\n",
       "      <td>0.000000</td>\n",
       "      <td>2</td>\n",
       "      <td>1</td>\n",
       "      <td>FTP-Patator</td>\n",
       "    </tr>\n",
       "    <tr>\n",
       "      <td>11346</td>\n",
       "      <td>22</td>\n",
       "      <td>9.779900e+05</td>\n",
       "      <td>9.633276</td>\n",
       "      <td>3302859.0</td>\n",
       "      <td>3.633216</td>\n",
       "      <td>3302859</td>\n",
       "      <td>6.0</td>\n",
       "      <td>76.0</td>\n",
       "      <td>3.391002e+01</td>\n",
       "      <td>36</td>\n",
       "      <td>3.002599e+05</td>\n",
       "      <td>12.666667</td>\n",
       "      <td>3248752.0</td>\n",
       "      <td>14.678783</td>\n",
       "      <td>6</td>\n",
       "      <td>6</td>\n",
       "      <td>FTP-Patator</td>\n",
       "    </tr>\n",
       "    <tr>\n",
       "      <td>11347</td>\n",
       "      <td>14</td>\n",
       "      <td>0.000000e+00</td>\n",
       "      <td>9.899495</td>\n",
       "      <td>3.0</td>\n",
       "      <td>666666.666700</td>\n",
       "      <td>3</td>\n",
       "      <td>7.0</td>\n",
       "      <td>0.0</td>\n",
       "      <td>4.666667e+06</td>\n",
       "      <td>14</td>\n",
       "      <td>3.000000e+00</td>\n",
       "      <td>0.000000</td>\n",
       "      <td>3.0</td>\n",
       "      <td>0.000000</td>\n",
       "      <td>2</td>\n",
       "      <td>0</td>\n",
       "      <td>FTP-Patator</td>\n",
       "    </tr>\n",
       "  </tbody>\n",
       "</table>\n",
       "</div>"
      ],
      "text/plain": [
       "        Fwd Packet Length Max   Flow IAT Std   Fwd Packet Length Std  \\\n",
       "11337                       0   3.010454e+06                0.000000   \n",
       "11338                       0   0.000000e+00                0.000000   \n",
       "11339                       0   0.000000e+00                0.000000   \n",
       "11340                       0   0.000000e+00                0.000000   \n",
       "11341                       0   0.000000e+00                0.000000   \n",
       "11342                       0   0.000000e+00                0.000000   \n",
       "11344                       0   0.000000e+00                0.000000   \n",
       "11345                      14   7.141778e+01                9.899495   \n",
       "11346                      22   9.779900e+05                9.633276   \n",
       "11347                      14   0.000000e+00                9.899495   \n",
       "\n",
       "       Fwd IAT Total   Flow Packets/s   Flow Duration  \\\n",
       "11337      5216127.0         0.766852         5216127   \n",
       "11338            0.0    100000.000000              20   \n",
       "11339            0.0     52631.578950              38   \n",
       "11340            0.0     25000.000000              80   \n",
       "11341            0.0     29411.764710              68   \n",
       "11342            0.0     42553.191490              47   \n",
       "11344            0.0     24096.385540              83   \n",
       "11345          265.0     11320.754720             265   \n",
       "11346      3302859.0         3.633216         3302859   \n",
       "11347            3.0    666666.666700               3   \n",
       "\n",
       "        Fwd Packet Length Mean   Total Length of Bwd Packets  Flow Bytes/s  \\\n",
       "11337                      0.0                           0.0  0.000000e+00   \n",
       "11338                      0.0                           0.0  0.000000e+00   \n",
       "11339                      0.0                           0.0  0.000000e+00   \n",
       "11340                      0.0                           0.0  0.000000e+00   \n",
       "11341                      0.0                           0.0  0.000000e+00   \n",
       "11342                      0.0                           0.0  0.000000e+00   \n",
       "11344                      0.0                           0.0  0.000000e+00   \n",
       "11345                      7.0                           0.0  5.283019e+04   \n",
       "11346                      6.0                          76.0  3.391002e+01   \n",
       "11347                      7.0                           0.0  4.666667e+06   \n",
       "\n",
       "       Total Length of Fwd Packets   Flow IAT Mean   Bwd Packet Length Mean  \\\n",
       "11337                            0    1.738709e+06                 0.000000   \n",
       "11338                            0    2.000000e+01                 0.000000   \n",
       "11339                            0    3.800000e+01                 0.000000   \n",
       "11340                            0    8.000000e+01                 0.000000   \n",
       "11341                            0    6.800000e+01                 0.000000   \n",
       "11342                            0    4.700000e+01                 0.000000   \n",
       "11344                            0    8.300000e+01                 0.000000   \n",
       "11345                           14    1.325000e+02                 0.000000   \n",
       "11346                           36    3.002599e+05                12.666667   \n",
       "11347                           14    3.000000e+00                 0.000000   \n",
       "\n",
       "        Flow IAT Max   Bwd Packet Length Std   Total Fwd Packets  \\\n",
       "11337      5214882.0                0.000000                   3   \n",
       "11338           20.0                0.000000                   1   \n",
       "11339           38.0                0.000000                   1   \n",
       "11340           80.0                0.000000                   1   \n",
       "11341           68.0                0.000000                   1   \n",
       "11342           47.0                0.000000                   1   \n",
       "11344           83.0                0.000000                   1   \n",
       "11345          183.0                0.000000                   2   \n",
       "11346      3248752.0               14.678783                   6   \n",
       "11347            3.0                0.000000                   2   \n",
       "\n",
       "        Total Backward Packets        Label  \n",
       "11337                        1  FTP-Patator  \n",
       "11338                        1  FTP-Patator  \n",
       "11339                        1  FTP-Patator  \n",
       "11340                        1  FTP-Patator  \n",
       "11341                        1  FTP-Patator  \n",
       "11342                        1  FTP-Patator  \n",
       "11344                        1  FTP-Patator  \n",
       "11345                        1  FTP-Patator  \n",
       "11346                        6  FTP-Patator  \n",
       "11347                        0  FTP-Patator  "
      ]
     },
     "execution_count": 61,
     "metadata": {},
     "output_type": "execute_result"
    }
   ],
   "source": [
    "df_ftp.head(10)"
   ]
  },
  {
   "cell_type": "code",
   "execution_count": 39,
   "metadata": {},
   "outputs": [
    {
     "data": {
      "text/html": [
       "<div>\n",
       "<style scoped>\n",
       "    .dataframe tbody tr th:only-of-type {\n",
       "        vertical-align: middle;\n",
       "    }\n",
       "\n",
       "    .dataframe tbody tr th {\n",
       "        vertical-align: top;\n",
       "    }\n",
       "\n",
       "    .dataframe thead th {\n",
       "        text-align: right;\n",
       "    }\n",
       "</style>\n",
       "<table border=\"1\" class=\"dataframe\">\n",
       "  <thead>\n",
       "    <tr style=\"text-align: right;\">\n",
       "      <th></th>\n",
       "      <th>Fwd Packet Length Max</th>\n",
       "      <th>Flow IAT Std</th>\n",
       "      <th>Fwd Packet Length Std</th>\n",
       "      <th>Fwd IAT Total</th>\n",
       "      <th>Flow Packets/s</th>\n",
       "      <th>Flow Duration</th>\n",
       "      <th>Fwd Packet Length Mean</th>\n",
       "      <th>Total Length of Bwd Packets</th>\n",
       "      <th>Flow Bytes/s</th>\n",
       "      <th>Total Length of Fwd Packets</th>\n",
       "      <th>Flow IAT Mean</th>\n",
       "      <th>Bwd Packet Length Mean</th>\n",
       "      <th>Flow IAT Max</th>\n",
       "      <th>Bwd Packet Length Std</th>\n",
       "      <th>Total Fwd Packets</th>\n",
       "      <th>Total Backward Packets</th>\n",
       "      <th>Label</th>\n",
       "    </tr>\n",
       "  </thead>\n",
       "  <tbody>\n",
       "    <tr>\n",
       "      <td>161915</td>\n",
       "      <td>0</td>\n",
       "      <td>0.0000</td>\n",
       "      <td>0.000000</td>\n",
       "      <td>404.0</td>\n",
       "      <td>4950.495050</td>\n",
       "      <td>404</td>\n",
       "      <td>0.000000</td>\n",
       "      <td>0.0</td>\n",
       "      <td>0.000000</td>\n",
       "      <td>0</td>\n",
       "      <td>404.0000</td>\n",
       "      <td>0.000000</td>\n",
       "      <td>404.0</td>\n",
       "      <td>0.000000</td>\n",
       "      <td>2</td>\n",
       "      <td>0</td>\n",
       "      <td>SSH-Patator</td>\n",
       "    </tr>\n",
       "    <tr>\n",
       "      <td>161916</td>\n",
       "      <td>640</td>\n",
       "      <td>534015.4383</td>\n",
       "      <td>166.685104</td>\n",
       "      <td>5808851.0</td>\n",
       "      <td>5.680986</td>\n",
       "      <td>5808851</td>\n",
       "      <td>99.733333</td>\n",
       "      <td>2297.0</td>\n",
       "      <td>652.969064</td>\n",
       "      <td>1496</td>\n",
       "      <td>181526.5937</td>\n",
       "      <td>127.611111</td>\n",
       "      <td>1978974.0</td>\n",
       "      <td>288.171342</td>\n",
       "      <td>15</td>\n",
       "      <td>18</td>\n",
       "      <td>SSH-Patator</td>\n",
       "    </tr>\n",
       "    <tr>\n",
       "      <td>161977</td>\n",
       "      <td>640</td>\n",
       "      <td>504075.2867</td>\n",
       "      <td>155.799100</td>\n",
       "      <td>5840763.0</td>\n",
       "      <td>6.334789</td>\n",
       "      <td>5840763</td>\n",
       "      <td>82.222222</td>\n",
       "      <td>2297.0</td>\n",
       "      <td>646.662088</td>\n",
       "      <td>1480</td>\n",
       "      <td>162243.4167</td>\n",
       "      <td>120.894737</td>\n",
       "      <td>1976459.0</td>\n",
       "      <td>281.578269</td>\n",
       "      <td>18</td>\n",
       "      <td>19</td>\n",
       "      <td>SSH-Patator</td>\n",
       "    </tr>\n",
       "    <tr>\n",
       "      <td>161978</td>\n",
       "      <td>640</td>\n",
       "      <td>511031.6261</td>\n",
       "      <td>159.195034</td>\n",
       "      <td>5797001.0</td>\n",
       "      <td>6.210108</td>\n",
       "      <td>5797001</td>\n",
       "      <td>87.058824</td>\n",
       "      <td>2297.0</td>\n",
       "      <td>651.543790</td>\n",
       "      <td>1480</td>\n",
       "      <td>165628.6000</td>\n",
       "      <td>120.894737</td>\n",
       "      <td>1964335.0</td>\n",
       "      <td>281.578269</td>\n",
       "      <td>17</td>\n",
       "      <td>19</td>\n",
       "      <td>SSH-Patator</td>\n",
       "    </tr>\n",
       "    <tr>\n",
       "      <td>161979</td>\n",
       "      <td>640</td>\n",
       "      <td>523350.2299</td>\n",
       "      <td>166.542430</td>\n",
       "      <td>5776990.0</td>\n",
       "      <td>5.885418</td>\n",
       "      <td>5776990</td>\n",
       "      <td>98.666667</td>\n",
       "      <td>2297.0</td>\n",
       "      <td>653.800682</td>\n",
       "      <td>1480</td>\n",
       "      <td>175060.3030</td>\n",
       "      <td>120.894737</td>\n",
       "      <td>1971363.0</td>\n",
       "      <td>281.578269</td>\n",
       "      <td>15</td>\n",
       "      <td>19</td>\n",
       "      <td>SSH-Patator</td>\n",
       "    </tr>\n",
       "    <tr>\n",
       "      <td>161980</td>\n",
       "      <td>0</td>\n",
       "      <td>0.0000</td>\n",
       "      <td>0.000000</td>\n",
       "      <td>0.0</td>\n",
       "      <td>100000.000000</td>\n",
       "      <td>20</td>\n",
       "      <td>0.000000</td>\n",
       "      <td>0.0</td>\n",
       "      <td>0.000000</td>\n",
       "      <td>0</td>\n",
       "      <td>20.0000</td>\n",
       "      <td>0.000000</td>\n",
       "      <td>20.0</td>\n",
       "      <td>0.000000</td>\n",
       "      <td>1</td>\n",
       "      <td>1</td>\n",
       "      <td>SSH-Patator</td>\n",
       "    </tr>\n",
       "    <tr>\n",
       "      <td>161981</td>\n",
       "      <td>0</td>\n",
       "      <td>0.0000</td>\n",
       "      <td>0.000000</td>\n",
       "      <td>0.0</td>\n",
       "      <td>28985.507250</td>\n",
       "      <td>69</td>\n",
       "      <td>0.000000</td>\n",
       "      <td>0.0</td>\n",
       "      <td>0.000000</td>\n",
       "      <td>0</td>\n",
       "      <td>69.0000</td>\n",
       "      <td>0.000000</td>\n",
       "      <td>69.0</td>\n",
       "      <td>0.000000</td>\n",
       "      <td>1</td>\n",
       "      <td>1</td>\n",
       "      <td>SSH-Patator</td>\n",
       "    </tr>\n",
       "    <tr>\n",
       "      <td>161982</td>\n",
       "      <td>640</td>\n",
       "      <td>541158.1943</td>\n",
       "      <td>159.195034</td>\n",
       "      <td>6114814.0</td>\n",
       "      <td>5.887342</td>\n",
       "      <td>6114814</td>\n",
       "      <td>87.058824</td>\n",
       "      <td>2297.0</td>\n",
       "      <td>617.680276</td>\n",
       "      <td>1480</td>\n",
       "      <td>174708.9714</td>\n",
       "      <td>120.894737</td>\n",
       "      <td>2056251.0</td>\n",
       "      <td>281.578269</td>\n",
       "      <td>17</td>\n",
       "      <td>19</td>\n",
       "      <td>SSH-Patator</td>\n",
       "    </tr>\n",
       "    <tr>\n",
       "      <td>161983</td>\n",
       "      <td>0</td>\n",
       "      <td>0.0000</td>\n",
       "      <td>0.000000</td>\n",
       "      <td>0.0</td>\n",
       "      <td>23809.523810</td>\n",
       "      <td>84</td>\n",
       "      <td>0.000000</td>\n",
       "      <td>0.0</td>\n",
       "      <td>0.000000</td>\n",
       "      <td>0</td>\n",
       "      <td>84.0000</td>\n",
       "      <td>0.000000</td>\n",
       "      <td>84.0</td>\n",
       "      <td>0.000000</td>\n",
       "      <td>1</td>\n",
       "      <td>1</td>\n",
       "      <td>SSH-Patator</td>\n",
       "    </tr>\n",
       "    <tr>\n",
       "      <td>161984</td>\n",
       "      <td>0</td>\n",
       "      <td>0.0000</td>\n",
       "      <td>0.000000</td>\n",
       "      <td>0.0</td>\n",
       "      <td>34482.758620</td>\n",
       "      <td>58</td>\n",
       "      <td>0.000000</td>\n",
       "      <td>0.0</td>\n",
       "      <td>0.000000</td>\n",
       "      <td>0</td>\n",
       "      <td>58.0000</td>\n",
       "      <td>0.000000</td>\n",
       "      <td>58.0</td>\n",
       "      <td>0.000000</td>\n",
       "      <td>1</td>\n",
       "      <td>1</td>\n",
       "      <td>SSH-Patator</td>\n",
       "    </tr>\n",
       "    <tr>\n",
       "      <td>161987</td>\n",
       "      <td>640</td>\n",
       "      <td>592238.1453</td>\n",
       "      <td>150.303864</td>\n",
       "      <td>8283147.0</td>\n",
       "      <td>5.070537</td>\n",
       "      <td>8283147</td>\n",
       "      <td>87.157895</td>\n",
       "      <td>2441.0</td>\n",
       "      <td>494.618772</td>\n",
       "      <td>1656</td>\n",
       "      <td>202027.9756</td>\n",
       "      <td>106.130435</td>\n",
       "      <td>2428299.0</td>\n",
       "      <td>257.283060</td>\n",
       "      <td>19</td>\n",
       "      <td>23</td>\n",
       "      <td>SSH-Patator</td>\n",
       "    </tr>\n",
       "    <tr>\n",
       "      <td>161988</td>\n",
       "      <td>640</td>\n",
       "      <td>619891.0069</td>\n",
       "      <td>150.303864</td>\n",
       "      <td>8589122.0</td>\n",
       "      <td>4.773480</td>\n",
       "      <td>8589122</td>\n",
       "      <td>87.157895</td>\n",
       "      <td>2441.0</td>\n",
       "      <td>476.998697</td>\n",
       "      <td>1656</td>\n",
       "      <td>214728.0500</td>\n",
       "      <td>110.954545</td>\n",
       "      <td>2428554.0</td>\n",
       "      <td>262.270758</td>\n",
       "      <td>19</td>\n",
       "      <td>22</td>\n",
       "      <td>SSH-Patator</td>\n",
       "    </tr>\n",
       "    <tr>\n",
       "      <td>162065</td>\n",
       "      <td>640</td>\n",
       "      <td>606268.5598</td>\n",
       "      <td>147.587476</td>\n",
       "      <td>8582434.0</td>\n",
       "      <td>5.010234</td>\n",
       "      <td>8582434</td>\n",
       "      <td>82.800000</td>\n",
       "      <td>2441.0</td>\n",
       "      <td>477.370406</td>\n",
       "      <td>1656</td>\n",
       "      <td>204343.6667</td>\n",
       "      <td>106.130435</td>\n",
       "      <td>2430767.0</td>\n",
       "      <td>257.283060</td>\n",
       "      <td>20</td>\n",
       "      <td>23</td>\n",
       "      <td>SSH-Patator</td>\n",
       "    </tr>\n",
       "    <tr>\n",
       "      <td>162068</td>\n",
       "      <td>640</td>\n",
       "      <td>632948.3739</td>\n",
       "      <td>156.057305</td>\n",
       "      <td>8528425.0</td>\n",
       "      <td>4.572943</td>\n",
       "      <td>8528425</td>\n",
       "      <td>97.411765</td>\n",
       "      <td>2441.0</td>\n",
       "      <td>480.393508</td>\n",
       "      <td>1656</td>\n",
       "      <td>224432.2368</td>\n",
       "      <td>110.954545</td>\n",
       "      <td>2420418.0</td>\n",
       "      <td>262.270758</td>\n",
       "      <td>17</td>\n",
       "      <td>22</td>\n",
       "      <td>SSH-Patator</td>\n",
       "    </tr>\n",
       "    <tr>\n",
       "      <td>162069</td>\n",
       "      <td>0</td>\n",
       "      <td>0.0000</td>\n",
       "      <td>0.000000</td>\n",
       "      <td>0.0</td>\n",
       "      <td>19047.619050</td>\n",
       "      <td>105</td>\n",
       "      <td>0.000000</td>\n",
       "      <td>0.0</td>\n",
       "      <td>0.000000</td>\n",
       "      <td>0</td>\n",
       "      <td>105.0000</td>\n",
       "      <td>0.000000</td>\n",
       "      <td>105.0</td>\n",
       "      <td>0.000000</td>\n",
       "      <td>1</td>\n",
       "      <td>1</td>\n",
       "      <td>SSH-Patator</td>\n",
       "    </tr>\n",
       "    <tr>\n",
       "      <td>162072</td>\n",
       "      <td>0</td>\n",
       "      <td>0.0000</td>\n",
       "      <td>0.000000</td>\n",
       "      <td>0.0</td>\n",
       "      <td>26666.666670</td>\n",
       "      <td>75</td>\n",
       "      <td>0.000000</td>\n",
       "      <td>0.0</td>\n",
       "      <td>0.000000</td>\n",
       "      <td>0</td>\n",
       "      <td>75.0000</td>\n",
       "      <td>0.000000</td>\n",
       "      <td>75.0</td>\n",
       "      <td>0.000000</td>\n",
       "      <td>1</td>\n",
       "      <td>1</td>\n",
       "      <td>SSH-Patator</td>\n",
       "    </tr>\n",
       "    <tr>\n",
       "      <td>162073</td>\n",
       "      <td>0</td>\n",
       "      <td>0.0000</td>\n",
       "      <td>0.000000</td>\n",
       "      <td>0.0</td>\n",
       "      <td>27027.027030</td>\n",
       "      <td>74</td>\n",
       "      <td>0.000000</td>\n",
       "      <td>0.0</td>\n",
       "      <td>0.000000</td>\n",
       "      <td>0</td>\n",
       "      <td>74.0000</td>\n",
       "      <td>0.000000</td>\n",
       "      <td>74.0</td>\n",
       "      <td>0.000000</td>\n",
       "      <td>1</td>\n",
       "      <td>1</td>\n",
       "      <td>SSH-Patator</td>\n",
       "    </tr>\n",
       "    <tr>\n",
       "      <td>162075</td>\n",
       "      <td>640</td>\n",
       "      <td>622987.5004</td>\n",
       "      <td>142.792824</td>\n",
       "      <td>10500000.0</td>\n",
       "      <td>4.566716</td>\n",
       "      <td>10510835</td>\n",
       "      <td>87.238095</td>\n",
       "      <td>2585.0</td>\n",
       "      <td>420.233026</td>\n",
       "      <td>1832</td>\n",
       "      <td>223634.7872</td>\n",
       "      <td>95.740741</td>\n",
       "      <td>2421668.0</td>\n",
       "      <td>238.452639</td>\n",
       "      <td>21</td>\n",
       "      <td>27</td>\n",
       "      <td>SSH-Patator</td>\n",
       "    </tr>\n",
       "    <tr>\n",
       "      <td>162076</td>\n",
       "      <td>0</td>\n",
       "      <td>0.0000</td>\n",
       "      <td>0.000000</td>\n",
       "      <td>0.0</td>\n",
       "      <td>21739.130430</td>\n",
       "      <td>92</td>\n",
       "      <td>0.000000</td>\n",
       "      <td>0.0</td>\n",
       "      <td>0.000000</td>\n",
       "      <td>0</td>\n",
       "      <td>92.0000</td>\n",
       "      <td>0.000000</td>\n",
       "      <td>92.0</td>\n",
       "      <td>0.000000</td>\n",
       "      <td>1</td>\n",
       "      <td>1</td>\n",
       "      <td>SSH-Patator</td>\n",
       "    </tr>\n",
       "    <tr>\n",
       "      <td>162077</td>\n",
       "      <td>640</td>\n",
       "      <td>619141.5513</td>\n",
       "      <td>141.914133</td>\n",
       "      <td>9468779.0</td>\n",
       "      <td>4.442001</td>\n",
       "      <td>11931559</td>\n",
       "      <td>100.400000</td>\n",
       "      <td>2745.0</td>\n",
       "      <td>398.355320</td>\n",
       "      <td>2008</td>\n",
       "      <td>229453.0577</td>\n",
       "      <td>83.181818</td>\n",
       "      <td>2419904.0</td>\n",
       "      <td>217.285736</td>\n",
       "      <td>20</td>\n",
       "      <td>33</td>\n",
       "      <td>SSH-Patator</td>\n",
       "    </tr>\n",
       "  </tbody>\n",
       "</table>\n",
       "</div>"
      ],
      "text/plain": [
       "         Fwd Packet Length Max   Flow IAT Std   Fwd Packet Length Std  \\\n",
       "161915                       0         0.0000                0.000000   \n",
       "161916                     640    534015.4383              166.685104   \n",
       "161977                     640    504075.2867              155.799100   \n",
       "161978                     640    511031.6261              159.195034   \n",
       "161979                     640    523350.2299              166.542430   \n",
       "161980                       0         0.0000                0.000000   \n",
       "161981                       0         0.0000                0.000000   \n",
       "161982                     640    541158.1943              159.195034   \n",
       "161983                       0         0.0000                0.000000   \n",
       "161984                       0         0.0000                0.000000   \n",
       "161987                     640    592238.1453              150.303864   \n",
       "161988                     640    619891.0069              150.303864   \n",
       "162065                     640    606268.5598              147.587476   \n",
       "162068                     640    632948.3739              156.057305   \n",
       "162069                       0         0.0000                0.000000   \n",
       "162072                       0         0.0000                0.000000   \n",
       "162073                       0         0.0000                0.000000   \n",
       "162075                     640    622987.5004              142.792824   \n",
       "162076                       0         0.0000                0.000000   \n",
       "162077                     640    619141.5513              141.914133   \n",
       "\n",
       "        Fwd IAT Total   Flow Packets/s   Flow Duration  \\\n",
       "161915          404.0      4950.495050             404   \n",
       "161916      5808851.0         5.680986         5808851   \n",
       "161977      5840763.0         6.334789         5840763   \n",
       "161978      5797001.0         6.210108         5797001   \n",
       "161979      5776990.0         5.885418         5776990   \n",
       "161980            0.0    100000.000000              20   \n",
       "161981            0.0     28985.507250              69   \n",
       "161982      6114814.0         5.887342         6114814   \n",
       "161983            0.0     23809.523810              84   \n",
       "161984            0.0     34482.758620              58   \n",
       "161987      8283147.0         5.070537         8283147   \n",
       "161988      8589122.0         4.773480         8589122   \n",
       "162065      8582434.0         5.010234         8582434   \n",
       "162068      8528425.0         4.572943         8528425   \n",
       "162069            0.0     19047.619050             105   \n",
       "162072            0.0     26666.666670              75   \n",
       "162073            0.0     27027.027030              74   \n",
       "162075     10500000.0         4.566716        10510835   \n",
       "162076            0.0     21739.130430              92   \n",
       "162077      9468779.0         4.442001        11931559   \n",
       "\n",
       "         Fwd Packet Length Mean   Total Length of Bwd Packets  Flow Bytes/s  \\\n",
       "161915                 0.000000                           0.0      0.000000   \n",
       "161916                99.733333                        2297.0    652.969064   \n",
       "161977                82.222222                        2297.0    646.662088   \n",
       "161978                87.058824                        2297.0    651.543790   \n",
       "161979                98.666667                        2297.0    653.800682   \n",
       "161980                 0.000000                           0.0      0.000000   \n",
       "161981                 0.000000                           0.0      0.000000   \n",
       "161982                87.058824                        2297.0    617.680276   \n",
       "161983                 0.000000                           0.0      0.000000   \n",
       "161984                 0.000000                           0.0      0.000000   \n",
       "161987                87.157895                        2441.0    494.618772   \n",
       "161988                87.157895                        2441.0    476.998697   \n",
       "162065                82.800000                        2441.0    477.370406   \n",
       "162068                97.411765                        2441.0    480.393508   \n",
       "162069                 0.000000                           0.0      0.000000   \n",
       "162072                 0.000000                           0.0      0.000000   \n",
       "162073                 0.000000                           0.0      0.000000   \n",
       "162075                87.238095                        2585.0    420.233026   \n",
       "162076                 0.000000                           0.0      0.000000   \n",
       "162077               100.400000                        2745.0    398.355320   \n",
       "\n",
       "        Total Length of Fwd Packets   Flow IAT Mean   Bwd Packet Length Mean  \\\n",
       "161915                            0        404.0000                 0.000000   \n",
       "161916                         1496     181526.5937               127.611111   \n",
       "161977                         1480     162243.4167               120.894737   \n",
       "161978                         1480     165628.6000               120.894737   \n",
       "161979                         1480     175060.3030               120.894737   \n",
       "161980                            0         20.0000                 0.000000   \n",
       "161981                            0         69.0000                 0.000000   \n",
       "161982                         1480     174708.9714               120.894737   \n",
       "161983                            0         84.0000                 0.000000   \n",
       "161984                            0         58.0000                 0.000000   \n",
       "161987                         1656     202027.9756               106.130435   \n",
       "161988                         1656     214728.0500               110.954545   \n",
       "162065                         1656     204343.6667               106.130435   \n",
       "162068                         1656     224432.2368               110.954545   \n",
       "162069                            0        105.0000                 0.000000   \n",
       "162072                            0         75.0000                 0.000000   \n",
       "162073                            0         74.0000                 0.000000   \n",
       "162075                         1832     223634.7872                95.740741   \n",
       "162076                            0         92.0000                 0.000000   \n",
       "162077                         2008     229453.0577                83.181818   \n",
       "\n",
       "         Flow IAT Max   Bwd Packet Length Std   Total Fwd Packets  \\\n",
       "161915          404.0                0.000000                   2   \n",
       "161916      1978974.0              288.171342                  15   \n",
       "161977      1976459.0              281.578269                  18   \n",
       "161978      1964335.0              281.578269                  17   \n",
       "161979      1971363.0              281.578269                  15   \n",
       "161980           20.0                0.000000                   1   \n",
       "161981           69.0                0.000000                   1   \n",
       "161982      2056251.0              281.578269                  17   \n",
       "161983           84.0                0.000000                   1   \n",
       "161984           58.0                0.000000                   1   \n",
       "161987      2428299.0              257.283060                  19   \n",
       "161988      2428554.0              262.270758                  19   \n",
       "162065      2430767.0              257.283060                  20   \n",
       "162068      2420418.0              262.270758                  17   \n",
       "162069          105.0                0.000000                   1   \n",
       "162072           75.0                0.000000                   1   \n",
       "162073           74.0                0.000000                   1   \n",
       "162075      2421668.0              238.452639                  21   \n",
       "162076           92.0                0.000000                   1   \n",
       "162077      2419904.0              217.285736                  20   \n",
       "\n",
       "         Total Backward Packets        Label  \n",
       "161915                        0  SSH-Patator  \n",
       "161916                       18  SSH-Patator  \n",
       "161977                       19  SSH-Patator  \n",
       "161978                       19  SSH-Patator  \n",
       "161979                       19  SSH-Patator  \n",
       "161980                        1  SSH-Patator  \n",
       "161981                        1  SSH-Patator  \n",
       "161982                       19  SSH-Patator  \n",
       "161983                        1  SSH-Patator  \n",
       "161984                        1  SSH-Patator  \n",
       "161987                       23  SSH-Patator  \n",
       "161988                       22  SSH-Patator  \n",
       "162065                       23  SSH-Patator  \n",
       "162068                       22  SSH-Patator  \n",
       "162069                        1  SSH-Patator  \n",
       "162072                        1  SSH-Patator  \n",
       "162073                        1  SSH-Patator  \n",
       "162075                       27  SSH-Patator  \n",
       "162076                        1  SSH-Patator  \n",
       "162077                       33  SSH-Patator  "
      ]
     },
     "execution_count": 39,
     "metadata": {},
     "output_type": "execute_result"
    }
   ],
   "source": [
    "df_ssh.head(20)"
   ]
  },
  {
   "cell_type": "code",
   "execution_count": 40,
   "metadata": {},
   "outputs": [
    {
     "data": {
      "text/html": [
       "<div>\n",
       "<style scoped>\n",
       "    .dataframe tbody tr th:only-of-type {\n",
       "        vertical-align: middle;\n",
       "    }\n",
       "\n",
       "    .dataframe tbody tr th {\n",
       "        vertical-align: top;\n",
       "    }\n",
       "\n",
       "    .dataframe thead th {\n",
       "        text-align: right;\n",
       "    }\n",
       "</style>\n",
       "<table border=\"1\" class=\"dataframe\">\n",
       "  <thead>\n",
       "    <tr style=\"text-align: right;\">\n",
       "      <th></th>\n",
       "      <th>Fwd Packet Length Max</th>\n",
       "      <th>Flow IAT Std</th>\n",
       "      <th>Fwd Packet Length Std</th>\n",
       "      <th>Fwd IAT Total</th>\n",
       "      <th>Flow Packets/s</th>\n",
       "      <th>Flow Duration</th>\n",
       "      <th>Fwd Packet Length Mean</th>\n",
       "      <th>Total Length of Bwd Packets</th>\n",
       "      <th>Flow Bytes/s</th>\n",
       "      <th>Total Length of Fwd Packets</th>\n",
       "      <th>Flow IAT Mean</th>\n",
       "      <th>Bwd Packet Length Mean</th>\n",
       "      <th>Flow IAT Max</th>\n",
       "      <th>Bwd Packet Length Std</th>\n",
       "      <th>Total Fwd Packets</th>\n",
       "      <th>Total Backward Packets</th>\n",
       "      <th>Label</th>\n",
       "    </tr>\n",
       "  </thead>\n",
       "  <tbody>\n",
       "    <tr>\n",
       "      <td>0</td>\n",
       "      <td>220</td>\n",
       "      <td>1.355573e+02</td>\n",
       "      <td>107.349008</td>\n",
       "      <td>640.0</td>\n",
       "      <td>1.718750e+04</td>\n",
       "      <td>640</td>\n",
       "      <td>62.857143</td>\n",
       "      <td>358.0</td>\n",
       "      <td>1.246875e+06</td>\n",
       "      <td>440</td>\n",
       "      <td>6.400000e+01</td>\n",
       "      <td>89.500000</td>\n",
       "      <td>445.0</td>\n",
       "      <td>103.345698</td>\n",
       "      <td>7</td>\n",
       "      <td>4</td>\n",
       "      <td>BENIGN</td>\n",
       "    </tr>\n",
       "    <tr>\n",
       "      <td>1</td>\n",
       "      <td>300</td>\n",
       "      <td>1.927952e+02</td>\n",
       "      <td>132.287566</td>\n",
       "      <td>900.0</td>\n",
       "      <td>1.444444e+04</td>\n",
       "      <td>900</td>\n",
       "      <td>66.666667</td>\n",
       "      <td>2944.0</td>\n",
       "      <td>3.937778e+06</td>\n",
       "      <td>600</td>\n",
       "      <td>7.500000e+01</td>\n",
       "      <td>736.000000</td>\n",
       "      <td>684.0</td>\n",
       "      <td>849.859596</td>\n",
       "      <td>9</td>\n",
       "      <td>4</td>\n",
       "      <td>BENIGN</td>\n",
       "    </tr>\n",
       "    <tr>\n",
       "      <td>2</td>\n",
       "      <td>1388</td>\n",
       "      <td>2.364333e+02</td>\n",
       "      <td>677.274651</td>\n",
       "      <td>1205.0</td>\n",
       "      <td>9.128631e+03</td>\n",
       "      <td>1205</td>\n",
       "      <td>396.571429</td>\n",
       "      <td>2830.0</td>\n",
       "      <td>4.652282e+06</td>\n",
       "      <td>2776</td>\n",
       "      <td>1.205000e+02</td>\n",
       "      <td>707.500000</td>\n",
       "      <td>777.0</td>\n",
       "      <td>816.950631</td>\n",
       "      <td>7</td>\n",
       "      <td>4</td>\n",
       "      <td>BENIGN</td>\n",
       "    </tr>\n",
       "    <tr>\n",
       "      <td>3</td>\n",
       "      <td>226</td>\n",
       "      <td>9.076765e+01</td>\n",
       "      <td>110.276708</td>\n",
       "      <td>511.0</td>\n",
       "      <td>2.152642e+04</td>\n",
       "      <td>511</td>\n",
       "      <td>64.571429</td>\n",
       "      <td>370.0</td>\n",
       "      <td>1.608611e+06</td>\n",
       "      <td>452</td>\n",
       "      <td>5.110000e+01</td>\n",
       "      <td>92.500000</td>\n",
       "      <td>299.0</td>\n",
       "      <td>106.809800</td>\n",
       "      <td>7</td>\n",
       "      <td>4</td>\n",
       "      <td>BENIGN</td>\n",
       "    </tr>\n",
       "    <tr>\n",
       "      <td>4</td>\n",
       "      <td>306</td>\n",
       "      <td>1.486983e+02</td>\n",
       "      <td>134.933317</td>\n",
       "      <td>773.0</td>\n",
       "      <td>1.681759e+04</td>\n",
       "      <td>773</td>\n",
       "      <td>68.000000</td>\n",
       "      <td>2944.0</td>\n",
       "      <td>4.600259e+06</td>\n",
       "      <td>612</td>\n",
       "      <td>6.441667e+01</td>\n",
       "      <td>736.000000</td>\n",
       "      <td>531.0</td>\n",
       "      <td>849.859596</td>\n",
       "      <td>9</td>\n",
       "      <td>4</td>\n",
       "      <td>BENIGN</td>\n",
       "    </tr>\n",
       "    <tr>\n",
       "      <td>5</td>\n",
       "      <td>1550</td>\n",
       "      <td>1.821085e+02</td>\n",
       "      <td>683.485755</td>\n",
       "      <td>986.0</td>\n",
       "      <td>1.521298e+04</td>\n",
       "      <td>986</td>\n",
       "      <td>344.444444</td>\n",
       "      <td>3030.0</td>\n",
       "      <td>6.217039e+06</td>\n",
       "      <td>3100</td>\n",
       "      <td>7.042857e+01</td>\n",
       "      <td>505.000000</td>\n",
       "      <td>696.0</td>\n",
       "      <td>782.342636</td>\n",
       "      <td>9</td>\n",
       "      <td>6</td>\n",
       "      <td>BENIGN</td>\n",
       "    </tr>\n",
       "    <tr>\n",
       "      <td>6</td>\n",
       "      <td>1537</td>\n",
       "      <td>1.873619e+02</td>\n",
       "      <td>677.753294</td>\n",
       "      <td>935.0</td>\n",
       "      <td>1.604278e+04</td>\n",
       "      <td>935</td>\n",
       "      <td>341.555556</td>\n",
       "      <td>3010.0</td>\n",
       "      <td>6.506952e+06</td>\n",
       "      <td>3074</td>\n",
       "      <td>6.678571e+01</td>\n",
       "      <td>501.666667</td>\n",
       "      <td>714.0</td>\n",
       "      <td>777.178658</td>\n",
       "      <td>9</td>\n",
       "      <td>6</td>\n",
       "      <td>BENIGN</td>\n",
       "    </tr>\n",
       "    <tr>\n",
       "      <td>7</td>\n",
       "      <td>1646</td>\n",
       "      <td>1.016422e+05</td>\n",
       "      <td>562.935859</td>\n",
       "      <td>572849.0</td>\n",
       "      <td>4.713284e+01</td>\n",
       "      <td>572849</td>\n",
       "      <td>271.733333</td>\n",
       "      <td>1020.0</td>\n",
       "      <td>8.895887e+03</td>\n",
       "      <td>4076</td>\n",
       "      <td>2.203265e+04</td>\n",
       "      <td>85.000000</td>\n",
       "      <td>517763.0</td>\n",
       "      <td>91.222007</td>\n",
       "      <td>15</td>\n",
       "      <td>12</td>\n",
       "      <td>BENIGN</td>\n",
       "    </tr>\n",
       "    <tr>\n",
       "      <td>8</td>\n",
       "      <td>0</td>\n",
       "      <td>7.071068e-01</td>\n",
       "      <td>0.000000</td>\n",
       "      <td>1.0</td>\n",
       "      <td>3.000000e+06</td>\n",
       "      <td>1</td>\n",
       "      <td>0.000000</td>\n",
       "      <td>0.0</td>\n",
       "      <td>0.000000e+00</td>\n",
       "      <td>0</td>\n",
       "      <td>5.000000e-01</td>\n",
       "      <td>0.000000</td>\n",
       "      <td>1.0</td>\n",
       "      <td>0.000000</td>\n",
       "      <td>2</td>\n",
       "      <td>1</td>\n",
       "      <td>BENIGN</td>\n",
       "    </tr>\n",
       "    <tr>\n",
       "      <td>9</td>\n",
       "      <td>1550</td>\n",
       "      <td>1.678878e+02</td>\n",
       "      <td>683.485755</td>\n",
       "      <td>1075.0</td>\n",
       "      <td>1.674419e+04</td>\n",
       "      <td>1075</td>\n",
       "      <td>344.444444</td>\n",
       "      <td>3030.0</td>\n",
       "      <td>5.702326e+06</td>\n",
       "      <td>3100</td>\n",
       "      <td>6.323529e+01</td>\n",
       "      <td>336.666667</td>\n",
       "      <td>709.0</td>\n",
       "      <td>668.052206</td>\n",
       "      <td>9</td>\n",
       "      <td>9</td>\n",
       "      <td>BENIGN</td>\n",
       "    </tr>\n",
       "    <tr>\n",
       "      <td>10</td>\n",
       "      <td>1537</td>\n",
       "      <td>4.239486e+02</td>\n",
       "      <td>677.753294</td>\n",
       "      <td>2687.0</td>\n",
       "      <td>5.582434e+03</td>\n",
       "      <td>2687</td>\n",
       "      <td>341.555556</td>\n",
       "      <td>3010.0</td>\n",
       "      <td>2.264235e+06</td>\n",
       "      <td>3074</td>\n",
       "      <td>1.919286e+02</td>\n",
       "      <td>501.666667</td>\n",
       "      <td>1505.0</td>\n",
       "      <td>777.178658</td>\n",
       "      <td>9</td>\n",
       "      <td>6</td>\n",
       "      <td>BENIGN</td>\n",
       "    </tr>\n",
       "    <tr>\n",
       "      <td>11</td>\n",
       "      <td>168</td>\n",
       "      <td>1.978382e+06</td>\n",
       "      <td>85.187971</td>\n",
       "      <td>14300000.0</td>\n",
       "      <td>2.313563e+00</td>\n",
       "      <td>14263712</td>\n",
       "      <td>79.238095</td>\n",
       "      <td>1784.0</td>\n",
       "      <td>2.417323e+02</td>\n",
       "      <td>1664</td>\n",
       "      <td>4.457410e+05</td>\n",
       "      <td>148.666667</td>\n",
       "      <td>11100000.0</td>\n",
       "      <td>84.884235</td>\n",
       "      <td>21</td>\n",
       "      <td>12</td>\n",
       "      <td>BENIGN</td>\n",
       "    </tr>\n",
       "    <tr>\n",
       "      <td>12</td>\n",
       "      <td>968</td>\n",
       "      <td>3.549721e+06</td>\n",
       "      <td>381.791781</td>\n",
       "      <td>14300000.0</td>\n",
       "      <td>1.192314e+00</td>\n",
       "      <td>14257993</td>\n",
       "      <td>216.181818</td>\n",
       "      <td>2160.0</td>\n",
       "      <td>3.182776e+02</td>\n",
       "      <td>2378</td>\n",
       "      <td>8.911246e+05</td>\n",
       "      <td>360.000000</td>\n",
       "      <td>14200000.0</td>\n",
       "      <td>462.120331</td>\n",
       "      <td>11</td>\n",
       "      <td>6</td>\n",
       "      <td>BENIGN</td>\n",
       "    </tr>\n",
       "    <tr>\n",
       "      <td>13</td>\n",
       "      <td>0</td>\n",
       "      <td>3.496188e+01</td>\n",
       "      <td>0.000000</td>\n",
       "      <td>0.0</td>\n",
       "      <td>5.882353e+04</td>\n",
       "      <td>68</td>\n",
       "      <td>0.000000</td>\n",
       "      <td>0.0</td>\n",
       "      <td>0.000000e+00</td>\n",
       "      <td>0</td>\n",
       "      <td>2.266667e+01</td>\n",
       "      <td>0.000000</td>\n",
       "      <td>63.0</td>\n",
       "      <td>0.000000</td>\n",
       "      <td>1</td>\n",
       "      <td>3</td>\n",
       "      <td>BENIGN</td>\n",
       "    </tr>\n",
       "    <tr>\n",
       "      <td>14</td>\n",
       "      <td>0</td>\n",
       "      <td>3.008876e+01</td>\n",
       "      <td>0.000000</td>\n",
       "      <td>0.0</td>\n",
       "      <td>6.896552e+04</td>\n",
       "      <td>58</td>\n",
       "      <td>0.000000</td>\n",
       "      <td>0.0</td>\n",
       "      <td>0.000000e+00</td>\n",
       "      <td>0</td>\n",
       "      <td>1.933333e+01</td>\n",
       "      <td>0.000000</td>\n",
       "      <td>54.0</td>\n",
       "      <td>0.000000</td>\n",
       "      <td>1</td>\n",
       "      <td>3</td>\n",
       "      <td>BENIGN</td>\n",
       "    </tr>\n",
       "    <tr>\n",
       "      <td>15</td>\n",
       "      <td>227</td>\n",
       "      <td>1.000000e+07</td>\n",
       "      <td>113.500000</td>\n",
       "      <td>75494.0</td>\n",
       "      <td>3.002804e-01</td>\n",
       "      <td>26641766</td>\n",
       "      <td>56.750000</td>\n",
       "      <td>301.0</td>\n",
       "      <td>1.981851e+01</td>\n",
       "      <td>227</td>\n",
       "      <td>3.805967e+06</td>\n",
       "      <td>75.250000</td>\n",
       "      <td>26600000.0</td>\n",
       "      <td>150.500000</td>\n",
       "      <td>4</td>\n",
       "      <td>4</td>\n",
       "      <td>BENIGN</td>\n",
       "    </tr>\n",
       "    <tr>\n",
       "      <td>16</td>\n",
       "      <td>1755</td>\n",
       "      <td>3.665524e+06</td>\n",
       "      <td>490.971796</td>\n",
       "      <td>34300000.0</td>\n",
       "      <td>2.131012e+00</td>\n",
       "      <td>34256029</td>\n",
       "      <td>310.102564</td>\n",
       "      <td>6500.0</td>\n",
       "      <td>5.427950e+02</td>\n",
       "      <td>12094</td>\n",
       "      <td>4.757782e+05</td>\n",
       "      <td>191.176471</td>\n",
       "      <td>31100000.0</td>\n",
       "      <td>128.012895</td>\n",
       "      <td>39</td>\n",
       "      <td>34</td>\n",
       "      <td>BENIGN</td>\n",
       "    </tr>\n",
       "    <tr>\n",
       "      <td>17</td>\n",
       "      <td>0</td>\n",
       "      <td>3.406367e+01</td>\n",
       "      <td>0.000000</td>\n",
       "      <td>0.0</td>\n",
       "      <td>6.451613e+04</td>\n",
       "      <td>62</td>\n",
       "      <td>0.000000</td>\n",
       "      <td>0.0</td>\n",
       "      <td>0.000000e+00</td>\n",
       "      <td>0</td>\n",
       "      <td>2.066667e+01</td>\n",
       "      <td>0.000000</td>\n",
       "      <td>60.0</td>\n",
       "      <td>0.000000</td>\n",
       "      <td>1</td>\n",
       "      <td>3</td>\n",
       "      <td>BENIGN</td>\n",
       "    </tr>\n",
       "    <tr>\n",
       "      <td>18</td>\n",
       "      <td>376</td>\n",
       "      <td>2.036932e+04</td>\n",
       "      <td>106.549698</td>\n",
       "      <td>310531.0</td>\n",
       "      <td>9.016813e+01</td>\n",
       "      <td>310531</td>\n",
       "      <td>62.533333</td>\n",
       "      <td>4633.0</td>\n",
       "      <td>1.794024e+04</td>\n",
       "      <td>938</td>\n",
       "      <td>1.150115e+04</td>\n",
       "      <td>356.384615</td>\n",
       "      <td>68414.0</td>\n",
       "      <td>515.048790</td>\n",
       "      <td>15</td>\n",
       "      <td>13</td>\n",
       "      <td>BENIGN</td>\n",
       "    </tr>\n",
       "    <tr>\n",
       "      <td>19</td>\n",
       "      <td>0</td>\n",
       "      <td>0.000000e+00</td>\n",
       "      <td>0.000000</td>\n",
       "      <td>4.0</td>\n",
       "      <td>5.000000e+05</td>\n",
       "      <td>4</td>\n",
       "      <td>0.000000</td>\n",
       "      <td>0.0</td>\n",
       "      <td>0.000000e+00</td>\n",
       "      <td>0</td>\n",
       "      <td>4.000000e+00</td>\n",
       "      <td>0.000000</td>\n",
       "      <td>4.0</td>\n",
       "      <td>0.000000</td>\n",
       "      <td>2</td>\n",
       "      <td>0</td>\n",
       "      <td>BENIGN</td>\n",
       "    </tr>\n",
       "  </tbody>\n",
       "</table>\n",
       "</div>"
      ],
      "text/plain": [
       "     Fwd Packet Length Max   Flow IAT Std   Fwd Packet Length Std  \\\n",
       "0                      220   1.355573e+02              107.349008   \n",
       "1                      300   1.927952e+02              132.287566   \n",
       "2                     1388   2.364333e+02              677.274651   \n",
       "3                      226   9.076765e+01              110.276708   \n",
       "4                      306   1.486983e+02              134.933317   \n",
       "5                     1550   1.821085e+02              683.485755   \n",
       "6                     1537   1.873619e+02              677.753294   \n",
       "7                     1646   1.016422e+05              562.935859   \n",
       "8                        0   7.071068e-01                0.000000   \n",
       "9                     1550   1.678878e+02              683.485755   \n",
       "10                    1537   4.239486e+02              677.753294   \n",
       "11                     168   1.978382e+06               85.187971   \n",
       "12                     968   3.549721e+06              381.791781   \n",
       "13                       0   3.496188e+01                0.000000   \n",
       "14                       0   3.008876e+01                0.000000   \n",
       "15                     227   1.000000e+07              113.500000   \n",
       "16                    1755   3.665524e+06              490.971796   \n",
       "17                       0   3.406367e+01                0.000000   \n",
       "18                     376   2.036932e+04              106.549698   \n",
       "19                       0   0.000000e+00                0.000000   \n",
       "\n",
       "    Fwd IAT Total   Flow Packets/s   Flow Duration   Fwd Packet Length Mean  \\\n",
       "0           640.0     1.718750e+04             640                62.857143   \n",
       "1           900.0     1.444444e+04             900                66.666667   \n",
       "2          1205.0     9.128631e+03            1205               396.571429   \n",
       "3           511.0     2.152642e+04             511                64.571429   \n",
       "4           773.0     1.681759e+04             773                68.000000   \n",
       "5           986.0     1.521298e+04             986               344.444444   \n",
       "6           935.0     1.604278e+04             935               341.555556   \n",
       "7        572849.0     4.713284e+01          572849               271.733333   \n",
       "8             1.0     3.000000e+06               1                 0.000000   \n",
       "9          1075.0     1.674419e+04            1075               344.444444   \n",
       "10         2687.0     5.582434e+03            2687               341.555556   \n",
       "11     14300000.0     2.313563e+00        14263712                79.238095   \n",
       "12     14300000.0     1.192314e+00        14257993               216.181818   \n",
       "13            0.0     5.882353e+04              68                 0.000000   \n",
       "14            0.0     6.896552e+04              58                 0.000000   \n",
       "15        75494.0     3.002804e-01        26641766                56.750000   \n",
       "16     34300000.0     2.131012e+00        34256029               310.102564   \n",
       "17            0.0     6.451613e+04              62                 0.000000   \n",
       "18       310531.0     9.016813e+01          310531                62.533333   \n",
       "19            4.0     5.000000e+05               4                 0.000000   \n",
       "\n",
       "     Total Length of Bwd Packets  Flow Bytes/s  Total Length of Fwd Packets  \\\n",
       "0                          358.0  1.246875e+06                          440   \n",
       "1                         2944.0  3.937778e+06                          600   \n",
       "2                         2830.0  4.652282e+06                         2776   \n",
       "3                          370.0  1.608611e+06                          452   \n",
       "4                         2944.0  4.600259e+06                          612   \n",
       "5                         3030.0  6.217039e+06                         3100   \n",
       "6                         3010.0  6.506952e+06                         3074   \n",
       "7                         1020.0  8.895887e+03                         4076   \n",
       "8                            0.0  0.000000e+00                            0   \n",
       "9                         3030.0  5.702326e+06                         3100   \n",
       "10                        3010.0  2.264235e+06                         3074   \n",
       "11                        1784.0  2.417323e+02                         1664   \n",
       "12                        2160.0  3.182776e+02                         2378   \n",
       "13                           0.0  0.000000e+00                            0   \n",
       "14                           0.0  0.000000e+00                            0   \n",
       "15                         301.0  1.981851e+01                          227   \n",
       "16                        6500.0  5.427950e+02                        12094   \n",
       "17                           0.0  0.000000e+00                            0   \n",
       "18                        4633.0  1.794024e+04                          938   \n",
       "19                           0.0  0.000000e+00                            0   \n",
       "\n",
       "     Flow IAT Mean   Bwd Packet Length Mean   Flow IAT Max  \\\n",
       "0     6.400000e+01                89.500000          445.0   \n",
       "1     7.500000e+01               736.000000          684.0   \n",
       "2     1.205000e+02               707.500000          777.0   \n",
       "3     5.110000e+01                92.500000          299.0   \n",
       "4     6.441667e+01               736.000000          531.0   \n",
       "5     7.042857e+01               505.000000          696.0   \n",
       "6     6.678571e+01               501.666667          714.0   \n",
       "7     2.203265e+04                85.000000       517763.0   \n",
       "8     5.000000e-01                 0.000000            1.0   \n",
       "9     6.323529e+01               336.666667          709.0   \n",
       "10    1.919286e+02               501.666667         1505.0   \n",
       "11    4.457410e+05               148.666667     11100000.0   \n",
       "12    8.911246e+05               360.000000     14200000.0   \n",
       "13    2.266667e+01                 0.000000           63.0   \n",
       "14    1.933333e+01                 0.000000           54.0   \n",
       "15    3.805967e+06                75.250000     26600000.0   \n",
       "16    4.757782e+05               191.176471     31100000.0   \n",
       "17    2.066667e+01                 0.000000           60.0   \n",
       "18    1.150115e+04               356.384615        68414.0   \n",
       "19    4.000000e+00                 0.000000            4.0   \n",
       "\n",
       "     Bwd Packet Length Std   Total Fwd Packets   Total Backward Packets  \\\n",
       "0               103.345698                   7                        4   \n",
       "1               849.859596                   9                        4   \n",
       "2               816.950631                   7                        4   \n",
       "3               106.809800                   7                        4   \n",
       "4               849.859596                   9                        4   \n",
       "5               782.342636                   9                        6   \n",
       "6               777.178658                   9                        6   \n",
       "7                91.222007                  15                       12   \n",
       "8                 0.000000                   2                        1   \n",
       "9               668.052206                   9                        9   \n",
       "10              777.178658                   9                        6   \n",
       "11               84.884235                  21                       12   \n",
       "12              462.120331                  11                        6   \n",
       "13                0.000000                   1                        3   \n",
       "14                0.000000                   1                        3   \n",
       "15              150.500000                   4                        4   \n",
       "16              128.012895                  39                       34   \n",
       "17                0.000000                   1                        3   \n",
       "18              515.048790                  15                       13   \n",
       "19                0.000000                   2                        0   \n",
       "\n",
       "     Label  \n",
       "0   BENIGN  \n",
       "1   BENIGN  \n",
       "2   BENIGN  \n",
       "3   BENIGN  \n",
       "4   BENIGN  \n",
       "5   BENIGN  \n",
       "6   BENIGN  \n",
       "7   BENIGN  \n",
       "8   BENIGN  \n",
       "9   BENIGN  \n",
       "10  BENIGN  \n",
       "11  BENIGN  \n",
       "12  BENIGN  \n",
       "13  BENIGN  \n",
       "14  BENIGN  \n",
       "15  BENIGN  \n",
       "16  BENIGN  \n",
       "17  BENIGN  \n",
       "18  BENIGN  \n",
       "19  BENIGN  "
      ]
     },
     "execution_count": 40,
     "metadata": {},
     "output_type": "execute_result"
    }
   ],
   "source": [
    "df_benign.head(20)"
   ]
  },
  {
   "cell_type": "markdown",
   "metadata": {},
   "source": [
    "### Standard deviation of features for benign data"
   ]
  },
  {
   "cell_type": "code",
   "execution_count": 70,
   "metadata": {},
   "outputs": [
    {
     "name": "stdout",
     "output_type": "stream",
     "text": [
      " Fwd Packet Length Max_std          4.778144e+02\n",
      " Flow IAT Std_std                   5.860450e+06\n",
      " Fwd Packet Length Std_std          1.487513e+02\n",
      "Fwd IAT Total_std                   2.986306e+07\n",
      " Flow Packets/s_std                 2.303280e+05\n",
      " Flow Duration_std                  2.999846e+07\n",
      " Fwd Packet Length Mean_std         1.147536e+02\n",
      " Total Length of Bwd Packets_std    2.668090e+06\n",
      "Flow Bytes/s_std                    2.359402e+07\n",
      "Total Length of Fwd Packets_std     5.766572e+03\n",
      " Flow IAT Mean_std                  4.317292e+06\n",
      " Bwd Packet Length Mean_std         3.151428e+02\n",
      " Flow IAT Max_std                   1.362517e+07\n",
      " Bwd Packet Length Std_std          2.880370e+02\n",
      " Total Fwd Packets_std              8.810475e+02\n",
      " Total Backward Packets_std         1.191054e+03\n",
      "dtype: float64\n"
     ]
    }
   ],
   "source": [
    "ben_std={}\n",
    "\n",
    "cols = list(df.columns[0:-1])\n",
    "for col in cols:\n",
    "    ben_std[col+str('_std')] = df_benign[col].values.std()\n",
    "\n",
    "# converting to series for further processing\n",
    "ben_std = pd.Series(ben_std) \n",
    "print(ben_std)"
   ]
  },
  {
   "cell_type": "markdown",
   "metadata": {},
   "source": [
    "### Standard deviation of features for FTP Attack data"
   ]
  },
  {
   "cell_type": "code",
   "execution_count": 72,
   "metadata": {},
   "outputs": [
    {
     "name": "stdout",
     "output_type": "stream",
     "text": [
      " Fwd Packet Length Max_std          5.572105e+00\n",
      " Flow IAT Std_std                   5.125854e+05\n",
      " Fwd Packet Length Std_std          8.459415e-01\n",
      "Fwd IAT Total_std                   3.028068e+06\n",
      " Flow Packets/s_std                 3.058386e+05\n",
      " Flow Duration_std                  4.526970e+06\n",
      " Fwd Packet Length Mean_std         2.493508e+00\n",
      " Total Length of Bwd Packets_std    9.391640e+01\n",
      "Flow Bytes/s_std                    2.128678e+06\n",
      "Total Length of Fwd Packets_std     4.633285e+01\n",
      " Flow IAT Mean_std                  1.976268e+05\n",
      " Bwd Packet Length Mean_std         6.267051e+00\n",
      " Flow IAT Max_std                   1.636901e+06\n",
      " Bwd Packet Length Std_std          7.274986e+00\n",
      " Total Fwd Packets_std              3.499639e+00\n",
      " Total Backward Packets_std         7.186003e+00\n",
      "dtype: float64\n"
     ]
    }
   ],
   "source": [
    "ftp_std={}\n",
    "\n",
    "cols = list(df.columns[0:-1])\n",
    "for col in cols:\n",
    "    ftp_std[col+str('_std')] = df_ftp[col].values.std()\n",
    "    \n",
    "# converting to series for further processing\n",
    "ftp_std = pd.Series(ftp_std) \n",
    "print(ftp_std)"
   ]
  },
  {
   "cell_type": "markdown",
   "metadata": {},
   "source": [
    "### Standard deviation of features for SSH Attack data"
   ]
  },
  {
   "cell_type": "code",
   "execution_count": 75,
   "metadata": {},
   "outputs": [
    {
     "name": "stdout",
     "output_type": "stream",
     "text": [
      " Fwd Packet Length Max_std          3.205947e+02\n",
      " Flow IAT Std_std                   4.977605e+05\n",
      " Fwd Packet Length Std_std          7.029028e+01\n",
      "Fwd IAT Total_std                   5.177558e+06\n",
      " Flow Packets/s_std                 3.303134e+04\n",
      " Flow Duration_std                  6.515325e+06\n",
      " Fwd Packet Length Mean_std         4.778573e+01\n",
      " Total Length of Bwd Packets_std    1.383771e+03\n",
      "Flow Bytes/s_std                    8.710135e+03\n",
      "Total Length of Fwd Packets_std     1.006857e+03\n",
      " Flow IAT Mean_std                  1.378822e+05\n",
      " Bwd Packet Length Mean_std         4.367718e+01\n",
      " Flow IAT Max_std                   2.416856e+06\n",
      " Bwd Packet Length Std_std          1.110300e+02\n",
      " Total Fwd Packets_std              1.012242e+01\n",
      " Total Backward Packets_std         1.552835e+01\n",
      "dtype: float64\n"
     ]
    }
   ],
   "source": [
    "ssh_std={}\n",
    "\n",
    "cols = list(df.columns[0:-1])\n",
    "for col in cols:\n",
    "    ssh_std[col+str('_std')] = df_ssh[col].values.std()\n",
    "    \n",
    "# converting to series for further processing\n",
    "ssh_std = pd.Series(ssh_std) \n",
    "print(ssh_std)"
   ]
  },
  {
   "cell_type": "markdown",
   "metadata": {},
   "source": [
    "### Dataframe containing standard deviations "
   ]
  },
  {
   "cell_type": "code",
   "execution_count": 76,
   "metadata": {},
   "outputs": [
    {
     "name": "stdout",
     "output_type": "stream",
     "text": [
      "                                        benign           ftp           ssh\n",
      " Fwd Packet Length Max_std        4.778144e+02  5.572105e+00  3.205947e+02\n",
      " Flow IAT Std_std                 5.860450e+06  5.125854e+05  4.977605e+05\n",
      " Fwd Packet Length Std_std        1.487513e+02  8.459415e-01  7.029028e+01\n",
      "Fwd IAT Total_std                 2.986306e+07  3.028068e+06  5.177558e+06\n",
      " Flow Packets/s_std               2.303280e+05  3.058386e+05  3.303134e+04\n",
      " Flow Duration_std                2.999846e+07  4.526970e+06  6.515325e+06\n",
      " Fwd Packet Length Mean_std       1.147536e+02  2.493508e+00  4.778573e+01\n",
      " Total Length of Bwd Packets_std  2.668090e+06  9.391640e+01  1.383771e+03\n",
      "Flow Bytes/s_std                  2.359402e+07  2.128678e+06  8.710135e+03\n",
      "Total Length of Fwd Packets_std   5.766572e+03  4.633285e+01  1.006857e+03\n",
      " Flow IAT Mean_std                4.317292e+06  1.976268e+05  1.378822e+05\n",
      " Bwd Packet Length Mean_std       3.151428e+02  6.267051e+00  4.367718e+01\n",
      " Flow IAT Max_std                 1.362517e+07  1.636901e+06  2.416856e+06\n",
      " Bwd Packet Length Std_std        2.880370e+02  7.274986e+00  1.110300e+02\n",
      " Total Fwd Packets_std            8.810475e+02  3.499639e+00  1.012242e+01\n",
      " Total Backward Packets_std       1.191054e+03  7.186003e+00  1.552835e+01\n"
     ]
    }
   ],
   "source": [
    "# Converting dataframes containing standard deviations of benign,ftp and ssh attack into single dataframe\n",
    "frame = { 'benign': ben_std, 'ftp': ftp_std, 'ssh':ssh_std } \n",
    "  \n",
    "df_std_all = pd.DataFrame(frame) \n",
    "print(df_std_all)"
   ]
  },
  {
   "cell_type": "code",
   "execution_count": 81,
   "metadata": {},
   "outputs": [
    {
     "data": {
      "text/plain": [
       "477.81442694319674"
      ]
     },
     "execution_count": 81,
     "metadata": {},
     "output_type": "execute_result"
    }
   ],
   "source": [
    "df_std_all['benign'][' Fwd Packet Length Max_std']"
   ]
  },
  {
   "cell_type": "code",
   "execution_count": null,
   "metadata": {},
   "outputs": [],
   "source": []
  },
  {
   "cell_type": "code",
   "execution_count": null,
   "metadata": {},
   "outputs": [],
   "source": []
  },
  {
   "cell_type": "code",
   "execution_count": 119,
   "metadata": {},
   "outputs": [
    {
     "data": {
      "text/plain": [
       "array(['BENIGN', 'BENIGN', 'BENIGN', ..., 'BENIGN', 'BENIGN', 'BENIGN'],\n",
       "      dtype=object)"
      ]
     },
     "execution_count": 119,
     "metadata": {},
     "output_type": "execute_result"
    }
   ],
   "source": []
  },
  {
   "cell_type": "code",
   "execution_count": null,
   "metadata": {},
   "outputs": [],
   "source": []
  },
  {
   "cell_type": "code",
   "execution_count": null,
   "metadata": {},
   "outputs": [],
   "source": []
  },
  {
   "cell_type": "code",
   "execution_count": null,
   "metadata": {},
   "outputs": [],
   "source": []
  },
  {
   "cell_type": "markdown",
   "metadata": {},
   "source": [
    "# Don't cross this point"
   ]
  },
  {
   "cell_type": "code",
   "execution_count": null,
   "metadata": {},
   "outputs": [],
   "source": []
  },
  {
   "cell_type": "markdown",
   "metadata": {},
   "source": [
    " Separate input features and labels from dataframe\n"
   ]
  },
  {
   "cell_type": "code",
   "execution_count": 4,
   "metadata": {},
   "outputs": [
    {
     "data": {
      "text/plain": [
       " Fwd Packet Length Max            int64\n",
       " Flow IAT Std                   float64\n",
       " Fwd Packet Length Std          float64\n",
       "Fwd IAT Total                   float64\n",
       " Flow Packets/s                  object\n",
       " Flow Duration                    int64\n",
       " Fwd Packet Length Mean         float64\n",
       " Total Length of Bwd Packets    float64\n",
       "Flow Bytes/s                     object\n",
       "Total Length of Fwd Packets       int64\n",
       " Flow IAT Mean                  float64\n",
       " Bwd Packet Length Mean         float64\n",
       " Flow IAT Max                   float64\n",
       " Bwd Packet Length Std          float64\n",
       " Total Fwd Packets                int64\n",
       " Total Backward Packets           int64\n",
       "dtype: object"
      ]
     },
     "execution_count": 4,
     "metadata": {},
     "output_type": "execute_result"
    }
   ],
   "source": [
    "X=df[df.columns[1:-1]]\n",
    "y=df[df.columns[-1]]\n",
    "X.dtypes"
   ]
  },
  {
   "cell_type": "code",
   "execution_count": 56,
   "metadata": {},
   "outputs": [],
   "source": [
    "X.replace(\"Infinity\", 0, inplace=True)\n",
    "X['Flow Bytes/s'].replace(\"Infinity\", 0,inplace=True)\n",
    "X[\" Flow Packets/s\"].replace(\"Infinity\", 0, inplace=True)"
   ]
  },
  {
   "cell_type": "code",
   "execution_count": 57,
   "metadata": {},
   "outputs": [
    {
     "name": "stderr",
     "output_type": "stream",
     "text": [
      "/home/ebryx/anaconda3/lib/python3.7/site-packages/ipykernel_launcher.py:1: SettingWithCopyWarning: \n",
      "A value is trying to be set on a copy of a slice from a DataFrame.\n",
      "Try using .loc[row_indexer,col_indexer] = value instead\n",
      "\n",
      "See the caveats in the documentation: http://pandas.pydata.org/pandas-docs/stable/user_guide/indexing.html#returning-a-view-versus-a-copy\n",
      "  \"\"\"Entry point for launching an IPython kernel.\n",
      "/home/ebryx/anaconda3/lib/python3.7/site-packages/ipykernel_launcher.py:2: SettingWithCopyWarning: \n",
      "A value is trying to be set on a copy of a slice from a DataFrame.\n",
      "Try using .loc[row_indexer,col_indexer] = value instead\n",
      "\n",
      "See the caveats in the documentation: http://pandas.pydata.org/pandas-docs/stable/user_guide/indexing.html#returning-a-view-versus-a-copy\n",
      "  \n"
     ]
    },
    {
     "data": {
      "text/plain": [
       " Fwd Packet Length Max            int64\n",
       " Flow IAT Std                   float64\n",
       " Fwd Packet Length Std          float64\n",
       "Fwd IAT Total                   float64\n",
       " Flow Packets/s                 float64\n",
       " Flow Duration                    int64\n",
       " Fwd Packet Length Mean         float64\n",
       " Total Length of Bwd Packets    float64\n",
       "Flow Bytes/s                    float64\n",
       "Total Length of Fwd Packets       int64\n",
       " Flow IAT Mean                  float64\n",
       " Bwd Packet Length Mean         float64\n",
       " Flow IAT Max                   float64\n",
       " Bwd Packet Length Std          float64\n",
       " Total Fwd Packets                int64\n",
       " Total Backward Packets           int64\n",
       "dtype: object"
      ]
     },
     "execution_count": 57,
     "metadata": {},
     "output_type": "execute_result"
    }
   ],
   "source": [
    "X[\"Flow Bytes/s\"]=X[\"Flow Bytes/s\"].astype(\"float\")\n",
    "X[' Flow Packets/s']=X[\" Flow Packets/s\"].astype(\"float\")\n",
    "X.dtypes"
   ]
  },
  {
   "cell_type": "markdown",
   "metadata": {},
   "source": [
    "#### Display all rows in column as will be mentioned"
   ]
  },
  {
   "cell_type": "code",
   "execution_count": 29,
   "metadata": {},
   "outputs": [],
   "source": [
    "pd.set_option('display.max_rows', X.shape[0])\n",
    "# pd.set_option('display.max_columns', X_train.shape[1])\n",
    "\n",
    "# X_train.head(3)"
   ]
  },
  {
   "cell_type": "markdown",
   "metadata": {},
   "source": [
    "### Normalize Data\n",
    "normalize data using z score so it is easy for our model to learn and outlier could be handled here"
   ]
  },
  {
   "cell_type": "code",
   "execution_count": 7,
   "metadata": {},
   "outputs": [],
   "source": [
    "from scipy import stats"
   ]
  },
  {
   "cell_type": "code",
   "execution_count": 8,
   "metadata": {},
   "outputs": [
    {
     "name": "stdout",
     "output_type": "stream",
     "text": [
      "time :::  1.7543418407440186  seconds to find z score of  16 features\n"
     ]
    },
    {
     "name": "stderr",
     "output_type": "stream",
     "text": [
      "/home/ebryx/anaconda3/lib/python3.7/site-packages/ipykernel_launcher.py:5: SettingWithCopyWarning: \n",
      "A value is trying to be set on a copy of a slice from a DataFrame.\n",
      "Try using .loc[row_indexer,col_indexer] = value instead\n",
      "\n",
      "See the caveats in the documentation: http://pandas.pydata.org/pandas-docs/stable/user_guide/indexing.html#returning-a-view-versus-a-copy\n",
      "  \"\"\"\n"
     ]
    }
   ],
   "source": [
    "t1=time.time()\n",
    "\n",
    "cols = list(X.columns)\n",
    "for col in cols:\n",
    "    X[col] = stats.zscore(X[col])\n",
    "    \n",
    "t2=time.time()\n",
    "print(\"time ::: \", t2-t1 , \" seconds to find z score of \" , len(cols), \"features\")"
   ]
  },
  {
   "cell_type": "markdown",
   "metadata": {},
   "source": [
    "\n",
    "##  3. Creation of Training and testing data\n"
   ]
  },
  {
   "cell_type": "code",
   "execution_count": 9,
   "metadata": {},
   "outputs": [],
   "source": [
    "from sklearn.model_selection import train_test_split     # import module for train test split"
   ]
  },
  {
   "cell_type": "code",
   "execution_count": 10,
   "metadata": {},
   "outputs": [],
   "source": [
    "X_train, X_test, y_train, y_test=train_test_split(X,y,test_size=0.2, random_state=10)"
   ]
  },
  {
   "cell_type": "code",
   "execution_count": 11,
   "metadata": {
    "scrolled": true
   },
   "outputs": [
    {
     "data": {
      "text/html": [
       "<div>\n",
       "<style scoped>\n",
       "    .dataframe tbody tr th:only-of-type {\n",
       "        vertical-align: middle;\n",
       "    }\n",
       "\n",
       "    .dataframe tbody tr th {\n",
       "        vertical-align: top;\n",
       "    }\n",
       "\n",
       "    .dataframe thead th {\n",
       "        text-align: right;\n",
       "    }\n",
       "</style>\n",
       "<table border=\"1\" class=\"dataframe\">\n",
       "  <thead>\n",
       "    <tr style=\"text-align: right;\">\n",
       "      <th></th>\n",
       "      <th>Fwd Packet Length Max</th>\n",
       "      <th>Flow IAT Std</th>\n",
       "      <th>Fwd Packet Length Std</th>\n",
       "      <th>Fwd IAT Total</th>\n",
       "      <th>Flow Packets/s</th>\n",
       "      <th>Flow Duration</th>\n",
       "      <th>Fwd Packet Length Mean</th>\n",
       "      <th>Total Length of Bwd Packets</th>\n",
       "      <th>Flow Bytes/s</th>\n",
       "      <th>Total Length of Fwd Packets</th>\n",
       "      <th>Flow IAT Mean</th>\n",
       "      <th>Bwd Packet Length Mean</th>\n",
       "      <th>Flow IAT Max</th>\n",
       "      <th>Bwd Packet Length Std</th>\n",
       "      <th>Total Fwd Packets</th>\n",
       "      <th>Total Backward Packets</th>\n",
       "    </tr>\n",
       "  </thead>\n",
       "  <tbody>\n",
       "    <tr>\n",
       "      <td>282978</td>\n",
       "      <td>-0.267542</td>\n",
       "      <td>-0.252580</td>\n",
       "      <td>-0.340132</td>\n",
       "      <td>-0.356875</td>\n",
       "      <td>-0.151739</td>\n",
       "      <td>-0.364797</td>\n",
       "      <td>-0.013694</td>\n",
       "      <td>-0.008195</td>\n",
       "      <td>0.056352</td>\n",
       "      <td>-0.076865</td>\n",
       "      <td>-0.211028</td>\n",
       "      <td>0.014617</td>\n",
       "      <td>-0.296853</td>\n",
       "      <td>-0.446744</td>\n",
       "      <td>-0.011306</td>\n",
       "      <td>-0.010161</td>\n",
       "    </tr>\n",
       "    <tr>\n",
       "      <td>414911</td>\n",
       "      <td>-0.367004</td>\n",
       "      <td>-0.252596</td>\n",
       "      <td>-0.340132</td>\n",
       "      <td>-0.356875</td>\n",
       "      <td>-0.256608</td>\n",
       "      <td>-0.363704</td>\n",
       "      <td>-0.428831</td>\n",
       "      <td>-0.008328</td>\n",
       "      <td>-0.059499</td>\n",
       "      <td>-0.093419</td>\n",
       "      <td>-0.203406</td>\n",
       "      <td>-0.547351</td>\n",
       "      <td>-0.294447</td>\n",
       "      <td>-0.446744</td>\n",
       "      <td>-0.012459</td>\n",
       "      <td>-0.011014</td>\n",
       "    </tr>\n",
       "    <tr>\n",
       "      <td>422681</td>\n",
       "      <td>-0.367004</td>\n",
       "      <td>-0.252596</td>\n",
       "      <td>-0.340132</td>\n",
       "      <td>-0.356875</td>\n",
       "      <td>-0.050357</td>\n",
       "      <td>-0.364801</td>\n",
       "      <td>-0.428831</td>\n",
       "      <td>-0.008328</td>\n",
       "      <td>-0.059499</td>\n",
       "      <td>-0.093419</td>\n",
       "      <td>-0.211031</td>\n",
       "      <td>-0.547351</td>\n",
       "      <td>-0.296862</td>\n",
       "      <td>-0.446744</td>\n",
       "      <td>-0.012459</td>\n",
       "      <td>-0.011014</td>\n",
       "    </tr>\n",
       "    <tr>\n",
       "      <td>189739</td>\n",
       "      <td>-0.248496</td>\n",
       "      <td>2.449914</td>\n",
       "      <td>-0.308173</td>\n",
       "      <td>2.528044</td>\n",
       "      <td>-0.256875</td>\n",
       "      <td>2.507581</td>\n",
       "      <td>0.030469</td>\n",
       "      <td>-0.008162</td>\n",
       "      <td>-0.059498</td>\n",
       "      <td>-0.056788</td>\n",
       "      <td>2.634744</td>\n",
       "      <td>-0.197325</td>\n",
       "      <td>2.198604</td>\n",
       "      <td>-0.406637</td>\n",
       "      <td>-0.009000</td>\n",
       "      <td>-0.008455</td>\n",
       "    </tr>\n",
       "    <tr>\n",
       "      <td>130843</td>\n",
       "      <td>-0.276007</td>\n",
       "      <td>-0.252596</td>\n",
       "      <td>-0.340132</td>\n",
       "      <td>-0.356875</td>\n",
       "      <td>-0.256589</td>\n",
       "      <td>-0.363780</td>\n",
       "      <td>-0.049025</td>\n",
       "      <td>-0.008301</td>\n",
       "      <td>-0.059336</td>\n",
       "      <td>-0.085846</td>\n",
       "      <td>-0.203930</td>\n",
       "      <td>-0.319352</td>\n",
       "      <td>-0.294613</td>\n",
       "      <td>-0.446744</td>\n",
       "      <td>-0.012459</td>\n",
       "      <td>-0.011014</td>\n",
       "    </tr>\n",
       "    <tr>\n",
       "      <td>...</td>\n",
       "      <td>...</td>\n",
       "      <td>...</td>\n",
       "      <td>...</td>\n",
       "      <td>...</td>\n",
       "      <td>...</td>\n",
       "      <td>...</td>\n",
       "      <td>...</td>\n",
       "      <td>...</td>\n",
       "      <td>...</td>\n",
       "      <td>...</td>\n",
       "      <td>...</td>\n",
       "      <td>...</td>\n",
       "      <td>...</td>\n",
       "      <td>...</td>\n",
       "      <td>...</td>\n",
       "      <td>...</td>\n",
       "    </tr>\n",
       "    <tr>\n",
       "      <td>298804</td>\n",
       "      <td>-0.318331</td>\n",
       "      <td>-0.252579</td>\n",
       "      <td>-0.340132</td>\n",
       "      <td>-0.356875</td>\n",
       "      <td>-0.154227</td>\n",
       "      <td>-0.364797</td>\n",
       "      <td>-0.225679</td>\n",
       "      <td>-0.008311</td>\n",
       "      <td>-0.036062</td>\n",
       "      <td>-0.085318</td>\n",
       "      <td>-0.211027</td>\n",
       "      <td>-0.473492</td>\n",
       "      <td>-0.296852</td>\n",
       "      <td>-0.446744</td>\n",
       "      <td>-0.011306</td>\n",
       "      <td>-0.010161</td>\n",
       "    </tr>\n",
       "    <tr>\n",
       "      <td>415277</td>\n",
       "      <td>-0.367004</td>\n",
       "      <td>-0.252596</td>\n",
       "      <td>-0.340132</td>\n",
       "      <td>-0.356875</td>\n",
       "      <td>-0.178023</td>\n",
       "      <td>-0.364799</td>\n",
       "      <td>-0.428831</td>\n",
       "      <td>-0.008328</td>\n",
       "      <td>-0.059499</td>\n",
       "      <td>-0.093419</td>\n",
       "      <td>-0.211015</td>\n",
       "      <td>-0.547351</td>\n",
       "      <td>-0.296857</td>\n",
       "      <td>-0.446744</td>\n",
       "      <td>-0.012459</td>\n",
       "      <td>-0.011014</td>\n",
       "    </tr>\n",
       "    <tr>\n",
       "      <td>67766</td>\n",
       "      <td>0.485830</td>\n",
       "      <td>1.618372</td>\n",
       "      <td>1.058001</td>\n",
       "      <td>3.550848</td>\n",
       "      <td>-0.256874</td>\n",
       "      <td>3.540732</td>\n",
       "      <td>1.350957</td>\n",
       "      <td>-0.007945</td>\n",
       "      <td>-0.059496</td>\n",
       "      <td>0.900211</td>\n",
       "      <td>0.451248</td>\n",
       "      <td>-0.316141</td>\n",
       "      <td>3.800174</td>\n",
       "      <td>-0.446744</td>\n",
       "      <td>0.018673</td>\n",
       "      <td>0.000074</td>\n",
       "    </tr>\n",
       "    <tr>\n",
       "      <td>115252</td>\n",
       "      <td>-0.269658</td>\n",
       "      <td>-0.252596</td>\n",
       "      <td>-0.340132</td>\n",
       "      <td>-0.356875</td>\n",
       "      <td>-0.256774</td>\n",
       "      <td>-0.361906</td>\n",
       "      <td>-0.022527</td>\n",
       "      <td>-0.008299</td>\n",
       "      <td>-0.059436</td>\n",
       "      <td>-0.085318</td>\n",
       "      <td>-0.190903</td>\n",
       "      <td>-0.296874</td>\n",
       "      <td>-0.290487</td>\n",
       "      <td>-0.446744</td>\n",
       "      <td>-0.012459</td>\n",
       "      <td>-0.011014</td>\n",
       "    </tr>\n",
       "    <tr>\n",
       "      <td>421018</td>\n",
       "      <td>-0.301401</td>\n",
       "      <td>-0.252580</td>\n",
       "      <td>-0.340132</td>\n",
       "      <td>-0.356875</td>\n",
       "      <td>-0.154227</td>\n",
       "      <td>-0.364797</td>\n",
       "      <td>-0.155017</td>\n",
       "      <td>-0.008256</td>\n",
       "      <td>0.004698</td>\n",
       "      <td>-0.082500</td>\n",
       "      <td>-0.211027</td>\n",
       "      <td>-0.242282</td>\n",
       "      <td>-0.296853</td>\n",
       "      <td>-0.446744</td>\n",
       "      <td>-0.011306</td>\n",
       "      <td>-0.010161</td>\n",
       "    </tr>\n",
       "  </tbody>\n",
       "</table>\n",
       "<p>1000 rows × 16 columns</p>\n",
       "</div>"
      ],
      "text/plain": [
       "         Fwd Packet Length Max   Flow IAT Std   Fwd Packet Length Std  \\\n",
       "282978               -0.267542      -0.252580               -0.340132   \n",
       "414911               -0.367004      -0.252596               -0.340132   \n",
       "422681               -0.367004      -0.252596               -0.340132   \n",
       "189739               -0.248496       2.449914               -0.308173   \n",
       "130843               -0.276007      -0.252596               -0.340132   \n",
       "...                        ...            ...                     ...   \n",
       "298804               -0.318331      -0.252579               -0.340132   \n",
       "415277               -0.367004      -0.252596               -0.340132   \n",
       "67766                 0.485830       1.618372                1.058001   \n",
       "115252               -0.269658      -0.252596               -0.340132   \n",
       "421018               -0.301401      -0.252580               -0.340132   \n",
       "\n",
       "        Fwd IAT Total   Flow Packets/s   Flow Duration  \\\n",
       "282978      -0.356875        -0.151739       -0.364797   \n",
       "414911      -0.356875        -0.256608       -0.363704   \n",
       "422681      -0.356875        -0.050357       -0.364801   \n",
       "189739       2.528044        -0.256875        2.507581   \n",
       "130843      -0.356875        -0.256589       -0.363780   \n",
       "...               ...              ...             ...   \n",
       "298804      -0.356875        -0.154227       -0.364797   \n",
       "415277      -0.356875        -0.178023       -0.364799   \n",
       "67766        3.550848        -0.256874        3.540732   \n",
       "115252      -0.356875        -0.256774       -0.361906   \n",
       "421018      -0.356875        -0.154227       -0.364797   \n",
       "\n",
       "         Fwd Packet Length Mean   Total Length of Bwd Packets  Flow Bytes/s  \\\n",
       "282978                -0.013694                     -0.008195      0.056352   \n",
       "414911                -0.428831                     -0.008328     -0.059499   \n",
       "422681                -0.428831                     -0.008328     -0.059499   \n",
       "189739                 0.030469                     -0.008162     -0.059498   \n",
       "130843                -0.049025                     -0.008301     -0.059336   \n",
       "...                         ...                           ...           ...   \n",
       "298804                -0.225679                     -0.008311     -0.036062   \n",
       "415277                -0.428831                     -0.008328     -0.059499   \n",
       "67766                  1.350957                     -0.007945     -0.059496   \n",
       "115252                -0.022527                     -0.008299     -0.059436   \n",
       "421018                -0.155017                     -0.008256      0.004698   \n",
       "\n",
       "        Total Length of Fwd Packets   Flow IAT Mean   Bwd Packet Length Mean  \\\n",
       "282978                    -0.076865       -0.211028                 0.014617   \n",
       "414911                    -0.093419       -0.203406                -0.547351   \n",
       "422681                    -0.093419       -0.211031                -0.547351   \n",
       "189739                    -0.056788        2.634744                -0.197325   \n",
       "130843                    -0.085846       -0.203930                -0.319352   \n",
       "...                             ...             ...                      ...   \n",
       "298804                    -0.085318       -0.211027                -0.473492   \n",
       "415277                    -0.093419       -0.211015                -0.547351   \n",
       "67766                      0.900211        0.451248                -0.316141   \n",
       "115252                    -0.085318       -0.190903                -0.296874   \n",
       "421018                    -0.082500       -0.211027                -0.242282   \n",
       "\n",
       "         Flow IAT Max   Bwd Packet Length Std   Total Fwd Packets  \\\n",
       "282978      -0.296853               -0.446744           -0.011306   \n",
       "414911      -0.294447               -0.446744           -0.012459   \n",
       "422681      -0.296862               -0.446744           -0.012459   \n",
       "189739       2.198604               -0.406637           -0.009000   \n",
       "130843      -0.294613               -0.446744           -0.012459   \n",
       "...               ...                     ...                 ...   \n",
       "298804      -0.296852               -0.446744           -0.011306   \n",
       "415277      -0.296857               -0.446744           -0.012459   \n",
       "67766        3.800174               -0.446744            0.018673   \n",
       "115252      -0.290487               -0.446744           -0.012459   \n",
       "421018      -0.296853               -0.446744           -0.011306   \n",
       "\n",
       "         Total Backward Packets  \n",
       "282978                -0.010161  \n",
       "414911                -0.011014  \n",
       "422681                -0.011014  \n",
       "189739                -0.008455  \n",
       "130843                -0.011014  \n",
       "...                         ...  \n",
       "298804                -0.010161  \n",
       "415277                -0.011014  \n",
       "67766                  0.000074  \n",
       "115252                -0.011014  \n",
       "421018                -0.010161  \n",
       "\n",
       "[1000 rows x 16 columns]"
      ]
     },
     "execution_count": 11,
     "metadata": {},
     "output_type": "execute_result"
    }
   ],
   "source": [
    "X_test.head(1000)"
   ]
  },
  {
   "cell_type": "markdown",
   "metadata": {},
   "source": [
    "## 4. Applying ML algorithms"
   ]
  },
  {
   "cell_type": "markdown",
   "metadata": {},
   "source": [
    "### 1) K-NN"
   ]
  },
  {
   "cell_type": "code",
   "execution_count": 11,
   "metadata": {},
   "outputs": [],
   "source": [
    "from sklearn.neighbors import KNeighborsClassifier"
   ]
  },
  {
   "cell_type": "code",
   "execution_count": 12,
   "metadata": {},
   "outputs": [
    {
     "name": "stdout",
     "output_type": "stream",
     "text": [
      "for  1  as K, accuracy is :  0.9874806488523928\n",
      "for  2  as K, accuracy is :  0.9915415853357564\n",
      "for  3  as K, accuracy is :  0.9899822754705975\n",
      "for  4  as K, accuracy is :  0.9920351798254471\n",
      "for  5  as K, accuracy is :  0.9920127437122793\n",
      "for  6  as K, accuracy is :  0.9926297368243926\n",
      "for  7  as K, accuracy is :  0.9926185187678087\n",
      "for  8  as K, accuracy is :  0.9925960826546409\n",
      "for  9  as K, accuracy is :  0.9925960826546409\n",
      "for  10  as K, accuracy is :  0.993044804917996\n",
      "for  11  as K, accuracy is :  0.9926970451638958\n",
      "for  12  as K, accuracy is :  0.993044804917996\n",
      "for  13  as K, accuracy is :  0.993044804917996\n",
      "for  14  as K, accuracy is :  0.9930111507482444\n",
      "for  15  as K, accuracy is :  0.9930111507482444\n",
      " time for  15  k's ::  56.82399348815282  minutes\n"
     ]
    }
   ],
   "source": [
    "t1=time.time()\n",
    "\n",
    "for i in range(1,len(cols)):\n",
    "    knn=KNeighborsClassifier(n_neighbors=i)\n",
    "    model_knn=knn.fit(X_train,y_train)\n",
    "    yhat=model_knn.predict(X_test)\n",
    "    print(\"for \" , i,  \" as K, accuracy is : \", accuracy_score(y_test, yhat))\n",
    "t2=time.time()\n",
    "print(\" time for \", i ,\" k's :: \", (t2-t1)/60 , \" minutes\")"
   ]
  },
  {
   "cell_type": "markdown",
   "metadata": {},
   "source": [
    "### save knn_model for future use"
   ]
  },
  {
   "cell_type": "code",
   "execution_count": 11,
   "metadata": {},
   "outputs": [],
   "source": [
    "import pickle\n",
    "filename = 'finalized_model.sav'"
   ]
  },
  {
   "cell_type": "code",
   "execution_count": 17,
   "metadata": {},
   "outputs": [],
   "source": [
    "\n",
    "pickle.dump(model_knn, open(filename, 'wb'))"
   ]
  },
  {
   "cell_type": "code",
   "execution_count": 12,
   "metadata": {},
   "outputs": [],
   "source": [
    "\n",
    "# load the model from disk\n",
    "model_knn = pickle.load(open(filename, 'rb'))\n",
    "y_hat=model_knn.predict(X_test)\n"
   ]
  },
  {
   "cell_type": "markdown",
   "metadata": {},
   "source": [
    "### 2) Naive bayes"
   ]
  },
  {
   "cell_type": "markdown",
   "metadata": {},
   "source": [
    "#####     2.1) Gaussian naive bayes"
   ]
  },
  {
   "cell_type": "code",
   "execution_count": 10,
   "metadata": {},
   "outputs": [],
   "source": [
    "from sklearn.naive_bayes import GaussianNB"
   ]
  },
  {
   "cell_type": "code",
   "execution_count": 11,
   "metadata": {},
   "outputs": [
    {
     "name": "stdout",
     "output_type": "stream",
     "text": [
      "Accuracy ::  0.4973076664198694\n",
      " time for Naive Baye's ::  0.8724572658538818  seconds\n"
     ]
    }
   ],
   "source": [
    "t1=time.time()\n",
    "\n",
    "gnb = GaussianNB()\n",
    "model_gnb = gnb.fit(X_train, y_train)\n",
    "yhat=model_gnb.predict(X_test)\n",
    "\n",
    "print(\"Accuracy :: \", accuracy_score(y_test,yhat))\n",
    "\n",
    "t2=time.time()\n",
    "print(\" time for Naive Baye's :: \", (t2-t1) , \" seconds\")"
   ]
  },
  {
   "cell_type": "markdown",
   "metadata": {},
   "source": [
    "results for gausian naive bayes are not very good, so we use bernoulli Naive Bayes"
   ]
  },
  {
   "cell_type": "markdown",
   "metadata": {},
   "source": [
    "##### 2.2) Bernoulli Naive Bayes"
   ]
  },
  {
   "cell_type": "code",
   "execution_count": 10,
   "metadata": {},
   "outputs": [],
   "source": [
    "from sklearn.naive_bayes import BernoulliNB"
   ]
  },
  {
   "cell_type": "code",
   "execution_count": 11,
   "metadata": {},
   "outputs": [
    {
     "name": "stdout",
     "output_type": "stream",
     "text": [
      "Accuracy :::  0.973188844764533\n"
     ]
    }
   ],
   "source": [
    "clf = BernoulliNB()\n",
    "clf.fit(X_train, y_train)\n",
    "yhat=clf.predict(X_test)\n",
    "print(\"Accuracy ::: \", accuracy_score(y_test,yhat))"
   ]
  },
  {
   "cell_type": "markdown",
   "metadata": {},
   "source": [
    "#### Scatter plot"
   ]
  },
  {
   "cell_type": "code",
   "execution_count": 15,
   "metadata": {},
   "outputs": [
    {
     "data": {
      "text/plain": [
       "[]"
      ]
     },
     "execution_count": 15,
     "metadata": {},
     "output_type": "execute_result"
    },
    {
     "data": {
      "image/png": "[encoded data removed]",
      "text/plain": [
       "<Figure size 432x288 with 1 Axes>"
      ]
     },
     "metadata": {
      "needs_background": "light"
     },
     "output_type": "display_data"
    }
   ],
   "source": [
    "plt.scatter(y_test,yhat)"
   ]
  },
  {
   "cell_type": "code",
   "execution_count": 24,
   "metadata": {},
   "outputs": [
    {
     "data": {
      "text/plain": [
       "pandas.core.series.Series"
      ]
     },
     "execution_count": 24,
     "metadata": {},
     "output_type": "execute_result"
    }
   ],
   "source": [
    "type(y_test)"
   ]
  },
  {
   "cell_type": "code",
   "execution_count": 15,
   "metadata": {},
   "outputs": [
    {
     "data": {
      "text/plain": [
       "numpy.ndarray"
      ]
     },
     "execution_count": 15,
     "metadata": {},
     "output_type": "execute_result"
    }
   ],
   "source": [
    "type(yhat)"
   ]
  },
  {
   "cell_type": "code",
   "execution_count": 14,
   "metadata": {},
   "outputs": [
    {
     "name": "stderr",
     "output_type": "stream",
     "text": [
      "/home/ebryx/anaconda3/lib/python3.7/site-packages/ipykernel_launcher.py:1: FutureWarning: Method .as_matrix will be removed in a future version. Use .values instead.\n",
      "  \"\"\"Entry point for launching an IPython kernel.\n"
     ]
    }
   ],
   "source": [
    "y_test_arr=y_test.as_matrix()"
   ]
  },
  {
   "cell_type": "code",
   "execution_count": 15,
   "metadata": {},
   "outputs": [
    {
     "name": "stdout",
     "output_type": "stream",
     "text": [
      "89142\n",
      "true benign  :::  86403\n",
      "true ftp  :::  1518\n",
      "true ssh  :::  598\n",
      "false benign  :::  615\n",
      "false ftp :::  8\n",
      "fasle ssh  :::  0\n"
     ]
    }
   ],
   "source": [
    "\n",
    "true_benign=0\n",
    "true_ftp=0\n",
    "true_ssh=0\n",
    "false_benign=0\n",
    "false_ftp=0\n",
    "false_ssh=0\n",
    "print(len(y_test_arr))\n",
    "for x in range(len(y_test_arr)):\n",
    "    if y_test_arr[x]==yhat[x] and y_test_arr[x]==\"BENIGN\":\n",
    "        true_benign=true_benign+1\n",
    "    elif y_test_arr[x]==yhat[x] and y_test_arr[x]==\"FTP-Patator\":\n",
    "        true_ftp=true_ftp+1\n",
    "    elif y_test_arr[x]==yhat[x] and y_test_arr[x]==\"SSH-Patator\":\n",
    "        true_ssh=true_ssh+1\n",
    "    elif y_test_arr[x]!=yhat[x]:\n",
    "        if yhat[x]==\"BENIGN\":\n",
    "            false_benign=false_benign+1\n",
    "        elif yhat[x]==\"FTP-Patator\":\n",
    "            false_ftp=false_ftp+1\n",
    "        elif yhat[x]==\"SSH-Patator\":\n",
    "            false_ssh=false_ssh+1\n",
    "print(\"true benign  ::: \", true_benign )\n",
    "print(\"true ftp  ::: \", true_ftp )\n",
    "print(\"true ssh  ::: \", true_ssh )\n",
    "print(\"false benign  ::: \", false_benign )\n",
    "print(\"false ftp ::: \", false_ftp )\n",
    "print(\"fasle ssh  ::: \", false_ssh )"
   ]
  },
  {
   "cell_type": "code",
   "execution_count": 15,
   "metadata": {},
   "outputs": [
    {
     "name": "stdout",
     "output_type": "stream",
     "text": [
      "true benign  :::  86403\n",
      "true ftp  :::  1518\n",
      "true ssh  :::  598\n",
      "false benign  :::  615\n",
      "false ftp :::  8\n",
      "fasle ssh  :::  0\n"
     ]
    }
   ],
   "source": [
    "# y_hat= saved model output\n",
    "true_benign=0\n",
    "true_ftp=0\n",
    "true_ssh=0\n",
    "false_benign=0\n",
    "false_ftp=0\n",
    "false_ssh=0\n",
    "\n",
    "for x in range(len(y_test_arr)):\n",
    "    \n",
    "    if y_hat[x]==\"BENIGN\":\n",
    "        if y_hat[x]==y_test_arr[x]:\n",
    "            true_benign=true_benign+1\n",
    "        else:\n",
    "            false_benign=false_benign+1\n",
    "            \n",
    "    elif y_hat[x]==\"FTP-Patator\":\n",
    "        \n",
    "        if y_hat[x]==y_test_arr[x]:\n",
    "            true_ftp=true_ftp+1\n",
    "        else:\n",
    "            false_ftp=false_ftp+1\n",
    "            \n",
    "    elif y_hat[x]==\"SSH-Patator\":\n",
    "        if y_hat[x]==y_test_arr[x]:\n",
    "            true_ssh=true_ssh+1\n",
    "        else:\n",
    "            false_ssh=false_ssh+1\n",
    "            \n",
    "print(\"true benign  ::: \", true_benign )\n",
    "print(\"true ftp  ::: \", true_ftp )\n",
    "print(\"true ssh  ::: \", true_ssh )\n",
    "print(\"false benign  ::: \", false_benign )\n",
    "print(\"false ftp ::: \", false_ftp )\n",
    "print(\"fasle ssh  ::: \", false_ssh )"
   ]
  },
  {
   "cell_type": "markdown",
   "metadata": {},
   "source": [
    "## Visualization of results"
   ]
  },
  {
   "cell_type": "markdown",
   "metadata": {},
   "source": [
    "### 1. Pie Chart"
   ]
  },
  {
   "cell_type": "code",
   "execution_count": 19,
   "metadata": {},
   "outputs": [],
   "source": [
    "ser={}\n",
    "ser['true_benign']=true_benign\n",
    "ser['true ftp']=true_ftp\n",
    "ser['true ssh']=true_ssh\n",
    "ser['false benign']=false_benign\n",
    "ser['false ftp']=false_ftp\n",
    "ser['false ssh']=false_ssh"
   ]
  },
  {
   "cell_type": "code",
   "execution_count": 116,
   "metadata": {},
   "outputs": [],
   "source": [
    "series = pd.Series(ser) \n"
   ]
  },
  {
   "cell_type": "code",
   "execution_count": 121,
   "metadata": {},
   "outputs": [
    {
     "data": {
      "image/png": "[encoded data removed]",
      "text/plain": [
       "<Figure size 576x720 with 1 Axes>"
      ]
     },
     "metadata": {},
     "output_type": "display_data"
    }
   ],
   "source": [
    "colors_list = ['skyblue', 'yellowgreen', 'red', 'pink', 'black', 'blue']\n",
    "explode_list = [0, 0.1, 0, 0.4, 0.6, 0.8] # ratio for each continent with which to offset each wedge.\n",
    "\n",
    "series.plot(kind='pie',\n",
    "                            figsize=(8, 10),\n",
    "                            autopct='%1.1f%%',\n",
    "                            startangle=25,# add in percentages\n",
    "#                           shadow=False,\n",
    "                            labels=None,\n",
    "                            pctdistance=1.12, \n",
    "                            explode=explode_list,\n",
    "                            colors=colors_list,  # add custom colors\n",
    "\n",
    "           )\n",
    "\n",
    "plt.title('KNN results ', y=1.12) \n",
    "\n",
    "plt.axis('equal') \n",
    "\n",
    "# add legend\n",
    "plt.legend(labels=series.index, loc='upper right') \n",
    "\n",
    "plt.show()"
   ]
  },
  {
   "cell_type": "markdown",
   "metadata": {},
   "source": [
    "#### Pie chart with TP,FP,TN,FN"
   ]
  },
  {
   "cell_type": "code",
   "execution_count": 123,
   "metadata": {},
   "outputs": [],
   "source": [
    "ser3={}\n",
    "ser3['true positive']=true_ftp+true_ssh\n",
    "ser3['true negative']=true_benign\n",
    "ser3['false positive']=false_ftp+false_ssh\n",
    "ser3['false negative']=false_benign"
   ]
  },
  {
   "cell_type": "code",
   "execution_count": 127,
   "metadata": {},
   "outputs": [],
   "source": [
    "series3 = pd.Series(ser3) \n"
   ]
  },
  {
   "cell_type": "code",
   "execution_count": 136,
   "metadata": {},
   "outputs": [
    {
     "data": {
      "image/png": "[encoded data removed]",
      "text/plain": [
       "<Figure size 576x720 with 1 Axes>"
      ]
     },
     "metadata": {},
     "output_type": "display_data"
    }
   ],
   "source": [
    "colors_list = ['red', 'gray','black', 'skyblue' ]\n",
    "explode_list = [0, 0.2, 0.8, 0.4] # ratio for each continent with which to offset each wedge.\n",
    "\n",
    "series3.plot(kind='pie',\n",
    "                            figsize=(8, 10),\n",
    "                            autopct='%1.1f%%',\n",
    "                            startangle=25,# add in percentages\n",
    "#                           shadow=False,\n",
    "                            labels=None,\n",
    "                            pctdistance=1.12, \n",
    "                            explode=explode_list,\n",
    "                            colors=colors_list,  # add custom colors\n",
    "\n",
    "           )\n",
    "\n",
    "plt.title('KNN results ', y=1.12) \n",
    "\n",
    "plt.axis('equal') \n",
    "\n",
    "# add legend\n",
    "plt.legend(labels=series3.index, loc='upper right') \n",
    "\n",
    "plt.show()"
   ]
  },
  {
   "cell_type": "code",
   "execution_count": null,
   "metadata": {},
   "outputs": [],
   "source": []
  }
 ],
 "metadata": {
  "kernelspec": {
   "display_name": "Python 3",
   "language": "python",
   "name": "python3"
  },
  "language_info": {
   "codemirror_mode": {
    "name": "ipython",
    "version": 3
   },
   "file_extension": ".py",
   "mimetype": "text/x-python",
   "name": "python",
   "nbconvert_exporter": "python",
   "pygments_lexer": "ipython3",
   "version": "3.7.4"
  }
 },
 "nbformat": 4,
 "nbformat_minor": 2
}
