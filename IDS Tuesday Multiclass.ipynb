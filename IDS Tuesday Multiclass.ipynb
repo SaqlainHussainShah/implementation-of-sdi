{
 "cells": [
  {
   "cell_type": "code",
   "execution_count": 12,
   "metadata": {},
   "outputs": [],
   "source": [
    "import pandas as pd\n",
    "import matplotlib.pyplot as plt\n",
    "import numpy as np\n",
    "import time\n",
    "from sklearn.metrics import accuracy_score"
   ]
  },
  {
   "cell_type": "code",
   "execution_count": 2,
   "metadata": {},
   "outputs": [
    {
     "name": "stderr",
     "output_type": "stream",
     "text": [
      "/home/ebryx/anaconda3/lib/python3.7/site-packages/IPython/core/interactiveshell.py:3058: DtypeWarning: Columns (20,21) have mixed types. Specify dtype option on import or set low_memory=False.\n",
      "  interactivity=interactivity, compiler=compiler, result=result)\n"
     ]
    },
    {
     "name": "stdout",
     "output_type": "stream",
     "text": [
      "time taken to read tuesday csv ::  5.00166654586792  seconds \n"
     ]
    }
   ],
   "source": [
    "path=\"../dataset/TrafficLabelling /Tuesday-WorkingHours.pcap_ISCX.csv\"\n",
    "t1=time.time()\n",
    "df_tuesday=pd.read_csv(path)\n",
    "t2=time.time()\n",
    "print(\"time taken to read tuesday csv :: \", t2-t1, \" seconds \")"
   ]
  },
  {
   "cell_type": "code",
   "execution_count": 3,
   "metadata": {},
   "outputs": [],
   "source": [
    "df_tuesday_dropped=df_tuesday.dropna( axis=0, how='any')"
   ]
  },
  {
   "cell_type": "code",
   "execution_count": 4,
   "metadata": {},
   "outputs": [
    {
     "name": "stderr",
     "output_type": "stream",
     "text": [
      "/home/ebryx/anaconda3/lib/python3.7/site-packages/pandas/core/frame.py:4263: SettingWithCopyWarning: \n",
      "A value is trying to be set on a copy of a slice from a DataFrame\n",
      "\n",
      "See the caveats in the documentation: http://pandas.pydata.org/pandas-docs/stable/user_guide/indexing.html#returning-a-view-versus-a-copy\n",
      "  method=method,\n"
     ]
    }
   ],
   "source": [
    "df_tuesday_dropped.replace(',,', np.nan, inplace=True)"
   ]
  },
  {
   "cell_type": "code",
   "execution_count": 5,
   "metadata": {},
   "outputs": [
    {
     "data": {
      "text/plain": [
       "85"
      ]
     },
     "execution_count": 5,
     "metadata": {},
     "output_type": "execute_result"
    }
   ],
   "source": [
    "df_tuesday_dup_rem = df_tuesday_dropped.loc[:,~df_tuesday_dropped.columns.duplicated()]\n",
    "len(df_tuesday_dup_rem.columns)"
   ]
  },
  {
   "cell_type": "code",
   "execution_count": 6,
   "metadata": {},
   "outputs": [
    {
     "name": "stderr",
     "output_type": "stream",
     "text": [
      "/home/ebryx/anaconda3/lib/python3.7/site-packages/pandas/core/frame.py:4102: SettingWithCopyWarning: \n",
      "A value is trying to be set on a copy of a slice from a DataFrame\n",
      "\n",
      "See the caveats in the documentation: http://pandas.pydata.org/pandas-docs/stable/user_guide/indexing.html#returning-a-view-versus-a-copy\n",
      "  errors=errors,\n"
     ]
    }
   ],
   "source": [
    "df_tuesday_dropped.drop(columns=[' Fwd Header Length.1'], axis=1, inplace=True)"
   ]
  },
  {
   "cell_type": "code",
   "execution_count": 7,
   "metadata": {},
   "outputs": [
    {
     "data": {
      "text/plain": [
       "84"
      ]
     },
     "execution_count": 7,
     "metadata": {},
     "output_type": "execute_result"
    }
   ],
   "source": [
    "len(df_tuesday_dropped.columns)\n"
   ]
  },
  {
   "cell_type": "code",
   "execution_count": 8,
   "metadata": {},
   "outputs": [
    {
     "data": {
      "text/plain": [
       "LabelEncoder()"
      ]
     },
     "execution_count": 8,
     "metadata": {},
     "output_type": "execute_result"
    }
   ],
   "source": [
    "from sklearn import preprocessing      # import required package for labelencoding\n",
    "le=preprocessing.LabelEncoder()        # create a label encoder (category) object\n",
    "le.fit(df_tuesday_dropped['Flow ID'])"
   ]
  },
  {
   "cell_type": "code",
   "execution_count": 9,
   "metadata": {},
   "outputs": [
    {
     "data": {
      "text/plain": [
       "array([152266, 152267, 152268, ..., 157091,  79335, 174989])"
      ]
     },
     "execution_count": 9,
     "metadata": {},
     "output_type": "execute_result"
    }
   ],
   "source": [
    "# labels\n",
    "le.classes_\n",
    "# Apply fitted encoder to the pandas column\n",
    "le.transform(df_tuesday_dropped[\"Flow ID\"])"
   ]
  },
  {
   "cell_type": "code",
   "execution_count": 10,
   "metadata": {},
   "outputs": [
    {
     "data": {
      "text/plain": [
       "array([2145, 2145, 2145, ..., 2146, 5380, 2149])"
      ]
     },
     "execution_count": 10,
     "metadata": {},
     "output_type": "execute_result"
    }
   ],
   "source": [
    "le_s_ip=preprocessing.LabelEncoder()\n",
    "le_s_ip.fit(df_tuesday_dropped[' Source IP'])\n",
    "le_s_ip.transform(df_tuesday_dropped[' Source IP'])"
   ]
  },
  {
   "cell_type": "code",
   "execution_count": 11,
   "metadata": {},
   "outputs": [
    {
     "data": {
      "text/plain": [
       "array([2558, 2558, 2558, ..., 2558, 2556, 2558])"
      ]
     },
     "execution_count": 11,
     "metadata": {},
     "output_type": "execute_result"
    }
   ],
   "source": [
    "le_d_ip=preprocessing.LabelEncoder()\n",
    "le_d_ip.fit(df_tuesday_dropped[' Destination IP'])\n",
    "le_d_ip.transform(df_tuesday_dropped[' Destination IP'])"
   ]
  },
  {
   "cell_type": "code",
   "execution_count": 12,
   "metadata": {},
   "outputs": [
    {
     "data": {
      "text/plain": [
       "array([422, 422, 422, ..., 439, 168,  38])"
      ]
     },
     "execution_count": 12,
     "metadata": {},
     "output_type": "execute_result"
    }
   ],
   "source": [
    "le_time_stamp=preprocessing.LabelEncoder()\n",
    "le_time_stamp.fit(df_tuesday_dropped[' Timestamp'])\n",
    "le_time_stamp.transform(df_tuesday_dropped[' Timestamp'])"
   ]
  },
  {
   "cell_type": "code",
   "execution_count": 13,
   "metadata": {},
   "outputs": [
    {
     "data": {
      "text/html": [
       "<div>\n",
       "<style scoped>\n",
       "    .dataframe tbody tr th:only-of-type {\n",
       "        vertical-align: middle;\n",
       "    }\n",
       "\n",
       "    .dataframe tbody tr th {\n",
       "        vertical-align: top;\n",
       "    }\n",
       "\n",
       "    .dataframe thead th {\n",
       "        text-align: right;\n",
       "    }\n",
       "</style>\n",
       "<table border=\"1\" class=\"dataframe\">\n",
       "  <thead>\n",
       "    <tr style=\"text-align: right;\">\n",
       "      <th></th>\n",
       "      <th>Flow ID</th>\n",
       "      <th>Source IP</th>\n",
       "      <th>Source Port</th>\n",
       "      <th>Destination IP</th>\n",
       "      <th>Destination Port</th>\n",
       "      <th>Protocol</th>\n",
       "      <th>Timestamp</th>\n",
       "      <th>Flow Duration</th>\n",
       "      <th>Total Fwd Packets</th>\n",
       "      <th>Total Backward Packets</th>\n",
       "      <th>...</th>\n",
       "      <th>act_data_pkt_fwd</th>\n",
       "      <th>min_seg_size_forward</th>\n",
       "      <th>Active Mean</th>\n",
       "      <th>Active Std</th>\n",
       "      <th>Active Max</th>\n",
       "      <th>Active Min</th>\n",
       "      <th>Idle Mean</th>\n",
       "      <th>Idle Std</th>\n",
       "      <th>Idle Max</th>\n",
       "      <th>Idle Min</th>\n",
       "    </tr>\n",
       "    <tr>\n",
       "      <th>Label</th>\n",
       "      <th></th>\n",
       "      <th></th>\n",
       "      <th></th>\n",
       "      <th></th>\n",
       "      <th></th>\n",
       "      <th></th>\n",
       "      <th></th>\n",
       "      <th></th>\n",
       "      <th></th>\n",
       "      <th></th>\n",
       "      <th></th>\n",
       "      <th></th>\n",
       "      <th></th>\n",
       "      <th></th>\n",
       "      <th></th>\n",
       "      <th></th>\n",
       "      <th></th>\n",
       "      <th></th>\n",
       "      <th></th>\n",
       "      <th></th>\n",
       "      <th></th>\n",
       "    </tr>\n",
       "  </thead>\n",
       "  <tbody>\n",
       "    <tr>\n",
       "      <td>BENIGN</td>\n",
       "      <td>192.168.10.3-192.168.10.5-88-49182-6</td>\n",
       "      <td>192.168.10.5</td>\n",
       "      <td>49182</td>\n",
       "      <td>192.168.10.3</td>\n",
       "      <td>88</td>\n",
       "      <td>6</td>\n",
       "      <td>4/7/2017 8:54</td>\n",
       "      <td>640</td>\n",
       "      <td>7</td>\n",
       "      <td>4</td>\n",
       "      <td>...</td>\n",
       "      <td>2</td>\n",
       "      <td>20</td>\n",
       "      <td>0.0</td>\n",
       "      <td>0.0</td>\n",
       "      <td>0.0</td>\n",
       "      <td>0.0</td>\n",
       "      <td>0.0</td>\n",
       "      <td>0.0</td>\n",
       "      <td>0.0</td>\n",
       "      <td>0.0</td>\n",
       "    </tr>\n",
       "    <tr>\n",
       "      <td>FTP-Patator</td>\n",
       "      <td>172.16.0.1-192.168.10.50-45422-80-6</td>\n",
       "      <td>172.16.0.1</td>\n",
       "      <td>45422</td>\n",
       "      <td>192.168.10.50</td>\n",
       "      <td>80</td>\n",
       "      <td>6</td>\n",
       "      <td>4/7/2017 10:30</td>\n",
       "      <td>5216127</td>\n",
       "      <td>3</td>\n",
       "      <td>1</td>\n",
       "      <td>...</td>\n",
       "      <td>0</td>\n",
       "      <td>32</td>\n",
       "      <td>0.0</td>\n",
       "      <td>0.0</td>\n",
       "      <td>0.0</td>\n",
       "      <td>0.0</td>\n",
       "      <td>0.0</td>\n",
       "      <td>0.0</td>\n",
       "      <td>0.0</td>\n",
       "      <td>0.0</td>\n",
       "    </tr>\n",
       "    <tr>\n",
       "      <td>SSH-Patator</td>\n",
       "      <td>172.16.0.1-192.168.10.50-52358-22-6</td>\n",
       "      <td>172.16.0.1</td>\n",
       "      <td>52358</td>\n",
       "      <td>192.168.10.50</td>\n",
       "      <td>22</td>\n",
       "      <td>6</td>\n",
       "      <td>4/7/2017 3:11</td>\n",
       "      <td>404</td>\n",
       "      <td>2</td>\n",
       "      <td>0</td>\n",
       "      <td>...</td>\n",
       "      <td>0</td>\n",
       "      <td>32</td>\n",
       "      <td>0.0</td>\n",
       "      <td>0.0</td>\n",
       "      <td>0.0</td>\n",
       "      <td>0.0</td>\n",
       "      <td>0.0</td>\n",
       "      <td>0.0</td>\n",
       "      <td>0.0</td>\n",
       "      <td>0.0</td>\n",
       "    </tr>\n",
       "  </tbody>\n",
       "</table>\n",
       "<p>3 rows × 83 columns</p>\n",
       "</div>"
      ],
      "text/plain": [
       "                                          Flow ID     Source IP   Source Port  \\\n",
       " Label                                                                          \n",
       "BENIGN       192.168.10.3-192.168.10.5-88-49182-6  192.168.10.5         49182   \n",
       "FTP-Patator   172.16.0.1-192.168.10.50-45422-80-6    172.16.0.1         45422   \n",
       "SSH-Patator   172.16.0.1-192.168.10.50-52358-22-6    172.16.0.1         52358   \n",
       "\n",
       "             Destination IP   Destination Port   Protocol       Timestamp  \\\n",
       " Label                                                                      \n",
       "BENIGN         192.168.10.3                 88          6   4/7/2017 8:54   \n",
       "FTP-Patator   192.168.10.50                 80          6  4/7/2017 10:30   \n",
       "SSH-Patator   192.168.10.50                 22          6   4/7/2017 3:11   \n",
       "\n",
       "              Flow Duration   Total Fwd Packets   Total Backward Packets  ...  \\\n",
       " Label                                                                    ...   \n",
       "BENIGN                  640                   7                        4  ...   \n",
       "FTP-Patator         5216127                   3                        1  ...   \n",
       "SSH-Patator             404                   2                        0  ...   \n",
       "\n",
       "              act_data_pkt_fwd   min_seg_size_forward  Active Mean  \\\n",
       " Label                                                               \n",
       "BENIGN                       2                     20          0.0   \n",
       "FTP-Patator                  0                     32          0.0   \n",
       "SSH-Patator                  0                     32          0.0   \n",
       "\n",
       "              Active Std   Active Max   Active Min  Idle Mean   Idle Std  \\\n",
       " Label                                                                     \n",
       "BENIGN               0.0          0.0          0.0        0.0        0.0   \n",
       "FTP-Patator          0.0          0.0          0.0        0.0        0.0   \n",
       "SSH-Patator          0.0          0.0          0.0        0.0        0.0   \n",
       "\n",
       "              Idle Max   Idle Min  \n",
       " Label                             \n",
       "BENIGN             0.0        0.0  \n",
       "FTP-Patator        0.0        0.0  \n",
       "SSH-Patator        0.0        0.0  \n",
       "\n",
       "[3 rows x 83 columns]"
      ]
     },
     "execution_count": 13,
     "metadata": {},
     "output_type": "execute_result"
    }
   ],
   "source": [
    "group=df_tuesday_dropped.groupby(' Label')\n",
    "group.first()"
   ]
  },
  {
   "cell_type": "code",
   "execution_count": 14,
   "metadata": {},
   "outputs": [],
   "source": [
    "df_tuesday_dropped[[' Flow Packets/s', 'Flow Bytes/s']].replace('Infinity', -1, inplace=True)\n",
    "df_tuesday_dropped[[' Flow Packets/s', 'Flow Bytes/s']].replace('NaN', 0, inplace=True)"
   ]
  },
  {
   "cell_type": "code",
   "execution_count": 15,
   "metadata": {},
   "outputs": [],
   "source": [
    "df=df_tuesday_dropped"
   ]
  },
  {
   "cell_type": "code",
   "execution_count": 16,
   "metadata": {},
   "outputs": [
    {
     "data": {
      "text/html": [
       "<div>\n",
       "<style scoped>\n",
       "    .dataframe tbody tr th:only-of-type {\n",
       "        vertical-align: middle;\n",
       "    }\n",
       "\n",
       "    .dataframe tbody tr th {\n",
       "        vertical-align: top;\n",
       "    }\n",
       "\n",
       "    .dataframe thead th {\n",
       "        text-align: right;\n",
       "    }\n",
       "</style>\n",
       "<table border=\"1\" class=\"dataframe\">\n",
       "  <thead>\n",
       "    <tr style=\"text-align: right;\">\n",
       "      <th></th>\n",
       "      <th>Fwd Packet Length Max</th>\n",
       "      <th>Flow IAT Std</th>\n",
       "      <th>Fwd Packet Length Std</th>\n",
       "      <th>Fwd IAT Total</th>\n",
       "      <th>Flow Packets/s</th>\n",
       "      <th>Flow Duration</th>\n",
       "      <th>Fwd Packet Length Mean</th>\n",
       "      <th>Total Length of Bwd Packets</th>\n",
       "      <th>Flow Bytes/s</th>\n",
       "      <th>Total Length of Fwd Packets</th>\n",
       "      <th>Flow IAT Mean</th>\n",
       "      <th>Bwd Packet Length Mean</th>\n",
       "      <th>Flow IAT Max</th>\n",
       "      <th>Bwd Packet Length Std</th>\n",
       "      <th>Total Fwd Packets</th>\n",
       "      <th>Total Backward Packets</th>\n",
       "      <th>Label</th>\n",
       "    </tr>\n",
       "  </thead>\n",
       "  <tbody>\n",
       "    <tr>\n",
       "      <td>0</td>\n",
       "      <td>220</td>\n",
       "      <td>135.557286</td>\n",
       "      <td>107.349008</td>\n",
       "      <td>640.0</td>\n",
       "      <td>17187.5</td>\n",
       "      <td>640</td>\n",
       "      <td>62.857143</td>\n",
       "      <td>358.0</td>\n",
       "      <td>1246875</td>\n",
       "      <td>440</td>\n",
       "      <td>64.000000</td>\n",
       "      <td>89.5</td>\n",
       "      <td>445.0</td>\n",
       "      <td>103.345698</td>\n",
       "      <td>7</td>\n",
       "      <td>4</td>\n",
       "      <td>BENIGN</td>\n",
       "    </tr>\n",
       "    <tr>\n",
       "      <td>1</td>\n",
       "      <td>300</td>\n",
       "      <td>192.795228</td>\n",
       "      <td>132.287566</td>\n",
       "      <td>900.0</td>\n",
       "      <td>14444.44444</td>\n",
       "      <td>900</td>\n",
       "      <td>66.666667</td>\n",
       "      <td>2944.0</td>\n",
       "      <td>3937777.778</td>\n",
       "      <td>600</td>\n",
       "      <td>75.000000</td>\n",
       "      <td>736.0</td>\n",
       "      <td>684.0</td>\n",
       "      <td>849.859596</td>\n",
       "      <td>9</td>\n",
       "      <td>4</td>\n",
       "      <td>BENIGN</td>\n",
       "    </tr>\n",
       "    <tr>\n",
       "      <td>2</td>\n",
       "      <td>1388</td>\n",
       "      <td>236.433336</td>\n",
       "      <td>677.274651</td>\n",
       "      <td>1205.0</td>\n",
       "      <td>9128.630705</td>\n",
       "      <td>1205</td>\n",
       "      <td>396.571429</td>\n",
       "      <td>2830.0</td>\n",
       "      <td>4652282.158</td>\n",
       "      <td>2776</td>\n",
       "      <td>120.500000</td>\n",
       "      <td>707.5</td>\n",
       "      <td>777.0</td>\n",
       "      <td>816.950631</td>\n",
       "      <td>7</td>\n",
       "      <td>4</td>\n",
       "      <td>BENIGN</td>\n",
       "    </tr>\n",
       "    <tr>\n",
       "      <td>3</td>\n",
       "      <td>226</td>\n",
       "      <td>90.767652</td>\n",
       "      <td>110.276708</td>\n",
       "      <td>511.0</td>\n",
       "      <td>21526.41879</td>\n",
       "      <td>511</td>\n",
       "      <td>64.571429</td>\n",
       "      <td>370.0</td>\n",
       "      <td>1608610.568</td>\n",
       "      <td>452</td>\n",
       "      <td>51.100000</td>\n",
       "      <td>92.5</td>\n",
       "      <td>299.0</td>\n",
       "      <td>106.809800</td>\n",
       "      <td>7</td>\n",
       "      <td>4</td>\n",
       "      <td>BENIGN</td>\n",
       "    </tr>\n",
       "    <tr>\n",
       "      <td>4</td>\n",
       "      <td>306</td>\n",
       "      <td>148.698266</td>\n",
       "      <td>134.933317</td>\n",
       "      <td>773.0</td>\n",
       "      <td>16817.59379</td>\n",
       "      <td>773</td>\n",
       "      <td>68.000000</td>\n",
       "      <td>2944.0</td>\n",
       "      <td>4600258.732</td>\n",
       "      <td>612</td>\n",
       "      <td>64.416667</td>\n",
       "      <td>736.0</td>\n",
       "      <td>531.0</td>\n",
       "      <td>849.859596</td>\n",
       "      <td>9</td>\n",
       "      <td>4</td>\n",
       "      <td>BENIGN</td>\n",
       "    </tr>\n",
       "  </tbody>\n",
       "</table>\n",
       "</div>"
      ],
      "text/plain": [
       "    Fwd Packet Length Max   Flow IAT Std   Fwd Packet Length Std  \\\n",
       "0                     220     135.557286              107.349008   \n",
       "1                     300     192.795228              132.287566   \n",
       "2                    1388     236.433336              677.274651   \n",
       "3                     226      90.767652              110.276708   \n",
       "4                     306     148.698266              134.933317   \n",
       "\n",
       "   Fwd IAT Total  Flow Packets/s   Flow Duration   Fwd Packet Length Mean  \\\n",
       "0          640.0         17187.5             640                62.857143   \n",
       "1          900.0     14444.44444             900                66.666667   \n",
       "2         1205.0     9128.630705            1205               396.571429   \n",
       "3          511.0     21526.41879             511                64.571429   \n",
       "4          773.0     16817.59379             773                68.000000   \n",
       "\n",
       "    Total Length of Bwd Packets Flow Bytes/s  Total Length of Fwd Packets  \\\n",
       "0                         358.0      1246875                          440   \n",
       "1                        2944.0  3937777.778                          600   \n",
       "2                        2830.0  4652282.158                         2776   \n",
       "3                         370.0  1608610.568                          452   \n",
       "4                        2944.0  4600258.732                          612   \n",
       "\n",
       "    Flow IAT Mean   Bwd Packet Length Mean   Flow IAT Max  \\\n",
       "0       64.000000                     89.5          445.0   \n",
       "1       75.000000                    736.0          684.0   \n",
       "2      120.500000                    707.5          777.0   \n",
       "3       51.100000                     92.5          299.0   \n",
       "4       64.416667                    736.0          531.0   \n",
       "\n",
       "    Bwd Packet Length Std   Total Fwd Packets   Total Backward Packets   Label  \n",
       "0              103.345698                   7                        4  BENIGN  \n",
       "1              849.859596                   9                        4  BENIGN  \n",
       "2              816.950631                   7                        4  BENIGN  \n",
       "3              106.809800                   7                        4  BENIGN  \n",
       "4              849.859596                   9                        4  BENIGN  "
      ]
     },
     "execution_count": 16,
     "metadata": {},
     "output_type": "execute_result"
    }
   ],
   "source": [
    "features=[\" Fwd Packet Length Max\",\" Flow IAT Std\",\" Fwd Packet Length Std\" ,\"Fwd IAT Total\",' Flow Packets/s',' Flow Duration', \" Fwd Packet Length Mean\", \" Total Length of Bwd Packets\", \"Flow Bytes/s\", \"Total Length of Fwd Packets\", \" Flow IAT Mean\", \" Bwd Packet Length Mean\",  \" Flow IAT Max\", \" Bwd Packet Length Std\", ' Total Fwd Packets', ' Total Backward Packets',\" Label\"]\n",
    "data_frame_for_patator=df[features].copy()\n",
    "data_frame_for_patator.head()"
   ]
  },
  {
   "cell_type": "code",
   "execution_count": 17,
   "metadata": {},
   "outputs": [],
   "source": [
    "df=data_frame_for_patator"
   ]
  },
  {
   "cell_type": "code",
   "execution_count": 18,
   "metadata": {},
   "outputs": [
    {
     "data": {
      "text/html": [
       "<div>\n",
       "<style scoped>\n",
       "    .dataframe tbody tr th:only-of-type {\n",
       "        vertical-align: middle;\n",
       "    }\n",
       "\n",
       "    .dataframe tbody tr th {\n",
       "        vertical-align: top;\n",
       "    }\n",
       "\n",
       "    .dataframe thead th {\n",
       "        text-align: right;\n",
       "    }\n",
       "</style>\n",
       "<table border=\"1\" class=\"dataframe\">\n",
       "  <thead>\n",
       "    <tr style=\"text-align: right;\">\n",
       "      <th></th>\n",
       "      <th>Fwd Packet Length Max</th>\n",
       "      <th>Flow IAT Std</th>\n",
       "      <th>Fwd Packet Length Std</th>\n",
       "      <th>Fwd IAT Total</th>\n",
       "      <th>Flow Packets/s</th>\n",
       "      <th>Flow Duration</th>\n",
       "      <th>Fwd Packet Length Mean</th>\n",
       "      <th>Total Length of Bwd Packets</th>\n",
       "      <th>Flow Bytes/s</th>\n",
       "      <th>Total Length of Fwd Packets</th>\n",
       "      <th>Flow IAT Mean</th>\n",
       "      <th>Bwd Packet Length Mean</th>\n",
       "      <th>Flow IAT Max</th>\n",
       "      <th>Bwd Packet Length Std</th>\n",
       "      <th>Total Fwd Packets</th>\n",
       "      <th>Total Backward Packets</th>\n",
       "      <th>Label</th>\n",
       "    </tr>\n",
       "  </thead>\n",
       "  <tbody>\n",
       "    <tr>\n",
       "      <td>0</td>\n",
       "      <td>220</td>\n",
       "      <td>135.557286</td>\n",
       "      <td>107.349008</td>\n",
       "      <td>640.0</td>\n",
       "      <td>17187.5</td>\n",
       "      <td>640</td>\n",
       "      <td>62.857143</td>\n",
       "      <td>358.0</td>\n",
       "      <td>1246875</td>\n",
       "      <td>440</td>\n",
       "      <td>64.000000</td>\n",
       "      <td>89.5</td>\n",
       "      <td>445.0</td>\n",
       "      <td>103.345698</td>\n",
       "      <td>7</td>\n",
       "      <td>4</td>\n",
       "      <td>BENIGN</td>\n",
       "    </tr>\n",
       "    <tr>\n",
       "      <td>1</td>\n",
       "      <td>300</td>\n",
       "      <td>192.795228</td>\n",
       "      <td>132.287566</td>\n",
       "      <td>900.0</td>\n",
       "      <td>14444.44444</td>\n",
       "      <td>900</td>\n",
       "      <td>66.666667</td>\n",
       "      <td>2944.0</td>\n",
       "      <td>3937777.778</td>\n",
       "      <td>600</td>\n",
       "      <td>75.000000</td>\n",
       "      <td>736.0</td>\n",
       "      <td>684.0</td>\n",
       "      <td>849.859596</td>\n",
       "      <td>9</td>\n",
       "      <td>4</td>\n",
       "      <td>BENIGN</td>\n",
       "    </tr>\n",
       "    <tr>\n",
       "      <td>2</td>\n",
       "      <td>1388</td>\n",
       "      <td>236.433336</td>\n",
       "      <td>677.274651</td>\n",
       "      <td>1205.0</td>\n",
       "      <td>9128.630705</td>\n",
       "      <td>1205</td>\n",
       "      <td>396.571429</td>\n",
       "      <td>2830.0</td>\n",
       "      <td>4652282.158</td>\n",
       "      <td>2776</td>\n",
       "      <td>120.500000</td>\n",
       "      <td>707.5</td>\n",
       "      <td>777.0</td>\n",
       "      <td>816.950631</td>\n",
       "      <td>7</td>\n",
       "      <td>4</td>\n",
       "      <td>BENIGN</td>\n",
       "    </tr>\n",
       "    <tr>\n",
       "      <td>3</td>\n",
       "      <td>226</td>\n",
       "      <td>90.767652</td>\n",
       "      <td>110.276708</td>\n",
       "      <td>511.0</td>\n",
       "      <td>21526.41879</td>\n",
       "      <td>511</td>\n",
       "      <td>64.571429</td>\n",
       "      <td>370.0</td>\n",
       "      <td>1608610.568</td>\n",
       "      <td>452</td>\n",
       "      <td>51.100000</td>\n",
       "      <td>92.5</td>\n",
       "      <td>299.0</td>\n",
       "      <td>106.809800</td>\n",
       "      <td>7</td>\n",
       "      <td>4</td>\n",
       "      <td>BENIGN</td>\n",
       "    </tr>\n",
       "    <tr>\n",
       "      <td>4</td>\n",
       "      <td>306</td>\n",
       "      <td>148.698266</td>\n",
       "      <td>134.933317</td>\n",
       "      <td>773.0</td>\n",
       "      <td>16817.59379</td>\n",
       "      <td>773</td>\n",
       "      <td>68.000000</td>\n",
       "      <td>2944.0</td>\n",
       "      <td>4600258.732</td>\n",
       "      <td>612</td>\n",
       "      <td>64.416667</td>\n",
       "      <td>736.0</td>\n",
       "      <td>531.0</td>\n",
       "      <td>849.859596</td>\n",
       "      <td>9</td>\n",
       "      <td>4</td>\n",
       "      <td>BENIGN</td>\n",
       "    </tr>\n",
       "  </tbody>\n",
       "</table>\n",
       "</div>"
      ],
      "text/plain": [
       "    Fwd Packet Length Max   Flow IAT Std   Fwd Packet Length Std  \\\n",
       "0                     220     135.557286              107.349008   \n",
       "1                     300     192.795228              132.287566   \n",
       "2                    1388     236.433336              677.274651   \n",
       "3                     226      90.767652              110.276708   \n",
       "4                     306     148.698266              134.933317   \n",
       "\n",
       "   Fwd IAT Total  Flow Packets/s   Flow Duration   Fwd Packet Length Mean  \\\n",
       "0          640.0         17187.5             640                62.857143   \n",
       "1          900.0     14444.44444             900                66.666667   \n",
       "2         1205.0     9128.630705            1205               396.571429   \n",
       "3          511.0     21526.41879             511                64.571429   \n",
       "4          773.0     16817.59379             773                68.000000   \n",
       "\n",
       "    Total Length of Bwd Packets Flow Bytes/s  Total Length of Fwd Packets  \\\n",
       "0                         358.0      1246875                          440   \n",
       "1                        2944.0  3937777.778                          600   \n",
       "2                        2830.0  4652282.158                         2776   \n",
       "3                         370.0  1608610.568                          452   \n",
       "4                        2944.0  4600258.732                          612   \n",
       "\n",
       "    Flow IAT Mean   Bwd Packet Length Mean   Flow IAT Max  \\\n",
       "0       64.000000                     89.5          445.0   \n",
       "1       75.000000                    736.0          684.0   \n",
       "2      120.500000                    707.5          777.0   \n",
       "3       51.100000                     92.5          299.0   \n",
       "4       64.416667                    736.0          531.0   \n",
       "\n",
       "    Bwd Packet Length Std   Total Fwd Packets   Total Backward Packets   Label  \n",
       "0              103.345698                   7                        4  BENIGN  \n",
       "1              849.859596                   9                        4  BENIGN  \n",
       "2              816.950631                   7                        4  BENIGN  \n",
       "3              106.809800                   7                        4  BENIGN  \n",
       "4              849.859596                   9                        4  BENIGN  "
      ]
     },
     "execution_count": 18,
     "metadata": {},
     "output_type": "execute_result"
    }
   ],
   "source": [
    "df.head()"
   ]
  },
  {
   "cell_type": "markdown",
   "metadata": {},
   "source": [
    "###  save df for use later"
   ]
  },
  {
   "cell_type": "code",
   "execution_count": 20,
   "metadata": {},
   "outputs": [],
   "source": [
    "df.to_csv(\"../dataset/Cleaned/multiclass-tuesday.csv\")"
   ]
  },
  {
   "cell_type": "code",
   "execution_count": 13,
   "metadata": {},
   "outputs": [
    {
     "name": "stderr",
     "output_type": "stream",
     "text": [
      "/home/ebryx/anaconda3/lib/python3.7/site-packages/IPython/core/interactiveshell.py:3058: DtypeWarning: Columns (5,9) have mixed types. Specify dtype option on import or set low_memory=False.\n",
      "  interactivity=interactivity, compiler=compiler, result=result)\n"
     ]
    }
   ],
   "source": [
    "df=pd.read_csv(\"../dataset/Cleaned/multiclass-tuesday.csv\")"
   ]
  },
  {
   "cell_type": "code",
   "execution_count": 14,
   "metadata": {},
   "outputs": [
    {
     "data": {
      "text/plain": [
       "Unnamed: 0                        int64\n",
       " Fwd Packet Length Max            int64\n",
       " Flow IAT Std                   float64\n",
       " Fwd Packet Length Std          float64\n",
       "Fwd IAT Total                   float64\n",
       " Flow Packets/s                  object\n",
       " Flow Duration                    int64\n",
       " Fwd Packet Length Mean         float64\n",
       " Total Length of Bwd Packets    float64\n",
       "Flow Bytes/s                     object\n",
       "Total Length of Fwd Packets       int64\n",
       " Flow IAT Mean                  float64\n",
       " Bwd Packet Length Mean         float64\n",
       " Flow IAT Max                   float64\n",
       " Bwd Packet Length Std          float64\n",
       " Total Fwd Packets                int64\n",
       " Total Backward Packets           int64\n",
       "dtype: object"
      ]
     },
     "execution_count": 14,
     "metadata": {},
     "output_type": "execute_result"
    }
   ],
   "source": [
    "X=df[df.columns[0:-1]]\n",
    "y=df[df.columns[-1]]\n",
    "X.dtypes"
   ]
  },
  {
   "cell_type": "code",
   "execution_count": 15,
   "metadata": {},
   "outputs": [
    {
     "name": "stderr",
     "output_type": "stream",
     "text": [
      "/home/ebryx/anaconda3/lib/python3.7/site-packages/pandas/core/frame.py:4263: SettingWithCopyWarning: \n",
      "A value is trying to be set on a copy of a slice from a DataFrame\n",
      "\n",
      "See the caveats in the documentation: http://pandas.pydata.org/pandas-docs/stable/user_guide/indexing.html#returning-a-view-versus-a-copy\n",
      "  method=method,\n",
      "/home/ebryx/anaconda3/lib/python3.7/site-packages/pandas/core/generic.py:6786: SettingWithCopyWarning: \n",
      "A value is trying to be set on a copy of a slice from a DataFrame\n",
      "\n",
      "See the caveats in the documentation: http://pandas.pydata.org/pandas-docs/stable/user_guide/indexing.html#returning-a-view-versus-a-copy\n",
      "  self._update_inplace(new_data)\n"
     ]
    }
   ],
   "source": [
    "X.replace(\"Infinity\", 0, inplace=True)\n",
    "X['Flow Bytes/s'].replace(\"Infinity\", 0,inplace=True)\n",
    "X[\" Flow Packets/s\"].replace(\"Infinity\", 0, inplace=True)"
   ]
  },
  {
   "cell_type": "code",
   "execution_count": 5,
   "metadata": {},
   "outputs": [
    {
     "name": "stderr",
     "output_type": "stream",
     "text": [
      "/home/ebryx/anaconda3/lib/python3.7/site-packages/ipykernel_launcher.py:1: SettingWithCopyWarning: \n",
      "A value is trying to be set on a copy of a slice from a DataFrame.\n",
      "Try using .loc[row_indexer,col_indexer] = value instead\n",
      "\n",
      "See the caveats in the documentation: http://pandas.pydata.org/pandas-docs/stable/user_guide/indexing.html#returning-a-view-versus-a-copy\n",
      "  \"\"\"Entry point for launching an IPython kernel.\n",
      "/home/ebryx/anaconda3/lib/python3.7/site-packages/ipykernel_launcher.py:2: SettingWithCopyWarning: \n",
      "A value is trying to be set on a copy of a slice from a DataFrame.\n",
      "Try using .loc[row_indexer,col_indexer] = value instead\n",
      "\n",
      "See the caveats in the documentation: http://pandas.pydata.org/pandas-docs/stable/user_guide/indexing.html#returning-a-view-versus-a-copy\n",
      "  \n"
     ]
    },
    {
     "data": {
      "text/plain": [
       "Unnamed: 0                        int64\n",
       " Fwd Packet Length Max            int64\n",
       " Flow IAT Std                   float64\n",
       " Fwd Packet Length Std          float64\n",
       "Fwd IAT Total                   float64\n",
       " Flow Packets/s                 float64\n",
       " Flow Duration                    int64\n",
       " Fwd Packet Length Mean         float64\n",
       " Total Length of Bwd Packets    float64\n",
       "Flow Bytes/s                    float64\n",
       "Total Length of Fwd Packets       int64\n",
       " Flow IAT Mean                  float64\n",
       " Bwd Packet Length Mean         float64\n",
       " Flow IAT Max                   float64\n",
       " Bwd Packet Length Std          float64\n",
       " Total Fwd Packets                int64\n",
       " Total Backward Packets           int64\n",
       "dtype: object"
      ]
     },
     "execution_count": 5,
     "metadata": {},
     "output_type": "execute_result"
    }
   ],
   "source": [
    "X[\"Flow Bytes/s\"]=X[\"Flow Bytes/s\"].astype(\"float\")\n",
    "X[' Flow Packets/s']=X[\" Flow Packets/s\"].astype(\"float\")\n",
    "X.dtypes"
   ]
  },
  {
   "cell_type": "code",
   "execution_count": 16,
   "metadata": {},
   "outputs": [],
   "source": [
    "from scipy import stats"
   ]
  },
  {
   "cell_type": "code",
   "execution_count": 21,
   "metadata": {},
   "outputs": [
    {
     "name": "stdout",
     "output_type": "stream",
     "text": [
      "0        -1.732072\n",
      "1        -1.732064\n",
      "2        -1.732056\n",
      "3        -1.732049\n",
      "4        -1.732041\n",
      "            ...   \n",
      "445703    1.732064\n",
      "445704    1.732072\n",
      "445705    1.732079\n",
      "445706    1.732087\n",
      "445707    1.732095\n",
      "Name: Unnamed: 0, Length: 445708, dtype: float64\n",
      "0         0.098563\n",
      "1         0.267860\n",
      "2         2.570299\n",
      "3         0.111260\n",
      "4         0.280557\n",
      "            ...   \n",
      "445703   -0.273890\n",
      "445704   -0.367004\n",
      "445705   -0.273890\n",
      "445706   -0.367004\n",
      "445707   -0.259077\n",
      "Name:  Fwd Packet Length Max, Length: 445708, dtype: float64\n",
      "0        -0.252573\n",
      "1        -0.252563\n",
      "2        -0.252555\n",
      "3        -0.252580\n",
      "4        -0.252570\n",
      "            ...   \n",
      "445703   -0.252582\n",
      "445704   -0.252596\n",
      "445705   -0.252580\n",
      "445706   -0.252596\n",
      "445707   -0.252583\n",
      "Name:  Flow IAT Std, Length: 445708, dtype: float64\n",
      "0         0.391301\n",
      "1         0.561222\n",
      "2         4.274543\n",
      "3         0.411249\n",
      "4         0.579249\n",
      "            ...   \n",
      "445703   -0.340132\n",
      "445704   -0.340132\n",
      "445705   -0.340132\n",
      "445706   -0.340132\n",
      "445707   -0.340132\n",
      "Name:  Fwd Packet Length Std, Length: 445708, dtype: float64\n",
      "0        -0.356854\n",
      "1        -0.356845\n",
      "2        -0.356834\n",
      "3        -0.356858\n",
      "4        -0.356849\n",
      "            ...   \n",
      "445703   -0.356875\n",
      "445704   -0.356875\n",
      "445705   -0.356875\n",
      "445706   -0.356875\n",
      "445707   -0.356875\n",
      "Name: Fwd IAT Total, Length: 445708, dtype: float64\n",
      "0             17187.5\n",
      "1         14444.44444\n",
      "2         9128.630705\n",
      "3         21526.41879\n",
      "4         16817.59379\n",
      "             ...     \n",
      "445703        25806.5\n",
      "445704        18181.8\n",
      "445705        24096.4\n",
      "445706        24691.4\n",
      "445707          19802\n",
      "Name:  Flow Packets/s, Length: 445708, dtype: object\n",
      "0          640\n",
      "1          900\n",
      "2         1205\n",
      "3          511\n",
      "4          773\n",
      "          ... \n",
      "445703     155\n",
      "445704     110\n",
      "445705     166\n",
      "445706      81\n",
      "445707     202\n",
      "Name:  Flow Duration, Length: 445708, dtype: int64\n",
      "0          62.857143\n",
      "1          66.666667\n",
      "2         396.571429\n",
      "3          64.571429\n",
      "4          68.000000\n",
      "             ...    \n",
      "445703     44.000000\n",
      "445704      0.000000\n",
      "445705     44.000000\n",
      "445706      0.000000\n",
      "445707     51.000000\n",
      "Name:  Fwd Packet Length Mean, Length: 445708, dtype: float64\n",
      "0          358.0\n",
      "1         2944.0\n",
      "2         2830.0\n",
      "3          370.0\n",
      "4         2944.0\n",
      "           ...  \n",
      "445703     120.0\n",
      "445704       0.0\n",
      "445705     188.0\n",
      "445706       0.0\n",
      "445707     158.0\n",
      "Name:  Total Length of Bwd Packets, Length: 445708, dtype: float64\n",
      "0             1246875\n",
      "1         3937777.778\n",
      "2         4652282.158\n",
      "3         1608610.568\n",
      "4         4600258.732\n",
      "             ...     \n",
      "445703    1.34194e+06\n",
      "445704              0\n",
      "445705    1.66265e+06\n",
      "445706              0\n",
      "445707    1.28713e+06\n",
      "Name: Flow Bytes/s, Length: 445708, dtype: object\n",
      "0          440\n",
      "1          600\n",
      "2         2776\n",
      "3          452\n",
      "4          612\n",
      "          ... \n",
      "445703      88\n",
      "445704       0\n",
      "445705      88\n",
      "445706       0\n",
      "445707     102\n",
      "Name: Total Length of Fwd Packets, Length: 445708, dtype: int64\n",
      "0          64.000000\n",
      "1          75.000000\n",
      "2         120.500000\n",
      "3          51.100000\n",
      "4          64.416667\n",
      "             ...    \n",
      "445703     51.666667\n",
      "445704    110.000000\n",
      "445705     55.333333\n",
      "445706     81.000000\n",
      "445707     67.333333\n",
      "Name:  Flow IAT Mean, Length: 445708, dtype: float64\n",
      "0          89.5\n",
      "1         736.0\n",
      "2         707.5\n",
      "3          92.5\n",
      "4         736.0\n",
      "          ...  \n",
      "445703     60.0\n",
      "445704      0.0\n",
      "445705     94.0\n",
      "445706      0.0\n",
      "445707     79.0\n",
      "Name:  Bwd Packet Length Mean, Length: 445708, dtype: float64\n",
      "0         445.0\n",
      "1         684.0\n",
      "2         777.0\n",
      "3         299.0\n",
      "4         531.0\n",
      "          ...  \n",
      "445703    148.0\n",
      "445704    110.0\n",
      "445705    160.0\n",
      "445706     81.0\n",
      "445707    152.0\n",
      "Name:  Flow IAT Max, Length: 445708, dtype: float64\n",
      "0         103.345698\n",
      "1         849.859596\n",
      "2         816.950631\n",
      "3         106.809800\n",
      "4         849.859596\n",
      "             ...    \n",
      "445703      0.000000\n",
      "445704      0.000000\n",
      "445705      0.000000\n",
      "445706      0.000000\n",
      "445707      0.000000\n",
      "Name:  Bwd Packet Length Std, Length: 445708, dtype: float64\n",
      "0         7\n",
      "1         9\n",
      "2         7\n",
      "3         7\n",
      "4         9\n",
      "         ..\n",
      "445703    2\n",
      "445704    1\n",
      "445705    2\n",
      "445706    1\n",
      "445707    2\n",
      "Name:  Total Fwd Packets, Length: 445708, dtype: int64\n",
      "0         4\n",
      "1         4\n",
      "2         4\n",
      "3         4\n",
      "4         4\n",
      "         ..\n",
      "445703    2\n",
      "445704    1\n",
      "445705    2\n",
      "445706    1\n",
      "445707    2\n",
      "Name:  Total Backward Packets, Length: 445708, dtype: int64\n",
      "time :::  0.036695003509521484  seconds to find z score of 13 features\n"
     ]
    }
   ],
   "source": [
    "t1=time.time()\n",
    "\n",
    "cols = list(X.columns)\n",
    "for col in cols:\n",
    "    print(X[col])\n",
    "#     X[col] = stats.zscore(X[col])\n",
    "    \n",
    "t2=time.time()\n",
    "print(\"time ::: \", t2-t1 , \" seconds to find z score of 13 features\")"
   ]
  },
  {
   "cell_type": "code",
   "execution_count": null,
   "metadata": {},
   "outputs": [],
   "source": [
    "from sklearn.model_selection import train_test_split     # import module for train test split"
   ]
  },
  {
   "cell_type": "code",
   "execution_count": null,
   "metadata": {},
   "outputs": [],
   "source": [
    "X_train, X_test, y_train, y_test=train_test_split(X,y,test_size=0.2, random_state=10)"
   ]
  },
  {
   "cell_type": "code",
   "execution_count": null,
   "metadata": {},
   "outputs": [],
   "source": [
    "X_test.head(1000)"
   ]
  },
  {
   "cell_type": "markdown",
   "metadata": {},
   "source": [
    "### KNN"
   ]
  },
  {
   "cell_type": "code",
   "execution_count": 10,
   "metadata": {},
   "outputs": [],
   "source": [
    "from sklearn.neighbors import KNeighborsClassifier"
   ]
  },
  {
   "cell_type": "code",
   "execution_count": 15,
   "metadata": {},
   "outputs": [
    {
     "name": "stdout",
     "output_type": "stream",
     "text": [
      "for  1  as K, accuracy is :  0.9905656144129591\n",
      "for  2  as K, accuracy is :  0.9933140382760091\n",
      "for  3  as K, accuracy is :  0.9927867896165669\n",
      "for  4  as K, accuracy is :  0.9936281438603576\n",
      "for  5  as K, accuracy is :  0.9933813466155124\n",
      "for  6  as K, accuracy is :  0.9937964147091158\n",
      "for  7  as K, accuracy is :  0.9937178883130287\n",
      "for  8  as K, accuracy is :  0.9937739785959481\n",
      "for  9  as K, accuracy is :  0.9936954521998609\n",
      "for  10  as K, accuracy is :  0.9937178883130287\n",
      "for  11  as K, accuracy is :  0.9937066702564448\n",
      "for  12  as K, accuracy is :  0.9938188508222835\n",
      "for  13  as K, accuracy is :  0.9937291063696125\n",
      "for  14  as K, accuracy is :  0.9937739785959481\n",
      "for  15  as K, accuracy is :  0.9937291063696125\n",
      "for  16  as K, accuracy is :  0.9937739785959481\n",
      "for  17  as K, accuracy is :  0.993785196652532\n",
      "for  18  as K, accuracy is :  0.9938525049920351\n",
      "for  19  as K, accuracy is :  0.9938525049920351\n",
      "for  20  as K, accuracy is :  0.9938861591617868\n",
      " time for  20  k's ::  68.81174277067184  minutes\n"
     ]
    }
   ],
   "source": [
    "t1=time.time()\n",
    "\n",
    "for i in range(1,21):\n",
    "    knn=KNeighborsClassifier(n_neighbors=i)\n",
    "    model_knn=knn.fit(X_train,y_train)\n",
    "    yhat=model_knn.predict(X_test)\n",
    "    print(\"for \" , i,  \" as K, accuracy is : \", accuracy_score(y_test, yhat))\n",
    "t2=time.time()\n",
    "print(\" time for \", i ,\" k's :: \", (t2-t1)/60 , \" minutes\")"
   ]
  },
  {
   "cell_type": "code",
   "execution_count": 11,
   "metadata": {},
   "outputs": [
    {
     "name": "stdout",
     "output_type": "stream",
     "text": [
      "for  50  as K, accuracy is :  0.9937515424827803\n",
      "for  51  as K, accuracy is :  0.9937291063696125\n",
      "for  52  as K, accuracy is :  0.9936393619169415\n",
      "for  53  as K, accuracy is :  0.993684234143277\n",
      "for  54  as K, accuracy is :  0.993594489690606\n",
      " time for  5  k's ::  16.510736711819966  minutes\n"
     ]
    }
   ],
   "source": [
    "t1=time.time()\n",
    "\n",
    "for i in range(25,30):\n",
    "    knn=KNeighborsClassifier(n_neighbors=i)\n",
    "    model_knn=knn.fit(X_train,y_train)\n",
    "    yhat=model_knn.predict(X_test)\n",
    "    print(\"for \" , i+25,  \" as K, accuracy is : \", accuracy_score(y_test, yhat))\n",
    "t2=time.time()\n",
    "print(\" time for \", 5,\" k's :: \", (t2-t1)/60 , \" minutes\")"
   ]
  },
  {
   "cell_type": "markdown",
   "metadata": {},
   "source": [
    "### Naive Bayes"
   ]
  },
  {
   "cell_type": "code",
   "execution_count": 10,
   "metadata": {},
   "outputs": [],
   "source": [
    "from sklearn.naive_bayes import GaussianNB"
   ]
  },
  {
   "cell_type": "code",
   "execution_count": 11,
   "metadata": {},
   "outputs": [
    {
     "name": "stdout",
     "output_type": "stream",
     "text": [
      "Accuracy ::  0.4973076664198694\n",
      " time for Naive Baye's ::  0.8724572658538818  seconds\n"
     ]
    }
   ],
   "source": [
    "t1=time.time()\n",
    "\n",
    "gnb = GaussianNB()\n",
    "model_gnb = gnb.fit(X_train, y_train)\n",
    "yhat=model_gnb.predict(X_test)\n",
    "\n",
    "print(\"Accuracy :: \", accuracy_score(y_test,yhat))\n",
    "\n",
    "t2=time.time()\n",
    "print(\" time for Naive Baye's :: \", (t2-t1) , \" seconds\")"
   ]
  },
  {
   "cell_type": "code",
   "execution_count": 12,
   "metadata": {},
   "outputs": [],
   "source": [
    "from sklearn.naive_bayes import BernoulliNB"
   ]
  },
  {
   "cell_type": "code",
   "execution_count": 13,
   "metadata": {},
   "outputs": [
    {
     "name": "stdout",
     "output_type": "stream",
     "text": [
      "Accuracy :::  0.981692131655112\n"
     ]
    }
   ],
   "source": [
    "clf = BernoulliNB()\n",
    "clf.fit(X_train, y_train)\n",
    "yhat=clf.predict(X_test)\n",
    "print(\"Accuracy ::: \", accuracy_score(y_test,yhat))"
   ]
  },
  {
   "cell_type": "code",
   "execution_count": null,
   "metadata": {},
   "outputs": [],
   "source": []
  }
 ],
 "metadata": {
  "kernelspec": {
   "display_name": "Python 3",
   "language": "python",
   "name": "python3"
  },
  "language_info": {
   "codemirror_mode": {
    "name": "ipython",
    "version": 3
   },
   "file_extension": ".py",
   "mimetype": "text/x-python",
   "name": "python",
   "nbconvert_exporter": "python",
   "pygments_lexer": "ipython3",
   "version": "3.7.4"
  }
 },
 "nbformat": 4,
 "nbformat_minor": 2
}
