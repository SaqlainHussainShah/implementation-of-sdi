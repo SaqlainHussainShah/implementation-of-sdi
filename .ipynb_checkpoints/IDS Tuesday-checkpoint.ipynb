{
 "cells": [
  {
   "cell_type": "markdown",
   "metadata": {},
   "source": [
    "# This notebook is intended to apply ML algorithms on IDS dataset"
   ]
  },
  {
   "cell_type": "markdown",
   "metadata": {},
   "source": [
    "##### Steps Followed\n",
    "   1. Data Cleansing\n",
    "   2. Creation of Train/Test data\n",
    "   3. Feature selection\n",
    "   4. Implementation of ML Algorithms\n",
    "   5. Evalutaion"
   ]
  },
  {
   "cell_type": "code",
   "execution_count": 8,
   "metadata": {},
   "outputs": [],
   "source": [
    "# import necessary libraries\n",
    "import pandas as pd\n",
    "import matplotlib.pyplot as plt\n",
    "import numpy as np\n",
    "import time\n",
    "\n",
    "# from sklearn import preprocessing      # import required package for labelencoding\n",
    "# from sklearn.model_selection import train_test_split\n"
   ]
  },
  {
   "cell_type": "markdown",
   "metadata": {},
   "source": [
    "## 1. Data Cleansing"
   ]
  },
  {
   "cell_type": "code",
   "execution_count": 9,
   "metadata": {},
   "outputs": [
    {
     "name": "stderr",
     "output_type": "stream",
     "text": [
      "/home/ebryx/anaconda3/lib/python3.7/site-packages/IPython/core/interactiveshell.py:3058: DtypeWarning: Columns (20,21) have mixed types. Specify dtype option on import or set low_memory=False.\n",
      "  interactivity=interactivity, compiler=compiler, result=result)\n"
     ]
    },
    {
     "name": "stdout",
     "output_type": "stream",
     "text": [
      "time taken to read tuesday csv ::  7.976101875305176  seconds \n"
     ]
    }
   ],
   "source": [
    "path=\"../dataset/TrafficLabelling /Tuesday-WorkingHours.pcap_ISCX.csv\"\n",
    "t1=time.time()\n",
    "df_tuesday=pd.read_csv(path)\n",
    "t2=time.time()\n",
    "print(\"time taken to read tuesday csv :: \", t2-t1, \" seconds \")"
   ]
  },
  {
   "cell_type": "code",
   "execution_count": 10,
   "metadata": {},
   "outputs": [],
   "source": [
    "# back up dataframe so don't have to read csv again and again\n",
    "df_backup=df_tuesday"
   ]
  },
  {
   "cell_type": "code",
   "execution_count": 34,
   "metadata": {},
   "outputs": [
    {
     "ename": "AttributeError",
     "evalue": "'numpy.ndarray' object has no attribute 'unique'",
     "output_type": "error",
     "traceback": [
      "\u001b[0;31m---------------------------------------------------------------------------\u001b[0m",
      "\u001b[0;31mAttributeError\u001b[0m                            Traceback (most recent call last)",
      "\u001b[0;32m<ipython-input-34-7f39c0257c83>\u001b[0m in \u001b[0;36m<module>\u001b[0;34m\u001b[0m\n\u001b[1;32m      1\u001b[0m \u001b[0mdf_tuesday\u001b[0m\u001b[0;34m.\u001b[0m\u001b[0mdescribe\u001b[0m\u001b[0;34m(\u001b[0m\u001b[0;34m)\u001b[0m\u001b[0;34m\u001b[0m\u001b[0;34m\u001b[0m\u001b[0m\n\u001b[1;32m      2\u001b[0m \u001b[0mdf_tuesday\u001b[0m\u001b[0;34m.\u001b[0m\u001b[0mhead\u001b[0m\u001b[0;34m(\u001b[0m\u001b[0;36m10\u001b[0m\u001b[0;34m)\u001b[0m\u001b[0;34m\u001b[0m\u001b[0;34m\u001b[0m\u001b[0m\n\u001b[0;32m----> 3\u001b[0;31m \u001b[0mdf_tuesday\u001b[0m\u001b[0;34m[\u001b[0m\u001b[0;34m' Protocol'\u001b[0m\u001b[0;34m]\u001b[0m\u001b[0;34m.\u001b[0m\u001b[0mvalues\u001b[0m\u001b[0;34m.\u001b[0m\u001b[0munique\u001b[0m\u001b[0;34m(\u001b[0m\u001b[0;34m)\u001b[0m\u001b[0;34m\u001b[0m\u001b[0;34m\u001b[0m\u001b[0m\n\u001b[0m",
      "\u001b[0;31mAttributeError\u001b[0m: 'numpy.ndarray' object has no attribute 'unique'"
     ]
    }
   ],
   "source": [
    "df_tuesday.describe()\n",
    "df_tuesday.head(10)\n",
    "df_tuesday[' Protocol']"
   ]
  },
  {
   "cell_type": "code",
   "execution_count": 14,
   "metadata": {},
   "outputs": [
    {
     "name": "stdout",
     "output_type": "stream",
     "text": [
      "85\n"
     ]
    }
   ],
   "source": [
    "# In thesis they have mentioned 86 columns, Let's check if they are 1\n",
    "print(len(df_tuesday.columns))\n"
   ]
  },
  {
   "cell_type": "markdown",
   "metadata": {},
   "source": [
    "##### ==>> Finding and dropping undefined / incorrect values in data frame"
   ]
  },
  {
   "cell_type": "code",
   "execution_count": 15,
   "metadata": {},
   "outputs": [
    {
     "ename": "NameError",
     "evalue": "name 'df_tuesday_dropped' is not defined",
     "output_type": "error",
     "traceback": [
      "\u001b[0;31m---------------------------------------------------------------------------\u001b[0m",
      "\u001b[0;31mNameError\u001b[0m                                 Traceback (most recent call last)",
      "\u001b[0;32m<ipython-input-15-1c3ae850196d>\u001b[0m in \u001b[0;36m<module>\u001b[0;34m\u001b[0m\n\u001b[1;32m      1\u001b[0m \u001b[0;31m# drop record saved as ,,,,,\u001b[0m\u001b[0;34m\u001b[0m\u001b[0;34m\u001b[0m\u001b[0;34m\u001b[0m\u001b[0m\n\u001b[0;32m----> 2\u001b[0;31m \u001b[0mdf_tuesday_dropped\u001b[0m\u001b[0;34m.\u001b[0m\u001b[0mreplace\u001b[0m\u001b[0;34m(\u001b[0m\u001b[0;34m',,'\u001b[0m\u001b[0;34m,\u001b[0m \u001b[0mnp\u001b[0m\u001b[0;34m.\u001b[0m\u001b[0mnan\u001b[0m\u001b[0;34m,\u001b[0m \u001b[0minplace\u001b[0m\u001b[0;34m=\u001b[0m\u001b[0;32mTrue\u001b[0m\u001b[0;34m)\u001b[0m\u001b[0;34m\u001b[0m\u001b[0;34m\u001b[0m\u001b[0m\n\u001b[0m",
      "\u001b[0;31mNameError\u001b[0m: name 'df_tuesday_dropped' is not defined"
     ]
    }
   ],
   "source": [
    "# drop record saved as ,,,,,\n",
    "df_tuesday_dropped.replace(',,', np.nan, inplace=True)"
   ]
  },
  {
   "cell_type": "code",
   "execution_count": 19,
   "metadata": {},
   "outputs": [],
   "source": [
    "# dropna() removes rows with missing values /NaN in them\n",
    "df_tuesday_dropped=df_tuesday.dropna( axis=0, how='any')"
   ]
  },
  {
   "cell_type": "code",
   "execution_count": 20,
   "metadata": {},
   "outputs": [
    {
     "data": {
      "text/html": [
       "<div>\n",
       "<style scoped>\n",
       "    .dataframe tbody tr th:only-of-type {\n",
       "        vertical-align: middle;\n",
       "    }\n",
       "\n",
       "    .dataframe tbody tr th {\n",
       "        vertical-align: top;\n",
       "    }\n",
       "\n",
       "    .dataframe thead th {\n",
       "        text-align: right;\n",
       "    }\n",
       "</style>\n",
       "<table border=\"1\" class=\"dataframe\">\n",
       "  <thead>\n",
       "    <tr style=\"text-align: right;\">\n",
       "      <th></th>\n",
       "      <th>Source Port</th>\n",
       "      <th>Destination Port</th>\n",
       "      <th>Protocol</th>\n",
       "      <th>Flow Duration</th>\n",
       "      <th>Total Fwd Packets</th>\n",
       "      <th>Total Backward Packets</th>\n",
       "      <th>Total Length of Fwd Packets</th>\n",
       "      <th>Total Length of Bwd Packets</th>\n",
       "      <th>Fwd Packet Length Max</th>\n",
       "      <th>Fwd Packet Length Min</th>\n",
       "      <th>...</th>\n",
       "      <th>act_data_pkt_fwd</th>\n",
       "      <th>min_seg_size_forward</th>\n",
       "      <th>Active Mean</th>\n",
       "      <th>Active Std</th>\n",
       "      <th>Active Max</th>\n",
       "      <th>Active Min</th>\n",
       "      <th>Idle Mean</th>\n",
       "      <th>Idle Std</th>\n",
       "      <th>Idle Max</th>\n",
       "      <th>Idle Min</th>\n",
       "    </tr>\n",
       "  </thead>\n",
       "  <tbody>\n",
       "    <tr>\n",
       "      <td>count</td>\n",
       "      <td>445708.000000</td>\n",
       "      <td>445708.000000</td>\n",
       "      <td>445708.000000</td>\n",
       "      <td>4.457080e+05</td>\n",
       "      <td>445708.000000</td>\n",
       "      <td>445708.000000</td>\n",
       "      <td>4.457080e+05</td>\n",
       "      <td>4.457080e+05</td>\n",
       "      <td>445708.000000</td>\n",
       "      <td>445708.000000</td>\n",
       "      <td>...</td>\n",
       "      <td>445708.000000</td>\n",
       "      <td>4.457080e+05</td>\n",
       "      <td>4.457080e+05</td>\n",
       "      <td>4.457080e+05</td>\n",
       "      <td>4.457080e+05</td>\n",
       "      <td>4.457080e+05</td>\n",
       "      <td>4.457080e+05</td>\n",
       "      <td>4.457080e+05</td>\n",
       "      <td>4.457080e+05</td>\n",
       "      <td>4.457080e+05</td>\n",
       "    </tr>\n",
       "    <tr>\n",
       "      <td>mean</td>\n",
       "      <td>40440.360934</td>\n",
       "      <td>8871.387296</td>\n",
       "      <td>10.927073</td>\n",
       "      <td>1.078430e+07</td>\n",
       "      <td>11.805092</td>\n",
       "      <td>13.913282</td>\n",
       "      <td>5.304497e+02</td>\n",
       "      <td>2.187310e+04</td>\n",
       "      <td>173.424843</td>\n",
       "      <td>20.589260</td>\n",
       "      <td>...</td>\n",
       "      <td>2.089283</td>\n",
       "      <td>-1.322383e+04</td>\n",
       "      <td>7.269241e+04</td>\n",
       "      <td>4.672624e+04</td>\n",
       "      <td>1.642832e+05</td>\n",
       "      <td>4.830604e+04</td>\n",
       "      <td>3.295945e+06</td>\n",
       "      <td>1.497780e+05</td>\n",
       "      <td>3.408561e+06</td>\n",
       "      <td>3.146825e+06</td>\n",
       "    </tr>\n",
       "    <tr>\n",
       "      <td>std</td>\n",
       "      <td>23960.570907</td>\n",
       "      <td>19516.984841</td>\n",
       "      <td>5.476690</td>\n",
       "      <td>2.956206e+07</td>\n",
       "      <td>867.267890</td>\n",
       "      <td>1172.425787</td>\n",
       "      <td>5.678173e+03</td>\n",
       "      <td>2.626360e+06</td>\n",
       "      <td>472.542965</td>\n",
       "      <td>38.944676</td>\n",
       "      <td>...</td>\n",
       "      <td>6.326468</td>\n",
       "      <td>2.667079e+06</td>\n",
       "      <td>6.207005e+05</td>\n",
       "      <td>3.602303e+05</td>\n",
       "      <td>1.050118e+06</td>\n",
       "      <td>5.650754e+05</td>\n",
       "      <td>1.259041e+07</td>\n",
       "      <td>1.982790e+06</td>\n",
       "      <td>1.293520e+07</td>\n",
       "      <td>1.241154e+07</td>\n",
       "    </tr>\n",
       "    <tr>\n",
       "      <td>min</td>\n",
       "      <td>0.000000</td>\n",
       "      <td>0.000000</td>\n",
       "      <td>0.000000</td>\n",
       "      <td>-4.000000e+00</td>\n",
       "      <td>1.000000</td>\n",
       "      <td>0.000000</td>\n",
       "      <td>0.000000e+00</td>\n",
       "      <td>0.000000e+00</td>\n",
       "      <td>0.000000</td>\n",
       "      <td>0.000000</td>\n",
       "      <td>...</td>\n",
       "      <td>0.000000</td>\n",
       "      <td>-5.368707e+08</td>\n",
       "      <td>0.000000e+00</td>\n",
       "      <td>0.000000e+00</td>\n",
       "      <td>0.000000e+00</td>\n",
       "      <td>0.000000e+00</td>\n",
       "      <td>0.000000e+00</td>\n",
       "      <td>0.000000e+00</td>\n",
       "      <td>0.000000e+00</td>\n",
       "      <td>0.000000e+00</td>\n",
       "    </tr>\n",
       "    <tr>\n",
       "      <td>25%</td>\n",
       "      <td>12614.000000</td>\n",
       "      <td>53.000000</td>\n",
       "      <td>6.000000</td>\n",
       "      <td>1.860000e+02</td>\n",
       "      <td>2.000000</td>\n",
       "      <td>1.000000</td>\n",
       "      <td>6.000000e+00</td>\n",
       "      <td>0.000000e+00</td>\n",
       "      <td>1.000000</td>\n",
       "      <td>0.000000</td>\n",
       "      <td>...</td>\n",
       "      <td>0.000000</td>\n",
       "      <td>2.000000e+01</td>\n",
       "      <td>0.000000e+00</td>\n",
       "      <td>0.000000e+00</td>\n",
       "      <td>0.000000e+00</td>\n",
       "      <td>0.000000e+00</td>\n",
       "      <td>0.000000e+00</td>\n",
       "      <td>0.000000e+00</td>\n",
       "      <td>0.000000e+00</td>\n",
       "      <td>0.000000e+00</td>\n",
       "    </tr>\n",
       "    <tr>\n",
       "      <td>50%</td>\n",
       "      <td>52106.000000</td>\n",
       "      <td>80.000000</td>\n",
       "      <td>6.000000</td>\n",
       "      <td>3.129600e+04</td>\n",
       "      <td>2.000000</td>\n",
       "      <td>2.000000</td>\n",
       "      <td>6.800000e+01</td>\n",
       "      <td>1.370000e+02</td>\n",
       "      <td>41.000000</td>\n",
       "      <td>0.000000</td>\n",
       "      <td>...</td>\n",
       "      <td>1.000000</td>\n",
       "      <td>2.000000e+01</td>\n",
       "      <td>0.000000e+00</td>\n",
       "      <td>0.000000e+00</td>\n",
       "      <td>0.000000e+00</td>\n",
       "      <td>0.000000e+00</td>\n",
       "      <td>0.000000e+00</td>\n",
       "      <td>0.000000e+00</td>\n",
       "      <td>0.000000e+00</td>\n",
       "      <td>0.000000e+00</td>\n",
       "    </tr>\n",
       "    <tr>\n",
       "      <td>75%</td>\n",
       "      <td>59300.000000</td>\n",
       "      <td>443.000000</td>\n",
       "      <td>17.000000</td>\n",
       "      <td>4.691262e+05</td>\n",
       "      <td>4.000000</td>\n",
       "      <td>2.000000</td>\n",
       "      <td>1.500000e+02</td>\n",
       "      <td>3.360000e+02</td>\n",
       "      <td>62.000000</td>\n",
       "      <td>41.000000</td>\n",
       "      <td>...</td>\n",
       "      <td>2.000000</td>\n",
       "      <td>3.200000e+01</td>\n",
       "      <td>0.000000e+00</td>\n",
       "      <td>0.000000e+00</td>\n",
       "      <td>0.000000e+00</td>\n",
       "      <td>0.000000e+00</td>\n",
       "      <td>0.000000e+00</td>\n",
       "      <td>0.000000e+00</td>\n",
       "      <td>0.000000e+00</td>\n",
       "      <td>0.000000e+00</td>\n",
       "    </tr>\n",
       "    <tr>\n",
       "      <td>max</td>\n",
       "      <td>65535.000000</td>\n",
       "      <td>65505.000000</td>\n",
       "      <td>17.000000</td>\n",
       "      <td>1.200000e+08</td>\n",
       "      <td>206446.000000</td>\n",
       "      <td>276072.000000</td>\n",
       "      <td>2.428415e+06</td>\n",
       "      <td>6.270000e+08</td>\n",
       "      <td>24820.000000</td>\n",
       "      <td>2065.000000</td>\n",
       "      <td>...</td>\n",
       "      <td>1846.000000</td>\n",
       "      <td>1.380000e+02</td>\n",
       "      <td>1.070000e+08</td>\n",
       "      <td>2.410000e+07</td>\n",
       "      <td>1.070000e+08</td>\n",
       "      <td>1.070000e+08</td>\n",
       "      <td>1.200000e+08</td>\n",
       "      <td>7.590000e+07</td>\n",
       "      <td>1.200000e+08</td>\n",
       "      <td>1.200000e+08</td>\n",
       "    </tr>\n",
       "  </tbody>\n",
       "</table>\n",
       "<p>8 rows × 78 columns</p>\n",
       "</div>"
      ],
      "text/plain": [
       "         Source Port   Destination Port       Protocol   Flow Duration  \\\n",
       "count  445708.000000      445708.000000  445708.000000    4.457080e+05   \n",
       "mean    40440.360934        8871.387296      10.927073    1.078430e+07   \n",
       "std     23960.570907       19516.984841       5.476690    2.956206e+07   \n",
       "min         0.000000           0.000000       0.000000   -4.000000e+00   \n",
       "25%     12614.000000          53.000000       6.000000    1.860000e+02   \n",
       "50%     52106.000000          80.000000       6.000000    3.129600e+04   \n",
       "75%     59300.000000         443.000000      17.000000    4.691262e+05   \n",
       "max     65535.000000       65505.000000      17.000000    1.200000e+08   \n",
       "\n",
       "        Total Fwd Packets   Total Backward Packets  \\\n",
       "count       445708.000000            445708.000000   \n",
       "mean            11.805092                13.913282   \n",
       "std            867.267890              1172.425787   \n",
       "min              1.000000                 0.000000   \n",
       "25%              2.000000                 1.000000   \n",
       "50%              2.000000                 2.000000   \n",
       "75%              4.000000                 2.000000   \n",
       "max         206446.000000            276072.000000   \n",
       "\n",
       "       Total Length of Fwd Packets   Total Length of Bwd Packets  \\\n",
       "count                 4.457080e+05                  4.457080e+05   \n",
       "mean                  5.304497e+02                  2.187310e+04   \n",
       "std                   5.678173e+03                  2.626360e+06   \n",
       "min                   0.000000e+00                  0.000000e+00   \n",
       "25%                   6.000000e+00                  0.000000e+00   \n",
       "50%                   6.800000e+01                  1.370000e+02   \n",
       "75%                   1.500000e+02                  3.360000e+02   \n",
       "max                   2.428415e+06                  6.270000e+08   \n",
       "\n",
       "        Fwd Packet Length Max   Fwd Packet Length Min  ...   act_data_pkt_fwd  \\\n",
       "count           445708.000000           445708.000000  ...      445708.000000   \n",
       "mean               173.424843               20.589260  ...           2.089283   \n",
       "std                472.542965               38.944676  ...           6.326468   \n",
       "min                  0.000000                0.000000  ...           0.000000   \n",
       "25%                  1.000000                0.000000  ...           0.000000   \n",
       "50%                 41.000000                0.000000  ...           1.000000   \n",
       "75%                 62.000000               41.000000  ...           2.000000   \n",
       "max              24820.000000             2065.000000  ...        1846.000000   \n",
       "\n",
       "        min_seg_size_forward   Active Mean    Active Std    Active Max  \\\n",
       "count           4.457080e+05  4.457080e+05  4.457080e+05  4.457080e+05   \n",
       "mean           -1.322383e+04  7.269241e+04  4.672624e+04  1.642832e+05   \n",
       "std             2.667079e+06  6.207005e+05  3.602303e+05  1.050118e+06   \n",
       "min            -5.368707e+08  0.000000e+00  0.000000e+00  0.000000e+00   \n",
       "25%             2.000000e+01  0.000000e+00  0.000000e+00  0.000000e+00   \n",
       "50%             2.000000e+01  0.000000e+00  0.000000e+00  0.000000e+00   \n",
       "75%             3.200000e+01  0.000000e+00  0.000000e+00  0.000000e+00   \n",
       "max             1.380000e+02  1.070000e+08  2.410000e+07  1.070000e+08   \n",
       "\n",
       "         Active Min     Idle Mean      Idle Std      Idle Max      Idle Min  \n",
       "count  4.457080e+05  4.457080e+05  4.457080e+05  4.457080e+05  4.457080e+05  \n",
       "mean   4.830604e+04  3.295945e+06  1.497780e+05  3.408561e+06  3.146825e+06  \n",
       "std    5.650754e+05  1.259041e+07  1.982790e+06  1.293520e+07  1.241154e+07  \n",
       "min    0.000000e+00  0.000000e+00  0.000000e+00  0.000000e+00  0.000000e+00  \n",
       "25%    0.000000e+00  0.000000e+00  0.000000e+00  0.000000e+00  0.000000e+00  \n",
       "50%    0.000000e+00  0.000000e+00  0.000000e+00  0.000000e+00  0.000000e+00  \n",
       "75%    0.000000e+00  0.000000e+00  0.000000e+00  0.000000e+00  0.000000e+00  \n",
       "max    1.070000e+08  1.200000e+08  7.590000e+07  1.200000e+08  1.200000e+08  \n",
       "\n",
       "[8 rows x 78 columns]"
      ]
     },
     "execution_count": 20,
     "metadata": {},
     "output_type": "execute_result"
    }
   ],
   "source": [
    "df_tuesday_dropped.describe()"
   ]
  },
  {
   "cell_type": "markdown",
   "metadata": {},
   "source": [
    "#####  ==>> Find duplicate columns and drop one of them"
   ]
  },
  {
   "cell_type": "code",
   "execution_count": 21,
   "metadata": {},
   "outputs": [
    {
     "data": {
      "text/plain": [
       "Index(['Flow ID', ' Source IP', ' Source Port', ' Destination IP',\n",
       "       ' Destination Port', ' Protocol', ' Timestamp', ' Flow Duration',\n",
       "       ' Total Fwd Packets', ' Total Backward Packets',\n",
       "       'Total Length of Fwd Packets', ' Total Length of Bwd Packets',\n",
       "       ' Fwd Packet Length Max', ' Fwd Packet Length Min',\n",
       "       ' Fwd Packet Length Mean', ' Fwd Packet Length Std',\n",
       "       'Bwd Packet Length Max', ' Bwd Packet Length Min',\n",
       "       ' Bwd Packet Length Mean', ' Bwd Packet Length Std', 'Flow Bytes/s',\n",
       "       ' Flow Packets/s', ' Flow IAT Mean', ' Flow IAT Std', ' Flow IAT Max',\n",
       "       ' Flow IAT Min', 'Fwd IAT Total', ' Fwd IAT Mean', ' Fwd IAT Std',\n",
       "       ' Fwd IAT Max', ' Fwd IAT Min', 'Bwd IAT Total', ' Bwd IAT Mean',\n",
       "       ' Bwd IAT Std', ' Bwd IAT Max', ' Bwd IAT Min', 'Fwd PSH Flags',\n",
       "       ' Bwd PSH Flags', ' Fwd URG Flags', ' Bwd URG Flags',\n",
       "       ' Fwd Header Length', ' Bwd Header Length', 'Fwd Packets/s',\n",
       "       ' Bwd Packets/s', ' Min Packet Length', ' Max Packet Length',\n",
       "       ' Packet Length Mean', ' Packet Length Std', ' Packet Length Variance',\n",
       "       'FIN Flag Count', ' SYN Flag Count', ' RST Flag Count',\n",
       "       ' PSH Flag Count', ' ACK Flag Count', ' URG Flag Count',\n",
       "       ' CWE Flag Count', ' ECE Flag Count', ' Down/Up Ratio',\n",
       "       ' Average Packet Size', ' Avg Fwd Segment Size',\n",
       "       ' Avg Bwd Segment Size', ' Fwd Header Length.1', 'Fwd Avg Bytes/Bulk',\n",
       "       ' Fwd Avg Packets/Bulk', ' Fwd Avg Bulk Rate', ' Bwd Avg Bytes/Bulk',\n",
       "       ' Bwd Avg Packets/Bulk', 'Bwd Avg Bulk Rate', 'Subflow Fwd Packets',\n",
       "       ' Subflow Fwd Bytes', ' Subflow Bwd Packets', ' Subflow Bwd Bytes',\n",
       "       'Init_Win_bytes_forward', ' Init_Win_bytes_backward',\n",
       "       ' act_data_pkt_fwd', ' min_seg_size_forward', 'Active Mean',\n",
       "       ' Active Std', ' Active Max', ' Active Min', 'Idle Mean', ' Idle Std',\n",
       "       ' Idle Max', ' Idle Min', ' Label'],\n",
       "      dtype='object')"
      ]
     },
     "execution_count": 21,
     "metadata": {},
     "output_type": "execute_result"
    }
   ],
   "source": [
    "df_tuesday_dropped.columns"
   ]
  },
  {
   "cell_type": "markdown",
   "metadata": {},
   "source": [
    "<br>\n",
    "We see that Fwd Header Length comes twice but with different anmes so first change name of Fwd Header Length.1 to Fwd Header Length and then remove it"
   ]
  },
  {
   "cell_type": "code",
   "execution_count": 22,
   "metadata": {},
   "outputs": [
    {
     "data": {
      "text/plain": [
       "85"
      ]
     },
     "execution_count": 22,
     "metadata": {},
     "output_type": "execute_result"
    }
   ],
   "source": [
    "# This runs but don't work accordingly\n",
    "df_tuesday_dup_rem = df_tuesday_dropped.loc[:,~df_tuesday_dropped.columns.duplicated()]\n",
    "len(df_tuesday_dup_rem.columns)"
   ]
  },
  {
   "cell_type": "code",
   "execution_count": 23,
   "metadata": {},
   "outputs": [
    {
     "name": "stderr",
     "output_type": "stream",
     "text": [
      "/home/ebryx/anaconda3/lib/python3.7/site-packages/pandas/core/frame.py:4102: SettingWithCopyWarning: \n",
      "A value is trying to be set on a copy of a slice from a DataFrame\n",
      "\n",
      "See the caveats in the documentation: http://pandas.pydata.org/pandas-docs/stable/user_guide/indexing.html#returning-a-view-versus-a-copy\n",
      "  errors=errors,\n"
     ]
    }
   ],
   "source": [
    "df_tuesday_dropped.drop(columns=[' Fwd Header Length.1'], axis=1, inplace=True)"
   ]
  },
  {
   "cell_type": "code",
   "execution_count": 26,
   "metadata": {},
   "outputs": [
    {
     "data": {
      "text/plain": [
       "Index(['Flow ID', ' Source IP', ' Source Port', ' Destination IP',\n",
       "       ' Destination Port', ' Protocol', ' Timestamp', ' Flow Duration',\n",
       "       ' Total Fwd Packets', ' Total Backward Packets',\n",
       "       'Total Length of Fwd Packets', ' Total Length of Bwd Packets',\n",
       "       ' Fwd Packet Length Max', ' Fwd Packet Length Min',\n",
       "       ' Fwd Packet Length Mean', ' Fwd Packet Length Std',\n",
       "       'Bwd Packet Length Max', ' Bwd Packet Length Min',\n",
       "       ' Bwd Packet Length Mean', ' Bwd Packet Length Std', 'Flow Bytes/s',\n",
       "       ' Flow Packets/s', ' Flow IAT Mean', ' Flow IAT Std', ' Flow IAT Max',\n",
       "       ' Flow IAT Min', 'Fwd IAT Total', ' Fwd IAT Mean', ' Fwd IAT Std',\n",
       "       ' Fwd IAT Max', ' Fwd IAT Min', 'Bwd IAT Total', ' Bwd IAT Mean',\n",
       "       ' Bwd IAT Std', ' Bwd IAT Max', ' Bwd IAT Min', 'Fwd PSH Flags',\n",
       "       ' Bwd PSH Flags', ' Fwd URG Flags', ' Bwd URG Flags',\n",
       "       ' Fwd Header Length', ' Bwd Header Length', 'Fwd Packets/s',\n",
       "       ' Bwd Packets/s', ' Min Packet Length', ' Max Packet Length',\n",
       "       ' Packet Length Mean', ' Packet Length Std', ' Packet Length Variance',\n",
       "       'FIN Flag Count', ' SYN Flag Count', ' RST Flag Count',\n",
       "       ' PSH Flag Count', ' ACK Flag Count', ' URG Flag Count',\n",
       "       ' CWE Flag Count', ' ECE Flag Count', ' Down/Up Ratio',\n",
       "       ' Average Packet Size', ' Avg Fwd Segment Size',\n",
       "       ' Avg Bwd Segment Size', 'Fwd Avg Bytes/Bulk', ' Fwd Avg Packets/Bulk',\n",
       "       ' Fwd Avg Bulk Rate', ' Bwd Avg Bytes/Bulk', ' Bwd Avg Packets/Bulk',\n",
       "       'Bwd Avg Bulk Rate', 'Subflow Fwd Packets', ' Subflow Fwd Bytes',\n",
       "       ' Subflow Bwd Packets', ' Subflow Bwd Bytes', 'Init_Win_bytes_forward',\n",
       "       ' Init_Win_bytes_backward', ' act_data_pkt_fwd',\n",
       "       ' min_seg_size_forward', 'Active Mean', ' Active Std', ' Active Max',\n",
       "       ' Active Min', 'Idle Mean', ' Idle Std', ' Idle Max', ' Idle Min',\n",
       "       ' Label'],\n",
       "      dtype='object')"
      ]
     },
     "execution_count": 26,
     "metadata": {},
     "output_type": "execute_result"
    }
   ],
   "source": [
    "len(df_tuesday_dropped.columns)\n",
    "df_tuesday_dropped.columns"
   ]
  },
  {
   "cell_type": "markdown",
   "metadata": {},
   "source": [
    "\n",
    "##### ==>>convert categorical and string data to numerical data\n",
    "Flow ID, Source IP, Destination IP, Timestamp, External IP <br>\n",
    "using LabelEncoder of sklearn"
   ]
  },
  {
   "cell_type": "code",
   "execution_count": 27,
   "metadata": {},
   "outputs": [
    {
     "data": {
      "text/plain": [
       "0     192.168.10.3-192.168.10.5-88-49182-6\n",
       "1     192.168.10.3-192.168.10.5-88-49183-6\n",
       "2     192.168.10.3-192.168.10.5-88-49184-6\n",
       "3     192.168.10.3-192.168.10.5-88-49185-6\n",
       "4     192.168.10.3-192.168.10.5-88-49186-6\n",
       "5     192.168.10.3-192.168.10.5-88-49189-6\n",
       "6     192.168.10.3-192.168.10.5-88-49192-6\n",
       "7    192.168.10.3-192.168.10.5-389-49193-6\n",
       "8    192.168.10.3-192.168.10.5-389-49193-6\n",
       "9     192.168.10.3-192.168.10.5-88-49194-6\n",
       "Name: Flow ID, dtype: object"
      ]
     },
     "execution_count": 27,
     "metadata": {},
     "output_type": "execute_result"
    }
   ],
   "source": [
    "df_tuesday_dropped['Flow ID'].head(10)"
   ]
  },
  {
   "cell_type": "code",
   "execution_count": 49,
   "metadata": {},
   "outputs": [
    {
     "data": {
      "text/plain": [
       "LabelEncoder()"
      ]
     },
     "execution_count": 49,
     "metadata": {},
     "output_type": "execute_result"
    }
   ],
   "source": [
    "from sklearn import preprocessing      # import required package for labelencoding\n",
    "le=preprocessing.LabelEncoder()        # create a label encoder (category) object\n",
    "le.fit(df_tuesday_dropped['Flow ID'])  # fit encoder to pandas column"
   ]
  },
  {
   "cell_type": "code",
   "execution_count": 50,
   "metadata": {},
   "outputs": [
    {
     "data": {
      "text/plain": [
       "array([152266, 152267, 152268, ..., 157091,  79335, 174989])"
      ]
     },
     "execution_count": 50,
     "metadata": {},
     "output_type": "execute_result"
    }
   ],
   "source": [
    "# labels\n",
    "le.classes_\n",
    "# Apply fitted encoder to the pandas column\n",
    "le.transform(df_tuesday_dropped[\"Flow ID\"])"
   ]
  },
  {
   "cell_type": "code",
   "execution_count": 55,
   "metadata": {},
   "outputs": [
    {
     "data": {
      "text/plain": [
       "array([2145, 2145, 2145, ..., 2146, 5380, 2149])"
      ]
     },
     "execution_count": 55,
     "metadata": {},
     "output_type": "execute_result"
    }
   ],
   "source": [
    "#encoding Source IP\n",
    "le_s_ip=preprocessing.LabelEncoder()\n",
    "le_s_ip.fit(df_tuesday_dropped[' Source IP'])\n",
    "le_s_ip.transform(df_tuesday_dropped[' Source IP'])"
   ]
  },
  {
   "cell_type": "code",
   "execution_count": 56,
   "metadata": {},
   "outputs": [
    {
     "data": {
      "text/plain": [
       "array([2558, 2558, 2558, ..., 2558, 2556, 2558])"
      ]
     },
     "execution_count": 56,
     "metadata": {},
     "output_type": "execute_result"
    }
   ],
   "source": [
    "# LabelEncoding Destination IP\n",
    "le_d_ip=preprocessing.LabelEncoder()\n",
    "le_d_ip.fit(df_tuesday_dropped[' Destination IP'])\n",
    "le_d_ip.transform(df_tuesday_dropped[' Destination IP'])"
   ]
  },
  {
   "cell_type": "code",
   "execution_count": 70,
   "metadata": {},
   "outputs": [
    {
     "data": {
      "text/plain": [
       "array([422, 422, 422, ..., 439, 168,  38])"
      ]
     },
     "execution_count": 70,
     "metadata": {},
     "output_type": "execute_result"
    }
   ],
   "source": [
    "# Assigning numerical labels to TimeStamp\n",
    "le_time_stamp=preprocessing.LabelEncoder()\n",
    "le_time_stamp.fit(df_tuesday_dropped[' Timestamp'])\n",
    "le_time_stamp.transform(df_tuesday_dropped[' Timestamp'])"
   ]
  },
  {
   "cell_type": "code",
   "execution_count": 71,
   "metadata": {},
   "outputs": [],
   "source": [
    "# External IP is also mentioned in documentation but in data set I have not found any external IP\n",
    "# repeat above steps for external IP also for label encoding"
   ]
  },
  {
   "cell_type": "code",
   "execution_count": 28,
   "metadata": {},
   "outputs": [
    {
     "data": {
      "text/html": [
       "<div>\n",
       "<style scoped>\n",
       "    .dataframe tbody tr th:only-of-type {\n",
       "        vertical-align: middle;\n",
       "    }\n",
       "\n",
       "    .dataframe tbody tr th {\n",
       "        vertical-align: top;\n",
       "    }\n",
       "\n",
       "    .dataframe thead th {\n",
       "        text-align: right;\n",
       "    }\n",
       "</style>\n",
       "<table border=\"1\" class=\"dataframe\">\n",
       "  <thead>\n",
       "    <tr style=\"text-align: right;\">\n",
       "      <th></th>\n",
       "      <th>Flow ID</th>\n",
       "      <th>Source IP</th>\n",
       "      <th>Source Port</th>\n",
       "      <th>Destination IP</th>\n",
       "      <th>Destination Port</th>\n",
       "      <th>Protocol</th>\n",
       "      <th>Timestamp</th>\n",
       "      <th>Flow Duration</th>\n",
       "      <th>Total Fwd Packets</th>\n",
       "      <th>Total Backward Packets</th>\n",
       "      <th>...</th>\n",
       "      <th>act_data_pkt_fwd</th>\n",
       "      <th>min_seg_size_forward</th>\n",
       "      <th>Active Mean</th>\n",
       "      <th>Active Std</th>\n",
       "      <th>Active Max</th>\n",
       "      <th>Active Min</th>\n",
       "      <th>Idle Mean</th>\n",
       "      <th>Idle Std</th>\n",
       "      <th>Idle Max</th>\n",
       "      <th>Idle Min</th>\n",
       "    </tr>\n",
       "    <tr>\n",
       "      <th>Label</th>\n",
       "      <th></th>\n",
       "      <th></th>\n",
       "      <th></th>\n",
       "      <th></th>\n",
       "      <th></th>\n",
       "      <th></th>\n",
       "      <th></th>\n",
       "      <th></th>\n",
       "      <th></th>\n",
       "      <th></th>\n",
       "      <th></th>\n",
       "      <th></th>\n",
       "      <th></th>\n",
       "      <th></th>\n",
       "      <th></th>\n",
       "      <th></th>\n",
       "      <th></th>\n",
       "      <th></th>\n",
       "      <th></th>\n",
       "      <th></th>\n",
       "      <th></th>\n",
       "    </tr>\n",
       "  </thead>\n",
       "  <tbody>\n",
       "    <tr>\n",
       "      <td>BENIGN</td>\n",
       "      <td>192.168.10.3-192.168.10.5-88-49182-6</td>\n",
       "      <td>192.168.10.5</td>\n",
       "      <td>49182</td>\n",
       "      <td>192.168.10.3</td>\n",
       "      <td>88</td>\n",
       "      <td>6</td>\n",
       "      <td>4/7/2017 8:54</td>\n",
       "      <td>640</td>\n",
       "      <td>7</td>\n",
       "      <td>4</td>\n",
       "      <td>...</td>\n",
       "      <td>2</td>\n",
       "      <td>20</td>\n",
       "      <td>0.0</td>\n",
       "      <td>0.0</td>\n",
       "      <td>0.0</td>\n",
       "      <td>0.0</td>\n",
       "      <td>0.0</td>\n",
       "      <td>0.0</td>\n",
       "      <td>0.0</td>\n",
       "      <td>0.0</td>\n",
       "    </tr>\n",
       "    <tr>\n",
       "      <td>FTP-Patator</td>\n",
       "      <td>172.16.0.1-192.168.10.50-45422-80-6</td>\n",
       "      <td>172.16.0.1</td>\n",
       "      <td>45422</td>\n",
       "      <td>192.168.10.50</td>\n",
       "      <td>80</td>\n",
       "      <td>6</td>\n",
       "      <td>4/7/2017 10:30</td>\n",
       "      <td>5216127</td>\n",
       "      <td>3</td>\n",
       "      <td>1</td>\n",
       "      <td>...</td>\n",
       "      <td>0</td>\n",
       "      <td>32</td>\n",
       "      <td>0.0</td>\n",
       "      <td>0.0</td>\n",
       "      <td>0.0</td>\n",
       "      <td>0.0</td>\n",
       "      <td>0.0</td>\n",
       "      <td>0.0</td>\n",
       "      <td>0.0</td>\n",
       "      <td>0.0</td>\n",
       "    </tr>\n",
       "    <tr>\n",
       "      <td>SSH-Patator</td>\n",
       "      <td>172.16.0.1-192.168.10.50-52358-22-6</td>\n",
       "      <td>172.16.0.1</td>\n",
       "      <td>52358</td>\n",
       "      <td>192.168.10.50</td>\n",
       "      <td>22</td>\n",
       "      <td>6</td>\n",
       "      <td>4/7/2017 3:11</td>\n",
       "      <td>404</td>\n",
       "      <td>2</td>\n",
       "      <td>0</td>\n",
       "      <td>...</td>\n",
       "      <td>0</td>\n",
       "      <td>32</td>\n",
       "      <td>0.0</td>\n",
       "      <td>0.0</td>\n",
       "      <td>0.0</td>\n",
       "      <td>0.0</td>\n",
       "      <td>0.0</td>\n",
       "      <td>0.0</td>\n",
       "      <td>0.0</td>\n",
       "      <td>0.0</td>\n",
       "    </tr>\n",
       "  </tbody>\n",
       "</table>\n",
       "<p>3 rows × 83 columns</p>\n",
       "</div>"
      ],
      "text/plain": [
       "                                          Flow ID     Source IP   Source Port  \\\n",
       " Label                                                                          \n",
       "BENIGN       192.168.10.3-192.168.10.5-88-49182-6  192.168.10.5         49182   \n",
       "FTP-Patator   172.16.0.1-192.168.10.50-45422-80-6    172.16.0.1         45422   \n",
       "SSH-Patator   172.16.0.1-192.168.10.50-52358-22-6    172.16.0.1         52358   \n",
       "\n",
       "             Destination IP   Destination Port   Protocol       Timestamp  \\\n",
       " Label                                                                      \n",
       "BENIGN         192.168.10.3                 88          6   4/7/2017 8:54   \n",
       "FTP-Patator   192.168.10.50                 80          6  4/7/2017 10:30   \n",
       "SSH-Patator   192.168.10.50                 22          6   4/7/2017 3:11   \n",
       "\n",
       "              Flow Duration   Total Fwd Packets   Total Backward Packets  ...  \\\n",
       " Label                                                                    ...   \n",
       "BENIGN                  640                   7                        4  ...   \n",
       "FTP-Patator         5216127                   3                        1  ...   \n",
       "SSH-Patator             404                   2                        0  ...   \n",
       "\n",
       "              act_data_pkt_fwd   min_seg_size_forward  Active Mean  \\\n",
       " Label                                                               \n",
       "BENIGN                       2                     20          0.0   \n",
       "FTP-Patator                  0                     32          0.0   \n",
       "SSH-Patator                  0                     32          0.0   \n",
       "\n",
       "              Active Std   Active Max   Active Min  Idle Mean   Idle Std  \\\n",
       " Label                                                                     \n",
       "BENIGN               0.0          0.0          0.0        0.0        0.0   \n",
       "FTP-Patator          0.0          0.0          0.0        0.0        0.0   \n",
       "SSH-Patator          0.0          0.0          0.0        0.0        0.0   \n",
       "\n",
       "              Idle Max   Idle Min  \n",
       " Label                             \n",
       "BENIGN             0.0        0.0  \n",
       "FTP-Patator        0.0        0.0  \n",
       "SSH-Patator        0.0        0.0  \n",
       "\n",
       "[3 rows x 83 columns]"
      ]
     },
     "execution_count": 28,
     "metadata": {},
     "output_type": "execute_result"
    }
   ],
   "source": [
    "group=df_tuesday_dropped.groupby(' Label')\n",
    "group.first()"
   ]
  },
  {
   "cell_type": "code",
   "execution_count": 86,
   "metadata": {},
   "outputs": [
    {
     "name": "stderr",
     "output_type": "stream",
     "text": [
      "/home/ebryx/anaconda3/lib/python3.7/site-packages/pandas/core/generic.py:6786: SettingWithCopyWarning: \n",
      "A value is trying to be set on a copy of a slice from a DataFrame\n",
      "\n",
      "See the caveats in the documentation: http://pandas.pydata.org/pandas-docs/stable/user_guide/indexing.html#returning-a-view-versus-a-copy\n",
      "  self._update_inplace(new_data)\n"
     ]
    }
   ],
   "source": [
    "# In the Label feature, the character \"–\" (Unicode Decimal Code &#8211) used to identify\n",
    "# the web attack subtypes (Web Attack - Brute Force, Web Attack - XSS, Web Attack -\n",
    "# SQL Injection) must be replaced with the character \"-” (Unicode Decimal Code &#45),\n",
    "# since utf-8, the default codec of Pandas library, does not recognize it. Otherwise, the\n",
    "# Pandas library that will not recognize this character and it will fail.\n",
    "df_tuesday_dropped[' Label'].replace('–', \"-\", inplace=True)"
   ]
  },
  {
   "cell_type": "markdown",
   "metadata": {},
   "source": [
    "#### replace different types of attacks to one type \"Attack\""
   ]
  },
  {
   "cell_type": "code",
   "execution_count": 29,
   "metadata": {},
   "outputs": [
    {
     "data": {
      "text/html": [
       "<div>\n",
       "<style scoped>\n",
       "    .dataframe tbody tr th:only-of-type {\n",
       "        vertical-align: middle;\n",
       "    }\n",
       "\n",
       "    .dataframe tbody tr th {\n",
       "        vertical-align: top;\n",
       "    }\n",
       "\n",
       "    .dataframe thead th {\n",
       "        text-align: right;\n",
       "    }\n",
       "</style>\n",
       "<table border=\"1\" class=\"dataframe\">\n",
       "  <thead>\n",
       "    <tr style=\"text-align: right;\">\n",
       "      <th></th>\n",
       "      <th>Flow ID</th>\n",
       "      <th>Source IP</th>\n",
       "      <th>Source Port</th>\n",
       "      <th>Destination IP</th>\n",
       "      <th>Destination Port</th>\n",
       "      <th>Protocol</th>\n",
       "      <th>Timestamp</th>\n",
       "      <th>Flow Duration</th>\n",
       "      <th>Total Fwd Packets</th>\n",
       "      <th>Total Backward Packets</th>\n",
       "      <th>...</th>\n",
       "      <th>act_data_pkt_fwd</th>\n",
       "      <th>min_seg_size_forward</th>\n",
       "      <th>Active Mean</th>\n",
       "      <th>Active Std</th>\n",
       "      <th>Active Max</th>\n",
       "      <th>Active Min</th>\n",
       "      <th>Idle Mean</th>\n",
       "      <th>Idle Std</th>\n",
       "      <th>Idle Max</th>\n",
       "      <th>Idle Min</th>\n",
       "    </tr>\n",
       "    <tr>\n",
       "      <th>Label</th>\n",
       "      <th></th>\n",
       "      <th></th>\n",
       "      <th></th>\n",
       "      <th></th>\n",
       "      <th></th>\n",
       "      <th></th>\n",
       "      <th></th>\n",
       "      <th></th>\n",
       "      <th></th>\n",
       "      <th></th>\n",
       "      <th></th>\n",
       "      <th></th>\n",
       "      <th></th>\n",
       "      <th></th>\n",
       "      <th></th>\n",
       "      <th></th>\n",
       "      <th></th>\n",
       "      <th></th>\n",
       "      <th></th>\n",
       "      <th></th>\n",
       "      <th></th>\n",
       "    </tr>\n",
       "  </thead>\n",
       "  <tbody>\n",
       "    <tr>\n",
       "      <td>BENIGN</td>\n",
       "      <td>192.168.10.3-192.168.10.5-88-49182-6</td>\n",
       "      <td>192.168.10.5</td>\n",
       "      <td>49182</td>\n",
       "      <td>192.168.10.3</td>\n",
       "      <td>88</td>\n",
       "      <td>6</td>\n",
       "      <td>4/7/2017 8:54</td>\n",
       "      <td>640</td>\n",
       "      <td>7</td>\n",
       "      <td>4</td>\n",
       "      <td>...</td>\n",
       "      <td>2</td>\n",
       "      <td>20</td>\n",
       "      <td>0.0</td>\n",
       "      <td>0.0</td>\n",
       "      <td>0.0</td>\n",
       "      <td>0.0</td>\n",
       "      <td>0.0</td>\n",
       "      <td>0.0</td>\n",
       "      <td>0.0</td>\n",
       "      <td>0.0</td>\n",
       "    </tr>\n",
       "    <tr>\n",
       "      <td>FTP-Patator</td>\n",
       "      <td>172.16.0.1-192.168.10.50-45422-80-6</td>\n",
       "      <td>172.16.0.1</td>\n",
       "      <td>45422</td>\n",
       "      <td>192.168.10.50</td>\n",
       "      <td>80</td>\n",
       "      <td>6</td>\n",
       "      <td>4/7/2017 10:30</td>\n",
       "      <td>5216127</td>\n",
       "      <td>3</td>\n",
       "      <td>1</td>\n",
       "      <td>...</td>\n",
       "      <td>0</td>\n",
       "      <td>32</td>\n",
       "      <td>0.0</td>\n",
       "      <td>0.0</td>\n",
       "      <td>0.0</td>\n",
       "      <td>0.0</td>\n",
       "      <td>0.0</td>\n",
       "      <td>0.0</td>\n",
       "      <td>0.0</td>\n",
       "      <td>0.0</td>\n",
       "    </tr>\n",
       "    <tr>\n",
       "      <td>SSH-Patator</td>\n",
       "      <td>172.16.0.1-192.168.10.50-52358-22-6</td>\n",
       "      <td>172.16.0.1</td>\n",
       "      <td>52358</td>\n",
       "      <td>192.168.10.50</td>\n",
       "      <td>22</td>\n",
       "      <td>6</td>\n",
       "      <td>4/7/2017 3:11</td>\n",
       "      <td>404</td>\n",
       "      <td>2</td>\n",
       "      <td>0</td>\n",
       "      <td>...</td>\n",
       "      <td>0</td>\n",
       "      <td>32</td>\n",
       "      <td>0.0</td>\n",
       "      <td>0.0</td>\n",
       "      <td>0.0</td>\n",
       "      <td>0.0</td>\n",
       "      <td>0.0</td>\n",
       "      <td>0.0</td>\n",
       "      <td>0.0</td>\n",
       "      <td>0.0</td>\n",
       "    </tr>\n",
       "  </tbody>\n",
       "</table>\n",
       "<p>3 rows × 83 columns</p>\n",
       "</div>"
      ],
      "text/plain": [
       "                                          Flow ID     Source IP   Source Port  \\\n",
       " Label                                                                          \n",
       "BENIGN       192.168.10.3-192.168.10.5-88-49182-6  192.168.10.5         49182   \n",
       "FTP-Patator   172.16.0.1-192.168.10.50-45422-80-6    172.16.0.1         45422   \n",
       "SSH-Patator   172.16.0.1-192.168.10.50-52358-22-6    172.16.0.1         52358   \n",
       "\n",
       "             Destination IP   Destination Port   Protocol       Timestamp  \\\n",
       " Label                                                                      \n",
       "BENIGN         192.168.10.3                 88          6   4/7/2017 8:54   \n",
       "FTP-Patator   192.168.10.50                 80          6  4/7/2017 10:30   \n",
       "SSH-Patator   192.168.10.50                 22          6   4/7/2017 3:11   \n",
       "\n",
       "              Flow Duration   Total Fwd Packets   Total Backward Packets  ...  \\\n",
       " Label                                                                    ...   \n",
       "BENIGN                  640                   7                        4  ...   \n",
       "FTP-Patator         5216127                   3                        1  ...   \n",
       "SSH-Patator             404                   2                        0  ...   \n",
       "\n",
       "              act_data_pkt_fwd   min_seg_size_forward  Active Mean  \\\n",
       " Label                                                               \n",
       "BENIGN                       2                     20          0.0   \n",
       "FTP-Patator                  0                     32          0.0   \n",
       "SSH-Patator                  0                     32          0.0   \n",
       "\n",
       "              Active Std   Active Max   Active Min  Idle Mean   Idle Std  \\\n",
       " Label                                                                     \n",
       "BENIGN               0.0          0.0          0.0        0.0        0.0   \n",
       "FTP-Patator          0.0          0.0          0.0        0.0        0.0   \n",
       "SSH-Patator          0.0          0.0          0.0        0.0        0.0   \n",
       "\n",
       "              Idle Max   Idle Min  \n",
       " Label                             \n",
       "BENIGN             0.0        0.0  \n",
       "FTP-Patator        0.0        0.0  \n",
       "SSH-Patator        0.0        0.0  \n",
       "\n",
       "[3 rows x 83 columns]"
      ]
     },
     "execution_count": 29,
     "metadata": {},
     "output_type": "execute_result"
    }
   ],
   "source": [
    "grouped=df_tuesday_dropped.groupby(' Label')\n",
    "grouped.first()"
   ]
  },
  {
   "cell_type": "code",
   "execution_count": 30,
   "metadata": {},
   "outputs": [
    {
     "name": "stderr",
     "output_type": "stream",
     "text": [
      "/home/ebryx/anaconda3/lib/python3.7/site-packages/pandas/core/frame.py:4263: SettingWithCopyWarning: \n",
      "A value is trying to be set on a copy of a slice from a DataFrame\n",
      "\n",
      "See the caveats in the documentation: http://pandas.pydata.org/pandas-docs/stable/user_guide/indexing.html#returning-a-view-versus-a-copy\n",
      "  method=method,\n"
     ]
    },
    {
     "data": {
      "text/html": [
       "<div>\n",
       "<style scoped>\n",
       "    .dataframe tbody tr th:only-of-type {\n",
       "        vertical-align: middle;\n",
       "    }\n",
       "\n",
       "    .dataframe tbody tr th {\n",
       "        vertical-align: top;\n",
       "    }\n",
       "\n",
       "    .dataframe thead th {\n",
       "        text-align: right;\n",
       "    }\n",
       "</style>\n",
       "<table border=\"1\" class=\"dataframe\">\n",
       "  <thead>\n",
       "    <tr style=\"text-align: right;\">\n",
       "      <th></th>\n",
       "      <th>Flow ID</th>\n",
       "      <th>Source IP</th>\n",
       "      <th>Source Port</th>\n",
       "      <th>Destination IP</th>\n",
       "      <th>Destination Port</th>\n",
       "      <th>Protocol</th>\n",
       "      <th>Timestamp</th>\n",
       "      <th>Flow Duration</th>\n",
       "      <th>Total Fwd Packets</th>\n",
       "      <th>Total Backward Packets</th>\n",
       "      <th>...</th>\n",
       "      <th>act_data_pkt_fwd</th>\n",
       "      <th>min_seg_size_forward</th>\n",
       "      <th>Active Mean</th>\n",
       "      <th>Active Std</th>\n",
       "      <th>Active Max</th>\n",
       "      <th>Active Min</th>\n",
       "      <th>Idle Mean</th>\n",
       "      <th>Idle Std</th>\n",
       "      <th>Idle Max</th>\n",
       "      <th>Idle Min</th>\n",
       "    </tr>\n",
       "    <tr>\n",
       "      <th>Label</th>\n",
       "      <th></th>\n",
       "      <th></th>\n",
       "      <th></th>\n",
       "      <th></th>\n",
       "      <th></th>\n",
       "      <th></th>\n",
       "      <th></th>\n",
       "      <th></th>\n",
       "      <th></th>\n",
       "      <th></th>\n",
       "      <th></th>\n",
       "      <th></th>\n",
       "      <th></th>\n",
       "      <th></th>\n",
       "      <th></th>\n",
       "      <th></th>\n",
       "      <th></th>\n",
       "      <th></th>\n",
       "      <th></th>\n",
       "      <th></th>\n",
       "      <th></th>\n",
       "    </tr>\n",
       "  </thead>\n",
       "  <tbody>\n",
       "    <tr>\n",
       "      <td>ATTACK</td>\n",
       "      <td>172.16.0.1-192.168.10.50-45422-80-6</td>\n",
       "      <td>172.16.0.1</td>\n",
       "      <td>45422</td>\n",
       "      <td>192.168.10.50</td>\n",
       "      <td>80</td>\n",
       "      <td>6</td>\n",
       "      <td>4/7/2017 10:30</td>\n",
       "      <td>5216127</td>\n",
       "      <td>3</td>\n",
       "      <td>1</td>\n",
       "      <td>...</td>\n",
       "      <td>0</td>\n",
       "      <td>32</td>\n",
       "      <td>0.0</td>\n",
       "      <td>0.0</td>\n",
       "      <td>0.0</td>\n",
       "      <td>0.0</td>\n",
       "      <td>0.0</td>\n",
       "      <td>0.0</td>\n",
       "      <td>0.0</td>\n",
       "      <td>0.0</td>\n",
       "    </tr>\n",
       "    <tr>\n",
       "      <td>BENIGN</td>\n",
       "      <td>192.168.10.3-192.168.10.5-88-49182-6</td>\n",
       "      <td>192.168.10.5</td>\n",
       "      <td>49182</td>\n",
       "      <td>192.168.10.3</td>\n",
       "      <td>88</td>\n",
       "      <td>6</td>\n",
       "      <td>4/7/2017 8:54</td>\n",
       "      <td>640</td>\n",
       "      <td>7</td>\n",
       "      <td>4</td>\n",
       "      <td>...</td>\n",
       "      <td>2</td>\n",
       "      <td>20</td>\n",
       "      <td>0.0</td>\n",
       "      <td>0.0</td>\n",
       "      <td>0.0</td>\n",
       "      <td>0.0</td>\n",
       "      <td>0.0</td>\n",
       "      <td>0.0</td>\n",
       "      <td>0.0</td>\n",
       "      <td>0.0</td>\n",
       "    </tr>\n",
       "  </tbody>\n",
       "</table>\n",
       "<p>2 rows × 83 columns</p>\n",
       "</div>"
      ],
      "text/plain": [
       "                                     Flow ID     Source IP   Source Port  \\\n",
       " Label                                                                     \n",
       "ATTACK   172.16.0.1-192.168.10.50-45422-80-6    172.16.0.1         45422   \n",
       "BENIGN  192.168.10.3-192.168.10.5-88-49182-6  192.168.10.5         49182   \n",
       "\n",
       "        Destination IP   Destination Port   Protocol       Timestamp  \\\n",
       " Label                                                                 \n",
       "ATTACK   192.168.10.50                 80          6  4/7/2017 10:30   \n",
       "BENIGN    192.168.10.3                 88          6   4/7/2017 8:54   \n",
       "\n",
       "         Flow Duration   Total Fwd Packets   Total Backward Packets  ...  \\\n",
       " Label                                                               ...   \n",
       "ATTACK         5216127                   3                        1  ...   \n",
       "BENIGN             640                   7                        4  ...   \n",
       "\n",
       "         act_data_pkt_fwd   min_seg_size_forward  Active Mean   Active Std  \\\n",
       " Label                                                                       \n",
       "ATTACK                  0                     32          0.0          0.0   \n",
       "BENIGN                  2                     20          0.0          0.0   \n",
       "\n",
       "         Active Max   Active Min  Idle Mean   Idle Std   Idle Max   Idle Min  \n",
       " Label                                                                        \n",
       "ATTACK          0.0          0.0        0.0        0.0        0.0        0.0  \n",
       "BENIGN          0.0          0.0        0.0        0.0        0.0        0.0  \n",
       "\n",
       "[2 rows x 83 columns]"
      ]
     },
     "execution_count": 30,
     "metadata": {},
     "output_type": "execute_result"
    }
   ],
   "source": [
    "# change labels of all types of attacks to single \"Attack label\n",
    "df_tuesday_dropped.replace('FTP-Patator', 'ATTACK', inplace=True)\n",
    "df_tuesday_dropped.replace('SSH-Patator', 'ATTACK', inplace=True)\n",
    "grouped=df_tuesday_dropped.groupby(' Label')\n",
    "grouped.first()"
   ]
  },
  {
   "cell_type": "code",
   "execution_count": 111,
   "metadata": {},
   "outputs": [],
   "source": [
    "# \"Flow Bytes/s\", \"Flow Packets/s\" features include the values \"Infinity\" and \"NaN\" in\n",
    "# addition to the numerical values, which can be modified to -1 and 0 respectively to\n",
    "# make them suitable for machine learning algorithms.\n",
    "df_tuesday_dropped[[' Flow Packets/s', 'Flow Bytes/s']].replace('Infinity', -1, inplace=True)\n",
    "df_tuesday_dropped[[' Flow Packets/s', 'Flow Bytes/s']].replace('NaN', 0, inplace=True)"
   ]
  },
  {
   "cell_type": "markdown",
   "metadata": {},
   "source": [
    "### Saved preprocessed cleaned data to cleaned folder"
   ]
  },
  {
   "cell_type": "code",
   "execution_count": 112,
   "metadata": {},
   "outputs": [],
   "source": [
    "df_tuesday_dropped.to_csv(\"../dataset/Cleaned/Tuesday-WorkingHours.pcap_ISCX.csv\")"
   ]
  },
  {
   "cell_type": "code",
   "execution_count": 2,
   "metadata": {},
   "outputs": [
    {
     "name": "stderr",
     "output_type": "stream",
     "text": [
      "/home/ebryx/anaconda3/lib/python3.7/site-packages/IPython/core/interactiveshell.py:3058: DtypeWarning: Columns (21,22) have mixed types. Specify dtype option on import or set low_memory=False.\n",
      "  interactivity=interactivity, compiler=compiler, result=result)\n"
     ]
    }
   ],
   "source": [
    "df=pd.read_csv(\"../dataset/Cleaned/Tuesday-WorkingHours.pcap_ISCX.csv\")"
   ]
  },
  {
   "cell_type": "markdown",
   "metadata": {},
   "source": [
    "\n",
    "##  2. Creation of Training and testing data\n"
   ]
  },
  {
   "cell_type": "code",
   "execution_count": 6,
   "metadata": {},
   "outputs": [],
   "source": [
    "from sklearn.model_selection import train_test_split     # import module for train test split"
   ]
  },
  {
   "cell_type": "code",
   "execution_count": null,
   "metadata": {},
   "outputs": [],
   "source": []
  }
 ],
 "metadata": {
  "kernelspec": {
   "display_name": "Python 3",
   "language": "python",
   "name": "python3"
  },
  "language_info": {
   "codemirror_mode": {
    "name": "ipython",
    "version": 3
   },
   "file_extension": ".py",
   "mimetype": "text/x-python",
   "name": "python",
   "nbconvert_exporter": "python",
   "pygments_lexer": "ipython3",
   "version": "3.7.4"
  }
 },
 "nbformat": 4,
 "nbformat_minor": 2
}
