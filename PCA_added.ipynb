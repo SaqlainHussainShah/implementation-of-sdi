{
  "nbformat": 4,
  "nbformat_minor": 0,
  "metadata": {
    "colab": {
      "name": "PCA added.ipynb",
      "provenance": [],
      "collapsed_sections": [],
      "include_colab_link": true
    },
    "kernelspec": {
      "name": "python3",
      "display_name": "Python 3"
    },
    "accelerator": "GPU"
  },
  "cells": [
    {
      "cell_type": "markdown",
      "metadata": {
        "id": "view-in-github",
        "colab_type": "text"
      },
      "source": [
        "<a href=\"https://colab.research.google.com/github/SaqlainHussainShah/implementation-of-sdi/blob/master/PCA_added.ipynb\" target=\"_parent\"><img src=\"https://colab.research.google.com/assets/colab-badge.svg\" alt=\"Open In Colab\"/></a>"
      ]
    },
    {
      "cell_type": "code",
      "metadata": {
        "id": "DPjrq9AOht31",
        "colab_type": "code",
        "colab": {}
      },
      "source": [
        "import pandas as pd\n",
        "import matplotlib.pyplot as plt\n",
        "import numpy as np\n",
        "import time\n",
        "from sklearn.metrics import accuracy_score"
      ],
      "execution_count": 0,
      "outputs": []
    },
    {
      "cell_type": "code",
      "metadata": {
        "id": "W87pTFzQiB-6",
        "colab_type": "code",
        "colab": {}
      },
      "source": [
        ""
      ],
      "execution_count": 0,
      "outputs": []
    },
    {
      "cell_type": "code",
      "metadata": {
        "id": "9oFnCm2TiDXp",
        "colab_type": "code",
        "colab": {
          "base_uri": "https://localhost:8080/",
          "height": 54
        },
        "outputId": "737a20a5-2946-4179-f90e-577e62bf2e0b"
      },
      "source": [
        "from google.colab import drive\n",
        "drive.mount('/content/drive')"
      ],
      "execution_count": 2,
      "outputs": [
        {
          "output_type": "stream",
          "text": [
            "Drive already mounted at /content/drive; to attempt to forcibly remount, call drive.mount(\"/content/drive\", force_remount=True).\n"
          ],
          "name": "stdout"
        }
      ]
    },
    {
      "cell_type": "code",
      "metadata": {
        "id": "uvZ9U828indB",
        "colab_type": "code",
        "colab": {
          "base_uri": "https://localhost:8080/",
          "height": 298
        },
        "outputId": "da4b7c03-50de-45d5-f13a-9804d35eb979"
      },
      "source": [
        "import glob\n",
        "t1=time.time()\n",
        "\n",
        "path = \"/content/drive/My Drive\" # use your path\n",
        "all_files = glob.glob(path + \"/*.csv\")\n",
        "\n",
        "li = []\n",
        "\n",
        "for filename in all_files:\n",
        "    df = pd.read_csv(filename)\n",
        "    li.append(df)\n",
        "\n",
        "df = pd.concat(li, axis=0, ignore_index=True)\n",
        "t2=time.time()\n",
        "print(\"time taken to read All csv :: \", t2-t1, \" seconds \")"
      ],
      "execution_count": 8,
      "outputs": [
        {
          "output_type": "stream",
          "text": [
            "/usr/local/lib/python3.6/dist-packages/IPython/core/interactiveshell.py:2718: DtypeWarning: Columns (5,9) have mixed types. Specify dtype option on import or set low_memory=False.\n",
            "  interactivity=interactivity, compiler=compiler, result=result)\n",
            "/usr/local/lib/python3.6/dist-packages/IPython/core/interactiveshell.py:2718: DtypeWarning: Columns (20,21) have mixed types. Specify dtype option on import or set low_memory=False.\n",
            "  interactivity=interactivity, compiler=compiler, result=result)\n",
            "/usr/local/lib/python3.6/dist-packages/IPython/core/interactiveshell.py:2718: DtypeWarning: Columns (20) have mixed types. Specify dtype option on import or set low_memory=False.\n",
            "  interactivity=interactivity, compiler=compiler, result=result)\n",
            "/usr/local/lib/python3.6/dist-packages/ipykernel_launcher.py:13: FutureWarning: Sorting because non-concatenation axis is not aligned. A future version\n",
            "of pandas will change to not sort by default.\n",
            "\n",
            "To accept the future behavior, pass 'sort=False'.\n",
            "\n",
            "To retain the current behavior and silence the warning, pass 'sort=True'.\n",
            "\n",
            "  del sys.path[0]\n"
          ],
          "name": "stderr"
        },
        {
          "output_type": "stream",
          "text": [
            "time taken to read All csv ::  38.71205425262451  seconds \n"
          ],
          "name": "stdout"
        }
      ]
    },
    {
      "cell_type": "code",
      "metadata": {
        "id": "LHtcWLQUiEBA",
        "colab_type": "code",
        "colab": {
          "base_uri": "https://localhost:8080/",
          "height": 34
        },
        "outputId": "92e58da1-e0b4-4cb5-fea1-0829e9df06f0"
      },
      "source": [
        "len(df.columns)"
      ],
      "execution_count": 10,
      "outputs": [
        {
          "output_type": "execute_result",
          "data": {
            "text/plain": [
              "86"
            ]
          },
          "metadata": {
            "tags": []
          },
          "execution_count": 10
        }
      ]
    },
    {
      "cell_type": "code",
      "metadata": {
        "id": "C_QbUwVQjdou",
        "colab_type": "code",
        "colab": {
          "base_uri": "https://localhost:8080/",
          "height": 124
        },
        "outputId": "7fbcc6be-dfcf-47df-f7e2-15af1ffc31dd"
      },
      "source": [
        "t1=time.time()\n",
        "df1=pd.read_csv(\"/content/drive/My Drive/Friday-WorkingHours-Afternoon-DDos.pcap_ISCX.csv\")\n",
        "df2=pd.read_csv(\"/content/drive/My Drive/Friday-WorkingHours-Afternoon-PortScan.pcap_ISCX.csv\")\n",
        "df3=pd.read_csv(\"/content/drive/My Drive/Friday-WorkingHours-Morning.pcap_ISCX.csv\")\n",
        "df4=pd.read_csv(\"/content/drive/My Drive/Monday-WorkingHours.pcap_ISCX.csv\")\n",
        "df5=pd.read_csv(\"/content/drive/My Drive/Thursday-WorkingHours-Afternoon-Infilteration.pcap_ISCX.csv\")\n",
        "df6=pd.read_csv(\"/content/drive/My Drive/Thursday-WorkingHours-Morning-WebAttacks.pcap_ISCX.csv\")\n",
        "df7=pd.read_csv(\"/content/drive/My Drive/Tuesday-WorkingHours.pcap_ISCX.csv\")\n",
        "df8=pd.read_csv(\"/content/drive/My Drive/Wednesday-workingHours.pcap_ISCX.csv\")\n",
        "t2=time.time()\n",
        "print(\" time = \" , (t2-t1)/60 , \" minutes \")"
      ],
      "execution_count": 3,
      "outputs": [
        {
          "output_type": "stream",
          "text": [
            "/usr/local/lib/python3.6/dist-packages/IPython/core/interactiveshell.py:2718: DtypeWarning: Columns (20,21) have mixed types. Specify dtype option on import or set low_memory=False.\n",
            "  interactivity=interactivity, compiler=compiler, result=result)\n",
            "/usr/local/lib/python3.6/dist-packages/IPython/core/interactiveshell.py:2718: DtypeWarning: Columns (20) have mixed types. Specify dtype option on import or set low_memory=False.\n",
            "  interactivity=interactivity, compiler=compiler, result=result)\n"
          ],
          "name": "stderr"
        },
        {
          "output_type": "stream",
          "text": [
            " time =  0.4722212235132853  minutes \n"
          ],
          "name": "stdout"
        }
      ]
    },
    {
      "cell_type": "code",
      "metadata": {
        "id": "UtVMTB7Jj9Cm",
        "colab_type": "code",
        "colab": {}
      },
      "source": [
        "pdList=[df1,df2,df3,df4,df5,df6,df7,df8]\n",
        "df = pd.concat(pdList)"
      ],
      "execution_count": 0,
      "outputs": []
    },
    {
      "cell_type": "code",
      "metadata": {
        "id": "oIWJAEjXoaQZ",
        "colab_type": "code",
        "colab": {}
      },
      "source": [
        "d1=d2=d3=d4=d5=d6=d7=d8=[]"
      ],
      "execution_count": 0,
      "outputs": []
    },
    {
      "cell_type": "code",
      "metadata": {
        "id": "onjMFFg0j-GB",
        "colab_type": "code",
        "colab": {
          "base_uri": "https://localhost:8080/",
          "height": 1000
        },
        "outputId": "c8437dca-db82-4661-cc9b-b006cf5208af"
      },
      "source": [
        "df.info()"
      ],
      "execution_count": 20,
      "outputs": [
        {
          "output_type": "stream",
          "text": [
            "<class 'pandas.core.frame.DataFrame'>\n",
            "Int64Index: 2830743 entries, 0 to 692702\n",
            "Data columns (total 85 columns):\n",
            "Flow ID                         object\n",
            " Source IP                      object\n",
            " Source Port                    int64\n",
            " Destination IP                 object\n",
            " Destination Port               int64\n",
            " Protocol                       int64\n",
            " Timestamp                      object\n",
            " Flow Duration                  int64\n",
            " Total Fwd Packets              int64\n",
            " Total Backward Packets         int64\n",
            "Total Length of Fwd Packets     float64\n",
            " Total Length of Bwd Packets    float64\n",
            " Fwd Packet Length Max          float64\n",
            " Fwd Packet Length Min          float64\n",
            " Fwd Packet Length Mean         float64\n",
            " Fwd Packet Length Std          float64\n",
            "Bwd Packet Length Max           float64\n",
            " Bwd Packet Length Min          float64\n",
            " Bwd Packet Length Mean         float64\n",
            " Bwd Packet Length Std          float64\n",
            "Flow Bytes/s                    object\n",
            " Flow Packets/s                 object\n",
            " Flow IAT Mean                  float64\n",
            " Flow IAT Std                   float64\n",
            " Flow IAT Max                   float64\n",
            " Flow IAT Min                   float64\n",
            "Fwd IAT Total                   float64\n",
            " Fwd IAT Mean                   float64\n",
            " Fwd IAT Std                    float64\n",
            " Fwd IAT Max                    float64\n",
            " Fwd IAT Min                    float64\n",
            "Bwd IAT Total                   float64\n",
            " Bwd IAT Mean                   float64\n",
            " Bwd IAT Std                    float64\n",
            " Bwd IAT Max                    float64\n",
            " Bwd IAT Min                    float64\n",
            "Fwd PSH Flags                   int64\n",
            " Bwd PSH Flags                  int64\n",
            " Fwd URG Flags                  int64\n",
            " Bwd URG Flags                  int64\n",
            " Fwd Header Length              int64\n",
            " Bwd Header Length              int64\n",
            "Fwd Packets/s                   float64\n",
            " Bwd Packets/s                  float64\n",
            " Min Packet Length              float64\n",
            " Max Packet Length              float64\n",
            " Packet Length Mean             float64\n",
            " Packet Length Std              float64\n",
            " Packet Length Variance         float64\n",
            "FIN Flag Count                  int64\n",
            " SYN Flag Count                 int64\n",
            " RST Flag Count                 int64\n",
            " PSH Flag Count                 int64\n",
            " ACK Flag Count                 int64\n",
            " URG Flag Count                 int64\n",
            " CWE Flag Count                 int64\n",
            " ECE Flag Count                 int64\n",
            " Down/Up Ratio                  float64\n",
            " Average Packet Size            float64\n",
            " Avg Fwd Segment Size           float64\n",
            " Avg Bwd Segment Size           float64\n",
            " Fwd Header Length.1            int64\n",
            "Fwd Avg Bytes/Bulk              int64\n",
            " Fwd Avg Packets/Bulk           int64\n",
            " Fwd Avg Bulk Rate              int64\n",
            " Bwd Avg Bytes/Bulk             int64\n",
            " Bwd Avg Packets/Bulk           int64\n",
            "Bwd Avg Bulk Rate               int64\n",
            "Subflow Fwd Packets             int64\n",
            " Subflow Fwd Bytes              int64\n",
            " Subflow Bwd Packets            int64\n",
            " Subflow Bwd Bytes              int64\n",
            "Init_Win_bytes_forward          int64\n",
            " Init_Win_bytes_backward        int64\n",
            " act_data_pkt_fwd               int64\n",
            " min_seg_size_forward           int64\n",
            "Active Mean                     float64\n",
            " Active Std                     float64\n",
            " Active Max                     float64\n",
            " Active Min                     float64\n",
            "Idle Mean                       float64\n",
            " Idle Std                       float64\n",
            " Idle Max                       float64\n",
            " Idle Min                       float64\n",
            " Label                          object\n",
            "dtypes: float64(43), int64(35), object(7)\n",
            "memory usage: 1.8+ GB\n"
          ],
          "name": "stdout"
        }
      ]
    },
    {
      "cell_type": "code",
      "metadata": {
        "id": "zdmwlauAkBMM",
        "colab_type": "code",
        "colab": {
          "base_uri": "https://localhost:8080/",
          "height": 141
        },
        "outputId": "71d82b02-106f-4dcc-b1ef-7904555ec62d"
      },
      "source": [
        "df2=df[df.columns[7:-1]]\n",
        "df2[' Label']=df[' Label']\n",
        "df=df2\n",
        "df2=[]"
      ],
      "execution_count": 6,
      "outputs": [
        {
          "output_type": "stream",
          "text": [
            "/usr/local/lib/python3.6/dist-packages/ipykernel_launcher.py:2: SettingWithCopyWarning: \n",
            "A value is trying to be set on a copy of a slice from a DataFrame.\n",
            "Try using .loc[row_indexer,col_indexer] = value instead\n",
            "\n",
            "See the caveats in the documentation: http://pandas.pydata.org/pandas-docs/stable/user_guide/indexing.html#returning-a-view-versus-a-copy\n",
            "  \n"
          ],
          "name": "stderr"
        }
      ]
    },
    {
      "cell_type": "markdown",
      "metadata": {
        "id": "TV30TEg2nzKz",
        "colab_type": "text"
      },
      "source": [
        "### Some required preprocessing"
      ]
    },
    {
      "cell_type": "code",
      "metadata": {
        "id": "qMvGD5fbnlD9",
        "colab_type": "code",
        "colab": {}
      },
      "source": [
        "df=df.dropna( axis=0, how='any')\n",
        "df=df.replace(',,', np.nan, inplace=False)\n",
        "df=df.drop(columns=[' Fwd Header Length.1'], axis=1, inplace=False)"
      ],
      "execution_count": 0,
      "outputs": []
    },
    {
      "cell_type": "code",
      "metadata": {
        "id": "NAOouvx9nnis",
        "colab_type": "code",
        "colab": {}
      },
      "source": [
        "\n"
      ],
      "execution_count": 0,
      "outputs": []
    },
    {
      "cell_type": "code",
      "metadata": {
        "id": "QwS2UIVUnpoP",
        "colab_type": "code",
        "colab": {}
      },
      "source": [
        "df.replace(\"Infinity\", 0, inplace=True)\n",
        "df['Flow Bytes/s'].replace(\"Infinity\", 0,inplace=True)\n",
        "df[\" Flow Packets/s\"].replace(\"Infinity\", 0, inplace=True)"
      ],
      "execution_count": 0,
      "outputs": []
    },
    {
      "cell_type": "code",
      "metadata": {
        "id": "TJty4s1ApYzF",
        "colab_type": "code",
        "colab": {}
      },
      "source": [
        "df[\"Flow Bytes/s\"]=df[\"Flow Bytes/s\"].astype(\"float\")\n",
        "df[' Flow Packets/s']=df[\" Flow Packets/s\"].astype(\"float\")\n"
      ],
      "execution_count": 0,
      "outputs": []
    },
    {
      "cell_type": "code",
      "metadata": {
        "id": "RwNl_ePqpj8i",
        "colab_type": "code",
        "colab": {}
      },
      "source": [
        "X=df[df.columns[1:-1]]\n",
        "y=df[df.columns[-1]]\n"
      ],
      "execution_count": 0,
      "outputs": []
    },
    {
      "cell_type": "code",
      "metadata": {
        "id": "toMOM6dL5R35",
        "colab_type": "code",
        "colab": {}
      },
      "source": [
        "column_names=X.columns"
      ],
      "execution_count": 0,
      "outputs": []
    },
    {
      "cell_type": "code",
      "metadata": {
        "id": "IW9k571RpdK7",
        "colab_type": "code",
        "colab": {}
      },
      "source": [
        "del df1,df2,df3,df4,df5,df6,df7,df8,df"
      ],
      "execution_count": 0,
      "outputs": []
    },
    {
      "cell_type": "code",
      "metadata": {
        "id": "lbQkySZMp1Nz",
        "colab_type": "code",
        "colab": {}
      },
      "source": [
        "from sklearn.preprocessing import StandardScaler\n",
        "X = StandardScaler().fit_transform(X)"
      ],
      "execution_count": 0,
      "outputs": []
    },
    {
      "cell_type": "code",
      "metadata": {
        "id": "f6HS9f6lqXwK",
        "colab_type": "code",
        "colab": {}
      },
      "source": [
        "from sklearn.decomposition import PCA\n",
        "pca = PCA(n_components=75)\n",
        "principalComponents = pca.fit_transform(X)\n",
        "principalDf = pd.DataFrame(data = principalComponents,columns=column_names)"
      ],
      "execution_count": 0,
      "outputs": []
    },
    {
      "cell_type": "code",
      "metadata": {
        "id": "fSMMuFmXrEKg",
        "colab_type": "code",
        "colab": {
          "base_uri": "https://localhost:8080/",
          "height": 1000
        },
        "outputId": "afc5117c-2644-4418-d485-7e26563e8703"
      },
      "source": [
        "principalDf.info()"
      ],
      "execution_count": 15,
      "outputs": [
        {
          "output_type": "stream",
          "text": [
            "<class 'pandas.core.frame.DataFrame'>\n",
            "RangeIndex: 2829385 entries, 0 to 2829384\n",
            "Data columns (total 75 columns):\n",
            " Total Fwd Packets              float64\n",
            " Total Backward Packets         float64\n",
            "Total Length of Fwd Packets     float64\n",
            " Total Length of Bwd Packets    float64\n",
            " Fwd Packet Length Max          float64\n",
            " Fwd Packet Length Min          float64\n",
            " Fwd Packet Length Mean         float64\n",
            " Fwd Packet Length Std          float64\n",
            "Bwd Packet Length Max           float64\n",
            " Bwd Packet Length Min          float64\n",
            " Bwd Packet Length Mean         float64\n",
            " Bwd Packet Length Std          float64\n",
            "Flow Bytes/s                    float64\n",
            " Flow Packets/s                 float64\n",
            " Flow IAT Mean                  float64\n",
            " Flow IAT Std                   float64\n",
            " Flow IAT Max                   float64\n",
            " Flow IAT Min                   float64\n",
            "Fwd IAT Total                   float64\n",
            " Fwd IAT Mean                   float64\n",
            " Fwd IAT Std                    float64\n",
            " Fwd IAT Max                    float64\n",
            " Fwd IAT Min                    float64\n",
            "Bwd IAT Total                   float64\n",
            " Bwd IAT Mean                   float64\n",
            " Bwd IAT Std                    float64\n",
            " Bwd IAT Max                    float64\n",
            " Bwd IAT Min                    float64\n",
            "Fwd PSH Flags                   float64\n",
            " Bwd PSH Flags                  float64\n",
            " Fwd URG Flags                  float64\n",
            " Bwd URG Flags                  float64\n",
            " Fwd Header Length              float64\n",
            " Bwd Header Length              float64\n",
            "Fwd Packets/s                   float64\n",
            " Bwd Packets/s                  float64\n",
            " Min Packet Length              float64\n",
            " Max Packet Length              float64\n",
            " Packet Length Mean             float64\n",
            " Packet Length Std              float64\n",
            " Packet Length Variance         float64\n",
            "FIN Flag Count                  float64\n",
            " SYN Flag Count                 float64\n",
            " RST Flag Count                 float64\n",
            " PSH Flag Count                 float64\n",
            " ACK Flag Count                 float64\n",
            " URG Flag Count                 float64\n",
            " CWE Flag Count                 float64\n",
            " ECE Flag Count                 float64\n",
            " Down/Up Ratio                  float64\n",
            " Average Packet Size            float64\n",
            " Avg Fwd Segment Size           float64\n",
            " Avg Bwd Segment Size           float64\n",
            "Fwd Avg Bytes/Bulk              float64\n",
            " Fwd Avg Packets/Bulk           float64\n",
            " Fwd Avg Bulk Rate              float64\n",
            " Bwd Avg Bytes/Bulk             float64\n",
            " Bwd Avg Packets/Bulk           float64\n",
            "Bwd Avg Bulk Rate               float64\n",
            "Subflow Fwd Packets             float64\n",
            " Subflow Fwd Bytes              float64\n",
            " Subflow Bwd Packets            float64\n",
            " Subflow Bwd Bytes              float64\n",
            "Init_Win_bytes_forward          float64\n",
            " Init_Win_bytes_backward        float64\n",
            " act_data_pkt_fwd               float64\n",
            " min_seg_size_forward           float64\n",
            "Active Mean                     float64\n",
            " Active Std                     float64\n",
            " Active Max                     float64\n",
            " Active Min                     float64\n",
            "Idle Mean                       float64\n",
            " Idle Std                       float64\n",
            " Idle Max                       float64\n",
            " Idle Min                       float64\n",
            "dtypes: float64(75)\n",
            "memory usage: 1.6 GB\n"
          ],
          "name": "stdout"
        }
      ]
    },
    {
      "cell_type": "code",
      "metadata": {
        "id": "7664cf1ZrQd3",
        "colab_type": "code",
        "colab": {
          "base_uri": "https://localhost:8080/",
          "height": 278
        },
        "outputId": "85638071-aef9-4659-c4d2-76b113f14a11"
      },
      "source": [
        "principalDf.head()"
      ],
      "execution_count": 16,
      "outputs": [
        {
          "output_type": "execute_result",
          "data": {
            "text/html": [
              "<div>\n",
              "<style scoped>\n",
              "    .dataframe tbody tr th:only-of-type {\n",
              "        vertical-align: middle;\n",
              "    }\n",
              "\n",
              "    .dataframe tbody tr th {\n",
              "        vertical-align: top;\n",
              "    }\n",
              "\n",
              "    .dataframe thead th {\n",
              "        text-align: right;\n",
              "    }\n",
              "</style>\n",
              "<table border=\"1\" class=\"dataframe\">\n",
              "  <thead>\n",
              "    <tr style=\"text-align: right;\">\n",
              "      <th></th>\n",
              "      <th>Total Fwd Packets</th>\n",
              "      <th>Total Backward Packets</th>\n",
              "      <th>Total Length of Fwd Packets</th>\n",
              "      <th>Total Length of Bwd Packets</th>\n",
              "      <th>Fwd Packet Length Max</th>\n",
              "      <th>Fwd Packet Length Min</th>\n",
              "      <th>Fwd Packet Length Mean</th>\n",
              "      <th>Fwd Packet Length Std</th>\n",
              "      <th>Bwd Packet Length Max</th>\n",
              "      <th>Bwd Packet Length Min</th>\n",
              "      <th>Bwd Packet Length Mean</th>\n",
              "      <th>Bwd Packet Length Std</th>\n",
              "      <th>Flow Bytes/s</th>\n",
              "      <th>Flow Packets/s</th>\n",
              "      <th>Flow IAT Mean</th>\n",
              "      <th>Flow IAT Std</th>\n",
              "      <th>Flow IAT Max</th>\n",
              "      <th>Flow IAT Min</th>\n",
              "      <th>Fwd IAT Total</th>\n",
              "      <th>Fwd IAT Mean</th>\n",
              "      <th>Fwd IAT Std</th>\n",
              "      <th>Fwd IAT Max</th>\n",
              "      <th>Fwd IAT Min</th>\n",
              "      <th>Bwd IAT Total</th>\n",
              "      <th>Bwd IAT Mean</th>\n",
              "      <th>Bwd IAT Std</th>\n",
              "      <th>Bwd IAT Max</th>\n",
              "      <th>Bwd IAT Min</th>\n",
              "      <th>Fwd PSH Flags</th>\n",
              "      <th>Bwd PSH Flags</th>\n",
              "      <th>Fwd URG Flags</th>\n",
              "      <th>Bwd URG Flags</th>\n",
              "      <th>Fwd Header Length</th>\n",
              "      <th>Bwd Header Length</th>\n",
              "      <th>Fwd Packets/s</th>\n",
              "      <th>Bwd Packets/s</th>\n",
              "      <th>Min Packet Length</th>\n",
              "      <th>Max Packet Length</th>\n",
              "      <th>Packet Length Mean</th>\n",
              "      <th>Packet Length Std</th>\n",
              "      <th>Packet Length Variance</th>\n",
              "      <th>FIN Flag Count</th>\n",
              "      <th>SYN Flag Count</th>\n",
              "      <th>RST Flag Count</th>\n",
              "      <th>PSH Flag Count</th>\n",
              "      <th>ACK Flag Count</th>\n",
              "      <th>URG Flag Count</th>\n",
              "      <th>CWE Flag Count</th>\n",
              "      <th>ECE Flag Count</th>\n",
              "      <th>Down/Up Ratio</th>\n",
              "      <th>Average Packet Size</th>\n",
              "      <th>Avg Fwd Segment Size</th>\n",
              "      <th>Avg Bwd Segment Size</th>\n",
              "      <th>Fwd Avg Bytes/Bulk</th>\n",
              "      <th>Fwd Avg Packets/Bulk</th>\n",
              "      <th>Fwd Avg Bulk Rate</th>\n",
              "      <th>Bwd Avg Bytes/Bulk</th>\n",
              "      <th>Bwd Avg Packets/Bulk</th>\n",
              "      <th>Bwd Avg Bulk Rate</th>\n",
              "      <th>Subflow Fwd Packets</th>\n",
              "      <th>Subflow Fwd Bytes</th>\n",
              "      <th>Subflow Bwd Packets</th>\n",
              "      <th>Subflow Bwd Bytes</th>\n",
              "      <th>Init_Win_bytes_forward</th>\n",
              "      <th>Init_Win_bytes_backward</th>\n",
              "      <th>act_data_pkt_fwd</th>\n",
              "      <th>min_seg_size_forward</th>\n",
              "      <th>Active Mean</th>\n",
              "      <th>Active Std</th>\n",
              "      <th>Active Max</th>\n",
              "      <th>Active Min</th>\n",
              "      <th>Idle Mean</th>\n",
              "      <th>Idle Std</th>\n",
              "      <th>Idle Max</th>\n",
              "      <th>Idle Min</th>\n",
              "    </tr>\n",
              "  </thead>\n",
              "  <tbody>\n",
              "    <tr>\n",
              "      <th>0</th>\n",
              "      <td>-2.007978</td>\n",
              "      <td>-0.048536</td>\n",
              "      <td>0.381732</td>\n",
              "      <td>-0.411502</td>\n",
              "      <td>-2.782250</td>\n",
              "      <td>-0.388718</td>\n",
              "      <td>0.096620</td>\n",
              "      <td>0.106756</td>\n",
              "      <td>-0.276215</td>\n",
              "      <td>0.011843</td>\n",
              "      <td>-1.004778</td>\n",
              "      <td>0.040384</td>\n",
              "      <td>1.861102</td>\n",
              "      <td>-0.110158</td>\n",
              "      <td>-0.914634</td>\n",
              "      <td>-0.259223</td>\n",
              "      <td>-0.499663</td>\n",
              "      <td>-0.566321</td>\n",
              "      <td>0.412931</td>\n",
              "      <td>-0.023519</td>\n",
              "      <td>-0.206918</td>\n",
              "      <td>0.009121</td>\n",
              "      <td>0.923633</td>\n",
              "      <td>-0.274784</td>\n",
              "      <td>-0.350136</td>\n",
              "      <td>-0.099536</td>\n",
              "      <td>0.403609</td>\n",
              "      <td>0.514844</td>\n",
              "      <td>-0.162169</td>\n",
              "      <td>0.085218</td>\n",
              "      <td>-0.010176</td>\n",
              "      <td>-0.001259</td>\n",
              "      <td>-0.004269</td>\n",
              "      <td>0.157506</td>\n",
              "      <td>0.148425</td>\n",
              "      <td>0.005883</td>\n",
              "      <td>0.000568</td>\n",
              "      <td>-0.009577</td>\n",
              "      <td>-0.029629</td>\n",
              "      <td>0.033204</td>\n",
              "      <td>0.006225</td>\n",
              "      <td>0.001145</td>\n",
              "      <td>-0.017051</td>\n",
              "      <td>0.000459</td>\n",
              "      <td>-0.008089</td>\n",
              "      <td>0.001775</td>\n",
              "      <td>-0.005897</td>\n",
              "      <td>-0.000649</td>\n",
              "      <td>-0.000039</td>\n",
              "      <td>-0.000045</td>\n",
              "      <td>0.003610</td>\n",
              "      <td>0.000910</td>\n",
              "      <td>-0.000735</td>\n",
              "      <td>0.000819</td>\n",
              "      <td>-0.000499</td>\n",
              "      <td>0.001033</td>\n",
              "      <td>0.000167</td>\n",
              "      <td>-0.000102</td>\n",
              "      <td>0.000052</td>\n",
              "      <td>0.000003</td>\n",
              "      <td>0.000002</td>\n",
              "      <td>-3.602221e-13</td>\n",
              "      <td>6.660373e-12</td>\n",
              "      <td>9.864242e-18</td>\n",
              "      <td>-2.431499e-16</td>\n",
              "      <td>-1.635246e-16</td>\n",
              "      <td>4.491386e-16</td>\n",
              "      <td>6.691588e-16</td>\n",
              "      <td>-9.961458e-17</td>\n",
              "      <td>-1.372428e-16</td>\n",
              "      <td>7.217200e-17</td>\n",
              "      <td>3.527744e-17</td>\n",
              "      <td>7.225797e-17</td>\n",
              "      <td>-3.378861e-17</td>\n",
              "      <td>6.450168e-17</td>\n",
              "    </tr>\n",
              "    <tr>\n",
              "      <th>1</th>\n",
              "      <td>-1.947449</td>\n",
              "      <td>-0.043319</td>\n",
              "      <td>0.361271</td>\n",
              "      <td>-0.235507</td>\n",
              "      <td>-0.895912</td>\n",
              "      <td>-0.324907</td>\n",
              "      <td>0.390253</td>\n",
              "      <td>-0.571039</td>\n",
              "      <td>-0.501670</td>\n",
              "      <td>-0.080604</td>\n",
              "      <td>2.424204</td>\n",
              "      <td>-0.063486</td>\n",
              "      <td>0.617830</td>\n",
              "      <td>-0.399817</td>\n",
              "      <td>1.410945</td>\n",
              "      <td>0.000305</td>\n",
              "      <td>-0.240602</td>\n",
              "      <td>-0.574114</td>\n",
              "      <td>0.348018</td>\n",
              "      <td>-0.005800</td>\n",
              "      <td>-0.391932</td>\n",
              "      <td>1.048372</td>\n",
              "      <td>0.231399</td>\n",
              "      <td>-0.341341</td>\n",
              "      <td>-0.445738</td>\n",
              "      <td>0.457217</td>\n",
              "      <td>-0.200698</td>\n",
              "      <td>-0.891300</td>\n",
              "      <td>-0.133732</td>\n",
              "      <td>0.070509</td>\n",
              "      <td>0.007064</td>\n",
              "      <td>-0.000913</td>\n",
              "      <td>-0.015828</td>\n",
              "      <td>0.014403</td>\n",
              "      <td>0.039689</td>\n",
              "      <td>0.011279</td>\n",
              "      <td>0.026371</td>\n",
              "      <td>0.005112</td>\n",
              "      <td>-0.020900</td>\n",
              "      <td>-0.025127</td>\n",
              "      <td>0.003141</td>\n",
              "      <td>0.000700</td>\n",
              "      <td>-0.005808</td>\n",
              "      <td>-0.000189</td>\n",
              "      <td>-0.011655</td>\n",
              "      <td>-0.000561</td>\n",
              "      <td>-0.011663</td>\n",
              "      <td>0.000483</td>\n",
              "      <td>-0.006095</td>\n",
              "      <td>0.000171</td>\n",
              "      <td>-0.002431</td>\n",
              "      <td>-0.000058</td>\n",
              "      <td>0.001180</td>\n",
              "      <td>0.000250</td>\n",
              "      <td>-0.001602</td>\n",
              "      <td>0.000022</td>\n",
              "      <td>0.000961</td>\n",
              "      <td>-0.000653</td>\n",
              "      <td>-0.000038</td>\n",
              "      <td>-0.000022</td>\n",
              "      <td>0.000002</td>\n",
              "      <td>-2.776543e-14</td>\n",
              "      <td>-1.296886e-17</td>\n",
              "      <td>2.027429e-14</td>\n",
              "      <td>8.469880e-15</td>\n",
              "      <td>1.539684e-13</td>\n",
              "      <td>3.216233e-13</td>\n",
              "      <td>-1.487769e-13</td>\n",
              "      <td>-4.836937e-15</td>\n",
              "      <td>-2.761967e-16</td>\n",
              "      <td>6.182046e-15</td>\n",
              "      <td>1.385762e-15</td>\n",
              "      <td>1.454175e-14</td>\n",
              "      <td>-1.026310e-14</td>\n",
              "      <td>-1.131041e-13</td>\n",
              "    </tr>\n",
              "    <tr>\n",
              "      <th>2</th>\n",
              "      <td>-1.958919</td>\n",
              "      <td>-0.043596</td>\n",
              "      <td>0.365268</td>\n",
              "      <td>-0.238824</td>\n",
              "      <td>-0.960378</td>\n",
              "      <td>-0.337162</td>\n",
              "      <td>0.388128</td>\n",
              "      <td>-0.570149</td>\n",
              "      <td>-0.508549</td>\n",
              "      <td>-0.082748</td>\n",
              "      <td>2.388952</td>\n",
              "      <td>-0.061799</td>\n",
              "      <td>0.735698</td>\n",
              "      <td>-0.438930</td>\n",
              "      <td>1.459487</td>\n",
              "      <td>0.048005</td>\n",
              "      <td>-0.252593</td>\n",
              "      <td>-0.468339</td>\n",
              "      <td>0.214142</td>\n",
              "      <td>0.011551</td>\n",
              "      <td>-0.445694</td>\n",
              "      <td>0.969191</td>\n",
              "      <td>0.128878</td>\n",
              "      <td>-0.335280</td>\n",
              "      <td>-0.490572</td>\n",
              "      <td>0.467853</td>\n",
              "      <td>-0.197469</td>\n",
              "      <td>-0.887635</td>\n",
              "      <td>-0.138619</td>\n",
              "      <td>0.076546</td>\n",
              "      <td>0.006701</td>\n",
              "      <td>-0.000897</td>\n",
              "      <td>-0.014974</td>\n",
              "      <td>0.006659</td>\n",
              "      <td>0.037341</td>\n",
              "      <td>0.013363</td>\n",
              "      <td>0.024761</td>\n",
              "      <td>0.006055</td>\n",
              "      <td>-0.021123</td>\n",
              "      <td>-0.024366</td>\n",
              "      <td>0.003415</td>\n",
              "      <td>-0.000327</td>\n",
              "      <td>-0.004101</td>\n",
              "      <td>-0.000317</td>\n",
              "      <td>-0.012585</td>\n",
              "      <td>-0.000648</td>\n",
              "      <td>-0.011745</td>\n",
              "      <td>0.000586</td>\n",
              "      <td>-0.005803</td>\n",
              "      <td>0.000185</td>\n",
              "      <td>-0.002218</td>\n",
              "      <td>0.000041</td>\n",
              "      <td>0.001085</td>\n",
              "      <td>0.000251</td>\n",
              "      <td>-0.001651</td>\n",
              "      <td>0.000054</td>\n",
              "      <td>0.000974</td>\n",
              "      <td>-0.000659</td>\n",
              "      <td>-0.000044</td>\n",
              "      <td>-0.000022</td>\n",
              "      <td>0.000002</td>\n",
              "      <td>-1.879812e-14</td>\n",
              "      <td>2.647135e-18</td>\n",
              "      <td>-3.039220e-17</td>\n",
              "      <td>3.074927e-16</td>\n",
              "      <td>-4.481470e-16</td>\n",
              "      <td>-6.456256e-18</td>\n",
              "      <td>-4.753589e-17</td>\n",
              "      <td>-1.251094e-17</td>\n",
              "      <td>-1.782767e-17</td>\n",
              "      <td>1.206963e-17</td>\n",
              "      <td>5.032013e-18</td>\n",
              "      <td>-1.151296e-17</td>\n",
              "      <td>-7.209572e-18</td>\n",
              "      <td>-4.028543e-17</td>\n",
              "    </tr>\n",
              "    <tr>\n",
              "      <th>3</th>\n",
              "      <td>-1.970648</td>\n",
              "      <td>-0.043852</td>\n",
              "      <td>0.369262</td>\n",
              "      <td>-0.241907</td>\n",
              "      <td>-1.026104</td>\n",
              "      <td>-0.348951</td>\n",
              "      <td>0.385313</td>\n",
              "      <td>-0.570397</td>\n",
              "      <td>-0.515847</td>\n",
              "      <td>-0.085076</td>\n",
              "      <td>2.354946</td>\n",
              "      <td>-0.060110</td>\n",
              "      <td>0.855396</td>\n",
              "      <td>-0.478855</td>\n",
              "      <td>1.509906</td>\n",
              "      <td>0.095916</td>\n",
              "      <td>-0.264282</td>\n",
              "      <td>-0.359061</td>\n",
              "      <td>0.081303</td>\n",
              "      <td>0.028484</td>\n",
              "      <td>-0.495029</td>\n",
              "      <td>0.883952</td>\n",
              "      <td>0.025076</td>\n",
              "      <td>-0.329867</td>\n",
              "      <td>-0.534980</td>\n",
              "      <td>0.478033</td>\n",
              "      <td>-0.194084</td>\n",
              "      <td>-0.883077</td>\n",
              "      <td>-0.143380</td>\n",
              "      <td>0.082806</td>\n",
              "      <td>0.006321</td>\n",
              "      <td>-0.000880</td>\n",
              "      <td>-0.013972</td>\n",
              "      <td>-0.001234</td>\n",
              "      <td>0.034755</td>\n",
              "      <td>0.015364</td>\n",
              "      <td>0.023117</td>\n",
              "      <td>0.006994</td>\n",
              "      <td>-0.021268</td>\n",
              "      <td>-0.023660</td>\n",
              "      <td>0.003728</td>\n",
              "      <td>-0.001334</td>\n",
              "      <td>-0.002382</td>\n",
              "      <td>-0.000447</td>\n",
              "      <td>-0.013520</td>\n",
              "      <td>-0.000739</td>\n",
              "      <td>-0.011806</td>\n",
              "      <td>0.000679</td>\n",
              "      <td>-0.005502</td>\n",
              "      <td>0.000198</td>\n",
              "      <td>-0.002005</td>\n",
              "      <td>0.000139</td>\n",
              "      <td>0.000985</td>\n",
              "      <td>0.000249</td>\n",
              "      <td>-0.001694</td>\n",
              "      <td>0.000086</td>\n",
              "      <td>0.000982</td>\n",
              "      <td>-0.000662</td>\n",
              "      <td>-0.000049</td>\n",
              "      <td>-0.000022</td>\n",
              "      <td>0.000002</td>\n",
              "      <td>-2.486406e-14</td>\n",
              "      <td>1.904237e-19</td>\n",
              "      <td>2.307809e-16</td>\n",
              "      <td>-4.107360e-16</td>\n",
              "      <td>4.661697e-17</td>\n",
              "      <td>-1.275844e-17</td>\n",
              "      <td>-3.463040e-18</td>\n",
              "      <td>-1.580376e-17</td>\n",
              "      <td>-1.268350e-17</td>\n",
              "      <td>1.313286e-18</td>\n",
              "      <td>-1.625463e-17</td>\n",
              "      <td>-1.257256e-17</td>\n",
              "      <td>-9.250426e-18</td>\n",
              "      <td>-5.601628e-19</td>\n",
              "    </tr>\n",
              "    <tr>\n",
              "      <th>4</th>\n",
              "      <td>-2.007979</td>\n",
              "      <td>-0.048537</td>\n",
              "      <td>0.381737</td>\n",
              "      <td>-0.411507</td>\n",
              "      <td>-2.782249</td>\n",
              "      <td>-0.388731</td>\n",
              "      <td>0.096641</td>\n",
              "      <td>0.106767</td>\n",
              "      <td>-0.276217</td>\n",
              "      <td>0.011844</td>\n",
              "      <td>-1.004775</td>\n",
              "      <td>0.040384</td>\n",
              "      <td>1.861112</td>\n",
              "      <td>-0.110158</td>\n",
              "      <td>-0.914628</td>\n",
              "      <td>-0.259229</td>\n",
              "      <td>-0.499671</td>\n",
              "      <td>-0.566339</td>\n",
              "      <td>0.412938</td>\n",
              "      <td>-0.023519</td>\n",
              "      <td>-0.206921</td>\n",
              "      <td>0.009117</td>\n",
              "      <td>0.923617</td>\n",
              "      <td>-0.274795</td>\n",
              "      <td>-0.350137</td>\n",
              "      <td>-0.099587</td>\n",
              "      <td>0.403615</td>\n",
              "      <td>0.514832</td>\n",
              "      <td>-0.162181</td>\n",
              "      <td>0.085223</td>\n",
              "      <td>-0.010176</td>\n",
              "      <td>-0.001259</td>\n",
              "      <td>-0.004267</td>\n",
              "      <td>0.157509</td>\n",
              "      <td>0.148430</td>\n",
              "      <td>0.005884</td>\n",
              "      <td>0.000566</td>\n",
              "      <td>-0.009577</td>\n",
              "      <td>-0.029629</td>\n",
              "      <td>0.033204</td>\n",
              "      <td>0.006224</td>\n",
              "      <td>0.001145</td>\n",
              "      <td>-0.017051</td>\n",
              "      <td>0.000459</td>\n",
              "      <td>-0.008089</td>\n",
              "      <td>0.001775</td>\n",
              "      <td>-0.005898</td>\n",
              "      <td>-0.000649</td>\n",
              "      <td>-0.000039</td>\n",
              "      <td>-0.000045</td>\n",
              "      <td>0.003610</td>\n",
              "      <td>0.000910</td>\n",
              "      <td>-0.000735</td>\n",
              "      <td>0.000819</td>\n",
              "      <td>-0.000499</td>\n",
              "      <td>0.001033</td>\n",
              "      <td>0.000167</td>\n",
              "      <td>-0.000102</td>\n",
              "      <td>0.000052</td>\n",
              "      <td>0.000003</td>\n",
              "      <td>0.000002</td>\n",
              "      <td>-2.193450e-13</td>\n",
              "      <td>-2.671969e-17</td>\n",
              "      <td>1.485988e-15</td>\n",
              "      <td>-1.295217e-15</td>\n",
              "      <td>-1.807144e-15</td>\n",
              "      <td>-6.063146e-17</td>\n",
              "      <td>-1.768507e-16</td>\n",
              "      <td>-5.696080e-17</td>\n",
              "      <td>-9.579754e-17</td>\n",
              "      <td>6.214013e-17</td>\n",
              "      <td>1.352947e-17</td>\n",
              "      <td>-5.989763e-17</td>\n",
              "      <td>-4.224521e-17</td>\n",
              "      <td>-1.992610e-16</td>\n",
              "    </tr>\n",
              "  </tbody>\n",
              "</table>\n",
              "</div>"
            ],
            "text/plain": [
              "    Total Fwd Packets   Total Backward Packets  ...      Idle Max      Idle Min\n",
              "0           -2.007978                -0.048536  ... -3.378861e-17  6.450168e-17\n",
              "1           -1.947449                -0.043319  ... -1.026310e-14 -1.131041e-13\n",
              "2           -1.958919                -0.043596  ... -7.209572e-18 -4.028543e-17\n",
              "3           -1.970648                -0.043852  ... -9.250426e-18 -5.601628e-19\n",
              "4           -2.007979                -0.048537  ... -4.224521e-17 -1.992610e-16\n",
              "\n",
              "[5 rows x 75 columns]"
            ]
          },
          "metadata": {
            "tags": []
          },
          "execution_count": 16
        }
      ]
    },
    {
      "cell_type": "code",
      "metadata": {
        "id": "FtC-W4Mmqs-J",
        "colab_type": "code",
        "colab": {
          "base_uri": "https://localhost:8080/",
          "height": 332
        },
        "outputId": "7888811b-31e2-4a96-a3ed-8bc9bd4f96f6"
      },
      "source": [
        "finalDf = pd.concat([principalDf, df[[' Label']]], axis = 1)"
      ],
      "execution_count": 19,
      "outputs": [
        {
          "output_type": "error",
          "ename": "ValueError",
          "evalue": "ignored",
          "traceback": [
            "\u001b[0;31m---------------------------------------------------------------------------\u001b[0m",
            "\u001b[0;31mValueError\u001b[0m                                Traceback (most recent call last)",
            "\u001b[0;32m<ipython-input-19-d89e28741a4c>\u001b[0m in \u001b[0;36m<module>\u001b[0;34m()\u001b[0m\n\u001b[0;32m----> 1\u001b[0;31m \u001b[0mfinalDf\u001b[0m \u001b[0;34m=\u001b[0m \u001b[0mpd\u001b[0m\u001b[0;34m.\u001b[0m\u001b[0mconcat\u001b[0m\u001b[0;34m(\u001b[0m\u001b[0;34m[\u001b[0m\u001b[0mprincipalDf\u001b[0m\u001b[0;34m,\u001b[0m \u001b[0mdf\u001b[0m\u001b[0;34m[\u001b[0m\u001b[0;34m[\u001b[0m\u001b[0;34m' Label'\u001b[0m\u001b[0;34m]\u001b[0m\u001b[0;34m]\u001b[0m\u001b[0;34m]\u001b[0m\u001b[0;34m,\u001b[0m \u001b[0maxis\u001b[0m \u001b[0;34m=\u001b[0m \u001b[0;36m1\u001b[0m\u001b[0;34m)\u001b[0m\u001b[0;34m\u001b[0m\u001b[0;34m\u001b[0m\u001b[0m\n\u001b[0m",
            "\u001b[0;32m/usr/local/lib/python3.6/dist-packages/pandas/core/reshape/concat.py\u001b[0m in \u001b[0;36mconcat\u001b[0;34m(objs, axis, join, join_axes, ignore_index, keys, levels, names, verify_integrity, sort, copy)\u001b[0m\n\u001b[1;32m    256\u001b[0m     )\n\u001b[1;32m    257\u001b[0m \u001b[0;34m\u001b[0m\u001b[0m\n\u001b[0;32m--> 258\u001b[0;31m     \u001b[0;32mreturn\u001b[0m \u001b[0mop\u001b[0m\u001b[0;34m.\u001b[0m\u001b[0mget_result\u001b[0m\u001b[0;34m(\u001b[0m\u001b[0;34m)\u001b[0m\u001b[0;34m\u001b[0m\u001b[0;34m\u001b[0m\u001b[0m\n\u001b[0m\u001b[1;32m    259\u001b[0m \u001b[0;34m\u001b[0m\u001b[0m\n\u001b[1;32m    260\u001b[0m \u001b[0;34m\u001b[0m\u001b[0m\n",
            "\u001b[0;32m/usr/local/lib/python3.6/dist-packages/pandas/core/reshape/concat.py\u001b[0m in \u001b[0;36mget_result\u001b[0;34m(self)\u001b[0m\n\u001b[1;32m    471\u001b[0m \u001b[0;34m\u001b[0m\u001b[0m\n\u001b[1;32m    472\u001b[0m             new_data = concatenate_block_managers(\n\u001b[0;32m--> 473\u001b[0;31m                 \u001b[0mmgrs_indexers\u001b[0m\u001b[0;34m,\u001b[0m \u001b[0mself\u001b[0m\u001b[0;34m.\u001b[0m\u001b[0mnew_axes\u001b[0m\u001b[0;34m,\u001b[0m \u001b[0mconcat_axis\u001b[0m\u001b[0;34m=\u001b[0m\u001b[0mself\u001b[0m\u001b[0;34m.\u001b[0m\u001b[0maxis\u001b[0m\u001b[0;34m,\u001b[0m \u001b[0mcopy\u001b[0m\u001b[0;34m=\u001b[0m\u001b[0mself\u001b[0m\u001b[0;34m.\u001b[0m\u001b[0mcopy\u001b[0m\u001b[0;34m\u001b[0m\u001b[0;34m\u001b[0m\u001b[0m\n\u001b[0m\u001b[1;32m    474\u001b[0m             )\n\u001b[1;32m    475\u001b[0m             \u001b[0;32mif\u001b[0m \u001b[0;32mnot\u001b[0m \u001b[0mself\u001b[0m\u001b[0;34m.\u001b[0m\u001b[0mcopy\u001b[0m\u001b[0;34m:\u001b[0m\u001b[0;34m\u001b[0m\u001b[0;34m\u001b[0m\u001b[0m\n",
            "\u001b[0;32m/usr/local/lib/python3.6/dist-packages/pandas/core/internals/managers.py\u001b[0m in \u001b[0;36mconcatenate_block_managers\u001b[0;34m(mgrs_indexers, axes, concat_axis, copy)\u001b[0m\n\u001b[1;32m   2057\u001b[0m         \u001b[0mblocks\u001b[0m\u001b[0;34m.\u001b[0m\u001b[0mappend\u001b[0m\u001b[0;34m(\u001b[0m\u001b[0mb\u001b[0m\u001b[0;34m)\u001b[0m\u001b[0;34m\u001b[0m\u001b[0;34m\u001b[0m\u001b[0m\n\u001b[1;32m   2058\u001b[0m \u001b[0;34m\u001b[0m\u001b[0m\n\u001b[0;32m-> 2059\u001b[0;31m     \u001b[0;32mreturn\u001b[0m \u001b[0mBlockManager\u001b[0m\u001b[0;34m(\u001b[0m\u001b[0mblocks\u001b[0m\u001b[0;34m,\u001b[0m \u001b[0maxes\u001b[0m\u001b[0;34m)\u001b[0m\u001b[0;34m\u001b[0m\u001b[0;34m\u001b[0m\u001b[0m\n\u001b[0m",
            "\u001b[0;32m/usr/local/lib/python3.6/dist-packages/pandas/core/internals/managers.py\u001b[0m in \u001b[0;36m__init__\u001b[0;34m(self, blocks, axes, do_integrity_check)\u001b[0m\n\u001b[1;32m    141\u001b[0m \u001b[0;34m\u001b[0m\u001b[0m\n\u001b[1;32m    142\u001b[0m         \u001b[0;32mif\u001b[0m \u001b[0mdo_integrity_check\u001b[0m\u001b[0;34m:\u001b[0m\u001b[0;34m\u001b[0m\u001b[0;34m\u001b[0m\u001b[0m\n\u001b[0;32m--> 143\u001b[0;31m             \u001b[0mself\u001b[0m\u001b[0;34m.\u001b[0m\u001b[0m_verify_integrity\u001b[0m\u001b[0;34m(\u001b[0m\u001b[0;34m)\u001b[0m\u001b[0;34m\u001b[0m\u001b[0;34m\u001b[0m\u001b[0m\n\u001b[0m\u001b[1;32m    144\u001b[0m \u001b[0;34m\u001b[0m\u001b[0m\n\u001b[1;32m    145\u001b[0m         \u001b[0mself\u001b[0m\u001b[0;34m.\u001b[0m\u001b[0m_consolidate_check\u001b[0m\u001b[0;34m(\u001b[0m\u001b[0;34m)\u001b[0m\u001b[0;34m\u001b[0m\u001b[0;34m\u001b[0m\u001b[0m\n",
            "\u001b[0;32m/usr/local/lib/python3.6/dist-packages/pandas/core/internals/managers.py\u001b[0m in \u001b[0;36m_verify_integrity\u001b[0;34m(self)\u001b[0m\n\u001b[1;32m    343\u001b[0m         \u001b[0;32mfor\u001b[0m \u001b[0mblock\u001b[0m \u001b[0;32min\u001b[0m \u001b[0mself\u001b[0m\u001b[0;34m.\u001b[0m\u001b[0mblocks\u001b[0m\u001b[0;34m:\u001b[0m\u001b[0;34m\u001b[0m\u001b[0;34m\u001b[0m\u001b[0m\n\u001b[1;32m    344\u001b[0m             \u001b[0;32mif\u001b[0m \u001b[0mblock\u001b[0m\u001b[0;34m.\u001b[0m\u001b[0m_verify_integrity\u001b[0m \u001b[0;32mand\u001b[0m \u001b[0mblock\u001b[0m\u001b[0;34m.\u001b[0m\u001b[0mshape\u001b[0m\u001b[0;34m[\u001b[0m\u001b[0;36m1\u001b[0m\u001b[0;34m:\u001b[0m\u001b[0;34m]\u001b[0m \u001b[0;34m!=\u001b[0m \u001b[0mmgr_shape\u001b[0m\u001b[0;34m[\u001b[0m\u001b[0;36m1\u001b[0m\u001b[0;34m:\u001b[0m\u001b[0;34m]\u001b[0m\u001b[0;34m:\u001b[0m\u001b[0;34m\u001b[0m\u001b[0;34m\u001b[0m\u001b[0m\n\u001b[0;32m--> 345\u001b[0;31m                 \u001b[0mconstruction_error\u001b[0m\u001b[0;34m(\u001b[0m\u001b[0mtot_items\u001b[0m\u001b[0;34m,\u001b[0m \u001b[0mblock\u001b[0m\u001b[0;34m.\u001b[0m\u001b[0mshape\u001b[0m\u001b[0;34m[\u001b[0m\u001b[0;36m1\u001b[0m\u001b[0;34m:\u001b[0m\u001b[0;34m]\u001b[0m\u001b[0;34m,\u001b[0m \u001b[0mself\u001b[0m\u001b[0;34m.\u001b[0m\u001b[0maxes\u001b[0m\u001b[0;34m)\u001b[0m\u001b[0;34m\u001b[0m\u001b[0;34m\u001b[0m\u001b[0m\n\u001b[0m\u001b[1;32m    346\u001b[0m         \u001b[0;32mif\u001b[0m \u001b[0mlen\u001b[0m\u001b[0;34m(\u001b[0m\u001b[0mself\u001b[0m\u001b[0;34m.\u001b[0m\u001b[0mitems\u001b[0m\u001b[0;34m)\u001b[0m \u001b[0;34m!=\u001b[0m \u001b[0mtot_items\u001b[0m\u001b[0;34m:\u001b[0m\u001b[0;34m\u001b[0m\u001b[0;34m\u001b[0m\u001b[0m\n\u001b[1;32m    347\u001b[0m             raise AssertionError(\n",
            "\u001b[0;32m/usr/local/lib/python3.6/dist-packages/pandas/core/internals/managers.py\u001b[0m in \u001b[0;36mconstruction_error\u001b[0;34m(tot_items, block_shape, axes, e)\u001b[0m\n\u001b[1;32m   1717\u001b[0m         \u001b[0;32mraise\u001b[0m \u001b[0mValueError\u001b[0m\u001b[0;34m(\u001b[0m\u001b[0;34m\"Empty data passed with indices specified.\"\u001b[0m\u001b[0;34m)\u001b[0m\u001b[0;34m\u001b[0m\u001b[0;34m\u001b[0m\u001b[0m\n\u001b[1;32m   1718\u001b[0m     raise ValueError(\n\u001b[0;32m-> 1719\u001b[0;31m         \u001b[0;34m\"Shape of passed values is {0}, indices imply {1}\"\u001b[0m\u001b[0;34m.\u001b[0m\u001b[0mformat\u001b[0m\u001b[0;34m(\u001b[0m\u001b[0mpassed\u001b[0m\u001b[0;34m,\u001b[0m \u001b[0mimplied\u001b[0m\u001b[0;34m)\u001b[0m\u001b[0;34m\u001b[0m\u001b[0;34m\u001b[0m\u001b[0m\n\u001b[0m\u001b[1;32m   1720\u001b[0m     )\n\u001b[1;32m   1721\u001b[0m \u001b[0;34m\u001b[0m\u001b[0m\n",
            "\u001b[0;31mValueError\u001b[0m: Shape of passed values is (4966076, 3), indices imply (2829385, 3)"
          ]
        }
      ]
    },
    {
      "cell_type": "code",
      "metadata": {
        "id": "X1vBEU9Lq21h",
        "colab_type": "code",
        "colab": {}
      },
      "source": [
        ""
      ],
      "execution_count": 0,
      "outputs": []
    }
  ]
}