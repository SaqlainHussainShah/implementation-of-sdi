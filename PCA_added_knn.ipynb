{
  "nbformat": 4,
  "nbformat_minor": 0,
  "metadata": {
    "colab": {
      "name": "PCA added.ipynb",
      "provenance": [],
      "collapsed_sections": [],
      "include_colab_link": true
    },
    "kernelspec": {
      "name": "python3",
      "display_name": "Python 3"
    },
    "accelerator": "GPU"
  },
  "cells": [
    {
      "cell_type": "markdown",
      "metadata": {
        "id": "view-in-github",
        "colab_type": "text"
      },
      "source": [
        "<a href=\"https://colab.research.google.com/github/SaqlainHussainShah/implementation-of-sdi/blob/master/PCA_added_knn.ipynb\" target=\"_parent\"><img src=\"https://colab.research.google.com/assets/colab-badge.svg\" alt=\"Open In Colab\"/></a>"
      ]
    },
    {
      "cell_type": "code",
      "metadata": {
        "id": "DPjrq9AOht31",
        "colab_type": "code",
        "colab": {}
      },
      "source": [
        "import pandas as pd\n",
        "import matplotlib.pyplot as plt\n",
        "import numpy as np\n",
        "import time\n",
        "from sklearn.metrics import accuracy_score"
      ],
      "execution_count": 0,
      "outputs": []
    },
    {
      "cell_type": "code",
      "metadata": {
        "id": "9oFnCm2TiDXp",
        "colab_type": "code",
        "outputId": "8ee4febf-8113-4303-f030-01806c2fb4f0",
        "colab": {
          "base_uri": "https://localhost:8080/",
          "height": 124
        }
      },
      "source": [
        "from google.colab import drive\n",
        "drive.mount('/content/drive')"
      ],
      "execution_count": 3,
      "outputs": [
        {
          "output_type": "stream",
          "text": [
            "Go to this URL in a browser: https://accounts.google.com/o/oauth2/auth?client_id=947318989803-6bn6qk8qdgf4n4g3pfee6491hc0brc4i.apps.googleusercontent.com&redirect_uri=urn%3aietf%3awg%3aoauth%3a2.0%3aoob&response_type=code&scope=email%20https%3a%2f%2fwww.googleapis.com%2fauth%2fdocs.test%20https%3a%2f%2fwww.googleapis.com%2fauth%2fdrive%20https%3a%2f%2fwww.googleapis.com%2fauth%2fdrive.photos.readonly%20https%3a%2f%2fwww.googleapis.com%2fauth%2fpeopleapi.readonly\n",
            "\n",
            "Enter your authorization code:\n",
            "··········\n",
            "Mounted at /content/drive\n"
          ],
          "name": "stdout"
        }
      ]
    },
    {
      "cell_type": "code",
      "metadata": {
        "id": "LHtcWLQUiEBA",
        "colab_type": "code",
        "outputId": "92e58da1-e0b4-4cb5-fea1-0829e9df06f0",
        "colab": {
          "base_uri": "https://localhost:8080/",
          "height": 34
        }
      },
      "source": [
        "len(df.columns)"
      ],
      "execution_count": 0,
      "outputs": [
        {
          "output_type": "execute_result",
          "data": {
            "text/plain": [
              "86"
            ]
          },
          "metadata": {
            "tags": []
          },
          "execution_count": 10
        }
      ]
    },
    {
      "cell_type": "code",
      "metadata": {
        "id": "C_QbUwVQjdou",
        "colab_type": "code",
        "outputId": "fcf62e63-1e77-4005-f434-9841479a1c6a",
        "colab": {
          "base_uri": "https://localhost:8080/",
          "height": 124
        }
      },
      "source": [
        "t1=time.time()\n",
        "df1=pd.read_csv(\"/content/drive/My Drive/Friday-WorkingHours-Afternoon-DDos.pcap_ISCX.csv\")\n",
        "df2=pd.read_csv(\"/content/drive/My Drive/Friday-WorkingHours-Afternoon-PortScan.pcap_ISCX.csv\")\n",
        "df3=pd.read_csv(\"/content/drive/My Drive/Friday-WorkingHours-Morning.pcap_ISCX.csv\")\n",
        "df4=pd.read_csv(\"/content/drive/My Drive/Monday-WorkingHours.pcap_ISCX.csv\")\n",
        "df5=pd.read_csv(\"/content/drive/My Drive/Thursday-WorkingHours-Afternoon-Infilteration.pcap_ISCX.csv\")\n",
        "df6=pd.read_csv(\"/content/drive/My Drive/Thursday-WorkingHours-Morning-WebAttacks.pcap_ISCX.csv\")\n",
        "df7=pd.read_csv(\"/content/drive/My Drive/Tuesday-WorkingHours.pcap_ISCX.csv\")\n",
        "df8=pd.read_csv(\"/content/drive/My Drive/Wednesday-workingHours.pcap_ISCX.csv\")\n",
        "t2=time.time()\n",
        "print(\" time = \" , (t2-t1)/60 , \" minutes \")"
      ],
      "execution_count": 2,
      "outputs": [
        {
          "output_type": "stream",
          "text": [
            "/usr/local/lib/python3.6/dist-packages/IPython/core/interactiveshell.py:2718: DtypeWarning: Columns (20,21) have mixed types. Specify dtype option on import or set low_memory=False.\n",
            "  interactivity=interactivity, compiler=compiler, result=result)\n",
            "/usr/local/lib/python3.6/dist-packages/IPython/core/interactiveshell.py:2718: DtypeWarning: Columns (20) have mixed types. Specify dtype option on import or set low_memory=False.\n",
            "  interactivity=interactivity, compiler=compiler, result=result)\n"
          ],
          "name": "stderr"
        },
        {
          "output_type": "stream",
          "text": [
            " time =  0.4679504553476969  minutes \n"
          ],
          "name": "stdout"
        }
      ]
    },
    {
      "cell_type": "code",
      "metadata": {
        "id": "UtVMTB7Jj9Cm",
        "colab_type": "code",
        "colab": {}
      },
      "source": [
        "pdList=[df1,df2,df3,df4,df5,df6,df7,df8]\n",
        "df = pd.concat(pdList)"
      ],
      "execution_count": 0,
      "outputs": []
    },
    {
      "cell_type": "code",
      "metadata": {
        "id": "oIWJAEjXoaQZ",
        "colab_type": "code",
        "colab": {}
      },
      "source": [
        "del pdList\n",
        "del df1\n",
        "del df2\n",
        "del df3\n",
        "del df4\n",
        "del df5\n",
        "del df6\n",
        "del df7\n",
        "del df8"
      ],
      "execution_count": 0,
      "outputs": []
    },
    {
      "cell_type": "code",
      "metadata": {
        "id": "zdmwlauAkBMM",
        "colab_type": "code",
        "outputId": "188f3a37-8871-4429-b58b-672da60b1276",
        "colab": {
          "base_uri": "https://localhost:8080/",
          "height": 141
        }
      },
      "source": [
        "df2=df[df.columns[7:-1]]\n",
        "df2[' Label']=df[' Label']\n",
        "df=df2\n",
        "df2=[]"
      ],
      "execution_count": 5,
      "outputs": [
        {
          "output_type": "stream",
          "text": [
            "/usr/local/lib/python3.6/dist-packages/ipykernel_launcher.py:2: SettingWithCopyWarning: \n",
            "A value is trying to be set on a copy of a slice from a DataFrame.\n",
            "Try using .loc[row_indexer,col_indexer] = value instead\n",
            "\n",
            "See the caveats in the documentation: http://pandas.pydata.org/pandas-docs/stable/user_guide/indexing.html#returning-a-view-versus-a-copy\n",
            "  \n"
          ],
          "name": "stderr"
        }
      ]
    },
    {
      "cell_type": "code",
      "metadata": {
        "id": "vv3oDJh60kJf",
        "colab_type": "code",
        "colab": {}
      },
      "source": [
        "del df2"
      ],
      "execution_count": 0,
      "outputs": []
    },
    {
      "cell_type": "markdown",
      "metadata": {
        "id": "TV30TEg2nzKz",
        "colab_type": "text"
      },
      "source": [
        "### Some required preprocessing"
      ]
    },
    {
      "cell_type": "code",
      "metadata": {
        "id": "qMvGD5fbnlD9",
        "colab_type": "code",
        "colab": {}
      },
      "source": [
        "df=df.dropna( axis=0, how='any')\n",
        "df=df.replace(',,', np.nan, inplace=False)\n",
        "df=df.drop(columns=[' Fwd Header Length.1'], axis=1, inplace=False)"
      ],
      "execution_count": 0,
      "outputs": []
    },
    {
      "cell_type": "code",
      "metadata": {
        "id": "NAOouvx9nnis",
        "colab_type": "code",
        "colab": {
          "base_uri": "https://localhost:8080/",
          "height": 486
        },
        "outputId": "f45283d2-67c4-43cf-8293-44b042c17a59"
      },
      "source": [
        "df.columns\n"
      ],
      "execution_count": 24,
      "outputs": [
        {
          "output_type": "execute_result",
          "data": {
            "text/plain": [
              "Index([' Flow Duration', ' Total Fwd Packets', ' Total Backward Packets',\n",
              "       'Total Length of Fwd Packets', ' Total Length of Bwd Packets',\n",
              "       ' Fwd Packet Length Max', ' Fwd Packet Length Min',\n",
              "       ' Fwd Packet Length Mean', ' Fwd Packet Length Std',\n",
              "       'Bwd Packet Length Max', ' Bwd Packet Length Min',\n",
              "       ' Bwd Packet Length Mean', ' Bwd Packet Length Std', 'Flow Bytes/s',\n",
              "       ' Flow Packets/s', ' Flow IAT Mean', ' Flow IAT Std', ' Flow IAT Max',\n",
              "       ' Flow IAT Min', 'Fwd IAT Total', ' Fwd IAT Mean', ' Fwd IAT Std',\n",
              "       ' Fwd IAT Max', ' Fwd IAT Min', 'Bwd IAT Total', ' Bwd IAT Mean',\n",
              "       ' Bwd IAT Std', ' Bwd IAT Max', ' Bwd IAT Min', 'Fwd PSH Flags',\n",
              "       ' Bwd PSH Flags', ' Fwd URG Flags', ' Bwd URG Flags',\n",
              "       ' Fwd Header Length', ' Bwd Header Length', 'Fwd Packets/s',\n",
              "       ' Bwd Packets/s', ' Min Packet Length', ' Max Packet Length',\n",
              "       ' Packet Length Mean', ' Packet Length Std', ' Packet Length Variance',\n",
              "       'FIN Flag Count', ' SYN Flag Count', ' RST Flag Count',\n",
              "       ' PSH Flag Count', ' ACK Flag Count', ' URG Flag Count',\n",
              "       ' CWE Flag Count', ' ECE Flag Count', ' Down/Up Ratio',\n",
              "       ' Average Packet Size', ' Avg Fwd Segment Size',\n",
              "       ' Avg Bwd Segment Size', 'Fwd Avg Bytes/Bulk', ' Fwd Avg Packets/Bulk',\n",
              "       ' Fwd Avg Bulk Rate', ' Bwd Avg Bytes/Bulk', ' Bwd Avg Packets/Bulk',\n",
              "       'Bwd Avg Bulk Rate', 'Subflow Fwd Packets', ' Subflow Fwd Bytes',\n",
              "       ' Subflow Bwd Packets', ' Subflow Bwd Bytes', 'Init_Win_bytes_forward',\n",
              "       ' Init_Win_bytes_backward', ' act_data_pkt_fwd',\n",
              "       ' min_seg_size_forward', 'Active Mean', ' Active Std', ' Active Max',\n",
              "       ' Active Min', 'Idle Mean', ' Idle Std', ' Idle Max', ' Idle Min',\n",
              "       ' Label'],\n",
              "      dtype='object')"
            ]
          },
          "metadata": {
            "tags": []
          },
          "execution_count": 24
        }
      ]
    },
    {
      "cell_type": "code",
      "metadata": {
        "id": "QwS2UIVUnpoP",
        "colab_type": "code",
        "colab": {}
      },
      "source": [
        "df.replace(\"Infinity\", 0, inplace=True)\n",
        "df['Flow Bytes/s'].replace(\"Infinity\", 0,inplace=True)\n",
        "df[\" Flow Packets/s\"].replace(\"Infinity\", 0, inplace=True)\n",
        "df[\" Flow Packets/s\"].replace(np.nan, 0, inplace=True)\n",
        "df['Flow Bytes/s'].replace(np.nan, 0,inplace=True)\n",
        "\n",
        "\n",
        "df[\"Bwd Avg Bulk Rate\"].replace(\"Infinity\", 0, inplace=True)\n",
        "df[\"Bwd Avg Bulk Rate\"].replace(\",,\", 0, inplace=True)\n",
        "df[\"Bwd Avg Bulk Rate\"].replace(np.nan, 0, inplace=True)\n",
        "\n",
        "df[\" Bwd Avg Packets/Bulk\"].replace(\"Infinity\", 0, inplace=True)\n",
        "df[\" Bwd Avg Packets/Bulk\"].replace(\",,\", 0, inplace=True)\n",
        "df[\" Bwd Avg Packets/Bulk\"].replace(np.nan, 0, inplace=True)\n",
        "\n",
        "\n",
        "df[\" Bwd Avg Bytes/Bulk\"].replace(\"Infinity\", 0, inplace=True)\n",
        "df[\" Bwd Avg Bytes/Bulk\"].replace(\",,\", 0, inplace=True)\n",
        "df[\" Bwd Avg Bytes/Bulk\"].replace(np.nan, 0, inplace=True)\n",
        "\n",
        "\n",
        "df[\" Fwd Avg Bulk Rate\"].replace(\"Infinity\", 0, inplace=True)\n",
        "df[\" Fwd Avg Bulk Rate\"].replace(\",,\", 0, inplace=True)\n",
        "df[\" Fwd Avg Bulk Rate\"].replace(np.nan, 0, inplace=True)\n",
        "\n",
        "\n",
        "df[\" Fwd Avg Packets/Bulk\"].replace(\"Infinity\", 0, inplace=True)\n",
        "df[\" Fwd Avg Packets/Bulk\"].replace(\",,\", 0, inplace=True)\n",
        "df[\" Fwd Avg Packets/Bulk\"].replace(np.nan, 0, inplace=True)\n",
        "\n",
        "\n",
        "df[\"Fwd Avg Bytes/Bulk\"].replace(\"Infinity\", 0, inplace=True)\n",
        "df[\"Fwd Avg Bytes/Bulk\"].replace(\",,\", 0, inplace=True)\n",
        "df[\"Fwd Avg Bytes/Bulk\"].replace(np.nan, 0, inplace=True)\n",
        "\n",
        "\n",
        "df[\" CWE Flag Count\"].replace(\"Infinity\", 0, inplace=True)\n",
        "df[\" CWE Flag Count\"].replace(\",,\", 0, inplace=True)\n",
        "df[\" CWE Flag Count\"].replace(np.nan, 0, inplace=True)\n",
        "\n",
        "df[\" Bwd URG Flags\"].replace(\"Infinity\", 0, inplace=True)\n",
        "df[\" Bwd URG Flags\"].replace(\",,\", 0, inplace=True)\n",
        "df[\" Bwd URG Flags\"].replace(np.nan, 0, inplace=True)\n",
        "\n",
        "df[\" Bwd PSH Flags\"].replace(\"Infinity\", 0, inplace=True)\n",
        "df[\" Bwd PSH Flags\"].replace(\",,\", 0, inplace=True)\n",
        "df[\" Bwd PSH Flags\"].replace(np.nan, 0, inplace=True)\n",
        "\n",
        "df[\" Fwd URG Flags\"].replace(\"Infinity\", 0, inplace=True)\n",
        "df[\" Fwd URG Flags\"].replace(\",,\", 0, inplace=True)\n",
        "df[\" Fwd URG Flags\"].replace(np.nan, 0, inplace=True)\n",
        "\n",
        "\n",
        "\n",
        "\n"
      ],
      "execution_count": 0,
      "outputs": []
    },
    {
      "cell_type": "code",
      "metadata": {
        "id": "TJty4s1ApYzF",
        "colab_type": "code",
        "colab": {}
      },
      "source": [
        "df[\"Flow Bytes/s\"]=df[\"Flow Bytes/s\"].astype(\"float64\")\n",
        "df[' Flow Packets/s']=df[\" Flow Packets/s\"].astype(\"float64\")\n",
        "\n",
        "\n"
      ],
      "execution_count": 0,
      "outputs": []
    },
    {
      "cell_type": "code",
      "metadata": {
        "id": "ENouncTXK2V5",
        "colab_type": "code",
        "colab": {}
      },
      "source": [
        "df['Bwd Avg Bulk Rate']=df[\"Bwd Avg Bulk Rate\"].astype(\"float64\")\n",
        "df[' Bwd Avg Packets/Bulk']=df[\" Bwd Avg Packets/Bulk\"].astype(\"float64\")\n",
        "df[' Bwd Avg Bytes/Bulk']=df[\" Bwd Avg Bytes/Bulk\"].astype(\"float64\")\n",
        "df[' Fwd Avg Bulk Rate']=df[\" Fwd Avg Bulk Rate\"].astype(\"float64\")\n",
        "df[' Fwd Avg Packets/Bulk']=df[\" Fwd Avg Packets/Bulk\"].astype(\"float64\")\n",
        "df['Fwd Avg Bytes/Bulk']=df[\"Fwd Avg Bytes/Bulk\"].astype(\"float64\")\n",
        "df[' CWE Flag Count']=df[\" CWE Flag Count\"].astype(\"float64\")\n",
        "df[' Bwd URG Flags']=df[\" Bwd URG Flags\"].astype(\"float64\")\n",
        "df[' Bwd PSH Flags']=df[\" Bwd PSH Flags\"].astype(\"float64\")\n",
        "df[' Fwd URG Flags']=df[\" Fwd URG Flags\"].astype(\"float64\")"
      ],
      "execution_count": 0,
      "outputs": []
    },
    {
      "cell_type": "code",
      "metadata": {
        "id": "8bd3-AJK9F-6",
        "colab_type": "code",
        "colab": {}
      },
      "source": [
        "# Bwd Avg Bulk Rate\n",
        "# Bwd Avg Packets/Bulk\n",
        "# Bwd Avg Bytes/Bulk\n",
        "# Fwd Avg Bulk Rate\n",
        "# Fwd Avg Packets/Bulk\n",
        "# Fwd Avg Bytes/Bulk\n",
        "# CWE Flag Count\n",
        "# Bwd URG Flags\n",
        "# Bwd PSH Flags \n",
        "# Fwd URG Flags\n"
      ],
      "execution_count": 0,
      "outputs": []
    },
    {
      "cell_type": "code",
      "metadata": {
        "id": "9TRO7pPKISa8",
        "colab_type": "code",
        "colab": {}
      },
      "source": [
        "pd.set_option('display.max_rows', df.shape[0])"
      ],
      "execution_count": 0,
      "outputs": []
    },
    {
      "cell_type": "code",
      "metadata": {
        "id": "EEud20cvIU7X",
        "colab_type": "code",
        "colab": {}
      },
      "source": [
        "df[['Bwd Avg Bulk Rate',' Bwd Avg Packets/Bulk',  ' Bwd Avg Bytes/Bulk',' Fwd Avg Bulk Rate',' Fwd Avg Packets/Bulk','Fwd Avg Bytes/Bulk', ' CWE Flag Count', ' Bwd URG Flags', ' Bwd PSH Flags', ' Fwd URG Flags']].head(1000)"
      ],
      "execution_count": 0,
      "outputs": []
    },
    {
      "cell_type": "code",
      "metadata": {
        "id": "xYTwCViOKjDX",
        "colab_type": "code",
        "colab": {}
      },
      "source": [
        "df[['Bwd Avg Bulk Rate',' Bwd Avg Packets/Bulk',  ' Bwd Avg Bytes/Bulk',' Fwd Avg Bulk Rate',' Fwd Avg Packets/Bulk','Fwd Avg Bytes/Bulk', ' CWE Flag Count', ' Bwd URG Flags', ' Bwd PSH Flags', ' Fwd URG Flags']].info()"
      ],
      "execution_count": 0,
      "outputs": []
    },
    {
      "cell_type": "code",
      "metadata": {
        "id": "RwNl_ePqpj8i",
        "colab_type": "code",
        "colab": {}
      },
      "source": [
        "X=df[df.columns[1:-1]]\n",
        "y=df[df.columns[-1]]\n"
      ],
      "execution_count": 0,
      "outputs": []
    },
    {
      "cell_type": "code",
      "metadata": {
        "id": "Bv-9eyimLSti",
        "colab_type": "code",
        "outputId": "899965d3-445c-44e0-bef0-b0bbb4ea683a",
        "colab": {
          "base_uri": "https://localhost:8080/",
          "height": 124
        }
      },
      "source": [
        "X.replace('Infinity',0.0, inplace=True)"
      ],
      "execution_count": 81,
      "outputs": [
        {
          "output_type": "stream",
          "text": [
            "/usr/local/lib/python3.6/dist-packages/pandas/core/frame.py:4278: SettingWithCopyWarning: \n",
            "A value is trying to be set on a copy of a slice from a DataFrame\n",
            "\n",
            "See the caveats in the documentation: http://pandas.pydata.org/pandas-docs/stable/user_guide/indexing.html#returning-a-view-versus-a-copy\n",
            "  method=method,\n"
          ],
          "name": "stderr"
        }
      ]
    },
    {
      "cell_type": "code",
      "metadata": {
        "id": "k-xx0r9J21-K",
        "colab_type": "code",
        "colab": {}
      },
      "source": [
        "del df"
      ],
      "execution_count": 0,
      "outputs": []
    },
    {
      "cell_type": "code",
      "metadata": {
        "id": "fJI7iqEGLhMN",
        "colab_type": "code",
        "outputId": "55de16d3-7621-4c61-acd0-f778c3da6e90",
        "colab": {
          "base_uri": "https://localhost:8080/",
          "height": 124
        }
      },
      "source": [
        "X.replace('NaN',0.0, inplace=True)"
      ],
      "execution_count": 82,
      "outputs": [
        {
          "output_type": "stream",
          "text": [
            "/usr/local/lib/python3.6/dist-packages/pandas/core/frame.py:4278: SettingWithCopyWarning: \n",
            "A value is trying to be set on a copy of a slice from a DataFrame\n",
            "\n",
            "See the caveats in the documentation: http://pandas.pydata.org/pandas-docs/stable/user_guide/indexing.html#returning-a-view-versus-a-copy\n",
            "  method=method,\n"
          ],
          "name": "stderr"
        }
      ]
    },
    {
      "cell_type": "markdown",
      "metadata": {
        "id": "9p5fnK0u11vl",
        "colab_type": "text"
      },
      "source": [
        "Z score"
      ]
    },
    {
      "cell_type": "code",
      "metadata": {
        "id": "Y1KXtSyeKSGo",
        "colab_type": "code",
        "colab": {}
      },
      "source": [
        "from scipy import stats"
      ],
      "execution_count": 0,
      "outputs": []
    },
    {
      "cell_type": "code",
      "metadata": {
        "id": "ksyCwg-aKSM6",
        "colab_type": "code",
        "colab": {
          "base_uri": "https://localhost:8080/",
          "height": 176
        },
        "outputId": "0dd23629-2701-4cbe-a9f6-52477e7938dd"
      },
      "source": [
        "cols = list(X.columns)\n",
        "for col in cols:\n",
        "    X[col] = stats.zscore(X[col])\n",
        "    "
      ],
      "execution_count": 93,
      "outputs": [
        {
          "output_type": "stream",
          "text": [
            "/usr/local/lib/python3.6/dist-packages/ipykernel_launcher.py:3: SettingWithCopyWarning: \n",
            "A value is trying to be set on a copy of a slice from a DataFrame.\n",
            "Try using .loc[row_indexer,col_indexer] = value instead\n",
            "\n",
            "See the caveats in the documentation: http://pandas.pydata.org/pandas-docs/stable/user_guide/indexing.html#returning-a-view-versus-a-copy\n",
            "  This is separate from the ipykernel package so we can avoid doing imports until\n",
            "/usr/local/lib/python3.6/dist-packages/scipy/stats/stats.py:2315: RuntimeWarning: invalid value encountered in true_divide\n",
            "  return (a - mns) / sstd\n"
          ],
          "name": "stderr"
        }
      ]
    },
    {
      "cell_type": "code",
      "metadata": {
        "id": "iYJKPPceLsOJ",
        "colab_type": "code",
        "colab": {
          "base_uri": "https://localhost:8080/",
          "height": 124
        },
        "outputId": "b5492692-9c32-4eaa-e2c7-3d5b905cdccf"
      },
      "source": [
        "X.replace(np.nan, 0, inplace=True)"
      ],
      "execution_count": 96,
      "outputs": [
        {
          "output_type": "stream",
          "text": [
            "/usr/local/lib/python3.6/dist-packages/pandas/core/frame.py:4278: SettingWithCopyWarning: \n",
            "A value is trying to be set on a copy of a slice from a DataFrame\n",
            "\n",
            "See the caveats in the documentation: http://pandas.pydata.org/pandas-docs/stable/user_guide/indexing.html#returning-a-view-versus-a-copy\n",
            "  method=method,\n"
          ],
          "name": "stderr"
        }
      ]
    },
    {
      "cell_type": "code",
      "metadata": {
        "id": "Epf1WRPMK8er",
        "colab_type": "code",
        "colab": {
          "base_uri": "https://localhost:8080/",
          "height": 278
        },
        "outputId": "89f972ca-50ca-430b-dd54-b7e608186f4a"
      },
      "source": [
        "X.head()"
      ],
      "execution_count": 97,
      "outputs": [
        {
          "output_type": "execute_result",
          "data": {
            "text/html": [
              "<div>\n",
              "<style scoped>\n",
              "    .dataframe tbody tr th:only-of-type {\n",
              "        vertical-align: middle;\n",
              "    }\n",
              "\n",
              "    .dataframe tbody tr th {\n",
              "        vertical-align: top;\n",
              "    }\n",
              "\n",
              "    .dataframe thead th {\n",
              "        text-align: right;\n",
              "    }\n",
              "</style>\n",
              "<table border=\"1\" class=\"dataframe\">\n",
              "  <thead>\n",
              "    <tr style=\"text-align: right;\">\n",
              "      <th></th>\n",
              "      <th>Total Fwd Packets</th>\n",
              "      <th>Total Backward Packets</th>\n",
              "      <th>Total Length of Fwd Packets</th>\n",
              "      <th>Total Length of Bwd Packets</th>\n",
              "      <th>Fwd Packet Length Max</th>\n",
              "      <th>Fwd Packet Length Min</th>\n",
              "      <th>Fwd Packet Length Mean</th>\n",
              "      <th>Fwd Packet Length Std</th>\n",
              "      <th>Bwd Packet Length Max</th>\n",
              "      <th>Bwd Packet Length Min</th>\n",
              "      <th>Bwd Packet Length Mean</th>\n",
              "      <th>Bwd Packet Length Std</th>\n",
              "      <th>Flow Bytes/s</th>\n",
              "      <th>Flow Packets/s</th>\n",
              "      <th>Flow IAT Mean</th>\n",
              "      <th>Flow IAT Std</th>\n",
              "      <th>Flow IAT Max</th>\n",
              "      <th>Flow IAT Min</th>\n",
              "      <th>Fwd IAT Total</th>\n",
              "      <th>Fwd IAT Mean</th>\n",
              "      <th>Fwd IAT Std</th>\n",
              "      <th>Fwd IAT Max</th>\n",
              "      <th>Fwd IAT Min</th>\n",
              "      <th>Bwd IAT Total</th>\n",
              "      <th>Bwd IAT Mean</th>\n",
              "      <th>Bwd IAT Std</th>\n",
              "      <th>Bwd IAT Max</th>\n",
              "      <th>Bwd IAT Min</th>\n",
              "      <th>Fwd PSH Flags</th>\n",
              "      <th>Bwd PSH Flags</th>\n",
              "      <th>Fwd URG Flags</th>\n",
              "      <th>Bwd URG Flags</th>\n",
              "      <th>Fwd Header Length</th>\n",
              "      <th>Bwd Header Length</th>\n",
              "      <th>Fwd Packets/s</th>\n",
              "      <th>Bwd Packets/s</th>\n",
              "      <th>Min Packet Length</th>\n",
              "      <th>Max Packet Length</th>\n",
              "      <th>Packet Length Mean</th>\n",
              "      <th>Packet Length Std</th>\n",
              "      <th>Packet Length Variance</th>\n",
              "      <th>FIN Flag Count</th>\n",
              "      <th>SYN Flag Count</th>\n",
              "      <th>RST Flag Count</th>\n",
              "      <th>PSH Flag Count</th>\n",
              "      <th>ACK Flag Count</th>\n",
              "      <th>URG Flag Count</th>\n",
              "      <th>CWE Flag Count</th>\n",
              "      <th>ECE Flag Count</th>\n",
              "      <th>Down/Up Ratio</th>\n",
              "      <th>Average Packet Size</th>\n",
              "      <th>Avg Fwd Segment Size</th>\n",
              "      <th>Avg Bwd Segment Size</th>\n",
              "      <th>Fwd Avg Bytes/Bulk</th>\n",
              "      <th>Fwd Avg Packets/Bulk</th>\n",
              "      <th>Fwd Avg Bulk Rate</th>\n",
              "      <th>Bwd Avg Bytes/Bulk</th>\n",
              "      <th>Bwd Avg Packets/Bulk</th>\n",
              "      <th>Bwd Avg Bulk Rate</th>\n",
              "      <th>Subflow Fwd Packets</th>\n",
              "      <th>Subflow Fwd Bytes</th>\n",
              "      <th>Subflow Bwd Packets</th>\n",
              "      <th>Subflow Bwd Bytes</th>\n",
              "      <th>Init_Win_bytes_forward</th>\n",
              "      <th>Init_Win_bytes_backward</th>\n",
              "      <th>act_data_pkt_fwd</th>\n",
              "      <th>min_seg_size_forward</th>\n",
              "      <th>Active Mean</th>\n",
              "      <th>Active Std</th>\n",
              "      <th>Active Max</th>\n",
              "      <th>Active Min</th>\n",
              "      <th>Idle Mean</th>\n",
              "      <th>Idle Std</th>\n",
              "      <th>Idle Max</th>\n",
              "      <th>Idle Min</th>\n",
              "    </tr>\n",
              "  </thead>\n",
              "  <tbody>\n",
              "    <tr>\n",
              "      <th>0</th>\n",
              "      <td>-0.008670</td>\n",
              "      <td>-0.009480</td>\n",
              "      <td>-0.099198</td>\n",
              "      <td>-0.006317</td>\n",
              "      <td>-0.243674</td>\n",
              "      <td>-0.181414</td>\n",
              "      <td>-0.251578</td>\n",
              "      <td>-0.209287</td>\n",
              "      <td>-0.398974</td>\n",
              "      <td>-0.579174</td>\n",
              "      <td>-0.456238</td>\n",
              "      <td>-0.351899</td>\n",
              "      <td>0.112697</td>\n",
              "      <td>2.978628</td>\n",
              "      <td>-0.240392</td>\n",
              "      <td>-0.303112</td>\n",
              "      <td>-0.324677</td>\n",
              "      <td>-0.055526</td>\n",
              "      <td>-0.358515</td>\n",
              "      <td>-0.215229</td>\n",
              "      <td>-0.287415</td>\n",
              "      <td>-0.310385</td>\n",
              "      <td>-0.118529</td>\n",
              "      <td>-0.306716</td>\n",
              "      <td>-0.17376</td>\n",
              "      <td>-0.227008</td>\n",
              "      <td>-0.249718</td>\n",
              "      <td>-0.112733</td>\n",
              "      <td>-0.220634</td>\n",
              "      <td>0.0</td>\n",
              "      <td>0.0</td>\n",
              "      <td>0.0</td>\n",
              "      <td>0.002376</td>\n",
              "      <td>0.002985</td>\n",
              "      <td>3.194851</td>\n",
              "      <td>-0.207258</td>\n",
              "      <td>-0.418424</td>\n",
              "      <td>-0.425196</td>\n",
              "      <td>-0.496094</td>\n",
              "      <td>-0.421853</td>\n",
              "      <td>-0.272789</td>\n",
              "      <td>-0.120773</td>\n",
              "      <td>-0.220634</td>\n",
              "      <td>-0.011673</td>\n",
              "      <td>-0.749598</td>\n",
              "      <td>1.552025</td>\n",
              "      <td>-0.339038</td>\n",
              "      <td>0.0</td>\n",
              "      <td>-0.011708</td>\n",
              "      <td>-0.974442</td>\n",
              "      <td>-0.500124</td>\n",
              "      <td>-0.251578</td>\n",
              "      <td>-0.456238</td>\n",
              "      <td>0.0</td>\n",
              "      <td>0.0</td>\n",
              "      <td>0.0</td>\n",
              "      <td>0.0</td>\n",
              "      <td>0.0</td>\n",
              "      <td>0.0</td>\n",
              "      <td>-0.008670</td>\n",
              "      <td>-0.099198</td>\n",
              "      <td>-0.009480</td>\n",
              "      <td>-0.006317</td>\n",
              "      <td>-0.532256</td>\n",
              "      <td>-0.238310</td>\n",
              "      <td>-0.006908</td>\n",
              "      <td>0.004303</td>\n",
              "      <td>-0.128172</td>\n",
              "      <td>-0.096105</td>\n",
              "      <td>-0.146664</td>\n",
              "      <td>-0.109277</td>\n",
              "      <td>-0.296674</td>\n",
              "      <td>-0.134087</td>\n",
              "      <td>-0.297116</td>\n",
              "      <td>-0.271677</td>\n",
              "    </tr>\n",
              "    <tr>\n",
              "      <th>1</th>\n",
              "      <td>-0.010045</td>\n",
              "      <td>-0.008443</td>\n",
              "      <td>-0.100308</td>\n",
              "      <td>-0.006314</td>\n",
              "      <td>-0.243674</td>\n",
              "      <td>-0.181414</td>\n",
              "      <td>-0.251578</td>\n",
              "      <td>-0.209287</td>\n",
              "      <td>-0.395905</td>\n",
              "      <td>-0.492648</td>\n",
              "      <td>-0.446370</td>\n",
              "      <td>-0.351899</td>\n",
              "      <td>-0.051702</td>\n",
              "      <td>-0.171903</td>\n",
              "      <td>-0.240366</td>\n",
              "      <td>-0.303112</td>\n",
              "      <td>-0.324671</td>\n",
              "      <td>-0.055487</td>\n",
              "      <td>-0.358515</td>\n",
              "      <td>-0.215229</td>\n",
              "      <td>-0.287415</td>\n",
              "      <td>-0.310386</td>\n",
              "      <td>-0.118529</td>\n",
              "      <td>-0.306716</td>\n",
              "      <td>-0.17376</td>\n",
              "      <td>-0.227008</td>\n",
              "      <td>-0.249718</td>\n",
              "      <td>-0.112733</td>\n",
              "      <td>-0.220634</td>\n",
              "      <td>0.0</td>\n",
              "      <td>0.0</td>\n",
              "      <td>0.0</td>\n",
              "      <td>0.002368</td>\n",
              "      <td>0.003034</td>\n",
              "      <td>-0.185028</td>\n",
              "      <td>0.012556</td>\n",
              "      <td>-0.418424</td>\n",
              "      <td>-0.425196</td>\n",
              "      <td>-0.496094</td>\n",
              "      <td>-0.421853</td>\n",
              "      <td>-0.272789</td>\n",
              "      <td>-0.120773</td>\n",
              "      <td>-0.220634</td>\n",
              "      <td>-0.011673</td>\n",
              "      <td>-0.749598</td>\n",
              "      <td>1.552025</td>\n",
              "      <td>2.949521</td>\n",
              "      <td>0.0</td>\n",
              "      <td>-0.011708</td>\n",
              "      <td>0.301917</td>\n",
              "      <td>-0.500124</td>\n",
              "      <td>-0.251578</td>\n",
              "      <td>-0.446370</td>\n",
              "      <td>0.0</td>\n",
              "      <td>0.0</td>\n",
              "      <td>0.0</td>\n",
              "      <td>0.0</td>\n",
              "      <td>0.0</td>\n",
              "      <td>0.0</td>\n",
              "      <td>-0.010045</td>\n",
              "      <td>-0.100308</td>\n",
              "      <td>-0.008443</td>\n",
              "      <td>-0.006314</td>\n",
              "      <td>-0.532516</td>\n",
              "      <td>-0.208033</td>\n",
              "      <td>-0.008349</td>\n",
              "      <td>0.004303</td>\n",
              "      <td>-0.128172</td>\n",
              "      <td>-0.096105</td>\n",
              "      <td>-0.146664</td>\n",
              "      <td>-0.109277</td>\n",
              "      <td>-0.296674</td>\n",
              "      <td>-0.134087</td>\n",
              "      <td>-0.297116</td>\n",
              "      <td>-0.271677</td>\n",
              "    </tr>\n",
              "    <tr>\n",
              "      <th>2</th>\n",
              "      <td>-0.010045</td>\n",
              "      <td>-0.008443</td>\n",
              "      <td>-0.100308</td>\n",
              "      <td>-0.006314</td>\n",
              "      <td>-0.243674</td>\n",
              "      <td>-0.181414</td>\n",
              "      <td>-0.251578</td>\n",
              "      <td>-0.209287</td>\n",
              "      <td>-0.395905</td>\n",
              "      <td>-0.492648</td>\n",
              "      <td>-0.446370</td>\n",
              "      <td>-0.351899</td>\n",
              "      <td>-0.046601</td>\n",
              "      <td>-0.074164</td>\n",
              "      <td>-0.240380</td>\n",
              "      <td>-0.303112</td>\n",
              "      <td>-0.324674</td>\n",
              "      <td>-0.055508</td>\n",
              "      <td>-0.358515</td>\n",
              "      <td>-0.215229</td>\n",
              "      <td>-0.287415</td>\n",
              "      <td>-0.310386</td>\n",
              "      <td>-0.118529</td>\n",
              "      <td>-0.306716</td>\n",
              "      <td>-0.17376</td>\n",
              "      <td>-0.227008</td>\n",
              "      <td>-0.249718</td>\n",
              "      <td>-0.112733</td>\n",
              "      <td>-0.220634</td>\n",
              "      <td>0.0</td>\n",
              "      <td>0.0</td>\n",
              "      <td>0.0</td>\n",
              "      <td>0.002368</td>\n",
              "      <td>0.003034</td>\n",
              "      <td>-0.133332</td>\n",
              "      <td>0.253506</td>\n",
              "      <td>-0.418424</td>\n",
              "      <td>-0.425196</td>\n",
              "      <td>-0.496094</td>\n",
              "      <td>-0.421853</td>\n",
              "      <td>-0.272789</td>\n",
              "      <td>-0.120773</td>\n",
              "      <td>-0.220634</td>\n",
              "      <td>-0.011673</td>\n",
              "      <td>-0.749598</td>\n",
              "      <td>1.552025</td>\n",
              "      <td>2.949521</td>\n",
              "      <td>0.0</td>\n",
              "      <td>-0.011708</td>\n",
              "      <td>0.301917</td>\n",
              "      <td>-0.500124</td>\n",
              "      <td>-0.251578</td>\n",
              "      <td>-0.446370</td>\n",
              "      <td>0.0</td>\n",
              "      <td>0.0</td>\n",
              "      <td>0.0</td>\n",
              "      <td>0.0</td>\n",
              "      <td>0.0</td>\n",
              "      <td>0.0</td>\n",
              "      <td>-0.010045</td>\n",
              "      <td>-0.100308</td>\n",
              "      <td>-0.008443</td>\n",
              "      <td>-0.006314</td>\n",
              "      <td>-0.532516</td>\n",
              "      <td>-0.208033</td>\n",
              "      <td>-0.008349</td>\n",
              "      <td>0.004303</td>\n",
              "      <td>-0.128172</td>\n",
              "      <td>-0.096105</td>\n",
              "      <td>-0.146664</td>\n",
              "      <td>-0.109277</td>\n",
              "      <td>-0.296674</td>\n",
              "      <td>-0.134087</td>\n",
              "      <td>-0.297116</td>\n",
              "      <td>-0.271677</td>\n",
              "    </tr>\n",
              "    <tr>\n",
              "      <th>3</th>\n",
              "      <td>-0.010045</td>\n",
              "      <td>-0.008443</td>\n",
              "      <td>-0.100308</td>\n",
              "      <td>-0.006314</td>\n",
              "      <td>-0.243674</td>\n",
              "      <td>-0.181414</td>\n",
              "      <td>-0.251578</td>\n",
              "      <td>-0.209287</td>\n",
              "      <td>-0.395905</td>\n",
              "      <td>-0.492648</td>\n",
              "      <td>-0.446370</td>\n",
              "      <td>-0.351899</td>\n",
              "      <td>-0.041438</td>\n",
              "      <td>0.024786</td>\n",
              "      <td>-0.240385</td>\n",
              "      <td>-0.303112</td>\n",
              "      <td>-0.324675</td>\n",
              "      <td>-0.055515</td>\n",
              "      <td>-0.358515</td>\n",
              "      <td>-0.215229</td>\n",
              "      <td>-0.287415</td>\n",
              "      <td>-0.310386</td>\n",
              "      <td>-0.118529</td>\n",
              "      <td>-0.306716</td>\n",
              "      <td>-0.17376</td>\n",
              "      <td>-0.227008</td>\n",
              "      <td>-0.249718</td>\n",
              "      <td>-0.112733</td>\n",
              "      <td>-0.220634</td>\n",
              "      <td>0.0</td>\n",
              "      <td>0.0</td>\n",
              "      <td>0.0</td>\n",
              "      <td>0.002368</td>\n",
              "      <td>0.003034</td>\n",
              "      <td>-0.080996</td>\n",
              "      <td>0.497440</td>\n",
              "      <td>-0.418424</td>\n",
              "      <td>-0.425196</td>\n",
              "      <td>-0.496094</td>\n",
              "      <td>-0.421853</td>\n",
              "      <td>-0.272789</td>\n",
              "      <td>-0.120773</td>\n",
              "      <td>-0.220634</td>\n",
              "      <td>-0.011673</td>\n",
              "      <td>-0.749598</td>\n",
              "      <td>1.552025</td>\n",
              "      <td>2.949521</td>\n",
              "      <td>0.0</td>\n",
              "      <td>-0.011708</td>\n",
              "      <td>0.301917</td>\n",
              "      <td>-0.500124</td>\n",
              "      <td>-0.251578</td>\n",
              "      <td>-0.446370</td>\n",
              "      <td>0.0</td>\n",
              "      <td>0.0</td>\n",
              "      <td>0.0</td>\n",
              "      <td>0.0</td>\n",
              "      <td>0.0</td>\n",
              "      <td>0.0</td>\n",
              "      <td>-0.010045</td>\n",
              "      <td>-0.100308</td>\n",
              "      <td>-0.008443</td>\n",
              "      <td>-0.006314</td>\n",
              "      <td>-0.532386</td>\n",
              "      <td>-0.199432</td>\n",
              "      <td>-0.008349</td>\n",
              "      <td>0.004303</td>\n",
              "      <td>-0.128172</td>\n",
              "      <td>-0.096105</td>\n",
              "      <td>-0.146664</td>\n",
              "      <td>-0.109277</td>\n",
              "      <td>-0.296674</td>\n",
              "      <td>-0.134087</td>\n",
              "      <td>-0.297116</td>\n",
              "      <td>-0.271677</td>\n",
              "    </tr>\n",
              "    <tr>\n",
              "      <th>4</th>\n",
              "      <td>-0.008670</td>\n",
              "      <td>-0.009480</td>\n",
              "      <td>-0.099198</td>\n",
              "      <td>-0.006317</td>\n",
              "      <td>-0.243674</td>\n",
              "      <td>-0.181414</td>\n",
              "      <td>-0.251578</td>\n",
              "      <td>-0.209287</td>\n",
              "      <td>-0.398974</td>\n",
              "      <td>-0.579174</td>\n",
              "      <td>-0.456238</td>\n",
              "      <td>-0.351899</td>\n",
              "      <td>0.112697</td>\n",
              "      <td>2.978628</td>\n",
              "      <td>-0.240392</td>\n",
              "      <td>-0.303112</td>\n",
              "      <td>-0.324677</td>\n",
              "      <td>-0.055526</td>\n",
              "      <td>-0.358515</td>\n",
              "      <td>-0.215229</td>\n",
              "      <td>-0.287415</td>\n",
              "      <td>-0.310385</td>\n",
              "      <td>-0.118529</td>\n",
              "      <td>-0.306716</td>\n",
              "      <td>-0.17376</td>\n",
              "      <td>-0.227008</td>\n",
              "      <td>-0.249718</td>\n",
              "      <td>-0.112733</td>\n",
              "      <td>-0.220634</td>\n",
              "      <td>0.0</td>\n",
              "      <td>0.0</td>\n",
              "      <td>0.0</td>\n",
              "      <td>0.002376</td>\n",
              "      <td>0.002985</td>\n",
              "      <td>3.194851</td>\n",
              "      <td>-0.207258</td>\n",
              "      <td>-0.418424</td>\n",
              "      <td>-0.425196</td>\n",
              "      <td>-0.496094</td>\n",
              "      <td>-0.421853</td>\n",
              "      <td>-0.272789</td>\n",
              "      <td>-0.120773</td>\n",
              "      <td>-0.220634</td>\n",
              "      <td>-0.011673</td>\n",
              "      <td>-0.749598</td>\n",
              "      <td>1.552025</td>\n",
              "      <td>-0.339038</td>\n",
              "      <td>0.0</td>\n",
              "      <td>-0.011708</td>\n",
              "      <td>-0.974442</td>\n",
              "      <td>-0.500124</td>\n",
              "      <td>-0.251578</td>\n",
              "      <td>-0.456238</td>\n",
              "      <td>0.0</td>\n",
              "      <td>0.0</td>\n",
              "      <td>0.0</td>\n",
              "      <td>0.0</td>\n",
              "      <td>0.0</td>\n",
              "      <td>0.0</td>\n",
              "      <td>-0.008670</td>\n",
              "      <td>-0.099198</td>\n",
              "      <td>-0.009480</td>\n",
              "      <td>-0.006317</td>\n",
              "      <td>-0.532321</td>\n",
              "      <td>-0.238310</td>\n",
              "      <td>-0.006908</td>\n",
              "      <td>0.004303</td>\n",
              "      <td>-0.128172</td>\n",
              "      <td>-0.096105</td>\n",
              "      <td>-0.146664</td>\n",
              "      <td>-0.109277</td>\n",
              "      <td>-0.296674</td>\n",
              "      <td>-0.134087</td>\n",
              "      <td>-0.297116</td>\n",
              "      <td>-0.271677</td>\n",
              "    </tr>\n",
              "  </tbody>\n",
              "</table>\n",
              "</div>"
            ],
            "text/plain": [
              "    Total Fwd Packets   Total Backward Packets  ...   Idle Max   Idle Min\n",
              "0           -0.008670                -0.009480  ...  -0.297116  -0.271677\n",
              "1           -0.010045                -0.008443  ...  -0.297116  -0.271677\n",
              "2           -0.010045                -0.008443  ...  -0.297116  -0.271677\n",
              "3           -0.010045                -0.008443  ...  -0.297116  -0.271677\n",
              "4           -0.008670                -0.009480  ...  -0.297116  -0.271677\n",
              "\n",
              "[5 rows x 75 columns]"
            ]
          },
          "metadata": {
            "tags": []
          },
          "execution_count": 97
        }
      ]
    },
    {
      "cell_type": "code",
      "metadata": {
        "id": "spr151a2K_y3",
        "colab_type": "code",
        "outputId": "ebdbbaf1-5b78-4250-d22b-79c6677eb138",
        "colab": {
          "base_uri": "https://localhost:8080/",
          "height": 1000
        }
      },
      "source": [
        "X.info()"
      ],
      "execution_count": 0,
      "outputs": [
        {
          "output_type": "stream",
          "text": [
            "<class 'pandas.core.frame.DataFrame'>\n",
            "Int64Index: 1233052 entries, 0 to 529917\n",
            "Data columns (total 75 columns):\n",
            " Total Fwd Packets              1233052 non-null float64\n",
            " Total Backward Packets         1233052 non-null float64\n",
            "Total Length of Fwd Packets     1233052 non-null float64\n",
            " Total Length of Bwd Packets    1233052 non-null float64\n",
            " Fwd Packet Length Max          1233052 non-null float64\n",
            " Fwd Packet Length Min          1233052 non-null float64\n",
            " Fwd Packet Length Mean         1233052 non-null float64\n",
            " Fwd Packet Length Std          1233052 non-null float64\n",
            "Bwd Packet Length Max           1233052 non-null float64\n",
            " Bwd Packet Length Min          1233052 non-null float64\n",
            " Bwd Packet Length Mean         1233052 non-null float64\n",
            " Bwd Packet Length Std          1233052 non-null float64\n",
            "Flow Bytes/s                    1233052 non-null float64\n",
            " Flow Packets/s                 1233052 non-null float64\n",
            " Flow IAT Mean                  1233052 non-null float64\n",
            " Flow IAT Std                   1233052 non-null float64\n",
            " Flow IAT Max                   1233052 non-null float64\n",
            " Flow IAT Min                   1233052 non-null float64\n",
            "Fwd IAT Total                   1233052 non-null float64\n",
            " Fwd IAT Mean                   1233052 non-null float64\n",
            " Fwd IAT Std                    1233052 non-null float64\n",
            " Fwd IAT Max                    1233052 non-null float64\n",
            " Fwd IAT Min                    1233052 non-null float64\n",
            "Bwd IAT Total                   1233052 non-null float64\n",
            " Bwd IAT Mean                   1233052 non-null float64\n",
            " Bwd IAT Std                    1233052 non-null float64\n",
            " Bwd IAT Max                    1233052 non-null float64\n",
            " Bwd IAT Min                    1233052 non-null float64\n",
            "Fwd PSH Flags                   1233052 non-null float64\n",
            " Bwd PSH Flags                  0 non-null float64\n",
            " Fwd URG Flags                  0 non-null float64\n",
            " Bwd URG Flags                  0 non-null float64\n",
            " Fwd Header Length              1233052 non-null float64\n",
            " Bwd Header Length              1233052 non-null float64\n",
            "Fwd Packets/s                   1233052 non-null float64\n",
            " Bwd Packets/s                  1233052 non-null float64\n",
            " Min Packet Length              1233052 non-null float64\n",
            " Max Packet Length              1233052 non-null float64\n",
            " Packet Length Mean             1233052 non-null float64\n",
            " Packet Length Std              1233052 non-null float64\n",
            " Packet Length Variance         1233052 non-null float64\n",
            "FIN Flag Count                  1233052 non-null float64\n",
            " SYN Flag Count                 1233052 non-null float64\n",
            " RST Flag Count                 1233052 non-null float64\n",
            " PSH Flag Count                 1233052 non-null float64\n",
            " ACK Flag Count                 1233052 non-null float64\n",
            " URG Flag Count                 1233052 non-null float64\n",
            " CWE Flag Count                 0 non-null float64\n",
            " ECE Flag Count                 1233052 non-null float64\n",
            " Down/Up Ratio                  1233052 non-null float64\n",
            " Average Packet Size            1233052 non-null float64\n",
            " Avg Fwd Segment Size           1233052 non-null float64\n",
            " Avg Bwd Segment Size           1233052 non-null float64\n",
            "Fwd Avg Bytes/Bulk              0 non-null float64\n",
            " Fwd Avg Packets/Bulk           0 non-null float64\n",
            " Fwd Avg Bulk Rate              0 non-null float64\n",
            " Bwd Avg Bytes/Bulk             0 non-null float64\n",
            " Bwd Avg Packets/Bulk           0 non-null float64\n",
            "Bwd Avg Bulk Rate               0 non-null float64\n",
            "Subflow Fwd Packets             1233052 non-null float64\n",
            " Subflow Fwd Bytes              1233052 non-null float64\n",
            " Subflow Bwd Packets            1233052 non-null float64\n",
            " Subflow Bwd Bytes              1233052 non-null float64\n",
            "Init_Win_bytes_forward          1233052 non-null float64\n",
            " Init_Win_bytes_backward        1233052 non-null float64\n",
            " act_data_pkt_fwd               1233052 non-null float64\n",
            " min_seg_size_forward           1233052 non-null float64\n",
            "Active Mean                     1233052 non-null float64\n",
            " Active Std                     1233052 non-null float64\n",
            " Active Max                     1233052 non-null float64\n",
            " Active Min                     1233052 non-null float64\n",
            "Idle Mean                       1233052 non-null float64\n",
            " Idle Std                       1233052 non-null float64\n",
            " Idle Max                       1233052 non-null float64\n",
            " Idle Min                       1233052 non-null float64\n",
            "dtypes: float64(75)\n",
            "memory usage: 715.0 MB\n"
          ],
          "name": "stdout"
        }
      ]
    },
    {
      "cell_type": "code",
      "metadata": {
        "id": "toMOM6dL5R35",
        "colab_type": "code",
        "colab": {}
      },
      "source": [
        "column_names=X.columns"
      ],
      "execution_count": 0,
      "outputs": []
    },
    {
      "cell_type": "code",
      "metadata": {
        "id": "IW9k571RpdK7",
        "colab_type": "code",
        "colab": {}
      },
      "source": [
        "del df1,df2,df3,df4,df5,df6,df7,df8,df"
      ],
      "execution_count": 0,
      "outputs": []
    },
    {
      "cell_type": "markdown",
      "metadata": {
        "id": "NzI17l7P490g",
        "colab_type": "text"
      },
      "source": [
        "standard scalar"
      ]
    },
    {
      "cell_type": "code",
      "metadata": {
        "id": "lbQkySZMp1Nz",
        "colab_type": "code",
        "colab": {}
      },
      "source": [
        "from sklearn.preprocessing import StandardScaler\n",
        "X = StandardScaler().fit_transform(X)"
      ],
      "execution_count": 0,
      "outputs": []
    },
    {
      "cell_type": "code",
      "metadata": {
        "id": "DsbZGoWdKQ-9",
        "colab_type": "code",
        "colab": {}
      },
      "source": [
        "X2=X.values\n"
      ],
      "execution_count": 0,
      "outputs": []
    },
    {
      "cell_type": "code",
      "metadata": {
        "id": "slvQ2QK3JuTg",
        "colab_type": "code",
        "colab": {}
      },
      "source": [
        "X=X.tolist()"
      ],
      "execution_count": 0,
      "outputs": []
    },
    {
      "cell_type": "code",
      "metadata": {
        "id": "ynmpR8-eJ6b5",
        "colab_type": "code",
        "outputId": "07d84162-13a9-4a5e-8248-d6fb6497b888",
        "colab": {
          "base_uri": "https://localhost:8080/",
          "height": 35
        }
      },
      "source": [
        ""
      ],
      "execution_count": 0,
      "outputs": [
        {
          "output_type": "execute_result",
          "data": {
            "text/plain": [
              "'Total Length of Fwd Packets'"
            ]
          },
          "metadata": {
            "tags": []
          },
          "execution_count": 17
        }
      ]
    },
    {
      "cell_type": "code",
      "metadata": {
        "id": "yFuMjjju8-68",
        "colab_type": "code",
        "colab": {}
      },
      "source": [
        "from sklearn.decomposition import PCA\n",
        "pca = PCA(n_components=20)\n",
        "principalComponents = pca.fit_transform(X)\n",
        "principalDf = pd.DataFrame(data = principalComponents, columns = ['Feature 1', 'Feature 2','Feature 3', 'Feature 4',\n",
        "                                                                  'Feature 5', 'Feature 6', 'Feature 7', 'Feature 8',\n",
        "                                                                  'Feature 9', 'Feature 10','Feature 11', 'Feature 12',\n",
        "                                                                  'Feature 13', 'Feature 14','Feature 15', 'Feature 16',\n",
        "                                                                  'Feature 17', 'Feature 18','Feature 19', 'Feature 20'])"
      ],
      "execution_count": 0,
      "outputs": []
    },
    {
      "cell_type": "code",
      "metadata": {
        "id": "808FrafsBLpM",
        "colab_type": "code",
        "colab": {}
      },
      "source": [
        "b=y.values"
      ],
      "execution_count": 0,
      "outputs": []
    },
    {
      "cell_type": "code",
      "metadata": {
        "id": "Wf0NcJSYD1xI",
        "colab_type": "code",
        "colab": {
          "base_uri": "https://localhost:8080/",
          "height": 243
        },
        "outputId": "473c1031-c93d-4122-8b3b-dd689b6bf07a"
      },
      "source": [
        "principalDf.head()"
      ],
      "execution_count": 16,
      "outputs": [
        {
          "output_type": "execute_result",
          "data": {
            "text/html": [
              "<div>\n",
              "<style scoped>\n",
              "    .dataframe tbody tr th:only-of-type {\n",
              "        vertical-align: middle;\n",
              "    }\n",
              "\n",
              "    .dataframe tbody tr th {\n",
              "        vertical-align: top;\n",
              "    }\n",
              "\n",
              "    .dataframe thead th {\n",
              "        text-align: right;\n",
              "    }\n",
              "</style>\n",
              "<table border=\"1\" class=\"dataframe\">\n",
              "  <thead>\n",
              "    <tr style=\"text-align: right;\">\n",
              "      <th></th>\n",
              "      <th>Feature 1</th>\n",
              "      <th>Feature 2</th>\n",
              "      <th>Feature 3</th>\n",
              "      <th>Feature 4</th>\n",
              "      <th>Feature 5</th>\n",
              "      <th>Feature 6</th>\n",
              "      <th>Feature 7</th>\n",
              "      <th>Feature 8</th>\n",
              "      <th>Feature 9</th>\n",
              "      <th>Feature 10</th>\n",
              "      <th>Feature 11</th>\n",
              "      <th>Feature 12</th>\n",
              "      <th>Feature 13</th>\n",
              "      <th>Feature 14</th>\n",
              "      <th>Feature 15</th>\n",
              "      <th>Feature 16</th>\n",
              "      <th>Feature 17</th>\n",
              "      <th>Feature 18</th>\n",
              "      <th>Feature 19</th>\n",
              "      <th>Feature 20</th>\n",
              "    </tr>\n",
              "  </thead>\n",
              "  <tbody>\n",
              "    <tr>\n",
              "      <th>0</th>\n",
              "      <td>-2.007978</td>\n",
              "      <td>-0.048536</td>\n",
              "      <td>0.381732</td>\n",
              "      <td>-0.411502</td>\n",
              "      <td>-2.782250</td>\n",
              "      <td>-0.388717</td>\n",
              "      <td>0.096619</td>\n",
              "      <td>0.106757</td>\n",
              "      <td>-0.276215</td>\n",
              "      <td>0.011843</td>\n",
              "      <td>-1.004777</td>\n",
              "      <td>0.040383</td>\n",
              "      <td>1.861096</td>\n",
              "      <td>-0.110159</td>\n",
              "      <td>-0.914639</td>\n",
              "      <td>-0.259214</td>\n",
              "      <td>-0.499655</td>\n",
              "      <td>-0.566353</td>\n",
              "      <td>0.412945</td>\n",
              "      <td>-0.023540</td>\n",
              "    </tr>\n",
              "    <tr>\n",
              "      <th>1</th>\n",
              "      <td>-1.947449</td>\n",
              "      <td>-0.043319</td>\n",
              "      <td>0.361271</td>\n",
              "      <td>-0.235507</td>\n",
              "      <td>-0.895912</td>\n",
              "      <td>-0.324907</td>\n",
              "      <td>0.390253</td>\n",
              "      <td>-0.571040</td>\n",
              "      <td>-0.501670</td>\n",
              "      <td>-0.080605</td>\n",
              "      <td>2.424204</td>\n",
              "      <td>-0.063486</td>\n",
              "      <td>0.617835</td>\n",
              "      <td>-0.399815</td>\n",
              "      <td>1.410953</td>\n",
              "      <td>0.000302</td>\n",
              "      <td>-0.240616</td>\n",
              "      <td>-0.574096</td>\n",
              "      <td>0.348018</td>\n",
              "      <td>-0.005799</td>\n",
              "    </tr>\n",
              "    <tr>\n",
              "      <th>2</th>\n",
              "      <td>-1.958919</td>\n",
              "      <td>-0.043596</td>\n",
              "      <td>0.365268</td>\n",
              "      <td>-0.238824</td>\n",
              "      <td>-0.960378</td>\n",
              "      <td>-0.337162</td>\n",
              "      <td>0.388128</td>\n",
              "      <td>-0.570150</td>\n",
              "      <td>-0.508549</td>\n",
              "      <td>-0.082749</td>\n",
              "      <td>2.388953</td>\n",
              "      <td>-0.061799</td>\n",
              "      <td>0.735704</td>\n",
              "      <td>-0.438928</td>\n",
              "      <td>1.459495</td>\n",
              "      <td>0.048002</td>\n",
              "      <td>-0.252607</td>\n",
              "      <td>-0.468320</td>\n",
              "      <td>0.214143</td>\n",
              "      <td>0.011553</td>\n",
              "    </tr>\n",
              "    <tr>\n",
              "      <th>3</th>\n",
              "      <td>-1.970648</td>\n",
              "      <td>-0.043852</td>\n",
              "      <td>0.369262</td>\n",
              "      <td>-0.241907</td>\n",
              "      <td>-1.026104</td>\n",
              "      <td>-0.348951</td>\n",
              "      <td>0.385314</td>\n",
              "      <td>-0.570398</td>\n",
              "      <td>-0.515847</td>\n",
              "      <td>-0.085077</td>\n",
              "      <td>2.354946</td>\n",
              "      <td>-0.060110</td>\n",
              "      <td>0.855401</td>\n",
              "      <td>-0.478853</td>\n",
              "      <td>1.509915</td>\n",
              "      <td>0.095913</td>\n",
              "      <td>-0.264295</td>\n",
              "      <td>-0.359042</td>\n",
              "      <td>0.081305</td>\n",
              "      <td>0.028487</td>\n",
              "    </tr>\n",
              "    <tr>\n",
              "      <th>4</th>\n",
              "      <td>-2.007979</td>\n",
              "      <td>-0.048537</td>\n",
              "      <td>0.381737</td>\n",
              "      <td>-0.411507</td>\n",
              "      <td>-2.782248</td>\n",
              "      <td>-0.388731</td>\n",
              "      <td>0.096640</td>\n",
              "      <td>0.106768</td>\n",
              "      <td>-0.276217</td>\n",
              "      <td>0.011845</td>\n",
              "      <td>-1.004774</td>\n",
              "      <td>0.040382</td>\n",
              "      <td>1.861105</td>\n",
              "      <td>-0.110159</td>\n",
              "      <td>-0.914634</td>\n",
              "      <td>-0.259220</td>\n",
              "      <td>-0.499662</td>\n",
              "      <td>-0.566371</td>\n",
              "      <td>0.412952</td>\n",
              "      <td>-0.023540</td>\n",
              "    </tr>\n",
              "  </tbody>\n",
              "</table>\n",
              "</div>"
            ],
            "text/plain": [
              "   Feature 1  Feature 2  Feature 3  ...  Feature 18  Feature 19  Feature 20\n",
              "0  -2.007978  -0.048536   0.381732  ...   -0.566353    0.412945   -0.023540\n",
              "1  -1.947449  -0.043319   0.361271  ...   -0.574096    0.348018   -0.005799\n",
              "2  -1.958919  -0.043596   0.365268  ...   -0.468320    0.214143    0.011553\n",
              "3  -1.970648  -0.043852   0.369262  ...   -0.359042    0.081305    0.028487\n",
              "4  -2.007979  -0.048537   0.381737  ...   -0.566371    0.412952   -0.023540\n",
              "\n",
              "[5 rows x 20 columns]"
            ]
          },
          "metadata": {
            "tags": []
          },
          "execution_count": 16
        }
      ]
    },
    {
      "cell_type": "code",
      "metadata": {
        "id": "wrF3ZbRQHxZH",
        "colab_type": "code",
        "colab": {}
      },
      "source": [
        "principalDf[' Label']=b"
      ],
      "execution_count": 0,
      "outputs": []
    },
    {
      "cell_type": "code",
      "metadata": {
        "id": "gcdHa9eHEVCQ",
        "colab_type": "code",
        "colab": {
          "base_uri": "https://localhost:8080/",
          "height": 243
        },
        "outputId": "19e86b02-375e-4bf0-8bf5-a2ab2b33b0ec"
      },
      "source": [
        "principalDf.head()"
      ],
      "execution_count": 23,
      "outputs": [
        {
          "output_type": "execute_result",
          "data": {
            "text/html": [
              "<div>\n",
              "<style scoped>\n",
              "    .dataframe tbody tr th:only-of-type {\n",
              "        vertical-align: middle;\n",
              "    }\n",
              "\n",
              "    .dataframe tbody tr th {\n",
              "        vertical-align: top;\n",
              "    }\n",
              "\n",
              "    .dataframe thead th {\n",
              "        text-align: right;\n",
              "    }\n",
              "</style>\n",
              "<table border=\"1\" class=\"dataframe\">\n",
              "  <thead>\n",
              "    <tr style=\"text-align: right;\">\n",
              "      <th></th>\n",
              "      <th>Feature 1</th>\n",
              "      <th>Feature 2</th>\n",
              "      <th>Feature 3</th>\n",
              "      <th>Feature 4</th>\n",
              "      <th>Feature 5</th>\n",
              "      <th>Feature 6</th>\n",
              "      <th>Feature 7</th>\n",
              "      <th>Feature 8</th>\n",
              "      <th>Feature 9</th>\n",
              "      <th>Feature 10</th>\n",
              "      <th>Feature 11</th>\n",
              "      <th>Feature 12</th>\n",
              "      <th>Feature 13</th>\n",
              "      <th>Feature 14</th>\n",
              "      <th>Feature 15</th>\n",
              "      <th>Feature 16</th>\n",
              "      <th>Feature 17</th>\n",
              "      <th>Feature 18</th>\n",
              "      <th>Feature 19</th>\n",
              "      <th>Feature 20</th>\n",
              "      <th>Label</th>\n",
              "    </tr>\n",
              "  </thead>\n",
              "  <tbody>\n",
              "    <tr>\n",
              "      <th>0</th>\n",
              "      <td>-2.007978</td>\n",
              "      <td>-0.048536</td>\n",
              "      <td>0.381732</td>\n",
              "      <td>-0.411502</td>\n",
              "      <td>-2.782250</td>\n",
              "      <td>-0.388717</td>\n",
              "      <td>0.096619</td>\n",
              "      <td>0.106757</td>\n",
              "      <td>-0.276215</td>\n",
              "      <td>0.011843</td>\n",
              "      <td>-1.004777</td>\n",
              "      <td>0.040383</td>\n",
              "      <td>1.861096</td>\n",
              "      <td>-0.110159</td>\n",
              "      <td>-0.914639</td>\n",
              "      <td>-0.259214</td>\n",
              "      <td>-0.499655</td>\n",
              "      <td>-0.566353</td>\n",
              "      <td>0.412945</td>\n",
              "      <td>-0.023540</td>\n",
              "      <td>BENIGN</td>\n",
              "    </tr>\n",
              "    <tr>\n",
              "      <th>1</th>\n",
              "      <td>-1.947449</td>\n",
              "      <td>-0.043319</td>\n",
              "      <td>0.361271</td>\n",
              "      <td>-0.235507</td>\n",
              "      <td>-0.895912</td>\n",
              "      <td>-0.324907</td>\n",
              "      <td>0.390253</td>\n",
              "      <td>-0.571040</td>\n",
              "      <td>-0.501670</td>\n",
              "      <td>-0.080605</td>\n",
              "      <td>2.424204</td>\n",
              "      <td>-0.063486</td>\n",
              "      <td>0.617835</td>\n",
              "      <td>-0.399815</td>\n",
              "      <td>1.410953</td>\n",
              "      <td>0.000302</td>\n",
              "      <td>-0.240616</td>\n",
              "      <td>-0.574096</td>\n",
              "      <td>0.348018</td>\n",
              "      <td>-0.005799</td>\n",
              "      <td>BENIGN</td>\n",
              "    </tr>\n",
              "    <tr>\n",
              "      <th>2</th>\n",
              "      <td>-1.958919</td>\n",
              "      <td>-0.043596</td>\n",
              "      <td>0.365268</td>\n",
              "      <td>-0.238824</td>\n",
              "      <td>-0.960378</td>\n",
              "      <td>-0.337162</td>\n",
              "      <td>0.388128</td>\n",
              "      <td>-0.570150</td>\n",
              "      <td>-0.508549</td>\n",
              "      <td>-0.082749</td>\n",
              "      <td>2.388953</td>\n",
              "      <td>-0.061799</td>\n",
              "      <td>0.735704</td>\n",
              "      <td>-0.438928</td>\n",
              "      <td>1.459495</td>\n",
              "      <td>0.048002</td>\n",
              "      <td>-0.252607</td>\n",
              "      <td>-0.468320</td>\n",
              "      <td>0.214143</td>\n",
              "      <td>0.011553</td>\n",
              "      <td>BENIGN</td>\n",
              "    </tr>\n",
              "    <tr>\n",
              "      <th>3</th>\n",
              "      <td>-1.970648</td>\n",
              "      <td>-0.043852</td>\n",
              "      <td>0.369262</td>\n",
              "      <td>-0.241907</td>\n",
              "      <td>-1.026104</td>\n",
              "      <td>-0.348951</td>\n",
              "      <td>0.385314</td>\n",
              "      <td>-0.570398</td>\n",
              "      <td>-0.515847</td>\n",
              "      <td>-0.085077</td>\n",
              "      <td>2.354946</td>\n",
              "      <td>-0.060110</td>\n",
              "      <td>0.855401</td>\n",
              "      <td>-0.478853</td>\n",
              "      <td>1.509915</td>\n",
              "      <td>0.095913</td>\n",
              "      <td>-0.264295</td>\n",
              "      <td>-0.359042</td>\n",
              "      <td>0.081305</td>\n",
              "      <td>0.028487</td>\n",
              "      <td>BENIGN</td>\n",
              "    </tr>\n",
              "    <tr>\n",
              "      <th>4</th>\n",
              "      <td>-2.007979</td>\n",
              "      <td>-0.048537</td>\n",
              "      <td>0.381737</td>\n",
              "      <td>-0.411507</td>\n",
              "      <td>-2.782248</td>\n",
              "      <td>-0.388731</td>\n",
              "      <td>0.096640</td>\n",
              "      <td>0.106768</td>\n",
              "      <td>-0.276217</td>\n",
              "      <td>0.011845</td>\n",
              "      <td>-1.004774</td>\n",
              "      <td>0.040382</td>\n",
              "      <td>1.861105</td>\n",
              "      <td>-0.110159</td>\n",
              "      <td>-0.914634</td>\n",
              "      <td>-0.259220</td>\n",
              "      <td>-0.499662</td>\n",
              "      <td>-0.566371</td>\n",
              "      <td>0.412952</td>\n",
              "      <td>-0.023540</td>\n",
              "      <td>BENIGN</td>\n",
              "    </tr>\n",
              "  </tbody>\n",
              "</table>\n",
              "</div>"
            ],
            "text/plain": [
              "   Feature 1  Feature 2  Feature 3  ...  Feature 19  Feature 20   Label\n",
              "0  -2.007978  -0.048536   0.381732  ...    0.412945   -0.023540  BENIGN\n",
              "1  -1.947449  -0.043319   0.361271  ...    0.348018   -0.005799  BENIGN\n",
              "2  -1.958919  -0.043596   0.365268  ...    0.214143    0.011553  BENIGN\n",
              "3  -1.970648  -0.043852   0.369262  ...    0.081305    0.028487  BENIGN\n",
              "4  -2.007979  -0.048537   0.381737  ...    0.412952   -0.023540  BENIGN\n",
              "\n",
              "[5 rows x 21 columns]"
            ]
          },
          "metadata": {
            "tags": []
          },
          "execution_count": 23
        }
      ]
    },
    {
      "cell_type": "code",
      "metadata": {
        "id": "zIkOz2lWJlga",
        "colab_type": "code",
        "colab": {
          "base_uri": "https://localhost:8080/",
          "height": 469
        },
        "outputId": "3bb137ab-94e3-4a76-f546-2d304449c470"
      },
      "source": [
        "principalDf.info()"
      ],
      "execution_count": 27,
      "outputs": [
        {
          "output_type": "stream",
          "text": [
            "<class 'pandas.core.frame.DataFrame'>\n",
            "RangeIndex: 2829385 entries, 0 to 2829384\n",
            "Data columns (total 21 columns):\n",
            "Feature 1     float64\n",
            "Feature 2     float64\n",
            "Feature 3     float64\n",
            "Feature 4     float64\n",
            "Feature 5     float64\n",
            "Feature 6     float64\n",
            "Feature 7     float64\n",
            "Feature 8     float64\n",
            "Feature 9     float64\n",
            "Feature 10    float64\n",
            "Feature 11    float64\n",
            "Feature 12    float64\n",
            "Feature 13    float64\n",
            "Feature 14    float64\n",
            "Feature 15    float64\n",
            "Feature 16    float64\n",
            "Feature 17    float64\n",
            "Feature 18    float64\n",
            "Feature 19    float64\n",
            "Feature 20    float64\n",
            " Label        object\n",
            "dtypes: float64(20), object(1)\n",
            "memory usage: 453.3+ MB\n"
          ],
          "name": "stdout"
        }
      ]
    },
    {
      "cell_type": "markdown",
      "metadata": {
        "id": "Y0VM0O0MIkgs",
        "colab_type": "text"
      },
      "source": [
        "### Save PCA calculated data to save calculations\n"
      ]
    },
    {
      "cell_type": "code",
      "metadata": {
        "id": "FyG3JZyVGH9z",
        "colab_type": "code",
        "colab": {}
      },
      "source": [
        "path='/content/drive/My Drive/PCA-Calculated.csv'\n",
        "principalDf.to_csv(path)"
      ],
      "execution_count": 0,
      "outputs": []
    },
    {
      "cell_type": "code",
      "metadata": {
        "id": "-hESv8anJcpz",
        "colab_type": "code",
        "colab": {}
      },
      "source": [
        "# empty memory\n",
        "del X\n",
        "del y\n",
        "del b\n",
        "del principalDf"
      ],
      "execution_count": 0,
      "outputs": []
    },
    {
      "cell_type": "code",
      "metadata": {
        "id": "5wi5vL2bJHLd",
        "colab_type": "code",
        "colab": {}
      },
      "source": [
        "df=pd.read_csv(path)"
      ],
      "execution_count": 0,
      "outputs": []
    },
    {
      "cell_type": "markdown",
      "metadata": {
        "id": "xtHSaUmUIeVb",
        "colab_type": "text"
      },
      "source": [
        ""
      ]
    },
    {
      "cell_type": "code",
      "metadata": {
        "id": "JMWprW4X_ZYM",
        "colab_type": "code",
        "colab": {
          "base_uri": "https://localhost:8080/",
          "height": 243
        },
        "outputId": "34f9c787-02f3-4d96-82c0-90e13f33dd84"
      },
      "source": [
        "df.head()"
      ],
      "execution_count": 30,
      "outputs": [
        {
          "output_type": "execute_result",
          "data": {
            "text/html": [
              "<div>\n",
              "<style scoped>\n",
              "    .dataframe tbody tr th:only-of-type {\n",
              "        vertical-align: middle;\n",
              "    }\n",
              "\n",
              "    .dataframe tbody tr th {\n",
              "        vertical-align: top;\n",
              "    }\n",
              "\n",
              "    .dataframe thead th {\n",
              "        text-align: right;\n",
              "    }\n",
              "</style>\n",
              "<table border=\"1\" class=\"dataframe\">\n",
              "  <thead>\n",
              "    <tr style=\"text-align: right;\">\n",
              "      <th></th>\n",
              "      <th>Unnamed: 0</th>\n",
              "      <th>Feature 1</th>\n",
              "      <th>Feature 2</th>\n",
              "      <th>Feature 3</th>\n",
              "      <th>Feature 4</th>\n",
              "      <th>Feature 5</th>\n",
              "      <th>Feature 6</th>\n",
              "      <th>Feature 7</th>\n",
              "      <th>Feature 8</th>\n",
              "      <th>Feature 9</th>\n",
              "      <th>Feature 10</th>\n",
              "      <th>Feature 11</th>\n",
              "      <th>Feature 12</th>\n",
              "      <th>Feature 13</th>\n",
              "      <th>Feature 14</th>\n",
              "      <th>Feature 15</th>\n",
              "      <th>Feature 16</th>\n",
              "      <th>Feature 17</th>\n",
              "      <th>Feature 18</th>\n",
              "      <th>Feature 19</th>\n",
              "      <th>Feature 20</th>\n",
              "      <th>Label</th>\n",
              "    </tr>\n",
              "  </thead>\n",
              "  <tbody>\n",
              "    <tr>\n",
              "      <th>0</th>\n",
              "      <td>0</td>\n",
              "      <td>-2.007978</td>\n",
              "      <td>-0.048536</td>\n",
              "      <td>0.381732</td>\n",
              "      <td>-0.411502</td>\n",
              "      <td>-2.782250</td>\n",
              "      <td>-0.388717</td>\n",
              "      <td>0.096619</td>\n",
              "      <td>0.106757</td>\n",
              "      <td>-0.276215</td>\n",
              "      <td>0.011843</td>\n",
              "      <td>-1.004777</td>\n",
              "      <td>0.040383</td>\n",
              "      <td>1.861096</td>\n",
              "      <td>-0.110159</td>\n",
              "      <td>-0.914639</td>\n",
              "      <td>-0.259214</td>\n",
              "      <td>-0.499655</td>\n",
              "      <td>-0.566353</td>\n",
              "      <td>0.412945</td>\n",
              "      <td>-0.023540</td>\n",
              "      <td>BENIGN</td>\n",
              "    </tr>\n",
              "    <tr>\n",
              "      <th>1</th>\n",
              "      <td>1</td>\n",
              "      <td>-1.947449</td>\n",
              "      <td>-0.043319</td>\n",
              "      <td>0.361271</td>\n",
              "      <td>-0.235507</td>\n",
              "      <td>-0.895912</td>\n",
              "      <td>-0.324907</td>\n",
              "      <td>0.390253</td>\n",
              "      <td>-0.571040</td>\n",
              "      <td>-0.501670</td>\n",
              "      <td>-0.080605</td>\n",
              "      <td>2.424204</td>\n",
              "      <td>-0.063486</td>\n",
              "      <td>0.617835</td>\n",
              "      <td>-0.399815</td>\n",
              "      <td>1.410953</td>\n",
              "      <td>0.000302</td>\n",
              "      <td>-0.240616</td>\n",
              "      <td>-0.574096</td>\n",
              "      <td>0.348018</td>\n",
              "      <td>-0.005799</td>\n",
              "      <td>BENIGN</td>\n",
              "    </tr>\n",
              "    <tr>\n",
              "      <th>2</th>\n",
              "      <td>2</td>\n",
              "      <td>-1.958919</td>\n",
              "      <td>-0.043596</td>\n",
              "      <td>0.365268</td>\n",
              "      <td>-0.238824</td>\n",
              "      <td>-0.960378</td>\n",
              "      <td>-0.337162</td>\n",
              "      <td>0.388128</td>\n",
              "      <td>-0.570150</td>\n",
              "      <td>-0.508549</td>\n",
              "      <td>-0.082749</td>\n",
              "      <td>2.388953</td>\n",
              "      <td>-0.061799</td>\n",
              "      <td>0.735704</td>\n",
              "      <td>-0.438928</td>\n",
              "      <td>1.459495</td>\n",
              "      <td>0.048002</td>\n",
              "      <td>-0.252607</td>\n",
              "      <td>-0.468320</td>\n",
              "      <td>0.214143</td>\n",
              "      <td>0.011553</td>\n",
              "      <td>BENIGN</td>\n",
              "    </tr>\n",
              "    <tr>\n",
              "      <th>3</th>\n",
              "      <td>3</td>\n",
              "      <td>-1.970648</td>\n",
              "      <td>-0.043852</td>\n",
              "      <td>0.369262</td>\n",
              "      <td>-0.241907</td>\n",
              "      <td>-1.026104</td>\n",
              "      <td>-0.348951</td>\n",
              "      <td>0.385314</td>\n",
              "      <td>-0.570398</td>\n",
              "      <td>-0.515847</td>\n",
              "      <td>-0.085077</td>\n",
              "      <td>2.354946</td>\n",
              "      <td>-0.060110</td>\n",
              "      <td>0.855401</td>\n",
              "      <td>-0.478853</td>\n",
              "      <td>1.509915</td>\n",
              "      <td>0.095913</td>\n",
              "      <td>-0.264295</td>\n",
              "      <td>-0.359042</td>\n",
              "      <td>0.081305</td>\n",
              "      <td>0.028487</td>\n",
              "      <td>BENIGN</td>\n",
              "    </tr>\n",
              "    <tr>\n",
              "      <th>4</th>\n",
              "      <td>4</td>\n",
              "      <td>-2.007979</td>\n",
              "      <td>-0.048537</td>\n",
              "      <td>0.381737</td>\n",
              "      <td>-0.411507</td>\n",
              "      <td>-2.782248</td>\n",
              "      <td>-0.388731</td>\n",
              "      <td>0.096640</td>\n",
              "      <td>0.106768</td>\n",
              "      <td>-0.276217</td>\n",
              "      <td>0.011845</td>\n",
              "      <td>-1.004774</td>\n",
              "      <td>0.040382</td>\n",
              "      <td>1.861105</td>\n",
              "      <td>-0.110159</td>\n",
              "      <td>-0.914634</td>\n",
              "      <td>-0.259220</td>\n",
              "      <td>-0.499662</td>\n",
              "      <td>-0.566371</td>\n",
              "      <td>0.412952</td>\n",
              "      <td>-0.023540</td>\n",
              "      <td>BENIGN</td>\n",
              "    </tr>\n",
              "  </tbody>\n",
              "</table>\n",
              "</div>"
            ],
            "text/plain": [
              "   Unnamed: 0  Feature 1  Feature 2  ...  Feature 19  Feature 20   Label\n",
              "0           0  -2.007978  -0.048536  ...    0.412945   -0.023540  BENIGN\n",
              "1           1  -1.947449  -0.043319  ...    0.348018   -0.005799  BENIGN\n",
              "2           2  -1.958919  -0.043596  ...    0.214143    0.011553  BENIGN\n",
              "3           3  -1.970648  -0.043852  ...    0.081305    0.028487  BENIGN\n",
              "4           4  -2.007979  -0.048537  ...    0.412952   -0.023540  BENIGN\n",
              "\n",
              "[5 rows x 22 columns]"
            ]
          },
          "metadata": {
            "tags": []
          },
          "execution_count": 30
        }
      ]
    },
    {
      "cell_type": "code",
      "metadata": {
        "id": "BcVqdBUnKQza",
        "colab_type": "code",
        "colab": {
          "base_uri": "https://localhost:8080/",
          "height": 486
        },
        "outputId": "14b8a568-45a3-43b2-d166-38d90bc2fa01"
      },
      "source": [
        "df.info()"
      ],
      "execution_count": 31,
      "outputs": [
        {
          "output_type": "stream",
          "text": [
            "<class 'pandas.core.frame.DataFrame'>\n",
            "RangeIndex: 2829385 entries, 0 to 2829384\n",
            "Data columns (total 22 columns):\n",
            "Unnamed: 0    int64\n",
            "Feature 1     float64\n",
            "Feature 2     float64\n",
            "Feature 3     float64\n",
            "Feature 4     float64\n",
            "Feature 5     float64\n",
            "Feature 6     float64\n",
            "Feature 7     float64\n",
            "Feature 8     float64\n",
            "Feature 9     float64\n",
            "Feature 10    float64\n",
            "Feature 11    float64\n",
            "Feature 12    float64\n",
            "Feature 13    float64\n",
            "Feature 14    float64\n",
            "Feature 15    float64\n",
            "Feature 16    float64\n",
            "Feature 17    float64\n",
            "Feature 18    float64\n",
            "Feature 19    float64\n",
            "Feature 20    float64\n",
            " Label        object\n",
            "dtypes: float64(20), int64(1), object(1)\n",
            "memory usage: 474.9+ MB\n"
          ],
          "name": "stdout"
        }
      ]
    },
    {
      "cell_type": "code",
      "metadata": {
        "id": "7LksdRaLKX3N",
        "colab_type": "code",
        "colab": {
          "base_uri": "https://localhost:8080/",
          "height": 141
        },
        "outputId": "bb7b6f40-795e-48bf-adcb-d031d4eb421f"
      },
      "source": [
        "df2=df[df.columns[1:-1]]\n",
        "df2[' Label']=df[df.columns[-1]]\n",
        "df=df2"
      ],
      "execution_count": 33,
      "outputs": [
        {
          "output_type": "stream",
          "text": [
            "/usr/local/lib/python3.6/dist-packages/ipykernel_launcher.py:2: SettingWithCopyWarning: \n",
            "A value is trying to be set on a copy of a slice from a DataFrame.\n",
            "Try using .loc[row_indexer,col_indexer] = value instead\n",
            "\n",
            "See the caveats in the documentation: http://pandas.pydata.org/pandas-docs/stable/user_guide/indexing.html#returning-a-view-versus-a-copy\n",
            "  \n"
          ],
          "name": "stderr"
        }
      ]
    },
    {
      "cell_type": "code",
      "metadata": {
        "id": "nVILcFVnKfpe",
        "colab_type": "code",
        "colab": {}
      },
      "source": [
        "del df2"
      ],
      "execution_count": 0,
      "outputs": []
    },
    {
      "cell_type": "code",
      "metadata": {
        "id": "gZLEIbmKKgw8",
        "colab_type": "code",
        "colab": {
          "base_uri": "https://localhost:8080/",
          "height": 121
        },
        "outputId": "5c066ada-2d19-4b80-a916-ec8291021a0d"
      },
      "source": [
        "df.columns"
      ],
      "execution_count": 36,
      "outputs": [
        {
          "output_type": "execute_result",
          "data": {
            "text/plain": [
              "Index(['Feature 1', 'Feature 2', 'Feature 3', 'Feature 4', 'Feature 5',\n",
              "       'Feature 6', 'Feature 7', 'Feature 8', 'Feature 9', 'Feature 10',\n",
              "       'Feature 11', 'Feature 12', 'Feature 13', 'Feature 14', 'Feature 15',\n",
              "       'Feature 16', 'Feature 17', 'Feature 18', 'Feature 19', 'Feature 20',\n",
              "       ' Label'],\n",
              "      dtype='object')"
            ]
          },
          "metadata": {
            "tags": []
          },
          "execution_count": 36
        }
      ]
    },
    {
      "cell_type": "code",
      "metadata": {
        "id": "esAgPdZmKhn-",
        "colab_type": "code",
        "colab": {}
      },
      "source": [
        "X=df[df.columns[1:-1]]\n",
        "y=df[df.columns[-1]]"
      ],
      "execution_count": 0,
      "outputs": []
    },
    {
      "cell_type": "code",
      "metadata": {
        "id": "BXSrBIU4KsM9",
        "colab_type": "code",
        "colab": {
          "base_uri": "https://localhost:8080/",
          "height": 208
        },
        "outputId": "d7c62d0e-5e8d-4675-9c0f-68ac429978cd"
      },
      "source": [
        "print(y.head())\n",
        "X.columns"
      ],
      "execution_count": 40,
      "outputs": [
        {
          "output_type": "stream",
          "text": [
            "0    BENIGN\n",
            "1    BENIGN\n",
            "2    BENIGN\n",
            "3    BENIGN\n",
            "4    BENIGN\n",
            "Name:  Label, dtype: object\n"
          ],
          "name": "stdout"
        },
        {
          "output_type": "execute_result",
          "data": {
            "text/plain": [
              "Index(['Feature 2', 'Feature 3', 'Feature 4', 'Feature 5', 'Feature 6',\n",
              "       'Feature 7', 'Feature 8', 'Feature 9', 'Feature 10', 'Feature 11',\n",
              "       'Feature 12', 'Feature 13', 'Feature 14', 'Feature 15', 'Feature 16',\n",
              "       'Feature 17', 'Feature 18', 'Feature 19', 'Feature 20'],\n",
              "      dtype='object')"
            ]
          },
          "metadata": {
            "tags": []
          },
          "execution_count": 40
        }
      ]
    },
    {
      "cell_type": "code",
      "metadata": {
        "id": "uOqEn_VLKteM",
        "colab_type": "code",
        "colab": {}
      },
      "source": [
        "from sklearn.model_selection import train_test_split     # import module for train test split\n",
        "X_train, X_test, y_train, y_test=train_test_split(X,y,test_size=0.2, random_state=10)"
      ],
      "execution_count": 0,
      "outputs": []
    },
    {
      "cell_type": "markdown",
      "metadata": {
        "id": "BuE2e9hIK9yX",
        "colab_type": "text"
      },
      "source": [
        "# Applying KNN"
      ]
    },
    {
      "cell_type": "code",
      "metadata": {
        "id": "OAndeGw3Lfuy",
        "colab_type": "code",
        "colab": {}
      },
      "source": [
        "from sklearn.neighbors import KNeighborsClassifier"
      ],
      "execution_count": 0,
      "outputs": []
    },
    {
      "cell_type": "code",
      "metadata": {
        "id": "NRl9ie0yK6K2",
        "colab_type": "code",
        "colab": {
          "base_uri": "https://localhost:8080/",
          "height": 260
        },
        "outputId": "8f654baf-3d0b-4be7-f718-e4c2ac66ecd9"
      },
      "source": [
        "t1=time.time()\n",
        "cols=X.columns\n",
        "for i in range(len(cols)):\n",
        "    knn=KNeighborsClassifier(n_neighbors=(i+1))\n",
        "    model_knn=knn.fit(X_train,y_train)\n",
        "    yhat=model_knn.predict(X_test)\n",
        "    print(\"for \" , i+1,  \" as K, accuracy is : \", accuracy_score(y_test, yhat))\n",
        "t2=time.time()\n",
        "print(\" time for \", i+1 ,\" k's :: \", (t2-t1)/60 , \" minutes\")"
      ],
      "execution_count": 0,
      "outputs": [
        {
          "output_type": "stream",
          "text": [
            "for  1  as K, accuracy is :  0.998008401118971\n",
            "for  2  as K, accuracy is :  0.9976920779604048\n",
            "for  3  as K, accuracy is :  0.9978900008305692\n",
            "for  4  as K, accuracy is :  0.9979288785372086\n",
            "for  5  as K, accuracy is :  0.9978069439118396\n",
            "for  6  as K, accuracy is :  0.9977486273518803\n",
            "for  7  as K, accuracy is :  0.9975436358077816\n",
            "for  8  as K, accuracy is :  0.9975648418295848\n",
            "for  9  as K, accuracy is :  0.9973563159485188\n",
            "for  10  as K, accuracy is :  0.9973333427582319\n",
            "for  11  as K, accuracy is :  0.9971955036165103\n",
            "for  12  as K, accuracy is :  0.9972396828286005\n",
            "for  13  as K, accuracy is :  0.9970718018226575\n",
            "for  14  as K, accuracy is :  0.997078870496592\n"
          ],
          "name": "stdout"
        }
      ]
    },
    {
      "cell_type": "code",
      "metadata": {
        "id": "M5roSragLdfy",
        "colab_type": "code",
        "colab": {}
      },
      "source": [
        ""
      ],
      "execution_count": 0,
      "outputs": []
    }
  ]
}