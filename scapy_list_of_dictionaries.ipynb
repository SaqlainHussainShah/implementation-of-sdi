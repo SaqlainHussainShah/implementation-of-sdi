{
  "nbformat": 4,
  "nbformat_minor": 0,
  "metadata": {
    "colab": {
      "name": "scapy.ipynb",
      "provenance": [],
      "collapsed_sections": [],
      "include_colab_link": true
    },
    "kernelspec": {
      "name": "python3",
      "display_name": "Python 3"
    },
    "accelerator": "GPU"
  },
  "cells": [
    {
      "cell_type": "markdown",
      "metadata": {
        "id": "view-in-github",
        "colab_type": "text"
      },
      "source": [
        "<a href=\"https://colab.research.google.com/github/SaqlainHussainShah/implementation-of-sdi/blob/master/scapy_list_of_dictionaries.ipynb\" target=\"_parent\"><img src=\"https://colab.research.google.com/assets/colab-badge.svg\" alt=\"Open In Colab\"/></a>"
      ]
    },
    {
      "cell_type": "code",
      "metadata": {
        "id": "YKu9y4ncjQ69",
        "colab_type": "code",
        "outputId": "5e28b815-0602-46ae-c760-9fcc560aa1c9",
        "colab": {
          "base_uri": "https://localhost:8080/",
          "height": 211
        }
      },
      "source": [
        "pip install scapy"
      ],
      "execution_count": 1,
      "outputs": [
        {
          "output_type": "stream",
          "text": [
            "Collecting scapy\n",
            "\u001b[?25l  Downloading https://files.pythonhosted.org/packages/52/e7/464079606a9cf97ad04936c52a5324d14dae36215f9319bf3faa46a7907d/scapy-2.4.3.tar.gz (905kB)\n",
            "\r\u001b[K     |▍                               | 10kB 24.1MB/s eta 0:00:01\r\u001b[K     |▊                               | 20kB 3.0MB/s eta 0:00:01\r\u001b[K     |█                               | 30kB 4.3MB/s eta 0:00:01\r\u001b[K     |█▌                              | 40kB 2.9MB/s eta 0:00:01\r\u001b[K     |█▉                              | 51kB 3.5MB/s eta 0:00:01\r\u001b[K     |██▏                             | 61kB 4.2MB/s eta 0:00:01\r\u001b[K     |██▌                             | 71kB 4.8MB/s eta 0:00:01\r\u001b[K     |███                             | 81kB 5.4MB/s eta 0:00:01\r\u001b[K     |███▎                            | 92kB 6.0MB/s eta 0:00:01\r\u001b[K     |███▋                            | 102kB 4.7MB/s eta 0:00:01\r\u001b[K     |████                            | 112kB 4.7MB/s eta 0:00:01\r\u001b[K     |████▍                           | 122kB 4.7MB/s eta 0:00:01\r\u001b[K     |████▊                           | 133kB 4.7MB/s eta 0:00:01\r\u001b[K     |█████                           | 143kB 4.7MB/s eta 0:00:01\r\u001b[K     |█████▍                          | 153kB 4.7MB/s eta 0:00:01\r\u001b[K     |█████▉                          | 163kB 4.7MB/s eta 0:00:01\r\u001b[K     |██████▏                         | 174kB 4.7MB/s eta 0:00:01\r\u001b[K     |██████▌                         | 184kB 4.7MB/s eta 0:00:01\r\u001b[K     |██████▉                         | 194kB 4.7MB/s eta 0:00:01\r\u001b[K     |███████▎                        | 204kB 4.7MB/s eta 0:00:01\r\u001b[K     |███████▋                        | 215kB 4.7MB/s eta 0:00:01\r\u001b[K     |████████                        | 225kB 4.7MB/s eta 0:00:01\r\u001b[K     |████████▎                       | 235kB 4.7MB/s eta 0:00:01\r\u001b[K     |████████▊                       | 245kB 4.7MB/s eta 0:00:01\r\u001b[K     |█████████                       | 256kB 4.7MB/s eta 0:00:01\r\u001b[K     |█████████▍                      | 266kB 4.7MB/s eta 0:00:01\r\u001b[K     |█████████▊                      | 276kB 4.7MB/s eta 0:00:01\r\u001b[K     |██████████▏                     | 286kB 4.7MB/s eta 0:00:01\r\u001b[K     |██████████▌                     | 296kB 4.7MB/s eta 0:00:01\r\u001b[K     |██████████▉                     | 307kB 4.7MB/s eta 0:00:01\r\u001b[K     |███████████▏                    | 317kB 4.7MB/s eta 0:00:01\r\u001b[K     |███████████▋                    | 327kB 4.7MB/s eta 0:00:01\r\u001b[K     |████████████                    | 337kB 4.7MB/s eta 0:00:01\r\u001b[K     |████████████▎                   | 348kB 4.7MB/s eta 0:00:01\r\u001b[K     |████████████▊                   | 358kB 4.7MB/s eta 0:00:01\r\u001b[K     |█████████████                   | 368kB 4.7MB/s eta 0:00:01\r\u001b[K     |█████████████▍                  | 378kB 4.7MB/s eta 0:00:01\r\u001b[K     |█████████████▊                  | 389kB 4.7MB/s eta 0:00:01\r\u001b[K     |██████████████▏                 | 399kB 4.7MB/s eta 0:00:01\r\u001b[K     |██████████████▌                 | 409kB 4.7MB/s eta 0:00:01\r\u001b[K     |██████████████▉                 | 419kB 4.7MB/s eta 0:00:01\r\u001b[K     |███████████████▏                | 430kB 4.7MB/s eta 0:00:01\r\u001b[K     |███████████████▋                | 440kB 4.7MB/s eta 0:00:01\r\u001b[K     |████████████████                | 450kB 4.7MB/s eta 0:00:01\r\u001b[K     |████████████████▎               | 460kB 4.7MB/s eta 0:00:01\r\u001b[K     |████████████████▋               | 471kB 4.7MB/s eta 0:00:01\r\u001b[K     |█████████████████               | 481kB 4.7MB/s eta 0:00:01\r\u001b[K     |█████████████████▍              | 491kB 4.7MB/s eta 0:00:01\r\u001b[K     |█████████████████▊              | 501kB 4.7MB/s eta 0:00:01\r\u001b[K     |██████████████████              | 512kB 4.7MB/s eta 0:00:01\r\u001b[K     |██████████████████▌             | 522kB 4.7MB/s eta 0:00:01\r\u001b[K     |██████████████████▉             | 532kB 4.7MB/s eta 0:00:01\r\u001b[K     |███████████████████▏            | 542kB 4.7MB/s eta 0:00:01\r\u001b[K     |███████████████████▌            | 552kB 4.7MB/s eta 0:00:01\r\u001b[K     |████████████████████            | 563kB 4.7MB/s eta 0:00:01\r\u001b[K     |████████████████████▎           | 573kB 4.7MB/s eta 0:00:01\r\u001b[K     |████████████████████▋           | 583kB 4.7MB/s eta 0:00:01\r\u001b[K     |█████████████████████           | 593kB 4.7MB/s eta 0:00:01\r\u001b[K     |█████████████████████▍          | 604kB 4.7MB/s eta 0:00:01\r\u001b[K     |█████████████████████▊          | 614kB 4.7MB/s eta 0:00:01\r\u001b[K     |██████████████████████          | 624kB 4.7MB/s eta 0:00:01\r\u001b[K     |██████████████████████▍         | 634kB 4.7MB/s eta 0:00:01\r\u001b[K     |██████████████████████▉         | 645kB 4.7MB/s eta 0:00:01\r\u001b[K     |███████████████████████▏        | 655kB 4.7MB/s eta 0:00:01\r\u001b[K     |███████████████████████▌        | 665kB 4.7MB/s eta 0:00:01\r\u001b[K     |███████████████████████▉        | 675kB 4.7MB/s eta 0:00:01\r\u001b[K     |████████████████████████▎       | 686kB 4.7MB/s eta 0:00:01\r\u001b[K     |████████████████████████▋       | 696kB 4.7MB/s eta 0:00:01\r\u001b[K     |█████████████████████████       | 706kB 4.7MB/s eta 0:00:01\r\u001b[K     |█████████████████████████▍      | 716kB 4.7MB/s eta 0:00:01\r\u001b[K     |█████████████████████████▊      | 727kB 4.7MB/s eta 0:00:01\r\u001b[K     |██████████████████████████      | 737kB 4.7MB/s eta 0:00:01\r\u001b[K     |██████████████████████████▍     | 747kB 4.7MB/s eta 0:00:01\r\u001b[K     |██████████████████████████▉     | 757kB 4.7MB/s eta 0:00:01\r\u001b[K     |███████████████████████████▏    | 768kB 4.7MB/s eta 0:00:01\r\u001b[K     |███████████████████████████▌    | 778kB 4.7MB/s eta 0:00:01\r\u001b[K     |███████████████████████████▉    | 788kB 4.7MB/s eta 0:00:01\r\u001b[K     |████████████████████████████▎   | 798kB 4.7MB/s eta 0:00:01\r\u001b[K     |████████████████████████████▋   | 808kB 4.7MB/s eta 0:00:01\r\u001b[K     |█████████████████████████████   | 819kB 4.7MB/s eta 0:00:01\r\u001b[K     |█████████████████████████████▎  | 829kB 4.7MB/s eta 0:00:01\r\u001b[K     |█████████████████████████████▊  | 839kB 4.7MB/s eta 0:00:01\r\u001b[K     |██████████████████████████████  | 849kB 4.7MB/s eta 0:00:01\r\u001b[K     |██████████████████████████████▍ | 860kB 4.7MB/s eta 0:00:01\r\u001b[K     |██████████████████████████████▊ | 870kB 4.7MB/s eta 0:00:01\r\u001b[K     |███████████████████████████████▏| 880kB 4.7MB/s eta 0:00:01\r\u001b[K     |███████████████████████████████▌| 890kB 4.7MB/s eta 0:00:01\r\u001b[K     |███████████████████████████████▉| 901kB 4.7MB/s eta 0:00:01\r\u001b[K     |████████████████████████████████| 911kB 4.7MB/s \n",
            "\u001b[?25hBuilding wheels for collected packages: scapy\n",
            "  Building wheel for scapy (setup.py) ... \u001b[?25l\u001b[?25hdone\n",
            "  Created wheel for scapy: filename=scapy-2.4.3-py2.py3-none-any.whl size=1043873 sha256=1987b5887daec7c357452593aa4ba20540fb1be2098641a5d9c3491ca9f8fe6c\n",
            "  Stored in directory: /root/.cache/pip/wheels/95/bf/51/905b3e84ec4ca910ce4ae92173c7334623105a265bdd1d9438\n",
            "Successfully built scapy\n",
            "Installing collected packages: scapy\n",
            "Successfully installed scapy-2.4.3\n"
          ],
          "name": "stdout"
        }
      ]
    },
    {
      "cell_type": "code",
      "metadata": {
        "id": "NuUln9xOjFhP",
        "colab_type": "code",
        "colab": {}
      },
      "source": [
        "import scapy\n",
        "import pandas as pd"
      ],
      "execution_count": 0,
      "outputs": []
    },
    {
      "cell_type": "code",
      "metadata": {
        "id": "9QVzFEYWjNAF",
        "colab_type": "code",
        "colab": {}
      },
      "source": [
        "from scapy.all import *\n"
      ],
      "execution_count": 0,
      "outputs": []
    },
    {
      "cell_type": "code",
      "metadata": {
        "id": "1kpOZgHEjWuP",
        "colab_type": "code",
        "colab": {}
      },
      "source": [
        "packets = rdpcap('invisily_inner_tunnel_modified.pcap')\n"
      ],
      "execution_count": 0,
      "outputs": []
    },
    {
      "cell_type": "code",
      "metadata": {
        "id": "k225cupoTcgY",
        "colab_type": "code",
        "colab": {}
      },
      "source": [
        "def make_dictionary(current_packet):\n",
        "  dict_packet={\n",
        "      'eth_dst'          :     packet['Ethernet'].dst,\n",
        "      'eth_src'          :     packet['Ethernet'].src,\n",
        "      \n",
        "      'ip_version'       :     packet['IP'].version,\n",
        "      'ip_id'            :     packet['IP'].id,\n",
        "      'ip_protocol'      :     packet['IP'].proto,\n",
        "      'ip_dst'           :     packet['IP'].dst,\n",
        "      'ip_src'           :     packet['IP'].src,\n",
        "      \n",
        "      'tcp_src_port'     :     packet['TCP'].sport,\n",
        "      'tcp_dst_port'     :     packet['TCP'].dport,\n",
        "      'tcp_seq'          :     packet['TCP'].seq,\n",
        "      'tcp_ack'          :     packet['TCP'].ack,\n",
        "      'tcp_data_offset'  :     packet['TCP'].dataofs,\n",
        "      'tcp_reserved'     :     packet['TCP'].reserved,\n",
        "      'tcp_flags'        :     packet['TCP'].flags,\n",
        "      'tcp_window'       :     packet['TCP'].window,\n",
        "      'tcp_checksum'     :     packet['TCP'].chksum,\n",
        "      'tcp_urg_ptr'      :     packet['TCP'].urgptr,\n",
        "      'tcp_options'      :     packet['TCP'].options,\n",
        "      \n",
        "      \n",
        "  }\n",
        "\n",
        "  return dict_packet\n",
        "\n",
        "  "
      ],
      "execution_count": 0,
      "outputs": []
    },
    {
      "cell_type": "code",
      "metadata": {
        "id": "QRupt9rbV3I4",
        "colab_type": "code",
        "colab": {
          "base_uri": "https://localhost:8080/",
          "height": 34
        },
        "outputId": "43eeba7c-e77a-4c2b-9fea-d41ac0595f71"
      },
      "source": [
        ""
      ],
      "execution_count": 16,
      "outputs": [
        {
          "output_type": "stream",
          "text": [
            "5\n"
          ],
          "name": "stdout"
        }
      ]
    },
    {
      "cell_type": "code",
      "metadata": {
        "id": "cjBWaLTMje3W",
        "colab_type": "code",
        "colab": {}
      },
      "source": [
        "list_packets=[]\n",
        "for packet in packets:\n",
        "  list_packets.append(make_dictionary(packet))"
      ],
      "execution_count": 0,
      "outputs": []
    },
    {
      "cell_type": "code",
      "metadata": {
        "id": "MhoPgg4GjjqN",
        "colab_type": "code",
        "outputId": "2a047708-d4e8-4180-d224-6544e7de9ce6",
        "colab": {
          "base_uri": "https://localhost:8080/",
          "height": 330
        }
      },
      "source": [
        "list_packets[0]\n"
      ],
      "execution_count": 22,
      "outputs": [
        {
          "output_type": "execute_result",
          "data": {
            "text/plain": [
              "{'eth_dst': '00:ff:f1:5f:a0:cb',\n",
              " 'eth_src': '00:ff:f0:5f:a0:cb',\n",
              " 'ip_dst': '10.0.0.4',\n",
              " 'ip_id': 16223,\n",
              " 'ip_protocol': 6,\n",
              " 'ip_src': '10.0.0.2',\n",
              " 'ip_version': 4,\n",
              " 'tcp_ack': 4021224276,\n",
              " 'tcp_checksum': 26181,\n",
              " 'tcp_data_offset': 5,\n",
              " 'tcp_dst_port': 80,\n",
              " 'tcp_flags': <Flag 20 (RA)>,\n",
              " 'tcp_options': [],\n",
              " 'tcp_reserved': 0,\n",
              " 'tcp_seq': 2023753406,\n",
              " 'tcp_src_port': 49875,\n",
              " 'tcp_urg_ptr': 0,\n",
              " 'tcp_window': 0}"
            ]
          },
          "metadata": {
            "tags": []
          },
          "execution_count": 22
        }
      ]
    },
    {
      "cell_type": "code",
      "metadata": {
        "id": "O1TcvSQvYYDI",
        "colab_type": "code",
        "colab": {}
      },
      "source": [
        "df=pd.DataFrame(list_packets)"
      ],
      "execution_count": 0,
      "outputs": []
    },
    {
      "cell_type": "code",
      "metadata": {
        "id": "zEevp5uzYgbu",
        "colab_type": "code",
        "colab": {
          "base_uri": "https://localhost:8080/",
          "height": 330
        },
        "outputId": "a32f46dc-17bb-4bf5-b893-89d41d65377a"
      },
      "source": [
        "df.head()"
      ],
      "execution_count": 25,
      "outputs": [
        {
          "output_type": "execute_result",
          "data": {
            "text/html": [
              "<div>\n",
              "<style scoped>\n",
              "    .dataframe tbody tr th:only-of-type {\n",
              "        vertical-align: middle;\n",
              "    }\n",
              "\n",
              "    .dataframe tbody tr th {\n",
              "        vertical-align: top;\n",
              "    }\n",
              "\n",
              "    .dataframe thead th {\n",
              "        text-align: right;\n",
              "    }\n",
              "</style>\n",
              "<table border=\"1\" class=\"dataframe\">\n",
              "  <thead>\n",
              "    <tr style=\"text-align: right;\">\n",
              "      <th></th>\n",
              "      <th>eth_dst</th>\n",
              "      <th>eth_src</th>\n",
              "      <th>ip_version</th>\n",
              "      <th>ip_id</th>\n",
              "      <th>ip_protocol</th>\n",
              "      <th>ip_dst</th>\n",
              "      <th>ip_src</th>\n",
              "      <th>tcp_src_port</th>\n",
              "      <th>tcp_dst_port</th>\n",
              "      <th>tcp_seq</th>\n",
              "      <th>tcp_ack</th>\n",
              "      <th>tcp_data_offset</th>\n",
              "      <th>tcp_reserved</th>\n",
              "      <th>tcp_flags</th>\n",
              "      <th>tcp_window</th>\n",
              "      <th>tcp_checksum</th>\n",
              "      <th>tcp_urg_ptr</th>\n",
              "      <th>tcp_options</th>\n",
              "    </tr>\n",
              "  </thead>\n",
              "  <tbody>\n",
              "    <tr>\n",
              "      <th>0</th>\n",
              "      <td>00:ff:f1:5f:a0:cb</td>\n",
              "      <td>00:ff:f0:5f:a0:cb</td>\n",
              "      <td>4</td>\n",
              "      <td>16223</td>\n",
              "      <td>6</td>\n",
              "      <td>10.0.0.4</td>\n",
              "      <td>10.0.0.2</td>\n",
              "      <td>49875</td>\n",
              "      <td>80</td>\n",
              "      <td>2023753406</td>\n",
              "      <td>4021224276</td>\n",
              "      <td>5</td>\n",
              "      <td>0</td>\n",
              "      <td>RA</td>\n",
              "      <td>0</td>\n",
              "      <td>26181</td>\n",
              "      <td>0</td>\n",
              "      <td>[]</td>\n",
              "    </tr>\n",
              "    <tr>\n",
              "      <th>1</th>\n",
              "      <td>00:ff:f1:5f:a0:cb</td>\n",
              "      <td>00:ff:f0:5f:a0:cb</td>\n",
              "      <td>4</td>\n",
              "      <td>16224</td>\n",
              "      <td>6</td>\n",
              "      <td>10.0.0.4</td>\n",
              "      <td>10.0.0.2</td>\n",
              "      <td>49876</td>\n",
              "      <td>80</td>\n",
              "      <td>3600195188</td>\n",
              "      <td>1682371803</td>\n",
              "      <td>5</td>\n",
              "      <td>0</td>\n",
              "      <td>RA</td>\n",
              "      <td>0</td>\n",
              "      <td>2681</td>\n",
              "      <td>0</td>\n",
              "      <td>[]</td>\n",
              "    </tr>\n",
              "    <tr>\n",
              "      <th>2</th>\n",
              "      <td>00:ff:f1:5f:a0:cb</td>\n",
              "      <td>00:ff:f0:5f:a0:cb</td>\n",
              "      <td>4</td>\n",
              "      <td>404</td>\n",
              "      <td>6</td>\n",
              "      <td>10.0.0.8</td>\n",
              "      <td>10.0.0.2</td>\n",
              "      <td>50184</td>\n",
              "      <td>80</td>\n",
              "      <td>4015876651</td>\n",
              "      <td>0</td>\n",
              "      <td>8</td>\n",
              "      <td>0</td>\n",
              "      <td>S</td>\n",
              "      <td>65535</td>\n",
              "      <td>15653</td>\n",
              "      <td>0</td>\n",
              "      <td>[(MSS, 1460), (NOP, None), (WScale, 8), (NOP, ...</td>\n",
              "    </tr>\n",
              "    <tr>\n",
              "      <th>3</th>\n",
              "      <td>00:ff:f0:5f:a0:cb</td>\n",
              "      <td>00:ff:f1:5f:a0:cb</td>\n",
              "      <td>4</td>\n",
              "      <td>0</td>\n",
              "      <td>6</td>\n",
              "      <td>10.0.0.2</td>\n",
              "      <td>10.0.0.8</td>\n",
              "      <td>80</td>\n",
              "      <td>50184</td>\n",
              "      <td>836039068</td>\n",
              "      <td>4015876652</td>\n",
              "      <td>8</td>\n",
              "      <td>0</td>\n",
              "      <td>SA</td>\n",
              "      <td>29200</td>\n",
              "      <td>42899</td>\n",
              "      <td>0</td>\n",
              "      <td>[(MSS, 1460), (NOP, None), (NOP, None), (SAckO...</td>\n",
              "    </tr>\n",
              "    <tr>\n",
              "      <th>4</th>\n",
              "      <td>00:ff:f1:5f:a0:cb</td>\n",
              "      <td>00:ff:f0:5f:a0:cb</td>\n",
              "      <td>4</td>\n",
              "      <td>405</td>\n",
              "      <td>6</td>\n",
              "      <td>10.0.0.8</td>\n",
              "      <td>10.0.0.2</td>\n",
              "      <td>50184</td>\n",
              "      <td>80</td>\n",
              "      <td>4015876652</td>\n",
              "      <td>836039069</td>\n",
              "      <td>5</td>\n",
              "      <td>0</td>\n",
              "      <td>A</td>\n",
              "      <td>1024</td>\n",
              "      <td>22134</td>\n",
              "      <td>0</td>\n",
              "      <td>[]</td>\n",
              "    </tr>\n",
              "  </tbody>\n",
              "</table>\n",
              "</div>"
            ],
            "text/plain": [
              "             eth_dst  ...                                        tcp_options\n",
              "0  00:ff:f1:5f:a0:cb  ...                                                 []\n",
              "1  00:ff:f1:5f:a0:cb  ...                                                 []\n",
              "2  00:ff:f1:5f:a0:cb  ...  [(MSS, 1460), (NOP, None), (WScale, 8), (NOP, ...\n",
              "3  00:ff:f0:5f:a0:cb  ...  [(MSS, 1460), (NOP, None), (NOP, None), (SAckO...\n",
              "4  00:ff:f1:5f:a0:cb  ...                                                 []\n",
              "\n",
              "[5 rows x 18 columns]"
            ]
          },
          "metadata": {
            "tags": []
          },
          "execution_count": 25
        }
      ]
    },
    {
      "cell_type": "code",
      "metadata": {
        "id": "1RfuG_LtYhmQ",
        "colab_type": "code",
        "colab": {}
      },
      "source": [
        ""
      ],
      "execution_count": 0,
      "outputs": []
    }
  ]
}